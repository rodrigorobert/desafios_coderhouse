{
 "cells": [
  {
   "cell_type": "code",
   "metadata": {
    "id": "5SrCsbmng--X",
    "executionInfo": {
     "status": "ok",
     "timestamp": 1657946211762,
     "user_tz": 180,
     "elapsed": 870,
     "user": {
      "displayName": "William Wallace",
      "userId": "02462327362597608294"
     }
    },
    "deepnote_to_be_reexecuted": false,
    "source_hash": "76dc65fe",
    "execution_start": 1658107369099,
    "execution_millis": 2475,
    "cell_id": "8e6ca1a4-e4f9-4adb-9c4c-db590ff4bbcd",
    "deepnote_cell_type": "code",
    "deepnote_cell_height": 135
   },
   "source": "#Importamos las librerias y el dataset\nimport pandas as pd\nimport numpy as np\nimport seaborn as sns",
   "execution_count": null,
   "outputs": []
  },
  {
   "cell_type": "code",
   "metadata": {
    "id": "kZb1PLw13ZIe",
    "executionInfo": {
     "status": "ok",
     "timestamp": 1657946212263,
     "user_tz": 180,
     "elapsed": 503,
     "user": {
      "displayName": "William Wallace",
      "userId": "02462327362597608294"
     }
    },
    "deepnote_to_be_reexecuted": false,
    "source_hash": "57652779",
    "execution_start": 1658107371582,
    "execution_millis": 1673,
    "cell_id": "00001-d9eefe22-85ab-411a-8701-a8c2a1921699",
    "deepnote_cell_type": "code",
    "deepnote_cell_height": 154.375
   },
   "source": "#accedo a los datos\ndf = pd.read_csv(\"hepatitis_tag.csv\", lineterminator='\\n')",
   "execution_count": null,
   "outputs": [
    {
     "name": "stderr",
     "text": "/shared-libs/python3.9/py-core/lib/python3.9/site-packages/IPython/core/interactiveshell.py:3257: DtypeWarning: Columns (10) have mixed types.Specify dtype option on import or set low_memory=False.\n  has_raised = await self.run_ast_nodes(code_ast.body, cell_name,\n",
     "output_type": "stream"
    }
   ]
  },
  {
   "cell_type": "code",
   "metadata": {
    "colab": {
     "base_uri": "https://localhost:8080/"
    },
    "id": "qhxfXueKEPEC",
    "executionInfo": {
     "status": "ok",
     "timestamp": 1657946212263,
     "user_tz": 180,
     "elapsed": 16,
     "user": {
      "displayName": "William Wallace",
      "userId": "02462327362597608294"
     }
    },
    "outputId": "34db449b-41b6-46c9-906a-f96d08f9d7e5",
    "deepnote_to_be_reexecuted": false,
    "source_hash": "d2ef76ad",
    "execution_start": 1658107373255,
    "execution_millis": 16,
    "cell_id": "00002-2565ffae-9f3c-4eb5-9925-4363326b01f2",
    "deepnote_cell_type": "code",
    "deepnote_cell_height": 200.375,
    "deepnote_output_heights": [
     null,
     21.1875
    ]
   },
   "source": "# df.shape() retorna un Tuple asi: (filas, col)\nprint('Este dataset tiene ' + str(df.shape[0]) + ' filas, y ' + str(df.shape[1]) + ' columnas.')\ndf.shape",
   "execution_count": null,
   "outputs": [
    {
     "name": "stdout",
     "text": "Este dataset tiene 50002 filas, y 40 columnas.\n",
     "output_type": "stream"
    },
    {
     "output_type": "execute_result",
     "execution_count": 3,
     "data": {
      "text/plain": "(50002, 40)"
     },
     "metadata": {}
    }
   ]
  },
  {
   "cell_type": "code",
   "metadata": {
    "colab": {
     "base_uri": "https://localhost:8080/"
    },
    "id": "H7oL9G3K4LGj",
    "executionInfo": {
     "status": "ok",
     "timestamp": 1657946212264,
     "user_tz": 180,
     "elapsed": 14,
     "user": {
      "displayName": "William Wallace",
      "userId": "02462327362597608294"
     }
    },
    "outputId": "4d07a48a-6a99-47ca-a910-6f9238b8760b",
    "deepnote_to_be_reexecuted": false,
    "source_hash": "25d43fa0",
    "execution_start": 1658107373308,
    "execution_millis": 1023314,
    "cell_id": "00003-11be30a1-151c-479e-a022-e1ba03367b2e",
    "deepnote_cell_type": "code",
    "deepnote_cell_height": 251
   },
   "source": "df.columns",
   "execution_count": null,
   "outputs": [
    {
     "output_type": "execute_result",
     "execution_count": 4,
     "data": {
      "text/plain": "Index(['Unnamed: 0', 'id', 'conversation_id', 'created_at', 'date', 'time',\n       'timezone', 'user_id', 'username', 'name', 'place', 'tweet', 'language',\n       'mentions', 'urls', 'photos', 'replies_count', 'retweets_count',\n       'likes_count', 'hashtags', 'cashtags', 'link', 'retweet', 'quote_url',\n       'video', 'thumbnail', 'near', 'geo', 'source', 'user_rt_id', 'user_rt',\n       'retweet_id', 'reply_to', 'retweet_date', 'translate', 'trans_src',\n       'trans_dest\\r', 'Unnamed: 0.1', 'tweet.1', 'sentiment'],\n      dtype='object')"
     },
     "metadata": {}
    }
   ]
  },
  {
   "cell_type": "code",
   "metadata": {
    "id": "7npRbzwX4Shj",
    "executionInfo": {
     "status": "ok",
     "timestamp": 1657946212265,
     "user_tz": 180,
     "elapsed": 11,
     "user": {
      "displayName": "William Wallace",
      "userId": "02462327362597608294"
     }
    },
    "deepnote_to_be_reexecuted": false,
    "source_hash": "751f999e",
    "execution_start": 1658107373367,
    "execution_millis": 999168,
    "cell_id": "00004-803e8704-4acf-4458-b697-4d38e9be53e7",
    "deepnote_cell_type": "code",
    "deepnote_cell_height": 81
   },
   "source": "#df.drop(['Unnamed: 0','tweet.1'], axis=1, inplace=True)",
   "execution_count": null,
   "outputs": []
  },
  {
   "cell_type": "code",
   "metadata": {
    "id": "cOBFjOm64cez",
    "executionInfo": {
     "status": "ok",
     "timestamp": 1657946212265,
     "user_tz": 180,
     "elapsed": 10,
     "user": {
      "displayName": "William Wallace",
      "userId": "02462327362597608294"
     }
    },
    "deepnote_to_be_reexecuted": false,
    "source_hash": "82f691a",
    "execution_start": 1658107373368,
    "execution_millis": 996607,
    "cell_id": "00005-0aedd0a8-7ec7-4c85-8c3f-4a3e10817fdd",
    "deepnote_cell_type": "code",
    "deepnote_cell_height": 81
   },
   "source": "#df.columns",
   "execution_count": null,
   "outputs": []
  },
  {
   "cell_type": "code",
   "metadata": {
    "colab": {
     "base_uri": "https://localhost:8080/"
    },
    "id": "RR3FEr__EKgr",
    "executionInfo": {
     "status": "ok",
     "timestamp": 1657946212711,
     "user_tz": 180,
     "elapsed": 456,
     "user": {
      "displayName": "William Wallace",
      "userId": "02462327362597608294"
     }
    },
    "outputId": "60cf983a-0ed3-40fc-c3ca-75a86c2f51b6",
    "deepnote_to_be_reexecuted": false,
    "source_hash": "14f60b8f",
    "execution_start": 1658107373369,
    "execution_millis": 994394,
    "cell_id": "00006-21fcf815-b229-4efc-ad7a-1d84680e4b3b",
    "deepnote_cell_type": "code",
    "deepnote_cell_height": 118
   },
   "source": "df.shape",
   "execution_count": null,
   "outputs": [
    {
     "output_type": "execute_result",
     "execution_count": 7,
     "data": {
      "text/plain": "(50002, 40)"
     },
     "metadata": {}
    }
   ]
  },
  {
   "cell_type": "code",
   "metadata": {
    "id": "0rJK7VF64HoW",
    "executionInfo": {
     "status": "ok",
     "timestamp": 1657946212713,
     "user_tz": 180,
     "elapsed": 40,
     "user": {
      "displayName": "William Wallace",
      "userId": "02462327362597608294"
     }
    },
    "deepnote_to_be_reexecuted": false,
    "source_hash": "92c01127",
    "execution_start": 1658107373411,
    "execution_millis": 989688,
    "cell_id": "00007-75c58df8-9a49-477b-82c1-e0680e3c11fd",
    "deepnote_cell_type": "code",
    "deepnote_cell_height": 99
   },
   "source": "df2 = pd.DataFrame()\ndf2 = df[['sentiment','replies_count','retweets_count', 'likes_count']]",
   "execution_count": null,
   "outputs": []
  },
  {
   "cell_type": "code",
   "metadata": {
    "colab": {
     "base_uri": "https://localhost:8080/"
    },
    "id": "GmFrvoxEJQcG",
    "executionInfo": {
     "status": "ok",
     "timestamp": 1657946212714,
     "user_tz": 180,
     "elapsed": 38,
     "user": {
      "displayName": "William Wallace",
      "userId": "02462327362597608294"
     }
    },
    "outputId": "0b3caf54-c305-4d9d-8b21-aebf8761e658",
    "deepnote_to_be_reexecuted": false,
    "source_hash": "48de49ab",
    "execution_start": 1658107373411,
    "execution_millis": 980440,
    "cell_id": "00008-d7d2a808-443d-481b-b4c1-eb8273383ef3",
    "deepnote_cell_type": "code",
    "deepnote_cell_height": 118
   },
   "source": "df2.shape",
   "execution_count": null,
   "outputs": [
    {
     "output_type": "execute_result",
     "execution_count": 9,
     "data": {
      "text/plain": "(50002, 4)"
     },
     "metadata": {}
    }
   ]
  },
  {
   "cell_type": "code",
   "metadata": {
    "colab": {
     "base_uri": "https://localhost:8080/"
    },
    "id": "3b7N5ug9BeqD",
    "executionInfo": {
     "status": "ok",
     "timestamp": 1657946212715,
     "user_tz": 180,
     "elapsed": 32,
     "user": {
      "displayName": "William Wallace",
      "userId": "02462327362597608294"
     }
    },
    "outputId": "068b4faf-a4b0-4aea-c683-c37638d3e382",
    "deepnote_to_be_reexecuted": false,
    "source_hash": "e7acf07c",
    "execution_start": 1658107373418,
    "execution_millis": 711,
    "cell_id": "00009-517cc03c-137a-40e5-9c66-00685b859d53",
    "deepnote_cell_type": "code",
    "deepnote_cell_height": 314.0625
   },
   "source": "df2.info()",
   "execution_count": null,
   "outputs": [
    {
     "name": "stdout",
     "text": "<class 'pandas.core.frame.DataFrame'>\nRangeIndex: 50002 entries, 0 to 50001\nData columns (total 4 columns):\n #   Column          Non-Null Count  Dtype  \n---  ------          --------------  -----  \n 0   sentiment       50002 non-null  float64\n 1   replies_count   50002 non-null  int64  \n 2   retweets_count  50002 non-null  int64  \n 3   likes_count     50002 non-null  int64  \ndtypes: float64(1), int64(3)\nmemory usage: 1.5 MB\n",
     "output_type": "stream"
    }
   ]
  },
  {
   "cell_type": "code",
   "metadata": {
    "colab": {
     "base_uri": "https://localhost:8080/"
    },
    "id": "yYhBlk4VCIhz",
    "executionInfo": {
     "status": "ok",
     "timestamp": 1657946212716,
     "user_tz": 180,
     "elapsed": 24,
     "user": {
      "displayName": "William Wallace",
      "userId": "02462327362597608294"
     }
    },
    "outputId": "de2dd6b0-47e6-431d-b581-dcd5bb124c9c",
    "deepnote_to_be_reexecuted": false,
    "source_hash": "e7acf07c",
    "execution_start": 1658107373474,
    "execution_millis": 664,
    "cell_id": "00010-9b01e36f-5a39-4707-b4d4-db61463fad23",
    "deepnote_cell_type": "code",
    "deepnote_cell_height": 314.0625
   },
   "source": "df2.info()",
   "execution_count": null,
   "outputs": [
    {
     "name": "stdout",
     "text": "<class 'pandas.core.frame.DataFrame'>\nRangeIndex: 50002 entries, 0 to 50001\nData columns (total 4 columns):\n #   Column          Non-Null Count  Dtype  \n---  ------          --------------  -----  \n 0   sentiment       50002 non-null  float64\n 1   replies_count   50002 non-null  int64  \n 2   retweets_count  50002 non-null  int64  \n 3   likes_count     50002 non-null  int64  \ndtypes: float64(1), int64(3)\nmemory usage: 1.5 MB\n",
     "output_type": "stream"
    }
   ]
  },
  {
   "cell_type": "code",
   "metadata": {
    "colab": {
     "base_uri": "https://localhost:8080/",
     "height": 676
    },
    "id": "w0jOZzfYPXAu",
    "executionInfo": {
     "status": "ok",
     "timestamp": 1657946212717,
     "user_tz": 180,
     "elapsed": 21,
     "user": {
      "displayName": "William Wallace",
      "userId": "02462327362597608294"
     }
    },
    "outputId": "b92bf37b-5857-4b2a-f5f5-557e71a7e07f",
    "deepnote_to_be_reexecuted": false,
    "source_hash": "99c74f24",
    "execution_start": 1658107373476,
    "execution_millis": 680,
    "cell_id": "00011-a8e13926-8413-4af9-b389-7336afa46301",
    "deepnote_cell_type": "code",
    "deepnote_cell_height": 600
   },
   "source": "df2.head(20)",
   "execution_count": null,
   "outputs": [
    {
     "output_type": "execute_result",
     "execution_count": 12,
     "data": {
      "application/vnd.deepnote.dataframe.v3+json": {
       "column_count": 4,
       "row_count": 20,
       "columns": [
        {
         "name": "sentiment",
         "dtype": "float64",
         "stats": {
          "unique_count": 3,
          "nan_count": 0,
          "min": "0.0",
          "max": "2.0",
          "histogram": [
           {
            "bin_start": 0,
            "bin_end": 0.2,
            "count": 16
           },
           {
            "bin_start": 0.2,
            "bin_end": 0.4,
            "count": 0
           },
           {
            "bin_start": 0.4,
            "bin_end": 0.6000000000000001,
            "count": 0
           },
           {
            "bin_start": 0.6000000000000001,
            "bin_end": 0.8,
            "count": 0
           },
           {
            "bin_start": 0.8,
            "bin_end": 1,
            "count": 0
           },
           {
            "bin_start": 1,
            "bin_end": 1.2000000000000002,
            "count": 1
           },
           {
            "bin_start": 1.2000000000000002,
            "bin_end": 1.4000000000000001,
            "count": 0
           },
           {
            "bin_start": 1.4000000000000001,
            "bin_end": 1.6,
            "count": 0
           },
           {
            "bin_start": 1.6,
            "bin_end": 1.8,
            "count": 0
           },
           {
            "bin_start": 1.8,
            "bin_end": 2,
            "count": 3
           }
          ]
         }
        },
        {
         "name": "replies_count",
         "dtype": "int64",
         "stats": {
          "unique_count": 3,
          "nan_count": 0,
          "min": "0",
          "max": "2",
          "histogram": [
           {
            "bin_start": 0,
            "bin_end": 0.2,
            "count": 15
           },
           {
            "bin_start": 0.2,
            "bin_end": 0.4,
            "count": 0
           },
           {
            "bin_start": 0.4,
            "bin_end": 0.6000000000000001,
            "count": 0
           },
           {
            "bin_start": 0.6000000000000001,
            "bin_end": 0.8,
            "count": 0
           },
           {
            "bin_start": 0.8,
            "bin_end": 1,
            "count": 0
           },
           {
            "bin_start": 1,
            "bin_end": 1.2000000000000002,
            "count": 4
           },
           {
            "bin_start": 1.2000000000000002,
            "bin_end": 1.4000000000000001,
            "count": 0
           },
           {
            "bin_start": 1.4000000000000001,
            "bin_end": 1.6,
            "count": 0
           },
           {
            "bin_start": 1.6,
            "bin_end": 1.8,
            "count": 0
           },
           {
            "bin_start": 1.8,
            "bin_end": 2,
            "count": 1
           }
          ]
         }
        },
        {
         "name": "retweets_count",
         "dtype": "int64",
         "stats": {
          "unique_count": 2,
          "nan_count": 0,
          "min": "0",
          "max": "1",
          "histogram": [
           {
            "bin_start": 0,
            "bin_end": 0.1,
            "count": 18
           },
           {
            "bin_start": 0.1,
            "bin_end": 0.2,
            "count": 0
           },
           {
            "bin_start": 0.2,
            "bin_end": 0.30000000000000004,
            "count": 0
           },
           {
            "bin_start": 0.30000000000000004,
            "bin_end": 0.4,
            "count": 0
           },
           {
            "bin_start": 0.4,
            "bin_end": 0.5,
            "count": 0
           },
           {
            "bin_start": 0.5,
            "bin_end": 0.6000000000000001,
            "count": 0
           },
           {
            "bin_start": 0.6000000000000001,
            "bin_end": 0.7000000000000001,
            "count": 0
           },
           {
            "bin_start": 0.7000000000000001,
            "bin_end": 0.8,
            "count": 0
           },
           {
            "bin_start": 0.8,
            "bin_end": 0.9,
            "count": 0
           },
           {
            "bin_start": 0.9,
            "bin_end": 1,
            "count": 2
           }
          ]
         }
        },
        {
         "name": "likes_count",
         "dtype": "int64",
         "stats": {
          "unique_count": 2,
          "nan_count": 0,
          "min": "0",
          "max": "1",
          "histogram": [
           {
            "bin_start": 0,
            "bin_end": 0.1,
            "count": 17
           },
           {
            "bin_start": 0.1,
            "bin_end": 0.2,
            "count": 0
           },
           {
            "bin_start": 0.2,
            "bin_end": 0.30000000000000004,
            "count": 0
           },
           {
            "bin_start": 0.30000000000000004,
            "bin_end": 0.4,
            "count": 0
           },
           {
            "bin_start": 0.4,
            "bin_end": 0.5,
            "count": 0
           },
           {
            "bin_start": 0.5,
            "bin_end": 0.6000000000000001,
            "count": 0
           },
           {
            "bin_start": 0.6000000000000001,
            "bin_end": 0.7000000000000001,
            "count": 0
           },
           {
            "bin_start": 0.7000000000000001,
            "bin_end": 0.8,
            "count": 0
           },
           {
            "bin_start": 0.8,
            "bin_end": 0.9,
            "count": 0
           },
           {
            "bin_start": 0.9,
            "bin_end": 1,
            "count": 3
           }
          ]
         }
        },
        {
         "name": "_deepnote_index_column",
         "dtype": "int64"
        }
       ],
       "rows": [
        {
         "sentiment": 0,
         "replies_count": 0,
         "retweets_count": 0,
         "likes_count": 0,
         "_deepnote_index_column": 0
        },
        {
         "sentiment": 0,
         "replies_count": 0,
         "retweets_count": 0,
         "likes_count": 0,
         "_deepnote_index_column": 1
        },
        {
         "sentiment": 2,
         "replies_count": 0,
         "retweets_count": 0,
         "likes_count": 0,
         "_deepnote_index_column": 2
        },
        {
         "sentiment": 0,
         "replies_count": 0,
         "retweets_count": 0,
         "likes_count": 0,
         "_deepnote_index_column": 3
        },
        {
         "sentiment": 0,
         "replies_count": 0,
         "retweets_count": 0,
         "likes_count": 0,
         "_deepnote_index_column": 4
        },
        {
         "sentiment": 0,
         "replies_count": 0,
         "retweets_count": 0,
         "likes_count": 0,
         "_deepnote_index_column": 5
        },
        {
         "sentiment": 0,
         "replies_count": 1,
         "retweets_count": 0,
         "likes_count": 0,
         "_deepnote_index_column": 6
        },
        {
         "sentiment": 0,
         "replies_count": 1,
         "retweets_count": 0,
         "likes_count": 0,
         "_deepnote_index_column": 7
        },
        {
         "sentiment": 0,
         "replies_count": 0,
         "retweets_count": 0,
         "likes_count": 0,
         "_deepnote_index_column": 8
        },
        {
         "sentiment": 2,
         "replies_count": 0,
         "retweets_count": 1,
         "likes_count": 1,
         "_deepnote_index_column": 9
        }
       ]
      },
      "text/plain": "    sentiment  replies_count  retweets_count  likes_count\n0         0.0              0               0            0\n1         0.0              0               0            0\n2         2.0              0               0            0\n3         0.0              0               0            0\n4         0.0              0               0            0\n5         0.0              0               0            0\n6         0.0              1               0            0\n7         0.0              1               0            0\n8         0.0              0               0            0\n9         2.0              0               1            1\n10        0.0              0               0            0\n11        2.0              2               0            1\n12        0.0              0               0            0\n13        0.0              0               0            0\n14        1.0              0               0            0\n15        0.0              0               0            0\n16        0.0              0               1            1\n17        0.0              0               0            0\n18        0.0              1               0            0\n19        0.0              1               0            0",
      "text/html": "<div>\n<style scoped>\n    .dataframe tbody tr th:only-of-type {\n        vertical-align: middle;\n    }\n\n    .dataframe tbody tr th {\n        vertical-align: top;\n    }\n\n    .dataframe thead th {\n        text-align: right;\n    }\n</style>\n<table border=\"1\" class=\"dataframe\">\n  <thead>\n    <tr style=\"text-align: right;\">\n      <th></th>\n      <th>sentiment</th>\n      <th>replies_count</th>\n      <th>retweets_count</th>\n      <th>likes_count</th>\n    </tr>\n  </thead>\n  <tbody>\n    <tr>\n      <th>0</th>\n      <td>0.0</td>\n      <td>0</td>\n      <td>0</td>\n      <td>0</td>\n    </tr>\n    <tr>\n      <th>1</th>\n      <td>0.0</td>\n      <td>0</td>\n      <td>0</td>\n      <td>0</td>\n    </tr>\n    <tr>\n      <th>2</th>\n      <td>2.0</td>\n      <td>0</td>\n      <td>0</td>\n      <td>0</td>\n    </tr>\n    <tr>\n      <th>3</th>\n      <td>0.0</td>\n      <td>0</td>\n      <td>0</td>\n      <td>0</td>\n    </tr>\n    <tr>\n      <th>4</th>\n      <td>0.0</td>\n      <td>0</td>\n      <td>0</td>\n      <td>0</td>\n    </tr>\n    <tr>\n      <th>5</th>\n      <td>0.0</td>\n      <td>0</td>\n      <td>0</td>\n      <td>0</td>\n    </tr>\n    <tr>\n      <th>6</th>\n      <td>0.0</td>\n      <td>1</td>\n      <td>0</td>\n      <td>0</td>\n    </tr>\n    <tr>\n      <th>7</th>\n      <td>0.0</td>\n      <td>1</td>\n      <td>0</td>\n      <td>0</td>\n    </tr>\n    <tr>\n      <th>8</th>\n      <td>0.0</td>\n      <td>0</td>\n      <td>0</td>\n      <td>0</td>\n    </tr>\n    <tr>\n      <th>9</th>\n      <td>2.0</td>\n      <td>0</td>\n      <td>1</td>\n      <td>1</td>\n    </tr>\n    <tr>\n      <th>10</th>\n      <td>0.0</td>\n      <td>0</td>\n      <td>0</td>\n      <td>0</td>\n    </tr>\n    <tr>\n      <th>11</th>\n      <td>2.0</td>\n      <td>2</td>\n      <td>0</td>\n      <td>1</td>\n    </tr>\n    <tr>\n      <th>12</th>\n      <td>0.0</td>\n      <td>0</td>\n      <td>0</td>\n      <td>0</td>\n    </tr>\n    <tr>\n      <th>13</th>\n      <td>0.0</td>\n      <td>0</td>\n      <td>0</td>\n      <td>0</td>\n    </tr>\n    <tr>\n      <th>14</th>\n      <td>1.0</td>\n      <td>0</td>\n      <td>0</td>\n      <td>0</td>\n    </tr>\n    <tr>\n      <th>15</th>\n      <td>0.0</td>\n      <td>0</td>\n      <td>0</td>\n      <td>0</td>\n    </tr>\n    <tr>\n      <th>16</th>\n      <td>0.0</td>\n      <td>0</td>\n      <td>1</td>\n      <td>1</td>\n    </tr>\n    <tr>\n      <th>17</th>\n      <td>0.0</td>\n      <td>0</td>\n      <td>0</td>\n      <td>0</td>\n    </tr>\n    <tr>\n      <th>18</th>\n      <td>0.0</td>\n      <td>1</td>\n      <td>0</td>\n      <td>0</td>\n    </tr>\n    <tr>\n      <th>19</th>\n      <td>0.0</td>\n      <td>1</td>\n      <td>0</td>\n      <td>0</td>\n    </tr>\n  </tbody>\n</table>\n</div>"
     },
     "metadata": {}
    }
   ]
  },
  {
   "cell_type": "code",
   "metadata": {
    "colab": {
     "base_uri": "https://localhost:8080/",
     "height": 427
    },
    "id": "1nZZuCYRGLCI",
    "executionInfo": {
     "status": "ok",
     "timestamp": 1657946213130,
     "user_tz": 180,
     "elapsed": 432,
     "user": {
      "displayName": "William Wallace",
      "userId": "02462327362597608294"
     }
    },
    "outputId": "d4d4ca03-73de-4e73-dc87-59152f60693c",
    "deepnote_to_be_reexecuted": false,
    "source_hash": "dc76258d",
    "execution_start": 1658107373521,
    "execution_millis": 643,
    "cell_id": "00012-d98b349a-3b91-46ee-82c3-438b088c3ded",
    "deepnote_cell_type": "code",
    "deepnote_cell_height": 598.9375,
    "deepnote_output_heights": [
     null,
     321
    ]
   },
   "source": "print(df2.corr())\n  \n# plotting correlation heatmap\ndataplot = sns.heatmap(df2.corr(), cmap=\"YlGnBu\", annot=True)",
   "execution_count": null,
   "outputs": [
    {
     "name": "stdout",
     "text": "                sentiment  replies_count  retweets_count  likes_count\nsentiment        1.000000       0.027949        0.001232     0.005944\nreplies_count    0.027949       1.000000        0.588400     0.613709\nretweets_count   0.001232       0.588400        1.000000     0.970830\nlikes_count      0.005944       0.613709        0.970830     1.000000\n",
     "output_type": "stream"
    },
    {
     "data": {
      "text/plain": "<Figure size 432x288 with 2 Axes>",
      "image/png": "[encoded data removed]"
     },
     "metadata": {
      "needs_background": "light",
      "image/png": {
       "width": 416,
       "height": 319
      }
     },
     "output_type": "display_data"
    }
   ]
  },
  {
   "cell_type": "code",
   "metadata": {
    "id": "BHQs_xav4_u2",
    "executionInfo": {
     "status": "ok",
     "timestamp": 1657946213131,
     "user_tz": 180,
     "elapsed": 32,
     "user": {
      "displayName": "William Wallace",
      "userId": "02462327362597608294"
     }
    },
    "deepnote_to_be_reexecuted": false,
    "source_hash": "1dbd5f50",
    "execution_start": 1658107374167,
    "execution_millis": 11,
    "cell_id": "00013-47f69f87-1c2d-4405-a16f-a19a3a877980",
    "deepnote_cell_type": "code",
    "deepnote_cell_height": 99
   },
   "source": "X = df2.drop(\"sentiment\", axis=1) #Elimino de mi dataset la variable a predecir\ny = df2.sentiment #Defino el Target",
   "execution_count": null,
   "outputs": []
  },
  {
   "cell_type": "code",
   "metadata": {
    "colab": {
     "base_uri": "https://localhost:8080/",
     "height": 423
    },
    "id": "vy3UhBmb_DzS",
    "executionInfo": {
     "status": "ok",
     "timestamp": 1657946213132,
     "user_tz": 180,
     "elapsed": 32,
     "user": {
      "displayName": "William Wallace",
      "userId": "02462327362597608294"
     }
    },
    "outputId": "a043b8a9-0479-48b3-8a2b-8f6d95b5f3e1",
    "deepnote_to_be_reexecuted": false,
    "source_hash": "b2696ff6",
    "execution_start": 1658107374213,
    "execution_millis": 55,
    "cell_id": "00014-bec1723e-b52c-43d1-a36a-e8dde12fdc36",
    "deepnote_cell_type": "code",
    "deepnote_cell_height": 600
   },
   "source": "X",
   "execution_count": null,
   "outputs": [
    {
     "output_type": "execute_result",
     "execution_count": 15,
     "data": {
      "application/vnd.deepnote.dataframe.v3+json": {
       "column_count": 3,
       "row_count": 50002,
       "columns": [
        {
         "name": "replies_count",
         "dtype": "int64",
         "stats": {
          "unique_count": 135,
          "nan_count": 0,
          "min": "0",
          "max": "1318",
          "histogram": [
           {
            "bin_start": 0,
            "bin_end": 131.8,
            "count": 49964
           },
           {
            "bin_start": 131.8,
            "bin_end": 263.6,
            "count": 25
           },
           {
            "bin_start": 263.6,
            "bin_end": 395.40000000000003,
            "count": 6
           },
           {
            "bin_start": 395.40000000000003,
            "bin_end": 527.2,
            "count": 3
           },
           {
            "bin_start": 527.2,
            "bin_end": 659,
            "count": 2
           },
           {
            "bin_start": 659,
            "bin_end": 790.8000000000001,
            "count": 0
           },
           {
            "bin_start": 790.8000000000001,
            "bin_end": 922.6000000000001,
            "count": 0
           },
           {
            "bin_start": 922.6000000000001,
            "bin_end": 1054.4,
            "count": 1
           },
           {
            "bin_start": 1054.4,
            "bin_end": 1186.2,
            "count": 0
           },
           {
            "bin_start": 1186.2,
            "bin_end": 1318,
            "count": 1
           }
          ]
         }
        },
        {
         "name": "retweets_count",
         "dtype": "int64"
        },
        {
         "name": "likes_count",
         "dtype": "int64"
        },
        {
         "name": "_deepnote_index_column",
         "dtype": "int64"
        }
       ],
       "rows": [
        {
         "replies_count": 0,
         "retweets_count": 0,
         "likes_count": 0,
         "_deepnote_index_column": 0
        },
        {
         "replies_count": 0,
         "retweets_count": 0,
         "likes_count": 0,
         "_deepnote_index_column": 1
        },
        {
         "replies_count": 0,
         "retweets_count": 0,
         "likes_count": 0,
         "_deepnote_index_column": 2
        },
        {
         "replies_count": 0,
         "retweets_count": 0,
         "likes_count": 0,
         "_deepnote_index_column": 3
        },
        {
         "replies_count": 0,
         "retweets_count": 0,
         "likes_count": 0,
         "_deepnote_index_column": 4
        },
        {
         "replies_count": 0,
         "retweets_count": 0,
         "likes_count": 0,
         "_deepnote_index_column": 5
        },
        {
         "replies_count": 1,
         "retweets_count": 0,
         "likes_count": 0,
         "_deepnote_index_column": 6
        },
        {
         "replies_count": 1,
         "retweets_count": 0,
         "likes_count": 0,
         "_deepnote_index_column": 7
        },
        {
         "replies_count": 0,
         "retweets_count": 0,
         "likes_count": 0,
         "_deepnote_index_column": 8
        },
        {
         "replies_count": 0,
         "retweets_count": 1,
         "likes_count": 1,
         "_deepnote_index_column": 9
        }
       ]
      },
      "text/plain": "       replies_count  retweets_count  likes_count\n0                  0               0            0\n1                  0               0            0\n2                  0               0            0\n3                  0               0            0\n4                  0               0            0\n...              ...             ...          ...\n49997              0               2            5\n49998              0               0            0\n49999              1               0            1\n50000              0               0            0\n50001              0               0            2\n\n[50002 rows x 3 columns]",
      "text/html": "<div>\n<style scoped>\n    .dataframe tbody tr th:only-of-type {\n        vertical-align: middle;\n    }\n\n    .dataframe tbody tr th {\n        vertical-align: top;\n    }\n\n    .dataframe thead th {\n        text-align: right;\n    }\n</style>\n<table border=\"1\" class=\"dataframe\">\n  <thead>\n    <tr style=\"text-align: right;\">\n      <th></th>\n      <th>replies_count</th>\n      <th>retweets_count</th>\n      <th>likes_count</th>\n    </tr>\n  </thead>\n  <tbody>\n    <tr>\n      <th>0</th>\n      <td>0</td>\n      <td>0</td>\n      <td>0</td>\n    </tr>\n    <tr>\n      <th>1</th>\n      <td>0</td>\n      <td>0</td>\n      <td>0</td>\n    </tr>\n    <tr>\n      <th>2</th>\n      <td>0</td>\n      <td>0</td>\n      <td>0</td>\n    </tr>\n    <tr>\n      <th>3</th>\n      <td>0</td>\n      <td>0</td>\n      <td>0</td>\n    </tr>\n    <tr>\n      <th>4</th>\n      <td>0</td>\n      <td>0</td>\n      <td>0</td>\n    </tr>\n    <tr>\n      <th>...</th>\n      <td>...</td>\n      <td>...</td>\n      <td>...</td>\n    </tr>\n    <tr>\n      <th>49997</th>\n      <td>0</td>\n      <td>2</td>\n      <td>5</td>\n    </tr>\n    <tr>\n      <th>49998</th>\n      <td>0</td>\n      <td>0</td>\n      <td>0</td>\n    </tr>\n    <tr>\n      <th>49999</th>\n      <td>1</td>\n      <td>0</td>\n      <td>1</td>\n    </tr>\n    <tr>\n      <th>50000</th>\n      <td>0</td>\n      <td>0</td>\n      <td>0</td>\n    </tr>\n    <tr>\n      <th>50001</th>\n      <td>0</td>\n      <td>0</td>\n      <td>2</td>\n    </tr>\n  </tbody>\n</table>\n<p>50002 rows × 3 columns</p>\n</div>"
     },
     "metadata": {}
    }
   ]
  },
  {
   "cell_type": "code",
   "metadata": {
    "id": "IhHpGhE1IMJg",
    "executionInfo": {
     "status": "ok",
     "timestamp": 1657946213134,
     "user_tz": 180,
     "elapsed": 32,
     "user": {
      "displayName": "William Wallace",
      "userId": "02462327362597608294"
     }
    },
    "deepnote_to_be_reexecuted": false,
    "source_hash": "866b8212",
    "execution_start": 1658107374272,
    "execution_millis": 154,
    "cell_id": "00015-5947071d-07c6-4540-8d0a-66b3fb25fbe6",
    "deepnote_cell_type": "code",
    "deepnote_cell_height": 81
   },
   "source": "from sklearn.preprocessing import StandardScaler",
   "execution_count": null,
   "outputs": []
  },
  {
   "cell_type": "code",
   "metadata": {
    "colab": {
     "base_uri": "https://localhost:8080/"
    },
    "id": "Aq-QQISsHfOQ",
    "executionInfo": {
     "status": "ok",
     "timestamp": 1657946213135,
     "user_tz": 180,
     "elapsed": 33,
     "user": {
      "displayName": "William Wallace",
      "userId": "02462327362597608294"
     }
    },
    "outputId": "f6ea5747-c933-4693-b1e1-b378e9ba16e4",
    "deepnote_to_be_reexecuted": false,
    "source_hash": "4c71d1fb",
    "execution_start": 1658107374435,
    "execution_millis": 19,
    "cell_id": "00016-e85abb40-ef89-4a71-bedb-1b21e7757407",
    "deepnote_cell_type": "code",
    "deepnote_cell_height": 286
   },
   "source": "ss = StandardScaler()\n# (with_mean=False, with_std=False)\nX = ss.fit_transform(X)\nX",
   "execution_count": null,
   "outputs": [
    {
     "output_type": "execute_result",
     "execution_count": 17,
     "data": {
      "text/plain": "array([[-0.08864567, -0.02976966, -0.03250667],\n       [-0.08864567, -0.02976966, -0.03250667],\n       [-0.08864567, -0.02976966, -0.03250667],\n       ...,\n       [ 0.00051892, -0.02976966, -0.03083781],\n       [-0.08864567, -0.02976966, -0.03250667],\n       [-0.08864567, -0.02976966, -0.02916895]])"
     },
     "metadata": {}
    }
   ]
  },
  {
   "cell_type": "code",
   "metadata": {
    "id": "xJ_lJGr56VIV",
    "executionInfo": {
     "status": "ok",
     "timestamp": 1657946213136,
     "user_tz": 180,
     "elapsed": 32,
     "user": {
      "displayName": "William Wallace",
      "userId": "02462327362597608294"
     }
    },
    "deepnote_to_be_reexecuted": false,
    "source_hash": "ef639279",
    "execution_start": 1658107374457,
    "execution_millis": 68,
    "cell_id": "00017-06f7d63f-c185-433f-b5d9-9b2010783973",
    "deepnote_cell_type": "code",
    "deepnote_cell_height": 153
   },
   "source": "#Importamos la libreria para separar en train y test\nfrom sklearn.model_selection import train_test_split \n\n#Me quedo con 30% para test y 70% para train\nX_train, X_test, y_train, y_test = train_test_split(X, y, test_size=0.30, random_state=42) ",
   "execution_count": null,
   "outputs": []
  },
  {
   "cell_type": "markdown",
   "source": "## ARBOL DE DECISIÓN ",
   "metadata": {
    "id": "4Vq1cbPpK3X7",
    "cell_id": "00018-5f7b0ce3-7fa0-4f0c-8c38-4ba37147da51",
    "deepnote_cell_type": "markdown",
    "deepnote_cell_height": 70
   }
  },
  {
   "cell_type": "code",
   "metadata": {
    "id": "ZzaZIpAn6ZOj",
    "executionInfo": {
     "status": "ok",
     "timestamp": 1657946213138,
     "user_tz": 180,
     "elapsed": 33,
     "user": {
      "displayName": "William Wallace",
      "userId": "02462327362597608294"
     }
    },
    "deepnote_to_be_reexecuted": false,
    "source_hash": "54ca8f",
    "execution_start": 1658107374531,
    "execution_millis": 114,
    "cell_id": "00019-5be88123-80e2-4905-abde-91a6c1083c0f",
    "deepnote_cell_type": "code",
    "deepnote_cell_height": 99
   },
   "source": "from sklearn.tree import DecisionTreeClassifier #Importamos el modelo\ntree = DecisionTreeClassifier(max_depth=3, random_state = 42) #Creamos el modelo",
   "execution_count": null,
   "outputs": []
  },
  {
   "cell_type": "code",
   "metadata": {
    "colab": {
     "base_uri": "https://localhost:8080/"
    },
    "id": "U3-IQ-2I6bkC",
    "executionInfo": {
     "status": "ok",
     "timestamp": 1657946213140,
     "user_tz": 180,
     "elapsed": 35,
     "user": {
      "displayName": "William Wallace",
      "userId": "02462327362597608294"
     }
    },
    "outputId": "45caeff6-12fc-4848-91c0-311d7b4a4780",
    "deepnote_to_be_reexecuted": false,
    "source_hash": "9c8c04b5",
    "execution_start": 1658107374650,
    "execution_millis": 37,
    "cell_id": "00020-131a88c1-8d89-4f03-80c3-4fc823f18611",
    "deepnote_cell_type": "code",
    "deepnote_cell_height": 175
   },
   "source": "#Entrenamos el modelo\ntree.fit(X_train,y_train)",
   "execution_count": null,
   "outputs": [
    {
     "output_type": "execute_result",
     "execution_count": 20,
     "data": {
      "text/plain": "DecisionTreeClassifier(max_depth=3, random_state=42)",
      "text/html": "<style>#sk-container-id-1 {color: black;background-color: white;}#sk-container-id-1 pre{padding: 0;}#sk-container-id-1 div.sk-toggleable {background-color: white;}#sk-container-id-1 label.sk-toggleable__label {cursor: pointer;display: block;width: 100%;margin-bottom: 0;padding: 0.3em;box-sizing: border-box;text-align: center;}#sk-container-id-1 label.sk-toggleable__label-arrow:before {content: \"▸\";float: left;margin-right: 0.25em;color: #696969;}#sk-container-id-1 label.sk-toggleable__label-arrow:hover:before {color: black;}#sk-container-id-1 div.sk-estimator:hover label.sk-toggleable__label-arrow:before {color: black;}#sk-container-id-1 div.sk-toggleable__content {max-height: 0;max-width: 0;overflow: hidden;text-align: left;background-color: #f0f8ff;}#sk-container-id-1 div.sk-toggleable__content pre {margin: 0.2em;color: black;border-radius: 0.25em;background-color: #f0f8ff;}#sk-container-id-1 input.sk-toggleable__control:checked~div.sk-toggleable__content {max-height: 200px;max-width: 100%;overflow: auto;}#sk-container-id-1 input.sk-toggleable__control:checked~label.sk-toggleable__label-arrow:before {content: \"▾\";}#sk-container-id-1 div.sk-estimator input.sk-toggleable__control:checked~label.sk-toggleable__label {background-color: #d4ebff;}#sk-container-id-1 div.sk-label input.sk-toggleable__control:checked~label.sk-toggleable__label {background-color: #d4ebff;}#sk-container-id-1 input.sk-hidden--visually {border: 0;clip: rect(1px 1px 1px 1px);clip: rect(1px, 1px, 1px, 1px);height: 1px;margin: -1px;overflow: hidden;padding: 0;position: absolute;width: 1px;}#sk-container-id-1 div.sk-estimator {font-family: monospace;background-color: #f0f8ff;border: 1px dotted black;border-radius: 0.25em;box-sizing: border-box;margin-bottom: 0.5em;}#sk-container-id-1 div.sk-estimator:hover {background-color: #d4ebff;}#sk-container-id-1 div.sk-parallel-item::after {content: \"\";width: 100%;border-bottom: 1px solid gray;flex-grow: 1;}#sk-container-id-1 div.sk-label:hover label.sk-toggleable__label {background-color: #d4ebff;}#sk-container-id-1 div.sk-serial::before {content: \"\";position: absolute;border-left: 1px solid gray;box-sizing: border-box;top: 0;bottom: 0;left: 50%;z-index: 0;}#sk-container-id-1 div.sk-serial {display: flex;flex-direction: column;align-items: center;background-color: white;padding-right: 0.2em;padding-left: 0.2em;position: relative;}#sk-container-id-1 div.sk-item {position: relative;z-index: 1;}#sk-container-id-1 div.sk-parallel {display: flex;align-items: stretch;justify-content: center;background-color: white;position: relative;}#sk-container-id-1 div.sk-item::before, #sk-container-id-1 div.sk-parallel-item::before {content: \"\";position: absolute;border-left: 1px solid gray;box-sizing: border-box;top: 0;bottom: 0;left: 50%;z-index: -1;}#sk-container-id-1 div.sk-parallel-item {display: flex;flex-direction: column;z-index: 1;position: relative;background-color: white;}#sk-container-id-1 div.sk-parallel-item:first-child::after {align-self: flex-end;width: 50%;}#sk-container-id-1 div.sk-parallel-item:last-child::after {align-self: flex-start;width: 50%;}#sk-container-id-1 div.sk-parallel-item:only-child::after {width: 0;}#sk-container-id-1 div.sk-dashed-wrapped {border: 1px dashed gray;margin: 0 0.4em 0.5em 0.4em;box-sizing: border-box;padding-bottom: 0.4em;background-color: white;}#sk-container-id-1 div.sk-label label {font-family: monospace;font-weight: bold;display: inline-block;line-height: 1.2em;}#sk-container-id-1 div.sk-label-container {text-align: center;}#sk-container-id-1 div.sk-container {/* jupyter's `normalize.less` sets `[hidden] { display: none; }` but bootstrap.min.css set `[hidden] { display: none !important; }` so we also need the `!important` here to be able to override the default hidden behavior on the sphinx rendered scikit-learn.org. See: https://github.com/scikit-learn/scikit-learn/issues/21755 */display: inline-block !important;position: relative;}#sk-container-id-1 div.sk-text-repr-fallback {display: none;}</style><div id=\"sk-container-id-1\" class=\"sk-top-container\"><div class=\"sk-text-repr-fallback\"><pre>DecisionTreeClassifier(max_depth=3, random_state=42)</pre><b>In a Jupyter environment, please rerun this cell to show the HTML representation or trust the notebook. <br />On GitHub, the HTML representation is unable to render, please try loading this page with nbviewer.org.</b></div><div class=\"sk-container\" hidden><div class=\"sk-item\"><div class=\"sk-estimator sk-toggleable\"><input class=\"sk-toggleable__control sk-hidden--visually\" id=\"sk-estimator-id-1\" type=\"checkbox\" checked><label for=\"sk-estimator-id-1\" class=\"sk-toggleable__label sk-toggleable__label-arrow\">DecisionTreeClassifier</label><div class=\"sk-toggleable__content\"><pre>DecisionTreeClassifier(max_depth=3, random_state=42)</pre></div></div></div></div></div>"
     },
     "metadata": {}
    }
   ]
  },
  {
   "cell_type": "code",
   "metadata": {
    "id": "gtXB0ga26d5o",
    "executionInfo": {
     "status": "ok",
     "timestamp": 1657946213142,
     "user_tz": 180,
     "elapsed": 34,
     "user": {
      "displayName": "William Wallace",
      "userId": "02462327362597608294"
     }
    },
    "deepnote_to_be_reexecuted": false,
    "source_hash": "62e9014f",
    "execution_start": 1658107374704,
    "execution_millis": 14,
    "cell_id": "00021-ca3b55e5-28d8-4bec-b1de-7835310b377c",
    "deepnote_cell_type": "code",
    "deepnote_cell_height": 99
   },
   "source": "y_train_pred = tree.predict(X_train) #Prediccion en Train\ny_test_pred = tree.predict(X_test) #Prediccion en Test",
   "execution_count": null,
   "outputs": []
  },
  {
   "cell_type": "code",
   "metadata": {
    "colab": {
     "base_uri": "https://localhost:8080/"
    },
    "id": "gmzvT5beJoYA",
    "executionInfo": {
     "status": "ok",
     "timestamp": 1657946213146,
     "user_tz": 180,
     "elapsed": 38,
     "user": {
      "displayName": "William Wallace",
      "userId": "02462327362597608294"
     }
    },
    "outputId": "f24c3fc2-20a9-4603-9570-2522e6b20476",
    "deepnote_to_be_reexecuted": false,
    "source_hash": "c7c6dbc6",
    "execution_start": 1658107374724,
    "execution_millis": 20,
    "cell_id": "00022-5dfd52d7-e78a-4aa4-9471-ec479fc11da5",
    "deepnote_cell_type": "code",
    "deepnote_cell_height": 294.375
   },
   "source": "from sklearn.metrics import accuracy_score\n\n#Calculo el accuracy en Train\ntrain_accuracy = accuracy_score(y_train, y_train_pred)\n\n#Calculo el accuracy en Test\ntest_accuracy = accuracy_score(y_test, y_test_pred)\n\nprint(f'% de aciertos sobre el set de entrenamiento: {train_accuracy:2.2%}')\nprint(f'% de aciertos sobre el set de evaluación: {test_accuracy:2.2%}')",
   "execution_count": null,
   "outputs": [
    {
     "name": "stdout",
     "text": "% de aciertos sobre el set de entrenamiento: 71.10%\n% de aciertos sobre el set de evaluación: 69.80%\n",
     "output_type": "stream"
    }
   ]
  },
  {
   "cell_type": "code",
   "metadata": {
    "id": "gF97T39UN2ym",
    "executionInfo": {
     "status": "ok",
     "timestamp": 1657946213149,
     "user_tz": 180,
     "elapsed": 37,
     "user": {
      "displayName": "William Wallace",
      "userId": "02462327362597608294"
     }
    },
    "deepnote_to_be_reexecuted": false,
    "source_hash": "f2eb15d7",
    "execution_start": 1658107374755,
    "execution_millis": 7,
    "cell_id": "00023-0363ea02-88df-4e36-937f-e54275d393df",
    "deepnote_cell_type": "code",
    "deepnote_cell_height": 81
   },
   "source": "from sklearn.metrics import classification_report, confusion_matrix, accuracy_score",
   "execution_count": null,
   "outputs": []
  },
  {
   "cell_type": "code",
   "metadata": {
    "colab": {
     "base_uri": "https://localhost:8080/"
    },
    "id": "410JVzAMNkp-",
    "executionInfo": {
     "status": "ok",
     "timestamp": 1657946213150,
     "user_tz": 180,
     "elapsed": 37,
     "user": {
      "displayName": "William Wallace",
      "userId": "02462327362597608294"
     }
    },
    "outputId": "944d4eb6-7342-4869-ca46-313ae14dfa2d",
    "deepnote_to_be_reexecuted": false,
    "source_hash": "8141e5d3",
    "execution_start": 1658107374769,
    "execution_millis": 122,
    "cell_id": "00024-90a6c2f1-984a-4680-96b2-c6bde95a2415",
    "deepnote_cell_type": "code",
    "deepnote_cell_height": 419
   },
   "source": "print(classification_report(y_true=y_test,y_pred=tree.predict(X_test)))",
   "execution_count": null,
   "outputs": [
    {
     "name": "stdout",
     "text": "              precision    recall  f1-score   support\n\n         0.0       0.70      1.00      0.82     10471\n         1.0       0.00      0.00      0.00      3155\n         2.0       0.00      0.00      0.00      1375\n\n    accuracy                           0.70     15001\n   macro avg       0.23      0.33      0.27     15001\nweighted avg       0.49      0.70      0.57     15001\n\n/shared-libs/python3.9/py/lib/python3.9/site-packages/sklearn/metrics/_classification.py:1327: UndefinedMetricWarning: Precision and F-score are ill-defined and being set to 0.0 in labels with no predicted samples. Use `zero_division` parameter to control this behavior.\n  _warn_prf(average, modifier, msg_start, len(result))\n/shared-libs/python3.9/py/lib/python3.9/site-packages/sklearn/metrics/_classification.py:1327: UndefinedMetricWarning: Precision and F-score are ill-defined and being set to 0.0 in labels with no predicted samples. Use `zero_division` parameter to control this behavior.\n  _warn_prf(average, modifier, msg_start, len(result))\n/shared-libs/python3.9/py/lib/python3.9/site-packages/sklearn/metrics/_classification.py:1327: UndefinedMetricWarning: Precision and F-score are ill-defined and being set to 0.0 in labels with no predicted samples. Use `zero_division` parameter to control this behavior.\n  _warn_prf(average, modifier, msg_start, len(result))\n",
     "output_type": "stream"
    }
   ]
  },
  {
   "cell_type": "code",
   "metadata": {
    "id": "1rtiw13OJqmS",
    "executionInfo": {
     "status": "ok",
     "timestamp": 1657946213152,
     "user_tz": 180,
     "elapsed": 34,
     "user": {
      "displayName": "William Wallace",
      "userId": "02462327362597608294"
     }
    },
    "deepnote_to_be_reexecuted": false,
    "source_hash": "905b74a8",
    "execution_start": 1658107374902,
    "cell_id": "00025-506f7931-f6b7-4b4e-b166-6f8187521c8e",
    "execution_millis": 27,
    "deepnote_cell_type": "code",
    "deepnote_cell_height": 261
   },
   "source": "#Importancia de las variables\n\nimport matplotlib.pyplot as plt\nimport seaborn as sns\n\n# plt.figure(figsize=(15,15))\n# importances = tree.feature_importances_\n# columns = X.columns\n# sns.barplot(columns, importances)\n# plt.title('Importancia de cada Feature')\n# plt.show()",
   "execution_count": null,
   "outputs": []
  },
  {
   "cell_type": "code",
   "metadata": {
    "id": "vF-8vdvwOmYW",
    "executionInfo": {
     "status": "ok",
     "timestamp": 1657946213580,
     "user_tz": 180,
     "elapsed": 461,
     "user": {
      "displayName": "William Wallace",
      "userId": "02462327362597608294"
     }
    },
    "deepnote_to_be_reexecuted": false,
    "source_hash": "53f85183",
    "execution_start": 1658107374940,
    "execution_millis": 1073,
    "cell_id": "00026-7afcc98f-146e-46db-941f-aa82af1df4a5",
    "deepnote_cell_type": "code",
    "deepnote_cell_height": 279
   },
   "source": "profundidad = list(range(1,20))\nresultados_train = []\nresultados_test  = []\n\nfor depth in profundidad:\n    # instanciamos el modelo uniforme\n    arbol = DecisionTreeClassifier(criterion='gini', max_depth=depth, min_samples_leaf=1, min_samples_split=2, ccp_alpha=0, class_weight=\"balanced\")\n    arbol.fit(X_train, y_train)\n    y_train_pred = arbol.predict(X_train)\n    y_pred = arbol.predict(X_test)\n    resultados_train.append(accuracy_score(y_train, y_train_pred))\n    resultados_test.append(accuracy_score(y_test, y_pred))",
   "execution_count": null,
   "outputs": []
  },
  {
   "cell_type": "code",
   "metadata": {
    "colab": {
     "base_uri": "https://localhost:8080/",
     "height": 337
    },
    "id": "ArxKoQSeOqkv",
    "executionInfo": {
     "status": "ok",
     "timestamp": 1657946214176,
     "user_tz": 180,
     "elapsed": 599,
     "user": {
      "displayName": "William Wallace",
      "userId": "02462327362597608294"
     }
    },
    "outputId": "5220ac16-9b04-4478-b70c-b577b51b6893",
    "deepnote_to_be_reexecuted": false,
    "source_hash": "1fa9177a",
    "execution_start": 1658108171015,
    "execution_millis": 462,
    "cell_id": "00027-4f6ab7ec-2093-44bb-be8d-ff2c796b0e89",
    "deepnote_cell_type": "code",
    "deepnote_cell_height": 425,
    "deepnote_output_heights": [
     238
    ]
   },
   "source": "# veamos que paso en cada caso\nf, ax = plt.subplots(1,1,figsize=(14,5),sharey=True)\nax.plot(profundidad, resultados_train, profundidad, resultados_test);\nplt.grid()\nax.legend(['accuracy train', 'accuracy test']);\nax.set(xlabel='profundidad',ylabel='accuracy');",
   "execution_count": null,
   "outputs": [
    {
     "data": {
      "text/plain": "<Figure size 1008x360 with 1 Axes>",
      "image/png": "[encoded data removed]"
     },
     "metadata": {
      "needs_background": "light",
      "image/png": {
       "width": 838,
       "height": 321
      }
     },
     "output_type": "display_data"
    }
   ]
  },
  {
   "cell_type": "code",
   "metadata": {
    "colab": {
     "base_uri": "https://localhost:8080/"
    },
    "id": "g06OsHqTO24K",
    "executionInfo": {
     "status": "ok",
     "timestamp": 1657946214178,
     "user_tz": 180,
     "elapsed": 15,
     "user": {
      "displayName": "William Wallace",
      "userId": "02462327362597608294"
     }
    },
    "outputId": "273cad8c-09f5-465d-f0e7-394a4362d3d7",
    "deepnote_to_be_reexecuted": false,
    "source_hash": "4363b537",
    "execution_start": 1658108171560,
    "execution_millis": 78,
    "cell_id": "00028-6012e5fe-4162-426f-8310-5ca8712b2622",
    "deepnote_cell_type": "code",
    "deepnote_cell_height": 244.375
   },
   "source": "# veamos que pasa con un árbol sin corte de profundidad\nnp.random.seed(2021)\narbol = DecisionTreeClassifier(criterion='gini', ccp_alpha=0)\narbol.fit(X_train, y_train)\n#print(classification_report(y_true=y_test,y_pred=arbol.predict(X_test)))\nprint('Exactitud en entrenamiento: %f' % accuracy_score(y_train,arbol.predict(X_train))*100)\nprint('Exactitud en test: %f' % accuracy_score(y_test,arbol.predict(X_test))*100)",
   "execution_count": null,
   "outputs": [
    {
     "name": "stdout",
     "text": "Exactitud en entrenamiento: 0.739407Exactitud en entrenamiento: 0.739407Exactitud en entrenamiento: 0.739407Exactitud en entrenamiento: 0.739407Exactitud en entrenamiento: 0.739407Exactitud en entrenamiento: 0.739407Exactitud en entrenamiento: 0.739407Exactitud en entrenamiento: 0.739407Exactitud en entrenamiento: 0.739407Exactitud en entrenamiento: 0.739407Exactitud en entrenamiento: 0.739407Exactitud en entrenamiento: 0.739407Exactitud en entrenamiento: 0.739407Exactitud en entrenamiento: 0.739407Exactitud en entrenamiento: 0.739407Exactitud en entrenamiento: 0.739407Exactitud en entrenamiento: 0.739407Exactitud en entrenamiento: 0.739407Exactitud en entrenamiento: 0.739407Exactitud en entrenamiento: 0.739407Exactitud en entrenamiento: 0.739407Exactitud en entrenamiento: 0.739407Exactitud en entrenamiento: 0.739407Exactitud en entrenamiento: 0.739407Exactitud en entrenamiento: 0.739407Exactitud en entrenamiento: 0.739407Exactitud en entrenamiento: 0.739407Exactitud en entrenamiento: 0.739407Exactitud en entrenamiento: 0.739407Exactitud en entrenamiento: 0.739407Exactitud en entrenamiento: 0.739407Exactitud en entrenamiento: 0.739407Exactitud en entrenamiento: 0.739407Exactitud en entrenamiento: 0.739407Exactitud en entrenamiento: 0.739407Exactitud en entrenamiento: 0.739407Exactitud en entrenamiento: 0.739407Exactitud en entrenamiento: 0.739407Exactitud en entrenamiento: 0.739407Exactitud en entrenamiento: 0.739407Exactitud en entrenamiento: 0.739407Exactitud en entrenamiento: 0.739407Exactitud en entrenamiento: 0.739407Exactitud en entrenamiento: 0.739407Exactitud en entrenamiento: 0.739407Exactitud en entrenamiento: 0.739407Exactitud en entrenamiento: 0.739407Exactitud en entrenamiento: 0.739407Exactitud en entrenamiento: 0.739407Exactitud en entrenamiento: 0.739407Exactitud en entrenamiento: 0.739407Exactitud en entrenamiento: 0.739407Exactitud en entrenamiento: 0.739407Exactitud en entrenamiento: 0.739407Exactitud en entrenamiento: 0.739407Exactitud en entrenamiento: 0.739407Exactitud en entrenamiento: 0.739407Exactitud en entrenamiento: 0.739407Exactitud en entrenamiento: 0.739407Exactitud en entrenamiento: 0.739407Exactitud en entrenamiento: 0.739407Exactitud en entrenamiento: 0.739407Exactitud en entrenamiento: 0.739407Exactitud en entrenamiento: 0.739407Exactitud en entrenamiento: 0.739407Exactitud en entrenamiento: 0.739407Exactitud en entrenamiento: 0.739407Exactitud en entrenamiento: 0.739407Exactitud en entrenamiento: 0.739407Exactitud en entrenamiento: 0.739407Exactitud en entrenamiento: 0.739407Exactitud en entrenamiento: 0.739407Exactitud en entrenamiento: 0.739407Exactitud en entrenamiento: 0.739407Exactitud en entrenamiento: 0.739407Exactitud en entrenamiento: 0.739407Exactitud en entrenamiento: 0.739407Exactitud en entrenamiento: 0.739407Exactitud en entrenamiento: 0.739407Exactitud en entrenamiento: 0.739407Exactitud en entrenamiento: 0.739407Exactitud en entrenamiento: 0.739407Exactitud en entrenamiento: 0.739407Exactitud en entrenamiento: 0.739407Exactitud en entrenamiento: 0.739407Exactitud en entrenamiento: 0.739407Exactitud en entrenamiento: 0.739407Exactitud en entrenamiento: 0.739407Exactitud en entrenamiento: 0.739407Exactitud en entrenamiento: 0.739407Exactitud en entrenamiento: 0.739407Exactitud en entrenamiento: 0.739407Exactitud en entrenamiento: 0.739407Exactitud en entrenamiento: 0.739407Exactitud en entrenamiento: 0.739407Exactitud en entrenamiento: 0.739407Exactitud en entrenamiento: 0.739407Exactitud en entrenamiento: 0.739407Exactitud en entrenamiento: 0.739407Exactitud en entrenamiento: 0.739407\nExactitud en test: 0.683954Exactitud en test: 0.683954Exactitud en test: 0.683954Exactitud en test: 0.683954Exactitud en test: 0.683954Exactitud en test: 0.683954Exactitud en test: 0.683954Exactitud en test: 0.683954Exactitud en test: 0.683954Exactitud en test: 0.683954Exactitud en test: 0.683954Exactitud en test: 0.683954Exactitud en test: 0.683954Exactitud en test: 0.683954Exactitud en test: 0.683954Exactitud en test: 0.683954Exactitud en test: 0.683954Exactitud en test: 0.683954Exactitud en test: 0.683954Exactitud en test: 0.683954Exactitud en test: 0.683954Exactitud en test: 0.683954Exactitud en test: 0.683954Exactitud en test: 0.683954Exactitud en test: 0.683954Exactitud en test: 0.683954Exactitud en test: 0.683954Exactitud en test: 0.683954Exactitud en test: 0.683954Exactitud en test: 0.683954Exactitud en test: 0.683954Exactitud en test: 0.683954Exactitud en test: 0.683954Exactitud en test: 0.683954Exactitud en test: 0.683954Exactitud en test: 0.683954Exactitud en test: 0.683954Exactitud en test: 0.683954Exactitud en test: 0.683954Exactitud en test: 0.683954Exactitud en test: 0.683954Exactitud en test: 0.683954Exactitud en test: 0.683954Exactitud en test: 0.683954Exactitud en test: 0.683954Exactitud en test: 0.683954Exactitud en test: 0.683954Exactitud en test: 0.683954Exactitud en test: 0.683954Exactitud en test: 0.683954Exactitud en test: 0.683954Exactitud en test: 0.683954Exactitud en test: 0.683954Exactitud en test: 0.683954Exactitud en test: 0.683954Exactitud en test: 0.683954Exactitud en test: 0.683954Exactitud en test: 0.683954Exactitud en test: 0.683954Exactitud en test: 0.683954Exactitud en test: 0.683954Exactitud en test: 0.683954Exactitud en test: 0.683954Exactitud en test: 0.683954Exactitud en test: 0.683954Exactitud en test: 0.683954Exactitud en test: 0.683954Exactitud en test: 0.683954Exactitud en test: 0.683954Exactitud en test: 0.683954Exactitud en test: 0.683954Exactitud en test: 0.683954Exactitud en test: 0.683954Exactitud en test: 0.683954Exactitud en test: 0.683954Exactitud en test: 0.683954Exactitud en test: 0.683954Exactitud en test: 0.683954Exactitud en test: 0.683954Exactitud en test: 0.683954Exactitud en test: 0.683954Exactitud en test: 0.683954Exactitud en test: 0.683954Exactitud en test: 0.683954Exactitud en test: 0.683954Exactitud en test: 0.683954Exactitud en test: 0.683954Exactitud en test: 0.683954Exactitud en test: 0.683954Exactitud en test: 0.683954Exactitud en test: 0.683954Exactitud en test: 0.683954Exactitud en test: 0.683954Exactitud en test: 0.683954Exactitud en test: 0.683954Exactitud en test: 0.683954Exactitud en test: 0.683954Exactitud en test: 0.683954Exactitud en test: 0.683954Exactitud en test: 0.683954\n",
     "output_type": "stream"
    }
   ]
  },
  {
   "cell_type": "markdown",
   "source": "### KNN",
   "metadata": {
    "id": "GFAKAh59K9EL",
    "cell_id": "00029-4d38bd59-c5b0-402a-96d2-189b87a5af38",
    "deepnote_cell_type": "markdown",
    "deepnote_cell_height": 62
   }
  },
  {
   "cell_type": "code",
   "metadata": {
    "id": "bkFVkHruKinJ",
    "executionInfo": {
     "status": "ok",
     "timestamp": 1657946214180,
     "user_tz": 180,
     "elapsed": 13,
     "user": {
      "displayName": "William Wallace",
      "userId": "02462327362597608294"
     }
    },
    "deepnote_to_be_reexecuted": false,
    "source_hash": "356bd9d4",
    "execution_start": 1658107376552,
    "execution_millis": 10,
    "cell_id": "00030-39d5aaab-571a-45c2-a812-36d312e1e9a5",
    "deepnote_cell_type": "code",
    "deepnote_cell_height": 135
   },
   "source": "import matplotlib.pyplot as plt\nimport pandas as pd\nimport seaborn as sns\nfrom sklearn.neighbors import KNeighborsClassifier",
   "execution_count": null,
   "outputs": []
  },
  {
   "cell_type": "code",
   "metadata": {
    "colab": {
     "base_uri": "https://localhost:8080/"
    },
    "id": "s_J7kMZWLGS0",
    "executionInfo": {
     "status": "ok",
     "timestamp": 1657946214181,
     "user_tz": 180,
     "elapsed": 14,
     "user": {
      "displayName": "William Wallace",
      "userId": "02462327362597608294"
     }
    },
    "outputId": "ad65f9e3-0ee2-4202-8e45-b44563007f93",
    "deepnote_to_be_reexecuted": false,
    "source_hash": "7ab2dfd",
    "execution_start": 1658107376572,
    "execution_millis": 371,
    "cell_id": "00031-0138837c-392b-40b0-9103-67a4c3f9da55",
    "deepnote_cell_type": "code",
    "deepnote_cell_height": 229
   },
   "source": "from sklearn.neighbors import KNeighborsClassifier\n\nknn = KNeighborsClassifier(n_neighbors=1000, weights='distance')\n\nknn.fit(X, y)",
   "execution_count": null,
   "outputs": [
    {
     "output_type": "execute_result",
     "execution_count": 30,
     "data": {
      "text/plain": "KNeighborsClassifier(n_neighbors=1000, weights='distance')",
      "text/html": "<style>#sk-container-id-2 {color: black;background-color: white;}#sk-container-id-2 pre{padding: 0;}#sk-container-id-2 div.sk-toggleable {background-color: white;}#sk-container-id-2 label.sk-toggleable__label {cursor: pointer;display: block;width: 100%;margin-bottom: 0;padding: 0.3em;box-sizing: border-box;text-align: center;}#sk-container-id-2 label.sk-toggleable__label-arrow:before {content: \"▸\";float: left;margin-right: 0.25em;color: #696969;}#sk-container-id-2 label.sk-toggleable__label-arrow:hover:before {color: black;}#sk-container-id-2 div.sk-estimator:hover label.sk-toggleable__label-arrow:before {color: black;}#sk-container-id-2 div.sk-toggleable__content {max-height: 0;max-width: 0;overflow: hidden;text-align: left;background-color: #f0f8ff;}#sk-container-id-2 div.sk-toggleable__content pre {margin: 0.2em;color: black;border-radius: 0.25em;background-color: #f0f8ff;}#sk-container-id-2 input.sk-toggleable__control:checked~div.sk-toggleable__content {max-height: 200px;max-width: 100%;overflow: auto;}#sk-container-id-2 input.sk-toggleable__control:checked~label.sk-toggleable__label-arrow:before {content: \"▾\";}#sk-container-id-2 div.sk-estimator input.sk-toggleable__control:checked~label.sk-toggleable__label {background-color: #d4ebff;}#sk-container-id-2 div.sk-label input.sk-toggleable__control:checked~label.sk-toggleable__label {background-color: #d4ebff;}#sk-container-id-2 input.sk-hidden--visually {border: 0;clip: rect(1px 1px 1px 1px);clip: rect(1px, 1px, 1px, 1px);height: 1px;margin: -1px;overflow: hidden;padding: 0;position: absolute;width: 1px;}#sk-container-id-2 div.sk-estimator {font-family: monospace;background-color: #f0f8ff;border: 1px dotted black;border-radius: 0.25em;box-sizing: border-box;margin-bottom: 0.5em;}#sk-container-id-2 div.sk-estimator:hover {background-color: #d4ebff;}#sk-container-id-2 div.sk-parallel-item::after {content: \"\";width: 100%;border-bottom: 1px solid gray;flex-grow: 1;}#sk-container-id-2 div.sk-label:hover label.sk-toggleable__label {background-color: #d4ebff;}#sk-container-id-2 div.sk-serial::before {content: \"\";position: absolute;border-left: 1px solid gray;box-sizing: border-box;top: 0;bottom: 0;left: 50%;z-index: 0;}#sk-container-id-2 div.sk-serial {display: flex;flex-direction: column;align-items: center;background-color: white;padding-right: 0.2em;padding-left: 0.2em;position: relative;}#sk-container-id-2 div.sk-item {position: relative;z-index: 1;}#sk-container-id-2 div.sk-parallel {display: flex;align-items: stretch;justify-content: center;background-color: white;position: relative;}#sk-container-id-2 div.sk-item::before, #sk-container-id-2 div.sk-parallel-item::before {content: \"\";position: absolute;border-left: 1px solid gray;box-sizing: border-box;top: 0;bottom: 0;left: 50%;z-index: -1;}#sk-container-id-2 div.sk-parallel-item {display: flex;flex-direction: column;z-index: 1;position: relative;background-color: white;}#sk-container-id-2 div.sk-parallel-item:first-child::after {align-self: flex-end;width: 50%;}#sk-container-id-2 div.sk-parallel-item:last-child::after {align-self: flex-start;width: 50%;}#sk-container-id-2 div.sk-parallel-item:only-child::after {width: 0;}#sk-container-id-2 div.sk-dashed-wrapped {border: 1px dashed gray;margin: 0 0.4em 0.5em 0.4em;box-sizing: border-box;padding-bottom: 0.4em;background-color: white;}#sk-container-id-2 div.sk-label label {font-family: monospace;font-weight: bold;display: inline-block;line-height: 1.2em;}#sk-container-id-2 div.sk-label-container {text-align: center;}#sk-container-id-2 div.sk-container {/* jupyter's `normalize.less` sets `[hidden] { display: none; }` but bootstrap.min.css set `[hidden] { display: none !important; }` so we also need the `!important` here to be able to override the default hidden behavior on the sphinx rendered scikit-learn.org. See: https://github.com/scikit-learn/scikit-learn/issues/21755 */display: inline-block !important;position: relative;}#sk-container-id-2 div.sk-text-repr-fallback {display: none;}</style><div id=\"sk-container-id-2\" class=\"sk-top-container\"><div class=\"sk-text-repr-fallback\"><pre>KNeighborsClassifier(n_neighbors=1000, weights=&#x27;distance&#x27;)</pre><b>In a Jupyter environment, please rerun this cell to show the HTML representation or trust the notebook. <br />On GitHub, the HTML representation is unable to render, please try loading this page with nbviewer.org.</b></div><div class=\"sk-container\" hidden><div class=\"sk-item\"><div class=\"sk-estimator sk-toggleable\"><input class=\"sk-toggleable__control sk-hidden--visually\" id=\"sk-estimator-id-2\" type=\"checkbox\" checked><label for=\"sk-estimator-id-2\" class=\"sk-toggleable__label sk-toggleable__label-arrow\">KNeighborsClassifier</label><div class=\"sk-toggleable__content\"><pre>KNeighborsClassifier(n_neighbors=1000, weights=&#x27;distance&#x27;)</pre></div></div></div></div></div>"
     },
     "metadata": {}
    }
   ]
  },
  {
   "cell_type": "code",
   "metadata": {
    "id": "bURN0J-sL69a",
    "executionInfo": {
     "status": "ok",
     "timestamp": 1657946256723,
     "user_tz": 180,
     "elapsed": 42553,
     "user": {
      "displayName": "William Wallace",
      "userId": "02462327362597608294"
     }
    },
    "deepnote_to_be_reexecuted": false,
    "source_hash": "b8ece810",
    "execution_start": 1658107376653,
    "execution_millis": 67578,
    "cell_id": "00032-78f837e2-1d7f-48a5-9679-c3e1611acd8b",
    "deepnote_cell_type": "code",
    "deepnote_cell_height": 99
   },
   "source": "y_train_pred = knn.predict(X_train) #Prediccion en Train\ny_test_pred = knn.predict(X_test) #Prediccion en Test",
   "execution_count": null,
   "outputs": []
  },
  {
   "cell_type": "code",
   "metadata": {
    "colab": {
     "base_uri": "https://localhost:8080/"
    },
    "id": "NYDmcce8MA_q",
    "executionInfo": {
     "status": "ok",
     "timestamp": 1657946256725,
     "user_tz": 180,
     "elapsed": 30,
     "user": {
      "displayName": "William Wallace",
      "userId": "02462327362597608294"
     }
    },
    "outputId": "40d4371f-e2ec-43da-db72-50c5a6a27aaf",
    "deepnote_to_be_reexecuted": false,
    "source_hash": "e5fe2dbd",
    "execution_start": 1658107444231,
    "execution_millis": 748,
    "cell_id": "00033-d0e5b2c5-9459-415b-9bf0-d08dd7cc1011",
    "deepnote_cell_type": "code",
    "deepnote_cell_height": 294.375
   },
   "source": "from sklearn.metrics import accuracy_score\n\n#Calculo el accuracy en Train\ntrain_accuracy = accuracy_score(y_train, y_train_pred)\n\n#Calculo el accuracy en Test\ntest_accuracy = accuracy_score(y_test, y_test_pred)\n\nprint('% de aciertos sobre el set de entrenamiento:', train_accuracy)\nprint('% de aciertos sobre el set de evaluación:',test_accuracy)",
   "execution_count": null,
   "outputs": [
    {
     "name": "stdout",
     "text": "% de aciertos sobre el set de entrenamiento: 0.7371789377446358\n% de aciertos sobre el set de evaluación: 0.7224185054329711\n",
     "output_type": "stream"
    }
   ]
  },
  {
   "cell_type": "code",
   "metadata": {
    "id": "JdAcmDHbJBaY",
    "executionInfo": {
     "status": "ok",
     "timestamp": 1657946369554,
     "user_tz": 180,
     "elapsed": 112851,
     "user": {
      "displayName": "William Wallace",
      "userId": "02462327362597608294"
     }
    },
    "deepnote_to_be_reexecuted": false,
    "source_hash": "36687132",
    "execution_start": 1658107444369,
    "execution_millis": 302645,
    "cell_id": "00034-2eba6ce4-6ad2-45b7-a3d3-2e0ac06b753e",
    "deepnote_cell_type": "code",
    "deepnote_cell_height": 459
   },
   "source": "# veamos como le va a nuestro modelo variando la cantidad de vecinos y el tipo de peso\nvalores_k = list(range(1,50,4))\nresultados_train_u = []\nresultados_test_u  = []\nresultados_train_w = []\nresultados_test_w  = []\n\nfor k in valores_k:\n    # instanciamos el modelo uniforme\n    clf_u = KNeighborsClassifier(n_neighbors=k, weights='uniform')\n    clf_u.fit(X_train, y_train)\n    y_train_pred = clf_u.predict(X_train)\n    y_pred = clf_u.predict(X_test)\n    resultados_train_u.append(accuracy_score(y_train, y_train_pred))\n    resultados_test_u.append(accuracy_score(y_test, y_pred))\n\n    clf_w = KNeighborsClassifier(n_neighbors=k, weights='distance')\n    clf_w.fit(X_train, y_train)\n    y_train_pred = clf_w.predict(X_train)\n    y_pred = clf_w.predict(X_test)\n    resultados_train_w.append(accuracy_score(y_train, y_train_pred))\n    resultados_test_w.append(accuracy_score(y_test, y_pred))",
   "execution_count": null,
   "outputs": []
  },
  {
   "cell_type": "code",
   "metadata": {
    "colab": {
     "base_uri": "https://localhost:8080/",
     "height": 334
    },
    "id": "-Qrn8eYEJF8G",
    "executionInfo": {
     "status": "ok",
     "timestamp": 1657946369557,
     "user_tz": 180,
     "elapsed": 29,
     "user": {
      "displayName": "William Wallace",
      "userId": "02462327362597608294"
     }
    },
    "outputId": "cb91bb9c-542d-41b6-93f0-234c09d91817",
    "deepnote_to_be_reexecuted": false,
    "source_hash": "4abe785a",
    "cell_id": "00035-07666624-06af-46ba-9d79-a7ce0af1f7bc",
    "execution_start": 1658107747015,
    "execution_millis": 537,
    "deepnote_cell_type": "code",
    "deepnote_cell_height": 482.828125,
    "deepnote_output_heights": [
     241.828125
    ]
   },
   "source": "# veamos que paso en cada caso\nf, ax = plt.subplots(1,2,figsize=(14,5),sharey=True)\nax[0].plot(valores_k, resultados_train_u, valores_k, resultados_test_u);\nax[0].legend(['pesos uniformes - train', 'pesos uniformes - test']);\nax[0].set(xlabel='k',ylabel='accuracy');\n\nax[1].plot(valores_k, resultados_train_w, valores_k, resultados_test_w);\nax[1].legend(['pesos distancia - train', 'pesos distancia - test']);\nax[1].set(xlabel='k');",
   "execution_count": null,
   "outputs": [
    {
     "data": {
      "text/plain": "<Figure size 1008x360 with 2 Axes>",
      "image/png": "[encoded data removed]"
     },
     "metadata": {
      "needs_background": "light",
      "image/png": {
       "width": 838,
       "height": 317
      }
     },
     "output_type": "display_data"
    }
   ]
  },
  {
   "cell_type": "code",
   "metadata": {
    "id": "avVFVuvuJ5Of",
    "executionInfo": {
     "status": "ok",
     "timestamp": 1657946369558,
     "user_tz": 180,
     "elapsed": 24,
     "user": {
      "displayName": "William Wallace",
      "userId": "02462327362597608294"
     }
    },
    "deepnote_to_be_reexecuted": false,
    "source_hash": "9f684f31",
    "cell_id": "00036-8e072b22-24a8-4cd2-8486-008846bd38ba",
    "execution_start": 1658107747555,
    "execution_millis": 7,
    "deepnote_cell_type": "code",
    "deepnote_cell_height": 81
   },
   "source": "from sklearn.model_selection import train_test_split, GridSearchCV, cross_val_score, KFold",
   "execution_count": null,
   "outputs": []
  },
  {
   "cell_type": "code",
   "metadata": {
    "colab": {
     "base_uri": "https://localhost:8080/",
     "height": 382
    },
    "id": "NKbX6lJLJVRO",
    "executionInfo": {
     "status": "ok",
     "timestamp": 1657946542685,
     "user_tz": 180,
     "elapsed": 173150,
     "user": {
      "displayName": "William Wallace",
      "userId": "02462327362597608294"
     }
    },
    "outputId": "ebc0af89-d696-4eb0-a33f-5c2ed951acbe",
    "deepnote_to_be_reexecuted": false,
    "source_hash": "887467f7",
    "cell_id": "00037-e1c4f8b5-3abb-4a8f-9414-3873ac22ffbb",
    "execution_start": 1658107747571,
    "execution_millis": 417349,
    "deepnote_cell_type": "code",
    "deepnote_cell_height": 538.1875
   },
   "source": "# ahora busquemos nuestro mejor modelo usando validacion cruzada y gridsearchcv pero incluyamos otra distancia!\nmodel = KNeighborsClassifier()\nn_neighbors = np.array([1,2,3,5,8,10,15,20,30,50])\nparam_grid = {'n_neighbors': n_neighbors, \n              'weights':['uniform', 'distance'], \n              'metric':['euclidean', 'chebyshev', 'manhattan']}\ngrid = GridSearchCV(estimator=model, param_grid=param_grid)\ngrid.fit(X_train, y_train)\nprint(grid.best_params_)\npd.DataFrame(grid.cv_results_).sample(3)",
   "execution_count": null,
   "outputs": [
    {
     "name": "stdout",
     "text": "{'metric': 'manhattan', 'n_neighbors': 50, 'weights': 'uniform'}\n",
     "output_type": "stream"
    },
    {
     "output_type": "execute_result",
     "execution_count": 36,
     "data": {
      "application/vnd.deepnote.dataframe.v3+json": {
       "column_count": 16,
       "row_count": 3,
       "columns": [
        {
         "name": "mean_fit_time",
         "dtype": "float64",
         "stats": {
          "unique_count": 3,
          "nan_count": 0,
          "min": "0.028447675704956054",
          "max": "0.03515658378601074",
          "histogram": [
           {
            "bin_start": 0.028447675704956054,
            "bin_end": 0.029118566513061522,
            "count": 1
           },
           {
            "bin_start": 0.029118566513061522,
            "bin_end": 0.02978945732116699,
            "count": 0
           },
           {
            "bin_start": 0.02978945732116699,
            "bin_end": 0.03046034812927246,
            "count": 0
           },
           {
            "bin_start": 0.03046034812927246,
            "bin_end": 0.031131238937377927,
            "count": 0
           },
           {
            "bin_start": 0.031131238937377927,
            "bin_end": 0.031802129745483396,
            "count": 0
           },
           {
            "bin_start": 0.031802129745483396,
            "bin_end": 0.03247302055358887,
            "count": 1
           },
           {
            "bin_start": 0.03247302055358887,
            "bin_end": 0.03314391136169433,
            "count": 0
           },
           {
            "bin_start": 0.03314391136169433,
            "bin_end": 0.033814802169799804,
            "count": 0
           },
           {
            "bin_start": 0.033814802169799804,
            "bin_end": 0.03448569297790527,
            "count": 0
           },
           {
            "bin_start": 0.03448569297790527,
            "bin_end": 0.03515658378601074,
            "count": 1
           }
          ]
         }
        },
        {
         "name": "std_fit_time",
         "dtype": "float64",
         "stats": {
          "unique_count": 3,
          "nan_count": 0,
          "min": "0.0035676887455292575",
          "max": "0.011506884366991448",
          "histogram": [
           {
            "bin_start": 0.0035676887455292575,
            "bin_end": 0.004361608307675477,
            "count": 1
           },
           {
            "bin_start": 0.004361608307675477,
            "bin_end": 0.005155527869821696,
            "count": 0
           },
           {
            "bin_start": 0.005155527869821696,
            "bin_end": 0.005949447431967915,
            "count": 0
           },
           {
            "bin_start": 0.005949447431967915,
            "bin_end": 0.006743366994114134,
            "count": 0
           },
           {
            "bin_start": 0.006743366994114134,
            "bin_end": 0.007537286556260353,
            "count": 0
           },
           {
            "bin_start": 0.007537286556260353,
            "bin_end": 0.008331206118406572,
            "count": 0
           },
           {
            "bin_start": 0.008331206118406572,
            "bin_end": 0.00912512568055279,
            "count": 0
           },
           {
            "bin_start": 0.00912512568055279,
            "bin_end": 0.00991904524269901,
            "count": 0
           },
           {
            "bin_start": 0.00991904524269901,
            "bin_end": 0.010712964804845229,
            "count": 1
           },
           {
            "bin_start": 0.010712964804845229,
            "bin_end": 0.011506884366991448,
            "count": 1
           }
          ]
         }
        },
        {
         "name": "mean_score_time",
         "dtype": "float64",
         "stats": {
          "unique_count": 3,
          "nan_count": 0,
          "min": "1.1881816387176514",
          "max": "1.7100666046142579",
          "histogram": [
           {
            "bin_start": 1.1881816387176514,
            "bin_end": 1.240370135307312,
            "count": 1
           },
           {
            "bin_start": 1.240370135307312,
            "bin_end": 1.2925586318969726,
            "count": 0
           },
           {
            "bin_start": 1.2925586318969726,
            "bin_end": 1.3447471284866332,
            "count": 0
           },
           {
            "bin_start": 1.3447471284866332,
            "bin_end": 1.3969356250762939,
            "count": 0
           },
           {
            "bin_start": 1.3969356250762939,
            "bin_end": 1.4491241216659545,
            "count": 0
           },
           {
            "bin_start": 1.4491241216659545,
            "bin_end": 1.5013126182556151,
            "count": 0
           },
           {
            "bin_start": 1.5013126182556151,
            "bin_end": 1.553501114845276,
            "count": 0
           },
           {
            "bin_start": 1.553501114845276,
            "bin_end": 1.6056896114349366,
            "count": 0
           },
           {
            "bin_start": 1.6056896114349366,
            "bin_end": 1.6578781080245972,
            "count": 0
           },
           {
            "bin_start": 1.6578781080245972,
            "bin_end": 1.7100666046142579,
            "count": 2
           }
          ]
         }
        },
        {
         "name": "std_score_time",
         "dtype": "float64",
         "stats": {
          "unique_count": 3,
          "nan_count": 0,
          "min": "0.028978972673693065",
          "max": "0.0549683754148977",
          "histogram": [
           {
            "bin_start": 0.028978972673693065,
            "bin_end": 0.03157791294781353,
            "count": 1
           },
           {
            "bin_start": 0.03157791294781353,
            "bin_end": 0.03417685322193399,
            "count": 0
           },
           {
            "bin_start": 0.03417685322193399,
            "bin_end": 0.036775793496054456,
            "count": 1
           },
           {
            "bin_start": 0.036775793496054456,
            "bin_end": 0.03937473377017492,
            "count": 0
           },
           {
            "bin_start": 0.03937473377017492,
            "bin_end": 0.04197367404429538,
            "count": 0
           },
           {
            "bin_start": 0.04197367404429538,
            "bin_end": 0.044572614318415846,
            "count": 0
           },
           {
            "bin_start": 0.044572614318415846,
            "bin_end": 0.04717155459253631,
            "count": 0
           },
           {
            "bin_start": 0.04717155459253631,
            "bin_end": 0.04977049486665677,
            "count": 0
           },
           {
            "bin_start": 0.04977049486665677,
            "bin_end": 0.052369435140777236,
            "count": 0
           },
           {
            "bin_start": 0.052369435140777236,
            "bin_end": 0.0549683754148977,
            "count": 1
           }
          ]
         }
        },
        {
         "name": "param_metric",
         "dtype": "object",
         "stats": {
          "unique_count": 2,
          "nan_count": 0,
          "categories": [
           {
            "name": "manhattan",
            "count": 2
           },
           {
            "name": "chebyshev",
            "count": 1
           }
          ]
         }
        },
        {
         "name": "param_n_neighbors",
         "dtype": "object",
         "stats": {
          "unique_count": 3,
          "nan_count": 0,
          "categories": [
           {
            "name": "3",
            "count": 1
           },
           {
            "name": "15",
            "count": 1
           },
           {
            "name": "50",
            "count": 1
           }
          ]
         }
        },
        {
         "name": "param_weights",
         "dtype": "object",
         "stats": {
          "unique_count": 2,
          "nan_count": 0,
          "categories": [
           {
            "name": "uniform",
            "count": 2
           },
           {
            "name": "distance",
            "count": 1
           }
          ]
         }
        },
        {
         "name": "params",
         "dtype": "object",
         "stats": {
          "unique_count": 3,
          "nan_count": 0,
          "categories": [
           {
            "name": "{'metric': 'chebyshev', 'n_neighbors': 3, 'weights': 'distance'}",
            "count": 1
           },
           {
            "name": "{'metric': 'manhattan', 'n_neighbors': 15, 'weights': 'uniform'}",
            "count": 1
           },
           {
            "name": "{'metric': 'manhattan', 'n_neighbors': 50, 'weights': 'uniform'}",
            "count": 1
           }
          ]
         }
        },
        {
         "name": "split0_test_score",
         "dtype": "float64",
         "stats": {
          "unique_count": 3,
          "nan_count": 0,
          "min": "0.6317668904442223",
          "max": "0.7103270961291244",
          "histogram": [
           {
            "bin_start": 0.6317668904442223,
            "bin_end": 0.6396229110127125,
            "count": 1
           },
           {
            "bin_start": 0.6396229110127125,
            "bin_end": 0.6474789315812027,
            "count": 0
           },
           {
            "bin_start": 0.6474789315812027,
            "bin_end": 0.655334952149693,
            "count": 0
           },
           {
            "bin_start": 0.655334952149693,
            "bin_end": 0.6631909727181832,
            "count": 0
           },
           {
            "bin_start": 0.6631909727181832,
            "bin_end": 0.6710469932866734,
            "count": 0
           },
           {
            "bin_start": 0.6710469932866734,
            "bin_end": 0.6789030138551635,
            "count": 0
           },
           {
            "bin_start": 0.6789030138551635,
            "bin_end": 0.6867590344236537,
            "count": 0
           },
           {
            "bin_start": 0.6867590344236537,
            "bin_end": 0.6946150549921439,
            "count": 0
           },
           {
            "bin_start": 0.6946150549921439,
            "bin_end": 0.7024710755606342,
            "count": 0
           },
           {
            "bin_start": 0.7024710755606342,
            "bin_end": 0.7103270961291244,
            "count": 2
           }
          ]
         }
        },
        {
         "name": "split1_test_score",
         "dtype": "float64",
         "stats": {
          "unique_count": 3,
          "nan_count": 0,
          "min": "0.6454285714285715",
          "max": "0.7107142857142857",
          "histogram": [
           {
            "bin_start": 0.6454285714285715,
            "bin_end": 0.6519571428571429,
            "count": 1
           },
           {
            "bin_start": 0.6519571428571429,
            "bin_end": 0.6584857142857143,
            "count": 0
           },
           {
            "bin_start": 0.6584857142857143,
            "bin_end": 0.6650142857142858,
            "count": 0
           },
           {
            "bin_start": 0.6650142857142858,
            "bin_end": 0.6715428571428572,
            "count": 0
           },
           {
            "bin_start": 0.6715428571428572,
            "bin_end": 0.6780714285714287,
            "count": 0
           },
           {
            "bin_start": 0.6780714285714287,
            "bin_end": 0.6846,
            "count": 0
           },
           {
            "bin_start": 0.6846,
            "bin_end": 0.6911285714285714,
            "count": 0
           },
           {
            "bin_start": 0.6911285714285714,
            "bin_end": 0.6976571428571429,
            "count": 0
           },
           {
            "bin_start": 0.6976571428571429,
            "bin_end": 0.7041857142857143,
            "count": 0
           },
           {
            "bin_start": 0.7041857142857143,
            "bin_end": 0.7107142857142857,
            "count": 2
           }
          ]
         }
        },
        {
         "name": "split2_test_score",
         "dtype": "float64",
         "stats": {
          "unique_count": 3,
          "nan_count": 0,
          "min": "0.664",
          "max": "0.7108571428571429",
          "histogram": [
           {
            "bin_start": 0.664,
            "bin_end": 0.6686857142857143,
            "count": 1
           },
           {
            "bin_start": 0.6686857142857143,
            "bin_end": 0.6733714285714286,
            "count": 0
           },
           {
            "bin_start": 0.6733714285714286,
            "bin_end": 0.6780571428571429,
            "count": 0
           },
           {
            "bin_start": 0.6780571428571429,
            "bin_end": 0.6827428571428572,
            "count": 0
           },
           {
            "bin_start": 0.6827428571428572,
            "bin_end": 0.6874285714285715,
            "count": 0
           },
           {
            "bin_start": 0.6874285714285715,
            "bin_end": 0.6921142857142857,
            "count": 0
           },
           {
            "bin_start": 0.6921142857142857,
            "bin_end": 0.6968,
            "count": 0
           },
           {
            "bin_start": 0.6968,
            "bin_end": 0.7014857142857143,
            "count": 0
           },
           {
            "bin_start": 0.7014857142857143,
            "bin_end": 0.7061714285714286,
            "count": 1
           },
           {
            "bin_start": 0.7061714285714286,
            "bin_end": 0.7108571428571429,
            "count": 1
           }
          ]
         }
        },
        {
         "name": "split3_test_score",
         "dtype": "float64",
         "stats": {
          "unique_count": 3,
          "nan_count": 0,
          "min": "0.6938571428571428",
          "max": "0.7107142857142857",
          "histogram": [
           {
            "bin_start": 0.6938571428571428,
            "bin_end": 0.6955428571428571,
            "count": 1
           },
           {
            "bin_start": 0.6955428571428571,
            "bin_end": 0.6972285714285714,
            "count": 0
           },
           {
            "bin_start": 0.6972285714285714,
            "bin_end": 0.6989142857142857,
            "count": 0
           },
           {
            "bin_start": 0.6989142857142857,
            "bin_end": 0.7006,
            "count": 0
           },
           {
            "bin_start": 0.7006,
            "bin_end": 0.7022857142857143,
            "count": 0
           },
           {
            "bin_start": 0.7022857142857143,
            "bin_end": 0.7039714285714286,
            "count": 0
           },
           {
            "bin_start": 0.7039714285714286,
            "bin_end": 0.7056571428571429,
            "count": 0
           },
           {
            "bin_start": 0.7056571428571429,
            "bin_end": 0.7073428571428572,
            "count": 1
           },
           {
            "bin_start": 0.7073428571428572,
            "bin_end": 0.7090285714285715,
            "count": 0
           },
           {
            "bin_start": 0.7090285714285715,
            "bin_end": 0.7107142857142857,
            "count": 1
           }
          ]
         }
        },
        {
         "name": "split4_test_score",
         "dtype": "float64",
         "stats": {
          "unique_count": 3,
          "nan_count": 0,
          "min": "0.6592857142857143",
          "max": "0.7105714285714285",
          "histogram": [
           {
            "bin_start": 0.6592857142857143,
            "bin_end": 0.6644142857142856,
            "count": 1
           },
           {
            "bin_start": 0.6644142857142856,
            "bin_end": 0.6695428571428571,
            "count": 0
           },
           {
            "bin_start": 0.6695428571428571,
            "bin_end": 0.6746714285714286,
            "count": 0
           },
           {
            "bin_start": 0.6746714285714286,
            "bin_end": 0.6798,
            "count": 0
           },
           {
            "bin_start": 0.6798,
            "bin_end": 0.6849285714285713,
            "count": 0
           },
           {
            "bin_start": 0.6849285714285713,
            "bin_end": 0.6900571428571428,
            "count": 0
           },
           {
            "bin_start": 0.6900571428571428,
            "bin_end": 0.6951857142857143,
            "count": 0
           },
           {
            "bin_start": 0.6951857142857143,
            "bin_end": 0.7003142857142857,
            "count": 0
           },
           {
            "bin_start": 0.7003142857142857,
            "bin_end": 0.705442857142857,
            "count": 0
           },
           {
            "bin_start": 0.705442857142857,
            "bin_end": 0.7105714285714285,
            "count": 2
           }
          ]
         }
        },
        {
         "name": "mean_test_score",
         "dtype": "float64",
         "stats": {
          "unique_count": 3,
          "nan_count": 0,
          "min": "0.6588676638031302",
          "max": "0.7106368477972534",
          "histogram": [
           {
            "bin_start": 0.6588676638031302,
            "bin_end": 0.6640445822025426,
            "count": 1
           },
           {
            "bin_start": 0.6640445822025426,
            "bin_end": 0.6692215006019548,
            "count": 0
           },
           {
            "bin_start": 0.6692215006019548,
            "bin_end": 0.6743984190013672,
            "count": 0
           },
           {
            "bin_start": 0.6743984190013672,
            "bin_end": 0.6795753374007795,
            "count": 0
           },
           {
            "bin_start": 0.6795753374007795,
            "bin_end": 0.6847522558001918,
            "count": 0
           },
           {
            "bin_start": 0.6847522558001918,
            "bin_end": 0.6899291741996042,
            "count": 0
           },
           {
            "bin_start": 0.6899291741996042,
            "bin_end": 0.6951060925990165,
            "count": 0
           },
           {
            "bin_start": 0.6951060925990165,
            "bin_end": 0.7002830109984288,
            "count": 0
           },
           {
            "bin_start": 0.7002830109984288,
            "bin_end": 0.7054599293978411,
            "count": 0
           },
           {
            "bin_start": 0.7054599293978411,
            "bin_end": 0.7106368477972534,
            "count": 2
           }
          ]
         }
        },
        {
         "name": "std_test_score",
         "dtype": "float64",
         "stats": {
          "unique_count": 3,
          "nan_count": 0,
          "min": "0.00017930362317396606",
          "max": "0.020812690388403388",
          "histogram": [
           {
            "bin_start": 0.00017930362317396606,
            "bin_end": 0.0022426422996969083,
            "count": 1
           },
           {
            "bin_start": 0.0022426422996969083,
            "bin_end": 0.004305980976219851,
            "count": 1
           },
           {
            "bin_start": 0.004305980976219851,
            "bin_end": 0.006369319652742793,
            "count": 0
           },
           {
            "bin_start": 0.006369319652742793,
            "bin_end": 0.008432658329265735,
            "count": 0
           },
           {
            "bin_start": 0.008432658329265735,
            "bin_end": 0.010495997005788679,
            "count": 0
           },
           {
            "bin_start": 0.010495997005788679,
            "bin_end": 0.01255933568231162,
            "count": 0
           },
           {
            "bin_start": 0.01255933568231162,
            "bin_end": 0.014622674358834561,
            "count": 0
           },
           {
            "bin_start": 0.014622674358834561,
            "bin_end": 0.016686013035357505,
            "count": 0
           },
           {
            "bin_start": 0.016686013035357505,
            "bin_end": 0.018749351711880448,
            "count": 0
           },
           {
            "bin_start": 0.018749351711880448,
            "bin_end": 0.020812690388403388,
            "count": 1
           }
          ]
         }
        },
        {
         "name": "rank_test_score",
         "dtype": "int32",
         "stats": {
          "unique_count": 3,
          "nan_count": 0,
          "min": "1",
          "max": "52",
          "histogram": [
           {
            "bin_start": 1,
            "bin_end": 6.1,
            "count": 1
           },
           {
            "bin_start": 6.1,
            "bin_end": 11.2,
            "count": 1
           },
           {
            "bin_start": 11.2,
            "bin_end": 16.299999999999997,
            "count": 0
           },
           {
            "bin_start": 16.299999999999997,
            "bin_end": 21.4,
            "count": 0
           },
           {
            "bin_start": 21.4,
            "bin_end": 26.5,
            "count": 0
           },
           {
            "bin_start": 26.5,
            "bin_end": 31.599999999999998,
            "count": 0
           },
           {
            "bin_start": 31.599999999999998,
            "bin_end": 36.699999999999996,
            "count": 0
           },
           {
            "bin_start": 36.699999999999996,
            "bin_end": 41.8,
            "count": 0
           },
           {
            "bin_start": 41.8,
            "bin_end": 46.9,
            "count": 0
           },
           {
            "bin_start": 46.9,
            "bin_end": 52,
            "count": 1
           }
          ]
         }
        },
        {
         "name": "_deepnote_index_column",
         "dtype": "int64"
        }
       ],
       "rows": [
        {
         "mean_fit_time": 0.03515658378601074,
         "std_fit_time": 0.011506884366991448,
         "mean_score_time": 1.1881816387176514,
         "std_score_time": 0.028978972673693065,
         "param_metric": "chebyshev",
         "param_n_neighbors": "3",
         "param_weights": "distance",
         "params": "{'metric': 'chebyshev', 'n_neighbors': 3, 'weights': 'distance'}",
         "split0_test_score": 0.6317668904442223,
         "split1_test_score": 0.6454285714285715,
         "split2_test_score": 0.664,
         "split3_test_score": 0.6938571428571428,
         "split4_test_score": 0.6592857142857143,
         "mean_test_score": 0.6588676638031302,
         "std_test_score": 0.020812690388403388,
         "rank_test_score": 52,
         "_deepnote_index_column": 25
        },
        {
         "mean_fit_time": 0.028447675704956054,
         "std_fit_time": 0.0035676887455292575,
         "mean_score_time": 1.6981781482696534,
         "std_score_time": 0.0549683754148977,
         "param_metric": "manhattan",
         "param_n_neighbors": "15",
         "param_weights": "uniform",
         "params": "{'metric': 'manhattan', 'n_neighbors': 15, 'weights': 'uniform'}",
         "split0_test_score": 0.7038994429367234,
         "split1_test_score": 0.7094285714285714,
         "split2_test_score": 0.7021428571428572,
         "split3_test_score": 0.706,
         "split4_test_score": 0.7087142857142857,
         "mean_test_score": 0.7060370314444875,
         "std_test_score": 0.0027714791479163964,
         "rank_test_score": 10,
         "_deepnote_index_column": 52
        },
        {
         "mean_fit_time": 0.032036876678466795,
         "std_fit_time": 0.009967936741161258,
         "mean_score_time": 1.7100666046142579,
         "std_score_time": 0.03581763079816534,
         "param_metric": "manhattan",
         "param_n_neighbors": "50",
         "param_weights": "uniform",
         "params": "{'metric': 'manhattan', 'n_neighbors': 50, 'weights': 'uniform'}",
         "split0_test_score": 0.7103270961291244,
         "split1_test_score": 0.7107142857142857,
         "split2_test_score": 0.7108571428571429,
         "split3_test_score": 0.7107142857142857,
         "split4_test_score": 0.7105714285714285,
         "mean_test_score": 0.7106368477972534,
         "std_test_score": 0.00017930362317396606,
         "rank_test_score": 1,
         "_deepnote_index_column": 58
        }
       ]
      },
      "text/plain": "    mean_fit_time  std_fit_time  mean_score_time  std_score_time param_metric  \\\n25       0.035157      0.011507         1.188182        0.028979    chebyshev   \n52       0.028448      0.003568         1.698178        0.054968    manhattan   \n58       0.032037      0.009968         1.710067        0.035818    manhattan   \n\n   param_n_neighbors param_weights  \\\n25                 3      distance   \n52                15       uniform   \n58                50       uniform   \n\n                                               params  split0_test_score  \\\n25  {'metric': 'chebyshev', 'n_neighbors': 3, 'wei...           0.631767   \n52  {'metric': 'manhattan', 'n_neighbors': 15, 'we...           0.703899   \n58  {'metric': 'manhattan', 'n_neighbors': 50, 'we...           0.710327   \n\n    split1_test_score  split2_test_score  split3_test_score  \\\n25           0.645429           0.664000           0.693857   \n52           0.709429           0.702143           0.706000   \n58           0.710714           0.710857           0.710714   \n\n    split4_test_score  mean_test_score  std_test_score  rank_test_score  \n25           0.659286         0.658868        0.020813               52  \n52           0.708714         0.706037        0.002771               10  \n58           0.710571         0.710637        0.000179                1  ",
      "text/html": "<div>\n<style scoped>\n    .dataframe tbody tr th:only-of-type {\n        vertical-align: middle;\n    }\n\n    .dataframe tbody tr th {\n        vertical-align: top;\n    }\n\n    .dataframe thead th {\n        text-align: right;\n    }\n</style>\n<table border=\"1\" class=\"dataframe\">\n  <thead>\n    <tr style=\"text-align: right;\">\n      <th></th>\n      <th>mean_fit_time</th>\n      <th>std_fit_time</th>\n      <th>mean_score_time</th>\n      <th>std_score_time</th>\n      <th>param_metric</th>\n      <th>param_n_neighbors</th>\n      <th>param_weights</th>\n      <th>params</th>\n      <th>split0_test_score</th>\n      <th>split1_test_score</th>\n      <th>split2_test_score</th>\n      <th>split3_test_score</th>\n      <th>split4_test_score</th>\n      <th>mean_test_score</th>\n      <th>std_test_score</th>\n      <th>rank_test_score</th>\n    </tr>\n  </thead>\n  <tbody>\n    <tr>\n      <th>25</th>\n      <td>0.035157</td>\n      <td>0.011507</td>\n      <td>1.188182</td>\n      <td>0.028979</td>\n      <td>chebyshev</td>\n      <td>3</td>\n      <td>distance</td>\n      <td>{'metric': 'chebyshev', 'n_neighbors': 3, 'wei...</td>\n      <td>0.631767</td>\n      <td>0.645429</td>\n      <td>0.664000</td>\n      <td>0.693857</td>\n      <td>0.659286</td>\n      <td>0.658868</td>\n      <td>0.020813</td>\n      <td>52</td>\n    </tr>\n    <tr>\n      <th>52</th>\n      <td>0.028448</td>\n      <td>0.003568</td>\n      <td>1.698178</td>\n      <td>0.054968</td>\n      <td>manhattan</td>\n      <td>15</td>\n      <td>uniform</td>\n      <td>{'metric': 'manhattan', 'n_neighbors': 15, 'we...</td>\n      <td>0.703899</td>\n      <td>0.709429</td>\n      <td>0.702143</td>\n      <td>0.706000</td>\n      <td>0.708714</td>\n      <td>0.706037</td>\n      <td>0.002771</td>\n      <td>10</td>\n    </tr>\n    <tr>\n      <th>58</th>\n      <td>0.032037</td>\n      <td>0.009968</td>\n      <td>1.710067</td>\n      <td>0.035818</td>\n      <td>manhattan</td>\n      <td>50</td>\n      <td>uniform</td>\n      <td>{'metric': 'manhattan', 'n_neighbors': 50, 'we...</td>\n      <td>0.710327</td>\n      <td>0.710714</td>\n      <td>0.710857</td>\n      <td>0.710714</td>\n      <td>0.710571</td>\n      <td>0.710637</td>\n      <td>0.000179</td>\n      <td>1</td>\n    </tr>\n  </tbody>\n</table>\n</div>"
     },
     "metadata": {}
    }
   ]
  },
  {
   "cell_type": "markdown",
   "source": "### RANDOM FOREST",
   "metadata": {
    "id": "pmeTbcZ4LZJs",
    "cell_id": "00038-5955ab82-6315-4c01-9f3f-7c65deec8108",
    "deepnote_cell_type": "markdown",
    "deepnote_cell_height": 62
   }
  },
  {
   "cell_type": "code",
   "metadata": {
    "id": "An-Yld_aLNcK",
    "executionInfo": {
     "status": "ok",
     "timestamp": 1657946542689,
     "user_tz": 180,
     "elapsed": 30,
     "user": {
      "displayName": "William Wallace",
      "userId": "02462327362597608294"
     }
    },
    "deepnote_to_be_reexecuted": false,
    "source_hash": "9f37708d",
    "cell_id": "00039-63aeea21-0ded-4df6-b2ff-fa0fffa21557",
    "execution_start": 1658108164907,
    "execution_millis": 101,
    "deepnote_cell_type": "code",
    "deepnote_cell_height": 171
   },
   "source": "#Carga de las librerías\nimport urllib.request\nimport pandas as pd\nfrom sklearn.model_selection import train_test_split\nfrom sklearn.ensemble import RandomForestClassifier\nfrom sklearn.tree import DecisionTreeClassifier",
   "execution_count": null,
   "outputs": []
  },
  {
   "cell_type": "code",
   "metadata": {
    "colab": {
     "base_uri": "https://localhost:8080/"
    },
    "id": "yeuncTMKLhPN",
    "executionInfo": {
     "status": "ok",
     "timestamp": 1657946545501,
     "user_tz": 180,
     "elapsed": 2839,
     "user": {
      "displayName": "William Wallace",
      "userId": "02462327362597608294"
     }
    },
    "outputId": "68c8ebbb-7ad5-48d0-e084-3ee3bd452a6e",
    "deepnote_to_be_reexecuted": false,
    "source_hash": "5ed64aeb",
    "cell_id": "00040-62fd7ad2-d0cc-497e-89ae-f8a04c0785db",
    "execution_start": 1658108165013,
    "execution_millis": 3936,
    "deepnote_cell_type": "code",
    "deepnote_cell_height": 230.53125,
    "deepnote_output_heights": [
     79.53125
    ]
   },
   "source": "#Creamos un random forest!\nmodel = RandomForestClassifier(random_state=11, n_estimators=200,\n                               class_weight=\"balanced\", max_features=\"log2\")\nmodel.fit(X_train, y_train)",
   "execution_count": null,
   "outputs": [
    {
     "output_type": "execute_result",
     "execution_count": 38,
     "data": {
      "text/plain": "RandomForestClassifier(class_weight='balanced', max_features='log2',\n                       n_estimators=200, random_state=11)",
      "text/html": "<style>#sk-container-id-3 {color: black;background-color: white;}#sk-container-id-3 pre{padding: 0;}#sk-container-id-3 div.sk-toggleable {background-color: white;}#sk-container-id-3 label.sk-toggleable__label {cursor: pointer;display: block;width: 100%;margin-bottom: 0;padding: 0.3em;box-sizing: border-box;text-align: center;}#sk-container-id-3 label.sk-toggleable__label-arrow:before {content: \"▸\";float: left;margin-right: 0.25em;color: #696969;}#sk-container-id-3 label.sk-toggleable__label-arrow:hover:before {color: black;}#sk-container-id-3 div.sk-estimator:hover label.sk-toggleable__label-arrow:before {color: black;}#sk-container-id-3 div.sk-toggleable__content {max-height: 0;max-width: 0;overflow: hidden;text-align: left;background-color: #f0f8ff;}#sk-container-id-3 div.sk-toggleable__content pre {margin: 0.2em;color: black;border-radius: 0.25em;background-color: #f0f8ff;}#sk-container-id-3 input.sk-toggleable__control:checked~div.sk-toggleable__content {max-height: 200px;max-width: 100%;overflow: auto;}#sk-container-id-3 input.sk-toggleable__control:checked~label.sk-toggleable__label-arrow:before {content: \"▾\";}#sk-container-id-3 div.sk-estimator input.sk-toggleable__control:checked~label.sk-toggleable__label {background-color: #d4ebff;}#sk-container-id-3 div.sk-label input.sk-toggleable__control:checked~label.sk-toggleable__label {background-color: #d4ebff;}#sk-container-id-3 input.sk-hidden--visually {border: 0;clip: rect(1px 1px 1px 1px);clip: rect(1px, 1px, 1px, 1px);height: 1px;margin: -1px;overflow: hidden;padding: 0;position: absolute;width: 1px;}#sk-container-id-3 div.sk-estimator {font-family: monospace;background-color: #f0f8ff;border: 1px dotted black;border-radius: 0.25em;box-sizing: border-box;margin-bottom: 0.5em;}#sk-container-id-3 div.sk-estimator:hover {background-color: #d4ebff;}#sk-container-id-3 div.sk-parallel-item::after {content: \"\";width: 100%;border-bottom: 1px solid gray;flex-grow: 1;}#sk-container-id-3 div.sk-label:hover label.sk-toggleable__label {background-color: #d4ebff;}#sk-container-id-3 div.sk-serial::before {content: \"\";position: absolute;border-left: 1px solid gray;box-sizing: border-box;top: 0;bottom: 0;left: 50%;z-index: 0;}#sk-container-id-3 div.sk-serial {display: flex;flex-direction: column;align-items: center;background-color: white;padding-right: 0.2em;padding-left: 0.2em;position: relative;}#sk-container-id-3 div.sk-item {position: relative;z-index: 1;}#sk-container-id-3 div.sk-parallel {display: flex;align-items: stretch;justify-content: center;background-color: white;position: relative;}#sk-container-id-3 div.sk-item::before, #sk-container-id-3 div.sk-parallel-item::before {content: \"\";position: absolute;border-left: 1px solid gray;box-sizing: border-box;top: 0;bottom: 0;left: 50%;z-index: -1;}#sk-container-id-3 div.sk-parallel-item {display: flex;flex-direction: column;z-index: 1;position: relative;background-color: white;}#sk-container-id-3 div.sk-parallel-item:first-child::after {align-self: flex-end;width: 50%;}#sk-container-id-3 div.sk-parallel-item:last-child::after {align-self: flex-start;width: 50%;}#sk-container-id-3 div.sk-parallel-item:only-child::after {width: 0;}#sk-container-id-3 div.sk-dashed-wrapped {border: 1px dashed gray;margin: 0 0.4em 0.5em 0.4em;box-sizing: border-box;padding-bottom: 0.4em;background-color: white;}#sk-container-id-3 div.sk-label label {font-family: monospace;font-weight: bold;display: inline-block;line-height: 1.2em;}#sk-container-id-3 div.sk-label-container {text-align: center;}#sk-container-id-3 div.sk-container {/* jupyter's `normalize.less` sets `[hidden] { display: none; }` but bootstrap.min.css set `[hidden] { display: none !important; }` so we also need the `!important` here to be able to override the default hidden behavior on the sphinx rendered scikit-learn.org. See: https://github.com/scikit-learn/scikit-learn/issues/21755 */display: inline-block !important;position: relative;}#sk-container-id-3 div.sk-text-repr-fallback {display: none;}</style><div id=\"sk-container-id-3\" class=\"sk-top-container\"><div class=\"sk-text-repr-fallback\"><pre>RandomForestClassifier(class_weight=&#x27;balanced&#x27;, max_features=&#x27;log2&#x27;,\n                       n_estimators=200, random_state=11)</pre><b>In a Jupyter environment, please rerun this cell to show the HTML representation or trust the notebook. <br />On GitHub, the HTML representation is unable to render, please try loading this page with nbviewer.org.</b></div><div class=\"sk-container\" hidden><div class=\"sk-item\"><div class=\"sk-estimator sk-toggleable\"><input class=\"sk-toggleable__control sk-hidden--visually\" id=\"sk-estimator-id-3\" type=\"checkbox\" checked><label for=\"sk-estimator-id-3\" class=\"sk-toggleable__label sk-toggleable__label-arrow\">RandomForestClassifier</label><div class=\"sk-toggleable__content\"><pre>RandomForestClassifier(class_weight=&#x27;balanced&#x27;, max_features=&#x27;log2&#x27;,\n                       n_estimators=200, random_state=11)</pre></div></div></div></div></div>"
     },
     "metadata": {}
    }
   ]
  },
  {
   "cell_type": "code",
   "metadata": {
    "id": "4ld97UaeLtYM",
    "executionInfo": {
     "status": "ok",
     "timestamp": 1657946547805,
     "user_tz": 180,
     "elapsed": 2317,
     "user": {
      "displayName": "William Wallace",
      "userId": "02462327362597608294"
     }
    },
    "deepnote_to_be_reexecuted": false,
    "source_hash": "43cafc5a",
    "cell_id": "00041-fdcc1750-e093-4df5-85f6-4c76fe0b96dc",
    "execution_start": 1658108168960,
    "execution_millis": 1497,
    "deepnote_cell_type": "code",
    "deepnote_cell_height": 99
   },
   "source": "y_train_pred = model.predict(X_train) #Prediccion en Train\ny_test_pred = model.predict(X_test) #Prediccion en Test",
   "execution_count": null,
   "outputs": []
  },
  {
   "cell_type": "code",
   "metadata": {
    "colab": {
     "base_uri": "https://localhost:8080/"
    },
    "id": "Qxh7ZFSCLw_t",
    "executionInfo": {
     "status": "ok",
     "timestamp": 1657946547806,
     "user_tz": 180,
     "elapsed": 9,
     "user": {
      "displayName": "William Wallace",
      "userId": "02462327362597608294"
     }
    },
    "outputId": "650f4a44-5abc-4416-f20f-18a105408a17",
    "deepnote_to_be_reexecuted": false,
    "source_hash": "e5fe2dbd",
    "cell_id": "00042-f7e148a1-3515-44a0-a9cb-011181e9e414",
    "execution_start": 1658108170462,
    "execution_millis": 42,
    "deepnote_cell_type": "code",
    "deepnote_cell_height": 294.375
   },
   "source": "from sklearn.metrics import accuracy_score\n\n#Calculo el accuracy en Train\ntrain_accuracy = accuracy_score(y_train, y_train_pred)\n\n#Calculo el accuracy en Test\ntest_accuracy = accuracy_score(y_test, y_test_pred)\n\nprint('% de aciertos sobre el set de entrenamiento:', train_accuracy*100)\nprint('% de aciertos sobre el set de evaluación:',test_accuracy*100)",
   "execution_count": null,
   "outputs": [
    {
     "name": "stdout",
     "text": "% de aciertos sobre el set de entrenamiento: 0.5650981400531413\n% de aciertos sobre el set de evaluación: 0.5075661622558496\n",
     "output_type": "stream"
    }
   ]
  },
  {
   "cell_type": "markdown",
   "source": "## REGRESION LOGISTICA",
   "metadata": {
    "id": "LUtWFhSBHTIK",
    "cell_id": "00043-bdccee54-a415-4a24-9f45-53b9f852bed3",
    "deepnote_cell_type": "markdown",
    "deepnote_cell_height": 70
   }
  },
  {
   "cell_type": "code",
   "metadata": {
    "colab": {
     "base_uri": "https://localhost:8080/"
    },
    "id": "KSRxR-NoLy4H",
    "executionInfo": {
     "status": "ok",
     "timestamp": 1657946549727,
     "user_tz": 180,
     "elapsed": 1928,
     "user": {
      "displayName": "William Wallace",
      "userId": "02462327362597608294"
     }
    },
    "outputId": "f712d0e1-fde3-402b-cb71-8b2eb038f46a",
    "deepnote_to_be_reexecuted": false,
    "source_hash": "928a8e6b",
    "cell_id": "00044-671e9ea2-31c1-4dc7-8e0f-2c9c063932fb",
    "execution_start": 1658108170503,
    "execution_millis": 409,
    "deepnote_cell_type": "code",
    "deepnote_cell_height": 319.34375,
    "deepnote_output_heights": [
     60.34375
    ]
   },
   "source": "#Entrenamos un modelo de regresión logística\n\n# Paso 3: importamos la clase LogisticRegresion de scikit-learn\nfrom sklearn.linear_model import LogisticRegression\n\n# Paso 4: Creamos una instancia de la Regresión Logística\nregresion_logistica = LogisticRegression()\n\n# Paso 5: Entrenamos la regresión logística con los datos de entrenamiento\nregresion_logistica.fit(X,y)",
   "execution_count": null,
   "outputs": [
    {
     "output_type": "execute_result",
     "execution_count": 41,
     "data": {
      "text/plain": "LogisticRegression()",
      "text/html": "<style>#sk-container-id-4 {color: black;background-color: white;}#sk-container-id-4 pre{padding: 0;}#sk-container-id-4 div.sk-toggleable {background-color: white;}#sk-container-id-4 label.sk-toggleable__label {cursor: pointer;display: block;width: 100%;margin-bottom: 0;padding: 0.3em;box-sizing: border-box;text-align: center;}#sk-container-id-4 label.sk-toggleable__label-arrow:before {content: \"▸\";float: left;margin-right: 0.25em;color: #696969;}#sk-container-id-4 label.sk-toggleable__label-arrow:hover:before {color: black;}#sk-container-id-4 div.sk-estimator:hover label.sk-toggleable__label-arrow:before {color: black;}#sk-container-id-4 div.sk-toggleable__content {max-height: 0;max-width: 0;overflow: hidden;text-align: left;background-color: #f0f8ff;}#sk-container-id-4 div.sk-toggleable__content pre {margin: 0.2em;color: black;border-radius: 0.25em;background-color: #f0f8ff;}#sk-container-id-4 input.sk-toggleable__control:checked~div.sk-toggleable__content {max-height: 200px;max-width: 100%;overflow: auto;}#sk-container-id-4 input.sk-toggleable__control:checked~label.sk-toggleable__label-arrow:before {content: \"▾\";}#sk-container-id-4 div.sk-estimator input.sk-toggleable__control:checked~label.sk-toggleable__label {background-color: #d4ebff;}#sk-container-id-4 div.sk-label input.sk-toggleable__control:checked~label.sk-toggleable__label {background-color: #d4ebff;}#sk-container-id-4 input.sk-hidden--visually {border: 0;clip: rect(1px 1px 1px 1px);clip: rect(1px, 1px, 1px, 1px);height: 1px;margin: -1px;overflow: hidden;padding: 0;position: absolute;width: 1px;}#sk-container-id-4 div.sk-estimator {font-family: monospace;background-color: #f0f8ff;border: 1px dotted black;border-radius: 0.25em;box-sizing: border-box;margin-bottom: 0.5em;}#sk-container-id-4 div.sk-estimator:hover {background-color: #d4ebff;}#sk-container-id-4 div.sk-parallel-item::after {content: \"\";width: 100%;border-bottom: 1px solid gray;flex-grow: 1;}#sk-container-id-4 div.sk-label:hover label.sk-toggleable__label {background-color: #d4ebff;}#sk-container-id-4 div.sk-serial::before {content: \"\";position: absolute;border-left: 1px solid gray;box-sizing: border-box;top: 0;bottom: 0;left: 50%;z-index: 0;}#sk-container-id-4 div.sk-serial {display: flex;flex-direction: column;align-items: center;background-color: white;padding-right: 0.2em;padding-left: 0.2em;position: relative;}#sk-container-id-4 div.sk-item {position: relative;z-index: 1;}#sk-container-id-4 div.sk-parallel {display: flex;align-items: stretch;justify-content: center;background-color: white;position: relative;}#sk-container-id-4 div.sk-item::before, #sk-container-id-4 div.sk-parallel-item::before {content: \"\";position: absolute;border-left: 1px solid gray;box-sizing: border-box;top: 0;bottom: 0;left: 50%;z-index: -1;}#sk-container-id-4 div.sk-parallel-item {display: flex;flex-direction: column;z-index: 1;position: relative;background-color: white;}#sk-container-id-4 div.sk-parallel-item:first-child::after {align-self: flex-end;width: 50%;}#sk-container-id-4 div.sk-parallel-item:last-child::after {align-self: flex-start;width: 50%;}#sk-container-id-4 div.sk-parallel-item:only-child::after {width: 0;}#sk-container-id-4 div.sk-dashed-wrapped {border: 1px dashed gray;margin: 0 0.4em 0.5em 0.4em;box-sizing: border-box;padding-bottom: 0.4em;background-color: white;}#sk-container-id-4 div.sk-label label {font-family: monospace;font-weight: bold;display: inline-block;line-height: 1.2em;}#sk-container-id-4 div.sk-label-container {text-align: center;}#sk-container-id-4 div.sk-container {/* jupyter's `normalize.less` sets `[hidden] { display: none; }` but bootstrap.min.css set `[hidden] { display: none !important; }` so we also need the `!important` here to be able to override the default hidden behavior on the sphinx rendered scikit-learn.org. See: https://github.com/scikit-learn/scikit-learn/issues/21755 */display: inline-block !important;position: relative;}#sk-container-id-4 div.sk-text-repr-fallback {display: none;}</style><div id=\"sk-container-id-4\" class=\"sk-top-container\"><div class=\"sk-text-repr-fallback\"><pre>LogisticRegression()</pre><b>In a Jupyter environment, please rerun this cell to show the HTML representation or trust the notebook. <br />On GitHub, the HTML representation is unable to render, please try loading this page with nbviewer.org.</b></div><div class=\"sk-container\" hidden><div class=\"sk-item\"><div class=\"sk-estimator sk-toggleable\"><input class=\"sk-toggleable__control sk-hidden--visually\" id=\"sk-estimator-id-4\" type=\"checkbox\" checked><label for=\"sk-estimator-id-4\" class=\"sk-toggleable__label sk-toggleable__label-arrow\">LogisticRegression</label><div class=\"sk-toggleable__content\"><pre>LogisticRegression()</pre></div></div></div></div></div>"
     },
     "metadata": {}
    }
   ]
  },
  {
   "cell_type": "code",
   "metadata": {
    "id": "1i-h0wQlHYAW",
    "executionInfo": {
     "status": "ok",
     "timestamp": 1657946549728,
     "user_tz": 180,
     "elapsed": 21,
     "user": {
      "displayName": "William Wallace",
      "userId": "02462327362597608294"
     }
    },
    "deepnote_to_be_reexecuted": false,
    "source_hash": "c77276ae",
    "cell_id": "00045-5d446956-9aa5-455f-a4ef-1d950dedce83",
    "execution_start": 1658108170918,
    "execution_millis": 17,
    "deepnote_cell_type": "code",
    "deepnote_cell_height": 99
   },
   "source": "y_train_pred = regresion_logistica.predict(X_train) #Prediccion en Train\ny_test_pred = regresion_logistica.predict(X_test) #Prediccion en Test",
   "execution_count": null,
   "outputs": []
  },
  {
   "cell_type": "code",
   "metadata": {
    "colab": {
     "base_uri": "https://localhost:8080/"
    },
    "id": "LPIHworpHkeH",
    "executionInfo": {
     "status": "ok",
     "timestamp": 1657946549729,
     "user_tz": 180,
     "elapsed": 20,
     "user": {
      "displayName": "William Wallace",
      "userId": "02462327362597608294"
     }
    },
    "outputId": "858e6c16-f78e-4065-a6bc-1b79e82ce3bf",
    "deepnote_to_be_reexecuted": false,
    "source_hash": "e5fe2dbd",
    "cell_id": "00046-0e7c4dec-420d-4e9a-875e-c7691ccd7f88",
    "owner_user_id": "f44ae237-a60f-490b-b7e7-4bd6dd520baf",
    "execution_start": 1658108170941,
    "execution_millis": 29,
    "deepnote_cell_type": "code",
    "deepnote_cell_height": 294.375
   },
   "source": "from sklearn.metrics import accuracy_score\n\n#Calculo el accuracy en Train\ntrain_accuracy = accuracy_score(y_train, y_train_pred)\n\n#Calculo el accuracy en Test\ntest_accuracy = accuracy_score(y_test, y_test_pred)\n\nprint('% de aciertos sobre el set de entrenamiento:', train_accuracy*100)\nprint('% de aciertos sobre el set de evaluación:',test_accuracy*100)",
   "execution_count": null,
   "outputs": [
    {
     "name": "stdout",
     "text": "% de aciertos sobre el set de entrenamiento: 0.7108939744578726\n% de aciertos sobre el set de evaluación: 0.6978201453236451\n",
     "output_type": "stream"
    }
   ]
  },
  {
   "cell_type": "code",
   "metadata": {
    "id": "eC4907uHH7Ag",
    "executionInfo": {
     "status": "ok",
     "timestamp": 1657946549730,
     "user_tz": 180,
     "elapsed": 17,
     "user": {
      "displayName": "William Wallace",
      "userId": "02462327362597608294"
     }
    },
    "deepnote_to_be_reexecuted": false,
    "source_hash": "b623e53d",
    "cell_id": "00047-015c829a-ee2d-48f3-aa2a-60a61cbe67be",
    "execution_start": 1658108170974,
    "execution_millis": 31,
    "deepnote_cell_type": "code",
    "deepnote_cell_height": 81
   },
   "source": "",
   "execution_count": null,
   "outputs": []
  },
  {
   "cell_type": "markdown",
   "source": "<a style='text-decoration:none;line-height:16px;display:flex;color:#5B5B62;padding:10px;justify-content:end;' href='https://deepnote.com?utm_source=created-in-deepnote-cell&projectId=1678f438-dd57-41c5-b88b-bfcde7b7ccb5' target=\"_blank\">\n<img alt='Created in deepnote.com' style='display:inline;max-height:16px;margin:0px;margin-right:7.5px;' src='data:image/svg+xml;base64,PD94bWwgdmVyc2lvbj0iMS4wIiBlbmNvZGluZz0iVVRGLTgiPz4KPHN2ZyB3aWR0aD0iODBweCIgaGVpZ2h0PSI4MHB4IiB2aWV3Qm94PSIwIDAgODAgODAiIHZlcnNpb249IjEuMSIgeG1sbnM9Imh0dHA6Ly93d3cudzMub3JnLzIwMDAvc3ZnIiB4bWxuczp4bGluaz0iaHR0cDovL3d3dy53My5vcmcvMTk5OS94bGluayI+CiAgICA8IS0tIEdlbmVyYXRvcjogU2tldGNoIDU0LjEgKDc2NDkwKSAtIGh0dHBzOi8vc2tldGNoYXBwLmNvbSAtLT4KICAgIDx0aXRsZT5Hcm91cCAzPC90aXRsZT4KICAgIDxkZXNjPkNyZWF0ZWQgd2l0aCBTa2V0Y2guPC9kZXNjPgogICAgPGcgaWQ9IkxhbmRpbmciIHN0cm9rZT0ibm9uZSIgc3Ryb2tlLXdpZHRoPSIxIiBmaWxsPSJub25lIiBmaWxsLXJ1bGU9ImV2ZW5vZGQiPgogICAgICAgIDxnIGlkPSJBcnRib2FyZCIgdHJhbnNmb3JtPSJ0cmFuc2xhdGUoLTEyMzUuMDAwMDAwLCAtNzkuMDAwMDAwKSI+CiAgICAgICAgICAgIDxnIGlkPSJHcm91cC0zIiB0cmFuc2Zvcm09InRyYW5zbGF0ZSgxMjM1LjAwMDAwMCwgNzkuMDAwMDAwKSI+CiAgICAgICAgICAgICAgICA8cG9seWdvbiBpZD0iUGF0aC0yMCIgZmlsbD0iIzAyNjVCNCIgcG9pbnRzPSIyLjM3NjIzNzYyIDgwIDM4LjA0NzY2NjcgODAgNTcuODIxNzgyMiA3My44MDU3NTkyIDU3LjgyMTc4MjIgMzIuNzU5MjczOSAzOS4xNDAyMjc4IDMxLjY4MzE2ODMiPjwvcG9seWdvbj4KICAgICAgICAgICAgICAgIDxwYXRoIGQ9Ik0zNS4wMDc3MTgsODAgQzQyLjkwNjIwMDcsNzYuNDU0OTM1OCA0Ny41NjQ5MTY3LDcxLjU0MjI2NzEgNDguOTgzODY2LDY1LjI2MTk5MzkgQzUxLjExMjI4OTksNTUuODQxNTg0MiA0MS42NzcxNzk1LDQ5LjIxMjIyODQgMjUuNjIzOTg0Niw0OS4yMTIyMjg0IEMyNS40ODQ5Mjg5LDQ5LjEyNjg0NDggMjkuODI2MTI5Niw0My4yODM4MjQ4IDM4LjY0NzU4NjksMzEuNjgzMTY4MyBMNzIuODcxMjg3MSwzMi41NTQ0MjUgTDY1LjI4MDk3Myw2Ny42NzYzNDIxIEw1MS4xMTIyODk5LDc3LjM3NjE0NCBMMzUuMDA3NzE4LDgwIFoiIGlkPSJQYXRoLTIyIiBmaWxsPSIjMDAyODY4Ij48L3BhdGg+CiAgICAgICAgICAgICAgICA8cGF0aCBkPSJNMCwzNy43MzA0NDA1IEwyNy4xMTQ1MzcsMC4yNTcxMTE0MzYgQzYyLjM3MTUxMjMsLTEuOTkwNzE3MDEgODAsMTAuNTAwMzkyNyA4MCwzNy43MzA0NDA1IEM4MCw2NC45NjA0ODgyIDY0Ljc3NjUwMzgsNzkuMDUwMzQxNCAzNC4zMjk1MTEzLDgwIEM0Ny4wNTUzNDg5LDc3LjU2NzA4MDggNTMuNDE4MjY3Nyw3MC4zMTM2MTAzIDUzLjQxODI2NzcsNTguMjM5NTg4NSBDNTMuNDE4MjY3Nyw0MC4xMjg1NTU3IDM2LjMwMzk1NDQsMzcuNzMwNDQwNSAyNS4yMjc0MTcsMzcuNzMwNDQwNSBDMTcuODQzMDU4NiwzNy43MzA0NDA1IDkuNDMzOTE5NjYsMzcuNzMwNDQwNSAwLDM3LjczMDQ0MDUgWiIgaWQ9IlBhdGgtMTkiIGZpbGw9IiMzNzkzRUYiPjwvcGF0aD4KICAgICAgICAgICAgPC9nPgogICAgICAgIDwvZz4KICAgIDwvZz4KPC9zdmc+' > </img>\nCreated in <span style='font-weight:600;margin-left:4px;'>Deepnote</span></a>",
   "metadata": {
    "tags": [],
    "created_in_deepnote_cell": true,
    "deepnote_cell_type": "markdown"
   }
  }
 ],
 "nbformat": 4,
 "nbformat_minor": 0,
 "metadata": {
  "colab": {
   "name": "Algoritimos_de_clasificacion_+_Lopez,_Gomez,_Nesci,_Robert.ipynb",
   "provenance": [],
   "collapsed_sections": [],
   "mount_file_id": "1MAEWkIefJoTNJEsrTiVgKYJBtrnQcbuL",
   "authorship_tag": "ABX9TyPhzMI+G1fy53ZCtQbGnErI"
  },
  "kernelspec": {
   "name": "python3",
   "display_name": "Python 3"
  },
  "language_info": {
   "name": "python"
  },
  "deepnote_notebook_id": "10d36e5e-5021-4a6c-925a-e5648cf8cf58",
  "deepnote": {},
  "deepnote_execution_queue": []
 }
}