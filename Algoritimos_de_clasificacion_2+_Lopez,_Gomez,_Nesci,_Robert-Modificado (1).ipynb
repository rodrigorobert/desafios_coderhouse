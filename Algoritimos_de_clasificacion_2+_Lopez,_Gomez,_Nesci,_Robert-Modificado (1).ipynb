{
 "cells": [
  {
   "cell_type": "markdown",
   "source": "# **Proyecto Final**\n## Algoritmos de clasificación 2\n# ![](https://i.gifer.com/7ARb.gif)\nIntegrantes:\n\n\n*   Esteban Nesci\n*   Analía López\n*   Alejandro Gómez Fernández\n*   Rodrigo Robert\n\nProyecto: Análisis de sentimientos en Twitter: hepatitis.\nALgoritmos de clasificación\nSobre el dataset del proyecto final, realizar la creación e implementación de al menos uno de los algoritmos de clasificación vistos en la sesión de hoy (KNN, Random Forest,Regresión Logística).\n>> Consigna:\n● Implementar al menos uno de los algoritmos de clasificación vistos en la sesión de hoy con el dataset propuesto para el proyecto final del curso.\n>> Recomendaciones:\n● Basarse en los entregables anteriores para la resolución de la presente actividad.\n● Realizar una comparación de los modelos obtenidos y su performance.\n● Sería de mucha utilidad aplicar más de un método de clasificación.\n\n",
   "metadata": {
    "cell_id": "6afb83e544d64edb9995d0d7ef0ac79b",
    "tags": [],
    "deepnote_cell_type": "markdown",
    "deepnote_cell_height": 892.859375
   }
  },
  {
   "cell_type": "code",
   "metadata": {
    "deepnote_to_be_reexecuted": false,
    "executionInfo": {
     "elapsed": 870,
     "status": "ok",
     "timestamp": 1657946211762,
     "user": {
      "displayName": "William Wallace",
      "userId": "02462327362597608294"
     },
     "user_tz": 180
    },
    "execution_millis": 1604,
    "execution_start": 1658369189823,
    "id": "5SrCsbmng--X",
    "source_hash": "17933c47",
    "cell_id": "7ecb5703-7840-4bcc-9523-9b929e5ac884",
    "deepnote_cell_type": "code",
    "deepnote_cell_height": 207
   },
   "source": "#Importamos las librerias y el dataset\nimport pandas as pd\nimport numpy as np\nimport seaborn as sns\n\n# Configuración warnings\nimport warnings\nwarnings.filterwarnings('ignore')",
   "outputs": [],
   "execution_count": null
  },
  {
   "cell_type": "code",
   "metadata": {
    "deepnote_to_be_reexecuted": false,
    "executionInfo": {
     "elapsed": 503,
     "status": "ok",
     "timestamp": 1657946212263,
     "user": {
      "displayName": "William Wallace",
      "userId": "02462327362597608294"
     },
     "user_tz": 180
    },
    "execution_millis": 1097,
    "execution_start": 1658369191430,
    "id": "kZb1PLw13ZIe",
    "source_hash": "498e9fe7",
    "cell_id": "00001-8f44ef6e-4546-42b1-883f-2d4460c3d07c",
    "deepnote_cell_type": "code",
    "deepnote_cell_height": 448
   },
   "source": "#accedo a los datos\ndf = pd.read_csv(\"hepatitis_tag.csv\", lineterminator='\\n')\ndf.head(5)",
   "outputs": [
    {
     "output_type": "execute_result",
     "execution_count": 2,
     "data": {
      "application/vnd.deepnote.dataframe.v3+json": {
       "column_count": 40,
       "row_count": 5,
       "columns": [
        {
         "name": "Unnamed: 0",
         "dtype": "int64",
         "stats": {
          "unique_count": 5,
          "nan_count": 0,
          "min": "0",
          "max": "4",
          "histogram": [
           {
            "bin_start": 0,
            "bin_end": 0.4,
            "count": 1
           },
           {
            "bin_start": 0.4,
            "bin_end": 0.8,
            "count": 0
           },
           {
            "bin_start": 0.8,
            "bin_end": 1.2000000000000002,
            "count": 1
           },
           {
            "bin_start": 1.2000000000000002,
            "bin_end": 1.6,
            "count": 0
           },
           {
            "bin_start": 1.6,
            "bin_end": 2,
            "count": 0
           },
           {
            "bin_start": 2,
            "bin_end": 2.4000000000000004,
            "count": 1
           },
           {
            "bin_start": 2.4000000000000004,
            "bin_end": 2.8000000000000003,
            "count": 0
           },
           {
            "bin_start": 2.8000000000000003,
            "bin_end": 3.2,
            "count": 1
           },
           {
            "bin_start": 3.2,
            "bin_end": 3.6,
            "count": 0
           },
           {
            "bin_start": 3.6,
            "bin_end": 4,
            "count": 1
           }
          ]
         }
        },
        {
         "name": "id",
         "dtype": "int64",
         "stats": {
          "unique_count": 5,
          "nan_count": 0,
          "min": "1523478649827078144",
          "max": "1523479063272525824",
          "histogram": [
           {
            "bin_start": 1523478649827078100,
            "bin_end": 1523478691171623000,
            "count": 1
           },
           {
            "bin_start": 1523478691171623000,
            "bin_end": 1523478732516167700,
            "count": 0
           },
           {
            "bin_start": 1523478732516167700,
            "bin_end": 1523478773860712400,
            "count": 0
           },
           {
            "bin_start": 1523478773860712400,
            "bin_end": 1523478815205257200,
            "count": 0
           },
           {
            "bin_start": 1523478815205257200,
            "bin_end": 1523478856549802000,
            "count": 1
           },
           {
            "bin_start": 1523478856549802000,
            "bin_end": 1523478897894346800,
            "count": 0
           },
           {
            "bin_start": 1523478897894346800,
            "bin_end": 1523478939238891500,
            "count": 0
           },
           {
            "bin_start": 1523478939238891500,
            "bin_end": 1523478980583436300,
            "count": 1
           },
           {
            "bin_start": 1523478980583436300,
            "bin_end": 1523479021927981000,
            "count": 1
           },
           {
            "bin_start": 1523479021927981000,
            "bin_end": 1523479063272525800,
            "count": 1
           }
          ]
         }
        },
        {
         "name": "conversation_id",
         "dtype": "int64",
         "stats": {
          "unique_count": 4,
          "nan_count": 0,
          "min": "1523418175878037504",
          "max": "1523479063272525824",
          "histogram": [
           {
            "bin_start": 1523418175878037500,
            "bin_end": 1523424264617486300,
            "count": 2
           },
           {
            "bin_start": 1523424264617486300,
            "bin_end": 1523430353356935200,
            "count": 1
           },
           {
            "bin_start": 1523430353356935200,
            "bin_end": 1523436442096384000,
            "count": 0
           },
           {
            "bin_start": 1523436442096384000,
            "bin_end": 1523442530835832800,
            "count": 0
           },
           {
            "bin_start": 1523442530835832800,
            "bin_end": 1523448619575281700,
            "count": 0
           },
           {
            "bin_start": 1523448619575281700,
            "bin_end": 1523454708314730500,
            "count": 0
           },
           {
            "bin_start": 1523454708314730500,
            "bin_end": 1523460797054179300,
            "count": 0
           },
           {
            "bin_start": 1523460797054179300,
            "bin_end": 1523466885793628200,
            "count": 0
           },
           {
            "bin_start": 1523466885793628200,
            "bin_end": 1523472974533077000,
            "count": 0
           },
           {
            "bin_start": 1523472974533077000,
            "bin_end": 1523479063272525800,
            "count": 2
           }
          ]
         }
        },
        {
         "name": "created_at",
         "dtype": "object",
         "stats": {
          "unique_count": 5,
          "nan_count": 0,
          "categories": [
           {
            "name": "2022-05-08 22:44:48 -03",
            "count": 1
           },
           {
            "name": "2022-05-08 22:44:35 -03",
            "count": 1
           },
           {
            "name": "3 others",
            "count": 3
           }
          ]
         }
        },
        {
         "name": "date",
         "dtype": "object",
         "stats": {
          "unique_count": 1,
          "nan_count": 0,
          "categories": [
           {
            "name": "2022-05-08",
            "count": 5
           }
          ]
         }
        },
        {
         "name": "time",
         "dtype": "object",
         "stats": {
          "unique_count": 5,
          "nan_count": 0,
          "categories": [
           {
            "name": "22:44:48",
            "count": 1
           },
           {
            "name": "22:44:35",
            "count": 1
           },
           {
            "name": "3 others",
            "count": 3
           }
          ]
         }
        },
        {
         "name": "timezone",
         "dtype": "int64",
         "stats": {
          "unique_count": 1,
          "nan_count": 0,
          "min": "-300",
          "max": "-300",
          "histogram": [
           {
            "bin_start": -300.5,
            "bin_end": -300.4,
            "count": 0
           },
           {
            "bin_start": -300.4,
            "bin_end": -300.3,
            "count": 0
           },
           {
            "bin_start": -300.3,
            "bin_end": -300.2,
            "count": 0
           },
           {
            "bin_start": -300.2,
            "bin_end": -300.1,
            "count": 0
           },
           {
            "bin_start": -300.1,
            "bin_end": -300,
            "count": 0
           },
           {
            "bin_start": -300,
            "bin_end": -299.9,
            "count": 5
           },
           {
            "bin_start": -299.9,
            "bin_end": -299.8,
            "count": 0
           },
           {
            "bin_start": -299.8,
            "bin_end": -299.7,
            "count": 0
           },
           {
            "bin_start": -299.7,
            "bin_end": -299.6,
            "count": 0
           },
           {
            "bin_start": -299.6,
            "bin_end": -299.5,
            "count": 0
           }
          ]
         }
        },
        {
         "name": "user_id",
         "dtype": "int64",
         "stats": {
          "unique_count": 4,
          "nan_count": 0,
          "min": "49024508",
          "max": "1467606239119089676",
          "histogram": [
           {
            "bin_start": 49024508,
            "bin_end": 146760623956031040,
            "count": 3
           },
           {
            "bin_start": 146760623956031040,
            "bin_end": 293521247863037600,
            "count": 0
           },
           {
            "bin_start": 293521247863037600,
            "bin_end": 440281871770044100,
            "count": 0
           },
           {
            "bin_start": 440281871770044100,
            "bin_end": 587042495677050600,
            "count": 0
           },
           {
            "bin_start": 587042495677050600,
            "bin_end": 733803119584057100,
            "count": 0
           },
           {
            "bin_start": 733803119584057100,
            "bin_end": 880563743491063700,
            "count": 0
           },
           {
            "bin_start": 880563743491063700,
            "bin_end": 1027324367398070300,
            "count": 0
           },
           {
            "bin_start": 1027324367398070300,
            "bin_end": 1174084991305076700,
            "count": 0
           },
           {
            "bin_start": 1174084991305076700,
            "bin_end": 1320845615212083200,
            "count": 0
           },
           {
            "bin_start": 1320845615212083200,
            "bin_end": 1467606239119089700,
            "count": 2
           }
          ]
         }
        },
        {
         "name": "username",
         "dtype": "object",
         "stats": {
          "unique_count": 4,
          "nan_count": 0,
          "categories": [
           {
            "name": "griffinjones25",
            "count": 2
           },
           {
            "name": "onionweigher",
            "count": 1
           },
           {
            "name": "2 others",
            "count": 2
           }
          ]
         }
        },
        {
         "name": "name",
         "dtype": "object",
         "stats": {
          "unique_count": 4,
          "nan_count": 0,
          "categories": [
           {
            "name": "GJ",
            "count": 2
           },
           {
            "name": "Onion Weigher 🧅⚖️",
            "count": 1
           },
           {
            "name": "2 others",
            "count": 2
           }
          ]
         }
        },
        {
         "name": "place",
         "dtype": "object",
         "stats": {
          "unique_count": 0,
          "nan_count": 5,
          "categories": [
           {
            "name": "Missing",
            "count": 5
           }
          ]
         }
        },
        {
         "name": "tweet",
         "dtype": "object",
         "stats": {
          "unique_count": 5,
          "nan_count": 0,
          "categories": [
           {
            "name": "Tried to take my children to Chi-Chi's but it was a wasteland. No sneeze guard at the salad bar, the employees had cell phones, two vast and trunkless legs of stone stood desolately next to the restrooms. Grew up with salsafication and hepatitis A outbreaks. It's all gone now.",
            "count": 1
           },
           {
            "name": "@stargazeruk7 Hep A like you mention is an entirely different disease than autoimmune hepatitis.",
            "count": 1
           },
           {
            "name": "3 others",
            "count": 3
           }
          ]
         }
        },
        {
         "name": "language",
         "dtype": "object",
         "stats": {
          "unique_count": 2,
          "nan_count": 0,
          "categories": [
           {
            "name": "en",
            "count": 4
           },
           {
            "name": "es",
            "count": 1
           }
          ]
         }
        },
        {
         "name": "mentions",
         "dtype": "object",
         "stats": {
          "unique_count": 1,
          "nan_count": 0,
          "categories": [
           {
            "name": "[]",
            "count": 5
           }
          ]
         }
        },
        {
         "name": "urls",
         "dtype": "object",
         "stats": {
          "unique_count": 2,
          "nan_count": 0,
          "categories": [
           {
            "name": "[]",
            "count": 4
           },
           {
            "name": "['https://ideallya.github.io/news/MT/Q5MDMyMjUxODg1OTAwMjI5NjA3NjE3NDU2Njg5ODc2MzY1NzE1.html']",
            "count": 1
           }
          ]
         }
        },
        {
         "name": "photos",
         "dtype": "object",
         "stats": {
          "unique_count": 1,
          "nan_count": 0,
          "categories": [
           {
            "name": "[]",
            "count": 5
           }
          ]
         }
        },
        {
         "name": "replies_count",
         "dtype": "int64",
         "stats": {
          "unique_count": 1,
          "nan_count": 0,
          "min": "0",
          "max": "0",
          "histogram": [
           {
            "bin_start": -0.5,
            "bin_end": -0.4,
            "count": 0
           },
           {
            "bin_start": -0.4,
            "bin_end": -0.3,
            "count": 0
           },
           {
            "bin_start": -0.3,
            "bin_end": -0.19999999999999996,
            "count": 0
           },
           {
            "bin_start": -0.19999999999999996,
            "bin_end": -0.09999999999999998,
            "count": 0
           },
           {
            "bin_start": -0.09999999999999998,
            "bin_end": 0,
            "count": 0
           },
           {
            "bin_start": 0,
            "bin_end": 0.10000000000000009,
            "count": 5
           },
           {
            "bin_start": 0.10000000000000009,
            "bin_end": 0.20000000000000007,
            "count": 0
           },
           {
            "bin_start": 0.20000000000000007,
            "bin_end": 0.30000000000000004,
            "count": 0
           },
           {
            "bin_start": 0.30000000000000004,
            "bin_end": 0.4,
            "count": 0
           },
           {
            "bin_start": 0.4,
            "bin_end": 0.5,
            "count": 0
           }
          ]
         }
        },
        {
         "name": "retweets_count",
         "dtype": "int64",
         "stats": {
          "unique_count": 1,
          "nan_count": 0,
          "min": "0",
          "max": "0",
          "histogram": [
           {
            "bin_start": -0.5,
            "bin_end": -0.4,
            "count": 0
           },
           {
            "bin_start": -0.4,
            "bin_end": -0.3,
            "count": 0
           },
           {
            "bin_start": -0.3,
            "bin_end": -0.19999999999999996,
            "count": 0
           },
           {
            "bin_start": -0.19999999999999996,
            "bin_end": -0.09999999999999998,
            "count": 0
           },
           {
            "bin_start": -0.09999999999999998,
            "bin_end": 0,
            "count": 0
           },
           {
            "bin_start": 0,
            "bin_end": 0.10000000000000009,
            "count": 5
           },
           {
            "bin_start": 0.10000000000000009,
            "bin_end": 0.20000000000000007,
            "count": 0
           },
           {
            "bin_start": 0.20000000000000007,
            "bin_end": 0.30000000000000004,
            "count": 0
           },
           {
            "bin_start": 0.30000000000000004,
            "bin_end": 0.4,
            "count": 0
           },
           {
            "bin_start": 0.4,
            "bin_end": 0.5,
            "count": 0
           }
          ]
         }
        },
        {
         "name": "likes_count",
         "dtype": "int64",
         "stats": {
          "unique_count": 1,
          "nan_count": 0,
          "min": "0",
          "max": "0",
          "histogram": [
           {
            "bin_start": -0.5,
            "bin_end": -0.4,
            "count": 0
           },
           {
            "bin_start": -0.4,
            "bin_end": -0.3,
            "count": 0
           },
           {
            "bin_start": -0.3,
            "bin_end": -0.19999999999999996,
            "count": 0
           },
           {
            "bin_start": -0.19999999999999996,
            "bin_end": -0.09999999999999998,
            "count": 0
           },
           {
            "bin_start": -0.09999999999999998,
            "bin_end": 0,
            "count": 0
           },
           {
            "bin_start": 0,
            "bin_end": 0.10000000000000009,
            "count": 5
           },
           {
            "bin_start": 0.10000000000000009,
            "bin_end": 0.20000000000000007,
            "count": 0
           },
           {
            "bin_start": 0.20000000000000007,
            "bin_end": 0.30000000000000004,
            "count": 0
           },
           {
            "bin_start": 0.30000000000000004,
            "bin_end": 0.4,
            "count": 0
           },
           {
            "bin_start": 0.4,
            "bin_end": 0.5,
            "count": 0
           }
          ]
         }
        },
        {
         "name": "hashtags",
         "dtype": "object",
         "stats": {
          "unique_count": 2,
          "nan_count": 0,
          "categories": [
           {
            "name": "[]",
            "count": 4
           },
           {
            "name": "['childhood', 'health', 'safety', 'uk']",
            "count": 1
           }
          ]
         }
        },
        {
         "name": "cashtags",
         "dtype": "object",
         "stats": {
          "unique_count": 1,
          "nan_count": 0,
          "categories": [
           {
            "name": "[]",
            "count": 5
           }
          ]
         }
        },
        {
         "name": "link",
         "dtype": "object",
         "stats": {
          "unique_count": 5,
          "nan_count": 0,
          "categories": [
           {
            "name": "https://twitter.com/onionweigher/status/1523479063272525824",
            "count": 1
           },
           {
            "name": "https://twitter.com/griffinjones25/status/1523479009694158848",
            "count": 1
           },
           {
            "name": "3 others",
            "count": 3
           }
          ]
         }
        },
        {
         "name": "retweet",
         "dtype": "bool",
         "stats": {
          "unique_count": 1,
          "nan_count": 0,
          "categories": [
           {
            "name": "False",
            "count": 5
           }
          ]
         }
        },
        {
         "name": "quote_url",
         "dtype": "object",
         "stats": {
          "unique_count": 0,
          "nan_count": 5,
          "categories": [
           {
            "name": "Missing",
            "count": 5
           }
          ]
         }
        },
        {
         "name": "video",
         "dtype": "int64",
         "stats": {
          "unique_count": 1,
          "nan_count": 0,
          "min": "0",
          "max": "0",
          "histogram": [
           {
            "bin_start": -0.5,
            "bin_end": -0.4,
            "count": 0
           },
           {
            "bin_start": -0.4,
            "bin_end": -0.3,
            "count": 0
           },
           {
            "bin_start": -0.3,
            "bin_end": -0.19999999999999996,
            "count": 0
           },
           {
            "bin_start": -0.19999999999999996,
            "bin_end": -0.09999999999999998,
            "count": 0
           },
           {
            "bin_start": -0.09999999999999998,
            "bin_end": 0,
            "count": 0
           },
           {
            "bin_start": 0,
            "bin_end": 0.10000000000000009,
            "count": 5
           },
           {
            "bin_start": 0.10000000000000009,
            "bin_end": 0.20000000000000007,
            "count": 0
           },
           {
            "bin_start": 0.20000000000000007,
            "bin_end": 0.30000000000000004,
            "count": 0
           },
           {
            "bin_start": 0.30000000000000004,
            "bin_end": 0.4,
            "count": 0
           },
           {
            "bin_start": 0.4,
            "bin_end": 0.5,
            "count": 0
           }
          ]
         }
        },
        {
         "name": "thumbnail",
         "dtype": "object",
         "stats": {
          "unique_count": 0,
          "nan_count": 5,
          "categories": [
           {
            "name": "Missing",
            "count": 5
           }
          ]
         }
        },
        {
         "name": "near",
         "dtype": "float64",
         "stats": {
          "unique_count": 0,
          "nan_count": 5,
          "min": null,
          "max": null,
          "histogram": [
           {
            "bin_start": 0,
            "bin_end": 0.1,
            "count": 0
           },
           {
            "bin_start": 0.1,
            "bin_end": 0.2,
            "count": 0
           },
           {
            "bin_start": 0.2,
            "bin_end": 0.30000000000000004,
            "count": 0
           },
           {
            "bin_start": 0.30000000000000004,
            "bin_end": 0.4,
            "count": 0
           },
           {
            "bin_start": 0.4,
            "bin_end": 0.5,
            "count": 0
           },
           {
            "bin_start": 0.5,
            "bin_end": 0.6000000000000001,
            "count": 0
           },
           {
            "bin_start": 0.6000000000000001,
            "bin_end": 0.7000000000000001,
            "count": 0
           },
           {
            "bin_start": 0.7000000000000001,
            "bin_end": 0.8,
            "count": 0
           },
           {
            "bin_start": 0.8,
            "bin_end": 0.9,
            "count": 0
           },
           {
            "bin_start": 0.9,
            "bin_end": 1,
            "count": 0
           }
          ]
         }
        },
        {
         "name": "geo",
         "dtype": "float64",
         "stats": {
          "unique_count": 0,
          "nan_count": 5,
          "min": null,
          "max": null,
          "histogram": [
           {
            "bin_start": 0,
            "bin_end": 0.1,
            "count": 0
           },
           {
            "bin_start": 0.1,
            "bin_end": 0.2,
            "count": 0
           },
           {
            "bin_start": 0.2,
            "bin_end": 0.30000000000000004,
            "count": 0
           },
           {
            "bin_start": 0.30000000000000004,
            "bin_end": 0.4,
            "count": 0
           },
           {
            "bin_start": 0.4,
            "bin_end": 0.5,
            "count": 0
           },
           {
            "bin_start": 0.5,
            "bin_end": 0.6000000000000001,
            "count": 0
           },
           {
            "bin_start": 0.6000000000000001,
            "bin_end": 0.7000000000000001,
            "count": 0
           },
           {
            "bin_start": 0.7000000000000001,
            "bin_end": 0.8,
            "count": 0
           },
           {
            "bin_start": 0.8,
            "bin_end": 0.9,
            "count": 0
           },
           {
            "bin_start": 0.9,
            "bin_end": 1,
            "count": 0
           }
          ]
         }
        },
        {
         "name": "source",
         "dtype": "float64",
         "stats": {
          "unique_count": 0,
          "nan_count": 5,
          "min": null,
          "max": null,
          "histogram": [
           {
            "bin_start": 0,
            "bin_end": 0.1,
            "count": 0
           },
           {
            "bin_start": 0.1,
            "bin_end": 0.2,
            "count": 0
           },
           {
            "bin_start": 0.2,
            "bin_end": 0.30000000000000004,
            "count": 0
           },
           {
            "bin_start": 0.30000000000000004,
            "bin_end": 0.4,
            "count": 0
           },
           {
            "bin_start": 0.4,
            "bin_end": 0.5,
            "count": 0
           },
           {
            "bin_start": 0.5,
            "bin_end": 0.6000000000000001,
            "count": 0
           },
           {
            "bin_start": 0.6000000000000001,
            "bin_end": 0.7000000000000001,
            "count": 0
           },
           {
            "bin_start": 0.7000000000000001,
            "bin_end": 0.8,
            "count": 0
           },
           {
            "bin_start": 0.8,
            "bin_end": 0.9,
            "count": 0
           },
           {
            "bin_start": 0.9,
            "bin_end": 1,
            "count": 0
           }
          ]
         }
        },
        {
         "name": "user_rt_id",
         "dtype": "float64",
         "stats": {
          "unique_count": 0,
          "nan_count": 5,
          "min": null,
          "max": null,
          "histogram": [
           {
            "bin_start": 0,
            "bin_end": 0.1,
            "count": 0
           },
           {
            "bin_start": 0.1,
            "bin_end": 0.2,
            "count": 0
           },
           {
            "bin_start": 0.2,
            "bin_end": 0.30000000000000004,
            "count": 0
           },
           {
            "bin_start": 0.30000000000000004,
            "bin_end": 0.4,
            "count": 0
           },
           {
            "bin_start": 0.4,
            "bin_end": 0.5,
            "count": 0
           },
           {
            "bin_start": 0.5,
            "bin_end": 0.6000000000000001,
            "count": 0
           },
           {
            "bin_start": 0.6000000000000001,
            "bin_end": 0.7000000000000001,
            "count": 0
           },
           {
            "bin_start": 0.7000000000000001,
            "bin_end": 0.8,
            "count": 0
           },
           {
            "bin_start": 0.8,
            "bin_end": 0.9,
            "count": 0
           },
           {
            "bin_start": 0.9,
            "bin_end": 1,
            "count": 0
           }
          ]
         }
        },
        {
         "name": "user_rt",
         "dtype": "float64",
         "stats": {
          "unique_count": 0,
          "nan_count": 5,
          "min": null,
          "max": null,
          "histogram": [
           {
            "bin_start": 0,
            "bin_end": 0.1,
            "count": 0
           },
           {
            "bin_start": 0.1,
            "bin_end": 0.2,
            "count": 0
           },
           {
            "bin_start": 0.2,
            "bin_end": 0.30000000000000004,
            "count": 0
           },
           {
            "bin_start": 0.30000000000000004,
            "bin_end": 0.4,
            "count": 0
           },
           {
            "bin_start": 0.4,
            "bin_end": 0.5,
            "count": 0
           },
           {
            "bin_start": 0.5,
            "bin_end": 0.6000000000000001,
            "count": 0
           },
           {
            "bin_start": 0.6000000000000001,
            "bin_end": 0.7000000000000001,
            "count": 0
           },
           {
            "bin_start": 0.7000000000000001,
            "bin_end": 0.8,
            "count": 0
           },
           {
            "bin_start": 0.8,
            "bin_end": 0.9,
            "count": 0
           },
           {
            "bin_start": 0.9,
            "bin_end": 1,
            "count": 0
           }
          ]
         }
        },
        {
         "name": "retweet_id",
         "dtype": "float64",
         "stats": {
          "unique_count": 0,
          "nan_count": 5,
          "min": null,
          "max": null,
          "histogram": [
           {
            "bin_start": 0,
            "bin_end": 0.1,
            "count": 0
           },
           {
            "bin_start": 0.1,
            "bin_end": 0.2,
            "count": 0
           },
           {
            "bin_start": 0.2,
            "bin_end": 0.30000000000000004,
            "count": 0
           },
           {
            "bin_start": 0.30000000000000004,
            "bin_end": 0.4,
            "count": 0
           },
           {
            "bin_start": 0.4,
            "bin_end": 0.5,
            "count": 0
           },
           {
            "bin_start": 0.5,
            "bin_end": 0.6000000000000001,
            "count": 0
           },
           {
            "bin_start": 0.6000000000000001,
            "bin_end": 0.7000000000000001,
            "count": 0
           },
           {
            "bin_start": 0.7000000000000001,
            "bin_end": 0.8,
            "count": 0
           },
           {
            "bin_start": 0.8,
            "bin_end": 0.9,
            "count": 0
           },
           {
            "bin_start": 0.9,
            "bin_end": 1,
            "count": 0
           }
          ]
         }
        },
        {
         "name": "reply_to",
         "dtype": "object",
         "stats": {
          "unique_count": 3,
          "nan_count": 0,
          "categories": [
           {
            "name": "[]",
            "count": 2
           },
           {
            "name": "[{'screen_name': 'stargazeruk7', 'name': 'Natalie.k7', 'id': '1516860721862254592'}]",
            "count": 2
           },
           {
            "name": "[{'screen_name': 'GovPierluisi', 'name': 'Gobernador Pierluisi', 'id': '386766931'}]",
            "count": 1
           }
          ]
         }
        },
        {
         "name": "retweet_date",
         "dtype": "float64",
         "stats": {
          "unique_count": 0,
          "nan_count": 5,
          "min": null,
          "max": null,
          "histogram": [
           {
            "bin_start": 0,
            "bin_end": 0.1,
            "count": 0
           },
           {
            "bin_start": 0.1,
            "bin_end": 0.2,
            "count": 0
           },
           {
            "bin_start": 0.2,
            "bin_end": 0.30000000000000004,
            "count": 0
           },
           {
            "bin_start": 0.30000000000000004,
            "bin_end": 0.4,
            "count": 0
           },
           {
            "bin_start": 0.4,
            "bin_end": 0.5,
            "count": 0
           },
           {
            "bin_start": 0.5,
            "bin_end": 0.6000000000000001,
            "count": 0
           },
           {
            "bin_start": 0.6000000000000001,
            "bin_end": 0.7000000000000001,
            "count": 0
           },
           {
            "bin_start": 0.7000000000000001,
            "bin_end": 0.8,
            "count": 0
           },
           {
            "bin_start": 0.8,
            "bin_end": 0.9,
            "count": 0
           },
           {
            "bin_start": 0.9,
            "bin_end": 1,
            "count": 0
           }
          ]
         }
        },
        {
         "name": "translate",
         "dtype": "float64",
         "stats": {
          "unique_count": 0,
          "nan_count": 5,
          "min": null,
          "max": null,
          "histogram": [
           {
            "bin_start": 0,
            "bin_end": 0.1,
            "count": 0
           },
           {
            "bin_start": 0.1,
            "bin_end": 0.2,
            "count": 0
           },
           {
            "bin_start": 0.2,
            "bin_end": 0.30000000000000004,
            "count": 0
           },
           {
            "bin_start": 0.30000000000000004,
            "bin_end": 0.4,
            "count": 0
           },
           {
            "bin_start": 0.4,
            "bin_end": 0.5,
            "count": 0
           },
           {
            "bin_start": 0.5,
            "bin_end": 0.6000000000000001,
            "count": 0
           },
           {
            "bin_start": 0.6000000000000001,
            "bin_end": 0.7000000000000001,
            "count": 0
           },
           {
            "bin_start": 0.7000000000000001,
            "bin_end": 0.8,
            "count": 0
           },
           {
            "bin_start": 0.8,
            "bin_end": 0.9,
            "count": 0
           },
           {
            "bin_start": 0.9,
            "bin_end": 1,
            "count": 0
           }
          ]
         }
        },
        {
         "name": "trans_src",
         "dtype": "float64",
         "stats": {
          "unique_count": 0,
          "nan_count": 5,
          "min": null,
          "max": null,
          "histogram": [
           {
            "bin_start": 0,
            "bin_end": 0.1,
            "count": 0
           },
           {
            "bin_start": 0.1,
            "bin_end": 0.2,
            "count": 0
           },
           {
            "bin_start": 0.2,
            "bin_end": 0.30000000000000004,
            "count": 0
           },
           {
            "bin_start": 0.30000000000000004,
            "bin_end": 0.4,
            "count": 0
           },
           {
            "bin_start": 0.4,
            "bin_end": 0.5,
            "count": 0
           },
           {
            "bin_start": 0.5,
            "bin_end": 0.6000000000000001,
            "count": 0
           },
           {
            "bin_start": 0.6000000000000001,
            "bin_end": 0.7000000000000001,
            "count": 0
           },
           {
            "bin_start": 0.7000000000000001,
            "bin_end": 0.8,
            "count": 0
           },
           {
            "bin_start": 0.8,
            "bin_end": 0.9,
            "count": 0
           },
           {
            "bin_start": 0.9,
            "bin_end": 1,
            "count": 0
           }
          ]
         }
        },
        {
         "name": "trans_dest\r",
         "dtype": "object",
         "stats": {
          "unique_count": 1,
          "nan_count": 0,
          "categories": [
           {
            "name": "\r",
            "count": 5
           }
          ]
         }
        },
        {
         "name": "Unnamed: 0.1",
         "dtype": "int64",
         "stats": {
          "unique_count": 5,
          "nan_count": 0,
          "min": "0",
          "max": "4",
          "histogram": [
           {
            "bin_start": 0,
            "bin_end": 0.4,
            "count": 1
           },
           {
            "bin_start": 0.4,
            "bin_end": 0.8,
            "count": 0
           },
           {
            "bin_start": 0.8,
            "bin_end": 1.2000000000000002,
            "count": 1
           },
           {
            "bin_start": 1.2000000000000002,
            "bin_end": 1.6,
            "count": 0
           },
           {
            "bin_start": 1.6,
            "bin_end": 2,
            "count": 0
           },
           {
            "bin_start": 2,
            "bin_end": 2.4000000000000004,
            "count": 1
           },
           {
            "bin_start": 2.4000000000000004,
            "bin_end": 2.8000000000000003,
            "count": 0
           },
           {
            "bin_start": 2.8000000000000003,
            "bin_end": 3.2,
            "count": 1
           },
           {
            "bin_start": 3.2,
            "bin_end": 3.6,
            "count": 0
           },
           {
            "bin_start": 3.6,
            "bin_end": 4,
            "count": 1
           }
          ]
         }
        },
        {
         "name": "tweet.1",
         "dtype": "object",
         "stats": {
          "unique_count": 5,
          "nan_count": 0,
          "categories": [
           {
            "name": "Tried to take my children to Chi-Chi's but it was a wasteland. No sneeze guard at the salad bar, the employees had cell phones, two vast and trunkless legs of stone stood desolately next to the restrooms. Grew up with salsafication and hepatitis A outbreaks. It's all gone now.",
            "count": 1
           },
           {
            "name": "@stargazeruk7 Hep A like you mention is an entirely different disease than autoimmune hepatitis.",
            "count": 1
           },
           {
            "name": "3 others",
            "count": 3
           }
          ]
         }
        },
        {
         "name": "sentiment",
         "dtype": "float64",
         "stats": {
          "unique_count": 2,
          "nan_count": 0,
          "min": "0.0",
          "max": "2.0",
          "histogram": [
           {
            "bin_start": 0,
            "bin_end": 0.2,
            "count": 4
           },
           {
            "bin_start": 0.2,
            "bin_end": 0.4,
            "count": 0
           },
           {
            "bin_start": 0.4,
            "bin_end": 0.6000000000000001,
            "count": 0
           },
           {
            "bin_start": 0.6000000000000001,
            "bin_end": 0.8,
            "count": 0
           },
           {
            "bin_start": 0.8,
            "bin_end": 1,
            "count": 0
           },
           {
            "bin_start": 1,
            "bin_end": 1.2000000000000002,
            "count": 0
           },
           {
            "bin_start": 1.2000000000000002,
            "bin_end": 1.4000000000000001,
            "count": 0
           },
           {
            "bin_start": 1.4000000000000001,
            "bin_end": 1.6,
            "count": 0
           },
           {
            "bin_start": 1.6,
            "bin_end": 1.8,
            "count": 0
           },
           {
            "bin_start": 1.8,
            "bin_end": 2,
            "count": 1
           }
          ]
         }
        },
        {
         "name": "_deepnote_index_column",
         "dtype": "int64"
        }
       ],
       "rows": [
        {
         "Unnamed: 0": 0,
         "id": 1523479063272525800,
         "conversation_id": 1523479063272525800,
         "created_at": "2022-05-08 22:44:48 -03",
         "date": "2022-05-08",
         "time": "22:44:48",
         "timezone": -300,
         "user_id": 49024508,
         "username": "onionweigher",
         "name": "Onion Weigher 🧅⚖️",
         "place": "nan",
         "tweet": "Tried to take my children to Chi-Chi's but it was a wasteland. No sneeze guard at the salad bar, the employees had cell phones, two vast and trunkless legs of stone stood desolately next to the restrooms. Grew up with salsafication and hepatitis A outbreaks. It's all gone now.",
         "language": "en",
         "mentions": "[]",
         "urls": "[]",
         "photos": "[]",
         "replies_count": 0,
         "retweets_count": 0,
         "likes_count": 0,
         "hashtags": "[]",
         "cashtags": "[]",
         "link": "https://twitter.com/onionweigher/status/1523479063272525824",
         "retweet": false,
         "quote_url": "nan",
         "video": 0,
         "thumbnail": "nan",
         "near": "nan",
         "geo": "nan",
         "source": "nan",
         "user_rt_id": "nan",
         "user_rt": "nan",
         "retweet_id": "nan",
         "reply_to": "[]",
         "retweet_date": "nan",
         "translate": "nan",
         "trans_src": "nan",
         "trans_dest\r": "\r",
         "Unnamed: 0.1": 0,
         "tweet.1": "Tried to take my children to Chi-Chi's but it was a wasteland. No sneeze guard at the salad bar, the employees had cell phones, two vast and trunkless legs of stone stood desolately next to the restrooms. Grew up with salsafication and hepatitis A outbreaks. It's all gone now.",
         "sentiment": 0,
         "_deepnote_index_column": 0
        },
        {
         "Unnamed: 0": 1,
         "id": 1523479009694158800,
         "conversation_id": 1523418175878037500,
         "created_at": "2022-05-08 22:44:35 -03",
         "date": "2022-05-08",
         "time": "22:44:35",
         "timezone": -300,
         "user_id": 2726837169,
         "username": "griffinjones25",
         "name": "GJ",
         "place": "nan",
         "tweet": "@stargazeruk7 Hep A like you mention is an entirely different disease than autoimmune hepatitis.",
         "language": "en",
         "mentions": "[]",
         "urls": "[]",
         "photos": "[]",
         "replies_count": 0,
         "retweets_count": 0,
         "likes_count": 0,
         "hashtags": "[]",
         "cashtags": "[]",
         "link": "https://twitter.com/griffinjones25/status/1523479009694158848",
         "retweet": false,
         "quote_url": "nan",
         "video": 0,
         "thumbnail": "nan",
         "near": "nan",
         "geo": "nan",
         "source": "nan",
         "user_rt_id": "nan",
         "user_rt": "nan",
         "retweet_id": "nan",
         "reply_to": "[{'screen_name': 'stargazeruk7', 'name': 'Natalie.k7', 'id': '1516860721862254592'}]",
         "retweet_date": "nan",
         "translate": "nan",
         "trans_src": "nan",
         "trans_dest\r": "\r",
         "Unnamed: 0.1": 1,
         "tweet.1": "@stargazeruk7 Hep A like you mention is an entirely different disease than autoimmune hepatitis.",
         "sentiment": 0,
         "_deepnote_index_column": 1
        },
        {
         "Unnamed: 0": 2,
         "id": 1523478947115139000,
         "conversation_id": 1523478947115139000,
         "created_at": "2022-05-08 22:44:20 -03",
         "date": "2022-05-08",
         "time": "22:44:20",
         "timezone": -300,
         "user_id": 1452730505787551700,
         "username": "ideallyanews",
         "name": "IdeallyaNews",
         "place": "nan",
         "tweet": "UK Health Safety Authority: No evidence linking childhood hepatitis of unknown etiology to COVID-19 vaccine - #childhood #health #safety #uk  https://t.co/tgVOtRdnGE",
         "language": "en",
         "mentions": "[]",
         "urls": "['https://ideallya.github.io/news/MT/Q5MDMyMjUxODg1OTAwMjI5NjA3NjE3NDU2Njg5ODc2MzY1NzE1.html']",
         "photos": "[]",
         "replies_count": 0,
         "retweets_count": 0,
         "likes_count": 0,
         "hashtags": "['childhood', 'health', 'safety', 'uk']",
         "cashtags": "[]",
         "link": "https://twitter.com/IdeallyaNews/status/1523478947115139072",
         "retweet": false,
         "quote_url": "nan",
         "video": 0,
         "thumbnail": "nan",
         "near": "nan",
         "geo": "nan",
         "source": "nan",
         "user_rt_id": "nan",
         "user_rt": "nan",
         "retweet_id": "nan",
         "reply_to": "[]",
         "retweet_date": "nan",
         "translate": "nan",
         "trans_src": "nan",
         "trans_dest\r": "\r",
         "Unnamed: 0.1": 2,
         "tweet.1": "UK Health Safety Authority: No evidence linking childhood hepatitis of unknown etiology to COVID-19 vaccine - #childhood #health #safety #uk  https://t.co/tgVOtRdnGE",
         "sentiment": 2,
         "_deepnote_index_column": 2
        },
        {
         "Unnamed: 0": 3,
         "id": 1523478841125048300,
         "conversation_id": 1523418175878037500,
         "created_at": "2022-05-08 22:43:55 -03",
         "date": "2022-05-08",
         "time": "22:43:55",
         "timezone": -300,
         "user_id": 2726837169,
         "username": "griffinjones25",
         "name": "GJ",
         "place": "nan",
         "tweet": "@stargazeruk7 Autoimmune hepatitis cannot spread in any way shape or form,",
         "language": "en",
         "mentions": "[]",
         "urls": "[]",
         "photos": "[]",
         "replies_count": 0,
         "retweets_count": 0,
         "likes_count": 0,
         "hashtags": "[]",
         "cashtags": "[]",
         "link": "https://twitter.com/griffinjones25/status/1523478841125048320",
         "retweet": false,
         "quote_url": "nan",
         "video": 0,
         "thumbnail": "nan",
         "near": "nan",
         "geo": "nan",
         "source": "nan",
         "user_rt_id": "nan",
         "user_rt": "nan",
         "retweet_id": "nan",
         "reply_to": "[{'screen_name': 'stargazeruk7', 'name': 'Natalie.k7', 'id': '1516860721862254592'}]",
         "retweet_date": "nan",
         "translate": "nan",
         "trans_src": "nan",
         "trans_dest\r": "\r",
         "Unnamed: 0.1": 3,
         "tweet.1": "@stargazeruk7 Autoimmune hepatitis cannot spread in any way shape or form,",
         "sentiment": 0,
         "_deepnote_index_column": 3
        },
        {
         "Unnamed: 0": 4,
         "id": 1523478649827078100,
         "conversation_id": 1523425745657245700,
         "created_at": "2022-05-08 22:43:09 -03",
         "date": "2022-05-08",
         "time": "22:43:09",
         "timezone": -300,
         "user_id": 1467606239119089700,
         "username": "olganie35346372",
         "name": "Dine Nieves",
         "place": "nan",
         "tweet": "@GovPierluisi La fé??? Usted sabe lo que es eso, vacunado niños que ahora están saliendo con hepatitis misteriosamente verdad y la kk de mascarilla que tú no usas ah! y el covitarro de mentiras.",
         "language": "es",
         "mentions": "[]",
         "urls": "[]",
         "photos": "[]",
         "replies_count": 0,
         "retweets_count": 0,
         "likes_count": 0,
         "hashtags": "[]",
         "cashtags": "[]",
         "link": "https://twitter.com/OlgaNie35346372/status/1523478649827078144",
         "retweet": false,
         "quote_url": "nan",
         "video": 0,
         "thumbnail": "nan",
         "near": "nan",
         "geo": "nan",
         "source": "nan",
         "user_rt_id": "nan",
         "user_rt": "nan",
         "retweet_id": "nan",
         "reply_to": "[{'screen_name': 'GovPierluisi', 'name': 'Gobernador Pierluisi', 'id': '386766931'}]",
         "retweet_date": "nan",
         "translate": "nan",
         "trans_src": "nan",
         "trans_dest\r": "\r",
         "Unnamed: 0.1": 4,
         "tweet.1": "@GovPierluisi La fé??? Usted sabe lo que es eso, vacunado niños que ahora están saliendo con hepatitis misteriosamente verdad y la kk de mascarilla que tú no usas ah! y el covitarro de mentiras.",
         "sentiment": 0,
         "_deepnote_index_column": 4
        }
       ]
      },
      "text/plain": "   Unnamed: 0                   id      conversation_id  \\\n0           0  1523479063272525824  1523479063272525824   \n1           1  1523479009694158848  1523418175878037504   \n2           2  1523478947115139072  1523478947115139072   \n3           3  1523478841125048320  1523418175878037504   \n4           4  1523478649827078144  1523425745657245697   \n\n                created_at        date      time  timezone  \\\n0  2022-05-08 22:44:48 -03  2022-05-08  22:44:48      -300   \n1  2022-05-08 22:44:35 -03  2022-05-08  22:44:35      -300   \n2  2022-05-08 22:44:20 -03  2022-05-08  22:44:20      -300   \n3  2022-05-08 22:43:55 -03  2022-05-08  22:43:55      -300   \n4  2022-05-08 22:43:09 -03  2022-05-08  22:43:09      -300   \n\n               user_id         username               name  ... user_rt  \\\n0             49024508     onionweigher  Onion Weigher 🧅⚖️  ...     NaN   \n1           2726837169   griffinjones25                 GJ  ...     NaN   \n2  1452730505787551750     ideallyanews       IdeallyaNews  ...     NaN   \n3           2726837169   griffinjones25                 GJ  ...     NaN   \n4  1467606239119089676  olganie35346372        Dine Nieves  ...     NaN   \n\n  retweet_id                                           reply_to retweet_date  \\\n0        NaN                                                 []          NaN   \n1        NaN  [{'screen_name': 'stargazeruk7', 'name': 'Nata...          NaN   \n2        NaN                                                 []          NaN   \n3        NaN  [{'screen_name': 'stargazeruk7', 'name': 'Nata...          NaN   \n4        NaN  [{'screen_name': 'GovPierluisi', 'name': 'Gobe...          NaN   \n\n  translate trans_src  trans_dest\\r  Unnamed: 0.1  \\\n0       NaN       NaN            \\r             0   \n1       NaN       NaN            \\r             1   \n2       NaN       NaN            \\r             2   \n3       NaN       NaN            \\r             3   \n4       NaN       NaN            \\r             4   \n\n                                             tweet.1 sentiment  \n0  Tried to take my children to Chi-Chi's but it ...       0.0  \n1  @stargazeruk7 Hep A like you mention is an ent...       0.0  \n2  UK Health Safety Authority: No evidence linkin...       2.0  \n3  @stargazeruk7 Autoimmune hepatitis cannot spre...       0.0  \n4  @GovPierluisi La fé??? Usted sabe lo que es es...       0.0  \n\n[5 rows x 40 columns]",
      "text/html": "<div>\n<style scoped>\n    .dataframe tbody tr th:only-of-type {\n        vertical-align: middle;\n    }\n\n    .dataframe tbody tr th {\n        vertical-align: top;\n    }\n\n    .dataframe thead th {\n        text-align: right;\n    }\n</style>\n<table border=\"1\" class=\"dataframe\">\n  <thead>\n    <tr style=\"text-align: right;\">\n      <th></th>\n      <th>Unnamed: 0</th>\n      <th>id</th>\n      <th>conversation_id</th>\n      <th>created_at</th>\n      <th>date</th>\n      <th>time</th>\n      <th>timezone</th>\n      <th>user_id</th>\n      <th>username</th>\n      <th>name</th>\n      <th>...</th>\n      <th>user_rt</th>\n      <th>retweet_id</th>\n      <th>reply_to</th>\n      <th>retweet_date</th>\n      <th>translate</th>\n      <th>trans_src</th>\n      <th>trans_dest\\r</th>\n      <th>Unnamed: 0.1</th>\n      <th>tweet.1</th>\n      <th>sentiment</th>\n    </tr>\n  </thead>\n  <tbody>\n    <tr>\n      <th>0</th>\n      <td>0</td>\n      <td>1523479063272525824</td>\n      <td>1523479063272525824</td>\n      <td>2022-05-08 22:44:48 -03</td>\n      <td>2022-05-08</td>\n      <td>22:44:48</td>\n      <td>-300</td>\n      <td>49024508</td>\n      <td>onionweigher</td>\n      <td>Onion Weigher 🧅⚖️</td>\n      <td>...</td>\n      <td>NaN</td>\n      <td>NaN</td>\n      <td>[]</td>\n      <td>NaN</td>\n      <td>NaN</td>\n      <td>NaN</td>\n      <td>\\r</td>\n      <td>0</td>\n      <td>Tried to take my children to Chi-Chi's but it ...</td>\n      <td>0.0</td>\n    </tr>\n    <tr>\n      <th>1</th>\n      <td>1</td>\n      <td>1523479009694158848</td>\n      <td>1523418175878037504</td>\n      <td>2022-05-08 22:44:35 -03</td>\n      <td>2022-05-08</td>\n      <td>22:44:35</td>\n      <td>-300</td>\n      <td>2726837169</td>\n      <td>griffinjones25</td>\n      <td>GJ</td>\n      <td>...</td>\n      <td>NaN</td>\n      <td>NaN</td>\n      <td>[{'screen_name': 'stargazeruk7', 'name': 'Nata...</td>\n      <td>NaN</td>\n      <td>NaN</td>\n      <td>NaN</td>\n      <td>\\r</td>\n      <td>1</td>\n      <td>@stargazeruk7 Hep A like you mention is an ent...</td>\n      <td>0.0</td>\n    </tr>\n    <tr>\n      <th>2</th>\n      <td>2</td>\n      <td>1523478947115139072</td>\n      <td>1523478947115139072</td>\n      <td>2022-05-08 22:44:20 -03</td>\n      <td>2022-05-08</td>\n      <td>22:44:20</td>\n      <td>-300</td>\n      <td>1452730505787551750</td>\n      <td>ideallyanews</td>\n      <td>IdeallyaNews</td>\n      <td>...</td>\n      <td>NaN</td>\n      <td>NaN</td>\n      <td>[]</td>\n      <td>NaN</td>\n      <td>NaN</td>\n      <td>NaN</td>\n      <td>\\r</td>\n      <td>2</td>\n      <td>UK Health Safety Authority: No evidence linkin...</td>\n      <td>2.0</td>\n    </tr>\n    <tr>\n      <th>3</th>\n      <td>3</td>\n      <td>1523478841125048320</td>\n      <td>1523418175878037504</td>\n      <td>2022-05-08 22:43:55 -03</td>\n      <td>2022-05-08</td>\n      <td>22:43:55</td>\n      <td>-300</td>\n      <td>2726837169</td>\n      <td>griffinjones25</td>\n      <td>GJ</td>\n      <td>...</td>\n      <td>NaN</td>\n      <td>NaN</td>\n      <td>[{'screen_name': 'stargazeruk7', 'name': 'Nata...</td>\n      <td>NaN</td>\n      <td>NaN</td>\n      <td>NaN</td>\n      <td>\\r</td>\n      <td>3</td>\n      <td>@stargazeruk7 Autoimmune hepatitis cannot spre...</td>\n      <td>0.0</td>\n    </tr>\n    <tr>\n      <th>4</th>\n      <td>4</td>\n      <td>1523478649827078144</td>\n      <td>1523425745657245697</td>\n      <td>2022-05-08 22:43:09 -03</td>\n      <td>2022-05-08</td>\n      <td>22:43:09</td>\n      <td>-300</td>\n      <td>1467606239119089676</td>\n      <td>olganie35346372</td>\n      <td>Dine Nieves</td>\n      <td>...</td>\n      <td>NaN</td>\n      <td>NaN</td>\n      <td>[{'screen_name': 'GovPierluisi', 'name': 'Gobe...</td>\n      <td>NaN</td>\n      <td>NaN</td>\n      <td>NaN</td>\n      <td>\\r</td>\n      <td>4</td>\n      <td>@GovPierluisi La fé??? Usted sabe lo que es es...</td>\n      <td>0.0</td>\n    </tr>\n  </tbody>\n</table>\n<p>5 rows × 40 columns</p>\n</div>"
     },
     "metadata": {}
    }
   ],
   "execution_count": null
  },
  {
   "cell_type": "code",
   "metadata": {
    "colab": {
     "base_uri": "https://localhost:8080/"
    },
    "deepnote_to_be_reexecuted": false,
    "executionInfo": {
     "elapsed": 16,
     "status": "ok",
     "timestamp": 1657946212263,
     "user": {
      "displayName": "William Wallace",
      "userId": "02462327362597608294"
     },
     "user_tz": 180
    },
    "execution_millis": 261,
    "execution_start": 1658369192267,
    "id": "qhxfXueKEPEC",
    "outputId": "34db449b-41b6-46c9-906a-f96d08f9d7e5",
    "source_hash": "56819e10",
    "cell_id": "00002-f2eb92b0-6a0d-46a1-ae74-e8780b6797de",
    "deepnote_cell_type": "code",
    "deepnote_cell_height": 130.1875
   },
   "source": "# df.shape() retorna un Tuple asi: (filas, col)\nprint('Este dataset tiene ' + str(df.shape[0]) + ' filas, y ' + str(df.shape[1]) + ' columnas.')",
   "outputs": [
    {
     "name": "stdout",
     "text": "Este dataset tiene 50002 filas, y 40 columnas.\n",
     "output_type": "stream"
    }
   ],
   "execution_count": null
  },
  {
   "cell_type": "code",
   "metadata": {
    "colab": {
     "base_uri": "https://localhost:8080/"
    },
    "deepnote_to_be_reexecuted": false,
    "executionInfo": {
     "elapsed": 14,
     "status": "ok",
     "timestamp": 1657946212264,
     "user": {
      "displayName": "William Wallace",
      "userId": "02462327362597608294"
     },
     "user_tz": 180
    },
    "execution_millis": 252,
    "execution_start": 1658369192277,
    "id": "H7oL9G3K4LGj",
    "outputId": "4d07a48a-6a99-47ca-a910-6f9238b8760b",
    "source_hash": "c59a0ac5",
    "cell_id": "00003-ee1139f3-25b0-4532-be38-f750b0d31708",
    "deepnote_cell_type": "code",
    "deepnote_cell_height": 270.5,
    "deepnote_output_heights": [
     155.5
    ]
   },
   "source": "# Visualizo el nombre de las columnas\ndf.columns",
   "outputs": [
    {
     "output_type": "execute_result",
     "execution_count": 4,
     "data": {
      "text/plain": "Index(['Unnamed: 0', 'id', 'conversation_id', 'created_at', 'date', 'time',\n       'timezone', 'user_id', 'username', 'name', 'place', 'tweet', 'language',\n       'mentions', 'urls', 'photos', 'replies_count', 'retweets_count',\n       'likes_count', 'hashtags', 'cashtags', 'link', 'retweet', 'quote_url',\n       'video', 'thumbnail', 'near', 'geo', 'source', 'user_rt_id', 'user_rt',\n       'retweet_id', 'reply_to', 'retweet_date', 'translate', 'trans_src',\n       'trans_dest\\r', 'Unnamed: 0.1', 'tweet.1', 'sentiment'],\n      dtype='object')"
     },
     "metadata": {}
    }
   ],
   "execution_count": null
  },
  {
   "cell_type": "code",
   "metadata": {
    "deepnote_to_be_reexecuted": false,
    "executionInfo": {
     "elapsed": 40,
     "status": "ok",
     "timestamp": 1657946212713,
     "user": {
      "displayName": "William Wallace",
      "userId": "02462327362597608294"
     },
     "user_tz": 180
    },
    "execution_millis": 1,
    "execution_start": 1658369192315,
    "id": "0rJK7VF64HoW",
    "source_hash": "92c01127",
    "cell_id": "00005-048e0d81-1986-4f3e-8236-468039af6e7f",
    "deepnote_cell_type": "code",
    "deepnote_cell_height": 99
   },
   "source": "df2 = pd.DataFrame()\ndf2 = df[['sentiment','replies_count','retweets_count', 'likes_count']]",
   "outputs": [],
   "execution_count": null
  },
  {
   "cell_type": "code",
   "metadata": {
    "colab": {
     "base_uri": "https://localhost:8080/"
    },
    "deepnote_to_be_reexecuted": false,
    "executionInfo": {
     "elapsed": 38,
     "status": "ok",
     "timestamp": 1657946212714,
     "user": {
      "displayName": "William Wallace",
      "userId": "02462327362597608294"
     },
     "user_tz": 180
    },
    "execution_millis": 6290325,
    "execution_start": 1658369192316,
    "id": "GmFrvoxEJQcG",
    "outputId": "0b3caf54-c305-4d9d-8b21-aebf8761e658",
    "source_hash": "ea4b8047",
    "cell_id": "00006-6a90c53f-3828-4b97-b137-81f82c076a81",
    "deepnote_cell_type": "code",
    "deepnote_cell_height": 130.1875
   },
   "source": "# df2.shape() retorna un Tuple asi: (filas, col)\nprint('Este dataset tiene ' + str(df2.shape[0]) + ' filas, y ' + str(df2.shape[1]) + ' columnas.')",
   "outputs": [
    {
     "name": "stdout",
     "text": "Este dataset tiene 50002 filas, y 4 columnas.\n",
     "output_type": "stream"
    }
   ],
   "execution_count": null
  },
  {
   "cell_type": "code",
   "metadata": {
    "colab": {
     "base_uri": "https://localhost:8080/"
    },
    "deepnote_to_be_reexecuted": false,
    "executionInfo": {
     "elapsed": 24,
     "status": "ok",
     "timestamp": 1657946212716,
     "user": {
      "displayName": "William Wallace",
      "userId": "02462327362597608294"
     },
     "user_tz": 180
    },
    "execution_millis": 212,
    "execution_start": 1658369192317,
    "id": "yYhBlk4VCIhz",
    "outputId": "de2dd6b0-47e6-431d-b581-dcd5bb124c9c",
    "source_hash": "e55715c",
    "cell_id": "00008-b0921375-8f64-4ab4-8fbe-64edd41f6ae1",
    "deepnote_cell_type": "code",
    "deepnote_cell_height": 332.0625
   },
   "source": "# Visualizamos caracteristicas de las columnas\ndf2.info()",
   "outputs": [
    {
     "name": "stdout",
     "text": "<class 'pandas.core.frame.DataFrame'>\nRangeIndex: 50002 entries, 0 to 50001\nData columns (total 4 columns):\n #   Column          Non-Null Count  Dtype  \n---  ------          --------------  -----  \n 0   sentiment       50002 non-null  float64\n 1   replies_count   50002 non-null  int64  \n 2   retweets_count  50002 non-null  int64  \n 3   likes_count     50002 non-null  int64  \ndtypes: float64(1), int64(3)\nmemory usage: 1.5 MB\n",
     "output_type": "stream"
    }
   ],
   "execution_count": null
  },
  {
   "cell_type": "code",
   "metadata": {
    "colab": {
     "base_uri": "https://localhost:8080/",
     "height": 676
    },
    "deepnote_to_be_reexecuted": false,
    "executionInfo": {
     "elapsed": 21,
     "status": "ok",
     "timestamp": 1657946212717,
     "user": {
      "displayName": "William Wallace",
      "userId": "02462327362597608294"
     },
     "user_tz": 180
    },
    "execution_millis": 200,
    "execution_start": 1658369192330,
    "id": "w0jOZzfYPXAu",
    "outputId": "b92bf37b-5857-4b2a-f5f5-557e71a7e07f",
    "source_hash": "d692aee3",
    "cell_id": "00009-cf4970ec-73f6-42d5-9d14-1a4d4bcf3c78",
    "deepnote_cell_type": "code",
    "deepnote_cell_height": 618
   },
   "source": "#  Visualizo las 20 primeras filas del DataFrame df2\ndf2.head(20)",
   "outputs": [
    {
     "output_type": "execute_result",
     "execution_count": 8,
     "data": {
      "application/vnd.deepnote.dataframe.v3+json": {
       "column_count": 4,
       "row_count": 20,
       "columns": [
        {
         "name": "sentiment",
         "dtype": "float64",
         "stats": {
          "unique_count": 3,
          "nan_count": 0,
          "min": "0.0",
          "max": "2.0",
          "histogram": [
           {
            "bin_start": 0,
            "bin_end": 0.2,
            "count": 16
           },
           {
            "bin_start": 0.2,
            "bin_end": 0.4,
            "count": 0
           },
           {
            "bin_start": 0.4,
            "bin_end": 0.6000000000000001,
            "count": 0
           },
           {
            "bin_start": 0.6000000000000001,
            "bin_end": 0.8,
            "count": 0
           },
           {
            "bin_start": 0.8,
            "bin_end": 1,
            "count": 0
           },
           {
            "bin_start": 1,
            "bin_end": 1.2000000000000002,
            "count": 1
           },
           {
            "bin_start": 1.2000000000000002,
            "bin_end": 1.4000000000000001,
            "count": 0
           },
           {
            "bin_start": 1.4000000000000001,
            "bin_end": 1.6,
            "count": 0
           },
           {
            "bin_start": 1.6,
            "bin_end": 1.8,
            "count": 0
           },
           {
            "bin_start": 1.8,
            "bin_end": 2,
            "count": 3
           }
          ]
         }
        },
        {
         "name": "replies_count",
         "dtype": "int64",
         "stats": {
          "unique_count": 3,
          "nan_count": 0,
          "min": "0",
          "max": "2",
          "histogram": [
           {
            "bin_start": 0,
            "bin_end": 0.2,
            "count": 15
           },
           {
            "bin_start": 0.2,
            "bin_end": 0.4,
            "count": 0
           },
           {
            "bin_start": 0.4,
            "bin_end": 0.6000000000000001,
            "count": 0
           },
           {
            "bin_start": 0.6000000000000001,
            "bin_end": 0.8,
            "count": 0
           },
           {
            "bin_start": 0.8,
            "bin_end": 1,
            "count": 0
           },
           {
            "bin_start": 1,
            "bin_end": 1.2000000000000002,
            "count": 4
           },
           {
            "bin_start": 1.2000000000000002,
            "bin_end": 1.4000000000000001,
            "count": 0
           },
           {
            "bin_start": 1.4000000000000001,
            "bin_end": 1.6,
            "count": 0
           },
           {
            "bin_start": 1.6,
            "bin_end": 1.8,
            "count": 0
           },
           {
            "bin_start": 1.8,
            "bin_end": 2,
            "count": 1
           }
          ]
         }
        },
        {
         "name": "retweets_count",
         "dtype": "int64",
         "stats": {
          "unique_count": 2,
          "nan_count": 0,
          "min": "0",
          "max": "1",
          "histogram": [
           {
            "bin_start": 0,
            "bin_end": 0.1,
            "count": 18
           },
           {
            "bin_start": 0.1,
            "bin_end": 0.2,
            "count": 0
           },
           {
            "bin_start": 0.2,
            "bin_end": 0.30000000000000004,
            "count": 0
           },
           {
            "bin_start": 0.30000000000000004,
            "bin_end": 0.4,
            "count": 0
           },
           {
            "bin_start": 0.4,
            "bin_end": 0.5,
            "count": 0
           },
           {
            "bin_start": 0.5,
            "bin_end": 0.6000000000000001,
            "count": 0
           },
           {
            "bin_start": 0.6000000000000001,
            "bin_end": 0.7000000000000001,
            "count": 0
           },
           {
            "bin_start": 0.7000000000000001,
            "bin_end": 0.8,
            "count": 0
           },
           {
            "bin_start": 0.8,
            "bin_end": 0.9,
            "count": 0
           },
           {
            "bin_start": 0.9,
            "bin_end": 1,
            "count": 2
           }
          ]
         }
        },
        {
         "name": "likes_count",
         "dtype": "int64",
         "stats": {
          "unique_count": 2,
          "nan_count": 0,
          "min": "0",
          "max": "1",
          "histogram": [
           {
            "bin_start": 0,
            "bin_end": 0.1,
            "count": 17
           },
           {
            "bin_start": 0.1,
            "bin_end": 0.2,
            "count": 0
           },
           {
            "bin_start": 0.2,
            "bin_end": 0.30000000000000004,
            "count": 0
           },
           {
            "bin_start": 0.30000000000000004,
            "bin_end": 0.4,
            "count": 0
           },
           {
            "bin_start": 0.4,
            "bin_end": 0.5,
            "count": 0
           },
           {
            "bin_start": 0.5,
            "bin_end": 0.6000000000000001,
            "count": 0
           },
           {
            "bin_start": 0.6000000000000001,
            "bin_end": 0.7000000000000001,
            "count": 0
           },
           {
            "bin_start": 0.7000000000000001,
            "bin_end": 0.8,
            "count": 0
           },
           {
            "bin_start": 0.8,
            "bin_end": 0.9,
            "count": 0
           },
           {
            "bin_start": 0.9,
            "bin_end": 1,
            "count": 3
           }
          ]
         }
        },
        {
         "name": "_deepnote_index_column",
         "dtype": "int64"
        }
       ],
       "rows": [
        {
         "sentiment": 0,
         "replies_count": 0,
         "retweets_count": 0,
         "likes_count": 0,
         "_deepnote_index_column": 0
        },
        {
         "sentiment": 0,
         "replies_count": 0,
         "retweets_count": 0,
         "likes_count": 0,
         "_deepnote_index_column": 1
        },
        {
         "sentiment": 2,
         "replies_count": 0,
         "retweets_count": 0,
         "likes_count": 0,
         "_deepnote_index_column": 2
        },
        {
         "sentiment": 0,
         "replies_count": 0,
         "retweets_count": 0,
         "likes_count": 0,
         "_deepnote_index_column": 3
        },
        {
         "sentiment": 0,
         "replies_count": 0,
         "retweets_count": 0,
         "likes_count": 0,
         "_deepnote_index_column": 4
        },
        {
         "sentiment": 0,
         "replies_count": 0,
         "retweets_count": 0,
         "likes_count": 0,
         "_deepnote_index_column": 5
        },
        {
         "sentiment": 0,
         "replies_count": 1,
         "retweets_count": 0,
         "likes_count": 0,
         "_deepnote_index_column": 6
        },
        {
         "sentiment": 0,
         "replies_count": 1,
         "retweets_count": 0,
         "likes_count": 0,
         "_deepnote_index_column": 7
        },
        {
         "sentiment": 0,
         "replies_count": 0,
         "retweets_count": 0,
         "likes_count": 0,
         "_deepnote_index_column": 8
        },
        {
         "sentiment": 2,
         "replies_count": 0,
         "retweets_count": 1,
         "likes_count": 1,
         "_deepnote_index_column": 9
        }
       ]
      },
      "text/plain": "    sentiment  replies_count  retweets_count  likes_count\n0         0.0              0               0            0\n1         0.0              0               0            0\n2         2.0              0               0            0\n3         0.0              0               0            0\n4         0.0              0               0            0\n5         0.0              0               0            0\n6         0.0              1               0            0\n7         0.0              1               0            0\n8         0.0              0               0            0\n9         2.0              0               1            1\n10        0.0              0               0            0\n11        2.0              2               0            1\n12        0.0              0               0            0\n13        0.0              0               0            0\n14        1.0              0               0            0\n15        0.0              0               0            0\n16        0.0              0               1            1\n17        0.0              0               0            0\n18        0.0              1               0            0\n19        0.0              1               0            0",
      "text/html": "<div>\n<style scoped>\n    .dataframe tbody tr th:only-of-type {\n        vertical-align: middle;\n    }\n\n    .dataframe tbody tr th {\n        vertical-align: top;\n    }\n\n    .dataframe thead th {\n        text-align: right;\n    }\n</style>\n<table border=\"1\" class=\"dataframe\">\n  <thead>\n    <tr style=\"text-align: right;\">\n      <th></th>\n      <th>sentiment</th>\n      <th>replies_count</th>\n      <th>retweets_count</th>\n      <th>likes_count</th>\n    </tr>\n  </thead>\n  <tbody>\n    <tr>\n      <th>0</th>\n      <td>0.0</td>\n      <td>0</td>\n      <td>0</td>\n      <td>0</td>\n    </tr>\n    <tr>\n      <th>1</th>\n      <td>0.0</td>\n      <td>0</td>\n      <td>0</td>\n      <td>0</td>\n    </tr>\n    <tr>\n      <th>2</th>\n      <td>2.0</td>\n      <td>0</td>\n      <td>0</td>\n      <td>0</td>\n    </tr>\n    <tr>\n      <th>3</th>\n      <td>0.0</td>\n      <td>0</td>\n      <td>0</td>\n      <td>0</td>\n    </tr>\n    <tr>\n      <th>4</th>\n      <td>0.0</td>\n      <td>0</td>\n      <td>0</td>\n      <td>0</td>\n    </tr>\n    <tr>\n      <th>5</th>\n      <td>0.0</td>\n      <td>0</td>\n      <td>0</td>\n      <td>0</td>\n    </tr>\n    <tr>\n      <th>6</th>\n      <td>0.0</td>\n      <td>1</td>\n      <td>0</td>\n      <td>0</td>\n    </tr>\n    <tr>\n      <th>7</th>\n      <td>0.0</td>\n      <td>1</td>\n      <td>0</td>\n      <td>0</td>\n    </tr>\n    <tr>\n      <th>8</th>\n      <td>0.0</td>\n      <td>0</td>\n      <td>0</td>\n      <td>0</td>\n    </tr>\n    <tr>\n      <th>9</th>\n      <td>2.0</td>\n      <td>0</td>\n      <td>1</td>\n      <td>1</td>\n    </tr>\n    <tr>\n      <th>10</th>\n      <td>0.0</td>\n      <td>0</td>\n      <td>0</td>\n      <td>0</td>\n    </tr>\n    <tr>\n      <th>11</th>\n      <td>2.0</td>\n      <td>2</td>\n      <td>0</td>\n      <td>1</td>\n    </tr>\n    <tr>\n      <th>12</th>\n      <td>0.0</td>\n      <td>0</td>\n      <td>0</td>\n      <td>0</td>\n    </tr>\n    <tr>\n      <th>13</th>\n      <td>0.0</td>\n      <td>0</td>\n      <td>0</td>\n      <td>0</td>\n    </tr>\n    <tr>\n      <th>14</th>\n      <td>1.0</td>\n      <td>0</td>\n      <td>0</td>\n      <td>0</td>\n    </tr>\n    <tr>\n      <th>15</th>\n      <td>0.0</td>\n      <td>0</td>\n      <td>0</td>\n      <td>0</td>\n    </tr>\n    <tr>\n      <th>16</th>\n      <td>0.0</td>\n      <td>0</td>\n      <td>1</td>\n      <td>1</td>\n    </tr>\n    <tr>\n      <th>17</th>\n      <td>0.0</td>\n      <td>0</td>\n      <td>0</td>\n      <td>0</td>\n    </tr>\n    <tr>\n      <th>18</th>\n      <td>0.0</td>\n      <td>1</td>\n      <td>0</td>\n      <td>0</td>\n    </tr>\n    <tr>\n      <th>19</th>\n      <td>0.0</td>\n      <td>1</td>\n      <td>0</td>\n      <td>0</td>\n    </tr>\n  </tbody>\n</table>\n</div>"
     },
     "metadata": {}
    }
   ],
   "execution_count": null
  },
  {
   "cell_type": "code",
   "metadata": {
    "colab": {
     "base_uri": "https://localhost:8080/",
     "height": 427
    },
    "deepnote_to_be_reexecuted": false,
    "executionInfo": {
     "elapsed": 432,
     "status": "ok",
     "timestamp": 1657946213130,
     "user": {
      "displayName": "William Wallace",
      "userId": "02462327362597608294"
     },
     "user_tz": 180
    },
    "execution_millis": 301,
    "execution_start": 1658369192382,
    "id": "1nZZuCYRGLCI",
    "outputId": "d4d4ca03-73de-4e73-dc87-59152f60693c",
    "source_hash": "dc76258d",
    "cell_id": "00010-18c7ba1f-7eb6-46a4-a7b0-a445c19ff2e5",
    "deepnote_cell_type": "code",
    "deepnote_cell_height": 599,
    "deepnote_output_heights": [
     null,
     321
    ]
   },
   "source": "print(df2.corr())\n  \n# plotting correlation heatmap\ndataplot = sns.heatmap(df2.corr(), cmap=\"YlGnBu\", annot=True)",
   "outputs": [
    {
     "name": "stdout",
     "text": "                sentiment  replies_count  retweets_count  likes_count\nsentiment        1.000000       0.027949        0.001232     0.005944\nreplies_count    0.027949       1.000000        0.588400     0.613709\nretweets_count   0.001232       0.588400        1.000000     0.970830\nlikes_count      0.005944       0.613709        0.970830     1.000000\n",
     "output_type": "stream"
    },
    {
     "data": {
      "text/plain": "<Figure size 432x288 with 2 Axes>",
      "image/png": "[encoded data removed]"
     },
     "metadata": {
      "needs_background": "light",
      "image/png": {
       "width": 416,
       "height": 319
      }
     },
     "output_type": "display_data"
    }
   ],
   "execution_count": null
  },
  {
   "cell_type": "code",
   "metadata": {
    "deepnote_to_be_reexecuted": false,
    "executionInfo": {
     "elapsed": 32,
     "status": "ok",
     "timestamp": 1657946213131,
     "user": {
      "displayName": "William Wallace",
      "userId": "02462327362597608294"
     },
     "user_tz": 180
    },
    "execution_millis": 1,
    "execution_start": 1658369192721,
    "id": "BHQs_xav4_u2",
    "source_hash": "50df34e7",
    "cell_id": "00011-2312116b-0f2b-4779-ba85-2eddf5778a82",
    "deepnote_cell_type": "code",
    "deepnote_cell_height": 117
   },
   "source": "# extraer caracteristicas y variables objetivo\nX = df2.drop(\"sentiment\", axis=1) #Elimino de mi dataset la variable a predecir\ny = df2.sentiment #Defino el Target",
   "outputs": [],
   "execution_count": null
  },
  {
   "cell_type": "code",
   "metadata": {
    "colab": {
     "base_uri": "https://localhost:8080/",
     "height": 423
    },
    "deepnote_to_be_reexecuted": false,
    "executionInfo": {
     "elapsed": 32,
     "status": "ok",
     "timestamp": 1657946213132,
     "user": {
      "displayName": "William Wallace",
      "userId": "02462327362597608294"
     },
     "user_tz": 180
    },
    "execution_millis": 7,
    "execution_start": 1658369192722,
    "id": "vy3UhBmb_DzS",
    "outputId": "a043b8a9-0479-48b3-8a2b-8f6d95b5f3e1",
    "source_hash": "b2696ff6",
    "cell_id": "00012-948a76f7-6e3d-40e1-9a64-525a11bc627f",
    "deepnote_cell_type": "code",
    "deepnote_cell_height": 600
   },
   "source": "X",
   "outputs": [
    {
     "output_type": "execute_result",
     "execution_count": 11,
     "data": {
      "application/vnd.deepnote.dataframe.v3+json": {
       "column_count": 3,
       "row_count": 50002,
       "columns": [
        {
         "name": "replies_count",
         "dtype": "int64",
         "stats": {
          "unique_count": 135,
          "nan_count": 0,
          "min": "0",
          "max": "1318",
          "histogram": [
           {
            "bin_start": 0,
            "bin_end": 131.8,
            "count": 49964
           },
           {
            "bin_start": 131.8,
            "bin_end": 263.6,
            "count": 25
           },
           {
            "bin_start": 263.6,
            "bin_end": 395.40000000000003,
            "count": 6
           },
           {
            "bin_start": 395.40000000000003,
            "bin_end": 527.2,
            "count": 3
           },
           {
            "bin_start": 527.2,
            "bin_end": 659,
            "count": 2
           },
           {
            "bin_start": 659,
            "bin_end": 790.8000000000001,
            "count": 0
           },
           {
            "bin_start": 790.8000000000001,
            "bin_end": 922.6000000000001,
            "count": 0
           },
           {
            "bin_start": 922.6000000000001,
            "bin_end": 1054.4,
            "count": 1
           },
           {
            "bin_start": 1054.4,
            "bin_end": 1186.2,
            "count": 0
           },
           {
            "bin_start": 1186.2,
            "bin_end": 1318,
            "count": 1
           }
          ]
         }
        },
        {
         "name": "retweets_count",
         "dtype": "int64"
        },
        {
         "name": "likes_count",
         "dtype": "int64"
        },
        {
         "name": "_deepnote_index_column",
         "dtype": "int64"
        }
       ],
       "rows": [
        {
         "replies_count": 0,
         "retweets_count": 0,
         "likes_count": 0,
         "_deepnote_index_column": 0
        },
        {
         "replies_count": 0,
         "retweets_count": 0,
         "likes_count": 0,
         "_deepnote_index_column": 1
        },
        {
         "replies_count": 0,
         "retweets_count": 0,
         "likes_count": 0,
         "_deepnote_index_column": 2
        },
        {
         "replies_count": 0,
         "retweets_count": 0,
         "likes_count": 0,
         "_deepnote_index_column": 3
        },
        {
         "replies_count": 0,
         "retweets_count": 0,
         "likes_count": 0,
         "_deepnote_index_column": 4
        },
        {
         "replies_count": 0,
         "retweets_count": 0,
         "likes_count": 0,
         "_deepnote_index_column": 5
        },
        {
         "replies_count": 1,
         "retweets_count": 0,
         "likes_count": 0,
         "_deepnote_index_column": 6
        },
        {
         "replies_count": 1,
         "retweets_count": 0,
         "likes_count": 0,
         "_deepnote_index_column": 7
        },
        {
         "replies_count": 0,
         "retweets_count": 0,
         "likes_count": 0,
         "_deepnote_index_column": 8
        },
        {
         "replies_count": 0,
         "retweets_count": 1,
         "likes_count": 1,
         "_deepnote_index_column": 9
        }
       ]
      },
      "text/plain": "       replies_count  retweets_count  likes_count\n0                  0               0            0\n1                  0               0            0\n2                  0               0            0\n3                  0               0            0\n4                  0               0            0\n...              ...             ...          ...\n49997              0               2            5\n49998              0               0            0\n49999              1               0            1\n50000              0               0            0\n50001              0               0            2\n\n[50002 rows x 3 columns]",
      "text/html": "<div>\n<style scoped>\n    .dataframe tbody tr th:only-of-type {\n        vertical-align: middle;\n    }\n\n    .dataframe tbody tr th {\n        vertical-align: top;\n    }\n\n    .dataframe thead th {\n        text-align: right;\n    }\n</style>\n<table border=\"1\" class=\"dataframe\">\n  <thead>\n    <tr style=\"text-align: right;\">\n      <th></th>\n      <th>replies_count</th>\n      <th>retweets_count</th>\n      <th>likes_count</th>\n    </tr>\n  </thead>\n  <tbody>\n    <tr>\n      <th>0</th>\n      <td>0</td>\n      <td>0</td>\n      <td>0</td>\n    </tr>\n    <tr>\n      <th>1</th>\n      <td>0</td>\n      <td>0</td>\n      <td>0</td>\n    </tr>\n    <tr>\n      <th>2</th>\n      <td>0</td>\n      <td>0</td>\n      <td>0</td>\n    </tr>\n    <tr>\n      <th>3</th>\n      <td>0</td>\n      <td>0</td>\n      <td>0</td>\n    </tr>\n    <tr>\n      <th>4</th>\n      <td>0</td>\n      <td>0</td>\n      <td>0</td>\n    </tr>\n    <tr>\n      <th>...</th>\n      <td>...</td>\n      <td>...</td>\n      <td>...</td>\n    </tr>\n    <tr>\n      <th>49997</th>\n      <td>0</td>\n      <td>2</td>\n      <td>5</td>\n    </tr>\n    <tr>\n      <th>49998</th>\n      <td>0</td>\n      <td>0</td>\n      <td>0</td>\n    </tr>\n    <tr>\n      <th>49999</th>\n      <td>1</td>\n      <td>0</td>\n      <td>1</td>\n    </tr>\n    <tr>\n      <th>50000</th>\n      <td>0</td>\n      <td>0</td>\n      <td>0</td>\n    </tr>\n    <tr>\n      <th>50001</th>\n      <td>0</td>\n      <td>0</td>\n      <td>2</td>\n    </tr>\n  </tbody>\n</table>\n<p>50002 rows × 3 columns</p>\n</div>"
     },
     "metadata": {}
    }
   ],
   "execution_count": null
  },
  {
   "cell_type": "code",
   "metadata": {
    "deepnote_to_be_reexecuted": false,
    "executionInfo": {
     "elapsed": 32,
     "status": "ok",
     "timestamp": 1657946213134,
     "user": {
      "displayName": "William Wallace",
      "userId": "02462327362597608294"
     },
     "user_tz": 180
    },
    "execution_millis": 83,
    "execution_start": 1658369192766,
    "id": "IhHpGhE1IMJg",
    "source_hash": "866b8212",
    "cell_id": "00013-8b086b8c-4a72-437d-89aa-32b95d311afc",
    "deepnote_cell_type": "code",
    "deepnote_cell_height": 81
   },
   "source": "from sklearn.preprocessing import StandardScaler",
   "outputs": [],
   "execution_count": null
  },
  {
   "cell_type": "code",
   "metadata": {
    "colab": {
     "base_uri": "https://localhost:8080/"
    },
    "deepnote_to_be_reexecuted": false,
    "executionInfo": {
     "elapsed": 33,
     "status": "ok",
     "timestamp": 1657946213135,
     "user": {
      "displayName": "William Wallace",
      "userId": "02462327362597608294"
     },
     "user_tz": 180
    },
    "execution_millis": 4,
    "execution_start": 1658369192891,
    "id": "Aq-QQISsHfOQ",
    "outputId": "f6ea5747-c933-4693-b1e1-b378e9ba16e4",
    "source_hash": "de9a3d04",
    "cell_id": "00014-6f71d72a-e5e5-4e45-bb08-d0692262e171",
    "deepnote_cell_type": "code",
    "deepnote_cell_height": 269.3125,
    "deepnote_output_heights": [
     136.3125
    ]
   },
   "source": "ss = StandardScaler()\nX = ss.fit_transform(X)\nX",
   "outputs": [
    {
     "output_type": "execute_result",
     "execution_count": 13,
     "data": {
      "text/plain": "array([[-0.08864567, -0.02976966, -0.03250667],\n       [-0.08864567, -0.02976966, -0.03250667],\n       [-0.08864567, -0.02976966, -0.03250667],\n       ...,\n       [ 0.00051892, -0.02976966, -0.03083781],\n       [-0.08864567, -0.02976966, -0.03250667],\n       [-0.08864567, -0.02976966, -0.02916895]])"
     },
     "metadata": {}
    }
   ],
   "execution_count": null
  },
  {
   "cell_type": "code",
   "metadata": {
    "deepnote_to_be_reexecuted": false,
    "executionInfo": {
     "elapsed": 32,
     "status": "ok",
     "timestamp": 1657946213136,
     "user": {
      "displayName": "William Wallace",
      "userId": "02462327362597608294"
     },
     "user_tz": 180
    },
    "execution_millis": 43,
    "execution_start": 1658369192892,
    "id": "xJ_lJGr56VIV",
    "source_hash": "ef639279",
    "cell_id": "00015-c599d1e2-182e-440d-b3db-e62a5d778ab0",
    "deepnote_cell_type": "code",
    "deepnote_cell_height": 153
   },
   "source": "#Importamos la libreria para separar en train y test\nfrom sklearn.model_selection import train_test_split \n\n#Me quedo con 30% para test y 70% para train\nX_train, X_test, y_train, y_test = train_test_split(X, y, test_size=0.30, random_state=42) ",
   "outputs": [],
   "execution_count": null
  },
  {
   "cell_type": "markdown",
   "source": "## ARBOL DE DECISIÓN ",
   "metadata": {
    "id": "4Vq1cbPpK3X7",
    "cell_id": "00016-8bb2e711-35d2-44ab-ba97-e098a2469579",
    "deepnote_cell_type": "markdown",
    "deepnote_cell_height": 70
   }
  },
  {
   "cell_type": "markdown",
   "source": "Importamos el DecisionTreeClassifier desde el paquete sklearn",
   "metadata": {
    "cell_id": "0b3f80a3a70d4535a8530d284218f6e5",
    "tags": [],
    "deepnote_cell_type": "markdown",
    "deepnote_cell_height": 52.390625
   }
  },
  {
   "cell_type": "code",
   "metadata": {
    "cell_id": "db34175986244588a891c1e62accce35",
    "tags": [],
    "deepnote_to_be_reexecuted": false,
    "source_hash": "775b1577",
    "execution_start": 1658369192935,
    "execution_millis": 83,
    "deepnote_cell_type": "code",
    "deepnote_cell_height": 99
   },
   "source": "from sklearn.tree import DecisionTreeClassifier\n",
   "outputs": [],
   "execution_count": null
  },
  {
   "cell_type": "markdown",
   "source": "Lo siguiente que se debe hacer es aplicar esto a los datos de entrenamiento. Para ello, se asigna el clasificador tree y se establece max_depth = 3 y ramdon_state = 42. El parámetro max_depth es la profundidad máxima del árbol, que controlamos para garantizar que no haya sobreajuste y que podamos seguir fácilmemte cómo se lorgó el resultado final. El parámetro random_state garantiza que los resultados se puedan replicar en análisis posteriores.\n",
   "metadata": {
    "cell_id": "106c327db9e74ea3a5ee7f4565b3fe6d",
    "tags": [],
    "deepnote_cell_type": "markdown",
    "deepnote_cell_height": 141.953125
   }
  },
  {
   "cell_type": "markdown",
   "source": "Luego ajustamos el algoritmo a los datos de entrenamiento:",
   "metadata": {
    "cell_id": "12356f6f8256489ab017fbaa58521705",
    "tags": [],
    "deepnote_cell_type": "markdown",
    "deepnote_cell_height": 52.390625
   }
  },
  {
   "cell_type": "code",
   "metadata": {
    "cell_id": "59be612aa1804c2ea27a5041330d4060",
    "tags": [],
    "deepnote_to_be_reexecuted": false,
    "source_hash": "d07ab007",
    "execution_start": 1658369193024,
    "execution_millis": 51,
    "deepnote_cell_type": "code",
    "deepnote_cell_height": 175.34375,
    "deepnote_output_heights": [
     60.34375
    ]
   },
   "source": "arbol = DecisionTreeClassifier(max_depth=3, random_state = 42) \narbol.fit(X_train,y_train)",
   "outputs": [
    {
     "output_type": "execute_result",
     "execution_count": 16,
     "data": {
      "text/plain": "DecisionTreeClassifier(max_depth=3, random_state=42)",
      "text/html": "<style>#sk-container-id-1 {color: black;background-color: white;}#sk-container-id-1 pre{padding: 0;}#sk-container-id-1 div.sk-toggleable {background-color: white;}#sk-container-id-1 label.sk-toggleable__label {cursor: pointer;display: block;width: 100%;margin-bottom: 0;padding: 0.3em;box-sizing: border-box;text-align: center;}#sk-container-id-1 label.sk-toggleable__label-arrow:before {content: \"▸\";float: left;margin-right: 0.25em;color: #696969;}#sk-container-id-1 label.sk-toggleable__label-arrow:hover:before {color: black;}#sk-container-id-1 div.sk-estimator:hover label.sk-toggleable__label-arrow:before {color: black;}#sk-container-id-1 div.sk-toggleable__content {max-height: 0;max-width: 0;overflow: hidden;text-align: left;background-color: #f0f8ff;}#sk-container-id-1 div.sk-toggleable__content pre {margin: 0.2em;color: black;border-radius: 0.25em;background-color: #f0f8ff;}#sk-container-id-1 input.sk-toggleable__control:checked~div.sk-toggleable__content {max-height: 200px;max-width: 100%;overflow: auto;}#sk-container-id-1 input.sk-toggleable__control:checked~label.sk-toggleable__label-arrow:before {content: \"▾\";}#sk-container-id-1 div.sk-estimator input.sk-toggleable__control:checked~label.sk-toggleable__label {background-color: #d4ebff;}#sk-container-id-1 div.sk-label input.sk-toggleable__control:checked~label.sk-toggleable__label {background-color: #d4ebff;}#sk-container-id-1 input.sk-hidden--visually {border: 0;clip: rect(1px 1px 1px 1px);clip: rect(1px, 1px, 1px, 1px);height: 1px;margin: -1px;overflow: hidden;padding: 0;position: absolute;width: 1px;}#sk-container-id-1 div.sk-estimator {font-family: monospace;background-color: #f0f8ff;border: 1px dotted black;border-radius: 0.25em;box-sizing: border-box;margin-bottom: 0.5em;}#sk-container-id-1 div.sk-estimator:hover {background-color: #d4ebff;}#sk-container-id-1 div.sk-parallel-item::after {content: \"\";width: 100%;border-bottom: 1px solid gray;flex-grow: 1;}#sk-container-id-1 div.sk-label:hover label.sk-toggleable__label {background-color: #d4ebff;}#sk-container-id-1 div.sk-serial::before {content: \"\";position: absolute;border-left: 1px solid gray;box-sizing: border-box;top: 0;bottom: 0;left: 50%;z-index: 0;}#sk-container-id-1 div.sk-serial {display: flex;flex-direction: column;align-items: center;background-color: white;padding-right: 0.2em;padding-left: 0.2em;position: relative;}#sk-container-id-1 div.sk-item {position: relative;z-index: 1;}#sk-container-id-1 div.sk-parallel {display: flex;align-items: stretch;justify-content: center;background-color: white;position: relative;}#sk-container-id-1 div.sk-item::before, #sk-container-id-1 div.sk-parallel-item::before {content: \"\";position: absolute;border-left: 1px solid gray;box-sizing: border-box;top: 0;bottom: 0;left: 50%;z-index: -1;}#sk-container-id-1 div.sk-parallel-item {display: flex;flex-direction: column;z-index: 1;position: relative;background-color: white;}#sk-container-id-1 div.sk-parallel-item:first-child::after {align-self: flex-end;width: 50%;}#sk-container-id-1 div.sk-parallel-item:last-child::after {align-self: flex-start;width: 50%;}#sk-container-id-1 div.sk-parallel-item:only-child::after {width: 0;}#sk-container-id-1 div.sk-dashed-wrapped {border: 1px dashed gray;margin: 0 0.4em 0.5em 0.4em;box-sizing: border-box;padding-bottom: 0.4em;background-color: white;}#sk-container-id-1 div.sk-label label {font-family: monospace;font-weight: bold;display: inline-block;line-height: 1.2em;}#sk-container-id-1 div.sk-label-container {text-align: center;}#sk-container-id-1 div.sk-container {/* jupyter's `normalize.less` sets `[hidden] { display: none; }` but bootstrap.min.css set `[hidden] { display: none !important; }` so we also need the `!important` here to be able to override the default hidden behavior on the sphinx rendered scikit-learn.org. See: https://github.com/scikit-learn/scikit-learn/issues/21755 */display: inline-block !important;position: relative;}#sk-container-id-1 div.sk-text-repr-fallback {display: none;}</style><div id=\"sk-container-id-1\" class=\"sk-top-container\"><div class=\"sk-text-repr-fallback\"><pre>DecisionTreeClassifier(max_depth=3, random_state=42)</pre><b>In a Jupyter environment, please rerun this cell to show the HTML representation or trust the notebook. <br />On GitHub, the HTML representation is unable to render, please try loading this page with nbviewer.org.</b></div><div class=\"sk-container\" hidden><div class=\"sk-item\"><div class=\"sk-estimator sk-toggleable\"><input class=\"sk-toggleable__control sk-hidden--visually\" id=\"sk-estimator-id-1\" type=\"checkbox\" checked><label for=\"sk-estimator-id-1\" class=\"sk-toggleable__label sk-toggleable__label-arrow\">DecisionTreeClassifier</label><div class=\"sk-toggleable__content\"><pre>DecisionTreeClassifier(max_depth=3, random_state=42)</pre></div></div></div></div></div>"
     },
     "metadata": {}
    }
   ],
   "execution_count": null
  },
  {
   "cell_type": "code",
   "metadata": {
    "deepnote_to_be_reexecuted": false,
    "executionInfo": {
     "elapsed": 34,
     "status": "ok",
     "timestamp": 1657946213142,
     "user": {
      "displayName": "William Wallace",
      "userId": "02462327362597608294"
     },
     "user_tz": 180
    },
    "execution_millis": 1,
    "execution_start": 1658369193076,
    "id": "gtXB0ga26d5o",
    "source_hash": "35e65083",
    "cell_id": "00019-b1870f38-aa37-40c3-a2b4-c0b75ad3796d",
    "deepnote_cell_type": "code",
    "deepnote_cell_height": 99
   },
   "source": "y_train_pred = arbol.predict(X_train) #Prediccion en Train\ny_test_pred = arbol.predict(X_test) #Prediccion en Test",
   "outputs": [],
   "execution_count": null
  },
  {
   "cell_type": "markdown",
   "source": "Queremos poder entender cómo se ha comportado el algoritmo, cuál de los aspectos positivos de usar un clasificador de árboles de decisión es que la salida es intuitiva de entender y se puede visualizar fácilmente.",
   "metadata": {
    "cell_id": "5905ae1995af4d56b0cfea995d631d1c",
    "tags": [],
    "deepnote_cell_type": "markdown",
    "deepnote_cell_height": 97.171875
   }
  },
  {
   "cell_type": "markdown",
   "source": "Esto se puede hacer con un diagrama de árbol.\n",
   "metadata": {
    "cell_id": "0f74eb12600d4d2c8f491b64dd9bd945",
    "tags": [],
    "deepnote_cell_type": "markdown",
    "deepnote_cell_height": 52.390625
   }
  },
  {
   "cell_type": "code",
   "metadata": {
    "cell_id": "759a28ac7dfa4e87a1f6ad0278e49b20",
    "tags": [],
    "deepnote_to_be_reexecuted": false,
    "source_hash": "17f0da6d",
    "execution_start": 1658369193077,
    "execution_millis": 834,
    "owner_user_id": "f44ae237-a60f-490b-b7e7-4bd6dd520baf",
    "deepnote_cell_type": "code",
    "deepnote_cell_height": 647.625,
    "deepnote_output_heights": [
     388.625
    ]
   },
   "source": "from sklearn import tree\nimport matplotlib.pyplot as plt\nplt.figure(figsize=(15,10), facecolor ='w')\na = tree.plot_tree(arbol,\n                   feature_names = df2.columns,\n                   label='all',\n                   rounded = True,\n                   filled = True,\n                   fontsize=14)\nplt.show()",
   "outputs": [
    {
     "data": {
      "text/plain": "<Figure size 1080x720 with 1 Axes>",
      "image/png": "[encoded data removed]"
     },
     "metadata": {
      "image/png": {
       "width": 928,
       "height": 558
      }
     },
     "output_type": "display_data"
    }
   ],
   "execution_count": null
  },
  {
   "cell_type": "code",
   "metadata": {
    "colab": {
     "base_uri": "https://localhost:8080/"
    },
    "deepnote_to_be_reexecuted": false,
    "executionInfo": {
     "elapsed": 38,
     "status": "ok",
     "timestamp": 1657946213146,
     "user": {
      "displayName": "William Wallace",
      "userId": "02462327362597608294"
     },
     "user_tz": 180
    },
    "execution_millis": 12,
    "execution_start": 1658369193908,
    "id": "gmzvT5beJoYA",
    "outputId": "f24c3fc2-20a9-4603-9570-2522e6b20476",
    "source_hash": "c7c6dbc6",
    "cell_id": "00020-48f08c7b-a02d-4ad4-9f8d-13df8742aeee",
    "deepnote_cell_type": "code",
    "deepnote_cell_height": 294.375
   },
   "source": "from sklearn.metrics import accuracy_score\n\n#Calculo el accuracy en Train\ntrain_accuracy = accuracy_score(y_train, y_train_pred)\n\n#Calculo el accuracy en Test\ntest_accuracy = accuracy_score(y_test, y_test_pred)\n\nprint(f'% de aciertos sobre el set de entrenamiento: {train_accuracy:2.2%}')\nprint(f'% de aciertos sobre el set de evaluación: {test_accuracy:2.2%}')",
   "outputs": [
    {
     "name": "stdout",
     "text": "% de aciertos sobre el set de entrenamiento: 71.10%\n% de aciertos sobre el set de evaluación: 69.80%\n",
     "output_type": "stream"
    }
   ],
   "execution_count": null
  },
  {
   "cell_type": "markdown",
   "source": "Una precisión del 71,10% de aciertos en el conjunto de entrenamiento y una precisión del 69,80% de aciertos en el conjunto de prueba indican un sobreajuste.",
   "metadata": {
    "cell_id": "8f5cbcf900e948e49d587c9c66e4e60a",
    "tags": [],
    "deepnote_cell_type": "markdown",
    "deepnote_cell_height": 74.78125
   }
  },
  {
   "cell_type": "code",
   "metadata": {
    "deepnote_to_be_reexecuted": false,
    "executionInfo": {
     "elapsed": 37,
     "status": "ok",
     "timestamp": 1657946213149,
     "user": {
      "displayName": "William Wallace",
      "userId": "02462327362597608294"
     },
     "user_tz": 180
    },
    "execution_millis": 4,
    "execution_start": 1658369193918,
    "id": "gF97T39UN2ym",
    "source_hash": "f2eb15d7",
    "cell_id": "00021-c0237428-3c45-4231-9fd1-5a02309f9bea",
    "deepnote_cell_type": "code",
    "deepnote_cell_height": 81
   },
   "source": "from sklearn.metrics import classification_report, confusion_matrix, accuracy_score",
   "outputs": [],
   "execution_count": null
  },
  {
   "cell_type": "code",
   "metadata": {
    "colab": {
     "base_uri": "https://localhost:8080/"
    },
    "deepnote_to_be_reexecuted": false,
    "executionInfo": {
     "elapsed": 37,
     "status": "ok",
     "timestamp": 1657946213150,
     "user": {
      "displayName": "William Wallace",
      "userId": "02462327362597608294"
     },
     "user_tz": 180
    },
    "execution_millis": 34,
    "execution_start": 1658369193929,
    "id": "410JVzAMNkp-",
    "outputId": "944d4eb6-7342-4869-ca46-313ae14dfa2d",
    "source_hash": "42c06d71",
    "cell_id": "00022-eb2ae3e4-ed7e-4949-acb9-2b8e31ddd0d7",
    "deepnote_cell_type": "code",
    "deepnote_cell_height": 293.875
   },
   "source": "print(classification_report(y_true=y_test,y_pred=arbol.predict(X_test)))",
   "outputs": [
    {
     "name": "stdout",
     "text": "              precision    recall  f1-score   support\n\n         0.0       0.70      1.00      0.82     10471\n         1.0       0.00      0.00      0.00      3155\n         2.0       0.00      0.00      0.00      1375\n\n    accuracy                           0.70     15001\n   macro avg       0.23      0.33      0.27     15001\nweighted avg       0.49      0.70      0.57     15001\n\n",
     "output_type": "stream"
    }
   ],
   "execution_count": null
  },
  {
   "cell_type": "markdown",
   "source": "Aquí es importante señalar que no hay exactitud en 1 y 2. Es decir, el arbol solo acierta el 70% de las veces en sentimientos negativos. No acierta en sentimientos neutros y positivos. Creemos que eso se debe a que las clases están desbalanceadas.",
   "metadata": {
    "cell_id": "fc059b3a9fd84e34a66f08a6b4bc274e",
    "tags": [],
    "is_collapsed": false,
    "formattedRanges": [],
    "deepnote_cell_type": "text-cell-p"
   }
  },
  {
   "cell_type": "code",
   "metadata": {
    "deepnote_to_be_reexecuted": false,
    "executionInfo": {
     "elapsed": 34,
     "status": "ok",
     "timestamp": 1657946213152,
     "user": {
      "displayName": "William Wallace",
      "userId": "02462327362597608294"
     },
     "user_tz": 180
    },
    "execution_millis": 1,
    "execution_start": 1658369193965,
    "id": "1rtiw13OJqmS",
    "source_hash": "299fba77",
    "cell_id": "00023-fbbcdf3a-6490-45d9-9830-fd862ecbfd56",
    "deepnote_cell_type": "code",
    "deepnote_cell_height": 153
   },
   "source": "#Importamos librerias para graficar\n\nimport matplotlib.pyplot as plt\nimport seaborn as sns\n",
   "outputs": [],
   "execution_count": null
  },
  {
   "cell_type": "markdown",
   "source": "Graficaremos cómo evoluciona la accuracy de los árboles a medida que va creciendo la profundidad del árbol.",
   "metadata": {
    "cell_id": "4c3d336dc14349eea382d15bb495733c",
    "tags": [],
    "is_collapsed": false,
    "formattedRanges": [],
    "deepnote_cell_type": "text-cell-p"
   }
  },
  {
   "cell_type": "code",
   "metadata": {
    "deepnote_to_be_reexecuted": false,
    "executionInfo": {
     "elapsed": 461,
     "status": "ok",
     "timestamp": 1657946213580,
     "user": {
      "displayName": "William Wallace",
      "userId": "02462327362597608294"
     },
     "user_tz": 180
    },
    "execution_millis": 475,
    "execution_start": 1658369193970,
    "id": "vF-8vdvwOmYW",
    "source_hash": "53f85183",
    "cell_id": "00024-f3fb0c51-cfeb-46cf-bfcc-1f45dc9dc565",
    "deepnote_cell_type": "code",
    "deepnote_cell_height": 279
   },
   "source": "profundidad = list(range(1,20))\nresultados_train = []\nresultados_test  = []\n\nfor depth in profundidad:\n    # instanciamos el modelo uniforme\n    arbol = DecisionTreeClassifier(criterion='gini', max_depth=depth, min_samples_leaf=1, min_samples_split=2, ccp_alpha=0, class_weight=\"balanced\")\n    arbol.fit(X_train, y_train)\n    y_train_pred = arbol.predict(X_train)\n    y_pred = arbol.predict(X_test)\n    resultados_train.append(accuracy_score(y_train, y_train_pred))\n    resultados_test.append(accuracy_score(y_test, y_pred))",
   "outputs": [],
   "execution_count": null
  },
  {
   "cell_type": "code",
   "metadata": {
    "colab": {
     "base_uri": "https://localhost:8080/",
     "height": 337
    },
    "deepnote_to_be_reexecuted": false,
    "executionInfo": {
     "elapsed": 599,
     "status": "ok",
     "timestamp": 1657946214176,
     "user": {
      "displayName": "William Wallace",
      "userId": "02462327362597608294"
     },
     "user_tz": 180
    },
    "execution_millis": 855,
    "execution_start": 1658369194461,
    "id": "ArxKoQSeOqkv",
    "outputId": "5220ac16-9b04-4478-b70c-b577b51b6893",
    "source_hash": "1fa9177a",
    "cell_id": "00025-e0f898b9-a473-45fb-bdbf-0a175e2eca66",
    "deepnote_cell_type": "code",
    "deepnote_cell_height": 434.53125,
    "deepnote_output_heights": [
     247.53125
    ]
   },
   "source": "# veamos que paso en cada caso\nf, ax = plt.subplots(1,1,figsize=(14,5),sharey=True)\nax.plot(profundidad, resultados_train, profundidad, resultados_test);\nplt.grid()\nax.legend(['accuracy train', 'accuracy test']);\nax.set(xlabel='profundidad',ylabel='accuracy');",
   "outputs": [
    {
     "data": {
      "text/plain": "<Figure size 1008x360 with 1 Axes>",
      "image/png": "[encoded data removed]"
     },
     "metadata": {
      "needs_background": "light",
      "image/png": {
       "width": 838,
       "height": 320
      }
     },
     "output_type": "display_data"
    }
   ],
   "execution_count": null
  },
  {
   "cell_type": "markdown",
   "source": "En el gráfico anterior mostramos como va evolucionando la accuracy a medida que va creciendo la profundidad de los árboles. Como se puede ver, una vez que se llega a 18 de profundidad las curvas se aplanan. El arbol logra en una profundidad de 3 la misma performance que con 20 de profundidad. Entendemos que una accuracy máxima de 50% no es un buen resultado, dado que hay igual probabilidad ser uno y otro resultado, positivo, negativo o neutro.",
   "metadata": {
    "cell_id": "469382f9993042479d6cbc007677fbe8",
    "tags": [],
    "is_collapsed": false,
    "formattedRanges": [],
    "deepnote_cell_type": "text-cell-p"
   }
  },
  {
   "cell_type": "code",
   "metadata": {
    "colab": {
     "base_uri": "https://localhost:8080/"
    },
    "deepnote_to_be_reexecuted": false,
    "executionInfo": {
     "elapsed": 15,
     "status": "ok",
     "timestamp": 1657946214178,
     "user": {
      "displayName": "William Wallace",
      "userId": "02462327362597608294"
     },
     "user_tz": 180
    },
    "execution_millis": 635,
    "execution_start": 1658369194681,
    "id": "g06OsHqTO24K",
    "outputId": "273cad8c-09f5-465d-f0e7-394a4362d3d7",
    "source_hash": "dd43d720",
    "cell_id": "00026-17f867b4-f8e2-4f8b-b201-7a572229003b",
    "deepnote_cell_type": "code",
    "deepnote_cell_height": 240.375
   },
   "source": "# veamos que pasa con un árbol sin corte de profundidad\nnp.random.seed(2021)\narbol = DecisionTreeClassifier(criterion='entropy', ccp_alpha=0)\narbol.fit(X_train, y_train)\n#print(classification_report(y_true=y_test,y_pred=arbol.predict(X_test)))\nprint('Exactitud en entrenamiento: %.3f' % accuracy_score(y_train,arbol.predict(X_train)))\nprint('Exactitud en test: %.3f' % accuracy_score(y_test,arbol.predict(X_test)))",
   "outputs": [
    {
     "name": "stdout",
     "text": "Exactitud en entrenamiento: 0.739\nExactitud en test: 0.683\n",
     "output_type": "stream"
    }
   ],
   "execution_count": null
  },
  {
   "cell_type": "markdown",
   "source": "Aquí corremos el arbol con el hipeparametro de entropía, en lugar de Gini, pero no mejora sensiblemente el modelo.",
   "metadata": {
    "cell_id": "88f93a484ee7489f933479cdd4f2e1e8",
    "tags": [],
    "is_collapsed": false,
    "formattedRanges": [],
    "deepnote_cell_type": "text-cell-p"
   }
  },
  {
   "cell_type": "markdown",
   "source": "### KNN",
   "metadata": {
    "id": "GFAKAh59K9EL",
    "cell_id": "00027-8a1c7e52-f42b-47f1-90b0-a049faca9880",
    "deepnote_cell_type": "markdown",
    "deepnote_cell_height": 62
   }
  },
  {
   "cell_type": "code",
   "metadata": {
    "deepnote_to_be_reexecuted": false,
    "executionInfo": {
     "elapsed": 13,
     "status": "ok",
     "timestamp": 1657946214180,
     "user": {
      "displayName": "William Wallace",
      "userId": "02462327362597608294"
     },
     "user_tz": 180
    },
    "execution_millis": 2,
    "execution_start": 1658369194716,
    "id": "bkFVkHruKinJ",
    "source_hash": "356bd9d4",
    "cell_id": "00028-dcc79a8e-1792-4425-9487-6e2d74853fb3",
    "deepnote_cell_type": "code",
    "deepnote_cell_height": 135
   },
   "source": "import matplotlib.pyplot as plt\nimport pandas as pd\nimport seaborn as sns\nfrom sklearn.neighbors import KNeighborsClassifier",
   "outputs": [],
   "execution_count": null
  },
  {
   "cell_type": "code",
   "metadata": {
    "colab": {
     "base_uri": "https://localhost:8080/"
    },
    "deepnote_to_be_reexecuted": false,
    "executionInfo": {
     "elapsed": 14,
     "status": "ok",
     "timestamp": 1657946214181,
     "user": {
      "displayName": "William Wallace",
      "userId": "02462327362597608294"
     },
     "user_tz": 180
    },
    "execution_millis": 555,
    "execution_start": 1658369194762,
    "id": "s_J7kMZWLGS0",
    "outputId": "ad65f9e3-0ee2-4202-8e45-b44563007f93",
    "source_hash": "e7d543f4",
    "cell_id": "00029-6bf9c6e5-e0d8-4bdc-8bfe-83b9db7022cd",
    "deepnote_cell_type": "code",
    "deepnote_cell_height": 229.34375,
    "deepnote_output_heights": [
     60.34375
    ]
   },
   "source": "from sklearn.neighbors import KNeighborsClassifier\n\nknn = KNeighborsClassifier(n_neighbors=5, weights='uniform')\n\nknn.fit(X, y)",
   "outputs": [
    {
     "output_type": "execute_result",
     "execution_count": 27,
     "data": {
      "text/plain": "KNeighborsClassifier()",
      "text/html": "<style>#sk-container-id-2 {color: black;background-color: white;}#sk-container-id-2 pre{padding: 0;}#sk-container-id-2 div.sk-toggleable {background-color: white;}#sk-container-id-2 label.sk-toggleable__label {cursor: pointer;display: block;width: 100%;margin-bottom: 0;padding: 0.3em;box-sizing: border-box;text-align: center;}#sk-container-id-2 label.sk-toggleable__label-arrow:before {content: \"▸\";float: left;margin-right: 0.25em;color: #696969;}#sk-container-id-2 label.sk-toggleable__label-arrow:hover:before {color: black;}#sk-container-id-2 div.sk-estimator:hover label.sk-toggleable__label-arrow:before {color: black;}#sk-container-id-2 div.sk-toggleable__content {max-height: 0;max-width: 0;overflow: hidden;text-align: left;background-color: #f0f8ff;}#sk-container-id-2 div.sk-toggleable__content pre {margin: 0.2em;color: black;border-radius: 0.25em;background-color: #f0f8ff;}#sk-container-id-2 input.sk-toggleable__control:checked~div.sk-toggleable__content {max-height: 200px;max-width: 100%;overflow: auto;}#sk-container-id-2 input.sk-toggleable__control:checked~label.sk-toggleable__label-arrow:before {content: \"▾\";}#sk-container-id-2 div.sk-estimator input.sk-toggleable__control:checked~label.sk-toggleable__label {background-color: #d4ebff;}#sk-container-id-2 div.sk-label input.sk-toggleable__control:checked~label.sk-toggleable__label {background-color: #d4ebff;}#sk-container-id-2 input.sk-hidden--visually {border: 0;clip: rect(1px 1px 1px 1px);clip: rect(1px, 1px, 1px, 1px);height: 1px;margin: -1px;overflow: hidden;padding: 0;position: absolute;width: 1px;}#sk-container-id-2 div.sk-estimator {font-family: monospace;background-color: #f0f8ff;border: 1px dotted black;border-radius: 0.25em;box-sizing: border-box;margin-bottom: 0.5em;}#sk-container-id-2 div.sk-estimator:hover {background-color: #d4ebff;}#sk-container-id-2 div.sk-parallel-item::after {content: \"\";width: 100%;border-bottom: 1px solid gray;flex-grow: 1;}#sk-container-id-2 div.sk-label:hover label.sk-toggleable__label {background-color: #d4ebff;}#sk-container-id-2 div.sk-serial::before {content: \"\";position: absolute;border-left: 1px solid gray;box-sizing: border-box;top: 0;bottom: 0;left: 50%;z-index: 0;}#sk-container-id-2 div.sk-serial {display: flex;flex-direction: column;align-items: center;background-color: white;padding-right: 0.2em;padding-left: 0.2em;position: relative;}#sk-container-id-2 div.sk-item {position: relative;z-index: 1;}#sk-container-id-2 div.sk-parallel {display: flex;align-items: stretch;justify-content: center;background-color: white;position: relative;}#sk-container-id-2 div.sk-item::before, #sk-container-id-2 div.sk-parallel-item::before {content: \"\";position: absolute;border-left: 1px solid gray;box-sizing: border-box;top: 0;bottom: 0;left: 50%;z-index: -1;}#sk-container-id-2 div.sk-parallel-item {display: flex;flex-direction: column;z-index: 1;position: relative;background-color: white;}#sk-container-id-2 div.sk-parallel-item:first-child::after {align-self: flex-end;width: 50%;}#sk-container-id-2 div.sk-parallel-item:last-child::after {align-self: flex-start;width: 50%;}#sk-container-id-2 div.sk-parallel-item:only-child::after {width: 0;}#sk-container-id-2 div.sk-dashed-wrapped {border: 1px dashed gray;margin: 0 0.4em 0.5em 0.4em;box-sizing: border-box;padding-bottom: 0.4em;background-color: white;}#sk-container-id-2 div.sk-label label {font-family: monospace;font-weight: bold;display: inline-block;line-height: 1.2em;}#sk-container-id-2 div.sk-label-container {text-align: center;}#sk-container-id-2 div.sk-container {/* jupyter's `normalize.less` sets `[hidden] { display: none; }` but bootstrap.min.css set `[hidden] { display: none !important; }` so we also need the `!important` here to be able to override the default hidden behavior on the sphinx rendered scikit-learn.org. See: https://github.com/scikit-learn/scikit-learn/issues/21755 */display: inline-block !important;position: relative;}#sk-container-id-2 div.sk-text-repr-fallback {display: none;}</style><div id=\"sk-container-id-2\" class=\"sk-top-container\"><div class=\"sk-text-repr-fallback\"><pre>KNeighborsClassifier()</pre><b>In a Jupyter environment, please rerun this cell to show the HTML representation or trust the notebook. <br />On GitHub, the HTML representation is unable to render, please try loading this page with nbviewer.org.</b></div><div class=\"sk-container\" hidden><div class=\"sk-item\"><div class=\"sk-estimator sk-toggleable\"><input class=\"sk-toggleable__control sk-hidden--visually\" id=\"sk-estimator-id-2\" type=\"checkbox\" checked><label for=\"sk-estimator-id-2\" class=\"sk-toggleable__label sk-toggleable__label-arrow\">KNeighborsClassifier</label><div class=\"sk-toggleable__content\"><pre>KNeighborsClassifier()</pre></div></div></div></div></div>"
     },
     "metadata": {}
    }
   ],
   "execution_count": null
  },
  {
   "cell_type": "code",
   "metadata": {
    "deepnote_to_be_reexecuted": false,
    "executionInfo": {
     "elapsed": 42553,
     "status": "ok",
     "timestamp": 1657946256723,
     "user": {
      "displayName": "William Wallace",
      "userId": "02462327362597608294"
     },
     "user_tz": 180
    },
    "execution_millis": 6786,
    "execution_start": 1658369194763,
    "id": "bURN0J-sL69a",
    "source_hash": "b8ece810",
    "cell_id": "00030-464d4430-5eea-44dc-9e33-1dbe42eb36a2",
    "deepnote_cell_type": "code",
    "deepnote_cell_height": 99
   },
   "source": "y_train_pred = knn.predict(X_train) #Prediccion en Train\ny_test_pred = knn.predict(X_test) #Prediccion en Test",
   "outputs": [],
   "execution_count": null
  },
  {
   "cell_type": "code",
   "metadata": {
    "colab": {
     "base_uri": "https://localhost:8080/"
    },
    "deepnote_to_be_reexecuted": false,
    "executionInfo": {
     "elapsed": 30,
     "status": "ok",
     "timestamp": 1657946256725,
     "user": {
      "displayName": "William Wallace",
      "userId": "02462327362597608294"
     },
     "user_tz": 180
    },
    "execution_millis": 6,
    "execution_start": 1658369201556,
    "id": "NYDmcce8MA_q",
    "outputId": "40d4371f-e2ec-43da-db72-50c5a6a27aaf",
    "source_hash": "c7c6dbc6",
    "cell_id": "00031-a9d69312-d15f-465d-842b-385cd56a9cea",
    "deepnote_cell_type": "code",
    "deepnote_cell_height": 294.375
   },
   "source": "from sklearn.metrics import accuracy_score\n\n#Calculo el accuracy en Train\ntrain_accuracy = accuracy_score(y_train, y_train_pred)\n\n#Calculo el accuracy en Test\ntest_accuracy = accuracy_score(y_test, y_test_pred)\n\nprint(f'% de aciertos sobre el set de entrenamiento: {train_accuracy:2.2%}')\nprint(f'% de aciertos sobre el set de evaluación: {test_accuracy:2.2%}')",
   "outputs": [
    {
     "name": "stdout",
     "text": "% de aciertos sobre el set de entrenamiento: 70.62%\n% de aciertos sobre el set de evaluación: 69.21%\n",
     "output_type": "stream"
    }
   ],
   "execution_count": null
  },
  {
   "cell_type": "markdown",
   "source": "Una precisión del 70.62% en el conjunto de entrenamiento y una precisión del 69.21% en el conjunto de prueba indican un sobreajuste.",
   "metadata": {
    "cell_id": "058df680a38a453b8d94b94d4c42b1af",
    "tags": [],
    "deepnote_cell_type": "markdown",
    "deepnote_cell_height": 74.78125
   }
  },
  {
   "cell_type": "markdown",
   "source": "Aquí abajo graficaremos la evolución de los modelos cambiando 2 hiperparámetros: el número de los k vecinos contra los pesos uniformes o ponderados por distancia:",
   "metadata": {
    "cell_id": "84551e2422114baaa7e8aa4d5305f1f8",
    "tags": [],
    "is_collapsed": false,
    "formattedRanges": [],
    "deepnote_cell_type": "text-cell-p"
   }
  },
  {
   "cell_type": "code",
   "metadata": {
    "deepnote_to_be_reexecuted": false,
    "executionInfo": {
     "elapsed": 112851,
     "status": "ok",
     "timestamp": 1657946369554,
     "user": {
      "displayName": "William Wallace",
      "userId": "02462327362597608294"
     },
     "user_tz": 180
    },
    "execution_millis": 135042,
    "execution_start": 1658369201568,
    "id": "JdAcmDHbJBaY",
    "source_hash": "36687132",
    "cell_id": "00032-21ce3a54-e900-4118-b58e-424eed600f4a",
    "deepnote_cell_type": "code",
    "deepnote_cell_height": 459
   },
   "source": "# veamos como le va a nuestro modelo variando la cantidad de vecinos y el tipo de peso\nvalores_k = list(range(1,50,4))\nresultados_train_u = []\nresultados_test_u  = []\nresultados_train_w = []\nresultados_test_w  = []\n\nfor k in valores_k:\n    # instanciamos el modelo uniforme\n    clf_u = KNeighborsClassifier(n_neighbors=k, weights='uniform')\n    clf_u.fit(X_train, y_train)\n    y_train_pred = clf_u.predict(X_train)\n    y_pred = clf_u.predict(X_test)\n    resultados_train_u.append(accuracy_score(y_train, y_train_pred))\n    resultados_test_u.append(accuracy_score(y_test, y_pred))\n\n    clf_w = KNeighborsClassifier(n_neighbors=k, weights='distance')\n    clf_w.fit(X_train, y_train)\n    y_train_pred = clf_w.predict(X_train)\n    y_pred = clf_w.predict(X_test)\n    resultados_train_w.append(accuracy_score(y_train, y_train_pred))\n    resultados_test_w.append(accuracy_score(y_test, y_pred))",
   "outputs": [],
   "execution_count": null
  },
  {
   "cell_type": "code",
   "metadata": {
    "colab": {
     "base_uri": "https://localhost:8080/",
     "height": 334
    },
    "deepnote_to_be_reexecuted": false,
    "executionInfo": {
     "elapsed": 29,
     "status": "ok",
     "timestamp": 1657946369557,
     "user": {
      "displayName": "William Wallace",
      "userId": "02462327362597608294"
     },
     "user_tz": 180
    },
    "id": "-Qrn8eYEJF8G",
    "outputId": "cb91bb9c-542d-41b6-93f0-234c09d91817",
    "source_hash": "4abe785a",
    "cell_id": "00033-702ffaca-277a-4bc3-ba44-5c20fcb3582d",
    "execution_start": 1658369336610,
    "execution_millis": 468,
    "deepnote_cell_type": "code",
    "deepnote_cell_height": 486.234375,
    "deepnote_output_heights": [
     245.234375
    ]
   },
   "source": "# veamos que paso en cada caso\nf, ax = plt.subplots(1,2,figsize=(14,5),sharey=True)\nax[0].plot(valores_k, resultados_train_u, valores_k, resultados_test_u);\nax[0].legend(['pesos uniformes - train', 'pesos uniformes - test']);\nax[0].set(xlabel='k',ylabel='accuracy');\n\nax[1].plot(valores_k, resultados_train_w, valores_k, resultados_test_w);\nax[1].legend(['pesos distancia - train', 'pesos distancia - test']);\nax[1].set(xlabel='k');",
   "outputs": [
    {
     "data": {
      "text/plain": "<Figure size 1008x360 with 2 Axes>",
      "image/png": "[encoded data removed]"
     },
     "metadata": {
      "needs_background": "light",
      "image/png": {
       "width": 838,
       "height": 317
      }
     },
     "output_type": "display_data"
    }
   ],
   "execution_count": null
  },
  {
   "cell_type": "markdown",
   "source": "Como se ve, los dos modelos llegan prácticamente a su mejor rendimiento en k = 10. La diferencia está en que mientras los pesos uniformes llegan a 70/71, los pesos ponderados por distancia en entrenamiento funcionan mejor (llega a 74), pero en test empeora y queda en 69.",
   "metadata": {
    "cell_id": "64688beb2f7e458aab9b9b05406693d2",
    "tags": [],
    "is_collapsed": false,
    "formattedRanges": [],
    "deepnote_cell_type": "text-cell-p"
   }
  },
  {
   "cell_type": "markdown",
   "source": "Aquí haremos un grid para testear cual es el modelo con mejores hiperparámetros:",
   "metadata": {
    "cell_id": "5b2b10c6fc534c3ab2351f62d9502c4a",
    "tags": [],
    "is_collapsed": false,
    "formattedRanges": [],
    "deepnote_cell_type": "text-cell-p"
   }
  },
  {
   "cell_type": "code",
   "metadata": {
    "deepnote_to_be_reexecuted": false,
    "executionInfo": {
     "elapsed": 24,
     "status": "ok",
     "timestamp": 1657946369558,
     "user": {
      "displayName": "William Wallace",
      "userId": "02462327362597608294"
     },
     "user_tz": 180
    },
    "id": "avVFVuvuJ5Of",
    "source_hash": "9f684f31",
    "cell_id": "00034-c02798cc-8716-4635-8ced-10a0e384289f",
    "execution_start": 1658369336878,
    "execution_millis": 3,
    "deepnote_cell_type": "code",
    "deepnote_cell_height": 81
   },
   "source": "from sklearn.model_selection import train_test_split, GridSearchCV, cross_val_score, KFold",
   "outputs": [],
   "execution_count": null
  },
  {
   "cell_type": "code",
   "metadata": {
    "colab": {
     "base_uri": "https://localhost:8080/",
     "height": 382
    },
    "deepnote_to_be_reexecuted": false,
    "executionInfo": {
     "elapsed": 173150,
     "status": "ok",
     "timestamp": 1657946542685,
     "user": {
      "displayName": "William Wallace",
      "userId": "02462327362597608294"
     },
     "user_tz": 180
    },
    "id": "NKbX6lJLJVRO",
    "outputId": "ebc0af89-d696-4eb0-a33f-5c2ed951acbe",
    "source_hash": "887467f7",
    "cell_id": "00035-fc1be2d1-87d3-4312-878d-a2c9918ff37a",
    "execution_start": 1658369336885,
    "execution_millis": 185088,
    "deepnote_cell_type": "code",
    "deepnote_cell_height": 538.1875
   },
   "source": "# ahora busquemos nuestro mejor modelo usando validacion cruzada y gridsearchcv pero incluyamos otra distancia!\nmodel = KNeighborsClassifier()\nn_neighbors = np.array([1,2,3,5,8,10,15,20,30,50])\nparam_grid = {'n_neighbors': n_neighbors, \n              'weights':['uniform', 'distance'], \n              'metric':['euclidean', 'chebyshev', 'manhattan']}\ngrid = GridSearchCV(estimator=model, param_grid=param_grid)\ngrid.fit(X_train, y_train)\nprint(grid.best_params_)\npd.DataFrame(grid.cv_results_).sample(3)",
   "outputs": [
    {
     "name": "stdout",
     "text": "{'metric': 'manhattan', 'n_neighbors': 50, 'weights': 'uniform'}\n",
     "output_type": "stream"
    },
    {
     "output_type": "execute_result",
     "execution_count": 33,
     "data": {
      "application/vnd.deepnote.dataframe.v3+json": {
       "column_count": 16,
       "row_count": 3,
       "columns": [
        {
         "name": "mean_fit_time",
         "dtype": "float64",
         "stats": {
          "unique_count": 3,
          "nan_count": 0,
          "min": "0.0144805908203125",
          "max": "0.0159818172454834",
          "histogram": [
           {
            "bin_start": 0.0144805908203125,
            "bin_end": 0.01463071346282959,
            "count": 1
           },
           {
            "bin_start": 0.01463071346282959,
            "bin_end": 0.01478083610534668,
            "count": 0
           },
           {
            "bin_start": 0.01478083610534668,
            "bin_end": 0.01493095874786377,
            "count": 1
           },
           {
            "bin_start": 0.01493095874786377,
            "bin_end": 0.01508108139038086,
            "count": 0
           },
           {
            "bin_start": 0.01508108139038086,
            "bin_end": 0.01523120403289795,
            "count": 0
           },
           {
            "bin_start": 0.01523120403289795,
            "bin_end": 0.01538132667541504,
            "count": 0
           },
           {
            "bin_start": 0.01538132667541504,
            "bin_end": 0.01553144931793213,
            "count": 0
           },
           {
            "bin_start": 0.01553144931793213,
            "bin_end": 0.01568157196044922,
            "count": 0
           },
           {
            "bin_start": 0.01568157196044922,
            "bin_end": 0.01583169460296631,
            "count": 0
           },
           {
            "bin_start": 0.01583169460296631,
            "bin_end": 0.0159818172454834,
            "count": 1
           }
          ]
         }
        },
        {
         "name": "std_fit_time",
         "dtype": "float64",
         "stats": {
          "unique_count": 3,
          "nan_count": 0,
          "min": "0.00019283692037938788",
          "max": "0.002583104073123124",
          "histogram": [
           {
            "bin_start": 0.00019283692037938788,
            "bin_end": 0.0004318636356537615,
            "count": 1
           },
           {
            "bin_start": 0.0004318636356537615,
            "bin_end": 0.0006708903509281351,
            "count": 1
           },
           {
            "bin_start": 0.0006708903509281351,
            "bin_end": 0.0009099170662025087,
            "count": 0
           },
           {
            "bin_start": 0.0009099170662025087,
            "bin_end": 0.0011489437814768823,
            "count": 0
           },
           {
            "bin_start": 0.0011489437814768823,
            "bin_end": 0.001387970496751256,
            "count": 0
           },
           {
            "bin_start": 0.001387970496751256,
            "bin_end": 0.0016269972120256295,
            "count": 0
           },
           {
            "bin_start": 0.0016269972120256295,
            "bin_end": 0.0018660239273000034,
            "count": 0
           },
           {
            "bin_start": 0.0018660239273000034,
            "bin_end": 0.0021050506425743768,
            "count": 0
           },
           {
            "bin_start": 0.0021050506425743768,
            "bin_end": 0.00234407735784875,
            "count": 0
           },
           {
            "bin_start": 0.00234407735784875,
            "bin_end": 0.002583104073123124,
            "count": 1
           }
          ]
         }
        },
        {
         "name": "mean_score_time",
         "dtype": "float64",
         "stats": {
          "unique_count": 3,
          "nan_count": 0,
          "min": "0.5789005279541015",
          "max": "0.7496879577636719",
          "histogram": [
           {
            "bin_start": 0.5789005279541015,
            "bin_end": 0.5959792709350585,
            "count": 1
           },
           {
            "bin_start": 0.5959792709350585,
            "bin_end": 0.6130580139160156,
            "count": 0
           },
           {
            "bin_start": 0.6130580139160156,
            "bin_end": 0.6301367568969727,
            "count": 0
           },
           {
            "bin_start": 0.6301367568969727,
            "bin_end": 0.6472154998779297,
            "count": 0
           },
           {
            "bin_start": 0.6472154998779297,
            "bin_end": 0.6642942428588867,
            "count": 0
           },
           {
            "bin_start": 0.6642942428588867,
            "bin_end": 0.6813729858398437,
            "count": 0
           },
           {
            "bin_start": 0.6813729858398437,
            "bin_end": 0.6984517288208008,
            "count": 0
           },
           {
            "bin_start": 0.6984517288208008,
            "bin_end": 0.7155304718017579,
            "count": 0
           },
           {
            "bin_start": 0.7155304718017579,
            "bin_end": 0.7326092147827149,
            "count": 0
           },
           {
            "bin_start": 0.7326092147827149,
            "bin_end": 0.7496879577636719,
            "count": 2
           }
          ]
         }
        },
        {
         "name": "std_score_time",
         "dtype": "float64",
         "stats": {
          "unique_count": 3,
          "nan_count": 0,
          "min": "0.012041317494306899",
          "max": "0.07436618596701465",
          "histogram": [
           {
            "bin_start": 0.012041317494306899,
            "bin_end": 0.018273804341577674,
            "count": 1
           },
           {
            "bin_start": 0.018273804341577674,
            "bin_end": 0.02450629118884845,
            "count": 0
           },
           {
            "bin_start": 0.02450629118884845,
            "bin_end": 0.03073877803611922,
            "count": 0
           },
           {
            "bin_start": 0.03073877803611922,
            "bin_end": 0.03697126488339,
            "count": 1
           },
           {
            "bin_start": 0.03697126488339,
            "bin_end": 0.043203751730660774,
            "count": 0
           },
           {
            "bin_start": 0.043203751730660774,
            "bin_end": 0.04943623857793154,
            "count": 0
           },
           {
            "bin_start": 0.04943623857793154,
            "bin_end": 0.05566872542520232,
            "count": 0
           },
           {
            "bin_start": 0.05566872542520232,
            "bin_end": 0.0619012122724731,
            "count": 0
           },
           {
            "bin_start": 0.0619012122724731,
            "bin_end": 0.06813369911974387,
            "count": 0
           },
           {
            "bin_start": 0.06813369911974387,
            "bin_end": 0.07436618596701465,
            "count": 1
           }
          ]
         }
        },
        {
         "name": "param_metric",
         "dtype": "object",
         "stats": {
          "unique_count": 2,
          "nan_count": 0,
          "categories": [
           {
            "name": "manhattan",
            "count": 2
           },
           {
            "name": "chebyshev",
            "count": 1
           }
          ]
         }
        },
        {
         "name": "param_n_neighbors",
         "dtype": "object",
         "stats": {
          "unique_count": 3,
          "nan_count": 0,
          "categories": [
           {
            "name": "3",
            "count": 1
           },
           {
            "name": "15",
            "count": 1
           },
           {
            "name": "50",
            "count": 1
           }
          ]
         }
        },
        {
         "name": "param_weights",
         "dtype": "object",
         "stats": {
          "unique_count": 2,
          "nan_count": 0,
          "categories": [
           {
            "name": "uniform",
            "count": 2
           },
           {
            "name": "distance",
            "count": 1
           }
          ]
         }
        },
        {
         "name": "params",
         "dtype": "object",
         "stats": {
          "unique_count": 3,
          "nan_count": 0,
          "categories": [
           {
            "name": "{'metric': 'chebyshev', 'n_neighbors': 3, 'weights': 'distance'}",
            "count": 1
           },
           {
            "name": "{'metric': 'manhattan', 'n_neighbors': 15, 'weights': 'uniform'}",
            "count": 1
           },
           {
            "name": "{'metric': 'manhattan', 'n_neighbors': 50, 'weights': 'uniform'}",
            "count": 1
           }
          ]
         }
        },
        {
         "name": "split0_test_score",
         "dtype": "float64",
         "stats": {
          "unique_count": 3,
          "nan_count": 0,
          "min": "0.6317668904442223",
          "max": "0.7103270961291244",
          "histogram": [
           {
            "bin_start": 0.6317668904442223,
            "bin_end": 0.6396229110127125,
            "count": 1
           },
           {
            "bin_start": 0.6396229110127125,
            "bin_end": 0.6474789315812027,
            "count": 0
           },
           {
            "bin_start": 0.6474789315812027,
            "bin_end": 0.655334952149693,
            "count": 0
           },
           {
            "bin_start": 0.655334952149693,
            "bin_end": 0.6631909727181832,
            "count": 0
           },
           {
            "bin_start": 0.6631909727181832,
            "bin_end": 0.6710469932866734,
            "count": 0
           },
           {
            "bin_start": 0.6710469932866734,
            "bin_end": 0.6789030138551635,
            "count": 0
           },
           {
            "bin_start": 0.6789030138551635,
            "bin_end": 0.6867590344236537,
            "count": 0
           },
           {
            "bin_start": 0.6867590344236537,
            "bin_end": 0.6946150549921439,
            "count": 0
           },
           {
            "bin_start": 0.6946150549921439,
            "bin_end": 0.7024710755606342,
            "count": 0
           },
           {
            "bin_start": 0.7024710755606342,
            "bin_end": 0.7103270961291244,
            "count": 2
           }
          ]
         }
        },
        {
         "name": "split1_test_score",
         "dtype": "float64",
         "stats": {
          "unique_count": 3,
          "nan_count": 0,
          "min": "0.6454285714285715",
          "max": "0.7107142857142857",
          "histogram": [
           {
            "bin_start": 0.6454285714285715,
            "bin_end": 0.6519571428571429,
            "count": 1
           },
           {
            "bin_start": 0.6519571428571429,
            "bin_end": 0.6584857142857143,
            "count": 0
           },
           {
            "bin_start": 0.6584857142857143,
            "bin_end": 0.6650142857142858,
            "count": 0
           },
           {
            "bin_start": 0.6650142857142858,
            "bin_end": 0.6715428571428572,
            "count": 0
           },
           {
            "bin_start": 0.6715428571428572,
            "bin_end": 0.6780714285714287,
            "count": 0
           },
           {
            "bin_start": 0.6780714285714287,
            "bin_end": 0.6846,
            "count": 0
           },
           {
            "bin_start": 0.6846,
            "bin_end": 0.6911285714285714,
            "count": 0
           },
           {
            "bin_start": 0.6911285714285714,
            "bin_end": 0.6976571428571429,
            "count": 0
           },
           {
            "bin_start": 0.6976571428571429,
            "bin_end": 0.7041857142857143,
            "count": 0
           },
           {
            "bin_start": 0.7041857142857143,
            "bin_end": 0.7107142857142857,
            "count": 2
           }
          ]
         }
        },
        {
         "name": "split2_test_score",
         "dtype": "float64",
         "stats": {
          "unique_count": 3,
          "nan_count": 0,
          "min": "0.664",
          "max": "0.7108571428571429",
          "histogram": [
           {
            "bin_start": 0.664,
            "bin_end": 0.6686857142857143,
            "count": 1
           },
           {
            "bin_start": 0.6686857142857143,
            "bin_end": 0.6733714285714286,
            "count": 0
           },
           {
            "bin_start": 0.6733714285714286,
            "bin_end": 0.6780571428571429,
            "count": 0
           },
           {
            "bin_start": 0.6780571428571429,
            "bin_end": 0.6827428571428572,
            "count": 0
           },
           {
            "bin_start": 0.6827428571428572,
            "bin_end": 0.6874285714285715,
            "count": 0
           },
           {
            "bin_start": 0.6874285714285715,
            "bin_end": 0.6921142857142857,
            "count": 0
           },
           {
            "bin_start": 0.6921142857142857,
            "bin_end": 0.6968,
            "count": 0
           },
           {
            "bin_start": 0.6968,
            "bin_end": 0.7014857142857143,
            "count": 0
           },
           {
            "bin_start": 0.7014857142857143,
            "bin_end": 0.7061714285714286,
            "count": 1
           },
           {
            "bin_start": 0.7061714285714286,
            "bin_end": 0.7108571428571429,
            "count": 1
           }
          ]
         }
        },
        {
         "name": "split3_test_score",
         "dtype": "float64",
         "stats": {
          "unique_count": 3,
          "nan_count": 0,
          "min": "0.6938571428571428",
          "max": "0.7107142857142857",
          "histogram": [
           {
            "bin_start": 0.6938571428571428,
            "bin_end": 0.6955428571428571,
            "count": 1
           },
           {
            "bin_start": 0.6955428571428571,
            "bin_end": 0.6972285714285714,
            "count": 0
           },
           {
            "bin_start": 0.6972285714285714,
            "bin_end": 0.6989142857142857,
            "count": 0
           },
           {
            "bin_start": 0.6989142857142857,
            "bin_end": 0.7006,
            "count": 0
           },
           {
            "bin_start": 0.7006,
            "bin_end": 0.7022857142857143,
            "count": 0
           },
           {
            "bin_start": 0.7022857142857143,
            "bin_end": 0.7039714285714286,
            "count": 0
           },
           {
            "bin_start": 0.7039714285714286,
            "bin_end": 0.7056571428571429,
            "count": 0
           },
           {
            "bin_start": 0.7056571428571429,
            "bin_end": 0.7073428571428572,
            "count": 1
           },
           {
            "bin_start": 0.7073428571428572,
            "bin_end": 0.7090285714285715,
            "count": 0
           },
           {
            "bin_start": 0.7090285714285715,
            "bin_end": 0.7107142857142857,
            "count": 1
           }
          ]
         }
        },
        {
         "name": "split4_test_score",
         "dtype": "float64",
         "stats": {
          "unique_count": 3,
          "nan_count": 0,
          "min": "0.6592857142857143",
          "max": "0.7105714285714285",
          "histogram": [
           {
            "bin_start": 0.6592857142857143,
            "bin_end": 0.6644142857142856,
            "count": 1
           },
           {
            "bin_start": 0.6644142857142856,
            "bin_end": 0.6695428571428571,
            "count": 0
           },
           {
            "bin_start": 0.6695428571428571,
            "bin_end": 0.6746714285714286,
            "count": 0
           },
           {
            "bin_start": 0.6746714285714286,
            "bin_end": 0.6798,
            "count": 0
           },
           {
            "bin_start": 0.6798,
            "bin_end": 0.6849285714285713,
            "count": 0
           },
           {
            "bin_start": 0.6849285714285713,
            "bin_end": 0.6900571428571428,
            "count": 0
           },
           {
            "bin_start": 0.6900571428571428,
            "bin_end": 0.6951857142857143,
            "count": 0
           },
           {
            "bin_start": 0.6951857142857143,
            "bin_end": 0.7003142857142857,
            "count": 0
           },
           {
            "bin_start": 0.7003142857142857,
            "bin_end": 0.705442857142857,
            "count": 0
           },
           {
            "bin_start": 0.705442857142857,
            "bin_end": 0.7105714285714285,
            "count": 2
           }
          ]
         }
        },
        {
         "name": "mean_test_score",
         "dtype": "float64",
         "stats": {
          "unique_count": 3,
          "nan_count": 0,
          "min": "0.6588676638031302",
          "max": "0.7106368477972534",
          "histogram": [
           {
            "bin_start": 0.6588676638031302,
            "bin_end": 0.6640445822025426,
            "count": 1
           },
           {
            "bin_start": 0.6640445822025426,
            "bin_end": 0.6692215006019548,
            "count": 0
           },
           {
            "bin_start": 0.6692215006019548,
            "bin_end": 0.6743984190013672,
            "count": 0
           },
           {
            "bin_start": 0.6743984190013672,
            "bin_end": 0.6795753374007795,
            "count": 0
           },
           {
            "bin_start": 0.6795753374007795,
            "bin_end": 0.6847522558001918,
            "count": 0
           },
           {
            "bin_start": 0.6847522558001918,
            "bin_end": 0.6899291741996042,
            "count": 0
           },
           {
            "bin_start": 0.6899291741996042,
            "bin_end": 0.6951060925990165,
            "count": 0
           },
           {
            "bin_start": 0.6951060925990165,
            "bin_end": 0.7002830109984288,
            "count": 0
           },
           {
            "bin_start": 0.7002830109984288,
            "bin_end": 0.7054599293978411,
            "count": 0
           },
           {
            "bin_start": 0.7054599293978411,
            "bin_end": 0.7106368477972534,
            "count": 2
           }
          ]
         }
        },
        {
         "name": "std_test_score",
         "dtype": "float64",
         "stats": {
          "unique_count": 3,
          "nan_count": 0,
          "min": "0.00017930362317396606",
          "max": "0.020812690388403388",
          "histogram": [
           {
            "bin_start": 0.00017930362317396606,
            "bin_end": 0.0022426422996969083,
            "count": 1
           },
           {
            "bin_start": 0.0022426422996969083,
            "bin_end": 0.004305980976219851,
            "count": 1
           },
           {
            "bin_start": 0.004305980976219851,
            "bin_end": 0.006369319652742793,
            "count": 0
           },
           {
            "bin_start": 0.006369319652742793,
            "bin_end": 0.008432658329265735,
            "count": 0
           },
           {
            "bin_start": 0.008432658329265735,
            "bin_end": 0.010495997005788679,
            "count": 0
           },
           {
            "bin_start": 0.010495997005788679,
            "bin_end": 0.01255933568231162,
            "count": 0
           },
           {
            "bin_start": 0.01255933568231162,
            "bin_end": 0.014622674358834561,
            "count": 0
           },
           {
            "bin_start": 0.014622674358834561,
            "bin_end": 0.016686013035357505,
            "count": 0
           },
           {
            "bin_start": 0.016686013035357505,
            "bin_end": 0.018749351711880448,
            "count": 0
           },
           {
            "bin_start": 0.018749351711880448,
            "bin_end": 0.020812690388403388,
            "count": 1
           }
          ]
         }
        },
        {
         "name": "rank_test_score",
         "dtype": "int32",
         "stats": {
          "unique_count": 3,
          "nan_count": 0,
          "min": "1",
          "max": "52",
          "histogram": [
           {
            "bin_start": 1,
            "bin_end": 6.1,
            "count": 1
           },
           {
            "bin_start": 6.1,
            "bin_end": 11.2,
            "count": 1
           },
           {
            "bin_start": 11.2,
            "bin_end": 16.299999999999997,
            "count": 0
           },
           {
            "bin_start": 16.299999999999997,
            "bin_end": 21.4,
            "count": 0
           },
           {
            "bin_start": 21.4,
            "bin_end": 26.5,
            "count": 0
           },
           {
            "bin_start": 26.5,
            "bin_end": 31.599999999999998,
            "count": 0
           },
           {
            "bin_start": 31.599999999999998,
            "bin_end": 36.699999999999996,
            "count": 0
           },
           {
            "bin_start": 36.699999999999996,
            "bin_end": 41.8,
            "count": 0
           },
           {
            "bin_start": 41.8,
            "bin_end": 46.9,
            "count": 0
           },
           {
            "bin_start": 46.9,
            "bin_end": 52,
            "count": 1
           }
          ]
         }
        },
        {
         "name": "_deepnote_index_column",
         "dtype": "int64"
        }
       ],
       "rows": [
        {
         "mean_fit_time": 0.0144805908203125,
         "std_fit_time": 0.00019283692037938788,
         "mean_score_time": 0.5789005279541015,
         "std_score_time": 0.012041317494306899,
         "param_metric": "chebyshev",
         "param_n_neighbors": "3",
         "param_weights": "distance",
         "params": "{'metric': 'chebyshev', 'n_neighbors': 3, 'weights': 'distance'}",
         "split0_test_score": 0.6317668904442223,
         "split1_test_score": 0.6454285714285715,
         "split2_test_score": 0.664,
         "split3_test_score": 0.6938571428571428,
         "split4_test_score": 0.6592857142857143,
         "mean_test_score": 0.6588676638031302,
         "std_test_score": 0.020812690388403388,
         "rank_test_score": 52,
         "_deepnote_index_column": 25
        },
        {
         "mean_fit_time": 0.0159818172454834,
         "std_fit_time": 0.002583104073123124,
         "mean_score_time": 0.7496879577636719,
         "std_score_time": 0.07436618596701465,
         "param_metric": "manhattan",
         "param_n_neighbors": "15",
         "param_weights": "uniform",
         "params": "{'metric': 'manhattan', 'n_neighbors': 15, 'weights': 'uniform'}",
         "split0_test_score": 0.7038994429367234,
         "split1_test_score": 0.7094285714285714,
         "split2_test_score": 0.7021428571428572,
         "split3_test_score": 0.706,
         "split4_test_score": 0.7087142857142857,
         "mean_test_score": 0.7060370314444875,
         "std_test_score": 0.0027714791479163964,
         "rank_test_score": 10,
         "_deepnote_index_column": 52
        },
        {
         "mean_fit_time": 0.014796113967895508,
         "std_fit_time": 0.00047389120841620947,
         "mean_score_time": 0.7486860752105713,
         "std_score_time": 0.03171094852756658,
         "param_metric": "manhattan",
         "param_n_neighbors": "50",
         "param_weights": "uniform",
         "params": "{'metric': 'manhattan', 'n_neighbors': 50, 'weights': 'uniform'}",
         "split0_test_score": 0.7103270961291244,
         "split1_test_score": 0.7107142857142857,
         "split2_test_score": 0.7108571428571429,
         "split3_test_score": 0.7107142857142857,
         "split4_test_score": 0.7105714285714285,
         "mean_test_score": 0.7106368477972534,
         "std_test_score": 0.00017930362317396606,
         "rank_test_score": 1,
         "_deepnote_index_column": 58
        }
       ]
      },
      "text/plain": "    mean_fit_time  std_fit_time  mean_score_time  std_score_time param_metric  \\\n25       0.014481      0.000193         0.578901        0.012041    chebyshev   \n52       0.015982      0.002583         0.749688        0.074366    manhattan   \n58       0.014796      0.000474         0.748686        0.031711    manhattan   \n\n   param_n_neighbors param_weights  \\\n25                 3      distance   \n52                15       uniform   \n58                50       uniform   \n\n                                               params  split0_test_score  \\\n25  {'metric': 'chebyshev', 'n_neighbors': 3, 'wei...           0.631767   \n52  {'metric': 'manhattan', 'n_neighbors': 15, 'we...           0.703899   \n58  {'metric': 'manhattan', 'n_neighbors': 50, 'we...           0.710327   \n\n    split1_test_score  split2_test_score  split3_test_score  \\\n25           0.645429           0.664000           0.693857   \n52           0.709429           0.702143           0.706000   \n58           0.710714           0.710857           0.710714   \n\n    split4_test_score  mean_test_score  std_test_score  rank_test_score  \n25           0.659286         0.658868        0.020813               52  \n52           0.708714         0.706037        0.002771               10  \n58           0.710571         0.710637        0.000179                1  ",
      "text/html": "<div>\n<style scoped>\n    .dataframe tbody tr th:only-of-type {\n        vertical-align: middle;\n    }\n\n    .dataframe tbody tr th {\n        vertical-align: top;\n    }\n\n    .dataframe thead th {\n        text-align: right;\n    }\n</style>\n<table border=\"1\" class=\"dataframe\">\n  <thead>\n    <tr style=\"text-align: right;\">\n      <th></th>\n      <th>mean_fit_time</th>\n      <th>std_fit_time</th>\n      <th>mean_score_time</th>\n      <th>std_score_time</th>\n      <th>param_metric</th>\n      <th>param_n_neighbors</th>\n      <th>param_weights</th>\n      <th>params</th>\n      <th>split0_test_score</th>\n      <th>split1_test_score</th>\n      <th>split2_test_score</th>\n      <th>split3_test_score</th>\n      <th>split4_test_score</th>\n      <th>mean_test_score</th>\n      <th>std_test_score</th>\n      <th>rank_test_score</th>\n    </tr>\n  </thead>\n  <tbody>\n    <tr>\n      <th>25</th>\n      <td>0.014481</td>\n      <td>0.000193</td>\n      <td>0.578901</td>\n      <td>0.012041</td>\n      <td>chebyshev</td>\n      <td>3</td>\n      <td>distance</td>\n      <td>{'metric': 'chebyshev', 'n_neighbors': 3, 'wei...</td>\n      <td>0.631767</td>\n      <td>0.645429</td>\n      <td>0.664000</td>\n      <td>0.693857</td>\n      <td>0.659286</td>\n      <td>0.658868</td>\n      <td>0.020813</td>\n      <td>52</td>\n    </tr>\n    <tr>\n      <th>52</th>\n      <td>0.015982</td>\n      <td>0.002583</td>\n      <td>0.749688</td>\n      <td>0.074366</td>\n      <td>manhattan</td>\n      <td>15</td>\n      <td>uniform</td>\n      <td>{'metric': 'manhattan', 'n_neighbors': 15, 'we...</td>\n      <td>0.703899</td>\n      <td>0.709429</td>\n      <td>0.702143</td>\n      <td>0.706000</td>\n      <td>0.708714</td>\n      <td>0.706037</td>\n      <td>0.002771</td>\n      <td>10</td>\n    </tr>\n    <tr>\n      <th>58</th>\n      <td>0.014796</td>\n      <td>0.000474</td>\n      <td>0.748686</td>\n      <td>0.031711</td>\n      <td>manhattan</td>\n      <td>50</td>\n      <td>uniform</td>\n      <td>{'metric': 'manhattan', 'n_neighbors': 50, 'we...</td>\n      <td>0.710327</td>\n      <td>0.710714</td>\n      <td>0.710857</td>\n      <td>0.710714</td>\n      <td>0.710571</td>\n      <td>0.710637</td>\n      <td>0.000179</td>\n      <td>1</td>\n    </tr>\n  </tbody>\n</table>\n</div>"
     },
     "metadata": {}
    }
   ],
   "execution_count": null
  },
  {
   "cell_type": "markdown",
   "source": "Según el resultado el modelo con mejor resultado es: distancia Manhattan, k = 50, pesos uniformes.",
   "metadata": {
    "cell_id": "89c32cb4aa8d43be9032097b4185f730",
    "tags": [],
    "is_collapsed": false,
    "formattedRanges": [],
    "deepnote_cell_type": "text-cell-p"
   }
  },
  {
   "cell_type": "code",
   "source": "from sklearn.neighbors import KNeighborsClassifier\n\nknn = KNeighborsClassifier(n_neighbors=50, weights='uniform', metric='manhattan')\n\nknn.fit(X, y)",
   "metadata": {
    "cell_id": "f57f8b555ff94d929daec3c1de8fe440",
    "tags": [],
    "deepnote_to_be_reexecuted": false,
    "source_hash": "90c6895d",
    "execution_start": 1658369521302,
    "execution_millis": 675,
    "deepnote_cell_type": "code",
    "deepnote_cell_height": 229.34375,
    "deepnote_output_heights": [
     60.34375
    ]
   },
   "outputs": [
    {
     "output_type": "execute_result",
     "execution_count": 34,
     "data": {
      "text/plain": "KNeighborsClassifier(metric='manhattan', n_neighbors=50)",
      "text/html": "<style>#sk-container-id-3 {color: black;background-color: white;}#sk-container-id-3 pre{padding: 0;}#sk-container-id-3 div.sk-toggleable {background-color: white;}#sk-container-id-3 label.sk-toggleable__label {cursor: pointer;display: block;width: 100%;margin-bottom: 0;padding: 0.3em;box-sizing: border-box;text-align: center;}#sk-container-id-3 label.sk-toggleable__label-arrow:before {content: \"▸\";float: left;margin-right: 0.25em;color: #696969;}#sk-container-id-3 label.sk-toggleable__label-arrow:hover:before {color: black;}#sk-container-id-3 div.sk-estimator:hover label.sk-toggleable__label-arrow:before {color: black;}#sk-container-id-3 div.sk-toggleable__content {max-height: 0;max-width: 0;overflow: hidden;text-align: left;background-color: #f0f8ff;}#sk-container-id-3 div.sk-toggleable__content pre {margin: 0.2em;color: black;border-radius: 0.25em;background-color: #f0f8ff;}#sk-container-id-3 input.sk-toggleable__control:checked~div.sk-toggleable__content {max-height: 200px;max-width: 100%;overflow: auto;}#sk-container-id-3 input.sk-toggleable__control:checked~label.sk-toggleable__label-arrow:before {content: \"▾\";}#sk-container-id-3 div.sk-estimator input.sk-toggleable__control:checked~label.sk-toggleable__label {background-color: #d4ebff;}#sk-container-id-3 div.sk-label input.sk-toggleable__control:checked~label.sk-toggleable__label {background-color: #d4ebff;}#sk-container-id-3 input.sk-hidden--visually {border: 0;clip: rect(1px 1px 1px 1px);clip: rect(1px, 1px, 1px, 1px);height: 1px;margin: -1px;overflow: hidden;padding: 0;position: absolute;width: 1px;}#sk-container-id-3 div.sk-estimator {font-family: monospace;background-color: #f0f8ff;border: 1px dotted black;border-radius: 0.25em;box-sizing: border-box;margin-bottom: 0.5em;}#sk-container-id-3 div.sk-estimator:hover {background-color: #d4ebff;}#sk-container-id-3 div.sk-parallel-item::after {content: \"\";width: 100%;border-bottom: 1px solid gray;flex-grow: 1;}#sk-container-id-3 div.sk-label:hover label.sk-toggleable__label {background-color: #d4ebff;}#sk-container-id-3 div.sk-serial::before {content: \"\";position: absolute;border-left: 1px solid gray;box-sizing: border-box;top: 0;bottom: 0;left: 50%;z-index: 0;}#sk-container-id-3 div.sk-serial {display: flex;flex-direction: column;align-items: center;background-color: white;padding-right: 0.2em;padding-left: 0.2em;position: relative;}#sk-container-id-3 div.sk-item {position: relative;z-index: 1;}#sk-container-id-3 div.sk-parallel {display: flex;align-items: stretch;justify-content: center;background-color: white;position: relative;}#sk-container-id-3 div.sk-item::before, #sk-container-id-3 div.sk-parallel-item::before {content: \"\";position: absolute;border-left: 1px solid gray;box-sizing: border-box;top: 0;bottom: 0;left: 50%;z-index: -1;}#sk-container-id-3 div.sk-parallel-item {display: flex;flex-direction: column;z-index: 1;position: relative;background-color: white;}#sk-container-id-3 div.sk-parallel-item:first-child::after {align-self: flex-end;width: 50%;}#sk-container-id-3 div.sk-parallel-item:last-child::after {align-self: flex-start;width: 50%;}#sk-container-id-3 div.sk-parallel-item:only-child::after {width: 0;}#sk-container-id-3 div.sk-dashed-wrapped {border: 1px dashed gray;margin: 0 0.4em 0.5em 0.4em;box-sizing: border-box;padding-bottom: 0.4em;background-color: white;}#sk-container-id-3 div.sk-label label {font-family: monospace;font-weight: bold;display: inline-block;line-height: 1.2em;}#sk-container-id-3 div.sk-label-container {text-align: center;}#sk-container-id-3 div.sk-container {/* jupyter's `normalize.less` sets `[hidden] { display: none; }` but bootstrap.min.css set `[hidden] { display: none !important; }` so we also need the `!important` here to be able to override the default hidden behavior on the sphinx rendered scikit-learn.org. See: https://github.com/scikit-learn/scikit-learn/issues/21755 */display: inline-block !important;position: relative;}#sk-container-id-3 div.sk-text-repr-fallback {display: none;}</style><div id=\"sk-container-id-3\" class=\"sk-top-container\"><div class=\"sk-text-repr-fallback\"><pre>KNeighborsClassifier(metric=&#x27;manhattan&#x27;, n_neighbors=50)</pre><b>In a Jupyter environment, please rerun this cell to show the HTML representation or trust the notebook. <br />On GitHub, the HTML representation is unable to render, please try loading this page with nbviewer.org.</b></div><div class=\"sk-container\" hidden><div class=\"sk-item\"><div class=\"sk-estimator sk-toggleable\"><input class=\"sk-toggleable__control sk-hidden--visually\" id=\"sk-estimator-id-3\" type=\"checkbox\" checked><label for=\"sk-estimator-id-3\" class=\"sk-toggleable__label sk-toggleable__label-arrow\">KNeighborsClassifier</label><div class=\"sk-toggleable__content\"><pre>KNeighborsClassifier(metric=&#x27;manhattan&#x27;, n_neighbors=50)</pre></div></div></div></div></div>"
     },
     "metadata": {}
    }
   ],
   "execution_count": null
  },
  {
   "cell_type": "code",
   "source": "y_train_pred = knn.predict(X_train) #Prediccion en Train\ny_test_pred = knn.predict(X_test) #Prediccion en Test",
   "metadata": {
    "cell_id": "e5cd79101ca2435cab3220b31266dd5a",
    "tags": [],
    "deepnote_to_be_reexecuted": false,
    "source_hash": "b8ece810",
    "execution_start": 1658369521342,
    "execution_millis": 9060,
    "deepnote_cell_type": "code",
    "deepnote_cell_height": 99
   },
   "outputs": [],
   "execution_count": null
  },
  {
   "cell_type": "code",
   "source": "#Calculo el accuracy en Train\ntrain_accuracy = accuracy_score(y_train, y_train_pred)\n\n#Calculo el accuracy en Test\ntest_accuracy = accuracy_score(y_test, y_test_pred)\n\nprint(f'% de aciertos sobre el set de entrenamiento: {train_accuracy:2.2%}')\nprint(f'% de aciertos sobre el set de evaluación: {test_accuracy:2.2%}')",
   "metadata": {
    "cell_id": "ca41435e74e241939e7a89aa690cb04f",
    "tags": [],
    "deepnote_to_be_reexecuted": false,
    "source_hash": "175f5ac4",
    "execution_start": 1658369530405,
    "execution_millis": 137,
    "deepnote_cell_type": "code",
    "deepnote_cell_height": 258.375
   },
   "outputs": [
    {
     "name": "stdout",
     "text": "% de aciertos sobre el set de entrenamiento: 71.09%\n% de aciertos sobre el set de evaluación: 69.82%\n",
     "output_type": "stream"
    }
   ],
   "execution_count": null
  },
  {
   "cell_type": "markdown",
   "source": "Podemos constatar que el modelo mejora con respecto al primero que corrimos, pero no es una mejora sustancial.",
   "metadata": {
    "cell_id": "0ed16c82ba774199bb5f57096b216a7d",
    "tags": [],
    "is_collapsed": false,
    "formattedRanges": [],
    "deepnote_cell_type": "text-cell-p"
   }
  },
  {
   "cell_type": "markdown",
   "source": "### RANDOM FOREST",
   "metadata": {
    "id": "pmeTbcZ4LZJs",
    "cell_id": "00036-ac3e5951-401a-4523-bc70-330e49df98b9",
    "deepnote_cell_type": "markdown",
    "deepnote_cell_height": 62
   }
  },
  {
   "cell_type": "code",
   "metadata": {
    "deepnote_to_be_reexecuted": false,
    "executionInfo": {
     "elapsed": 30,
     "status": "ok",
     "timestamp": 1657946542689,
     "user": {
      "displayName": "William Wallace",
      "userId": "02462327362597608294"
     },
     "user_tz": 180
    },
    "id": "An-Yld_aLNcK",
    "source_hash": "9f37708d",
    "cell_id": "00037-9c45bd24-982f-4b43-9d54-5f591899d7f2",
    "execution_start": 1658369530416,
    "execution_millis": 40,
    "deepnote_cell_type": "code",
    "deepnote_cell_height": 171
   },
   "source": "#Carga de las librerías\nimport urllib.request\nimport pandas as pd\nfrom sklearn.model_selection import train_test_split\nfrom sklearn.ensemble import RandomForestClassifier\nfrom sklearn.tree import DecisionTreeClassifier",
   "outputs": [],
   "execution_count": null
  },
  {
   "cell_type": "code",
   "metadata": {
    "colab": {
     "base_uri": "https://localhost:8080/"
    },
    "deepnote_to_be_reexecuted": false,
    "executionInfo": {
     "elapsed": 2839,
     "status": "ok",
     "timestamp": 1657946545501,
     "user": {
      "displayName": "William Wallace",
      "userId": "02462327362597608294"
     },
     "user_tz": 180
    },
    "id": "yeuncTMKLhPN",
    "outputId": "68c8ebbb-7ad5-48d0-e084-3ee3bd452a6e",
    "source_hash": "8fd8f20c",
    "cell_id": "00038-ac5c0059-8a2c-41d8-bf23-2f4ae3bf75c3",
    "execution_start": 1658369530459,
    "execution_millis": 1876,
    "deepnote_cell_type": "code",
    "deepnote_cell_height": 230.53125,
    "deepnote_output_heights": [
     79.53125
    ]
   },
   "source": "#Creamos un random forest!\nmodel = RandomForestClassifier(random_state=11, n_estimators=200,\n                               class_weight=\"balanced\", max_features=\"sqrt\")\nmodel.fit(X_train, y_train)",
   "outputs": [
    {
     "output_type": "execute_result",
     "execution_count": 38,
     "data": {
      "text/plain": "RandomForestClassifier(class_weight='balanced', n_estimators=200,\n                       random_state=11)",
      "text/html": "<style>#sk-container-id-4 {color: black;background-color: white;}#sk-container-id-4 pre{padding: 0;}#sk-container-id-4 div.sk-toggleable {background-color: white;}#sk-container-id-4 label.sk-toggleable__label {cursor: pointer;display: block;width: 100%;margin-bottom: 0;padding: 0.3em;box-sizing: border-box;text-align: center;}#sk-container-id-4 label.sk-toggleable__label-arrow:before {content: \"▸\";float: left;margin-right: 0.25em;color: #696969;}#sk-container-id-4 label.sk-toggleable__label-arrow:hover:before {color: black;}#sk-container-id-4 div.sk-estimator:hover label.sk-toggleable__label-arrow:before {color: black;}#sk-container-id-4 div.sk-toggleable__content {max-height: 0;max-width: 0;overflow: hidden;text-align: left;background-color: #f0f8ff;}#sk-container-id-4 div.sk-toggleable__content pre {margin: 0.2em;color: black;border-radius: 0.25em;background-color: #f0f8ff;}#sk-container-id-4 input.sk-toggleable__control:checked~div.sk-toggleable__content {max-height: 200px;max-width: 100%;overflow: auto;}#sk-container-id-4 input.sk-toggleable__control:checked~label.sk-toggleable__label-arrow:before {content: \"▾\";}#sk-container-id-4 div.sk-estimator input.sk-toggleable__control:checked~label.sk-toggleable__label {background-color: #d4ebff;}#sk-container-id-4 div.sk-label input.sk-toggleable__control:checked~label.sk-toggleable__label {background-color: #d4ebff;}#sk-container-id-4 input.sk-hidden--visually {border: 0;clip: rect(1px 1px 1px 1px);clip: rect(1px, 1px, 1px, 1px);height: 1px;margin: -1px;overflow: hidden;padding: 0;position: absolute;width: 1px;}#sk-container-id-4 div.sk-estimator {font-family: monospace;background-color: #f0f8ff;border: 1px dotted black;border-radius: 0.25em;box-sizing: border-box;margin-bottom: 0.5em;}#sk-container-id-4 div.sk-estimator:hover {background-color: #d4ebff;}#sk-container-id-4 div.sk-parallel-item::after {content: \"\";width: 100%;border-bottom: 1px solid gray;flex-grow: 1;}#sk-container-id-4 div.sk-label:hover label.sk-toggleable__label {background-color: #d4ebff;}#sk-container-id-4 div.sk-serial::before {content: \"\";position: absolute;border-left: 1px solid gray;box-sizing: border-box;top: 0;bottom: 0;left: 50%;z-index: 0;}#sk-container-id-4 div.sk-serial {display: flex;flex-direction: column;align-items: center;background-color: white;padding-right: 0.2em;padding-left: 0.2em;position: relative;}#sk-container-id-4 div.sk-item {position: relative;z-index: 1;}#sk-container-id-4 div.sk-parallel {display: flex;align-items: stretch;justify-content: center;background-color: white;position: relative;}#sk-container-id-4 div.sk-item::before, #sk-container-id-4 div.sk-parallel-item::before {content: \"\";position: absolute;border-left: 1px solid gray;box-sizing: border-box;top: 0;bottom: 0;left: 50%;z-index: -1;}#sk-container-id-4 div.sk-parallel-item {display: flex;flex-direction: column;z-index: 1;position: relative;background-color: white;}#sk-container-id-4 div.sk-parallel-item:first-child::after {align-self: flex-end;width: 50%;}#sk-container-id-4 div.sk-parallel-item:last-child::after {align-self: flex-start;width: 50%;}#sk-container-id-4 div.sk-parallel-item:only-child::after {width: 0;}#sk-container-id-4 div.sk-dashed-wrapped {border: 1px dashed gray;margin: 0 0.4em 0.5em 0.4em;box-sizing: border-box;padding-bottom: 0.4em;background-color: white;}#sk-container-id-4 div.sk-label label {font-family: monospace;font-weight: bold;display: inline-block;line-height: 1.2em;}#sk-container-id-4 div.sk-label-container {text-align: center;}#sk-container-id-4 div.sk-container {/* jupyter's `normalize.less` sets `[hidden] { display: none; }` but bootstrap.min.css set `[hidden] { display: none !important; }` so we also need the `!important` here to be able to override the default hidden behavior on the sphinx rendered scikit-learn.org. See: https://github.com/scikit-learn/scikit-learn/issues/21755 */display: inline-block !important;position: relative;}#sk-container-id-4 div.sk-text-repr-fallback {display: none;}</style><div id=\"sk-container-id-4\" class=\"sk-top-container\"><div class=\"sk-text-repr-fallback\"><pre>RandomForestClassifier(class_weight=&#x27;balanced&#x27;, n_estimators=200,\n                       random_state=11)</pre><b>In a Jupyter environment, please rerun this cell to show the HTML representation or trust the notebook. <br />On GitHub, the HTML representation is unable to render, please try loading this page with nbviewer.org.</b></div><div class=\"sk-container\" hidden><div class=\"sk-item\"><div class=\"sk-estimator sk-toggleable\"><input class=\"sk-toggleable__control sk-hidden--visually\" id=\"sk-estimator-id-4\" type=\"checkbox\" checked><label for=\"sk-estimator-id-4\" class=\"sk-toggleable__label sk-toggleable__label-arrow\">RandomForestClassifier</label><div class=\"sk-toggleable__content\"><pre>RandomForestClassifier(class_weight=&#x27;balanced&#x27;, n_estimators=200,\n                       random_state=11)</pre></div></div></div></div></div>"
     },
     "metadata": {}
    }
   ],
   "execution_count": null
  },
  {
   "cell_type": "code",
   "metadata": {
    "deepnote_to_be_reexecuted": false,
    "executionInfo": {
     "elapsed": 2317,
     "status": "ok",
     "timestamp": 1657946547805,
     "user": {
      "displayName": "William Wallace",
      "userId": "02462327362597608294"
     },
     "user_tz": 180
    },
    "id": "4ld97UaeLtYM",
    "source_hash": "43cafc5a",
    "cell_id": "00039-66a64482-57a7-4705-a542-1031117f1175",
    "execution_start": 1658369532334,
    "execution_millis": 943,
    "deepnote_cell_type": "code",
    "deepnote_cell_height": 99
   },
   "source": "y_train_pred = model.predict(X_train) #Prediccion en Train\ny_test_pred = model.predict(X_test) #Prediccion en Test",
   "outputs": [],
   "execution_count": null
  },
  {
   "cell_type": "code",
   "metadata": {
    "colab": {
     "base_uri": "https://localhost:8080/"
    },
    "deepnote_to_be_reexecuted": false,
    "executionInfo": {
     "elapsed": 9,
     "status": "ok",
     "timestamp": 1657946547806,
     "user": {
      "displayName": "William Wallace",
      "userId": "02462327362597608294"
     },
     "user_tz": 180
    },
    "id": "Qxh7ZFSCLw_t",
    "outputId": "650f4a44-5abc-4416-f20f-18a105408a17",
    "source_hash": "c7c6dbc6",
    "cell_id": "00040-9927de01-181d-4b92-91a7-1444631269b4",
    "execution_start": 1658369533284,
    "execution_millis": 168,
    "deepnote_cell_type": "code",
    "deepnote_cell_height": 294.375
   },
   "source": "from sklearn.metrics import accuracy_score\n\n#Calculo el accuracy en Train\ntrain_accuracy = accuracy_score(y_train, y_train_pred)\n\n#Calculo el accuracy en Test\ntest_accuracy = accuracy_score(y_test, y_test_pred)\n\nprint(f'% de aciertos sobre el set de entrenamiento: {train_accuracy:2.2%}')\nprint(f'% de aciertos sobre el set de evaluación: {test_accuracy:2.2%}')",
   "outputs": [
    {
     "name": "stdout",
     "text": "% de aciertos sobre el set de entrenamiento: 56.51%\n% de aciertos sobre el set de evaluación: 50.76%\n",
     "output_type": "stream"
    }
   ],
   "execution_count": null
  },
  {
   "cell_type": "markdown",
   "source": "Una precisión del 56,51% de aciertos en el conjunto de entrenamiento y una precisión del 50,76% de aciertos en el conjunto de prueba indican un sobreajuste.",
   "metadata": {
    "cell_id": "ca9b60d1d80945848c4bdbe8620663b5",
    "tags": [],
    "deepnote_cell_type": "markdown",
    "deepnote_cell_height": 74.78125
   }
  },
  {
   "cell_type": "markdown",
   "source": "## REGRESION LOGISTICA",
   "metadata": {
    "id": "LUtWFhSBHTIK",
    "cell_id": "00041-12f82f5b-0e97-43c1-88fa-0f1e2eed300a",
    "deepnote_cell_type": "markdown",
    "deepnote_cell_height": 70
   }
  },
  {
   "cell_type": "code",
   "metadata": {
    "colab": {
     "base_uri": "https://localhost:8080/"
    },
    "deepnote_to_be_reexecuted": false,
    "executionInfo": {
     "elapsed": 1928,
     "status": "ok",
     "timestamp": 1657946549727,
     "user": {
      "displayName": "William Wallace",
      "userId": "02462327362597608294"
     },
     "user_tz": 180
    },
    "id": "KSRxR-NoLy4H",
    "outputId": "f712d0e1-fde3-402b-cb71-8b2eb038f46a",
    "source_hash": "928a8e6b",
    "cell_id": "00042-480bfadd-68ae-4ee4-869d-a5d7092e63f2",
    "execution_start": 1658369533296,
    "execution_millis": 249,
    "deepnote_cell_type": "code",
    "deepnote_cell_height": 319.34375,
    "deepnote_output_heights": [
     60.34375
    ]
   },
   "source": "#Entrenamos un modelo de regresión logística\n\n# Paso 3: importamos la clase LogisticRegresion de scikit-learn\nfrom sklearn.linear_model import LogisticRegression\n\n# Paso 4: Creamos una instancia de la Regresión Logística\nregresion_logistica = LogisticRegression()\n\n# Paso 5: Entrenamos la regresión logística con los datos de entrenamiento\nregresion_logistica.fit(X,y)",
   "outputs": [
    {
     "output_type": "execute_result",
     "execution_count": 41,
     "data": {
      "text/plain": "LogisticRegression()",
      "text/html": "<style>#sk-container-id-5 {color: black;background-color: white;}#sk-container-id-5 pre{padding: 0;}#sk-container-id-5 div.sk-toggleable {background-color: white;}#sk-container-id-5 label.sk-toggleable__label {cursor: pointer;display: block;width: 100%;margin-bottom: 0;padding: 0.3em;box-sizing: border-box;text-align: center;}#sk-container-id-5 label.sk-toggleable__label-arrow:before {content: \"▸\";float: left;margin-right: 0.25em;color: #696969;}#sk-container-id-5 label.sk-toggleable__label-arrow:hover:before {color: black;}#sk-container-id-5 div.sk-estimator:hover label.sk-toggleable__label-arrow:before {color: black;}#sk-container-id-5 div.sk-toggleable__content {max-height: 0;max-width: 0;overflow: hidden;text-align: left;background-color: #f0f8ff;}#sk-container-id-5 div.sk-toggleable__content pre {margin: 0.2em;color: black;border-radius: 0.25em;background-color: #f0f8ff;}#sk-container-id-5 input.sk-toggleable__control:checked~div.sk-toggleable__content {max-height: 200px;max-width: 100%;overflow: auto;}#sk-container-id-5 input.sk-toggleable__control:checked~label.sk-toggleable__label-arrow:before {content: \"▾\";}#sk-container-id-5 div.sk-estimator input.sk-toggleable__control:checked~label.sk-toggleable__label {background-color: #d4ebff;}#sk-container-id-5 div.sk-label input.sk-toggleable__control:checked~label.sk-toggleable__label {background-color: #d4ebff;}#sk-container-id-5 input.sk-hidden--visually {border: 0;clip: rect(1px 1px 1px 1px);clip: rect(1px, 1px, 1px, 1px);height: 1px;margin: -1px;overflow: hidden;padding: 0;position: absolute;width: 1px;}#sk-container-id-5 div.sk-estimator {font-family: monospace;background-color: #f0f8ff;border: 1px dotted black;border-radius: 0.25em;box-sizing: border-box;margin-bottom: 0.5em;}#sk-container-id-5 div.sk-estimator:hover {background-color: #d4ebff;}#sk-container-id-5 div.sk-parallel-item::after {content: \"\";width: 100%;border-bottom: 1px solid gray;flex-grow: 1;}#sk-container-id-5 div.sk-label:hover label.sk-toggleable__label {background-color: #d4ebff;}#sk-container-id-5 div.sk-serial::before {content: \"\";position: absolute;border-left: 1px solid gray;box-sizing: border-box;top: 0;bottom: 0;left: 50%;z-index: 0;}#sk-container-id-5 div.sk-serial {display: flex;flex-direction: column;align-items: center;background-color: white;padding-right: 0.2em;padding-left: 0.2em;position: relative;}#sk-container-id-5 div.sk-item {position: relative;z-index: 1;}#sk-container-id-5 div.sk-parallel {display: flex;align-items: stretch;justify-content: center;background-color: white;position: relative;}#sk-container-id-5 div.sk-item::before, #sk-container-id-5 div.sk-parallel-item::before {content: \"\";position: absolute;border-left: 1px solid gray;box-sizing: border-box;top: 0;bottom: 0;left: 50%;z-index: -1;}#sk-container-id-5 div.sk-parallel-item {display: flex;flex-direction: column;z-index: 1;position: relative;background-color: white;}#sk-container-id-5 div.sk-parallel-item:first-child::after {align-self: flex-end;width: 50%;}#sk-container-id-5 div.sk-parallel-item:last-child::after {align-self: flex-start;width: 50%;}#sk-container-id-5 div.sk-parallel-item:only-child::after {width: 0;}#sk-container-id-5 div.sk-dashed-wrapped {border: 1px dashed gray;margin: 0 0.4em 0.5em 0.4em;box-sizing: border-box;padding-bottom: 0.4em;background-color: white;}#sk-container-id-5 div.sk-label label {font-family: monospace;font-weight: bold;display: inline-block;line-height: 1.2em;}#sk-container-id-5 div.sk-label-container {text-align: center;}#sk-container-id-5 div.sk-container {/* jupyter's `normalize.less` sets `[hidden] { display: none; }` but bootstrap.min.css set `[hidden] { display: none !important; }` so we also need the `!important` here to be able to override the default hidden behavior on the sphinx rendered scikit-learn.org. See: https://github.com/scikit-learn/scikit-learn/issues/21755 */display: inline-block !important;position: relative;}#sk-container-id-5 div.sk-text-repr-fallback {display: none;}</style><div id=\"sk-container-id-5\" class=\"sk-top-container\"><div class=\"sk-text-repr-fallback\"><pre>LogisticRegression()</pre><b>In a Jupyter environment, please rerun this cell to show the HTML representation or trust the notebook. <br />On GitHub, the HTML representation is unable to render, please try loading this page with nbviewer.org.</b></div><div class=\"sk-container\" hidden><div class=\"sk-item\"><div class=\"sk-estimator sk-toggleable\"><input class=\"sk-toggleable__control sk-hidden--visually\" id=\"sk-estimator-id-5\" type=\"checkbox\" checked><label for=\"sk-estimator-id-5\" class=\"sk-toggleable__label sk-toggleable__label-arrow\">LogisticRegression</label><div class=\"sk-toggleable__content\"><pre>LogisticRegression()</pre></div></div></div></div></div>"
     },
     "metadata": {}
    }
   ],
   "execution_count": null
  },
  {
   "cell_type": "code",
   "metadata": {
    "deepnote_to_be_reexecuted": false,
    "executionInfo": {
     "elapsed": 21,
     "status": "ok",
     "timestamp": 1657946549728,
     "user": {
      "displayName": "William Wallace",
      "userId": "02462327362597608294"
     },
     "user_tz": 180
    },
    "id": "1i-h0wQlHYAW",
    "source_hash": "c77276ae",
    "cell_id": "00043-c7f17538-d62a-4cd0-a7ab-aa68e803631c",
    "execution_start": 1658369533552,
    "execution_millis": 8,
    "deepnote_cell_type": "code",
    "deepnote_cell_height": 99
   },
   "source": "y_train_pred = regresion_logistica.predict(X_train) #Prediccion en Train\ny_test_pred = regresion_logistica.predict(X_test) #Prediccion en Test",
   "outputs": [],
   "execution_count": null
  },
  {
   "cell_type": "code",
   "metadata": {
    "colab": {
     "base_uri": "https://localhost:8080/"
    },
    "deepnote_to_be_reexecuted": false,
    "executionInfo": {
     "elapsed": 20,
     "status": "ok",
     "timestamp": 1657946549729,
     "user": {
      "displayName": "William Wallace",
      "userId": "02462327362597608294"
     },
     "user_tz": 180
    },
    "id": "LPIHworpHkeH",
    "outputId": "858e6c16-f78e-4065-a6bc-1b79e82ce3bf",
    "source_hash": "c7c6dbc6",
    "cell_id": "00044-5eb23edb-77d0-4aa6-bcc8-74009ce92733",
    "execution_start": 1658369533571,
    "execution_millis": 14,
    "deepnote_cell_type": "code",
    "deepnote_cell_height": 294.375
   },
   "source": "from sklearn.metrics import accuracy_score\n\n#Calculo el accuracy en Train\ntrain_accuracy = accuracy_score(y_train, y_train_pred)\n\n#Calculo el accuracy en Test\ntest_accuracy = accuracy_score(y_test, y_test_pred)\n\nprint(f'% de aciertos sobre el set de entrenamiento: {train_accuracy:2.2%}')\nprint(f'% de aciertos sobre el set de evaluación: {test_accuracy:2.2%}')",
   "outputs": [
    {
     "name": "stdout",
     "text": "% de aciertos sobre el set de entrenamiento: 71.09%\n% de aciertos sobre el set de evaluación: 69.78%\n",
     "output_type": "stream"
    }
   ],
   "execution_count": null
  },
  {
   "cell_type": "markdown",
   "source": "Una precisión del 71,09% de aciertos en el conjunto de entrenamiento y una precisión del 69,78%de aciertos en el conjunto de prueba indican un sobreajuste.",
   "metadata": {
    "cell_id": "da46aed9cc954f94884753c88abd42b1",
    "tags": [],
    "owner_user_id": "bdbe01f0-48e5-4b84-9a39-45c52a4babe1",
    "deepnote_cell_type": "markdown",
    "deepnote_cell_height": 74.78125
   }
  },
  {
   "cell_type": "markdown",
   "source": "### Conclusiones preliminares:",
   "metadata": {
    "cell_id": "b49e212881414ae2abda68c3dac91d4e",
    "tags": [],
    "is_collapsed": false,
    "formattedRanges": [],
    "owner_user_id": "6f2b7ad9-6002-4f3d-af75-a640c6e4a028",
    "deepnote_cell_type": "text-cell-h3"
   }
  },
  {
   "cell_type": "markdown",
   "source": "Todos los modelos tienen resultados muy parecidos entre 69% y 70% de accuracy, el único que queda por fuera de esos valores es el arbol de decisión, con un rendimiento menor.",
   "metadata": {
    "cell_id": "bcd1a7bb825c4f74a5bce4d5fa850a11",
    "tags": [],
    "is_collapsed": false,
    "formattedRanges": [],
    "deepnote_cell_type": "text-cell-p"
   }
  },
  {
   "cell_type": "markdown",
   "source": "Entendemos que los algoritmos llegan a un techo de 70% de accuracy si no disponen de los datos semánticos de los textos. Solo hemos usado los likes, retweets y respuestas. El paso de tokenización lo daremos en el próximo análisis y con eso esperamos subir el rendimiento de los modelos.",
   "metadata": {
    "cell_id": "345bbb092dfd4bda9463f8bbf09f0f28",
    "tags": [],
    "is_collapsed": false,
    "formattedRanges": [],
    "deepnote_cell_type": "text-cell-p"
   }
  },
  {
   "cell_type": "markdown",
   "source": "",
   "metadata": {
    "cell_id": "4e14409bf59940558f242d9e5c19f5c7",
    "tags": [],
    "is_collapsed": false,
    "formattedRanges": [],
    "deepnote_cell_type": "text-cell-p"
   }
  },
  {
   "cell_type": "markdown",
   "source": "",
   "metadata": {
    "cell_id": "4140cd9afa304de4ace3cd678d953bff",
    "tags": [],
    "is_collapsed": false,
    "formattedRanges": [],
    "deepnote_cell_type": "text-cell-p"
   }
  },
  {
   "cell_type": "markdown",
   "source": "<a style='text-decoration:none;line-height:16px;display:flex;color:#5B5B62;padding:10px;justify-content:end;' href='https://deepnote.com?utm_source=created-in-deepnote-cell&projectId=1678f438-dd57-41c5-b88b-bfcde7b7ccb5' target=\"_blank\">\n<img alt='Created in deepnote.com' style='display:inline;max-height:16px;margin:0px;margin-right:7.5px;' src='data:image/svg+xml;base64,PD94bWwgdmVyc2lvbj0iMS4wIiBlbmNvZGluZz0iVVRGLTgiPz4KPHN2ZyB3aWR0aD0iODBweCIgaGVpZ2h0PSI4MHB4IiB2aWV3Qm94PSIwIDAgODAgODAiIHZlcnNpb249IjEuMSIgeG1sbnM9Imh0dHA6Ly93d3cudzMub3JnLzIwMDAvc3ZnIiB4bWxuczp4bGluaz0iaHR0cDovL3d3dy53My5vcmcvMTk5OS94bGluayI+CiAgICA8IS0tIEdlbmVyYXRvcjogU2tldGNoIDU0LjEgKDc2NDkwKSAtIGh0dHBzOi8vc2tldGNoYXBwLmNvbSAtLT4KICAgIDx0aXRsZT5Hcm91cCAzPC90aXRsZT4KICAgIDxkZXNjPkNyZWF0ZWQgd2l0aCBTa2V0Y2guPC9kZXNjPgogICAgPGcgaWQ9IkxhbmRpbmciIHN0cm9rZT0ibm9uZSIgc3Ryb2tlLXdpZHRoPSIxIiBmaWxsPSJub25lIiBmaWxsLXJ1bGU9ImV2ZW5vZGQiPgogICAgICAgIDxnIGlkPSJBcnRib2FyZCIgdHJhbnNmb3JtPSJ0cmFuc2xhdGUoLTEyMzUuMDAwMDAwLCAtNzkuMDAwMDAwKSI+CiAgICAgICAgICAgIDxnIGlkPSJHcm91cC0zIiB0cmFuc2Zvcm09InRyYW5zbGF0ZSgxMjM1LjAwMDAwMCwgNzkuMDAwMDAwKSI+CiAgICAgICAgICAgICAgICA8cG9seWdvbiBpZD0iUGF0aC0yMCIgZmlsbD0iIzAyNjVCNCIgcG9pbnRzPSIyLjM3NjIzNzYyIDgwIDM4LjA0NzY2NjcgODAgNTcuODIxNzgyMiA3My44MDU3NTkyIDU3LjgyMTc4MjIgMzIuNzU5MjczOSAzOS4xNDAyMjc4IDMxLjY4MzE2ODMiPjwvcG9seWdvbj4KICAgICAgICAgICAgICAgIDxwYXRoIGQ9Ik0zNS4wMDc3MTgsODAgQzQyLjkwNjIwMDcsNzYuNDU0OTM1OCA0Ny41NjQ5MTY3LDcxLjU0MjI2NzEgNDguOTgzODY2LDY1LjI2MTk5MzkgQzUxLjExMjI4OTksNTUuODQxNTg0MiA0MS42NzcxNzk1LDQ5LjIxMjIyODQgMjUuNjIzOTg0Niw0OS4yMTIyMjg0IEMyNS40ODQ5Mjg5LDQ5LjEyNjg0NDggMjkuODI2MTI5Niw0My4yODM4MjQ4IDM4LjY0NzU4NjksMzEuNjgzMTY4MyBMNzIuODcxMjg3MSwzMi41NTQ0MjUgTDY1LjI4MDk3Myw2Ny42NzYzNDIxIEw1MS4xMTIyODk5LDc3LjM3NjE0NCBMMzUuMDA3NzE4LDgwIFoiIGlkPSJQYXRoLTIyIiBmaWxsPSIjMDAyODY4Ij48L3BhdGg+CiAgICAgICAgICAgICAgICA8cGF0aCBkPSJNMCwzNy43MzA0NDA1IEwyNy4xMTQ1MzcsMC4yNTcxMTE0MzYgQzYyLjM3MTUxMjMsLTEuOTkwNzE3MDEgODAsMTAuNTAwMzkyNyA4MCwzNy43MzA0NDA1IEM4MCw2NC45NjA0ODgyIDY0Ljc3NjUwMzgsNzkuMDUwMzQxNCAzNC4zMjk1MTEzLDgwIEM0Ny4wNTUzNDg5LDc3LjU2NzA4MDggNTMuNDE4MjY3Nyw3MC4zMTM2MTAzIDUzLjQxODI2NzcsNTguMjM5NTg4NSBDNTMuNDE4MjY3Nyw0MC4xMjg1NTU3IDM2LjMwMzk1NDQsMzcuNzMwNDQwNSAyNS4yMjc0MTcsMzcuNzMwNDQwNSBDMTcuODQzMDU4NiwzNy43MzA0NDA1IDkuNDMzOTE5NjYsMzcuNzMwNDQwNSAwLDM3LjczMDQ0MDUgWiIgaWQ9IlBhdGgtMTkiIGZpbGw9IiMzNzkzRUYiPjwvcGF0aD4KICAgICAgICAgICAgPC9nPgogICAgICAgIDwvZz4KICAgIDwvZz4KPC9zdmc+' > </img>\nCreated in <span style='font-weight:600;margin-left:4px;'>Deepnote</span></a>",
   "metadata": {
    "tags": [],
    "created_in_deepnote_cell": true,
    "deepnote_cell_type": "markdown"
   }
  }
 ],
 "nbformat": 4,
 "nbformat_minor": 0,
 "metadata": {
  "colab": {
   "authorship_tag": "ABX9TyPhzMI+G1fy53ZCtQbGnErI",
   "collapsed_sections": [],
   "mount_file_id": "1MAEWkIefJoTNJEsrTiVgKYJBtrnQcbuL",
   "name": "Algoritimos_de_clasificacion_+_Lopez,_Gomez,_Nesci,_Robert.ipynb",
   "provenance": []
  },
  "deepnote": {},
  "deepnote_execution_queue": [],
  "deepnote_notebook_id": "0c43f1a7-17b5-4e45-b3da-3e56b008ffdb",
  "kernelspec": {
   "display_name": "Python 3.10.4 64-bit",
   "language": "python",
   "name": "python3"
  },
  "language_info": {
   "codemirror_mode": {
    "name": "ipython",
    "version": 3
   },
   "file_extension": ".py",
   "mimetype": "text/x-python",
   "name": "python",
   "nbconvert_exporter": "python",
   "pygments_lexer": "ipython3",
   "version": "3.10.4"
  },
  "vscode": {
   "interpreter": {
    "hash": "916dbcbb3f70747c44a77c7bcd40155683ae19c65e1c03b4aa3499c5328201f1"
   }
  }
 }
}