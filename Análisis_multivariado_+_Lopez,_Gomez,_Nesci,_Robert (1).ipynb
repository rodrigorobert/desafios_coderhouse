{
 "cells": [
  {
   "cell_type": "markdown",
   "source": "# **Proyecto Final (Análisis multivariado)**\n# ![](https://i.gifer.com/7ARb.gif)\nIntegrantes:\n\n\n*   Esteban Nesci\n*   Analía López\n*   Alejandro Gómez Fernández\n*   Rodrigo Robert\n\nProyecto: Análisis de sentimientos en Twitter: hepatitis.\n",
   "metadata": {
    "cell_id": "5e70c585-a1fe-49e6-a1ff-5aba9855306b",
    "deepnote_cell_type": "markdown",
    "deepnote_cell_height": 300.3999938964844
   }
  },
  {
   "cell_type": "code",
   "metadata": {
    "id": "8_nvYUsJVzUD",
    "cell_id": "00001-df6044e9-87d2-46c6-b072-c67a8ef794ff",
    "deepnote_to_be_reexecuted": false,
    "source_hash": "486d076b",
    "execution_start": 1657632232490,
    "execution_millis": 1739,
    "owner_user_id": "a261ed40-9b78-4d48-b5f3-0e32f4b7129d",
    "deepnote_cell_type": "code",
    "deepnote_cell_height": 207
   },
   "source": "#Importamos los paquetes\n\nimport pandas as pd\nimport seaborn as sns\nimport matplotlib.pyplot as plt\nimport plotly.express as px\nfrom sklearn.preprocessing import MinMaxScaler \nimport numpy as np ",
   "execution_count": null,
   "outputs": []
  },
  {
   "cell_type": "code",
   "metadata": {
    "colab": {
     "base_uri": "https://localhost:8080/"
    },
    "id": "ENrV5yBZaJbo",
    "outputId": "a66fbb29-ebb2-4094-c5bd-bf636681de77",
    "cell_id": "00002-a1485de4-c868-4cb7-bc56-da17107c9f91",
    "deepnote_to_be_reexecuted": false,
    "source_hash": "d3f187a9",
    "execution_start": 1657632234236,
    "execution_millis": 3,
    "deepnote_cell_type": "code",
    "deepnote_cell_height": 135
   },
   "source": "# Conexión con drive\n\n#from google.colab import drive\n#drive.mount('/content/drive')",
   "execution_count": null,
   "outputs": []
  },
  {
   "cell_type": "code",
   "metadata": {
    "colab": {
     "base_uri": "https://localhost:8080/"
    },
    "id": "QsBaUd4bX14D",
    "outputId": "25f4fbd3-4d12-4a1e-8398-a35f30bbc0f3",
    "cell_id": "00003-322d505f-904a-4d30-a80e-8ffd32a99021",
    "deepnote_to_be_reexecuted": false,
    "source_hash": "1cb6fdc9",
    "execution_start": 1657632234242,
    "execution_millis": 691,
    "deepnote_cell_type": "code",
    "deepnote_cell_height": 117
   },
   "source": "# Generamos el pandas dataframe\n\ndf=pd.read_csv('20220508_hepatitis.csv', low_memory=False)",
   "execution_count": null,
   "outputs": []
  },
  {
   "cell_type": "code",
   "metadata": {
    "colab": {
     "base_uri": "https://localhost:8080/",
     "height": 473
    },
    "id": "JlTDoL-qX41p",
    "outputId": "a9f0fcb9-11f9-423d-ac17-91c5749c54fb",
    "cell_id": "00004-08a59c65-afe3-4117-88ef-a9adc00bb7c5",
    "deepnote_to_be_reexecuted": false,
    "source_hash": "9a3ed4f1",
    "execution_start": 1657632234959,
    "execution_millis": 74,
    "deepnote_cell_type": "code",
    "deepnote_cell_height": 448
   },
   "source": "#Visualizamos dataset\n\ndf.head()",
   "execution_count": null,
   "outputs": [
    {
     "output_type": "execute_result",
     "execution_count": 4,
     "data": {
      "application/vnd.deepnote.dataframe.v3+json": {
       "column_count": 36,
       "row_count": 5,
       "columns": [
        {
         "name": "id",
         "dtype": "int64",
         "stats": {
          "unique_count": 5,
          "nan_count": 0,
          "min": "1523478649827078144",
          "max": "1523479063272525824",
          "histogram": [
           {
            "bin_start": 1523478649827078100,
            "bin_end": 1523478691171623000,
            "count": 1
           },
           {
            "bin_start": 1523478691171623000,
            "bin_end": 1523478732516167700,
            "count": 0
           },
           {
            "bin_start": 1523478732516167700,
            "bin_end": 1523478773860712400,
            "count": 0
           },
           {
            "bin_start": 1523478773860712400,
            "bin_end": 1523478815205257200,
            "count": 0
           },
           {
            "bin_start": 1523478815205257200,
            "bin_end": 1523478856549802000,
            "count": 1
           },
           {
            "bin_start": 1523478856549802000,
            "bin_end": 1523478897894346800,
            "count": 0
           },
           {
            "bin_start": 1523478897894346800,
            "bin_end": 1523478939238891500,
            "count": 0
           },
           {
            "bin_start": 1523478939238891500,
            "bin_end": 1523478980583436300,
            "count": 1
           },
           {
            "bin_start": 1523478980583436300,
            "bin_end": 1523479021927981000,
            "count": 1
           },
           {
            "bin_start": 1523479021927981000,
            "bin_end": 1523479063272525800,
            "count": 1
           }
          ]
         }
        },
        {
         "name": "conversation_id",
         "dtype": "int64",
         "stats": {
          "unique_count": 4,
          "nan_count": 0,
          "min": "1523418175878037504",
          "max": "1523479063272525824",
          "histogram": [
           {
            "bin_start": 1523418175878037500,
            "bin_end": 1523424264617486300,
            "count": 2
           },
           {
            "bin_start": 1523424264617486300,
            "bin_end": 1523430353356935200,
            "count": 1
           },
           {
            "bin_start": 1523430353356935200,
            "bin_end": 1523436442096384000,
            "count": 0
           },
           {
            "bin_start": 1523436442096384000,
            "bin_end": 1523442530835832800,
            "count": 0
           },
           {
            "bin_start": 1523442530835832800,
            "bin_end": 1523448619575281700,
            "count": 0
           },
           {
            "bin_start": 1523448619575281700,
            "bin_end": 1523454708314730500,
            "count": 0
           },
           {
            "bin_start": 1523454708314730500,
            "bin_end": 1523460797054179300,
            "count": 0
           },
           {
            "bin_start": 1523460797054179300,
            "bin_end": 1523466885793628200,
            "count": 0
           },
           {
            "bin_start": 1523466885793628200,
            "bin_end": 1523472974533077000,
            "count": 0
           },
           {
            "bin_start": 1523472974533077000,
            "bin_end": 1523479063272525800,
            "count": 2
           }
          ]
         }
        },
        {
         "name": "created_at",
         "dtype": "object",
         "stats": {
          "unique_count": 5,
          "nan_count": 0,
          "categories": [
           {
            "name": "2022-05-08 22:44:48 -03",
            "count": 1
           },
           {
            "name": "2022-05-08 22:44:35 -03",
            "count": 1
           },
           {
            "name": "3 others",
            "count": 3
           }
          ]
         }
        },
        {
         "name": "date",
         "dtype": "object",
         "stats": {
          "unique_count": 1,
          "nan_count": 0,
          "categories": [
           {
            "name": "2022-05-08",
            "count": 5
           }
          ]
         }
        },
        {
         "name": "time",
         "dtype": "object",
         "stats": {
          "unique_count": 5,
          "nan_count": 0,
          "categories": [
           {
            "name": "22:44:48",
            "count": 1
           },
           {
            "name": "22:44:35",
            "count": 1
           },
           {
            "name": "3 others",
            "count": 3
           }
          ]
         }
        },
        {
         "name": "timezone",
         "dtype": "int64",
         "stats": {
          "unique_count": 1,
          "nan_count": 0,
          "min": "-300",
          "max": "-300",
          "histogram": [
           {
            "bin_start": -300.5,
            "bin_end": -300.4,
            "count": 0
           },
           {
            "bin_start": -300.4,
            "bin_end": -300.3,
            "count": 0
           },
           {
            "bin_start": -300.3,
            "bin_end": -300.2,
            "count": 0
           },
           {
            "bin_start": -300.2,
            "bin_end": -300.1,
            "count": 0
           },
           {
            "bin_start": -300.1,
            "bin_end": -300,
            "count": 0
           },
           {
            "bin_start": -300,
            "bin_end": -299.9,
            "count": 5
           },
           {
            "bin_start": -299.9,
            "bin_end": -299.8,
            "count": 0
           },
           {
            "bin_start": -299.8,
            "bin_end": -299.7,
            "count": 0
           },
           {
            "bin_start": -299.7,
            "bin_end": -299.6,
            "count": 0
           },
           {
            "bin_start": -299.6,
            "bin_end": -299.5,
            "count": 0
           }
          ]
         }
        },
        {
         "name": "user_id",
         "dtype": "int64",
         "stats": {
          "unique_count": 4,
          "nan_count": 0,
          "min": "49024508",
          "max": "1467606239119089676",
          "histogram": [
           {
            "bin_start": 49024508,
            "bin_end": 146760623956031040,
            "count": 3
           },
           {
            "bin_start": 146760623956031040,
            "bin_end": 293521247863037600,
            "count": 0
           },
           {
            "bin_start": 293521247863037600,
            "bin_end": 440281871770044100,
            "count": 0
           },
           {
            "bin_start": 440281871770044100,
            "bin_end": 587042495677050600,
            "count": 0
           },
           {
            "bin_start": 587042495677050600,
            "bin_end": 733803119584057100,
            "count": 0
           },
           {
            "bin_start": 733803119584057100,
            "bin_end": 880563743491063700,
            "count": 0
           },
           {
            "bin_start": 880563743491063700,
            "bin_end": 1027324367398070300,
            "count": 0
           },
           {
            "bin_start": 1027324367398070300,
            "bin_end": 1174084991305076700,
            "count": 0
           },
           {
            "bin_start": 1174084991305076700,
            "bin_end": 1320845615212083200,
            "count": 0
           },
           {
            "bin_start": 1320845615212083200,
            "bin_end": 1467606239119089700,
            "count": 2
           }
          ]
         }
        },
        {
         "name": "username",
         "dtype": "object",
         "stats": {
          "unique_count": 4,
          "nan_count": 0,
          "categories": [
           {
            "name": "griffinjones25",
            "count": 2
           },
           {
            "name": "onionweigher",
            "count": 1
           },
           {
            "name": "2 others",
            "count": 2
           }
          ]
         }
        },
        {
         "name": "name",
         "dtype": "object",
         "stats": {
          "unique_count": 4,
          "nan_count": 0,
          "categories": [
           {
            "name": "GJ",
            "count": 2
           },
           {
            "name": "Onion Weigher 🧅⚖️",
            "count": 1
           },
           {
            "name": "2 others",
            "count": 2
           }
          ]
         }
        },
        {
         "name": "place",
         "dtype": "object",
         "stats": {
          "unique_count": 0,
          "nan_count": 5,
          "categories": [
           {
            "name": "Missing",
            "count": 5
           }
          ]
         }
        },
        {
         "name": "tweet",
         "dtype": "object",
         "stats": {
          "unique_count": 5,
          "nan_count": 0,
          "categories": [
           {
            "name": "Tried to take my children to Chi-Chi's but it was a wasteland. No sneeze guard at the salad bar, the employees had cell phones, two vast and trunkless legs of stone stood desolately next to the restrooms. Grew up with salsafication and hepatitis A outbreaks. It's all gone now.",
            "count": 1
           },
           {
            "name": "@stargazeruk7 Hep A like you mention is an entirely different disease than autoimmune hepatitis.",
            "count": 1
           },
           {
            "name": "3 others",
            "count": 3
           }
          ]
         }
        },
        {
         "name": "language",
         "dtype": "object",
         "stats": {
          "unique_count": 2,
          "nan_count": 0,
          "categories": [
           {
            "name": "en",
            "count": 4
           },
           {
            "name": "es",
            "count": 1
           }
          ]
         }
        },
        {
         "name": "mentions",
         "dtype": "object",
         "stats": {
          "unique_count": 1,
          "nan_count": 0,
          "categories": [
           {
            "name": "[]",
            "count": 5
           }
          ]
         }
        },
        {
         "name": "urls",
         "dtype": "object",
         "stats": {
          "unique_count": 2,
          "nan_count": 0,
          "categories": [
           {
            "name": "[]",
            "count": 4
           },
           {
            "name": "['https://ideallya.github.io/news/MT/Q5MDMyMjUxODg1OTAwMjI5NjA3NjE3NDU2Njg5ODc2MzY1NzE1.html']",
            "count": 1
           }
          ]
         }
        },
        {
         "name": "photos",
         "dtype": "object",
         "stats": {
          "unique_count": 1,
          "nan_count": 0,
          "categories": [
           {
            "name": "[]",
            "count": 5
           }
          ]
         }
        },
        {
         "name": "replies_count",
         "dtype": "int64",
         "stats": {
          "unique_count": 1,
          "nan_count": 0,
          "min": "0",
          "max": "0",
          "histogram": [
           {
            "bin_start": -0.5,
            "bin_end": -0.4,
            "count": 0
           },
           {
            "bin_start": -0.4,
            "bin_end": -0.3,
            "count": 0
           },
           {
            "bin_start": -0.3,
            "bin_end": -0.19999999999999996,
            "count": 0
           },
           {
            "bin_start": -0.19999999999999996,
            "bin_end": -0.09999999999999998,
            "count": 0
           },
           {
            "bin_start": -0.09999999999999998,
            "bin_end": 0,
            "count": 0
           },
           {
            "bin_start": 0,
            "bin_end": 0.10000000000000009,
            "count": 5
           },
           {
            "bin_start": 0.10000000000000009,
            "bin_end": 0.20000000000000007,
            "count": 0
           },
           {
            "bin_start": 0.20000000000000007,
            "bin_end": 0.30000000000000004,
            "count": 0
           },
           {
            "bin_start": 0.30000000000000004,
            "bin_end": 0.4,
            "count": 0
           },
           {
            "bin_start": 0.4,
            "bin_end": 0.5,
            "count": 0
           }
          ]
         }
        },
        {
         "name": "retweets_count",
         "dtype": "int64",
         "stats": {
          "unique_count": 1,
          "nan_count": 0,
          "min": "0",
          "max": "0",
          "histogram": [
           {
            "bin_start": -0.5,
            "bin_end": -0.4,
            "count": 0
           },
           {
            "bin_start": -0.4,
            "bin_end": -0.3,
            "count": 0
           },
           {
            "bin_start": -0.3,
            "bin_end": -0.19999999999999996,
            "count": 0
           },
           {
            "bin_start": -0.19999999999999996,
            "bin_end": -0.09999999999999998,
            "count": 0
           },
           {
            "bin_start": -0.09999999999999998,
            "bin_end": 0,
            "count": 0
           },
           {
            "bin_start": 0,
            "bin_end": 0.10000000000000009,
            "count": 5
           },
           {
            "bin_start": 0.10000000000000009,
            "bin_end": 0.20000000000000007,
            "count": 0
           },
           {
            "bin_start": 0.20000000000000007,
            "bin_end": 0.30000000000000004,
            "count": 0
           },
           {
            "bin_start": 0.30000000000000004,
            "bin_end": 0.4,
            "count": 0
           },
           {
            "bin_start": 0.4,
            "bin_end": 0.5,
            "count": 0
           }
          ]
         }
        },
        {
         "name": "likes_count",
         "dtype": "int64",
         "stats": {
          "unique_count": 1,
          "nan_count": 0,
          "min": "0",
          "max": "0",
          "histogram": [
           {
            "bin_start": -0.5,
            "bin_end": -0.4,
            "count": 0
           },
           {
            "bin_start": -0.4,
            "bin_end": -0.3,
            "count": 0
           },
           {
            "bin_start": -0.3,
            "bin_end": -0.19999999999999996,
            "count": 0
           },
           {
            "bin_start": -0.19999999999999996,
            "bin_end": -0.09999999999999998,
            "count": 0
           },
           {
            "bin_start": -0.09999999999999998,
            "bin_end": 0,
            "count": 0
           },
           {
            "bin_start": 0,
            "bin_end": 0.10000000000000009,
            "count": 5
           },
           {
            "bin_start": 0.10000000000000009,
            "bin_end": 0.20000000000000007,
            "count": 0
           },
           {
            "bin_start": 0.20000000000000007,
            "bin_end": 0.30000000000000004,
            "count": 0
           },
           {
            "bin_start": 0.30000000000000004,
            "bin_end": 0.4,
            "count": 0
           },
           {
            "bin_start": 0.4,
            "bin_end": 0.5,
            "count": 0
           }
          ]
         }
        },
        {
         "name": "hashtags",
         "dtype": "object",
         "stats": {
          "unique_count": 2,
          "nan_count": 0,
          "categories": [
           {
            "name": "[]",
            "count": 4
           },
           {
            "name": "['childhood', 'health', 'safety', 'uk']",
            "count": 1
           }
          ]
         }
        },
        {
         "name": "cashtags",
         "dtype": "object",
         "stats": {
          "unique_count": 1,
          "nan_count": 0,
          "categories": [
           {
            "name": "[]",
            "count": 5
           }
          ]
         }
        },
        {
         "name": "link",
         "dtype": "object",
         "stats": {
          "unique_count": 5,
          "nan_count": 0,
          "categories": [
           {
            "name": "https://twitter.com/onionweigher/status/1523479063272525824",
            "count": 1
           },
           {
            "name": "https://twitter.com/griffinjones25/status/1523479009694158848",
            "count": 1
           },
           {
            "name": "3 others",
            "count": 3
           }
          ]
         }
        },
        {
         "name": "retweet",
         "dtype": "bool",
         "stats": {
          "unique_count": 1,
          "nan_count": 0,
          "categories": [
           {
            "name": "False",
            "count": 5
           }
          ]
         }
        },
        {
         "name": "quote_url",
         "dtype": "object",
         "stats": {
          "unique_count": 0,
          "nan_count": 5,
          "categories": [
           {
            "name": "Missing",
            "count": 5
           }
          ]
         }
        },
        {
         "name": "video",
         "dtype": "int64",
         "stats": {
          "unique_count": 1,
          "nan_count": 0,
          "min": "0",
          "max": "0",
          "histogram": [
           {
            "bin_start": -0.5,
            "bin_end": -0.4,
            "count": 0
           },
           {
            "bin_start": -0.4,
            "bin_end": -0.3,
            "count": 0
           },
           {
            "bin_start": -0.3,
            "bin_end": -0.19999999999999996,
            "count": 0
           },
           {
            "bin_start": -0.19999999999999996,
            "bin_end": -0.09999999999999998,
            "count": 0
           },
           {
            "bin_start": -0.09999999999999998,
            "bin_end": 0,
            "count": 0
           },
           {
            "bin_start": 0,
            "bin_end": 0.10000000000000009,
            "count": 5
           },
           {
            "bin_start": 0.10000000000000009,
            "bin_end": 0.20000000000000007,
            "count": 0
           },
           {
            "bin_start": 0.20000000000000007,
            "bin_end": 0.30000000000000004,
            "count": 0
           },
           {
            "bin_start": 0.30000000000000004,
            "bin_end": 0.4,
            "count": 0
           },
           {
            "bin_start": 0.4,
            "bin_end": 0.5,
            "count": 0
           }
          ]
         }
        },
        {
         "name": "thumbnail",
         "dtype": "object",
         "stats": {
          "unique_count": 0,
          "nan_count": 5,
          "categories": [
           {
            "name": "Missing",
            "count": 5
           }
          ]
         }
        },
        {
         "name": "near",
         "dtype": "float64",
         "stats": {
          "unique_count": 0,
          "nan_count": 5,
          "min": null,
          "max": null,
          "histogram": [
           {
            "bin_start": 0,
            "bin_end": 0.1,
            "count": 0
           },
           {
            "bin_start": 0.1,
            "bin_end": 0.2,
            "count": 0
           },
           {
            "bin_start": 0.2,
            "bin_end": 0.30000000000000004,
            "count": 0
           },
           {
            "bin_start": 0.30000000000000004,
            "bin_end": 0.4,
            "count": 0
           },
           {
            "bin_start": 0.4,
            "bin_end": 0.5,
            "count": 0
           },
           {
            "bin_start": 0.5,
            "bin_end": 0.6000000000000001,
            "count": 0
           },
           {
            "bin_start": 0.6000000000000001,
            "bin_end": 0.7000000000000001,
            "count": 0
           },
           {
            "bin_start": 0.7000000000000001,
            "bin_end": 0.8,
            "count": 0
           },
           {
            "bin_start": 0.8,
            "bin_end": 0.9,
            "count": 0
           },
           {
            "bin_start": 0.9,
            "bin_end": 1,
            "count": 0
           }
          ]
         }
        },
        {
         "name": "geo",
         "dtype": "float64",
         "stats": {
          "unique_count": 0,
          "nan_count": 5,
          "min": null,
          "max": null,
          "histogram": [
           {
            "bin_start": 0,
            "bin_end": 0.1,
            "count": 0
           },
           {
            "bin_start": 0.1,
            "bin_end": 0.2,
            "count": 0
           },
           {
            "bin_start": 0.2,
            "bin_end": 0.30000000000000004,
            "count": 0
           },
           {
            "bin_start": 0.30000000000000004,
            "bin_end": 0.4,
            "count": 0
           },
           {
            "bin_start": 0.4,
            "bin_end": 0.5,
            "count": 0
           },
           {
            "bin_start": 0.5,
            "bin_end": 0.6000000000000001,
            "count": 0
           },
           {
            "bin_start": 0.6000000000000001,
            "bin_end": 0.7000000000000001,
            "count": 0
           },
           {
            "bin_start": 0.7000000000000001,
            "bin_end": 0.8,
            "count": 0
           },
           {
            "bin_start": 0.8,
            "bin_end": 0.9,
            "count": 0
           },
           {
            "bin_start": 0.9,
            "bin_end": 1,
            "count": 0
           }
          ]
         }
        },
        {
         "name": "source",
         "dtype": "float64",
         "stats": {
          "unique_count": 0,
          "nan_count": 5,
          "min": null,
          "max": null,
          "histogram": [
           {
            "bin_start": 0,
            "bin_end": 0.1,
            "count": 0
           },
           {
            "bin_start": 0.1,
            "bin_end": 0.2,
            "count": 0
           },
           {
            "bin_start": 0.2,
            "bin_end": 0.30000000000000004,
            "count": 0
           },
           {
            "bin_start": 0.30000000000000004,
            "bin_end": 0.4,
            "count": 0
           },
           {
            "bin_start": 0.4,
            "bin_end": 0.5,
            "count": 0
           },
           {
            "bin_start": 0.5,
            "bin_end": 0.6000000000000001,
            "count": 0
           },
           {
            "bin_start": 0.6000000000000001,
            "bin_end": 0.7000000000000001,
            "count": 0
           },
           {
            "bin_start": 0.7000000000000001,
            "bin_end": 0.8,
            "count": 0
           },
           {
            "bin_start": 0.8,
            "bin_end": 0.9,
            "count": 0
           },
           {
            "bin_start": 0.9,
            "bin_end": 1,
            "count": 0
           }
          ]
         }
        },
        {
         "name": "user_rt_id",
         "dtype": "float64",
         "stats": {
          "unique_count": 0,
          "nan_count": 5,
          "min": null,
          "max": null,
          "histogram": [
           {
            "bin_start": 0,
            "bin_end": 0.1,
            "count": 0
           },
           {
            "bin_start": 0.1,
            "bin_end": 0.2,
            "count": 0
           },
           {
            "bin_start": 0.2,
            "bin_end": 0.30000000000000004,
            "count": 0
           },
           {
            "bin_start": 0.30000000000000004,
            "bin_end": 0.4,
            "count": 0
           },
           {
            "bin_start": 0.4,
            "bin_end": 0.5,
            "count": 0
           },
           {
            "bin_start": 0.5,
            "bin_end": 0.6000000000000001,
            "count": 0
           },
           {
            "bin_start": 0.6000000000000001,
            "bin_end": 0.7000000000000001,
            "count": 0
           },
           {
            "bin_start": 0.7000000000000001,
            "bin_end": 0.8,
            "count": 0
           },
           {
            "bin_start": 0.8,
            "bin_end": 0.9,
            "count": 0
           },
           {
            "bin_start": 0.9,
            "bin_end": 1,
            "count": 0
           }
          ]
         }
        },
        {
         "name": "user_rt",
         "dtype": "float64",
         "stats": {
          "unique_count": 0,
          "nan_count": 5,
          "min": null,
          "max": null,
          "histogram": [
           {
            "bin_start": 0,
            "bin_end": 0.1,
            "count": 0
           },
           {
            "bin_start": 0.1,
            "bin_end": 0.2,
            "count": 0
           },
           {
            "bin_start": 0.2,
            "bin_end": 0.30000000000000004,
            "count": 0
           },
           {
            "bin_start": 0.30000000000000004,
            "bin_end": 0.4,
            "count": 0
           },
           {
            "bin_start": 0.4,
            "bin_end": 0.5,
            "count": 0
           },
           {
            "bin_start": 0.5,
            "bin_end": 0.6000000000000001,
            "count": 0
           },
           {
            "bin_start": 0.6000000000000001,
            "bin_end": 0.7000000000000001,
            "count": 0
           },
           {
            "bin_start": 0.7000000000000001,
            "bin_end": 0.8,
            "count": 0
           },
           {
            "bin_start": 0.8,
            "bin_end": 0.9,
            "count": 0
           },
           {
            "bin_start": 0.9,
            "bin_end": 1,
            "count": 0
           }
          ]
         }
        },
        {
         "name": "retweet_id",
         "dtype": "float64",
         "stats": {
          "unique_count": 0,
          "nan_count": 5,
          "min": null,
          "max": null,
          "histogram": [
           {
            "bin_start": 0,
            "bin_end": 0.1,
            "count": 0
           },
           {
            "bin_start": 0.1,
            "bin_end": 0.2,
            "count": 0
           },
           {
            "bin_start": 0.2,
            "bin_end": 0.30000000000000004,
            "count": 0
           },
           {
            "bin_start": 0.30000000000000004,
            "bin_end": 0.4,
            "count": 0
           },
           {
            "bin_start": 0.4,
            "bin_end": 0.5,
            "count": 0
           },
           {
            "bin_start": 0.5,
            "bin_end": 0.6000000000000001,
            "count": 0
           },
           {
            "bin_start": 0.6000000000000001,
            "bin_end": 0.7000000000000001,
            "count": 0
           },
           {
            "bin_start": 0.7000000000000001,
            "bin_end": 0.8,
            "count": 0
           },
           {
            "bin_start": 0.8,
            "bin_end": 0.9,
            "count": 0
           },
           {
            "bin_start": 0.9,
            "bin_end": 1,
            "count": 0
           }
          ]
         }
        },
        {
         "name": "reply_to",
         "dtype": "object",
         "stats": {
          "unique_count": 3,
          "nan_count": 0,
          "categories": [
           {
            "name": "[]",
            "count": 2
           },
           {
            "name": "[{'screen_name': 'stargazeruk7', 'name': 'Natalie.k7', 'id': '1516860721862254592'}]",
            "count": 2
           },
           {
            "name": "[{'screen_name': 'GovPierluisi', 'name': 'Gobernador Pierluisi', 'id': '386766931'}]",
            "count": 1
           }
          ]
         }
        },
        {
         "name": "retweet_date",
         "dtype": "float64",
         "stats": {
          "unique_count": 0,
          "nan_count": 5,
          "min": null,
          "max": null,
          "histogram": [
           {
            "bin_start": 0,
            "bin_end": 0.1,
            "count": 0
           },
           {
            "bin_start": 0.1,
            "bin_end": 0.2,
            "count": 0
           },
           {
            "bin_start": 0.2,
            "bin_end": 0.30000000000000004,
            "count": 0
           },
           {
            "bin_start": 0.30000000000000004,
            "bin_end": 0.4,
            "count": 0
           },
           {
            "bin_start": 0.4,
            "bin_end": 0.5,
            "count": 0
           },
           {
            "bin_start": 0.5,
            "bin_end": 0.6000000000000001,
            "count": 0
           },
           {
            "bin_start": 0.6000000000000001,
            "bin_end": 0.7000000000000001,
            "count": 0
           },
           {
            "bin_start": 0.7000000000000001,
            "bin_end": 0.8,
            "count": 0
           },
           {
            "bin_start": 0.8,
            "bin_end": 0.9,
            "count": 0
           },
           {
            "bin_start": 0.9,
            "bin_end": 1,
            "count": 0
           }
          ]
         }
        },
        {
         "name": "translate",
         "dtype": "float64",
         "stats": {
          "unique_count": 0,
          "nan_count": 5,
          "min": null,
          "max": null,
          "histogram": [
           {
            "bin_start": 0,
            "bin_end": 0.1,
            "count": 0
           },
           {
            "bin_start": 0.1,
            "bin_end": 0.2,
            "count": 0
           },
           {
            "bin_start": 0.2,
            "bin_end": 0.30000000000000004,
            "count": 0
           },
           {
            "bin_start": 0.30000000000000004,
            "bin_end": 0.4,
            "count": 0
           },
           {
            "bin_start": 0.4,
            "bin_end": 0.5,
            "count": 0
           },
           {
            "bin_start": 0.5,
            "bin_end": 0.6000000000000001,
            "count": 0
           },
           {
            "bin_start": 0.6000000000000001,
            "bin_end": 0.7000000000000001,
            "count": 0
           },
           {
            "bin_start": 0.7000000000000001,
            "bin_end": 0.8,
            "count": 0
           },
           {
            "bin_start": 0.8,
            "bin_end": 0.9,
            "count": 0
           },
           {
            "bin_start": 0.9,
            "bin_end": 1,
            "count": 0
           }
          ]
         }
        },
        {
         "name": "trans_src",
         "dtype": "float64",
         "stats": {
          "unique_count": 0,
          "nan_count": 5,
          "min": null,
          "max": null,
          "histogram": [
           {
            "bin_start": 0,
            "bin_end": 0.1,
            "count": 0
           },
           {
            "bin_start": 0.1,
            "bin_end": 0.2,
            "count": 0
           },
           {
            "bin_start": 0.2,
            "bin_end": 0.30000000000000004,
            "count": 0
           },
           {
            "bin_start": 0.30000000000000004,
            "bin_end": 0.4,
            "count": 0
           },
           {
            "bin_start": 0.4,
            "bin_end": 0.5,
            "count": 0
           },
           {
            "bin_start": 0.5,
            "bin_end": 0.6000000000000001,
            "count": 0
           },
           {
            "bin_start": 0.6000000000000001,
            "bin_end": 0.7000000000000001,
            "count": 0
           },
           {
            "bin_start": 0.7000000000000001,
            "bin_end": 0.8,
            "count": 0
           },
           {
            "bin_start": 0.8,
            "bin_end": 0.9,
            "count": 0
           },
           {
            "bin_start": 0.9,
            "bin_end": 1,
            "count": 0
           }
          ]
         }
        },
        {
         "name": "trans_dest",
         "dtype": "float64",
         "stats": {
          "unique_count": 0,
          "nan_count": 5,
          "min": null,
          "max": null,
          "histogram": [
           {
            "bin_start": 0,
            "bin_end": 0.1,
            "count": 0
           },
           {
            "bin_start": 0.1,
            "bin_end": 0.2,
            "count": 0
           },
           {
            "bin_start": 0.2,
            "bin_end": 0.30000000000000004,
            "count": 0
           },
           {
            "bin_start": 0.30000000000000004,
            "bin_end": 0.4,
            "count": 0
           },
           {
            "bin_start": 0.4,
            "bin_end": 0.5,
            "count": 0
           },
           {
            "bin_start": 0.5,
            "bin_end": 0.6000000000000001,
            "count": 0
           },
           {
            "bin_start": 0.6000000000000001,
            "bin_end": 0.7000000000000001,
            "count": 0
           },
           {
            "bin_start": 0.7000000000000001,
            "bin_end": 0.8,
            "count": 0
           },
           {
            "bin_start": 0.8,
            "bin_end": 0.9,
            "count": 0
           },
           {
            "bin_start": 0.9,
            "bin_end": 1,
            "count": 0
           }
          ]
         }
        },
        {
         "name": "_deepnote_index_column",
         "dtype": "int64"
        }
       ],
       "rows": [
        {
         "id": 1523479063272525800,
         "conversation_id": 1523479063272525800,
         "created_at": "2022-05-08 22:44:48 -03",
         "date": "2022-05-08",
         "time": "22:44:48",
         "timezone": -300,
         "user_id": 49024508,
         "username": "onionweigher",
         "name": "Onion Weigher 🧅⚖️",
         "place": "nan",
         "tweet": "Tried to take my children to Chi-Chi's but it was a wasteland. No sneeze guard at the salad bar, the employees had cell phones, two vast and trunkless legs of stone stood desolately next to the restrooms. Grew up with salsafication and hepatitis A outbreaks. It's all gone now.",
         "language": "en",
         "mentions": "[]",
         "urls": "[]",
         "photos": "[]",
         "replies_count": 0,
         "retweets_count": 0,
         "likes_count": 0,
         "hashtags": "[]",
         "cashtags": "[]",
         "link": "https://twitter.com/onionweigher/status/1523479063272525824",
         "retweet": false,
         "quote_url": "nan",
         "video": 0,
         "thumbnail": "nan",
         "near": "nan",
         "geo": "nan",
         "source": "nan",
         "user_rt_id": "nan",
         "user_rt": "nan",
         "retweet_id": "nan",
         "reply_to": "[]",
         "retweet_date": "nan",
         "translate": "nan",
         "trans_src": "nan",
         "trans_dest": "nan",
         "_deepnote_index_column": 0
        },
        {
         "id": 1523479009694158800,
         "conversation_id": 1523418175878037500,
         "created_at": "2022-05-08 22:44:35 -03",
         "date": "2022-05-08",
         "time": "22:44:35",
         "timezone": -300,
         "user_id": 2726837169,
         "username": "griffinjones25",
         "name": "GJ",
         "place": "nan",
         "tweet": "@stargazeruk7 Hep A like you mention is an entirely different disease than autoimmune hepatitis.",
         "language": "en",
         "mentions": "[]",
         "urls": "[]",
         "photos": "[]",
         "replies_count": 0,
         "retweets_count": 0,
         "likes_count": 0,
         "hashtags": "[]",
         "cashtags": "[]",
         "link": "https://twitter.com/griffinjones25/status/1523479009694158848",
         "retweet": false,
         "quote_url": "nan",
         "video": 0,
         "thumbnail": "nan",
         "near": "nan",
         "geo": "nan",
         "source": "nan",
         "user_rt_id": "nan",
         "user_rt": "nan",
         "retweet_id": "nan",
         "reply_to": "[{'screen_name': 'stargazeruk7', 'name': 'Natalie.k7', 'id': '1516860721862254592'}]",
         "retweet_date": "nan",
         "translate": "nan",
         "trans_src": "nan",
         "trans_dest": "nan",
         "_deepnote_index_column": 1
        },
        {
         "id": 1523478947115139000,
         "conversation_id": 1523478947115139000,
         "created_at": "2022-05-08 22:44:20 -03",
         "date": "2022-05-08",
         "time": "22:44:20",
         "timezone": -300,
         "user_id": 1452730505787551700,
         "username": "ideallyanews",
         "name": "IdeallyaNews",
         "place": "nan",
         "tweet": "UK Health Safety Authority: No evidence linking childhood hepatitis of unknown etiology to COVID-19 vaccine - #childhood #health #safety #uk  https://t.co/tgVOtRdnGE",
         "language": "en",
         "mentions": "[]",
         "urls": "['https://ideallya.github.io/news/MT/Q5MDMyMjUxODg1OTAwMjI5NjA3NjE3NDU2Njg5ODc2MzY1NzE1.html']",
         "photos": "[]",
         "replies_count": 0,
         "retweets_count": 0,
         "likes_count": 0,
         "hashtags": "['childhood', 'health', 'safety', 'uk']",
         "cashtags": "[]",
         "link": "https://twitter.com/IdeallyaNews/status/1523478947115139072",
         "retweet": false,
         "quote_url": "nan",
         "video": 0,
         "thumbnail": "nan",
         "near": "nan",
         "geo": "nan",
         "source": "nan",
         "user_rt_id": "nan",
         "user_rt": "nan",
         "retweet_id": "nan",
         "reply_to": "[]",
         "retweet_date": "nan",
         "translate": "nan",
         "trans_src": "nan",
         "trans_dest": "nan",
         "_deepnote_index_column": 2
        },
        {
         "id": 1523478841125048300,
         "conversation_id": 1523418175878037500,
         "created_at": "2022-05-08 22:43:55 -03",
         "date": "2022-05-08",
         "time": "22:43:55",
         "timezone": -300,
         "user_id": 2726837169,
         "username": "griffinjones25",
         "name": "GJ",
         "place": "nan",
         "tweet": "@stargazeruk7 Autoimmune hepatitis cannot spread in any way shape or form,",
         "language": "en",
         "mentions": "[]",
         "urls": "[]",
         "photos": "[]",
         "replies_count": 0,
         "retweets_count": 0,
         "likes_count": 0,
         "hashtags": "[]",
         "cashtags": "[]",
         "link": "https://twitter.com/griffinjones25/status/1523478841125048320",
         "retweet": false,
         "quote_url": "nan",
         "video": 0,
         "thumbnail": "nan",
         "near": "nan",
         "geo": "nan",
         "source": "nan",
         "user_rt_id": "nan",
         "user_rt": "nan",
         "retweet_id": "nan",
         "reply_to": "[{'screen_name': 'stargazeruk7', 'name': 'Natalie.k7', 'id': '1516860721862254592'}]",
         "retweet_date": "nan",
         "translate": "nan",
         "trans_src": "nan",
         "trans_dest": "nan",
         "_deepnote_index_column": 3
        },
        {
         "id": 1523478649827078100,
         "conversation_id": 1523425745657245700,
         "created_at": "2022-05-08 22:43:09 -03",
         "date": "2022-05-08",
         "time": "22:43:09",
         "timezone": -300,
         "user_id": 1467606239119089700,
         "username": "olganie35346372",
         "name": "Dine Nieves",
         "place": "nan",
         "tweet": "@GovPierluisi La fé??? Usted sabe lo que es eso, vacunado niños que ahora están saliendo con hepatitis misteriosamente verdad y la kk de mascarilla que tú no usas ah! y el covitarro de mentiras.",
         "language": "es",
         "mentions": "[]",
         "urls": "[]",
         "photos": "[]",
         "replies_count": 0,
         "retweets_count": 0,
         "likes_count": 0,
         "hashtags": "[]",
         "cashtags": "[]",
         "link": "https://twitter.com/OlgaNie35346372/status/1523478649827078144",
         "retweet": false,
         "quote_url": "nan",
         "video": 0,
         "thumbnail": "nan",
         "near": "nan",
         "geo": "nan",
         "source": "nan",
         "user_rt_id": "nan",
         "user_rt": "nan",
         "retweet_id": "nan",
         "reply_to": "[{'screen_name': 'GovPierluisi', 'name': 'Gobernador Pierluisi', 'id': '386766931'}]",
         "retweet_date": "nan",
         "translate": "nan",
         "trans_src": "nan",
         "trans_dest": "nan",
         "_deepnote_index_column": 4
        }
       ]
      },
      "text/plain": "                    id      conversation_id               created_at  \\\n0  1523479063272525824  1523479063272525824  2022-05-08 22:44:48 -03   \n1  1523479009694158848  1523418175878037504  2022-05-08 22:44:35 -03   \n2  1523478947115139072  1523478947115139072  2022-05-08 22:44:20 -03   \n3  1523478841125048320  1523418175878037504  2022-05-08 22:43:55 -03   \n4  1523478649827078144  1523425745657245697  2022-05-08 22:43:09 -03   \n\n         date      time  timezone              user_id         username  \\\n0  2022-05-08  22:44:48      -300             49024508     onionweigher   \n1  2022-05-08  22:44:35      -300           2726837169   griffinjones25   \n2  2022-05-08  22:44:20      -300  1452730505787551750     ideallyanews   \n3  2022-05-08  22:43:55      -300           2726837169   griffinjones25   \n4  2022-05-08  22:43:09      -300  1467606239119089676  olganie35346372   \n\n                name place  ... geo source user_rt_id user_rt retweet_id  \\\n0  Onion Weigher 🧅⚖️   NaN  ... NaN    NaN        NaN     NaN        NaN   \n1                 GJ   NaN  ... NaN    NaN        NaN     NaN        NaN   \n2       IdeallyaNews   NaN  ... NaN    NaN        NaN     NaN        NaN   \n3                 GJ   NaN  ... NaN    NaN        NaN     NaN        NaN   \n4        Dine Nieves   NaN  ... NaN    NaN        NaN     NaN        NaN   \n\n                                            reply_to  retweet_date  translate  \\\n0                                                 []           NaN        NaN   \n1  [{'screen_name': 'stargazeruk7', 'name': 'Nata...           NaN        NaN   \n2                                                 []           NaN        NaN   \n3  [{'screen_name': 'stargazeruk7', 'name': 'Nata...           NaN        NaN   \n4  [{'screen_name': 'GovPierluisi', 'name': 'Gobe...           NaN        NaN   \n\n  trans_src trans_dest  \n0       NaN        NaN  \n1       NaN        NaN  \n2       NaN        NaN  \n3       NaN        NaN  \n4       NaN        NaN  \n\n[5 rows x 36 columns]",
      "text/html": "<div>\n<style scoped>\n    .dataframe tbody tr th:only-of-type {\n        vertical-align: middle;\n    }\n\n    .dataframe tbody tr th {\n        vertical-align: top;\n    }\n\n    .dataframe thead th {\n        text-align: right;\n    }\n</style>\n<table border=\"1\" class=\"dataframe\">\n  <thead>\n    <tr style=\"text-align: right;\">\n      <th></th>\n      <th>id</th>\n      <th>conversation_id</th>\n      <th>created_at</th>\n      <th>date</th>\n      <th>time</th>\n      <th>timezone</th>\n      <th>user_id</th>\n      <th>username</th>\n      <th>name</th>\n      <th>place</th>\n      <th>...</th>\n      <th>geo</th>\n      <th>source</th>\n      <th>user_rt_id</th>\n      <th>user_rt</th>\n      <th>retweet_id</th>\n      <th>reply_to</th>\n      <th>retweet_date</th>\n      <th>translate</th>\n      <th>trans_src</th>\n      <th>trans_dest</th>\n    </tr>\n  </thead>\n  <tbody>\n    <tr>\n      <th>0</th>\n      <td>1523479063272525824</td>\n      <td>1523479063272525824</td>\n      <td>2022-05-08 22:44:48 -03</td>\n      <td>2022-05-08</td>\n      <td>22:44:48</td>\n      <td>-300</td>\n      <td>49024508</td>\n      <td>onionweigher</td>\n      <td>Onion Weigher 🧅⚖️</td>\n      <td>NaN</td>\n      <td>...</td>\n      <td>NaN</td>\n      <td>NaN</td>\n      <td>NaN</td>\n      <td>NaN</td>\n      <td>NaN</td>\n      <td>[]</td>\n      <td>NaN</td>\n      <td>NaN</td>\n      <td>NaN</td>\n      <td>NaN</td>\n    </tr>\n    <tr>\n      <th>1</th>\n      <td>1523479009694158848</td>\n      <td>1523418175878037504</td>\n      <td>2022-05-08 22:44:35 -03</td>\n      <td>2022-05-08</td>\n      <td>22:44:35</td>\n      <td>-300</td>\n      <td>2726837169</td>\n      <td>griffinjones25</td>\n      <td>GJ</td>\n      <td>NaN</td>\n      <td>...</td>\n      <td>NaN</td>\n      <td>NaN</td>\n      <td>NaN</td>\n      <td>NaN</td>\n      <td>NaN</td>\n      <td>[{'screen_name': 'stargazeruk7', 'name': 'Nata...</td>\n      <td>NaN</td>\n      <td>NaN</td>\n      <td>NaN</td>\n      <td>NaN</td>\n    </tr>\n    <tr>\n      <th>2</th>\n      <td>1523478947115139072</td>\n      <td>1523478947115139072</td>\n      <td>2022-05-08 22:44:20 -03</td>\n      <td>2022-05-08</td>\n      <td>22:44:20</td>\n      <td>-300</td>\n      <td>1452730505787551750</td>\n      <td>ideallyanews</td>\n      <td>IdeallyaNews</td>\n      <td>NaN</td>\n      <td>...</td>\n      <td>NaN</td>\n      <td>NaN</td>\n      <td>NaN</td>\n      <td>NaN</td>\n      <td>NaN</td>\n      <td>[]</td>\n      <td>NaN</td>\n      <td>NaN</td>\n      <td>NaN</td>\n      <td>NaN</td>\n    </tr>\n    <tr>\n      <th>3</th>\n      <td>1523478841125048320</td>\n      <td>1523418175878037504</td>\n      <td>2022-05-08 22:43:55 -03</td>\n      <td>2022-05-08</td>\n      <td>22:43:55</td>\n      <td>-300</td>\n      <td>2726837169</td>\n      <td>griffinjones25</td>\n      <td>GJ</td>\n      <td>NaN</td>\n      <td>...</td>\n      <td>NaN</td>\n      <td>NaN</td>\n      <td>NaN</td>\n      <td>NaN</td>\n      <td>NaN</td>\n      <td>[{'screen_name': 'stargazeruk7', 'name': 'Nata...</td>\n      <td>NaN</td>\n      <td>NaN</td>\n      <td>NaN</td>\n      <td>NaN</td>\n    </tr>\n    <tr>\n      <th>4</th>\n      <td>1523478649827078144</td>\n      <td>1523425745657245697</td>\n      <td>2022-05-08 22:43:09 -03</td>\n      <td>2022-05-08</td>\n      <td>22:43:09</td>\n      <td>-300</td>\n      <td>1467606239119089676</td>\n      <td>olganie35346372</td>\n      <td>Dine Nieves</td>\n      <td>NaN</td>\n      <td>...</td>\n      <td>NaN</td>\n      <td>NaN</td>\n      <td>NaN</td>\n      <td>NaN</td>\n      <td>NaN</td>\n      <td>[{'screen_name': 'GovPierluisi', 'name': 'Gobe...</td>\n      <td>NaN</td>\n      <td>NaN</td>\n      <td>NaN</td>\n      <td>NaN</td>\n    </tr>\n  </tbody>\n</table>\n<p>5 rows × 36 columns</p>\n</div>"
     },
     "metadata": {}
    }
   ]
  },
  {
   "cell_type": "code",
   "metadata": {
    "colab": {
     "base_uri": "https://localhost:8080/"
    },
    "id": "Yi_ExaBFZ33v",
    "outputId": "4fca893e-a604-4f70-b3e3-1e718989b54b",
    "cell_id": "00005-3e5287b1-9847-46d3-80ee-e2c2bfa81ac9",
    "deepnote_to_be_reexecuted": false,
    "source_hash": "3b87228f",
    "execution_start": 1657632235035,
    "execution_millis": 65,
    "deepnote_cell_type": "code",
    "deepnote_cell_height": 737
   },
   "source": "# Visualizamos caracteristicas de las columnas\n\ndf.info()",
   "execution_count": null,
   "outputs": [
    {
     "name": "stdout",
     "text": "<class 'pandas.core.frame.DataFrame'>\nRangeIndex: 50002 entries, 0 to 50001\nData columns (total 36 columns):\n #   Column           Non-Null Count  Dtype  \n---  ------           --------------  -----  \n 0   id               50002 non-null  int64  \n 1   conversation_id  50002 non-null  int64  \n 2   created_at       50002 non-null  object \n 3   date             50002 non-null  object \n 4   time             50002 non-null  object \n 5   timezone         50002 non-null  int64  \n 6   user_id          50002 non-null  int64  \n 7   username         50002 non-null  object \n 8   name             50001 non-null  object \n 9   place            34 non-null     object \n 10  tweet            50002 non-null  object \n 11  language         50002 non-null  object \n 12  mentions         50002 non-null  object \n 13  urls             50002 non-null  object \n 14  photos           50002 non-null  object \n 15  replies_count    50002 non-null  int64  \n 16  retweets_count   50002 non-null  int64  \n 17  likes_count      50002 non-null  int64  \n 18  hashtags         50002 non-null  object \n 19  cashtags         50002 non-null  object \n 20  link             50002 non-null  object \n 21  retweet          50002 non-null  bool   \n 22  quote_url        3615 non-null   object \n 23  video            50002 non-null  int64  \n 24  thumbnail        7502 non-null   object \n 25  near             0 non-null      float64\n 26  geo              0 non-null      float64\n 27  source           0 non-null      float64\n 28  user_rt_id       0 non-null      float64\n 29  user_rt          0 non-null      float64\n 30  retweet_id       0 non-null      float64\n 31  reply_to         50002 non-null  object \n 32  retweet_date     0 non-null      float64\n 33  translate        0 non-null      float64\n 34  trans_src        0 non-null      float64\n 35  trans_dest       0 non-null      float64\ndtypes: bool(1), float64(10), int64(8), object(17)\nmemory usage: 13.4+ MB\n",
     "output_type": "stream"
    }
   ]
  },
  {
   "cell_type": "code",
   "metadata": {
    "id": "wTDg2nW1Z7ra",
    "cell_id": "00006-1b2136c7-05d6-4250-9425-69e5253d26e4",
    "deepnote_to_be_reexecuted": false,
    "source_hash": "a8a61d5d",
    "execution_start": 1657632235094,
    "execution_millis": 50,
    "deepnote_cell_type": "code",
    "deepnote_cell_height": 117
   },
   "source": "# Limpiamos los nulos\n\ndf.dropna(axis = 1, inplace=True)",
   "execution_count": null,
   "outputs": []
  },
  {
   "cell_type": "code",
   "metadata": {
    "colab": {
     "base_uri": "https://localhost:8080/"
    },
    "id": "9R3GClpoaaSv",
    "outputId": "08832611-009c-4017-a8f0-e44c3fc11631",
    "cell_id": "00007-802ce979-8ca8-4715-ae53-88fba66796f4",
    "deepnote_to_be_reexecuted": false,
    "source_hash": "5c75a1ff",
    "execution_start": 1657632235174,
    "execution_millis": 16,
    "deepnote_cell_type": "code",
    "deepnote_cell_height": 699.2999877929688
   },
   "source": "# Chequeamos la limpieza\n\ndf.info()",
   "execution_count": null,
   "outputs": [
    {
     "name": "stdout",
     "text": "<class 'pandas.core.frame.DataFrame'>\nRangeIndex: 50002 entries, 0 to 50001\nData columns (total 22 columns):\n #   Column           Non-Null Count  Dtype \n---  ------           --------------  ----- \n 0   id               50002 non-null  int64 \n 1   conversation_id  50002 non-null  int64 \n 2   created_at       50002 non-null  object\n 3   date             50002 non-null  object\n 4   time             50002 non-null  object\n 5   timezone         50002 non-null  int64 \n 6   user_id          50002 non-null  int64 \n 7   username         50002 non-null  object\n 8   tweet            50002 non-null  object\n 9   language         50002 non-null  object\n 10  mentions         50002 non-null  object\n 11  urls             50002 non-null  object\n 12  photos           50002 non-null  object\n 13  replies_count    50002 non-null  int64 \n 14  retweets_count   50002 non-null  int64 \n 15  likes_count      50002 non-null  int64 \n 16  hashtags         50002 non-null  object\n 17  cashtags         50002 non-null  object\n 18  link             50002 non-null  object\n 19  retweet          50002 non-null  bool  \n 20  video            50002 non-null  int64 \n 21  reply_to         50002 non-null  object\ndtypes: bool(1), int64(8), object(13)\nmemory usage: 8.1+ MB\n",
     "output_type": "stream"
    }
   ]
  },
  {
   "cell_type": "code",
   "metadata": {
    "id": "91aoocvRYfLj",
    "cell_id": "00008-90d3684e-7fe9-4588-b842-d860a078a5d7",
    "deepnote_to_be_reexecuted": false,
    "source_hash": "3307cc85",
    "execution_start": 1657632235307,
    "execution_millis": 13,
    "deepnote_cell_type": "code",
    "deepnote_cell_height": 117
   },
   "source": "# Tranformares los Id a variables categóricas para mejorar el uso de datos\n\ndf[['id', 'conversation_id', 'user_id']] = df[['id', 'conversation_id', 'user_id']].astype(str)",
   "execution_count": null,
   "outputs": []
  },
  {
   "cell_type": "code",
   "metadata": {
    "colab": {
     "base_uri": "https://localhost:8080/",
     "height": 577
    },
    "id": "rl1A_ksGZChX",
    "outputId": "1de771d9-fbd5-4676-cc6a-27918b1a1ed0",
    "cell_id": "00009-19a6e819-7e8e-460d-a9c1-25407aaefec8",
    "deepnote_to_be_reexecuted": false,
    "source_hash": "c085b6ba",
    "execution_start": 1657632235362,
    "execution_millis": 69,
    "deepnote_cell_type": "code",
    "deepnote_cell_height": 412
   },
   "source": "df.head()",
   "execution_count": null,
   "outputs": [
    {
     "output_type": "execute_result",
     "execution_count": 9,
     "data": {
      "application/vnd.deepnote.dataframe.v3+json": {
       "column_count": 22,
       "row_count": 5,
       "columns": [
        {
         "name": "id",
         "dtype": "object",
         "stats": {
          "unique_count": 5,
          "nan_count": 0,
          "categories": [
           {
            "name": "1523479063272525824",
            "count": 1
           },
           {
            "name": "1523479009694158848",
            "count": 1
           },
           {
            "name": "3 others",
            "count": 3
           }
          ]
         }
        },
        {
         "name": "conversation_id",
         "dtype": "object",
         "stats": {
          "unique_count": 4,
          "nan_count": 0,
          "categories": [
           {
            "name": "1523418175878037504",
            "count": 2
           },
           {
            "name": "1523479063272525824",
            "count": 1
           },
           {
            "name": "2 others",
            "count": 2
           }
          ]
         }
        },
        {
         "name": "created_at",
         "dtype": "object",
         "stats": {
          "unique_count": 5,
          "nan_count": 0,
          "categories": [
           {
            "name": "2022-05-08 22:44:48 -03",
            "count": 1
           },
           {
            "name": "2022-05-08 22:44:35 -03",
            "count": 1
           },
           {
            "name": "3 others",
            "count": 3
           }
          ]
         }
        },
        {
         "name": "date",
         "dtype": "object",
         "stats": {
          "unique_count": 1,
          "nan_count": 0,
          "categories": [
           {
            "name": "2022-05-08",
            "count": 5
           }
          ]
         }
        },
        {
         "name": "time",
         "dtype": "object",
         "stats": {
          "unique_count": 5,
          "nan_count": 0,
          "categories": [
           {
            "name": "22:44:48",
            "count": 1
           },
           {
            "name": "22:44:35",
            "count": 1
           },
           {
            "name": "3 others",
            "count": 3
           }
          ]
         }
        },
        {
         "name": "timezone",
         "dtype": "int64",
         "stats": {
          "unique_count": 1,
          "nan_count": 0,
          "min": "-300",
          "max": "-300",
          "histogram": [
           {
            "bin_start": -300.5,
            "bin_end": -300.4,
            "count": 0
           },
           {
            "bin_start": -300.4,
            "bin_end": -300.3,
            "count": 0
           },
           {
            "bin_start": -300.3,
            "bin_end": -300.2,
            "count": 0
           },
           {
            "bin_start": -300.2,
            "bin_end": -300.1,
            "count": 0
           },
           {
            "bin_start": -300.1,
            "bin_end": -300,
            "count": 0
           },
           {
            "bin_start": -300,
            "bin_end": -299.9,
            "count": 5
           },
           {
            "bin_start": -299.9,
            "bin_end": -299.8,
            "count": 0
           },
           {
            "bin_start": -299.8,
            "bin_end": -299.7,
            "count": 0
           },
           {
            "bin_start": -299.7,
            "bin_end": -299.6,
            "count": 0
           },
           {
            "bin_start": -299.6,
            "bin_end": -299.5,
            "count": 0
           }
          ]
         }
        },
        {
         "name": "user_id",
         "dtype": "object",
         "stats": {
          "unique_count": 4,
          "nan_count": 0,
          "categories": [
           {
            "name": "2726837169",
            "count": 2
           },
           {
            "name": "49024508",
            "count": 1
           },
           {
            "name": "2 others",
            "count": 2
           }
          ]
         }
        },
        {
         "name": "username",
         "dtype": "object",
         "stats": {
          "unique_count": 4,
          "nan_count": 0,
          "categories": [
           {
            "name": "griffinjones25",
            "count": 2
           },
           {
            "name": "onionweigher",
            "count": 1
           },
           {
            "name": "2 others",
            "count": 2
           }
          ]
         }
        },
        {
         "name": "tweet",
         "dtype": "object",
         "stats": {
          "unique_count": 5,
          "nan_count": 0,
          "categories": [
           {
            "name": "Tried to take my children to Chi-Chi's but it was a wasteland. No sneeze guard at the salad bar, the employees had cell phones, two vast and trunkless legs of stone stood desolately next to the restrooms. Grew up with salsafication and hepatitis A outbreaks. It's all gone now.",
            "count": 1
           },
           {
            "name": "@stargazeruk7 Hep A like you mention is an entirely different disease than autoimmune hepatitis.",
            "count": 1
           },
           {
            "name": "3 others",
            "count": 3
           }
          ]
         }
        },
        {
         "name": "language",
         "dtype": "object",
         "stats": {
          "unique_count": 2,
          "nan_count": 0,
          "categories": [
           {
            "name": "en",
            "count": 4
           },
           {
            "name": "es",
            "count": 1
           }
          ]
         }
        },
        {
         "name": "mentions",
         "dtype": "object",
         "stats": {
          "unique_count": 1,
          "nan_count": 0,
          "categories": [
           {
            "name": "[]",
            "count": 5
           }
          ]
         }
        },
        {
         "name": "urls",
         "dtype": "object",
         "stats": {
          "unique_count": 2,
          "nan_count": 0,
          "categories": [
           {
            "name": "[]",
            "count": 4
           },
           {
            "name": "['https://ideallya.github.io/news/MT/Q5MDMyMjUxODg1OTAwMjI5NjA3NjE3NDU2Njg5ODc2MzY1NzE1.html']",
            "count": 1
           }
          ]
         }
        },
        {
         "name": "photos",
         "dtype": "object",
         "stats": {
          "unique_count": 1,
          "nan_count": 0,
          "categories": [
           {
            "name": "[]",
            "count": 5
           }
          ]
         }
        },
        {
         "name": "replies_count",
         "dtype": "int64",
         "stats": {
          "unique_count": 1,
          "nan_count": 0,
          "min": "0",
          "max": "0",
          "histogram": [
           {
            "bin_start": -0.5,
            "bin_end": -0.4,
            "count": 0
           },
           {
            "bin_start": -0.4,
            "bin_end": -0.3,
            "count": 0
           },
           {
            "bin_start": -0.3,
            "bin_end": -0.19999999999999996,
            "count": 0
           },
           {
            "bin_start": -0.19999999999999996,
            "bin_end": -0.09999999999999998,
            "count": 0
           },
           {
            "bin_start": -0.09999999999999998,
            "bin_end": 0,
            "count": 0
           },
           {
            "bin_start": 0,
            "bin_end": 0.10000000000000009,
            "count": 5
           },
           {
            "bin_start": 0.10000000000000009,
            "bin_end": 0.20000000000000007,
            "count": 0
           },
           {
            "bin_start": 0.20000000000000007,
            "bin_end": 0.30000000000000004,
            "count": 0
           },
           {
            "bin_start": 0.30000000000000004,
            "bin_end": 0.4,
            "count": 0
           },
           {
            "bin_start": 0.4,
            "bin_end": 0.5,
            "count": 0
           }
          ]
         }
        },
        {
         "name": "retweets_count",
         "dtype": "int64",
         "stats": {
          "unique_count": 1,
          "nan_count": 0,
          "min": "0",
          "max": "0",
          "histogram": [
           {
            "bin_start": -0.5,
            "bin_end": -0.4,
            "count": 0
           },
           {
            "bin_start": -0.4,
            "bin_end": -0.3,
            "count": 0
           },
           {
            "bin_start": -0.3,
            "bin_end": -0.19999999999999996,
            "count": 0
           },
           {
            "bin_start": -0.19999999999999996,
            "bin_end": -0.09999999999999998,
            "count": 0
           },
           {
            "bin_start": -0.09999999999999998,
            "bin_end": 0,
            "count": 0
           },
           {
            "bin_start": 0,
            "bin_end": 0.10000000000000009,
            "count": 5
           },
           {
            "bin_start": 0.10000000000000009,
            "bin_end": 0.20000000000000007,
            "count": 0
           },
           {
            "bin_start": 0.20000000000000007,
            "bin_end": 0.30000000000000004,
            "count": 0
           },
           {
            "bin_start": 0.30000000000000004,
            "bin_end": 0.4,
            "count": 0
           },
           {
            "bin_start": 0.4,
            "bin_end": 0.5,
            "count": 0
           }
          ]
         }
        },
        {
         "name": "likes_count",
         "dtype": "int64",
         "stats": {
          "unique_count": 1,
          "nan_count": 0,
          "min": "0",
          "max": "0",
          "histogram": [
           {
            "bin_start": -0.5,
            "bin_end": -0.4,
            "count": 0
           },
           {
            "bin_start": -0.4,
            "bin_end": -0.3,
            "count": 0
           },
           {
            "bin_start": -0.3,
            "bin_end": -0.19999999999999996,
            "count": 0
           },
           {
            "bin_start": -0.19999999999999996,
            "bin_end": -0.09999999999999998,
            "count": 0
           },
           {
            "bin_start": -0.09999999999999998,
            "bin_end": 0,
            "count": 0
           },
           {
            "bin_start": 0,
            "bin_end": 0.10000000000000009,
            "count": 5
           },
           {
            "bin_start": 0.10000000000000009,
            "bin_end": 0.20000000000000007,
            "count": 0
           },
           {
            "bin_start": 0.20000000000000007,
            "bin_end": 0.30000000000000004,
            "count": 0
           },
           {
            "bin_start": 0.30000000000000004,
            "bin_end": 0.4,
            "count": 0
           },
           {
            "bin_start": 0.4,
            "bin_end": 0.5,
            "count": 0
           }
          ]
         }
        },
        {
         "name": "hashtags",
         "dtype": "object",
         "stats": {
          "unique_count": 2,
          "nan_count": 0,
          "categories": [
           {
            "name": "[]",
            "count": 4
           },
           {
            "name": "['childhood', 'health', 'safety', 'uk']",
            "count": 1
           }
          ]
         }
        },
        {
         "name": "cashtags",
         "dtype": "object",
         "stats": {
          "unique_count": 1,
          "nan_count": 0,
          "categories": [
           {
            "name": "[]",
            "count": 5
           }
          ]
         }
        },
        {
         "name": "link",
         "dtype": "object",
         "stats": {
          "unique_count": 5,
          "nan_count": 0,
          "categories": [
           {
            "name": "https://twitter.com/onionweigher/status/1523479063272525824",
            "count": 1
           },
           {
            "name": "https://twitter.com/griffinjones25/status/1523479009694158848",
            "count": 1
           },
           {
            "name": "3 others",
            "count": 3
           }
          ]
         }
        },
        {
         "name": "retweet",
         "dtype": "bool",
         "stats": {
          "unique_count": 1,
          "nan_count": 0,
          "categories": [
           {
            "name": "False",
            "count": 5
           }
          ]
         }
        },
        {
         "name": "video",
         "dtype": "int64",
         "stats": {
          "unique_count": 1,
          "nan_count": 0,
          "min": "0",
          "max": "0",
          "histogram": [
           {
            "bin_start": -0.5,
            "bin_end": -0.4,
            "count": 0
           },
           {
            "bin_start": -0.4,
            "bin_end": -0.3,
            "count": 0
           },
           {
            "bin_start": -0.3,
            "bin_end": -0.19999999999999996,
            "count": 0
           },
           {
            "bin_start": -0.19999999999999996,
            "bin_end": -0.09999999999999998,
            "count": 0
           },
           {
            "bin_start": -0.09999999999999998,
            "bin_end": 0,
            "count": 0
           },
           {
            "bin_start": 0,
            "bin_end": 0.10000000000000009,
            "count": 5
           },
           {
            "bin_start": 0.10000000000000009,
            "bin_end": 0.20000000000000007,
            "count": 0
           },
           {
            "bin_start": 0.20000000000000007,
            "bin_end": 0.30000000000000004,
            "count": 0
           },
           {
            "bin_start": 0.30000000000000004,
            "bin_end": 0.4,
            "count": 0
           },
           {
            "bin_start": 0.4,
            "bin_end": 0.5,
            "count": 0
           }
          ]
         }
        },
        {
         "name": "reply_to",
         "dtype": "object",
         "stats": {
          "unique_count": 3,
          "nan_count": 0,
          "categories": [
           {
            "name": "[]",
            "count": 2
           },
           {
            "name": "[{'screen_name': 'stargazeruk7', 'name': 'Natalie.k7', 'id': '1516860721862254592'}]",
            "count": 2
           },
           {
            "name": "[{'screen_name': 'GovPierluisi', 'name': 'Gobernador Pierluisi', 'id': '386766931'}]",
            "count": 1
           }
          ]
         }
        },
        {
         "name": "_deepnote_index_column",
         "dtype": "int64"
        }
       ],
       "rows": [
        {
         "id": "1523479063272525824",
         "conversation_id": "1523479063272525824",
         "created_at": "2022-05-08 22:44:48 -03",
         "date": "2022-05-08",
         "time": "22:44:48",
         "timezone": -300,
         "user_id": "49024508",
         "username": "onionweigher",
         "tweet": "Tried to take my children to Chi-Chi's but it was a wasteland. No sneeze guard at the salad bar, the employees had cell phones, two vast and trunkless legs of stone stood desolately next to the restrooms. Grew up with salsafication and hepatitis A outbreaks. It's all gone now.",
         "language": "en",
         "mentions": "[]",
         "urls": "[]",
         "photos": "[]",
         "replies_count": 0,
         "retweets_count": 0,
         "likes_count": 0,
         "hashtags": "[]",
         "cashtags": "[]",
         "link": "https://twitter.com/onionweigher/status/1523479063272525824",
         "retweet": false,
         "video": 0,
         "reply_to": "[]",
         "_deepnote_index_column": 0
        },
        {
         "id": "1523479009694158848",
         "conversation_id": "1523418175878037504",
         "created_at": "2022-05-08 22:44:35 -03",
         "date": "2022-05-08",
         "time": "22:44:35",
         "timezone": -300,
         "user_id": "2726837169",
         "username": "griffinjones25",
         "tweet": "@stargazeruk7 Hep A like you mention is an entirely different disease than autoimmune hepatitis.",
         "language": "en",
         "mentions": "[]",
         "urls": "[]",
         "photos": "[]",
         "replies_count": 0,
         "retweets_count": 0,
         "likes_count": 0,
         "hashtags": "[]",
         "cashtags": "[]",
         "link": "https://twitter.com/griffinjones25/status/1523479009694158848",
         "retweet": false,
         "video": 0,
         "reply_to": "[{'screen_name': 'stargazeruk7', 'name': 'Natalie.k7', 'id': '1516860721862254592'}]",
         "_deepnote_index_column": 1
        },
        {
         "id": "1523478947115139072",
         "conversation_id": "1523478947115139072",
         "created_at": "2022-05-08 22:44:20 -03",
         "date": "2022-05-08",
         "time": "22:44:20",
         "timezone": -300,
         "user_id": "1452730505787551750",
         "username": "ideallyanews",
         "tweet": "UK Health Safety Authority: No evidence linking childhood hepatitis of unknown etiology to COVID-19 vaccine - #childhood #health #safety #uk  https://t.co/tgVOtRdnGE",
         "language": "en",
         "mentions": "[]",
         "urls": "['https://ideallya.github.io/news/MT/Q5MDMyMjUxODg1OTAwMjI5NjA3NjE3NDU2Njg5ODc2MzY1NzE1.html']",
         "photos": "[]",
         "replies_count": 0,
         "retweets_count": 0,
         "likes_count": 0,
         "hashtags": "['childhood', 'health', 'safety', 'uk']",
         "cashtags": "[]",
         "link": "https://twitter.com/IdeallyaNews/status/1523478947115139072",
         "retweet": false,
         "video": 0,
         "reply_to": "[]",
         "_deepnote_index_column": 2
        },
        {
         "id": "1523478841125048320",
         "conversation_id": "1523418175878037504",
         "created_at": "2022-05-08 22:43:55 -03",
         "date": "2022-05-08",
         "time": "22:43:55",
         "timezone": -300,
         "user_id": "2726837169",
         "username": "griffinjones25",
         "tweet": "@stargazeruk7 Autoimmune hepatitis cannot spread in any way shape or form,",
         "language": "en",
         "mentions": "[]",
         "urls": "[]",
         "photos": "[]",
         "replies_count": 0,
         "retweets_count": 0,
         "likes_count": 0,
         "hashtags": "[]",
         "cashtags": "[]",
         "link": "https://twitter.com/griffinjones25/status/1523478841125048320",
         "retweet": false,
         "video": 0,
         "reply_to": "[{'screen_name': 'stargazeruk7', 'name': 'Natalie.k7', 'id': '1516860721862254592'}]",
         "_deepnote_index_column": 3
        },
        {
         "id": "1523478649827078144",
         "conversation_id": "1523425745657245697",
         "created_at": "2022-05-08 22:43:09 -03",
         "date": "2022-05-08",
         "time": "22:43:09",
         "timezone": -300,
         "user_id": "1467606239119089676",
         "username": "olganie35346372",
         "tweet": "@GovPierluisi La fé??? Usted sabe lo que es eso, vacunado niños que ahora están saliendo con hepatitis misteriosamente verdad y la kk de mascarilla que tú no usas ah! y el covitarro de mentiras.",
         "language": "es",
         "mentions": "[]",
         "urls": "[]",
         "photos": "[]",
         "replies_count": 0,
         "retweets_count": 0,
         "likes_count": 0,
         "hashtags": "[]",
         "cashtags": "[]",
         "link": "https://twitter.com/OlgaNie35346372/status/1523478649827078144",
         "retweet": false,
         "video": 0,
         "reply_to": "[{'screen_name': 'GovPierluisi', 'name': 'Gobernador Pierluisi', 'id': '386766931'}]",
         "_deepnote_index_column": 4
        }
       ]
      },
      "text/plain": "                    id      conversation_id               created_at  \\\n0  1523479063272525824  1523479063272525824  2022-05-08 22:44:48 -03   \n1  1523479009694158848  1523418175878037504  2022-05-08 22:44:35 -03   \n2  1523478947115139072  1523478947115139072  2022-05-08 22:44:20 -03   \n3  1523478841125048320  1523418175878037504  2022-05-08 22:43:55 -03   \n4  1523478649827078144  1523425745657245697  2022-05-08 22:43:09 -03   \n\n         date      time  timezone              user_id         username  \\\n0  2022-05-08  22:44:48      -300             49024508     onionweigher   \n1  2022-05-08  22:44:35      -300           2726837169   griffinjones25   \n2  2022-05-08  22:44:20      -300  1452730505787551750     ideallyanews   \n3  2022-05-08  22:43:55      -300           2726837169   griffinjones25   \n4  2022-05-08  22:43:09      -300  1467606239119089676  olganie35346372   \n\n                                               tweet language  ... photos  \\\n0  Tried to take my children to Chi-Chi's but it ...       en  ...     []   \n1  @stargazeruk7 Hep A like you mention is an ent...       en  ...     []   \n2  UK Health Safety Authority: No evidence linkin...       en  ...     []   \n3  @stargazeruk7 Autoimmune hepatitis cannot spre...       en  ...     []   \n4  @GovPierluisi La fé??? Usted sabe lo que es es...       es  ...     []   \n\n  replies_count retweets_count  likes_count  \\\n0             0              0            0   \n1             0              0            0   \n2             0              0            0   \n3             0              0            0   \n4             0              0            0   \n\n                                  hashtags  cashtags  \\\n0                                       []        []   \n1                                       []        []   \n2  ['childhood', 'health', 'safety', 'uk']        []   \n3                                       []        []   \n4                                       []        []   \n\n                                                link retweet video  \\\n0  https://twitter.com/onionweigher/status/152347...   False     0   \n1  https://twitter.com/griffinjones25/status/1523...   False     0   \n2  https://twitter.com/IdeallyaNews/status/152347...   False     0   \n3  https://twitter.com/griffinjones25/status/1523...   False     0   \n4  https://twitter.com/OlgaNie35346372/status/152...   False     0   \n\n                                            reply_to  \n0                                                 []  \n1  [{'screen_name': 'stargazeruk7', 'name': 'Nata...  \n2                                                 []  \n3  [{'screen_name': 'stargazeruk7', 'name': 'Nata...  \n4  [{'screen_name': 'GovPierluisi', 'name': 'Gobe...  \n\n[5 rows x 22 columns]",
      "text/html": "<div>\n<style scoped>\n    .dataframe tbody tr th:only-of-type {\n        vertical-align: middle;\n    }\n\n    .dataframe tbody tr th {\n        vertical-align: top;\n    }\n\n    .dataframe thead th {\n        text-align: right;\n    }\n</style>\n<table border=\"1\" class=\"dataframe\">\n  <thead>\n    <tr style=\"text-align: right;\">\n      <th></th>\n      <th>id</th>\n      <th>conversation_id</th>\n      <th>created_at</th>\n      <th>date</th>\n      <th>time</th>\n      <th>timezone</th>\n      <th>user_id</th>\n      <th>username</th>\n      <th>tweet</th>\n      <th>language</th>\n      <th>...</th>\n      <th>photos</th>\n      <th>replies_count</th>\n      <th>retweets_count</th>\n      <th>likes_count</th>\n      <th>hashtags</th>\n      <th>cashtags</th>\n      <th>link</th>\n      <th>retweet</th>\n      <th>video</th>\n      <th>reply_to</th>\n    </tr>\n  </thead>\n  <tbody>\n    <tr>\n      <th>0</th>\n      <td>1523479063272525824</td>\n      <td>1523479063272525824</td>\n      <td>2022-05-08 22:44:48 -03</td>\n      <td>2022-05-08</td>\n      <td>22:44:48</td>\n      <td>-300</td>\n      <td>49024508</td>\n      <td>onionweigher</td>\n      <td>Tried to take my children to Chi-Chi's but it ...</td>\n      <td>en</td>\n      <td>...</td>\n      <td>[]</td>\n      <td>0</td>\n      <td>0</td>\n      <td>0</td>\n      <td>[]</td>\n      <td>[]</td>\n      <td>https://twitter.com/onionweigher/status/152347...</td>\n      <td>False</td>\n      <td>0</td>\n      <td>[]</td>\n    </tr>\n    <tr>\n      <th>1</th>\n      <td>1523479009694158848</td>\n      <td>1523418175878037504</td>\n      <td>2022-05-08 22:44:35 -03</td>\n      <td>2022-05-08</td>\n      <td>22:44:35</td>\n      <td>-300</td>\n      <td>2726837169</td>\n      <td>griffinjones25</td>\n      <td>@stargazeruk7 Hep A like you mention is an ent...</td>\n      <td>en</td>\n      <td>...</td>\n      <td>[]</td>\n      <td>0</td>\n      <td>0</td>\n      <td>0</td>\n      <td>[]</td>\n      <td>[]</td>\n      <td>https://twitter.com/griffinjones25/status/1523...</td>\n      <td>False</td>\n      <td>0</td>\n      <td>[{'screen_name': 'stargazeruk7', 'name': 'Nata...</td>\n    </tr>\n    <tr>\n      <th>2</th>\n      <td>1523478947115139072</td>\n      <td>1523478947115139072</td>\n      <td>2022-05-08 22:44:20 -03</td>\n      <td>2022-05-08</td>\n      <td>22:44:20</td>\n      <td>-300</td>\n      <td>1452730505787551750</td>\n      <td>ideallyanews</td>\n      <td>UK Health Safety Authority: No evidence linkin...</td>\n      <td>en</td>\n      <td>...</td>\n      <td>[]</td>\n      <td>0</td>\n      <td>0</td>\n      <td>0</td>\n      <td>['childhood', 'health', 'safety', 'uk']</td>\n      <td>[]</td>\n      <td>https://twitter.com/IdeallyaNews/status/152347...</td>\n      <td>False</td>\n      <td>0</td>\n      <td>[]</td>\n    </tr>\n    <tr>\n      <th>3</th>\n      <td>1523478841125048320</td>\n      <td>1523418175878037504</td>\n      <td>2022-05-08 22:43:55 -03</td>\n      <td>2022-05-08</td>\n      <td>22:43:55</td>\n      <td>-300</td>\n      <td>2726837169</td>\n      <td>griffinjones25</td>\n      <td>@stargazeruk7 Autoimmune hepatitis cannot spre...</td>\n      <td>en</td>\n      <td>...</td>\n      <td>[]</td>\n      <td>0</td>\n      <td>0</td>\n      <td>0</td>\n      <td>[]</td>\n      <td>[]</td>\n      <td>https://twitter.com/griffinjones25/status/1523...</td>\n      <td>False</td>\n      <td>0</td>\n      <td>[{'screen_name': 'stargazeruk7', 'name': 'Nata...</td>\n    </tr>\n    <tr>\n      <th>4</th>\n      <td>1523478649827078144</td>\n      <td>1523425745657245697</td>\n      <td>2022-05-08 22:43:09 -03</td>\n      <td>2022-05-08</td>\n      <td>22:43:09</td>\n      <td>-300</td>\n      <td>1467606239119089676</td>\n      <td>olganie35346372</td>\n      <td>@GovPierluisi La fé??? Usted sabe lo que es es...</td>\n      <td>es</td>\n      <td>...</td>\n      <td>[]</td>\n      <td>0</td>\n      <td>0</td>\n      <td>0</td>\n      <td>[]</td>\n      <td>[]</td>\n      <td>https://twitter.com/OlgaNie35346372/status/152...</td>\n      <td>False</td>\n      <td>0</td>\n      <td>[{'screen_name': 'GovPierluisi', 'name': 'Gobe...</td>\n    </tr>\n  </tbody>\n</table>\n<p>5 rows × 22 columns</p>\n</div>"
     },
     "metadata": {}
    }
   ]
  },
  {
   "cell_type": "markdown",
   "source": "# ANALISIS",
   "metadata": {
    "id": "zkQnk7A2dVrt",
    "cell_id": "00010-83c94b1f-a72a-471b-818f-7c305a8d0f65",
    "deepnote_cell_type": "markdown",
    "deepnote_cell_height": 82
   }
  },
  {
   "cell_type": "code",
   "metadata": {
    "cell_id": "455626b410964c2c8bb9b9b6e3cb65b5",
    "tags": [],
    "deepnote_to_be_reexecuted": false,
    "source_hash": "a772dc68",
    "execution_start": 1657632235430,
    "execution_millis": 140,
    "deepnote_cell_type": "code",
    "deepnote_cell_height": 636.2000122070312,
    "deepnote_output_heights": [
     null,
     233
    ]
   },
   "source": "# Grafico de tortas de likes modificado para que muestre los 4 mas importantes y al resto ...\n\nlikes_por2 = df['likes_count'].value_counts().sort_values(ascending=False)[:4]\nlikes_por2[4] = df['likes_count'].value_counts().sort_values(ascending=False)[4:].sum()\nprint (likes_por2)\ncolores = ['silver','green', 'grey','coral','cyan']\nlabels = ['0 likes','1 likes','2 likes', '3 likes','más likes']\nplt.pie(x=likes_por2, colors = colores, autopct='%1.2f%%', shadow=True, labels=labels)\n\nplt.show()",
   "execution_count": null,
   "outputs": [
    {
     "name": "stdout",
     "text": "0    28099\n1     7734\n2     3407\n3     1808\n4     8954\nName: likes_count, dtype: int64\n",
     "output_type": "stream"
    },
    {
     "data": {
      "text/plain": "<Figure size 432x288 with 1 Axes>",
      "image/png": "[encoded data removed]"
     },
     "metadata": {
      "image/png": {
       "width": 250,
       "height": 231
      }
     },
     "output_type": "display_data"
    }
   ]
  },
  {
   "cell_type": "markdown",
   "source": "Como se ve, más de la mitad de los tweets no tienen likes, o tienen muy pocos. Entre 0,1 y 2 likes ocupan más de tres cuartos de la torta, de lo que se sigue que gran parte de los publicado no tiene tiene importancia para los otros usuarios.",
   "metadata": {
    "id": "hpC9kJBnc569",
    "cell_id": "00014-551fc6c0-f45e-4df0-8fdc-3e9fc2986611",
    "deepnote_cell_type": "markdown",
    "deepnote_cell_height": 74.80000305175781
   }
  },
  {
   "cell_type": "code",
   "metadata": {
    "cell_id": "dd3324f75d8a4facab01814a53897f41",
    "tags": [],
    "deepnote_to_be_reexecuted": false,
    "source_hash": "f9bebd59",
    "execution_start": 1657632235572,
    "execution_millis": 206,
    "deepnote_cell_type": "code",
    "deepnote_cell_height": 636.2000122070312,
    "deepnote_output_heights": [
     null,
     233
    ]
   },
   "source": "# Grafico de tortas de retweets modificado para que muestre los 4 mas importantes y al resto ...\n\nretweet_por2 = df['retweets_count'].value_counts().sort_values(ascending=False)[:4]\nretweet_por2[4] = df['retweets_count'].value_counts().sort_values(ascending=False)[4:].sum()\nprint (retweet_por2)\ncolores = ['silver','green', 'grey','coral','cyan']\nlabels = ['0 retweets','1 retweets','2 retweets', '3 retweets','más retweets']\nplt.pie(x=retweet_por2, colors = colores, autopct='%1.2f%%', shadow=True, labels=labels)\n\nplt.show()",
   "execution_count": null,
   "outputs": [
    {
     "name": "stdout",
     "text": "0    37197\n1     5250\n2     2019\n3     1234\n4     4302\nName: retweets_count, dtype: int64\n",
     "output_type": "stream"
    },
    {
     "data": {
      "text/plain": "<Figure size 432x288 with 1 Axes>",
      "image/png": "[encoded data removed]"
     },
     "metadata": {
      "image/png": {
       "width": 293,
       "height": 231
      }
     },
     "output_type": "display_data"
    }
   ]
  },
  {
   "cell_type": "markdown",
   "source": "Con los retweets se agudiza la tendencia marcada anteriormente, 3/4 de la torta no tiene retweet.",
   "metadata": {
    "id": "ElAdd93mdhgU",
    "cell_id": "00017-e371a9a7-581b-4d13-9ca4-4e1447093f33",
    "deepnote_cell_type": "markdown",
    "deepnote_cell_height": 52.399993896484375
   }
  },
  {
   "cell_type": "code",
   "metadata": {
    "cell_id": "4e6185c1706b4112957b6f775efd7047",
    "tags": [],
    "deepnote_to_be_reexecuted": false,
    "source_hash": "f6bcbdee",
    "execution_start": 1657632235777,
    "execution_millis": 780,
    "deepnote_cell_type": "code",
    "deepnote_cell_height": 636.2000122070312,
    "deepnote_output_heights": [
     null,
     233
    ]
   },
   "source": "# Grafico de tortas de respuestas modificado para que muestre los 4 mas importantes y al resto ...\n\nreplies_por2 = df['replies_count'].value_counts().sort_values(ascending=False)[:4]\nreplies_por2[4] = df['replies_count'].value_counts().sort_values(ascending=False)[4:].sum()\nprint (replies_por2)\ncolores = ['silver','green', 'grey','coral','cyan']\nlabels = ['0 respuestas','1 respuesta','2 respuestas', '3 respuestas','más respuestas']\nplt.pie(x=replies_por2, colors = colores, autopct='%1.2f%%', shadow=True, labels=labels)\n\nplt.show()",
   "execution_count": null,
   "outputs": [
    {
     "name": "stdout",
     "text": "0    36363\n1     8963\n2     2094\n3      841\n4     1741\nName: replies_count, dtype: int64\n",
     "output_type": "stream"
    },
    {
     "data": {
      "text/plain": "<Figure size 432x288 with 1 Axes>",
      "image/png": "[encoded data removed]"
     },
     "metadata": {
      "image/png": {
       "width": 314,
       "height": 231
      }
     },
     "output_type": "display_data"
    }
   ]
  },
  {
   "cell_type": "markdown",
   "source": "Mismo panorama que venimos describiendo anteriormente: el 72% de los tweets no tienen respuesta, solo el 17 tiene una respuesta.",
   "metadata": {
    "id": "hRAvozgNd0ZY",
    "cell_id": "00021-a3535a16-6e2d-4c00-82ce-57a08f7e9b17",
    "deepnote_cell_type": "markdown",
    "deepnote_cell_height": 74.80000305175781
   }
  },
  {
   "cell_type": "markdown",
   "source": "**Para el análisis multivariado nos centraremos en los \"hilos\" con más intervenciones en el dataset**",
   "metadata": {
    "id": "eDaRFKCqqU2v",
    "cell_id": "00022-9ca9472a-a3f5-4a70-afa8-ea67ee29c05e",
    "deepnote_cell_type": "markdown",
    "deepnote_cell_height": 52.399993896484375
   }
  },
  {
   "cell_type": "code",
   "metadata": {
    "id": "s0nqEHtJbKYg",
    "cell_id": "00023-68bbaebc-c1b3-45f0-883f-5768302a146a",
    "deepnote_to_be_reexecuted": false,
    "source_hash": "132ab0a8",
    "execution_start": 1657632236040,
    "execution_millis": 14,
    "deepnote_cell_type": "code",
    "deepnote_cell_height": 81
   },
   "source": "conv_id = df['conversation_id'].value_counts().sort_values(ascending=False)[:10]",
   "execution_count": null,
   "outputs": []
  },
  {
   "cell_type": "code",
   "metadata": {
    "colab": {
     "base_uri": "https://localhost:8080/"
    },
    "id": "RF3RYeWce2te",
    "outputId": "7b9f523e-ea34-4871-85f9-a338ec2e944f",
    "cell_id": "00024-41c904ec-ea73-4e72-9ff4-281f4e02b7ea",
    "deepnote_to_be_reexecuted": false,
    "source_hash": "7aaaa1f0",
    "execution_start": 1657632236075,
    "execution_millis": 491,
    "deepnote_cell_type": "code",
    "deepnote_cell_height": 310,
    "deepnote_output_heights": [
     213
    ]
   },
   "source": "conv_id",
   "execution_count": null,
   "outputs": [
    {
     "output_type": "execute_result",
     "execution_count": 14,
     "data": {
      "text/plain": "1521106997395206144    232\n1520979918452305920    158\n1523050102298152960     95\n1522190680826986496     83\n1521185561658236930     77\n1520283624225996801     71\n1521077967178317825     66\n1521514123967619073     65\n1522635878056796162     60\n1521440159426039808     57\nName: conversation_id, dtype: int64"
     },
     "metadata": {}
    }
   ]
  },
  {
   "cell_type": "code",
   "metadata": {
    "colab": {
     "base_uri": "https://localhost:8080/",
     "height": 376
    },
    "id": "RV4zyKHgnrqX",
    "outputId": "4674771a-a806-4464-86a1-60670ef32fe4",
    "cell_id": "00025-b70974db-5cd8-48b0-9281-e58cd4b59157",
    "deepnote_to_be_reexecuted": false,
    "source_hash": "5f34cc91",
    "execution_start": 1657632236122,
    "execution_millis": 471,
    "deepnote_cell_type": "code",
    "deepnote_cell_height": 494,
    "deepnote_output_heights": [
     361
    ]
   },
   "source": "# Graficamos las 10 conversaciones más importantes por likes\n\nax = conv_id.plot.bar(y='Likes', x='conversation id', rot=90)",
   "execution_count": null,
   "outputs": [
    {
     "data": {
      "text/plain": "<Figure size 432x288 with 1 Axes>",
      "image/png": "[encoded data removed]"
     },
     "metadata": {
      "needs_background": "light",
      "image/png": {
       "width": 375,
       "height": 359
      }
     },
     "output_type": "display_data"
    }
   ]
  },
  {
   "cell_type": "markdown",
   "source": "**Realizaremos algunos cortes en los datos para constatar lo que venimos exponiendo:**",
   "metadata": {
    "id": "DBagxDSqciA-",
    "cell_id": "00026-15ffda9d-4847-4e89-a3a6-5e2b933c6e21",
    "deepnote_cell_type": "markdown",
    "deepnote_cell_height": 52.399993896484375
   }
  },
  {
   "cell_type": "code",
   "metadata": {
    "colab": {
     "base_uri": "https://localhost:8080/"
    },
    "id": "r64mrKxP4Pyl",
    "outputId": "a56ab682-2de8-4cc8-9d8f-b916042035d1",
    "cell_id": "00027-f99cb7f0-45fb-426c-a8bf-c617fd2f6052",
    "deepnote_to_be_reexecuted": false,
    "source_hash": "9988c47e",
    "execution_start": 1657632236374,
    "execution_millis": 229,
    "deepnote_cell_type": "code",
    "deepnote_cell_height": 383,
    "deepnote_output_heights": [
     232
    ]
   },
   "source": "# Corte a los 39000 tw, llegan hasta 2 likes\n\nconv_id2 = df['conversation_id'].value_counts().sort_values(ascending=True)[:39000]\nconv_id2",
   "execution_count": null,
   "outputs": [
    {
     "output_type": "execute_result",
     "execution_count": 16,
     "data": {
      "text/plain": "1521776121070571520    1\n1522799175443877889    1\n1522909111725158400    1\n1522918994902241281    1\n1523344206642937861    1\n                      ..\n1520335049840812033    2\n1521491312519880711    2\n1521801431069577217    2\n1522008848466575360    2\n1521100095801987072    2\nName: conversation_id, Length: 39000, dtype: int64"
     },
     "metadata": {}
    }
   ]
  },
  {
   "cell_type": "code",
   "metadata": {
    "colab": {
     "base_uri": "https://localhost:8080/"
    },
    "id": "SrSWQryO4qT3",
    "outputId": "0349603e-59dc-4e8f-ad1c-d6279fcb4fc4",
    "cell_id": "00028-7e2e3a82-c4bf-4181-b3d3-83dfd26a06ea",
    "deepnote_to_be_reexecuted": false,
    "source_hash": "99218cb",
    "execution_start": 1657632236375,
    "execution_millis": 228,
    "deepnote_cell_type": "code",
    "deepnote_cell_height": 383,
    "deepnote_output_heights": [
     232
    ]
   },
   "source": "# Corte entre 39k y 40k, pasan de 2 a 232 likes.\n\nconv_id3 = df['conversation_id'].value_counts().sort_values(ascending=True)[39000:49000]\nconv_id3",
   "execution_count": null,
   "outputs": [
    {
     "output_type": "execute_result",
     "execution_count": 17,
     "data": {
      "text/plain": "1521466769143046144      2\n1521738653734604801      2\n1520465397350338562      2\n1522666488439750659      2\n1523286545209257991      2\n                      ... \n1521185561658236930     77\n1522190680826986496     83\n1523050102298152960     95\n1520979918452305920    158\n1521106997395206144    232\nName: conversation_id, Length: 2025, dtype: int64"
     },
     "metadata": {}
    }
   ]
  },
  {
   "cell_type": "code",
   "metadata": {
    "colab": {
     "base_uri": "https://localhost:8080/",
     "height": 376
    },
    "id": "4pcL_Jlj40NF",
    "outputId": "842acf19-ca9e-4d5c-dc76-f19c6ddb2ac0",
    "cell_id": "00029-a3be2821-f95e-432c-a2ce-296f087709ab",
    "deepnote_to_be_reexecuted": false,
    "source_hash": "203757e6",
    "execution_start": 1657632236420,
    "execution_millis": 436,
    "deepnote_cell_type": "code",
    "deepnote_cell_height": 494,
    "deepnote_output_heights": [
     361
    ]
   },
   "source": "# Graficamos logaritmicament el último corte para visualizar mejor el aumento exponencial de likes\n\nax2 = conv_id3.plot.line(y='Likes', x='conversation id', rot=90, logy=True)",
   "execution_count": null,
   "outputs": [
    {
     "data": {
      "text/plain": "<Figure size 432x288 with 1 Axes>",
      "image/png": "[encoded data removed]"
     },
     "metadata": {
      "needs_background": "light",
      "image/png": {
       "width": 374,
       "height": 359
      }
     },
     "output_type": "display_data"
    }
   ]
  },
  {
   "cell_type": "code",
   "metadata": {
    "colab": {
     "base_uri": "https://localhost:8080/",
     "height": 525
    },
    "id": "78vqZlO6SEny",
    "outputId": "dca0525f-4c7f-48c3-a39b-5b91cf3138e3",
    "cell_id": "00030-56eaeb9a-41b4-42a9-b052-1fb97297417c",
    "deepnote_to_be_reexecuted": false,
    "source_hash": "6b4b288d",
    "execution_start": 1657632236861,
    "execution_millis": 86,
    "deepnote_cell_type": "code",
    "deepnote_cell_height": 466
   },
   "source": "# Filtramos el dataset para trabajar con las 10 conversaciones más importantes\n\nconv = df[df.conversation_id.isin(['1523050102298152960', '1522635878056796162','1522735443636363264', '1522960077023457280','1522986274365259780', '1523386087359787008','1522766337273171968', '1523162675571662848','1522505145392799744', '1522769843149287427'])]\nconv.head()",
   "execution_count": null,
   "outputs": [
    {
     "output_type": "execute_result",
     "execution_count": 19,
     "data": {
      "application/vnd.deepnote.dataframe.v3+json": {
       "column_count": 22,
       "row_count": 5,
       "columns": [
        {
         "name": "id",
         "dtype": "object",
         "stats": {
          "unique_count": 5,
          "nan_count": 0,
          "categories": [
           {
            "name": "1523475450365849602",
            "count": 1
           },
           {
            "name": "1523472918692663297",
            "count": 1
           },
           {
            "name": "3 others",
            "count": 3
           }
          ]
         }
        },
        {
         "name": "conversation_id",
         "dtype": "object",
         "stats": {
          "unique_count": 2,
          "nan_count": 0,
          "categories": [
           {
            "name": "1523386087359787008",
            "count": 3
           },
           {
            "name": "1523162675571662848",
            "count": 2
           }
          ]
         }
        },
        {
         "name": "created_at",
         "dtype": "object",
         "stats": {
          "unique_count": 5,
          "nan_count": 0,
          "categories": [
           {
            "name": "2022-05-08 22:30:26 -03",
            "count": 1
           },
           {
            "name": "2022-05-08 22:20:23 -03",
            "count": 1
           },
           {
            "name": "3 others",
            "count": 3
           }
          ]
         }
        },
        {
         "name": "date",
         "dtype": "object",
         "stats": {
          "unique_count": 1,
          "nan_count": 0,
          "categories": [
           {
            "name": "2022-05-08",
            "count": 5
           }
          ]
         }
        },
        {
         "name": "time",
         "dtype": "object",
         "stats": {
          "unique_count": 5,
          "nan_count": 0,
          "categories": [
           {
            "name": "22:30:26",
            "count": 1
           },
           {
            "name": "22:20:23",
            "count": 1
           },
           {
            "name": "3 others",
            "count": 3
           }
          ]
         }
        },
        {
         "name": "timezone",
         "dtype": "int64",
         "stats": {
          "unique_count": 1,
          "nan_count": 0,
          "min": "-300",
          "max": "-300",
          "histogram": [
           {
            "bin_start": -300.5,
            "bin_end": -300.4,
            "count": 0
           },
           {
            "bin_start": -300.4,
            "bin_end": -300.3,
            "count": 0
           },
           {
            "bin_start": -300.3,
            "bin_end": -300.2,
            "count": 0
           },
           {
            "bin_start": -300.2,
            "bin_end": -300.1,
            "count": 0
           },
           {
            "bin_start": -300.1,
            "bin_end": -300,
            "count": 0
           },
           {
            "bin_start": -300,
            "bin_end": -299.9,
            "count": 5
           },
           {
            "bin_start": -299.9,
            "bin_end": -299.8,
            "count": 0
           },
           {
            "bin_start": -299.8,
            "bin_end": -299.7,
            "count": 0
           },
           {
            "bin_start": -299.7,
            "bin_end": -299.6,
            "count": 0
           },
           {
            "bin_start": -299.6,
            "bin_end": -299.5,
            "count": 0
           }
          ]
         }
        },
        {
         "name": "user_id",
         "dtype": "object",
         "stats": {
          "unique_count": 5,
          "nan_count": 0,
          "categories": [
           {
            "name": "1439204039695093766",
            "count": 1
           },
           {
            "name": "1276275205673848838",
            "count": 1
           },
           {
            "name": "3 others",
            "count": 3
           }
          ]
         }
        },
        {
         "name": "username",
         "dtype": "object",
         "stats": {
          "unique_count": 5,
          "nan_count": 0,
          "categories": [
           {
            "name": "sciencefirstok",
            "count": 1
           },
           {
            "name": "zbasyouny",
            "count": 1
           },
           {
            "name": "3 others",
            "count": 3
           }
          ]
         }
        },
        {
         "name": "tweet",
         "dtype": "object",
         "stats": {
          "unique_count": 5,
          "nan_count": 0,
          "categories": [
           {
            "name": "@ZBasyouny @EckerleIsabella If it's an autoimmune response causing the hepatitis, would there be an expectation of a strong correlation with current viral load? The original cause of the aberrant autoimmune response wouldn't even need to be present anymore, would it?",
            "count": 1
           },
           {
            "name": "@EckerleIsabella There is an aspect of autoimmune hepatitis that we just can’t link yet",
            "count": 1
           },
           {
            "name": "3 others",
            "count": 3
           }
          ]
         }
        },
        {
         "name": "language",
         "dtype": "object",
         "stats": {
          "unique_count": 2,
          "nan_count": 0,
          "categories": [
           {
            "name": "en",
            "count": 3
           },
           {
            "name": "es",
            "count": 2
           }
          ]
         }
        },
        {
         "name": "mentions",
         "dtype": "object",
         "stats": {
          "unique_count": 1,
          "nan_count": 0,
          "categories": [
           {
            "name": "[]",
            "count": 5
           }
          ]
         }
        },
        {
         "name": "urls",
         "dtype": "object",
         "stats": {
          "unique_count": 1,
          "nan_count": 0,
          "categories": [
           {
            "name": "[]",
            "count": 5
           }
          ]
         }
        },
        {
         "name": "photos",
         "dtype": "object",
         "stats": {
          "unique_count": 2,
          "nan_count": 0,
          "categories": [
           {
            "name": "[]",
            "count": 4
           },
           {
            "name": "['https://pbs.twimg.com/media/FSRvC8tX0AA_zXI.png']",
            "count": 1
           }
          ]
         }
        },
        {
         "name": "replies_count",
         "dtype": "int64",
         "stats": {
          "unique_count": 2,
          "nan_count": 0,
          "min": "0",
          "max": "1",
          "histogram": [
           {
            "bin_start": 0,
            "bin_end": 0.1,
            "count": 4
           },
           {
            "bin_start": 0.1,
            "bin_end": 0.2,
            "count": 0
           },
           {
            "bin_start": 0.2,
            "bin_end": 0.30000000000000004,
            "count": 0
           },
           {
            "bin_start": 0.30000000000000004,
            "bin_end": 0.4,
            "count": 0
           },
           {
            "bin_start": 0.4,
            "bin_end": 0.5,
            "count": 0
           },
           {
            "bin_start": 0.5,
            "bin_end": 0.6000000000000001,
            "count": 0
           },
           {
            "bin_start": 0.6000000000000001,
            "bin_end": 0.7000000000000001,
            "count": 0
           },
           {
            "bin_start": 0.7000000000000001,
            "bin_end": 0.8,
            "count": 0
           },
           {
            "bin_start": 0.8,
            "bin_end": 0.9,
            "count": 0
           },
           {
            "bin_start": 0.9,
            "bin_end": 1,
            "count": 1
           }
          ]
         }
        },
        {
         "name": "retweets_count",
         "dtype": "int64",
         "stats": {
          "unique_count": 1,
          "nan_count": 0,
          "min": "0",
          "max": "0",
          "histogram": [
           {
            "bin_start": -0.5,
            "bin_end": -0.4,
            "count": 0
           },
           {
            "bin_start": -0.4,
            "bin_end": -0.3,
            "count": 0
           },
           {
            "bin_start": -0.3,
            "bin_end": -0.19999999999999996,
            "count": 0
           },
           {
            "bin_start": -0.19999999999999996,
            "bin_end": -0.09999999999999998,
            "count": 0
           },
           {
            "bin_start": -0.09999999999999998,
            "bin_end": 0,
            "count": 0
           },
           {
            "bin_start": 0,
            "bin_end": 0.10000000000000009,
            "count": 5
           },
           {
            "bin_start": 0.10000000000000009,
            "bin_end": 0.20000000000000007,
            "count": 0
           },
           {
            "bin_start": 0.20000000000000007,
            "bin_end": 0.30000000000000004,
            "count": 0
           },
           {
            "bin_start": 0.30000000000000004,
            "bin_end": 0.4,
            "count": 0
           },
           {
            "bin_start": 0.4,
            "bin_end": 0.5,
            "count": 0
           }
          ]
         }
        },
        {
         "name": "likes_count",
         "dtype": "int64",
         "stats": {
          "unique_count": 1,
          "nan_count": 0,
          "min": "0",
          "max": "0",
          "histogram": [
           {
            "bin_start": -0.5,
            "bin_end": -0.4,
            "count": 0
           },
           {
            "bin_start": -0.4,
            "bin_end": -0.3,
            "count": 0
           },
           {
            "bin_start": -0.3,
            "bin_end": -0.19999999999999996,
            "count": 0
           },
           {
            "bin_start": -0.19999999999999996,
            "bin_end": -0.09999999999999998,
            "count": 0
           },
           {
            "bin_start": -0.09999999999999998,
            "bin_end": 0,
            "count": 0
           },
           {
            "bin_start": 0,
            "bin_end": 0.10000000000000009,
            "count": 5
           },
           {
            "bin_start": 0.10000000000000009,
            "bin_end": 0.20000000000000007,
            "count": 0
           },
           {
            "bin_start": 0.20000000000000007,
            "bin_end": 0.30000000000000004,
            "count": 0
           },
           {
            "bin_start": 0.30000000000000004,
            "bin_end": 0.4,
            "count": 0
           },
           {
            "bin_start": 0.4,
            "bin_end": 0.5,
            "count": 0
           }
          ]
         }
        },
        {
         "name": "hashtags",
         "dtype": "object",
         "stats": {
          "unique_count": 1,
          "nan_count": 0,
          "categories": [
           {
            "name": "[]",
            "count": 5
           }
          ]
         }
        },
        {
         "name": "cashtags",
         "dtype": "object",
         "stats": {
          "unique_count": 1,
          "nan_count": 0,
          "categories": [
           {
            "name": "[]",
            "count": 5
           }
          ]
         }
        },
        {
         "name": "link",
         "dtype": "object",
         "stats": {
          "unique_count": 5,
          "nan_count": 0,
          "categories": [
           {
            "name": "https://twitter.com/sciencefirstok/status/1523475450365849602",
            "count": 1
           },
           {
            "name": "https://twitter.com/ZBasyouny/status/1523472918692663297",
            "count": 1
           },
           {
            "name": "3 others",
            "count": 3
           }
          ]
         }
        },
        {
         "name": "retweet",
         "dtype": "bool",
         "stats": {
          "unique_count": 1,
          "nan_count": 0,
          "categories": [
           {
            "name": "False",
            "count": 5
           }
          ]
         }
        },
        {
         "name": "video",
         "dtype": "int64",
         "stats": {
          "unique_count": 2,
          "nan_count": 0,
          "min": "0",
          "max": "1",
          "histogram": [
           {
            "bin_start": 0,
            "bin_end": 0.1,
            "count": 4
           },
           {
            "bin_start": 0.1,
            "bin_end": 0.2,
            "count": 0
           },
           {
            "bin_start": 0.2,
            "bin_end": 0.30000000000000004,
            "count": 0
           },
           {
            "bin_start": 0.30000000000000004,
            "bin_end": 0.4,
            "count": 0
           },
           {
            "bin_start": 0.4,
            "bin_end": 0.5,
            "count": 0
           },
           {
            "bin_start": 0.5,
            "bin_end": 0.6000000000000001,
            "count": 0
           },
           {
            "bin_start": 0.6000000000000001,
            "bin_end": 0.7000000000000001,
            "count": 0
           },
           {
            "bin_start": 0.7000000000000001,
            "bin_end": 0.8,
            "count": 0
           },
           {
            "bin_start": 0.8,
            "bin_end": 0.9,
            "count": 0
           },
           {
            "bin_start": 0.9,
            "bin_end": 1,
            "count": 1
           }
          ]
         }
        },
        {
         "name": "reply_to",
         "dtype": "object",
         "stats": {
          "unique_count": 4,
          "nan_count": 0,
          "categories": [
           {
            "name": "[{'screen_name': 'elmundoes', 'name': 'EL MUNDO', 'id': '14436030'}]",
            "count": 2
           },
           {
            "name": "[{'screen_name': 'ZBasyouny', 'name': 'Ziad Basyouny', 'id': '1276275205673848838'}, {'screen_name': 'EckerleIsabella', 'name': 'Isabella Eckerle', 'id': '2715046843'}]",
            "count": 1
           },
           {
            "name": "2 others",
            "count": 2
           }
          ]
         }
        },
        {
         "name": "_deepnote_index_column",
         "dtype": "int64"
        }
       ],
       "rows": [
        {
         "id": "1523475450365849602",
         "conversation_id": "1523386087359787008",
         "created_at": "2022-05-08 22:30:26 -03",
         "date": "2022-05-08",
         "time": "22:30:26",
         "timezone": -300,
         "user_id": "1439204039695093766",
         "username": "sciencefirstok",
         "tweet": "@ZBasyouny @EckerleIsabella If it's an autoimmune response causing the hepatitis, would there be an expectation of a strong correlation with current viral load? The original cause of the aberrant autoimmune response wouldn't even need to be present anymore, would it?",
         "language": "en",
         "mentions": "[]",
         "urls": "[]",
         "photos": "[]",
         "replies_count": 0,
         "retweets_count": 0,
         "likes_count": 0,
         "hashtags": "[]",
         "cashtags": "[]",
         "link": "https://twitter.com/sciencefirstok/status/1523475450365849602",
         "retweet": false,
         "video": 0,
         "reply_to": "[{'screen_name': 'ZBasyouny', 'name': 'Ziad Basyouny', 'id': '1276275205673848838'}, {'screen_name': 'EckerleIsabella', 'name': 'Isabella Eckerle', 'id': '2715046843'}]",
         "_deepnote_index_column": 35
        },
        {
         "id": "1523472918692663297",
         "conversation_id": "1523386087359787008",
         "created_at": "2022-05-08 22:20:23 -03",
         "date": "2022-05-08",
         "time": "22:20:23",
         "timezone": -300,
         "user_id": "1276275205673848838",
         "username": "zbasyouny",
         "tweet": "@EckerleIsabella There is an aspect of autoimmune hepatitis that we just can’t link yet",
         "language": "en",
         "mentions": "[]",
         "urls": "[]",
         "photos": "[]",
         "replies_count": 1,
         "retweets_count": 0,
         "likes_count": 0,
         "hashtags": "[]",
         "cashtags": "[]",
         "link": "https://twitter.com/ZBasyouny/status/1523472918692663297",
         "retweet": false,
         "video": 0,
         "reply_to": "[{'screen_name': 'EckerleIsabella', 'name': 'Isabella Eckerle', 'id': '2715046843'}]",
         "_deepnote_index_column": 56
        },
        {
         "id": "1523469892996853762",
         "conversation_id": "1523386087359787008",
         "created_at": "2022-05-08 22:08:21 -03",
         "date": "2022-05-08",
         "time": "22:08:21",
         "timezone": -300,
         "user_id": "224275126",
         "username": "mtshastawriter",
         "tweet": "@James69492913 @cbeyzad @EckerleIsabella Someone had a thread going about BA.4 specifically causing the hepatitis that was pretty convincing.",
         "language": "en",
         "mentions": "[]",
         "urls": "[]",
         "photos": "[]",
         "replies_count": 0,
         "retweets_count": 0,
         "likes_count": 0,
         "hashtags": "[]",
         "cashtags": "[]",
         "link": "https://twitter.com/MtShastaWriter/status/1523469892996853762",
         "retweet": false,
         "video": 0,
         "reply_to": "[{'screen_name': 'James69492913', 'name': 'JCH', 'id': '1249133403175366656'}, {'screen_name': 'cbeyzad', 'name': 'Christian Braudel', 'id': '1216377229896232963'}, {'screen_name': 'EckerleIsabella', 'name': 'Isabella Eckerle', 'id': '2715046843'}]",
         "_deepnote_index_column": 74
        },
        {
         "id": "1523464673030410241",
         "conversation_id": "1523162675571662848",
         "created_at": "2022-05-08 21:47:37 -03",
         "date": "2022-05-08",
         "time": "21:47:37",
         "timezone": -300,
         "user_id": "1466932872946851841",
         "username": "esteban64690401",
         "tweet": "@elmundoes Criminales infelices!!! La hepatitis es solamente una de los 1291 efectos secundarios de la \"vacuna\".  https://t.co/tcIet9nNiS",
         "language": "es",
         "mentions": "[]",
         "urls": "[]",
         "photos": "['https://pbs.twimg.com/media/FSRvC8tX0AA_zXI.png']",
         "replies_count": 0,
         "retweets_count": 0,
         "likes_count": 0,
         "hashtags": "[]",
         "cashtags": "[]",
         "link": "https://twitter.com/Esteban64690401/status/1523464673030410241",
         "retweet": false,
         "video": 1,
         "reply_to": "[{'screen_name': 'elmundoes', 'name': 'EL MUNDO', 'id': '14436030'}]",
         "_deepnote_index_column": 126
        },
        {
         "id": "1523464443560038402",
         "conversation_id": "1523162675571662848",
         "created_at": "2022-05-08 21:46:42 -03",
         "date": "2022-05-08",
         "time": "21:46:42",
         "timezone": -300,
         "user_id": "119591071",
         "username": "hipocratica33",
         "tweet": "@elmundoes Ésta gente si es cínica, \"correlación de casos reportados con dueños o expuestos a perro\" pero ni por nada correlacionan una posible hepatitis por adenovirus al uso de tratamiento experimental que tenían cómo vehículo adenovirus... La J&amp;J que vehículo para Proteína S usó??!! Ajá",
         "language": "es",
         "mentions": "[]",
         "urls": "[]",
         "photos": "[]",
         "replies_count": 0,
         "retweets_count": 0,
         "likes_count": 0,
         "hashtags": "[]",
         "cashtags": "[]",
         "link": "https://twitter.com/hipocratica33/status/1523464443560038402",
         "retweet": false,
         "video": 0,
         "reply_to": "[{'screen_name': 'elmundoes', 'name': 'EL MUNDO', 'id': '14436030'}]",
         "_deepnote_index_column": 130
        }
       ]
      },
      "text/plain": "                      id      conversation_id               created_at  \\\n35   1523475450365849602  1523386087359787008  2022-05-08 22:30:26 -03   \n56   1523472918692663297  1523386087359787008  2022-05-08 22:20:23 -03   \n74   1523469892996853762  1523386087359787008  2022-05-08 22:08:21 -03   \n126  1523464673030410241  1523162675571662848  2022-05-08 21:47:37 -03   \n130  1523464443560038402  1523162675571662848  2022-05-08 21:46:42 -03   \n\n           date      time  timezone              user_id         username  \\\n35   2022-05-08  22:30:26      -300  1439204039695093766   sciencefirstok   \n56   2022-05-08  22:20:23      -300  1276275205673848838        zbasyouny   \n74   2022-05-08  22:08:21      -300            224275126   mtshastawriter   \n126  2022-05-08  21:47:37      -300  1466932872946851841  esteban64690401   \n130  2022-05-08  21:46:42      -300            119591071    hipocratica33   \n\n                                                 tweet language  ...  \\\n35   @ZBasyouny @EckerleIsabella If it's an autoimm...       en  ...   \n56   @EckerleIsabella There is an aspect of autoimm...       en  ...   \n74   @James69492913 @cbeyzad @EckerleIsabella Someo...       en  ...   \n126  @elmundoes Criminales infelices!!! La hepatiti...       es  ...   \n130  @elmundoes Ésta gente si es cínica, \"correlaci...       es  ...   \n\n                                                photos replies_count  \\\n35                                                  []             0   \n56                                                  []             1   \n74                                                  []             0   \n126  ['https://pbs.twimg.com/media/FSRvC8tX0AA_zXI....             0   \n130                                                 []             0   \n\n    retweets_count  likes_count  hashtags  cashtags  \\\n35               0            0        []        []   \n56               0            0        []        []   \n74               0            0        []        []   \n126              0            0        []        []   \n130              0            0        []        []   \n\n                                                  link retweet video  \\\n35   https://twitter.com/sciencefirstok/status/1523...   False     0   \n56   https://twitter.com/ZBasyouny/status/152347291...   False     0   \n74   https://twitter.com/MtShastaWriter/status/1523...   False     0   \n126  https://twitter.com/Esteban64690401/status/152...   False     1   \n130  https://twitter.com/hipocratica33/status/15234...   False     0   \n\n                                              reply_to  \n35   [{'screen_name': 'ZBasyouny', 'name': 'Ziad Ba...  \n56   [{'screen_name': 'EckerleIsabella', 'name': 'I...  \n74   [{'screen_name': 'James69492913', 'name': 'JCH...  \n126  [{'screen_name': 'elmundoes', 'name': 'EL MUND...  \n130  [{'screen_name': 'elmundoes', 'name': 'EL MUND...  \n\n[5 rows x 22 columns]",
      "text/html": "<div>\n<style scoped>\n    .dataframe tbody tr th:only-of-type {\n        vertical-align: middle;\n    }\n\n    .dataframe tbody tr th {\n        vertical-align: top;\n    }\n\n    .dataframe thead th {\n        text-align: right;\n    }\n</style>\n<table border=\"1\" class=\"dataframe\">\n  <thead>\n    <tr style=\"text-align: right;\">\n      <th></th>\n      <th>id</th>\n      <th>conversation_id</th>\n      <th>created_at</th>\n      <th>date</th>\n      <th>time</th>\n      <th>timezone</th>\n      <th>user_id</th>\n      <th>username</th>\n      <th>tweet</th>\n      <th>language</th>\n      <th>...</th>\n      <th>photos</th>\n      <th>replies_count</th>\n      <th>retweets_count</th>\n      <th>likes_count</th>\n      <th>hashtags</th>\n      <th>cashtags</th>\n      <th>link</th>\n      <th>retweet</th>\n      <th>video</th>\n      <th>reply_to</th>\n    </tr>\n  </thead>\n  <tbody>\n    <tr>\n      <th>35</th>\n      <td>1523475450365849602</td>\n      <td>1523386087359787008</td>\n      <td>2022-05-08 22:30:26 -03</td>\n      <td>2022-05-08</td>\n      <td>22:30:26</td>\n      <td>-300</td>\n      <td>1439204039695093766</td>\n      <td>sciencefirstok</td>\n      <td>@ZBasyouny @EckerleIsabella If it's an autoimm...</td>\n      <td>en</td>\n      <td>...</td>\n      <td>[]</td>\n      <td>0</td>\n      <td>0</td>\n      <td>0</td>\n      <td>[]</td>\n      <td>[]</td>\n      <td>https://twitter.com/sciencefirstok/status/1523...</td>\n      <td>False</td>\n      <td>0</td>\n      <td>[{'screen_name': 'ZBasyouny', 'name': 'Ziad Ba...</td>\n    </tr>\n    <tr>\n      <th>56</th>\n      <td>1523472918692663297</td>\n      <td>1523386087359787008</td>\n      <td>2022-05-08 22:20:23 -03</td>\n      <td>2022-05-08</td>\n      <td>22:20:23</td>\n      <td>-300</td>\n      <td>1276275205673848838</td>\n      <td>zbasyouny</td>\n      <td>@EckerleIsabella There is an aspect of autoimm...</td>\n      <td>en</td>\n      <td>...</td>\n      <td>[]</td>\n      <td>1</td>\n      <td>0</td>\n      <td>0</td>\n      <td>[]</td>\n      <td>[]</td>\n      <td>https://twitter.com/ZBasyouny/status/152347291...</td>\n      <td>False</td>\n      <td>0</td>\n      <td>[{'screen_name': 'EckerleIsabella', 'name': 'I...</td>\n    </tr>\n    <tr>\n      <th>74</th>\n      <td>1523469892996853762</td>\n      <td>1523386087359787008</td>\n      <td>2022-05-08 22:08:21 -03</td>\n      <td>2022-05-08</td>\n      <td>22:08:21</td>\n      <td>-300</td>\n      <td>224275126</td>\n      <td>mtshastawriter</td>\n      <td>@James69492913 @cbeyzad @EckerleIsabella Someo...</td>\n      <td>en</td>\n      <td>...</td>\n      <td>[]</td>\n      <td>0</td>\n      <td>0</td>\n      <td>0</td>\n      <td>[]</td>\n      <td>[]</td>\n      <td>https://twitter.com/MtShastaWriter/status/1523...</td>\n      <td>False</td>\n      <td>0</td>\n      <td>[{'screen_name': 'James69492913', 'name': 'JCH...</td>\n    </tr>\n    <tr>\n      <th>126</th>\n      <td>1523464673030410241</td>\n      <td>1523162675571662848</td>\n      <td>2022-05-08 21:47:37 -03</td>\n      <td>2022-05-08</td>\n      <td>21:47:37</td>\n      <td>-300</td>\n      <td>1466932872946851841</td>\n      <td>esteban64690401</td>\n      <td>@elmundoes Criminales infelices!!! La hepatiti...</td>\n      <td>es</td>\n      <td>...</td>\n      <td>['https://pbs.twimg.com/media/FSRvC8tX0AA_zXI....</td>\n      <td>0</td>\n      <td>0</td>\n      <td>0</td>\n      <td>[]</td>\n      <td>[]</td>\n      <td>https://twitter.com/Esteban64690401/status/152...</td>\n      <td>False</td>\n      <td>1</td>\n      <td>[{'screen_name': 'elmundoes', 'name': 'EL MUND...</td>\n    </tr>\n    <tr>\n      <th>130</th>\n      <td>1523464443560038402</td>\n      <td>1523162675571662848</td>\n      <td>2022-05-08 21:46:42 -03</td>\n      <td>2022-05-08</td>\n      <td>21:46:42</td>\n      <td>-300</td>\n      <td>119591071</td>\n      <td>hipocratica33</td>\n      <td>@elmundoes Ésta gente si es cínica, \"correlaci...</td>\n      <td>es</td>\n      <td>...</td>\n      <td>[]</td>\n      <td>0</td>\n      <td>0</td>\n      <td>0</td>\n      <td>[]</td>\n      <td>[]</td>\n      <td>https://twitter.com/hipocratica33/status/15234...</td>\n      <td>False</td>\n      <td>0</td>\n      <td>[{'screen_name': 'elmundoes', 'name': 'EL MUND...</td>\n    </tr>\n  </tbody>\n</table>\n<p>5 rows × 22 columns</p>\n</div>"
     },
     "metadata": {}
    }
   ]
  },
  {
   "cell_type": "code",
   "metadata": {
    "colab": {
     "base_uri": "https://localhost:8080/"
    },
    "id": "KlxDzkJ6S-MK",
    "outputId": "4af944ad-6e56-47c5-fc57-5be894d0efd6",
    "cell_id": "00031-58aadfaf-e2b9-462f-b228-1926356c3cef",
    "deepnote_to_be_reexecuted": false,
    "source_hash": "75409f7a",
    "execution_start": 1657632236950,
    "execution_millis": 7,
    "owner_user_id": "6f2b7ad9-6002-4f3d-af75-a640c6e4a028",
    "deepnote_cell_type": "code",
    "deepnote_cell_height": 199.6999969482422,
    "deepnote_output_heights": [
     null,
     21
    ]
   },
   "source": "# conv.shape() retorna un Tuple asi: (filas, col)\nprint('Este dataset tiene ' + str(conv.shape[0]) + ' filas, y ' + str(conv.shape[1]) + ' columnas.')\nconv.shape",
   "execution_count": null,
   "outputs": [
    {
     "name": "stdout",
     "text": "Este dataset tiene 425 filas, y 22 columnas.\n",
     "output_type": "stream"
    },
    {
     "output_type": "execute_result",
     "execution_count": 20,
     "data": {
      "text/plain": "(425, 22)"
     },
     "metadata": {}
    }
   ]
  },
  {
   "cell_type": "code",
   "metadata": {
    "colab": {
     "base_uri": "https://localhost:8080/",
     "height": 297
    },
    "id": "k1UCg9HFTL7J",
    "outputId": "58a4326f-5b98-4264-9a96-b237cb5f3c1e",
    "cell_id": "00032-591532ca-c03b-4d66-b381-8c4d5a0fd20c",
    "deepnote_to_be_reexecuted": false,
    "source_hash": "3d6c4269",
    "execution_start": 1657632237010,
    "execution_millis": 379,
    "deepnote_cell_type": "code",
    "deepnote_cell_height": 449,
    "deepnote_output_heights": [
     21,
     264
    ]
   },
   "source": "#Visualizar las conversaciones más relevantes por día\n\nsns.histplot(data = conv, y='conversation_id', hue='date')",
   "execution_count": null,
   "outputs": [
    {
     "output_type": "execute_result",
     "execution_count": 21,
     "data": {
      "text/plain": "<AxesSubplot:xlabel='Count', ylabel='conversation_id'>"
     },
     "metadata": {}
    },
    {
     "data": {
      "text/plain": "<Figure size 432x288 with 1 Axes>",
      "image/png": "[encoded data removed]"
     },
     "metadata": {
      "needs_background": "light",
      "image/png": {
       "width": 491,
       "height": 262
      }
     },
     "output_type": "display_data"
    }
   ]
  },
  {
   "cell_type": "markdown",
   "source": "La conversación más importante fue el día 08/05, es el hilo: *960, con 80 tweets ese día.\n\nLa seguda conversación más importante fue el día 07/05, es el hilo: *264, con 50 tweets aprox.\n\nLa tercera conversación más importante fue el día 06/05, es el hilo: *162, con 40 tweets aprox.\n",
   "metadata": {
    "id": "cDSqXY5rednP",
    "cell_id": "00033-bb072929-2468-4406-8603-d84530b83242",
    "deepnote_cell_type": "markdown",
    "deepnote_cell_height": 125.19999694824219
   }
  },
  {
   "cell_type": "code",
   "metadata": {
    "colab": {
     "base_uri": "https://localhost:8080/",
     "height": 297
    },
    "id": "Gg0KyNKFVDte",
    "outputId": "20ec07c9-806c-47d3-fbcd-f19078cddea2",
    "cell_id": "00034-228e5f94-ef0f-4dd0-b13a-0fdf9c935a83",
    "deepnote_to_be_reexecuted": false,
    "source_hash": "f81fecc3",
    "execution_start": 1657632237399,
    "execution_millis": 560,
    "deepnote_cell_type": "code",
    "deepnote_cell_height": 449,
    "deepnote_output_heights": [
     21,
     264
    ]
   },
   "source": "#Visualizar las conversaciones más relevantes por idioma\n\nsns.histplot(data = conv, y='conversation_id', hue='language')",
   "execution_count": null,
   "outputs": [
    {
     "output_type": "execute_result",
     "execution_count": 22,
     "data": {
      "text/plain": "<AxesSubplot:xlabel='Count', ylabel='conversation_id'>"
     },
     "metadata": {}
    },
    {
     "data": {
      "text/plain": "<Figure size 432x288 with 1 Axes>",
      "image/png": "[encoded data removed]"
     },
     "metadata": {
      "needs_background": "light",
      "image/png": {
       "width": 491,
       "height": 262
      }
     },
     "output_type": "display_data"
    }
   ]
  },
  {
   "cell_type": "markdown",
   "source": "Se puede ver qe la mayoría de los hilos son en inglés, como habiamos visto en en los análisis anteriores, sin embargo el hilo más importante es en español, ganándole al inglés y al indi que eran los más numerosos en términos absolutos.",
   "metadata": {
    "id": "fJRdxMGGfU7-",
    "cell_id": "00035-7292758c-7538-47ae-8ca6-fcede12759c9",
    "deepnote_cell_type": "markdown",
    "deepnote_cell_height": 74.80000305175781
   }
  },
  {
   "cell_type": "markdown",
   "source": "### Las escalas horizontales que representan cantidades en los siguientes graficos, son escalas logaritmicas",
   "metadata": {
    "cell_id": "97fe3e2fddea40d9a985f513e0840984",
    "tags": [],
    "deepnote_cell_type": "markdown",
    "deepnote_cell_height": 94
   }
  },
  {
   "cell_type": "code",
   "metadata": {
    "colab": {
     "base_uri": "https://localhost:8080/",
     "height": 606
    },
    "id": "OKd39zlzVtXi",
    "outputId": "14e79b08-7465-41e9-dfa8-b1a8b2d1ff6e",
    "cell_id": "00036-3c571ce3-6cf2-4cfd-815f-87824670fedb",
    "deepnote_to_be_reexecuted": false,
    "source_hash": "7da4bde4",
    "execution_start": 1657632238010,
    "execution_millis": 1393,
    "owner_user_id": "f44ae237-a60f-490b-b7e7-4bd6dd520baf",
    "deepnote_cell_type": "code",
    "deepnote_cell_height": 888,
    "deepnote_output_heights": [
     611
    ]
   },
   "source": "ig, axs = plt.subplots(2, 2, figsize=(10, 10))\nplt.grid()\nsns.set_style(\"ticks\",{'axes.grid' : True})\n#sns.set_style(\"darkgrid\")\nsns.histplot(data=conv[conv['likes_count'] > 5], x=\"likes_count\", kde=True, color=\"green\", ax=axs[1, 0], log_scale=True)\nsns.histplot(data=conv[conv['replies_count'] > 5], x=\"replies_count\", kde=True, color=\"gray\", ax=axs[0, 0], log_scale=True)\nsns.histplot(data=conv[conv['retweets_count'] > 5], x=\"retweets_count\", kde=True, color=\"olive\", ax=axs[0, 1], log_scale=True)\nsns.histplot(data=conv, x=\"conversation_id\", kde=True, color=\"red\", ax=axs[1, 1])\nplt.xticks(rotation=90)\nplt.grid()\nplt.show()",
   "execution_count": null,
   "outputs": [
    {
     "data": {
      "text/plain": "<Figure size 720x720 with 4 Axes>",
      "image/png": "[encoded data removed]"
     },
     "metadata": {
      "needs_background": "light",
      "image/png": {
       "width": 606,
       "height": 700
      }
     },
     "output_type": "display_data"
    }
   ]
  },
  {
   "cell_type": "markdown",
   "source": "Podemos ver cómo de manera comparativa se comprueba lo visto más arriba: la cantidad de tweets con pocos likes, retweets y respuestas son muchos. La diferencia con el primer análisis es que esta comparativa ahora está realizada sobre las 10 conversaciones más largas.",
   "metadata": {
    "id": "UkdT7nqoh49F",
    "cell_id": "00037-423e8594-ba84-4cf2-a4d2-7579cf8f3f1c",
    "deepnote_cell_type": "markdown",
    "deepnote_cell_height": 97.19999694824219
   }
  },
  {
   "cell_type": "code",
   "metadata": {
    "colab": {
     "base_uri": "https://localhost:8080/",
     "height": 592
    },
    "id": "t2gWGzcmiBx6",
    "outputId": "bcaf2c08-056a-4b39-fbc5-b491d9fac237",
    "cell_id": "00038-f77af57b-e5ac-46bb-a414-49f8d4081fe9",
    "deepnote_to_be_reexecuted": false,
    "source_hash": "8414c2dc",
    "execution_start": 1657632239258,
    "execution_millis": 277,
    "deepnote_cell_type": "code",
    "deepnote_cell_height": 542,
    "deepnote_output_heights": [
     319
    ]
   },
   "source": "# Visualizamos ahora de manera desagregada, cantida de tweets\n\nfig, axs = plt.subplots(1, 2, figsize=(10, 5))\n\nsns.histplot(data=conv, x=\"date\", kde=True, color=\"skyblue\", ax=axs[0])\nsns.histplot(data=conv, x=\"language\", kde=True, color=\"red\", ax=axs[1])\nplt.grid()\nplt.show()",
   "execution_count": null,
   "outputs": [
    {
     "data": {
      "text/plain": "<Figure size 720x360 with 2 Axes>",
      "image/png": "[encoded data removed]"
     },
     "metadata": {
      "image/png": {
       "width": 612,
       "height": 317
      }
     },
     "output_type": "display_data"
    }
   ]
  },
  {
   "cell_type": "code",
   "metadata": {
    "colab": {
     "base_uri": "https://localhost:8080/",
     "height": 542
    },
    "id": "oEPwE3X9Zhjp",
    "outputId": "0b60b4b9-733b-4610-b29e-3e587c417274",
    "cell_id": "00039-f990aa56-55ac-49f7-bd82-033ca33ecab0",
    "deepnote_to_be_reexecuted": false,
    "source_hash": "5edff2a9",
    "execution_start": 1657632239578,
    "execution_millis": 1560,
    "deepnote_cell_type": "code",
    "deepnote_cell_height": 714,
    "deepnote_output_heights": [
     527
    ]
   },
   "source": "# Vizualizamos lo mismo que en otros gráficos\n# pero la diferencia es que este gráfico es interactivo\n# y se pueden ver mejor algunos detalles que en lo otros gráficos se pierden\n\nfig = px.scatter(y=conv[\"likes_count\"], x=conv[\"conversation_id\"],log_y=True)\nfig.show()",
   "execution_count": null,
   "outputs": [
    {
     "data": {
      "text/html": "<html>\n<head><meta charset=\"utf-8\" /></head>\n<body>\n    <div>            <script src=\"https://cdnjs.cloudflare.com/ajax/libs/mathjax/2.7.5/MathJax.js?config=TeX-AMS-MML_SVG\"></script><script type=\"text/javascript\">if (window.MathJax && window.MathJax.Hub && && window.MathJax.Hub.Config) {window.MathJax.Hub.Config({SVG: {font: \"STIX-Web\"}});}</script>                <script type=\"text/javascript\">window.PlotlyConfig = {MathJaxConfig: 'local'};</script>\n        <script src=\"https://cdn.plot.ly/plotly-2.12.1.min.js\"></script>                <div id=\"34ff20d2-2208-412e-bf23-2ff05f6bf658\" class=\"plotly-graph-div\" style=\"height:525px; width:100%;\"></div>            <script type=\"text/javascript\">                                    window.PLOTLYENV=window.PLOTLYENV || {};                                    if (document.getElementById(\"34ff20d2-2208-412e-bf23-2ff05f6bf658\")) {                    Plotly.newPlot(                        \"34ff20d2-2208-412e-bf23-2ff05f6bf658\",                        [{\"hovertemplate\":\"x=%{x}<br>y=%{y}<extra></extra>\",\"legendgroup\":\"\",\"marker\":{\"color\":\"#636efa\",\"symbol\":\"circle\"},\"mode\":\"markers\",\"name\":\"\",\"orientation\":\"v\",\"showlegend\":false,\"x\":[\"1523386087359787008\",\"1523386087359787008\",\"1523386087359787008\",\"1523162675571662848\",\"1523162675571662848\",\"1523386087359787008\",\"1523162675571662848\",\"1523386087359787008\",\"1523386087359787008\",\"1523162675571662848\",\"1522635878056796162\",\"1523050102298152960\",\"1523386087359787008\",\"1523050102298152960\",\"1523162675571662848\",\"1523050102298152960\",\"1523162675571662848\",\"1523386087359787008\",\"1523386087359787008\",\"1523386087359787008\",\"1523386087359787008\",\"1523050102298152960\",\"1523162675571662848\",\"1523050102298152960\",\"1523386087359787008\",\"1523386087359787008\",\"1523386087359787008\",\"1523162675571662848\",\"1523050102298152960\",\"1523050102298152960\",\"1523050102298152960\",\"1523050102298152960\",\"1523050102298152960\",\"1523386087359787008\",\"1523050102298152960\",\"1523386087359787008\",\"1523050102298152960\",\"1523050102298152960\",\"1523386087359787008\",\"1523162675571662848\",\"1523386087359787008\",\"1523386087359787008\",\"1522766337273171968\",\"1523386087359787008\",\"1523162675571662848\",\"1523386087359787008\",\"1522986274365259780\",\"1523386087359787008\",\"1523050102298152960\",\"1523386087359787008\",\"1523050102298152960\",\"1523386087359787008\",\"1523162675571662848\",\"1523386087359787008\",\"1523386087359787008\",\"1523162675571662848\",\"1523386087359787008\",\"1523386087359787008\",\"1523050102298152960\",\"1523386087359787008\",\"1522766337273171968\",\"1523162675571662848\",\"1523162675571662848\",\"1523162675571662848\",\"1523050102298152960\",\"1523386087359787008\",\"1523050102298152960\",\"1523386087359787008\",\"1523386087359787008\",\"1523050102298152960\",\"1523050102298152960\",\"1523162675571662848\",\"1523386087359787008\",\"1523386087359787008\",\"1523386087359787008\",\"1523386087359787008\",\"1522986274365259780\",\"1523162675571662848\",\"1523050102298152960\",\"1523050102298152960\",\"1523050102298152960\",\"1523050102298152960\",\"1523050102298152960\",\"1522766337273171968\",\"1522766337273171968\",\"1523050102298152960\",\"1523050102298152960\",\"1523050102298152960\",\"1523162675571662848\",\"1523162675571662848\",\"1523050102298152960\",\"1523050102298152960\",\"1522986274365259780\",\"1523050102298152960\",\"1522986274365259780\",\"1523050102298152960\",\"1523162675571662848\",\"1523050102298152960\",\"1523050102298152960\",\"1522960077023457280\",\"1523050102298152960\",\"1523050102298152960\",\"1523050102298152960\",\"1522986274365259780\",\"1522960077023457280\",\"1523050102298152960\",\"1522735443636363264\",\"1523050102298152960\",\"1522960077023457280\",\"1522960077023457280\",\"1522960077023457280\",\"1522735443636363264\",\"1523050102298152960\",\"1523050102298152960\",\"1523050102298152960\",\"1523050102298152960\",\"1522960077023457280\",\"1522735443636363264\",\"1522986274365259780\",\"1523050102298152960\",\"1523050102298152960\",\"1522769843149287427\",\"1522960077023457280\",\"1523050102298152960\",\"1522986274365259780\",\"1523050102298152960\",\"1523050102298152960\",\"1523050102298152960\",\"1522960077023457280\",\"1522960077023457280\",\"1523162675571662848\",\"1522986274365259780\",\"1523050102298152960\",\"1522986274365259780\",\"1523050102298152960\",\"1522960077023457280\",\"1523162675571662848\",\"1523050102298152960\",\"1523162675571662848\",\"1523050102298152960\",\"1522766337273171968\",\"1522635878056796162\",\"1523050102298152960\",\"1522986274365259780\",\"1523162675571662848\",\"1523050102298152960\",\"1522986274365259780\",\"1522960077023457280\",\"1523050102298152960\",\"1523050102298152960\",\"1523050102298152960\",\"1522986274365259780\",\"1523050102298152960\",\"1523050102298152960\",\"1522960077023457280\",\"1523050102298152960\",\"1523050102298152960\",\"1523162675571662848\",\"1523162675571662848\",\"1523050102298152960\",\"1523050102298152960\",\"1523050102298152960\",\"1523050102298152960\",\"1522986274365259780\",\"1523162675571662848\",\"1523050102298152960\",\"1522960077023457280\",\"1522986274365259780\",\"1522766337273171968\",\"1523050102298152960\",\"1522986274365259780\",\"1523050102298152960\",\"1522960077023457280\",\"1523050102298152960\",\"1522986274365259780\",\"1522505145392799744\",\"1523162675571662848\",\"1522735443636363264\",\"1523050102298152960\",\"1523050102298152960\",\"1523050102298152960\",\"1522960077023457280\",\"1523050102298152960\",\"1522505145392799744\",\"1522960077023457280\",\"1522505145392799744\",\"1522960077023457280\",\"1523050102298152960\",\"1522960077023457280\",\"1522505145392799744\",\"1523162675571662848\",\"1523050102298152960\",\"1523162675571662848\",\"1522635878056796162\",\"1522635878056796162\",\"1523050102298152960\",\"1523050102298152960\",\"1522960077023457280\",\"1523050102298152960\",\"1522960077023457280\",\"1522769843149287427\",\"1522960077023457280\",\"1522735443636363264\",\"1522769843149287427\",\"1522735443636363264\",\"1522960077023457280\",\"1522960077023457280\",\"1522960077023457280\",\"1522766337273171968\",\"1522769843149287427\",\"1522960077023457280\",\"1522960077023457280\",\"1522635878056796162\",\"1523050102298152960\",\"1522766337273171968\",\"1523050102298152960\",\"1522735443636363264\",\"1522960077023457280\",\"1522735443636363264\",\"1522735443636363264\",\"1522986274365259780\",\"1522735443636363264\",\"1522960077023457280\",\"1522960077023457280\",\"1522960077023457280\",\"1523050102298152960\",\"1522960077023457280\",\"1523050102298152960\",\"1523050102298152960\",\"1523050102298152960\",\"1522505145392799744\",\"1523050102298152960\",\"1523050102298152960\",\"1523050102298152960\",\"1523050102298152960\",\"1523050102298152960\",\"1523050102298152960\",\"1523050102298152960\",\"1522766337273171968\",\"1523050102298152960\",\"1522735443636363264\",\"1522986274365259780\",\"1522986274365259780\",\"1523050102298152960\",\"1522769843149287427\",\"1522735443636363264\",\"1522766337273171968\",\"1523050102298152960\",\"1522735443636363264\",\"1522766337273171968\",\"1522505145392799744\",\"1522505145392799744\",\"1522505145392799744\",\"1522735443636363264\",\"1522766337273171968\",\"1522735443636363264\",\"1522986274365259780\",\"1522735443636363264\",\"1522986274365259780\",\"1522986274365259780\",\"1522766337273171968\",\"1522986274365259780\",\"1522986274365259780\",\"1522986274365259780\",\"1522635878056796162\",\"1522986274365259780\",\"1522986274365259780\",\"1522635878056796162\",\"1522986274365259780\",\"1522960077023457280\",\"1522960077023457280\",\"1522735443636363264\",\"1522986274365259780\",\"1522635878056796162\",\"1522635878056796162\",\"1522986274365259780\",\"1522986274365259780\",\"1522986274365259780\",\"1522766337273171968\",\"1522986274365259780\",\"1522635878056796162\",\"1522986274365259780\",\"1522960077023457280\",\"1522986274365259780\",\"1522635878056796162\",\"1522986274365259780\",\"1522986274365259780\",\"1522735443636363264\",\"1522635878056796162\",\"1522960077023457280\",\"1522766337273171968\",\"1522960077023457280\",\"1522766337273171968\",\"1522960077023457280\",\"1522960077023457280\",\"1522960077023457280\",\"1522766337273171968\",\"1522766337273171968\",\"1522960077023457280\",\"1522735443636363264\",\"1522769843149287427\",\"1522735443636363264\",\"1522635878056796162\",\"1522505145392799744\",\"1522766337273171968\",\"1522735443636363264\",\"1522635878056796162\",\"1522635878056796162\",\"1522735443636363264\",\"1522505145392799744\",\"1522766337273171968\",\"1522735443636363264\",\"1522505145392799744\",\"1522735443636363264\",\"1522635878056796162\",\"1522769843149287427\",\"1522766337273171968\",\"1522735443636363264\",\"1522505145392799744\",\"1522735443636363264\",\"1522766337273171968\",\"1522769843149287427\",\"1522735443636363264\",\"1522735443636363264\",\"1522769843149287427\",\"1522766337273171968\",\"1522505145392799744\",\"1522735443636363264\",\"1522505145392799744\",\"1522735443636363264\",\"1522735443636363264\",\"1522769843149287427\",\"1522735443636363264\",\"1522735443636363264\",\"1522769843149287427\",\"1522766337273171968\",\"1522766337273171968\",\"1522766337273171968\",\"1522769843149287427\",\"1522635878056796162\",\"1522505145392799744\",\"1522735443636363264\",\"1522505145392799744\",\"1522735443636363264\",\"1522769843149287427\",\"1522766337273171968\",\"1522766337273171968\",\"1522735443636363264\",\"1522735443636363264\",\"1522766337273171968\",\"1522735443636363264\",\"1522735443636363264\",\"1522769843149287427\",\"1522505145392799744\",\"1522635878056796162\",\"1522505145392799744\",\"1522635878056796162\",\"1522635878056796162\",\"1522735443636363264\",\"1522505145392799744\",\"1522735443636363264\",\"1522735443636363264\",\"1522735443636363264\",\"1522505145392799744\",\"1522735443636363264\",\"1522735443636363264\",\"1522769843149287427\",\"1522735443636363264\",\"1522735443636363264\",\"1522769843149287427\",\"1522769843149287427\",\"1522769843149287427\",\"1522769843149287427\",\"1522769843149287427\",\"1522635878056796162\",\"1522769843149287427\",\"1522505145392799744\",\"1522766337273171968\",\"1522635878056796162\",\"1522635878056796162\",\"1522505145392799744\",\"1522735443636363264\",\"1522735443636363264\",\"1522635878056796162\",\"1522635878056796162\",\"1522635878056796162\",\"1522635878056796162\",\"1522635878056796162\",\"1522635878056796162\",\"1522635878056796162\",\"1522635878056796162\",\"1522635878056796162\",\"1522635878056796162\",\"1522635878056796162\",\"1522635878056796162\",\"1522635878056796162\",\"1522635878056796162\",\"1522635878056796162\",\"1522635878056796162\",\"1522635878056796162\",\"1522635878056796162\",\"1522635878056796162\",\"1522635878056796162\",\"1522635878056796162\",\"1522635878056796162\",\"1522635878056796162\",\"1522635878056796162\",\"1522635878056796162\",\"1522635878056796162\",\"1522635878056796162\",\"1522635878056796162\",\"1522505145392799744\",\"1522635878056796162\",\"1522635878056796162\",\"1522635878056796162\",\"1522635878056796162\",\"1522635878056796162\",\"1522635878056796162\",\"1522635878056796162\",\"1522635878056796162\",\"1522635878056796162\",\"1522505145392799744\",\"1522505145392799744\",\"1522505145392799744\",\"1522505145392799744\"],\"xaxis\":\"x\",\"y\":[0,0,0,0,0,5,0,10,1,7,0,1,0,0,0,0,0,1,0,2,20,0,1,1,10,0,0,0,0,0,0,3,0,14,0,21,1,1,2,0,0,0,1,4,0,1,0,1,1,1,1,24,0,2,3,0,0,6,0,4,0,0,0,0,1,11,0,9,3,0,0,17,471,603,564,2073,0,0,0,1,0,0,1,2,0,1,0,2,0,6,0,0,0,0,0,4,0,0,0,0,1,7,1,0,0,0,1,0,0,0,0,0,0,0,1,4,0,0,1,0,1,0,0,0,3,0,0,0,5,51,5,0,2,0,7,0,6,0,1,85,2,0,4,103,1,3,0,0,0,0,1,4,0,1,2,3,0,0,2,0,2,5,1,1,0,0,0,0,1,0,2,0,0,1,4,0,0,0,0,0,0,0,1,0,0,0,8,0,2,0,35,0,96,0,0,0,3,0,1,0,0,0,1,0,0,0,0,0,0,3,0,0,2,1,2,0,1,0,0,0,2,0,2,1,425,0,3,38,5,15,1,84,0,19,2,1,2,9,0,111,0,2,3,3,0,0,11,76,0,2,0,3,0,1,1,0,92,0,9,0,0,16,69,0,4,12,1,0,0,2,0,4,0,0,0,40,0,7,3,241,1,499,0,66,0,14,11,0,1,0,0,10,6,4,48,1,12,0,1782,9,51,0,11,0,0,1,6,376,3,0,6,16,0,5,0,3,33,5,3,1,2,2,19,0,2,1,0,49,1,5,15,1,4,0,17,1,2,18,11,0,1,1,4,23,0,0,9,2,11,11,0,1,4,0,1,0,9,0,53,9,4,5,36,0,172,2,1,1,8,25,65,15,327,147,0,839,21,5438,0,1,2,69,24499,0,8,1,0,0,0,0,2,2,0,0,0,1,0,1,11,1,1,1,1,2,4,339,16,390,6,0,5,9,181,34,1,319,188,219,264,240,2029,149,40,79,1924],\"yaxis\":\"y\",\"type\":\"scatter\"}],                        {\"template\":{\"data\":{\"histogram2dcontour\":[{\"type\":\"histogram2dcontour\",\"colorbar\":{\"outlinewidth\":0,\"ticks\":\"\"},\"colorscale\":[[0.0,\"#0d0887\"],[0.1111111111111111,\"#46039f\"],[0.2222222222222222,\"#7201a8\"],[0.3333333333333333,\"#9c179e\"],[0.4444444444444444,\"#bd3786\"],[0.5555555555555556,\"#d8576b\"],[0.6666666666666666,\"#ed7953\"],[0.7777777777777778,\"#fb9f3a\"],[0.8888888888888888,\"#fdca26\"],[1.0,\"#f0f921\"]]}],\"choropleth\":[{\"type\":\"choropleth\",\"colorbar\":{\"outlinewidth\":0,\"ticks\":\"\"}}],\"histogram2d\":[{\"type\":\"histogram2d\",\"colorbar\":{\"outlinewidth\":0,\"ticks\":\"\"},\"colorscale\":[[0.0,\"#0d0887\"],[0.1111111111111111,\"#46039f\"],[0.2222222222222222,\"#7201a8\"],[0.3333333333333333,\"#9c179e\"],[0.4444444444444444,\"#bd3786\"],[0.5555555555555556,\"#d8576b\"],[0.6666666666666666,\"#ed7953\"],[0.7777777777777778,\"#fb9f3a\"],[0.8888888888888888,\"#fdca26\"],[1.0,\"#f0f921\"]]}],\"heatmap\":[{\"type\":\"heatmap\",\"colorbar\":{\"outlinewidth\":0,\"ticks\":\"\"},\"colorscale\":[[0.0,\"#0d0887\"],[0.1111111111111111,\"#46039f\"],[0.2222222222222222,\"#7201a8\"],[0.3333333333333333,\"#9c179e\"],[0.4444444444444444,\"#bd3786\"],[0.5555555555555556,\"#d8576b\"],[0.6666666666666666,\"#ed7953\"],[0.7777777777777778,\"#fb9f3a\"],[0.8888888888888888,\"#fdca26\"],[1.0,\"#f0f921\"]]}],\"heatmapgl\":[{\"type\":\"heatmapgl\",\"colorbar\":{\"outlinewidth\":0,\"ticks\":\"\"},\"colorscale\":[[0.0,\"#0d0887\"],[0.1111111111111111,\"#46039f\"],[0.2222222222222222,\"#7201a8\"],[0.3333333333333333,\"#9c179e\"],[0.4444444444444444,\"#bd3786\"],[0.5555555555555556,\"#d8576b\"],[0.6666666666666666,\"#ed7953\"],[0.7777777777777778,\"#fb9f3a\"],[0.8888888888888888,\"#fdca26\"],[1.0,\"#f0f921\"]]}],\"contourcarpet\":[{\"type\":\"contourcarpet\",\"colorbar\":{\"outlinewidth\":0,\"ticks\":\"\"}}],\"contour\":[{\"type\":\"contour\",\"colorbar\":{\"outlinewidth\":0,\"ticks\":\"\"},\"colorscale\":[[0.0,\"#0d0887\"],[0.1111111111111111,\"#46039f\"],[0.2222222222222222,\"#7201a8\"],[0.3333333333333333,\"#9c179e\"],[0.4444444444444444,\"#bd3786\"],[0.5555555555555556,\"#d8576b\"],[0.6666666666666666,\"#ed7953\"],[0.7777777777777778,\"#fb9f3a\"],[0.8888888888888888,\"#fdca26\"],[1.0,\"#f0f921\"]]}],\"surface\":[{\"type\":\"surface\",\"colorbar\":{\"outlinewidth\":0,\"ticks\":\"\"},\"colorscale\":[[0.0,\"#0d0887\"],[0.1111111111111111,\"#46039f\"],[0.2222222222222222,\"#7201a8\"],[0.3333333333333333,\"#9c179e\"],[0.4444444444444444,\"#bd3786\"],[0.5555555555555556,\"#d8576b\"],[0.6666666666666666,\"#ed7953\"],[0.7777777777777778,\"#fb9f3a\"],[0.8888888888888888,\"#fdca26\"],[1.0,\"#f0f921\"]]}],\"mesh3d\":[{\"type\":\"mesh3d\",\"colorbar\":{\"outlinewidth\":0,\"ticks\":\"\"}}],\"scatter\":[{\"fillpattern\":{\"fillmode\":\"overlay\",\"size\":10,\"solidity\":0.2},\"type\":\"scatter\"}],\"parcoords\":[{\"type\":\"parcoords\",\"line\":{\"colorbar\":{\"outlinewidth\":0,\"ticks\":\"\"}}}],\"scatterpolargl\":[{\"type\":\"scatterpolargl\",\"marker\":{\"colorbar\":{\"outlinewidth\":0,\"ticks\":\"\"}}}],\"bar\":[{\"error_x\":{\"color\":\"#2a3f5f\"},\"error_y\":{\"color\":\"#2a3f5f\"},\"marker\":{\"line\":{\"color\":\"#E5ECF6\",\"width\":0.5},\"pattern\":{\"fillmode\":\"overlay\",\"size\":10,\"solidity\":0.2}},\"type\":\"bar\"}],\"scattergeo\":[{\"type\":\"scattergeo\",\"marker\":{\"colorbar\":{\"outlinewidth\":0,\"ticks\":\"\"}}}],\"scatterpolar\":[{\"type\":\"scatterpolar\",\"marker\":{\"colorbar\":{\"outlinewidth\":0,\"ticks\":\"\"}}}],\"histogram\":[{\"marker\":{\"pattern\":{\"fillmode\":\"overlay\",\"size\":10,\"solidity\":0.2}},\"type\":\"histogram\"}],\"scattergl\":[{\"type\":\"scattergl\",\"marker\":{\"colorbar\":{\"outlinewidth\":0,\"ticks\":\"\"}}}],\"scatter3d\":[{\"type\":\"scatter3d\",\"line\":{\"colorbar\":{\"outlinewidth\":0,\"ticks\":\"\"}},\"marker\":{\"colorbar\":{\"outlinewidth\":0,\"ticks\":\"\"}}}],\"scattermapbox\":[{\"type\":\"scattermapbox\",\"marker\":{\"colorbar\":{\"outlinewidth\":0,\"ticks\":\"\"}}}],\"scatterternary\":[{\"type\":\"scatterternary\",\"marker\":{\"colorbar\":{\"outlinewidth\":0,\"ticks\":\"\"}}}],\"scattercarpet\":[{\"type\":\"scattercarpet\",\"marker\":{\"colorbar\":{\"outlinewidth\":0,\"ticks\":\"\"}}}],\"carpet\":[{\"aaxis\":{\"endlinecolor\":\"#2a3f5f\",\"gridcolor\":\"white\",\"linecolor\":\"white\",\"minorgridcolor\":\"white\",\"startlinecolor\":\"#2a3f5f\"},\"baxis\":{\"endlinecolor\":\"#2a3f5f\",\"gridcolor\":\"white\",\"linecolor\":\"white\",\"minorgridcolor\":\"white\",\"startlinecolor\":\"#2a3f5f\"},\"type\":\"carpet\"}],\"table\":[{\"cells\":{\"fill\":{\"color\":\"#EBF0F8\"},\"line\":{\"color\":\"white\"}},\"header\":{\"fill\":{\"color\":\"#C8D4E3\"},\"line\":{\"color\":\"white\"}},\"type\":\"table\"}],\"barpolar\":[{\"marker\":{\"line\":{\"color\":\"#E5ECF6\",\"width\":0.5},\"pattern\":{\"fillmode\":\"overlay\",\"size\":10,\"solidity\":0.2}},\"type\":\"barpolar\"}],\"pie\":[{\"automargin\":true,\"type\":\"pie\"}]},\"layout\":{\"autotypenumbers\":\"strict\",\"colorway\":[\"#636efa\",\"#EF553B\",\"#00cc96\",\"#ab63fa\",\"#FFA15A\",\"#19d3f3\",\"#FF6692\",\"#B6E880\",\"#FF97FF\",\"#FECB52\"],\"font\":{\"color\":\"#2a3f5f\"},\"hovermode\":\"closest\",\"hoverlabel\":{\"align\":\"left\"},\"paper_bgcolor\":\"white\",\"plot_bgcolor\":\"#E5ECF6\",\"polar\":{\"bgcolor\":\"#E5ECF6\",\"angularaxis\":{\"gridcolor\":\"white\",\"linecolor\":\"white\",\"ticks\":\"\"},\"radialaxis\":{\"gridcolor\":\"white\",\"linecolor\":\"white\",\"ticks\":\"\"}},\"ternary\":{\"bgcolor\":\"#E5ECF6\",\"aaxis\":{\"gridcolor\":\"white\",\"linecolor\":\"white\",\"ticks\":\"\"},\"baxis\":{\"gridcolor\":\"white\",\"linecolor\":\"white\",\"ticks\":\"\"},\"caxis\":{\"gridcolor\":\"white\",\"linecolor\":\"white\",\"ticks\":\"\"}},\"coloraxis\":{\"colorbar\":{\"outlinewidth\":0,\"ticks\":\"\"}},\"colorscale\":{\"sequential\":[[0.0,\"#0d0887\"],[0.1111111111111111,\"#46039f\"],[0.2222222222222222,\"#7201a8\"],[0.3333333333333333,\"#9c179e\"],[0.4444444444444444,\"#bd3786\"],[0.5555555555555556,\"#d8576b\"],[0.6666666666666666,\"#ed7953\"],[0.7777777777777778,\"#fb9f3a\"],[0.8888888888888888,\"#fdca26\"],[1.0,\"#f0f921\"]],\"sequentialminus\":[[0.0,\"#0d0887\"],[0.1111111111111111,\"#46039f\"],[0.2222222222222222,\"#7201a8\"],[0.3333333333333333,\"#9c179e\"],[0.4444444444444444,\"#bd3786\"],[0.5555555555555556,\"#d8576b\"],[0.6666666666666666,\"#ed7953\"],[0.7777777777777778,\"#fb9f3a\"],[0.8888888888888888,\"#fdca26\"],[1.0,\"#f0f921\"]],\"diverging\":[[0,\"#8e0152\"],[0.1,\"#c51b7d\"],[0.2,\"#de77ae\"],[0.3,\"#f1b6da\"],[0.4,\"#fde0ef\"],[0.5,\"#f7f7f7\"],[0.6,\"#e6f5d0\"],[0.7,\"#b8e186\"],[0.8,\"#7fbc41\"],[0.9,\"#4d9221\"],[1,\"#276419\"]]},\"xaxis\":{\"gridcolor\":\"white\",\"linecolor\":\"white\",\"ticks\":\"\",\"title\":{\"standoff\":15},\"zerolinecolor\":\"white\",\"automargin\":true,\"zerolinewidth\":2},\"yaxis\":{\"gridcolor\":\"white\",\"linecolor\":\"white\",\"ticks\":\"\",\"title\":{\"standoff\":15},\"zerolinecolor\":\"white\",\"automargin\":true,\"zerolinewidth\":2},\"scene\":{\"xaxis\":{\"backgroundcolor\":\"#E5ECF6\",\"gridcolor\":\"white\",\"linecolor\":\"white\",\"showbackground\":true,\"ticks\":\"\",\"zerolinecolor\":\"white\",\"gridwidth\":2},\"yaxis\":{\"backgroundcolor\":\"#E5ECF6\",\"gridcolor\":\"white\",\"linecolor\":\"white\",\"showbackground\":true,\"ticks\":\"\",\"zerolinecolor\":\"white\",\"gridwidth\":2},\"zaxis\":{\"backgroundcolor\":\"#E5ECF6\",\"gridcolor\":\"white\",\"linecolor\":\"white\",\"showbackground\":true,\"ticks\":\"\",\"zerolinecolor\":\"white\",\"gridwidth\":2}},\"shapedefaults\":{\"line\":{\"color\":\"#2a3f5f\"}},\"annotationdefaults\":{\"arrowcolor\":\"#2a3f5f\",\"arrowhead\":0,\"arrowwidth\":1},\"geo\":{\"bgcolor\":\"white\",\"landcolor\":\"#E5ECF6\",\"subunitcolor\":\"white\",\"showland\":true,\"showlakes\":true,\"lakecolor\":\"white\"},\"title\":{\"x\":0.05},\"mapbox\":{\"style\":\"light\"}}},\"xaxis\":{\"anchor\":\"y\",\"domain\":[0.0,1.0],\"title\":{\"text\":\"x\"}},\"yaxis\":{\"anchor\":\"x\",\"domain\":[0.0,1.0],\"title\":{\"text\":\"y\"},\"type\":\"log\"},\"legend\":{\"tracegroupgap\":0},\"margin\":{\"t\":60}},                        {\"responsive\": true}                    ).then(function(){\n                            \nvar gd = document.getElementById('34ff20d2-2208-412e-bf23-2ff05f6bf658');\nvar x = new MutationObserver(function (mutations, observer) {{\n        var display = window.getComputedStyle(gd).display;\n        if (!display || display === 'none') {{\n            console.log([gd, 'removed!']);\n            Plotly.purge(gd);\n            observer.disconnect();\n        }}\n}});\n\n// Listen for the removal of the full notebook cells\nvar notebookContainer = gd.closest('#notebook-container');\nif (notebookContainer) {{\n    x.observe(notebookContainer, {childList: true});\n}}\n\n// Listen for the clearing of the current output cell\nvar outputEl = gd.closest('.output');\nif (outputEl) {{\n    x.observe(outputEl, {childList: true});\n}}\n\n                        })                };                            </script>        </div>\n</body>\n</html>"
     },
     "metadata": {},
     "output_type": "display_data"
    }
   ]
  },
  {
   "cell_type": "code",
   "metadata": {
    "colab": {
     "base_uri": "https://localhost:8080/",
     "height": 542
    },
    "id": "jgY0KO2vZj4f",
    "outputId": "71c597c9-aa9b-4a27-da12-a5a7714027af",
    "cell_id": "00040-16781b10-9dc6-411e-a326-c742bc5154ab",
    "deepnote_to_be_reexecuted": false,
    "source_hash": "9455314",
    "execution_start": 1657632241141,
    "execution_millis": 93,
    "deepnote_cell_type": "code",
    "deepnote_cell_height": 678,
    "deepnote_output_heights": [
     527
    ]
   },
   "source": "#Vizualizamos en simultaneo: hilos, idioma, cantidad de likes y el tamaño del círculo según la cantidad de respuetas\n\nfig = px.scatter(conv, y=conv[\"likes_count\"], x=conv[\"conversation_id\"], color=conv['language'], size='replies_count', log_y=True)\nfig.show()",
   "execution_count": null,
   "outputs": [
    {
     "data": {
      "text/html": "<html>\n<head><meta charset=\"utf-8\" /></head>\n<body>\n    <div>            <script src=\"https://cdnjs.cloudflare.com/ajax/libs/mathjax/2.7.5/MathJax.js?config=TeX-AMS-MML_SVG\"></script><script type=\"text/javascript\">if (window.MathJax && window.MathJax.Hub && && window.MathJax.Hub.Config) {window.MathJax.Hub.Config({SVG: {font: \"STIX-Web\"}});}</script>                <script type=\"text/javascript\">window.PlotlyConfig = {MathJaxConfig: 'local'};</script>\n        <script src=\"https://cdn.plot.ly/plotly-2.12.1.min.js\"></script>                <div id=\"ff6bb7c1-1ebe-4389-a584-90d821c62246\" class=\"plotly-graph-div\" style=\"height:525px; width:100%;\"></div>            <script type=\"text/javascript\">                                    window.PLOTLYENV=window.PLOTLYENV || {};                                    if (document.getElementById(\"ff6bb7c1-1ebe-4389-a584-90d821c62246\")) {                    Plotly.newPlot(                        \"ff6bb7c1-1ebe-4389-a584-90d821c62246\",                        [{\"hovertemplate\":\"language=en<br>conversation_id=%{x}<br>likes_count=%{y}<br>replies_count=%{marker.size}<extra></extra>\",\"legendgroup\":\"en\",\"marker\":{\"color\":\"#636efa\",\"size\":[0,1,0,1,0,0,0,1,0,0,0,4,0,0,0,3,1,2,1,0,1,0,5,0,0,1,2,0,0,0,0,2,1,1,3,50,0,1,1,0,0,0,1,0,0,0,0,1,0,0,0,2,0,0,1,0,1,0,0,1,0,1,0,0,1,1,1,0,1,0,0,4,3,0,0,0,0,0,2,1,2,0,1,0,0,1,1,1,2,1,4,0,1,2,7,0,2,1,0,5,3,0,0,1,0,0,3,0,0,1,0,3,1,2,0,10,0,6,2,0,1,2,0,1,1,0,0,0,8,2,0,0,2,1,0,0,28,1,1,0,1,0,1,1,1,2,1,1,3,2,0,3,0,1,0,2,0,2,2,14,0,0,1,0,1,0,1,0,0,1,0,4,0,0,0,1,0,0,2,1,0,1,0,0,0,0,105,3,0,4,39,0,1,1,0,1,14,1,0,0,5,4,1,313,2,127,1,1,1,55,551,1,1,1,0,1,1,0,1,1,2,0,1,2,1,0,1,1,1,2,0,0,0,17,1,17,0,0,2,2,18,1,0,10,4,3,7,8,130,6,3,5,74],\"sizemode\":\"area\",\"sizeref\":1.3775,\"symbol\":\"circle\"},\"mode\":\"markers\",\"name\":\"en\",\"orientation\":\"v\",\"showlegend\":true,\"x\":[\"1523386087359787008\",\"1523386087359787008\",\"1523386087359787008\",\"1523386087359787008\",\"1523386087359787008\",\"1523386087359787008\",\"1522635878056796162\",\"1523386087359787008\",\"1523386087359787008\",\"1523386087359787008\",\"1523386087359787008\",\"1523386087359787008\",\"1523386087359787008\",\"1523386087359787008\",\"1523386087359787008\",\"1523386087359787008\",\"1523386087359787008\",\"1523386087359787008\",\"1523386087359787008\",\"1523386087359787008\",\"1522766337273171968\",\"1523386087359787008\",\"1523386087359787008\",\"1522986274365259780\",\"1523386087359787008\",\"1523386087359787008\",\"1523386087359787008\",\"1523386087359787008\",\"1523386087359787008\",\"1523386087359787008\",\"1522766337273171968\",\"1523386087359787008\",\"1523386087359787008\",\"1523386087359787008\",\"1523386087359787008\",\"1523386087359787008\",\"1522986274365259780\",\"1522766337273171968\",\"1522766337273171968\",\"1522986274365259780\",\"1522986274365259780\",\"1522986274365259780\",\"1522735443636363264\",\"1522735443636363264\",\"1522735443636363264\",\"1522986274365259780\",\"1522769843149287427\",\"1522986274365259780\",\"1522986274365259780\",\"1522766337273171968\",\"1522635878056796162\",\"1522986274365259780\",\"1522986274365259780\",\"1522986274365259780\",\"1522986274365259780\",\"1522986274365259780\",\"1522766337273171968\",\"1522986274365259780\",\"1522986274365259780\",\"1522505145392799744\",\"1522735443636363264\",\"1522505145392799744\",\"1522505145392799744\",\"1522505145392799744\",\"1522635878056796162\",\"1522635878056796162\",\"1522735443636363264\",\"1522769843149287427\",\"1522735443636363264\",\"1522766337273171968\",\"1522769843149287427\",\"1522635878056796162\",\"1522766337273171968\",\"1522735443636363264\",\"1522735443636363264\",\"1522735443636363264\",\"1522986274365259780\",\"1522735443636363264\",\"1522505145392799744\",\"1522766337273171968\",\"1522735443636363264\",\"1522986274365259780\",\"1522986274365259780\",\"1522769843149287427\",\"1522735443636363264\",\"1522766337273171968\",\"1522735443636363264\",\"1522766337273171968\",\"1522505145392799744\",\"1522505145392799744\",\"1522505145392799744\",\"1522735443636363264\",\"1522766337273171968\",\"1522735443636363264\",\"1522986274365259780\",\"1522735443636363264\",\"1522986274365259780\",\"1522986274365259780\",\"1522766337273171968\",\"1522986274365259780\",\"1522986274365259780\",\"1522986274365259780\",\"1522635878056796162\",\"1522986274365259780\",\"1522986274365259780\",\"1522635878056796162\",\"1522986274365259780\",\"1522735443636363264\",\"1522986274365259780\",\"1522635878056796162\",\"1522635878056796162\",\"1522986274365259780\",\"1522986274365259780\",\"1522986274365259780\",\"1522766337273171968\",\"1522986274365259780\",\"1522635878056796162\",\"1522986274365259780\",\"1522986274365259780\",\"1522635878056796162\",\"1522986274365259780\",\"1522986274365259780\",\"1522735443636363264\",\"1522635878056796162\",\"1522766337273171968\",\"1522766337273171968\",\"1522766337273171968\",\"1522766337273171968\",\"1522735443636363264\",\"1522769843149287427\",\"1522735443636363264\",\"1522635878056796162\",\"1522505145392799744\",\"1522766337273171968\",\"1522735443636363264\",\"1522635878056796162\",\"1522635878056796162\",\"1522735443636363264\",\"1522505145392799744\",\"1522766337273171968\",\"1522735443636363264\",\"1522505145392799744\",\"1522735443636363264\",\"1522635878056796162\",\"1522769843149287427\",\"1522766337273171968\",\"1522735443636363264\",\"1522505145392799744\",\"1522735443636363264\",\"1522766337273171968\",\"1522769843149287427\",\"1522735443636363264\",\"1522735443636363264\",\"1522769843149287427\",\"1522766337273171968\",\"1522505145392799744\",\"1522735443636363264\",\"1522505145392799744\",\"1522735443636363264\",\"1522735443636363264\",\"1522769843149287427\",\"1522735443636363264\",\"1522735443636363264\",\"1522769843149287427\",\"1522766337273171968\",\"1522766337273171968\",\"1522766337273171968\",\"1522769843149287427\",\"1522505145392799744\",\"1522735443636363264\",\"1522505145392799744\",\"1522735443636363264\",\"1522769843149287427\",\"1522766337273171968\",\"1522766337273171968\",\"1522735443636363264\",\"1522735443636363264\",\"1522766337273171968\",\"1522735443636363264\",\"1522735443636363264\",\"1522769843149287427\",\"1522505145392799744\",\"1522635878056796162\",\"1522505145392799744\",\"1522635878056796162\",\"1522635878056796162\",\"1522735443636363264\",\"1522505145392799744\",\"1522735443636363264\",\"1522735443636363264\",\"1522735443636363264\",\"1522505145392799744\",\"1522735443636363264\",\"1522735443636363264\",\"1522769843149287427\",\"1522735443636363264\",\"1522735443636363264\",\"1522769843149287427\",\"1522769843149287427\",\"1522769843149287427\",\"1522769843149287427\",\"1522769843149287427\",\"1522635878056796162\",\"1522769843149287427\",\"1522505145392799744\",\"1522766337273171968\",\"1522635878056796162\",\"1522635878056796162\",\"1522505145392799744\",\"1522735443636363264\",\"1522735443636363264\",\"1522635878056796162\",\"1522635878056796162\",\"1522635878056796162\",\"1522635878056796162\",\"1522635878056796162\",\"1522635878056796162\",\"1522635878056796162\",\"1522635878056796162\",\"1522635878056796162\",\"1522635878056796162\",\"1522635878056796162\",\"1522635878056796162\",\"1522635878056796162\",\"1522635878056796162\",\"1522635878056796162\",\"1522635878056796162\",\"1522635878056796162\",\"1522635878056796162\",\"1522635878056796162\",\"1522635878056796162\",\"1522635878056796162\",\"1522635878056796162\",\"1522635878056796162\",\"1522635878056796162\",\"1522635878056796162\",\"1522635878056796162\",\"1522635878056796162\",\"1522635878056796162\",\"1522505145392799744\",\"1522635878056796162\",\"1522635878056796162\",\"1522635878056796162\",\"1522635878056796162\",\"1522635878056796162\",\"1522635878056796162\",\"1522635878056796162\",\"1522635878056796162\",\"1522635878056796162\",\"1522505145392799744\",\"1522505145392799744\",\"1522505145392799744\",\"1522505145392799744\"],\"xaxis\":\"x\",\"y\":[0,0,0,5,10,1,0,0,1,0,2,20,10,0,0,14,21,2,0,0,1,4,1,0,1,24,3,0,6,4,0,9,471,603,564,2073,0,2,0,0,0,0,1,0,0,1,0,3,0,2,0,103,0,4,1,0,1,2,4,0,0,0,0,0,0,0,1,0,0,0,3,2,2,1,0,0,2,0,1,0,0,2,3,0,0,11,0,2,0,3,0,1,1,0,92,0,9,0,0,16,69,0,4,12,1,0,0,4,0,0,0,40,0,7,3,241,1,499,66,0,14,11,0,1,0,6,12,0,9,51,0,11,0,0,1,6,376,3,0,6,16,0,5,0,3,33,5,3,1,2,2,19,0,2,1,0,49,1,5,15,1,4,0,17,1,2,18,11,1,1,4,23,0,0,9,2,11,11,0,1,4,0,1,0,9,0,53,9,4,5,36,0,172,2,1,1,8,25,65,15,327,147,0,839,21,5438,0,1,2,69,24499,0,8,1,0,0,0,0,2,2,0,0,0,1,0,1,11,1,1,1,1,2,4,339,16,390,6,0,5,9,181,34,1,319,188,219,264,240,2029,149,40,79,1924],\"yaxis\":\"y\",\"type\":\"scatter\"},{\"hovertemplate\":\"language=es<br>conversation_id=%{x}<br>likes_count=%{y}<br>replies_count=%{marker.size}<extra></extra>\",\"legendgroup\":\"es\",\"marker\":{\"color\":\"#EF553B\",\"size\":[0,0,1,1,1,1,0,0,0,0,0,0,0,0,0,0,1,1,0,1,0,0,0,0,0,0,2,0,0,1,2,0,1,1,0,0,0,0,0,0,0,0,0,0,1,2,0,0,0,1,0,4,0,0,4,0,0,0,0,0,0,3,0,1,0,0,1,0,1,1,2,0,2,2,4,0,0,1,1,1,2,0,3,3,1,0,0,0,3,3,1,0,0,1,1,1,0,0,2,1,2,0,1,1,240,0,0,0,4,2,0,3,0,10,6,1,7,1,3,3,1,10,3,32],\"sizemode\":\"area\",\"sizeref\":1.3775,\"symbol\":\"circle\"},\"mode\":\"markers\",\"name\":\"es\",\"orientation\":\"v\",\"showlegend\":true,\"x\":[\"1523162675571662848\",\"1523162675571662848\",\"1523162675571662848\",\"1523162675571662848\",\"1523050102298152960\",\"1523050102298152960\",\"1523162675571662848\",\"1523050102298152960\",\"1523162675571662848\",\"1523050102298152960\",\"1523162675571662848\",\"1523050102298152960\",\"1523162675571662848\",\"1523050102298152960\",\"1523050102298152960\",\"1523050102298152960\",\"1523050102298152960\",\"1523050102298152960\",\"1523050102298152960\",\"1523050102298152960\",\"1523050102298152960\",\"1523162675571662848\",\"1523162675571662848\",\"1523050102298152960\",\"1523050102298152960\",\"1523162675571662848\",\"1523162675571662848\",\"1523050102298152960\",\"1523162675571662848\",\"1523162675571662848\",\"1523162675571662848\",\"1523050102298152960\",\"1523050102298152960\",\"1523050102298152960\",\"1523050102298152960\",\"1523162675571662848\",\"1523162675571662848\",\"1523050102298152960\",\"1523050102298152960\",\"1523050102298152960\",\"1523050102298152960\",\"1523050102298152960\",\"1523050102298152960\",\"1523050102298152960\",\"1523050102298152960\",\"1523162675571662848\",\"1523162675571662848\",\"1523050102298152960\",\"1523050102298152960\",\"1523050102298152960\",\"1523162675571662848\",\"1523050102298152960\",\"1523050102298152960\",\"1523050102298152960\",\"1523050102298152960\",\"1523050102298152960\",\"1523050102298152960\",\"1523050102298152960\",\"1523050102298152960\",\"1523050102298152960\",\"1523050102298152960\",\"1523050102298152960\",\"1523050102298152960\",\"1523050102298152960\",\"1523050102298152960\",\"1523050102298152960\",\"1523050102298152960\",\"1523050102298152960\",\"1523162675571662848\",\"1523050102298152960\",\"1523050102298152960\",\"1523162675571662848\",\"1523050102298152960\",\"1523162675571662848\",\"1523050102298152960\",\"1523050102298152960\",\"1523162675571662848\",\"1523050102298152960\",\"1523050102298152960\",\"1523050102298152960\",\"1523050102298152960\",\"1523050102298152960\",\"1523050102298152960\",\"1523050102298152960\",\"1523050102298152960\",\"1523162675571662848\",\"1523162675571662848\",\"1523050102298152960\",\"1523050102298152960\",\"1523050102298152960\",\"1523050102298152960\",\"1523162675571662848\",\"1523050102298152960\",\"1523050102298152960\",\"1523050102298152960\",\"1523050102298152960\",\"1523162675571662848\",\"1523050102298152960\",\"1523050102298152960\",\"1523050102298152960\",\"1523050102298152960\",\"1523050102298152960\",\"1523162675571662848\",\"1523050102298152960\",\"1523162675571662848\",\"1523050102298152960\",\"1523050102298152960\",\"1523050102298152960\",\"1523050102298152960\",\"1523050102298152960\",\"1523050102298152960\",\"1523050102298152960\",\"1523050102298152960\",\"1523050102298152960\",\"1523050102298152960\",\"1523050102298152960\",\"1523050102298152960\",\"1523050102298152960\",\"1523050102298152960\",\"1523050102298152960\",\"1523050102298152960\",\"1523050102298152960\",\"1523050102298152960\",\"1523050102298152960\"],\"xaxis\":\"x\",\"y\":[0,0,0,7,1,0,0,0,0,0,1,1,0,0,0,0,3,0,0,1,1,0,0,1,1,0,0,0,0,0,0,1,0,0,0,17,0,0,1,0,0,1,1,0,2,0,6,0,0,4,0,0,0,1,7,1,0,0,0,0,1,4,0,1,0,0,0,0,5,2,7,6,0,1,85,4,1,3,0,0,1,0,1,3,0,0,2,0,2,5,1,0,0,0,0,1,0,0,0,0,1,0,35,0,96,0,3,1,1,0,0,38,5,15,84,0,19,2,1,2,9,111,3,76],\"yaxis\":\"y\",\"type\":\"scatter\"},{\"hovertemplate\":\"language=de<br>conversation_id=%{x}<br>likes_count=%{y}<br>replies_count=%{marker.size}<extra></extra>\",\"legendgroup\":\"de\",\"marker\":{\"color\":\"#00cc96\",\"size\":[0,1,1],\"sizemode\":\"area\",\"sizeref\":1.3775,\"symbol\":\"circle\"},\"mode\":\"markers\",\"name\":\"de\",\"orientation\":\"v\",\"showlegend\":true,\"x\":[\"1523386087359787008\",\"1523386087359787008\",\"1523386087359787008\"],\"xaxis\":\"x\",\"y\":[1,2,11],\"yaxis\":\"y\",\"type\":\"scatter\"},{\"hovertemplate\":\"language=und<br>conversation_id=%{x}<br>likes_count=%{y}<br>replies_count=%{marker.size}<extra></extra>\",\"legendgroup\":\"und\",\"marker\":{\"color\":\"#ab63fa\",\"size\":[0],\"sizemode\":\"area\",\"sizeref\":1.3775,\"symbol\":\"circle\"},\"mode\":\"markers\",\"name\":\"und\",\"orientation\":\"v\",\"showlegend\":true,\"x\":[\"1523386087359787008\"],\"xaxis\":\"x\",\"y\":[3],\"yaxis\":\"y\",\"type\":\"scatter\"},{\"hovertemplate\":\"language=ca<br>conversation_id=%{x}<br>likes_count=%{y}<br>replies_count=%{marker.size}<extra></extra>\",\"legendgroup\":\"ca\",\"marker\":{\"color\":\"#FFA15A\",\"size\":[0],\"sizemode\":\"area\",\"sizeref\":1.3775,\"symbol\":\"circle\"},\"mode\":\"markers\",\"name\":\"ca\",\"orientation\":\"v\",\"showlegend\":true,\"x\":[\"1523050102298152960\"],\"xaxis\":\"x\",\"y\":[0],\"yaxis\":\"y\",\"type\":\"scatter\"},{\"hovertemplate\":\"language=in<br>conversation_id=%{x}<br>likes_count=%{y}<br>replies_count=%{marker.size}<extra></extra>\",\"legendgroup\":\"in\",\"marker\":{\"color\":\"#19d3f3\",\"size\":[0,0,0,0,0,0,0,1,4,1,0,0,0,1,1,0,4,1,0,0,4,0,0,1,0,0,1,1,0,2,0,0,1,1,0,2,2,2,2,20],\"sizemode\":\"area\",\"sizeref\":1.3775,\"symbol\":\"circle\"},\"mode\":\"markers\",\"name\":\"in\",\"orientation\":\"v\",\"showlegend\":true,\"x\":[\"1522960077023457280\",\"1522960077023457280\",\"1522960077023457280\",\"1522960077023457280\",\"1522960077023457280\",\"1522960077023457280\",\"1522960077023457280\",\"1522960077023457280\",\"1522960077023457280\",\"1522960077023457280\",\"1522960077023457280\",\"1522960077023457280\",\"1522960077023457280\",\"1522960077023457280\",\"1522960077023457280\",\"1522960077023457280\",\"1522960077023457280\",\"1522960077023457280\",\"1522960077023457280\",\"1522960077023457280\",\"1522960077023457280\",\"1522960077023457280\",\"1522960077023457280\",\"1522960077023457280\",\"1522960077023457280\",\"1522960077023457280\",\"1522960077023457280\",\"1522960077023457280\",\"1522960077023457280\",\"1522960077023457280\",\"1522960077023457280\",\"1522960077023457280\",\"1522960077023457280\",\"1522960077023457280\",\"1522960077023457280\",\"1522960077023457280\",\"1522960077023457280\",\"1522960077023457280\",\"1522960077023457280\",\"1522960077023457280\"],\"xaxis\":\"x\",\"y\":[0,0,0,0,0,0,0,5,51,0,0,2,0,0,0,0,8,2,0,0,0,0,0,0,0,0,0,2,1,425,3,2,0,0,0,10,4,48,1,1782],\"yaxis\":\"y\",\"type\":\"scatter\"},{\"hovertemplate\":\"language=da<br>conversation_id=%{x}<br>likes_count=%{y}<br>replies_count=%{marker.size}<extra></extra>\",\"legendgroup\":\"da\",\"marker\":{\"color\":\"#FF6692\",\"size\":[0,0],\"sizemode\":\"area\",\"sizeref\":1.3775,\"symbol\":\"circle\"},\"mode\":\"markers\",\"name\":\"da\",\"orientation\":\"v\",\"showlegend\":true,\"x\":[\"1522986274365259780\",\"1522635878056796162\"],\"xaxis\":\"x\",\"y\":[0,0],\"yaxis\":\"y\",\"type\":\"scatter\"},{\"hovertemplate\":\"language=ht<br>conversation_id=%{x}<br>likes_count=%{y}<br>replies_count=%{marker.size}<extra></extra>\",\"legendgroup\":\"ht\",\"marker\":{\"color\":\"#B6E880\",\"size\":[0],\"sizemode\":\"area\",\"sizeref\":1.3775,\"symbol\":\"circle\"},\"mode\":\"markers\",\"name\":\"ht\",\"orientation\":\"v\",\"showlegend\":true,\"x\":[\"1522769843149287427\"],\"xaxis\":\"x\",\"y\":[0],\"yaxis\":\"y\",\"type\":\"scatter\"}],                        {\"template\":{\"data\":{\"histogram2dcontour\":[{\"type\":\"histogram2dcontour\",\"colorbar\":{\"outlinewidth\":0,\"ticks\":\"\"},\"colorscale\":[[0.0,\"#0d0887\"],[0.1111111111111111,\"#46039f\"],[0.2222222222222222,\"#7201a8\"],[0.3333333333333333,\"#9c179e\"],[0.4444444444444444,\"#bd3786\"],[0.5555555555555556,\"#d8576b\"],[0.6666666666666666,\"#ed7953\"],[0.7777777777777778,\"#fb9f3a\"],[0.8888888888888888,\"#fdca26\"],[1.0,\"#f0f921\"]]}],\"choropleth\":[{\"type\":\"choropleth\",\"colorbar\":{\"outlinewidth\":0,\"ticks\":\"\"}}],\"histogram2d\":[{\"type\":\"histogram2d\",\"colorbar\":{\"outlinewidth\":0,\"ticks\":\"\"},\"colorscale\":[[0.0,\"#0d0887\"],[0.1111111111111111,\"#46039f\"],[0.2222222222222222,\"#7201a8\"],[0.3333333333333333,\"#9c179e\"],[0.4444444444444444,\"#bd3786\"],[0.5555555555555556,\"#d8576b\"],[0.6666666666666666,\"#ed7953\"],[0.7777777777777778,\"#fb9f3a\"],[0.8888888888888888,\"#fdca26\"],[1.0,\"#f0f921\"]]}],\"heatmap\":[{\"type\":\"heatmap\",\"colorbar\":{\"outlinewidth\":0,\"ticks\":\"\"},\"colorscale\":[[0.0,\"#0d0887\"],[0.1111111111111111,\"#46039f\"],[0.2222222222222222,\"#7201a8\"],[0.3333333333333333,\"#9c179e\"],[0.4444444444444444,\"#bd3786\"],[0.5555555555555556,\"#d8576b\"],[0.6666666666666666,\"#ed7953\"],[0.7777777777777778,\"#fb9f3a\"],[0.8888888888888888,\"#fdca26\"],[1.0,\"#f0f921\"]]}],\"heatmapgl\":[{\"type\":\"heatmapgl\",\"colorbar\":{\"outlinewidth\":0,\"ticks\":\"\"},\"colorscale\":[[0.0,\"#0d0887\"],[0.1111111111111111,\"#46039f\"],[0.2222222222222222,\"#7201a8\"],[0.3333333333333333,\"#9c179e\"],[0.4444444444444444,\"#bd3786\"],[0.5555555555555556,\"#d8576b\"],[0.6666666666666666,\"#ed7953\"],[0.7777777777777778,\"#fb9f3a\"],[0.8888888888888888,\"#fdca26\"],[1.0,\"#f0f921\"]]}],\"contourcarpet\":[{\"type\":\"contourcarpet\",\"colorbar\":{\"outlinewidth\":0,\"ticks\":\"\"}}],\"contour\":[{\"type\":\"contour\",\"colorbar\":{\"outlinewidth\":0,\"ticks\":\"\"},\"colorscale\":[[0.0,\"#0d0887\"],[0.1111111111111111,\"#46039f\"],[0.2222222222222222,\"#7201a8\"],[0.3333333333333333,\"#9c179e\"],[0.4444444444444444,\"#bd3786\"],[0.5555555555555556,\"#d8576b\"],[0.6666666666666666,\"#ed7953\"],[0.7777777777777778,\"#fb9f3a\"],[0.8888888888888888,\"#fdca26\"],[1.0,\"#f0f921\"]]}],\"surface\":[{\"type\":\"surface\",\"colorbar\":{\"outlinewidth\":0,\"ticks\":\"\"},\"colorscale\":[[0.0,\"#0d0887\"],[0.1111111111111111,\"#46039f\"],[0.2222222222222222,\"#7201a8\"],[0.3333333333333333,\"#9c179e\"],[0.4444444444444444,\"#bd3786\"],[0.5555555555555556,\"#d8576b\"],[0.6666666666666666,\"#ed7953\"],[0.7777777777777778,\"#fb9f3a\"],[0.8888888888888888,\"#fdca26\"],[1.0,\"#f0f921\"]]}],\"mesh3d\":[{\"type\":\"mesh3d\",\"colorbar\":{\"outlinewidth\":0,\"ticks\":\"\"}}],\"scatter\":[{\"fillpattern\":{\"fillmode\":\"overlay\",\"size\":10,\"solidity\":0.2},\"type\":\"scatter\"}],\"parcoords\":[{\"type\":\"parcoords\",\"line\":{\"colorbar\":{\"outlinewidth\":0,\"ticks\":\"\"}}}],\"scatterpolargl\":[{\"type\":\"scatterpolargl\",\"marker\":{\"colorbar\":{\"outlinewidth\":0,\"ticks\":\"\"}}}],\"bar\":[{\"error_x\":{\"color\":\"#2a3f5f\"},\"error_y\":{\"color\":\"#2a3f5f\"},\"marker\":{\"line\":{\"color\":\"#E5ECF6\",\"width\":0.5},\"pattern\":{\"fillmode\":\"overlay\",\"size\":10,\"solidity\":0.2}},\"type\":\"bar\"}],\"scattergeo\":[{\"type\":\"scattergeo\",\"marker\":{\"colorbar\":{\"outlinewidth\":0,\"ticks\":\"\"}}}],\"scatterpolar\":[{\"type\":\"scatterpolar\",\"marker\":{\"colorbar\":{\"outlinewidth\":0,\"ticks\":\"\"}}}],\"histogram\":[{\"marker\":{\"pattern\":{\"fillmode\":\"overlay\",\"size\":10,\"solidity\":0.2}},\"type\":\"histogram\"}],\"scattergl\":[{\"type\":\"scattergl\",\"marker\":{\"colorbar\":{\"outlinewidth\":0,\"ticks\":\"\"}}}],\"scatter3d\":[{\"type\":\"scatter3d\",\"line\":{\"colorbar\":{\"outlinewidth\":0,\"ticks\":\"\"}},\"marker\":{\"colorbar\":{\"outlinewidth\":0,\"ticks\":\"\"}}}],\"scattermapbox\":[{\"type\":\"scattermapbox\",\"marker\":{\"colorbar\":{\"outlinewidth\":0,\"ticks\":\"\"}}}],\"scatterternary\":[{\"type\":\"scatterternary\",\"marker\":{\"colorbar\":{\"outlinewidth\":0,\"ticks\":\"\"}}}],\"scattercarpet\":[{\"type\":\"scattercarpet\",\"marker\":{\"colorbar\":{\"outlinewidth\":0,\"ticks\":\"\"}}}],\"carpet\":[{\"aaxis\":{\"endlinecolor\":\"#2a3f5f\",\"gridcolor\":\"white\",\"linecolor\":\"white\",\"minorgridcolor\":\"white\",\"startlinecolor\":\"#2a3f5f\"},\"baxis\":{\"endlinecolor\":\"#2a3f5f\",\"gridcolor\":\"white\",\"linecolor\":\"white\",\"minorgridcolor\":\"white\",\"startlinecolor\":\"#2a3f5f\"},\"type\":\"carpet\"}],\"table\":[{\"cells\":{\"fill\":{\"color\":\"#EBF0F8\"},\"line\":{\"color\":\"white\"}},\"header\":{\"fill\":{\"color\":\"#C8D4E3\"},\"line\":{\"color\":\"white\"}},\"type\":\"table\"}],\"barpolar\":[{\"marker\":{\"line\":{\"color\":\"#E5ECF6\",\"width\":0.5},\"pattern\":{\"fillmode\":\"overlay\",\"size\":10,\"solidity\":0.2}},\"type\":\"barpolar\"}],\"pie\":[{\"automargin\":true,\"type\":\"pie\"}]},\"layout\":{\"autotypenumbers\":\"strict\",\"colorway\":[\"#636efa\",\"#EF553B\",\"#00cc96\",\"#ab63fa\",\"#FFA15A\",\"#19d3f3\",\"#FF6692\",\"#B6E880\",\"#FF97FF\",\"#FECB52\"],\"font\":{\"color\":\"#2a3f5f\"},\"hovermode\":\"closest\",\"hoverlabel\":{\"align\":\"left\"},\"paper_bgcolor\":\"white\",\"plot_bgcolor\":\"#E5ECF6\",\"polar\":{\"bgcolor\":\"#E5ECF6\",\"angularaxis\":{\"gridcolor\":\"white\",\"linecolor\":\"white\",\"ticks\":\"\"},\"radialaxis\":{\"gridcolor\":\"white\",\"linecolor\":\"white\",\"ticks\":\"\"}},\"ternary\":{\"bgcolor\":\"#E5ECF6\",\"aaxis\":{\"gridcolor\":\"white\",\"linecolor\":\"white\",\"ticks\":\"\"},\"baxis\":{\"gridcolor\":\"white\",\"linecolor\":\"white\",\"ticks\":\"\"},\"caxis\":{\"gridcolor\":\"white\",\"linecolor\":\"white\",\"ticks\":\"\"}},\"coloraxis\":{\"colorbar\":{\"outlinewidth\":0,\"ticks\":\"\"}},\"colorscale\":{\"sequential\":[[0.0,\"#0d0887\"],[0.1111111111111111,\"#46039f\"],[0.2222222222222222,\"#7201a8\"],[0.3333333333333333,\"#9c179e\"],[0.4444444444444444,\"#bd3786\"],[0.5555555555555556,\"#d8576b\"],[0.6666666666666666,\"#ed7953\"],[0.7777777777777778,\"#fb9f3a\"],[0.8888888888888888,\"#fdca26\"],[1.0,\"#f0f921\"]],\"sequentialminus\":[[0.0,\"#0d0887\"],[0.1111111111111111,\"#46039f\"],[0.2222222222222222,\"#7201a8\"],[0.3333333333333333,\"#9c179e\"],[0.4444444444444444,\"#bd3786\"],[0.5555555555555556,\"#d8576b\"],[0.6666666666666666,\"#ed7953\"],[0.7777777777777778,\"#fb9f3a\"],[0.8888888888888888,\"#fdca26\"],[1.0,\"#f0f921\"]],\"diverging\":[[0,\"#8e0152\"],[0.1,\"#c51b7d\"],[0.2,\"#de77ae\"],[0.3,\"#f1b6da\"],[0.4,\"#fde0ef\"],[0.5,\"#f7f7f7\"],[0.6,\"#e6f5d0\"],[0.7,\"#b8e186\"],[0.8,\"#7fbc41\"],[0.9,\"#4d9221\"],[1,\"#276419\"]]},\"xaxis\":{\"gridcolor\":\"white\",\"linecolor\":\"white\",\"ticks\":\"\",\"title\":{\"standoff\":15},\"zerolinecolor\":\"white\",\"automargin\":true,\"zerolinewidth\":2},\"yaxis\":{\"gridcolor\":\"white\",\"linecolor\":\"white\",\"ticks\":\"\",\"title\":{\"standoff\":15},\"zerolinecolor\":\"white\",\"automargin\":true,\"zerolinewidth\":2},\"scene\":{\"xaxis\":{\"backgroundcolor\":\"#E5ECF6\",\"gridcolor\":\"white\",\"linecolor\":\"white\",\"showbackground\":true,\"ticks\":\"\",\"zerolinecolor\":\"white\",\"gridwidth\":2},\"yaxis\":{\"backgroundcolor\":\"#E5ECF6\",\"gridcolor\":\"white\",\"linecolor\":\"white\",\"showbackground\":true,\"ticks\":\"\",\"zerolinecolor\":\"white\",\"gridwidth\":2},\"zaxis\":{\"backgroundcolor\":\"#E5ECF6\",\"gridcolor\":\"white\",\"linecolor\":\"white\",\"showbackground\":true,\"ticks\":\"\",\"zerolinecolor\":\"white\",\"gridwidth\":2}},\"shapedefaults\":{\"line\":{\"color\":\"#2a3f5f\"}},\"annotationdefaults\":{\"arrowcolor\":\"#2a3f5f\",\"arrowhead\":0,\"arrowwidth\":1},\"geo\":{\"bgcolor\":\"white\",\"landcolor\":\"#E5ECF6\",\"subunitcolor\":\"white\",\"showland\":true,\"showlakes\":true,\"lakecolor\":\"white\"},\"title\":{\"x\":0.05},\"mapbox\":{\"style\":\"light\"}}},\"xaxis\":{\"anchor\":\"y\",\"domain\":[0.0,1.0],\"title\":{\"text\":\"conversation_id\"}},\"yaxis\":{\"anchor\":\"x\",\"domain\":[0.0,1.0],\"title\":{\"text\":\"likes_count\"},\"type\":\"log\"},\"legend\":{\"title\":{\"text\":\"language\"},\"tracegroupgap\":0,\"itemsizing\":\"constant\"},\"margin\":{\"t\":60}},                        {\"responsive\": true}                    ).then(function(){\n                            \nvar gd = document.getElementById('ff6bb7c1-1ebe-4389-a584-90d821c62246');\nvar x = new MutationObserver(function (mutations, observer) {{\n        var display = window.getComputedStyle(gd).display;\n        if (!display || display === 'none') {{\n            console.log([gd, 'removed!']);\n            Plotly.purge(gd);\n            observer.disconnect();\n        }}\n}});\n\n// Listen for the removal of the full notebook cells\nvar notebookContainer = gd.closest('#notebook-container');\nif (notebookContainer) {{\n    x.observe(notebookContainer, {childList: true});\n}}\n\n// Listen for the clearing of the current output cell\nvar outputEl = gd.closest('.output');\nif (outputEl) {{\n    x.observe(outputEl, {childList: true});\n}}\n\n                        })                };                            </script>        </div>\n</body>\n</html>"
     },
     "metadata": {},
     "output_type": "display_data"
    }
   ]
  },
  {
   "cell_type": "code",
   "metadata": {
    "colab": {
     "base_uri": "https://localhost:8080/",
     "height": 542
    },
    "id": "rH2v9j7jZmn_",
    "outputId": "9e0a0a42-8d23-4560-dbb4-601d72e2d0cf",
    "cell_id": "00041-86d7d775-941d-4f14-b7b1-d0149c782513",
    "deepnote_to_be_reexecuted": false,
    "source_hash": "d72d1902",
    "execution_start": 1657632241241,
    "execution_millis": 54,
    "deepnote_cell_type": "code",
    "deepnote_cell_height": 678,
    "deepnote_output_heights": [
     527
    ]
   },
   "source": "#Vizualizamos en simultaneo: hilos, idioma, cantidad de likes y el tamaño del círculo según la cantidad de respuetas\n\nfig = px.scatter(conv, y=conv[\"likes_count\"], x=conv[\"conversation_id\"], color=conv['date'], size='retweets_count', log_y=True)\nfig.show()",
   "execution_count": null,
   "outputs": [
    {
     "data": {
      "text/html": "<html>\n<head><meta charset=\"utf-8\" /></head>\n<body>\n    <div>            <script src=\"https://cdnjs.cloudflare.com/ajax/libs/mathjax/2.7.5/MathJax.js?config=TeX-AMS-MML_SVG\"></script><script type=\"text/javascript\">if (window.MathJax && window.MathJax.Hub && && window.MathJax.Hub.Config) {window.MathJax.Hub.Config({SVG: {font: \"STIX-Web\"}});}</script>                <script type=\"text/javascript\">window.PlotlyConfig = {MathJaxConfig: 'local'};</script>\n        <script src=\"https://cdn.plot.ly/plotly-2.12.1.min.js\"></script>                <div id=\"908448bd-5b81-45e0-b332-2d0eb90d4103\" class=\"plotly-graph-div\" style=\"height:525px; width:100%;\"></div>            <script type=\"text/javascript\">                                    window.PLOTLYENV=window.PLOTLYENV || {};                                    if (document.getElementById(\"908448bd-5b81-45e0-b332-2d0eb90d4103\")) {                    Plotly.newPlot(                        \"908448bd-5b81-45e0-b332-2d0eb90d4103\",                        [{\"hovertemplate\":\"date=2022-05-08<br>conversation_id=%{x}<br>likes_count=%{y}<br>retweets_count=%{marker.size}<extra></extra>\",\"legendgroup\":\"2022-05-08\",\"marker\":{\"color\":\"#636efa\",\"size\":[0,0,0,0,0,0,0,2,0,8,0,0,0,0,0,0,0,0,0,0,3,0,0,0,0,0,0,0,0,0,0,0,0,1,0,4,2,0,0,0,0,0,0,1,0,0,0,0,0,0,0,1,0,0,0,0,0,0,0,0,0,0,0,0,0,0,0,1,0,0,0,0,30,62,39,736,0,0,0,0,0,0,0,0,0,0,0,0,0,6,0,0,0,0,0,0,0,0,0,0,0,0,0,0,0,0,0,0,0,0,0,0,0,0,0,0,0,0,0,0,0,0,0,0,0,0,0,0,1,20,0,0,0,0,2,0,0,0,0,2,0,0,0,13,0,0,0,0,0,0,0,0,0,0,0,0,0,0,0,0,0,0,0,1,0,0,0,0,0,0,0,0,0,0,0,0,0,0,0,0,0,0,0,0,1,0,0,0,0,0,2,0,66,0,0,0,0,0,0,0,0,1,0,0,0,0],\"sizemode\":\"area\",\"sizeref\":17.0725,\"symbol\":\"circle\"},\"mode\":\"markers\",\"name\":\"2022-05-08\",\"orientation\":\"v\",\"showlegend\":true,\"x\":[\"1523386087359787008\",\"1523386087359787008\",\"1523386087359787008\",\"1523162675571662848\",\"1523162675571662848\",\"1523386087359787008\",\"1523162675571662848\",\"1523386087359787008\",\"1523386087359787008\",\"1523162675571662848\",\"1522635878056796162\",\"1523050102298152960\",\"1523386087359787008\",\"1523050102298152960\",\"1523162675571662848\",\"1523050102298152960\",\"1523162675571662848\",\"1523386087359787008\",\"1523386087359787008\",\"1523386087359787008\",\"1523386087359787008\",\"1523050102298152960\",\"1523162675571662848\",\"1523050102298152960\",\"1523386087359787008\",\"1523386087359787008\",\"1523386087359787008\",\"1523162675571662848\",\"1523050102298152960\",\"1523050102298152960\",\"1523050102298152960\",\"1523050102298152960\",\"1523050102298152960\",\"1523386087359787008\",\"1523050102298152960\",\"1523386087359787008\",\"1523050102298152960\",\"1523050102298152960\",\"1523386087359787008\",\"1523162675571662848\",\"1523386087359787008\",\"1523386087359787008\",\"1522766337273171968\",\"1523386087359787008\",\"1523162675571662848\",\"1523386087359787008\",\"1522986274365259780\",\"1523386087359787008\",\"1523050102298152960\",\"1523386087359787008\",\"1523050102298152960\",\"1523386087359787008\",\"1523162675571662848\",\"1523386087359787008\",\"1523386087359787008\",\"1523162675571662848\",\"1523386087359787008\",\"1523386087359787008\",\"1523050102298152960\",\"1523386087359787008\",\"1522766337273171968\",\"1523162675571662848\",\"1523162675571662848\",\"1523162675571662848\",\"1523050102298152960\",\"1523386087359787008\",\"1523050102298152960\",\"1523386087359787008\",\"1523386087359787008\",\"1523050102298152960\",\"1523050102298152960\",\"1523162675571662848\",\"1523386087359787008\",\"1523386087359787008\",\"1523386087359787008\",\"1523386087359787008\",\"1522986274365259780\",\"1523162675571662848\",\"1523050102298152960\",\"1523050102298152960\",\"1523050102298152960\",\"1523050102298152960\",\"1523050102298152960\",\"1522766337273171968\",\"1522766337273171968\",\"1523050102298152960\",\"1523050102298152960\",\"1523050102298152960\",\"1523162675571662848\",\"1523162675571662848\",\"1523050102298152960\",\"1523050102298152960\",\"1522986274365259780\",\"1523050102298152960\",\"1522986274365259780\",\"1523050102298152960\",\"1523162675571662848\",\"1523050102298152960\",\"1523050102298152960\",\"1522960077023457280\",\"1523050102298152960\",\"1523050102298152960\",\"1523050102298152960\",\"1522986274365259780\",\"1522960077023457280\",\"1523050102298152960\",\"1522735443636363264\",\"1523050102298152960\",\"1522960077023457280\",\"1522960077023457280\",\"1522960077023457280\",\"1522735443636363264\",\"1523050102298152960\",\"1523050102298152960\",\"1523050102298152960\",\"1523050102298152960\",\"1522960077023457280\",\"1522735443636363264\",\"1522986274365259780\",\"1523050102298152960\",\"1523050102298152960\",\"1522769843149287427\",\"1522960077023457280\",\"1523050102298152960\",\"1522986274365259780\",\"1523050102298152960\",\"1523050102298152960\",\"1523050102298152960\",\"1522960077023457280\",\"1522960077023457280\",\"1523162675571662848\",\"1522986274365259780\",\"1523050102298152960\",\"1522986274365259780\",\"1523050102298152960\",\"1522960077023457280\",\"1523162675571662848\",\"1523050102298152960\",\"1523162675571662848\",\"1523050102298152960\",\"1522766337273171968\",\"1522635878056796162\",\"1523050102298152960\",\"1522986274365259780\",\"1523162675571662848\",\"1523050102298152960\",\"1522986274365259780\",\"1522960077023457280\",\"1523050102298152960\",\"1523050102298152960\",\"1523050102298152960\",\"1522986274365259780\",\"1523050102298152960\",\"1523050102298152960\",\"1522960077023457280\",\"1523050102298152960\",\"1523050102298152960\",\"1523162675571662848\",\"1523162675571662848\",\"1523050102298152960\",\"1523050102298152960\",\"1523050102298152960\",\"1523050102298152960\",\"1522986274365259780\",\"1523162675571662848\",\"1523050102298152960\",\"1522960077023457280\",\"1522986274365259780\",\"1522766337273171968\",\"1523050102298152960\",\"1522986274365259780\",\"1523050102298152960\",\"1522960077023457280\",\"1523050102298152960\",\"1522986274365259780\",\"1522505145392799744\",\"1523162675571662848\",\"1522735443636363264\",\"1523050102298152960\",\"1523050102298152960\",\"1523050102298152960\",\"1522960077023457280\",\"1523050102298152960\",\"1522505145392799744\",\"1522960077023457280\",\"1522505145392799744\",\"1522960077023457280\",\"1523050102298152960\",\"1522960077023457280\",\"1522505145392799744\",\"1523162675571662848\",\"1523050102298152960\",\"1523162675571662848\",\"1522635878056796162\",\"1522635878056796162\",\"1523050102298152960\",\"1523050102298152960\",\"1522960077023457280\",\"1523050102298152960\",\"1522960077023457280\",\"1522769843149287427\",\"1522960077023457280\",\"1522735443636363264\",\"1522769843149287427\",\"1522735443636363264\",\"1522960077023457280\"],\"xaxis\":\"x\",\"y\":[0,0,0,0,0,5,0,10,1,7,0,1,0,0,0,0,0,1,0,2,20,0,1,1,10,0,0,0,0,0,0,3,0,14,0,21,1,1,2,0,0,0,1,4,0,1,0,1,1,1,1,24,0,2,3,0,0,6,0,4,0,0,0,0,1,11,0,9,3,0,0,17,471,603,564,2073,0,0,0,1,0,0,1,2,0,1,0,2,0,6,0,0,0,0,0,4,0,0,0,0,1,7,1,0,0,0,1,0,0,0,0,0,0,0,1,4,0,0,1,0,1,0,0,0,3,0,0,0,5,51,5,0,2,0,7,0,6,0,1,85,2,0,4,103,1,3,0,0,0,0,1,4,0,1,2,3,0,0,2,0,2,5,1,1,0,0,0,0,1,0,2,0,0,1,4,0,0,0,0,0,0,0,1,0,0,0,8,0,2,0,35,0,96,0,0,0,3,0,1,0,0,0,1,0,0,0],\"yaxis\":\"y\",\"type\":\"scatter\"},{\"hovertemplate\":\"date=2022-05-07<br>conversation_id=%{x}<br>likes_count=%{y}<br>retweets_count=%{marker.size}<extra></extra>\",\"legendgroup\":\"2022-05-07\",\"marker\":{\"color\":\"#EF553B\",\"size\":[0,0,0,0,0,0,0,0,0,0,0,1,0,0,0,0,0,1,58,0,3,1,1,0,0,6,0,1,0,0,0,1,0,31,0,0,0,0,0,0,0,3,0,0,0,1,0,0,0,0,12,0,2,0,0,1,7,0,0,2,0,0,0,0,0,0,0,0,0,0,0,0,0,22,0,40,0,6,0,1,0,0,0,0,0,1,2,3,17,1,0,0,160,4,2,0,0,0,0,0,0,72,0,0,1,0,0,0,0,0,6,0,0,0,0,0,0,0,0,0,0,1,0,0,2,0,0,0,1,2,0,1,2,0,0,0,1,1,0,0,0,0,0,0,0,0,0,0,0,0,0,1,6,0,1,1,0,0,13,0,0,0,0,2,0,0,29,7,0],\"sizemode\":\"area\",\"sizeref\":17.0725,\"symbol\":\"circle\"},\"mode\":\"markers\",\"name\":\"2022-05-07\",\"orientation\":\"v\",\"showlegend\":true,\"x\":[\"1522960077023457280\",\"1522960077023457280\",\"1522766337273171968\",\"1522769843149287427\",\"1522960077023457280\",\"1522960077023457280\",\"1522635878056796162\",\"1523050102298152960\",\"1522766337273171968\",\"1523050102298152960\",\"1522735443636363264\",\"1522960077023457280\",\"1522735443636363264\",\"1522735443636363264\",\"1522986274365259780\",\"1522735443636363264\",\"1522960077023457280\",\"1522960077023457280\",\"1522960077023457280\",\"1523050102298152960\",\"1522960077023457280\",\"1523050102298152960\",\"1523050102298152960\",\"1523050102298152960\",\"1522505145392799744\",\"1523050102298152960\",\"1523050102298152960\",\"1523050102298152960\",\"1523050102298152960\",\"1523050102298152960\",\"1523050102298152960\",\"1523050102298152960\",\"1522766337273171968\",\"1523050102298152960\",\"1522735443636363264\",\"1522986274365259780\",\"1522986274365259780\",\"1523050102298152960\",\"1522769843149287427\",\"1522735443636363264\",\"1522766337273171968\",\"1523050102298152960\",\"1522735443636363264\",\"1522766337273171968\",\"1522505145392799744\",\"1522505145392799744\",\"1522505145392799744\",\"1522735443636363264\",\"1522766337273171968\",\"1522735443636363264\",\"1522986274365259780\",\"1522735443636363264\",\"1522986274365259780\",\"1522986274365259780\",\"1522766337273171968\",\"1522986274365259780\",\"1522986274365259780\",\"1522986274365259780\",\"1522635878056796162\",\"1522986274365259780\",\"1522986274365259780\",\"1522635878056796162\",\"1522986274365259780\",\"1522960077023457280\",\"1522960077023457280\",\"1522735443636363264\",\"1522986274365259780\",\"1522635878056796162\",\"1522635878056796162\",\"1522986274365259780\",\"1522986274365259780\",\"1522986274365259780\",\"1522766337273171968\",\"1522986274365259780\",\"1522635878056796162\",\"1522986274365259780\",\"1522960077023457280\",\"1522986274365259780\",\"1522635878056796162\",\"1522986274365259780\",\"1522986274365259780\",\"1522735443636363264\",\"1522635878056796162\",\"1522960077023457280\",\"1522766337273171968\",\"1522960077023457280\",\"1522766337273171968\",\"1522960077023457280\",\"1522960077023457280\",\"1522960077023457280\",\"1522766337273171968\",\"1522766337273171968\",\"1522960077023457280\",\"1522735443636363264\",\"1522769843149287427\",\"1522735443636363264\",\"1522635878056796162\",\"1522505145392799744\",\"1522766337273171968\",\"1522735443636363264\",\"1522635878056796162\",\"1522635878056796162\",\"1522735443636363264\",\"1522505145392799744\",\"1522766337273171968\",\"1522735443636363264\",\"1522505145392799744\",\"1522735443636363264\",\"1522635878056796162\",\"1522769843149287427\",\"1522766337273171968\",\"1522735443636363264\",\"1522505145392799744\",\"1522735443636363264\",\"1522766337273171968\",\"1522769843149287427\",\"1522735443636363264\",\"1522735443636363264\",\"1522769843149287427\",\"1522766337273171968\",\"1522505145392799744\",\"1522735443636363264\",\"1522505145392799744\",\"1522735443636363264\",\"1522735443636363264\",\"1522769843149287427\",\"1522735443636363264\",\"1522735443636363264\",\"1522769843149287427\",\"1522766337273171968\",\"1522766337273171968\",\"1522766337273171968\",\"1522769843149287427\",\"1522635878056796162\",\"1522505145392799744\",\"1522735443636363264\",\"1522505145392799744\",\"1522735443636363264\",\"1522769843149287427\",\"1522766337273171968\",\"1522766337273171968\",\"1522735443636363264\",\"1522735443636363264\",\"1522766337273171968\",\"1522735443636363264\",\"1522735443636363264\",\"1522769843149287427\",\"1522505145392799744\",\"1522635878056796162\",\"1522505145392799744\",\"1522635878056796162\",\"1522635878056796162\",\"1522735443636363264\",\"1522505145392799744\",\"1522735443636363264\",\"1522735443636363264\",\"1522735443636363264\",\"1522505145392799744\",\"1522735443636363264\",\"1522735443636363264\",\"1522769843149287427\",\"1522735443636363264\",\"1522735443636363264\",\"1522769843149287427\",\"1522769843149287427\",\"1522769843149287427\",\"1522769843149287427\",\"1522769843149287427\",\"1522635878056796162\"],\"xaxis\":\"x\",\"y\":[0,0,0,3,0,0,2,1,2,0,1,0,0,0,2,0,2,1,425,0,3,38,5,15,1,84,0,19,2,1,2,9,0,111,0,2,3,3,0,0,11,76,0,2,0,3,0,1,1,0,92,0,9,0,0,16,69,0,4,12,1,0,0,2,0,4,0,0,0,40,0,7,3,241,1,499,0,66,0,14,11,0,1,0,0,10,6,4,48,1,12,0,1782,9,51,0,11,0,0,1,6,376,3,0,6,16,0,5,0,3,33,5,3,1,2,2,19,0,2,1,0,49,1,5,15,1,4,0,17,1,2,18,11,0,1,1,4,23,0,0,9,2,11,11,0,1,4,0,1,0,9,0,53,9,4,5,36,0,172,2,1,1,8,25,65,15,327,147,0],\"yaxis\":\"y\",\"type\":\"scatter\"},{\"hovertemplate\":\"date=2022-05-06<br>conversation_id=%{x}<br>likes_count=%{y}<br>retweets_count=%{marker.size}<extra></extra>\",\"legendgroup\":\"2022-05-06\",\"marker\":{\"color\":\"#00cc96\",\"size\":[83,1,973,0,0,0,1,6829,0,3,0,0,0,0,0,0,0,0,0,0,0,0,0,0,0,0,0,0,1,0,102,1,157,1,0,0,0,21,3,0,73,42,51,71,40,911,16,2,3,814],\"sizemode\":\"area\",\"sizeref\":17.0725,\"symbol\":\"circle\"},\"mode\":\"markers\",\"name\":\"2022-05-06\",\"orientation\":\"v\",\"showlegend\":true,\"x\":[\"1522769843149287427\",\"1522505145392799744\",\"1522766337273171968\",\"1522635878056796162\",\"1522635878056796162\",\"1522505145392799744\",\"1522735443636363264\",\"1522735443636363264\",\"1522635878056796162\",\"1522635878056796162\",\"1522635878056796162\",\"1522635878056796162\",\"1522635878056796162\",\"1522635878056796162\",\"1522635878056796162\",\"1522635878056796162\",\"1522635878056796162\",\"1522635878056796162\",\"1522635878056796162\",\"1522635878056796162\",\"1522635878056796162\",\"1522635878056796162\",\"1522635878056796162\",\"1522635878056796162\",\"1522635878056796162\",\"1522635878056796162\",\"1522635878056796162\",\"1522635878056796162\",\"1522635878056796162\",\"1522635878056796162\",\"1522635878056796162\",\"1522635878056796162\",\"1522635878056796162\",\"1522635878056796162\",\"1522635878056796162\",\"1522635878056796162\",\"1522505145392799744\",\"1522635878056796162\",\"1522635878056796162\",\"1522635878056796162\",\"1522635878056796162\",\"1522635878056796162\",\"1522635878056796162\",\"1522635878056796162\",\"1522635878056796162\",\"1522635878056796162\",\"1522505145392799744\",\"1522505145392799744\",\"1522505145392799744\",\"1522505145392799744\"],\"xaxis\":\"x\",\"y\":[839,21,5438,0,1,2,69,24499,0,8,1,0,0,0,0,2,2,0,0,0,1,0,1,11,1,1,1,1,2,4,339,16,390,6,0,5,9,181,34,1,319,188,219,264,240,2029,149,40,79,1924],\"yaxis\":\"y\",\"type\":\"scatter\"}],                        {\"template\":{\"data\":{\"histogram2dcontour\":[{\"type\":\"histogram2dcontour\",\"colorbar\":{\"outlinewidth\":0,\"ticks\":\"\"},\"colorscale\":[[0.0,\"#0d0887\"],[0.1111111111111111,\"#46039f\"],[0.2222222222222222,\"#7201a8\"],[0.3333333333333333,\"#9c179e\"],[0.4444444444444444,\"#bd3786\"],[0.5555555555555556,\"#d8576b\"],[0.6666666666666666,\"#ed7953\"],[0.7777777777777778,\"#fb9f3a\"],[0.8888888888888888,\"#fdca26\"],[1.0,\"#f0f921\"]]}],\"choropleth\":[{\"type\":\"choropleth\",\"colorbar\":{\"outlinewidth\":0,\"ticks\":\"\"}}],\"histogram2d\":[{\"type\":\"histogram2d\",\"colorbar\":{\"outlinewidth\":0,\"ticks\":\"\"},\"colorscale\":[[0.0,\"#0d0887\"],[0.1111111111111111,\"#46039f\"],[0.2222222222222222,\"#7201a8\"],[0.3333333333333333,\"#9c179e\"],[0.4444444444444444,\"#bd3786\"],[0.5555555555555556,\"#d8576b\"],[0.6666666666666666,\"#ed7953\"],[0.7777777777777778,\"#fb9f3a\"],[0.8888888888888888,\"#fdca26\"],[1.0,\"#f0f921\"]]}],\"heatmap\":[{\"type\":\"heatmap\",\"colorbar\":{\"outlinewidth\":0,\"ticks\":\"\"},\"colorscale\":[[0.0,\"#0d0887\"],[0.1111111111111111,\"#46039f\"],[0.2222222222222222,\"#7201a8\"],[0.3333333333333333,\"#9c179e\"],[0.4444444444444444,\"#bd3786\"],[0.5555555555555556,\"#d8576b\"],[0.6666666666666666,\"#ed7953\"],[0.7777777777777778,\"#fb9f3a\"],[0.8888888888888888,\"#fdca26\"],[1.0,\"#f0f921\"]]}],\"heatmapgl\":[{\"type\":\"heatmapgl\",\"colorbar\":{\"outlinewidth\":0,\"ticks\":\"\"},\"colorscale\":[[0.0,\"#0d0887\"],[0.1111111111111111,\"#46039f\"],[0.2222222222222222,\"#7201a8\"],[0.3333333333333333,\"#9c179e\"],[0.4444444444444444,\"#bd3786\"],[0.5555555555555556,\"#d8576b\"],[0.6666666666666666,\"#ed7953\"],[0.7777777777777778,\"#fb9f3a\"],[0.8888888888888888,\"#fdca26\"],[1.0,\"#f0f921\"]]}],\"contourcarpet\":[{\"type\":\"contourcarpet\",\"colorbar\":{\"outlinewidth\":0,\"ticks\":\"\"}}],\"contour\":[{\"type\":\"contour\",\"colorbar\":{\"outlinewidth\":0,\"ticks\":\"\"},\"colorscale\":[[0.0,\"#0d0887\"],[0.1111111111111111,\"#46039f\"],[0.2222222222222222,\"#7201a8\"],[0.3333333333333333,\"#9c179e\"],[0.4444444444444444,\"#bd3786\"],[0.5555555555555556,\"#d8576b\"],[0.6666666666666666,\"#ed7953\"],[0.7777777777777778,\"#fb9f3a\"],[0.8888888888888888,\"#fdca26\"],[1.0,\"#f0f921\"]]}],\"surface\":[{\"type\":\"surface\",\"colorbar\":{\"outlinewidth\":0,\"ticks\":\"\"},\"colorscale\":[[0.0,\"#0d0887\"],[0.1111111111111111,\"#46039f\"],[0.2222222222222222,\"#7201a8\"],[0.3333333333333333,\"#9c179e\"],[0.4444444444444444,\"#bd3786\"],[0.5555555555555556,\"#d8576b\"],[0.6666666666666666,\"#ed7953\"],[0.7777777777777778,\"#fb9f3a\"],[0.8888888888888888,\"#fdca26\"],[1.0,\"#f0f921\"]]}],\"mesh3d\":[{\"type\":\"mesh3d\",\"colorbar\":{\"outlinewidth\":0,\"ticks\":\"\"}}],\"scatter\":[{\"fillpattern\":{\"fillmode\":\"overlay\",\"size\":10,\"solidity\":0.2},\"type\":\"scatter\"}],\"parcoords\":[{\"type\":\"parcoords\",\"line\":{\"colorbar\":{\"outlinewidth\":0,\"ticks\":\"\"}}}],\"scatterpolargl\":[{\"type\":\"scatterpolargl\",\"marker\":{\"colorbar\":{\"outlinewidth\":0,\"ticks\":\"\"}}}],\"bar\":[{\"error_x\":{\"color\":\"#2a3f5f\"},\"error_y\":{\"color\":\"#2a3f5f\"},\"marker\":{\"line\":{\"color\":\"#E5ECF6\",\"width\":0.5},\"pattern\":{\"fillmode\":\"overlay\",\"size\":10,\"solidity\":0.2}},\"type\":\"bar\"}],\"scattergeo\":[{\"type\":\"scattergeo\",\"marker\":{\"colorbar\":{\"outlinewidth\":0,\"ticks\":\"\"}}}],\"scatterpolar\":[{\"type\":\"scatterpolar\",\"marker\":{\"colorbar\":{\"outlinewidth\":0,\"ticks\":\"\"}}}],\"histogram\":[{\"marker\":{\"pattern\":{\"fillmode\":\"overlay\",\"size\":10,\"solidity\":0.2}},\"type\":\"histogram\"}],\"scattergl\":[{\"type\":\"scattergl\",\"marker\":{\"colorbar\":{\"outlinewidth\":0,\"ticks\":\"\"}}}],\"scatter3d\":[{\"type\":\"scatter3d\",\"line\":{\"colorbar\":{\"outlinewidth\":0,\"ticks\":\"\"}},\"marker\":{\"colorbar\":{\"outlinewidth\":0,\"ticks\":\"\"}}}],\"scattermapbox\":[{\"type\":\"scattermapbox\",\"marker\":{\"colorbar\":{\"outlinewidth\":0,\"ticks\":\"\"}}}],\"scatterternary\":[{\"type\":\"scatterternary\",\"marker\":{\"colorbar\":{\"outlinewidth\":0,\"ticks\":\"\"}}}],\"scattercarpet\":[{\"type\":\"scattercarpet\",\"marker\":{\"colorbar\":{\"outlinewidth\":0,\"ticks\":\"\"}}}],\"carpet\":[{\"aaxis\":{\"endlinecolor\":\"#2a3f5f\",\"gridcolor\":\"white\",\"linecolor\":\"white\",\"minorgridcolor\":\"white\",\"startlinecolor\":\"#2a3f5f\"},\"baxis\":{\"endlinecolor\":\"#2a3f5f\",\"gridcolor\":\"white\",\"linecolor\":\"white\",\"minorgridcolor\":\"white\",\"startlinecolor\":\"#2a3f5f\"},\"type\":\"carpet\"}],\"table\":[{\"cells\":{\"fill\":{\"color\":\"#EBF0F8\"},\"line\":{\"color\":\"white\"}},\"header\":{\"fill\":{\"color\":\"#C8D4E3\"},\"line\":{\"color\":\"white\"}},\"type\":\"table\"}],\"barpolar\":[{\"marker\":{\"line\":{\"color\":\"#E5ECF6\",\"width\":0.5},\"pattern\":{\"fillmode\":\"overlay\",\"size\":10,\"solidity\":0.2}},\"type\":\"barpolar\"}],\"pie\":[{\"automargin\":true,\"type\":\"pie\"}]},\"layout\":{\"autotypenumbers\":\"strict\",\"colorway\":[\"#636efa\",\"#EF553B\",\"#00cc96\",\"#ab63fa\",\"#FFA15A\",\"#19d3f3\",\"#FF6692\",\"#B6E880\",\"#FF97FF\",\"#FECB52\"],\"font\":{\"color\":\"#2a3f5f\"},\"hovermode\":\"closest\",\"hoverlabel\":{\"align\":\"left\"},\"paper_bgcolor\":\"white\",\"plot_bgcolor\":\"#E5ECF6\",\"polar\":{\"bgcolor\":\"#E5ECF6\",\"angularaxis\":{\"gridcolor\":\"white\",\"linecolor\":\"white\",\"ticks\":\"\"},\"radialaxis\":{\"gridcolor\":\"white\",\"linecolor\":\"white\",\"ticks\":\"\"}},\"ternary\":{\"bgcolor\":\"#E5ECF6\",\"aaxis\":{\"gridcolor\":\"white\",\"linecolor\":\"white\",\"ticks\":\"\"},\"baxis\":{\"gridcolor\":\"white\",\"linecolor\":\"white\",\"ticks\":\"\"},\"caxis\":{\"gridcolor\":\"white\",\"linecolor\":\"white\",\"ticks\":\"\"}},\"coloraxis\":{\"colorbar\":{\"outlinewidth\":0,\"ticks\":\"\"}},\"colorscale\":{\"sequential\":[[0.0,\"#0d0887\"],[0.1111111111111111,\"#46039f\"],[0.2222222222222222,\"#7201a8\"],[0.3333333333333333,\"#9c179e\"],[0.4444444444444444,\"#bd3786\"],[0.5555555555555556,\"#d8576b\"],[0.6666666666666666,\"#ed7953\"],[0.7777777777777778,\"#fb9f3a\"],[0.8888888888888888,\"#fdca26\"],[1.0,\"#f0f921\"]],\"sequentialminus\":[[0.0,\"#0d0887\"],[0.1111111111111111,\"#46039f\"],[0.2222222222222222,\"#7201a8\"],[0.3333333333333333,\"#9c179e\"],[0.4444444444444444,\"#bd3786\"],[0.5555555555555556,\"#d8576b\"],[0.6666666666666666,\"#ed7953\"],[0.7777777777777778,\"#fb9f3a\"],[0.8888888888888888,\"#fdca26\"],[1.0,\"#f0f921\"]],\"diverging\":[[0,\"#8e0152\"],[0.1,\"#c51b7d\"],[0.2,\"#de77ae\"],[0.3,\"#f1b6da\"],[0.4,\"#fde0ef\"],[0.5,\"#f7f7f7\"],[0.6,\"#e6f5d0\"],[0.7,\"#b8e186\"],[0.8,\"#7fbc41\"],[0.9,\"#4d9221\"],[1,\"#276419\"]]},\"xaxis\":{\"gridcolor\":\"white\",\"linecolor\":\"white\",\"ticks\":\"\",\"title\":{\"standoff\":15},\"zerolinecolor\":\"white\",\"automargin\":true,\"zerolinewidth\":2},\"yaxis\":{\"gridcolor\":\"white\",\"linecolor\":\"white\",\"ticks\":\"\",\"title\":{\"standoff\":15},\"zerolinecolor\":\"white\",\"automargin\":true,\"zerolinewidth\":2},\"scene\":{\"xaxis\":{\"backgroundcolor\":\"#E5ECF6\",\"gridcolor\":\"white\",\"linecolor\":\"white\",\"showbackground\":true,\"ticks\":\"\",\"zerolinecolor\":\"white\",\"gridwidth\":2},\"yaxis\":{\"backgroundcolor\":\"#E5ECF6\",\"gridcolor\":\"white\",\"linecolor\":\"white\",\"showbackground\":true,\"ticks\":\"\",\"zerolinecolor\":\"white\",\"gridwidth\":2},\"zaxis\":{\"backgroundcolor\":\"#E5ECF6\",\"gridcolor\":\"white\",\"linecolor\":\"white\",\"showbackground\":true,\"ticks\":\"\",\"zerolinecolor\":\"white\",\"gridwidth\":2}},\"shapedefaults\":{\"line\":{\"color\":\"#2a3f5f\"}},\"annotationdefaults\":{\"arrowcolor\":\"#2a3f5f\",\"arrowhead\":0,\"arrowwidth\":1},\"geo\":{\"bgcolor\":\"white\",\"landcolor\":\"#E5ECF6\",\"subunitcolor\":\"white\",\"showland\":true,\"showlakes\":true,\"lakecolor\":\"white\"},\"title\":{\"x\":0.05},\"mapbox\":{\"style\":\"light\"}}},\"xaxis\":{\"anchor\":\"y\",\"domain\":[0.0,1.0],\"title\":{\"text\":\"conversation_id\"}},\"yaxis\":{\"anchor\":\"x\",\"domain\":[0.0,1.0],\"title\":{\"text\":\"likes_count\"},\"type\":\"log\"},\"legend\":{\"title\":{\"text\":\"date\"},\"tracegroupgap\":0,\"itemsizing\":\"constant\"},\"margin\":{\"t\":60}},                        {\"responsive\": true}                    ).then(function(){\n                            \nvar gd = document.getElementById('908448bd-5b81-45e0-b332-2d0eb90d4103');\nvar x = new MutationObserver(function (mutations, observer) {{\n        var display = window.getComputedStyle(gd).display;\n        if (!display || display === 'none') {{\n            console.log([gd, 'removed!']);\n            Plotly.purge(gd);\n            observer.disconnect();\n        }}\n}});\n\n// Listen for the removal of the full notebook cells\nvar notebookContainer = gd.closest('#notebook-container');\nif (notebookContainer) {{\n    x.observe(notebookContainer, {childList: true});\n}}\n\n// Listen for the clearing of the current output cell\nvar outputEl = gd.closest('.output');\nif (outputEl) {{\n    x.observe(outputEl, {childList: true});\n}}\n\n                        })                };                            </script>        </div>\n</body>\n</html>"
     },
     "metadata": {},
     "output_type": "display_data"
    }
   ]
  },
  {
   "cell_type": "code",
   "metadata": {
    "colab": {
     "base_uri": "https://localhost:8080/",
     "height": 542
    },
    "id": "T_U00VvjZqgn",
    "outputId": "e6e73706-1860-48bf-af99-d83d374c964e",
    "cell_id": "00042-ebcfe48e-e775-459d-8290-ccf818d82aa4",
    "deepnote_to_be_reexecuted": false,
    "source_hash": "cb11c04",
    "execution_start": 1657632241304,
    "execution_millis": 239,
    "deepnote_cell_type": "code",
    "deepnote_cell_height": 695,
    "deepnote_output_heights": [
     544
    ]
   },
   "source": "#Vizualizamos likes, retweets y conversación en 3d coloreado por día\n\nfig = px.scatter_3d(conv, y=\"likes_count\", x=\"conversation_id\", z='retweets_count', color='date')\nfig.show()",
   "execution_count": null,
   "outputs": [
    {
     "data": {
      "text/html": "<html>\n<head><meta charset=\"utf-8\" /></head>\n<body>\n    <div>            <script src=\"https://cdnjs.cloudflare.com/ajax/libs/mathjax/2.7.5/MathJax.js?config=TeX-AMS-MML_SVG\"></script><script type=\"text/javascript\">if (window.MathJax && window.MathJax.Hub && && window.MathJax.Hub.Config) {window.MathJax.Hub.Config({SVG: {font: \"STIX-Web\"}});}</script>                <script type=\"text/javascript\">window.PlotlyConfig = {MathJaxConfig: 'local'};</script>\n        <script src=\"https://cdn.plot.ly/plotly-2.12.1.min.js\"></script>                <div id=\"890f9fae-1b1e-48e3-88a0-82ad8b1e2872\" class=\"plotly-graph-div\" style=\"height:525px; width:100%;\"></div>            <script type=\"text/javascript\">                                    window.PLOTLYENV=window.PLOTLYENV || {};                                    if (document.getElementById(\"890f9fae-1b1e-48e3-88a0-82ad8b1e2872\")) {                    Plotly.newPlot(                        \"890f9fae-1b1e-48e3-88a0-82ad8b1e2872\",                        [{\"hovertemplate\":\"date=2022-05-08<br>conversation_id=%{x}<br>likes_count=%{y}<br>retweets_count=%{z}<extra></extra>\",\"legendgroup\":\"2022-05-08\",\"marker\":{\"color\":\"#636efa\",\"symbol\":\"circle\"},\"mode\":\"markers\",\"name\":\"2022-05-08\",\"scene\":\"scene\",\"showlegend\":true,\"x\":[\"1523386087359787008\",\"1523386087359787008\",\"1523386087359787008\",\"1523162675571662848\",\"1523162675571662848\",\"1523386087359787008\",\"1523162675571662848\",\"1523386087359787008\",\"1523386087359787008\",\"1523162675571662848\",\"1522635878056796162\",\"1523050102298152960\",\"1523386087359787008\",\"1523050102298152960\",\"1523162675571662848\",\"1523050102298152960\",\"1523162675571662848\",\"1523386087359787008\",\"1523386087359787008\",\"1523386087359787008\",\"1523386087359787008\",\"1523050102298152960\",\"1523162675571662848\",\"1523050102298152960\",\"1523386087359787008\",\"1523386087359787008\",\"1523386087359787008\",\"1523162675571662848\",\"1523050102298152960\",\"1523050102298152960\",\"1523050102298152960\",\"1523050102298152960\",\"1523050102298152960\",\"1523386087359787008\",\"1523050102298152960\",\"1523386087359787008\",\"1523050102298152960\",\"1523050102298152960\",\"1523386087359787008\",\"1523162675571662848\",\"1523386087359787008\",\"1523386087359787008\",\"1522766337273171968\",\"1523386087359787008\",\"1523162675571662848\",\"1523386087359787008\",\"1522986274365259780\",\"1523386087359787008\",\"1523050102298152960\",\"1523386087359787008\",\"1523050102298152960\",\"1523386087359787008\",\"1523162675571662848\",\"1523386087359787008\",\"1523386087359787008\",\"1523162675571662848\",\"1523386087359787008\",\"1523386087359787008\",\"1523050102298152960\",\"1523386087359787008\",\"1522766337273171968\",\"1523162675571662848\",\"1523162675571662848\",\"1523162675571662848\",\"1523050102298152960\",\"1523386087359787008\",\"1523050102298152960\",\"1523386087359787008\",\"1523386087359787008\",\"1523050102298152960\",\"1523050102298152960\",\"1523162675571662848\",\"1523386087359787008\",\"1523386087359787008\",\"1523386087359787008\",\"1523386087359787008\",\"1522986274365259780\",\"1523162675571662848\",\"1523050102298152960\",\"1523050102298152960\",\"1523050102298152960\",\"1523050102298152960\",\"1523050102298152960\",\"1522766337273171968\",\"1522766337273171968\",\"1523050102298152960\",\"1523050102298152960\",\"1523050102298152960\",\"1523162675571662848\",\"1523162675571662848\",\"1523050102298152960\",\"1523050102298152960\",\"1522986274365259780\",\"1523050102298152960\",\"1522986274365259780\",\"1523050102298152960\",\"1523162675571662848\",\"1523050102298152960\",\"1523050102298152960\",\"1522960077023457280\",\"1523050102298152960\",\"1523050102298152960\",\"1523050102298152960\",\"1522986274365259780\",\"1522960077023457280\",\"1523050102298152960\",\"1522735443636363264\",\"1523050102298152960\",\"1522960077023457280\",\"1522960077023457280\",\"1522960077023457280\",\"1522735443636363264\",\"1523050102298152960\",\"1523050102298152960\",\"1523050102298152960\",\"1523050102298152960\",\"1522960077023457280\",\"1522735443636363264\",\"1522986274365259780\",\"1523050102298152960\",\"1523050102298152960\",\"1522769843149287427\",\"1522960077023457280\",\"1523050102298152960\",\"1522986274365259780\",\"1523050102298152960\",\"1523050102298152960\",\"1523050102298152960\",\"1522960077023457280\",\"1522960077023457280\",\"1523162675571662848\",\"1522986274365259780\",\"1523050102298152960\",\"1522986274365259780\",\"1523050102298152960\",\"1522960077023457280\",\"1523162675571662848\",\"1523050102298152960\",\"1523162675571662848\",\"1523050102298152960\",\"1522766337273171968\",\"1522635878056796162\",\"1523050102298152960\",\"1522986274365259780\",\"1523162675571662848\",\"1523050102298152960\",\"1522986274365259780\",\"1522960077023457280\",\"1523050102298152960\",\"1523050102298152960\",\"1523050102298152960\",\"1522986274365259780\",\"1523050102298152960\",\"1523050102298152960\",\"1522960077023457280\",\"1523050102298152960\",\"1523050102298152960\",\"1523162675571662848\",\"1523162675571662848\",\"1523050102298152960\",\"1523050102298152960\",\"1523050102298152960\",\"1523050102298152960\",\"1522986274365259780\",\"1523162675571662848\",\"1523050102298152960\",\"1522960077023457280\",\"1522986274365259780\",\"1522766337273171968\",\"1523050102298152960\",\"1522986274365259780\",\"1523050102298152960\",\"1522960077023457280\",\"1523050102298152960\",\"1522986274365259780\",\"1522505145392799744\",\"1523162675571662848\",\"1522735443636363264\",\"1523050102298152960\",\"1523050102298152960\",\"1523050102298152960\",\"1522960077023457280\",\"1523050102298152960\",\"1522505145392799744\",\"1522960077023457280\",\"1522505145392799744\",\"1522960077023457280\",\"1523050102298152960\",\"1522960077023457280\",\"1522505145392799744\",\"1523162675571662848\",\"1523050102298152960\",\"1523162675571662848\",\"1522635878056796162\",\"1522635878056796162\",\"1523050102298152960\",\"1523050102298152960\",\"1522960077023457280\",\"1523050102298152960\",\"1522960077023457280\",\"1522769843149287427\",\"1522960077023457280\",\"1522735443636363264\",\"1522769843149287427\",\"1522735443636363264\",\"1522960077023457280\"],\"y\":[0,0,0,0,0,5,0,10,1,7,0,1,0,0,0,0,0,1,0,2,20,0,1,1,10,0,0,0,0,0,0,3,0,14,0,21,1,1,2,0,0,0,1,4,0,1,0,1,1,1,1,24,0,2,3,0,0,6,0,4,0,0,0,0,1,11,0,9,3,0,0,17,471,603,564,2073,0,0,0,1,0,0,1,2,0,1,0,2,0,6,0,0,0,0,0,4,0,0,0,0,1,7,1,0,0,0,1,0,0,0,0,0,0,0,1,4,0,0,1,0,1,0,0,0,3,0,0,0,5,51,5,0,2,0,7,0,6,0,1,85,2,0,4,103,1,3,0,0,0,0,1,4,0,1,2,3,0,0,2,0,2,5,1,1,0,0,0,0,1,0,2,0,0,1,4,0,0,0,0,0,0,0,1,0,0,0,8,0,2,0,35,0,96,0,0,0,3,0,1,0,0,0,1,0,0,0],\"z\":[0,0,0,0,0,0,0,2,0,8,0,0,0,0,0,0,0,0,0,0,3,0,0,0,0,0,0,0,0,0,0,0,0,1,0,4,2,0,0,0,0,0,0,1,0,0,0,0,0,0,0,1,0,0,0,0,0,0,0,0,0,0,0,0,0,0,0,1,0,0,0,0,30,62,39,736,0,0,0,0,0,0,0,0,0,0,0,0,0,6,0,0,0,0,0,0,0,0,0,0,0,0,0,0,0,0,0,0,0,0,0,0,0,0,0,0,0,0,0,0,0,0,0,0,0,0,0,0,1,20,0,0,0,0,2,0,0,0,0,2,0,0,0,13,0,0,0,0,0,0,0,0,0,0,0,0,0,0,0,0,0,0,0,1,0,0,0,0,0,0,0,0,0,0,0,0,0,0,0,0,0,0,0,0,1,0,0,0,0,0,2,0,66,0,0,0,0,0,0,0,0,1,0,0,0,0],\"type\":\"scatter3d\"},{\"hovertemplate\":\"date=2022-05-07<br>conversation_id=%{x}<br>likes_count=%{y}<br>retweets_count=%{z}<extra></extra>\",\"legendgroup\":\"2022-05-07\",\"marker\":{\"color\":\"#EF553B\",\"symbol\":\"circle\"},\"mode\":\"markers\",\"name\":\"2022-05-07\",\"scene\":\"scene\",\"showlegend\":true,\"x\":[\"1522960077023457280\",\"1522960077023457280\",\"1522766337273171968\",\"1522769843149287427\",\"1522960077023457280\",\"1522960077023457280\",\"1522635878056796162\",\"1523050102298152960\",\"1522766337273171968\",\"1523050102298152960\",\"1522735443636363264\",\"1522960077023457280\",\"1522735443636363264\",\"1522735443636363264\",\"1522986274365259780\",\"1522735443636363264\",\"1522960077023457280\",\"1522960077023457280\",\"1522960077023457280\",\"1523050102298152960\",\"1522960077023457280\",\"1523050102298152960\",\"1523050102298152960\",\"1523050102298152960\",\"1522505145392799744\",\"1523050102298152960\",\"1523050102298152960\",\"1523050102298152960\",\"1523050102298152960\",\"1523050102298152960\",\"1523050102298152960\",\"1523050102298152960\",\"1522766337273171968\",\"1523050102298152960\",\"1522735443636363264\",\"1522986274365259780\",\"1522986274365259780\",\"1523050102298152960\",\"1522769843149287427\",\"1522735443636363264\",\"1522766337273171968\",\"1523050102298152960\",\"1522735443636363264\",\"1522766337273171968\",\"1522505145392799744\",\"1522505145392799744\",\"1522505145392799744\",\"1522735443636363264\",\"1522766337273171968\",\"1522735443636363264\",\"1522986274365259780\",\"1522735443636363264\",\"1522986274365259780\",\"1522986274365259780\",\"1522766337273171968\",\"1522986274365259780\",\"1522986274365259780\",\"1522986274365259780\",\"1522635878056796162\",\"1522986274365259780\",\"1522986274365259780\",\"1522635878056796162\",\"1522986274365259780\",\"1522960077023457280\",\"1522960077023457280\",\"1522735443636363264\",\"1522986274365259780\",\"1522635878056796162\",\"1522635878056796162\",\"1522986274365259780\",\"1522986274365259780\",\"1522986274365259780\",\"1522766337273171968\",\"1522986274365259780\",\"1522635878056796162\",\"1522986274365259780\",\"1522960077023457280\",\"1522986274365259780\",\"1522635878056796162\",\"1522986274365259780\",\"1522986274365259780\",\"1522735443636363264\",\"1522635878056796162\",\"1522960077023457280\",\"1522766337273171968\",\"1522960077023457280\",\"1522766337273171968\",\"1522960077023457280\",\"1522960077023457280\",\"1522960077023457280\",\"1522766337273171968\",\"1522766337273171968\",\"1522960077023457280\",\"1522735443636363264\",\"1522769843149287427\",\"1522735443636363264\",\"1522635878056796162\",\"1522505145392799744\",\"1522766337273171968\",\"1522735443636363264\",\"1522635878056796162\",\"1522635878056796162\",\"1522735443636363264\",\"1522505145392799744\",\"1522766337273171968\",\"1522735443636363264\",\"1522505145392799744\",\"1522735443636363264\",\"1522635878056796162\",\"1522769843149287427\",\"1522766337273171968\",\"1522735443636363264\",\"1522505145392799744\",\"1522735443636363264\",\"1522766337273171968\",\"1522769843149287427\",\"1522735443636363264\",\"1522735443636363264\",\"1522769843149287427\",\"1522766337273171968\",\"1522505145392799744\",\"1522735443636363264\",\"1522505145392799744\",\"1522735443636363264\",\"1522735443636363264\",\"1522769843149287427\",\"1522735443636363264\",\"1522735443636363264\",\"1522769843149287427\",\"1522766337273171968\",\"1522766337273171968\",\"1522766337273171968\",\"1522769843149287427\",\"1522635878056796162\",\"1522505145392799744\",\"1522735443636363264\",\"1522505145392799744\",\"1522735443636363264\",\"1522769843149287427\",\"1522766337273171968\",\"1522766337273171968\",\"1522735443636363264\",\"1522735443636363264\",\"1522766337273171968\",\"1522735443636363264\",\"1522735443636363264\",\"1522769843149287427\",\"1522505145392799744\",\"1522635878056796162\",\"1522505145392799744\",\"1522635878056796162\",\"1522635878056796162\",\"1522735443636363264\",\"1522505145392799744\",\"1522735443636363264\",\"1522735443636363264\",\"1522735443636363264\",\"1522505145392799744\",\"1522735443636363264\",\"1522735443636363264\",\"1522769843149287427\",\"1522735443636363264\",\"1522735443636363264\",\"1522769843149287427\",\"1522769843149287427\",\"1522769843149287427\",\"1522769843149287427\",\"1522769843149287427\",\"1522635878056796162\"],\"y\":[0,0,0,3,0,0,2,1,2,0,1,0,0,0,2,0,2,1,425,0,3,38,5,15,1,84,0,19,2,1,2,9,0,111,0,2,3,3,0,0,11,76,0,2,0,3,0,1,1,0,92,0,9,0,0,16,69,0,4,12,1,0,0,2,0,4,0,0,0,40,0,7,3,241,1,499,0,66,0,14,11,0,1,0,0,10,6,4,48,1,12,0,1782,9,51,0,11,0,0,1,6,376,3,0,6,16,0,5,0,3,33,5,3,1,2,2,19,0,2,1,0,49,1,5,15,1,4,0,17,1,2,18,11,0,1,1,4,23,0,0,9,2,11,11,0,1,4,0,1,0,9,0,53,9,4,5,36,0,172,2,1,1,8,25,65,15,327,147,0],\"z\":[0,0,0,0,0,0,0,0,0,0,0,1,0,0,0,0,0,1,58,0,3,1,1,0,0,6,0,1,0,0,0,1,0,31,0,0,0,0,0,0,0,3,0,0,0,1,0,0,0,0,12,0,2,0,0,1,7,0,0,2,0,0,0,0,0,0,0,0,0,0,0,0,0,22,0,40,0,6,0,1,0,0,0,0,0,1,2,3,17,1,0,0,160,4,2,0,0,0,0,0,0,72,0,0,1,0,0,0,0,0,6,0,0,0,0,0,0,0,0,0,0,1,0,0,2,0,0,0,1,2,0,1,2,0,0,0,1,1,0,0,0,0,0,0,0,0,0,0,0,0,0,1,6,0,1,1,0,0,13,0,0,0,0,2,0,0,29,7,0],\"type\":\"scatter3d\"},{\"hovertemplate\":\"date=2022-05-06<br>conversation_id=%{x}<br>likes_count=%{y}<br>retweets_count=%{z}<extra></extra>\",\"legendgroup\":\"2022-05-06\",\"marker\":{\"color\":\"#00cc96\",\"symbol\":\"circle\"},\"mode\":\"markers\",\"name\":\"2022-05-06\",\"scene\":\"scene\",\"showlegend\":true,\"x\":[\"1522769843149287427\",\"1522505145392799744\",\"1522766337273171968\",\"1522635878056796162\",\"1522635878056796162\",\"1522505145392799744\",\"1522735443636363264\",\"1522735443636363264\",\"1522635878056796162\",\"1522635878056796162\",\"1522635878056796162\",\"1522635878056796162\",\"1522635878056796162\",\"1522635878056796162\",\"1522635878056796162\",\"1522635878056796162\",\"1522635878056796162\",\"1522635878056796162\",\"1522635878056796162\",\"1522635878056796162\",\"1522635878056796162\",\"1522635878056796162\",\"1522635878056796162\",\"1522635878056796162\",\"1522635878056796162\",\"1522635878056796162\",\"1522635878056796162\",\"1522635878056796162\",\"1522635878056796162\",\"1522635878056796162\",\"1522635878056796162\",\"1522635878056796162\",\"1522635878056796162\",\"1522635878056796162\",\"1522635878056796162\",\"1522635878056796162\",\"1522505145392799744\",\"1522635878056796162\",\"1522635878056796162\",\"1522635878056796162\",\"1522635878056796162\",\"1522635878056796162\",\"1522635878056796162\",\"1522635878056796162\",\"1522635878056796162\",\"1522635878056796162\",\"1522505145392799744\",\"1522505145392799744\",\"1522505145392799744\",\"1522505145392799744\"],\"y\":[839,21,5438,0,1,2,69,24499,0,8,1,0,0,0,0,2,2,0,0,0,1,0,1,11,1,1,1,1,2,4,339,16,390,6,0,5,9,181,34,1,319,188,219,264,240,2029,149,40,79,1924],\"z\":[83,1,973,0,0,0,1,6829,0,3,0,0,0,0,0,0,0,0,0,0,0,0,0,0,0,0,0,0,1,0,102,1,157,1,0,0,0,21,3,0,73,42,51,71,40,911,16,2,3,814],\"type\":\"scatter3d\"}],                        {\"template\":{\"data\":{\"histogram2dcontour\":[{\"type\":\"histogram2dcontour\",\"colorbar\":{\"outlinewidth\":0,\"ticks\":\"\"},\"colorscale\":[[0.0,\"#0d0887\"],[0.1111111111111111,\"#46039f\"],[0.2222222222222222,\"#7201a8\"],[0.3333333333333333,\"#9c179e\"],[0.4444444444444444,\"#bd3786\"],[0.5555555555555556,\"#d8576b\"],[0.6666666666666666,\"#ed7953\"],[0.7777777777777778,\"#fb9f3a\"],[0.8888888888888888,\"#fdca26\"],[1.0,\"#f0f921\"]]}],\"choropleth\":[{\"type\":\"choropleth\",\"colorbar\":{\"outlinewidth\":0,\"ticks\":\"\"}}],\"histogram2d\":[{\"type\":\"histogram2d\",\"colorbar\":{\"outlinewidth\":0,\"ticks\":\"\"},\"colorscale\":[[0.0,\"#0d0887\"],[0.1111111111111111,\"#46039f\"],[0.2222222222222222,\"#7201a8\"],[0.3333333333333333,\"#9c179e\"],[0.4444444444444444,\"#bd3786\"],[0.5555555555555556,\"#d8576b\"],[0.6666666666666666,\"#ed7953\"],[0.7777777777777778,\"#fb9f3a\"],[0.8888888888888888,\"#fdca26\"],[1.0,\"#f0f921\"]]}],\"heatmap\":[{\"type\":\"heatmap\",\"colorbar\":{\"outlinewidth\":0,\"ticks\":\"\"},\"colorscale\":[[0.0,\"#0d0887\"],[0.1111111111111111,\"#46039f\"],[0.2222222222222222,\"#7201a8\"],[0.3333333333333333,\"#9c179e\"],[0.4444444444444444,\"#bd3786\"],[0.5555555555555556,\"#d8576b\"],[0.6666666666666666,\"#ed7953\"],[0.7777777777777778,\"#fb9f3a\"],[0.8888888888888888,\"#fdca26\"],[1.0,\"#f0f921\"]]}],\"heatmapgl\":[{\"type\":\"heatmapgl\",\"colorbar\":{\"outlinewidth\":0,\"ticks\":\"\"},\"colorscale\":[[0.0,\"#0d0887\"],[0.1111111111111111,\"#46039f\"],[0.2222222222222222,\"#7201a8\"],[0.3333333333333333,\"#9c179e\"],[0.4444444444444444,\"#bd3786\"],[0.5555555555555556,\"#d8576b\"],[0.6666666666666666,\"#ed7953\"],[0.7777777777777778,\"#fb9f3a\"],[0.8888888888888888,\"#fdca26\"],[1.0,\"#f0f921\"]]}],\"contourcarpet\":[{\"type\":\"contourcarpet\",\"colorbar\":{\"outlinewidth\":0,\"ticks\":\"\"}}],\"contour\":[{\"type\":\"contour\",\"colorbar\":{\"outlinewidth\":0,\"ticks\":\"\"},\"colorscale\":[[0.0,\"#0d0887\"],[0.1111111111111111,\"#46039f\"],[0.2222222222222222,\"#7201a8\"],[0.3333333333333333,\"#9c179e\"],[0.4444444444444444,\"#bd3786\"],[0.5555555555555556,\"#d8576b\"],[0.6666666666666666,\"#ed7953\"],[0.7777777777777778,\"#fb9f3a\"],[0.8888888888888888,\"#fdca26\"],[1.0,\"#f0f921\"]]}],\"surface\":[{\"type\":\"surface\",\"colorbar\":{\"outlinewidth\":0,\"ticks\":\"\"},\"colorscale\":[[0.0,\"#0d0887\"],[0.1111111111111111,\"#46039f\"],[0.2222222222222222,\"#7201a8\"],[0.3333333333333333,\"#9c179e\"],[0.4444444444444444,\"#bd3786\"],[0.5555555555555556,\"#d8576b\"],[0.6666666666666666,\"#ed7953\"],[0.7777777777777778,\"#fb9f3a\"],[0.8888888888888888,\"#fdca26\"],[1.0,\"#f0f921\"]]}],\"mesh3d\":[{\"type\":\"mesh3d\",\"colorbar\":{\"outlinewidth\":0,\"ticks\":\"\"}}],\"scatter\":[{\"fillpattern\":{\"fillmode\":\"overlay\",\"size\":10,\"solidity\":0.2},\"type\":\"scatter\"}],\"parcoords\":[{\"type\":\"parcoords\",\"line\":{\"colorbar\":{\"outlinewidth\":0,\"ticks\":\"\"}}}],\"scatterpolargl\":[{\"type\":\"scatterpolargl\",\"marker\":{\"colorbar\":{\"outlinewidth\":0,\"ticks\":\"\"}}}],\"bar\":[{\"error_x\":{\"color\":\"#2a3f5f\"},\"error_y\":{\"color\":\"#2a3f5f\"},\"marker\":{\"line\":{\"color\":\"#E5ECF6\",\"width\":0.5},\"pattern\":{\"fillmode\":\"overlay\",\"size\":10,\"solidity\":0.2}},\"type\":\"bar\"}],\"scattergeo\":[{\"type\":\"scattergeo\",\"marker\":{\"colorbar\":{\"outlinewidth\":0,\"ticks\":\"\"}}}],\"scatterpolar\":[{\"type\":\"scatterpolar\",\"marker\":{\"colorbar\":{\"outlinewidth\":0,\"ticks\":\"\"}}}],\"histogram\":[{\"marker\":{\"pattern\":{\"fillmode\":\"overlay\",\"size\":10,\"solidity\":0.2}},\"type\":\"histogram\"}],\"scattergl\":[{\"type\":\"scattergl\",\"marker\":{\"colorbar\":{\"outlinewidth\":0,\"ticks\":\"\"}}}],\"scatter3d\":[{\"type\":\"scatter3d\",\"line\":{\"colorbar\":{\"outlinewidth\":0,\"ticks\":\"\"}},\"marker\":{\"colorbar\":{\"outlinewidth\":0,\"ticks\":\"\"}}}],\"scattermapbox\":[{\"type\":\"scattermapbox\",\"marker\":{\"colorbar\":{\"outlinewidth\":0,\"ticks\":\"\"}}}],\"scatterternary\":[{\"type\":\"scatterternary\",\"marker\":{\"colorbar\":{\"outlinewidth\":0,\"ticks\":\"\"}}}],\"scattercarpet\":[{\"type\":\"scattercarpet\",\"marker\":{\"colorbar\":{\"outlinewidth\":0,\"ticks\":\"\"}}}],\"carpet\":[{\"aaxis\":{\"endlinecolor\":\"#2a3f5f\",\"gridcolor\":\"white\",\"linecolor\":\"white\",\"minorgridcolor\":\"white\",\"startlinecolor\":\"#2a3f5f\"},\"baxis\":{\"endlinecolor\":\"#2a3f5f\",\"gridcolor\":\"white\",\"linecolor\":\"white\",\"minorgridcolor\":\"white\",\"startlinecolor\":\"#2a3f5f\"},\"type\":\"carpet\"}],\"table\":[{\"cells\":{\"fill\":{\"color\":\"#EBF0F8\"},\"line\":{\"color\":\"white\"}},\"header\":{\"fill\":{\"color\":\"#C8D4E3\"},\"line\":{\"color\":\"white\"}},\"type\":\"table\"}],\"barpolar\":[{\"marker\":{\"line\":{\"color\":\"#E5ECF6\",\"width\":0.5},\"pattern\":{\"fillmode\":\"overlay\",\"size\":10,\"solidity\":0.2}},\"type\":\"barpolar\"}],\"pie\":[{\"automargin\":true,\"type\":\"pie\"}]},\"layout\":{\"autotypenumbers\":\"strict\",\"colorway\":[\"#636efa\",\"#EF553B\",\"#00cc96\",\"#ab63fa\",\"#FFA15A\",\"#19d3f3\",\"#FF6692\",\"#B6E880\",\"#FF97FF\",\"#FECB52\"],\"font\":{\"color\":\"#2a3f5f\"},\"hovermode\":\"closest\",\"hoverlabel\":{\"align\":\"left\"},\"paper_bgcolor\":\"white\",\"plot_bgcolor\":\"#E5ECF6\",\"polar\":{\"bgcolor\":\"#E5ECF6\",\"angularaxis\":{\"gridcolor\":\"white\",\"linecolor\":\"white\",\"ticks\":\"\"},\"radialaxis\":{\"gridcolor\":\"white\",\"linecolor\":\"white\",\"ticks\":\"\"}},\"ternary\":{\"bgcolor\":\"#E5ECF6\",\"aaxis\":{\"gridcolor\":\"white\",\"linecolor\":\"white\",\"ticks\":\"\"},\"baxis\":{\"gridcolor\":\"white\",\"linecolor\":\"white\",\"ticks\":\"\"},\"caxis\":{\"gridcolor\":\"white\",\"linecolor\":\"white\",\"ticks\":\"\"}},\"coloraxis\":{\"colorbar\":{\"outlinewidth\":0,\"ticks\":\"\"}},\"colorscale\":{\"sequential\":[[0.0,\"#0d0887\"],[0.1111111111111111,\"#46039f\"],[0.2222222222222222,\"#7201a8\"],[0.3333333333333333,\"#9c179e\"],[0.4444444444444444,\"#bd3786\"],[0.5555555555555556,\"#d8576b\"],[0.6666666666666666,\"#ed7953\"],[0.7777777777777778,\"#fb9f3a\"],[0.8888888888888888,\"#fdca26\"],[1.0,\"#f0f921\"]],\"sequentialminus\":[[0.0,\"#0d0887\"],[0.1111111111111111,\"#46039f\"],[0.2222222222222222,\"#7201a8\"],[0.3333333333333333,\"#9c179e\"],[0.4444444444444444,\"#bd3786\"],[0.5555555555555556,\"#d8576b\"],[0.6666666666666666,\"#ed7953\"],[0.7777777777777778,\"#fb9f3a\"],[0.8888888888888888,\"#fdca26\"],[1.0,\"#f0f921\"]],\"diverging\":[[0,\"#8e0152\"],[0.1,\"#c51b7d\"],[0.2,\"#de77ae\"],[0.3,\"#f1b6da\"],[0.4,\"#fde0ef\"],[0.5,\"#f7f7f7\"],[0.6,\"#e6f5d0\"],[0.7,\"#b8e186\"],[0.8,\"#7fbc41\"],[0.9,\"#4d9221\"],[1,\"#276419\"]]},\"xaxis\":{\"gridcolor\":\"white\",\"linecolor\":\"white\",\"ticks\":\"\",\"title\":{\"standoff\":15},\"zerolinecolor\":\"white\",\"automargin\":true,\"zerolinewidth\":2},\"yaxis\":{\"gridcolor\":\"white\",\"linecolor\":\"white\",\"ticks\":\"\",\"title\":{\"standoff\":15},\"zerolinecolor\":\"white\",\"automargin\":true,\"zerolinewidth\":2},\"scene\":{\"xaxis\":{\"backgroundcolor\":\"#E5ECF6\",\"gridcolor\":\"white\",\"linecolor\":\"white\",\"showbackground\":true,\"ticks\":\"\",\"zerolinecolor\":\"white\",\"gridwidth\":2},\"yaxis\":{\"backgroundcolor\":\"#E5ECF6\",\"gridcolor\":\"white\",\"linecolor\":\"white\",\"showbackground\":true,\"ticks\":\"\",\"zerolinecolor\":\"white\",\"gridwidth\":2},\"zaxis\":{\"backgroundcolor\":\"#E5ECF6\",\"gridcolor\":\"white\",\"linecolor\":\"white\",\"showbackground\":true,\"ticks\":\"\",\"zerolinecolor\":\"white\",\"gridwidth\":2}},\"shapedefaults\":{\"line\":{\"color\":\"#2a3f5f\"}},\"annotationdefaults\":{\"arrowcolor\":\"#2a3f5f\",\"arrowhead\":0,\"arrowwidth\":1},\"geo\":{\"bgcolor\":\"white\",\"landcolor\":\"#E5ECF6\",\"subunitcolor\":\"white\",\"showland\":true,\"showlakes\":true,\"lakecolor\":\"white\"},\"title\":{\"x\":0.05},\"mapbox\":{\"style\":\"light\"}}},\"scene\":{\"domain\":{\"x\":[0.0,1.0],\"y\":[0.0,1.0]},\"xaxis\":{\"title\":{\"text\":\"conversation_id\"}},\"yaxis\":{\"title\":{\"text\":\"likes_count\"}},\"zaxis\":{\"title\":{\"text\":\"retweets_count\"}}},\"legend\":{\"title\":{\"text\":\"date\"},\"tracegroupgap\":0},\"margin\":{\"t\":60}},                        {\"responsive\": true}                    ).then(function(){\n                            \nvar gd = document.getElementById('890f9fae-1b1e-48e3-88a0-82ad8b1e2872');\nvar x = new MutationObserver(function (mutations, observer) {{\n        var display = window.getComputedStyle(gd).display;\n        if (!display || display === 'none') {{\n            console.log([gd, 'removed!']);\n            Plotly.purge(gd);\n            observer.disconnect();\n        }}\n}});\n\n// Listen for the removal of the full notebook cells\nvar notebookContainer = gd.closest('#notebook-container');\nif (notebookContainer) {{\n    x.observe(notebookContainer, {childList: true});\n}}\n\n// Listen for the clearing of the current output cell\nvar outputEl = gd.closest('.output');\nif (outputEl) {{\n    x.observe(outputEl, {childList: true});\n}}\n\n                        })                };                            </script>        </div>\n</body>\n</html>"
     },
     "metadata": {},
     "output_type": "display_data"
    }
   ]
  },
  {
   "cell_type": "code",
   "metadata": {
    "id": "Ioxmpwm8enXv",
    "cell_id": "00043-6f998376-7050-490c-901b-a3b2262bd14c",
    "deepnote_to_be_reexecuted": false,
    "source_hash": "7436fa",
    "execution_start": 1657632241438,
    "execution_millis": 2,
    "deepnote_cell_type": "code",
    "deepnote_cell_height": 153
   },
   "source": "#Para visualizarmejor las tres variables más correlacionadas, normalizaremos el df\n# y lo graficaremos en escala logaritmica\n\nnorm = pd.DataFrame()\nnorm = conv[['conversation_id','replies_count','retweets_count', 'likes_count']]",
   "execution_count": null,
   "outputs": []
  },
  {
   "cell_type": "code",
   "metadata": {
    "cell_id": "f77cd3762b2c4a499d03373a76343cc0",
    "tags": [],
    "deepnote_to_be_reexecuted": false,
    "source_hash": "abf8cc66",
    "execution_start": 1657632241451,
    "execution_millis": 7,
    "deepnote_cell_type": "code",
    "deepnote_cell_height": 135
   },
   "source": "# Función de normalización\n\ndef mean_norm(df_input):\n    return df_input.apply(lambda x: (x-x.mean())/ x.std(), axis=0)",
   "execution_count": null,
   "outputs": []
  },
  {
   "cell_type": "code",
   "metadata": {
    "cell_id": "b79bf41817254c2198a766d8ae6ab3ba",
    "tags": [],
    "deepnote_to_be_reexecuted": false,
    "source_hash": "29905502",
    "execution_start": 1657632241462,
    "execution_millis": 83,
    "deepnote_cell_type": "code",
    "deepnote_cell_height": 421.79998779296875
   },
   "source": "# Aplicamos la normalización a las 3 columnas que necesitamos\n\ndf_mean_norm = mean_norm(norm[['replies_count','retweets_count', 'likes_count']])\nprint(df_mean_norm)",
   "execution_count": null,
   "outputs": [
    {
     "name": "stdout",
     "text": "       replies_count  retweets_count  likes_count\n35         -0.154412       -0.080962    -0.090071\n56         -0.125540       -0.080962    -0.090071\n74         -0.154412       -0.080962    -0.090071\n126        -0.154412       -0.080962    -0.090071\n130        -0.154412       -0.080962    -0.090071\n...              ...             ...          ...\n14435       3.598887        2.587947     1.557582\n14669       0.018817       -0.034087     0.030925\n14902      -0.067797       -0.075102    -0.057589\n15656      -0.010054       -0.072173    -0.025919\n17953       1.982081        2.303771     1.472316\n\n[425 rows x 3 columns]\n",
     "output_type": "stream"
    }
   ]
  },
  {
   "cell_type": "code",
   "metadata": {
    "cell_id": "689a856c42824f7190d34e6679dfda14",
    "tags": [],
    "deepnote_to_be_reexecuted": false,
    "source_hash": "992db0b3",
    "execution_start": 1657632241485,
    "execution_millis": 89,
    "deepnote_cell_type": "code",
    "deepnote_cell_height": 695,
    "deepnote_output_heights": [
     544
    ]
   },
   "source": "# Graficamos el resultado:\n\nfig2 = px.scatter_3d(norm, y=\"likes_count\", x=\"replies_count\", z='retweets_count', log_x=True, log_y=True, log_z=True, color='conversation_id')\nfig2.show()",
   "execution_count": null,
   "outputs": [
    {
     "data": {
      "text/html": "<html>\n<head><meta charset=\"utf-8\" /></head>\n<body>\n    <div>            <script src=\"https://cdnjs.cloudflare.com/ajax/libs/mathjax/2.7.5/MathJax.js?config=TeX-AMS-MML_SVG\"></script><script type=\"text/javascript\">if (window.MathJax && window.MathJax.Hub && && window.MathJax.Hub.Config) {window.MathJax.Hub.Config({SVG: {font: \"STIX-Web\"}});}</script>                <script type=\"text/javascript\">window.PlotlyConfig = {MathJaxConfig: 'local'};</script>\n        <script src=\"https://cdn.plot.ly/plotly-2.12.1.min.js\"></script>                <div id=\"83386f22-8ba9-494e-9afb-1f89adb7406c\" class=\"plotly-graph-div\" style=\"height:525px; width:100%;\"></div>            <script type=\"text/javascript\">                                    window.PLOTLYENV=window.PLOTLYENV || {};                                    if (document.getElementById(\"83386f22-8ba9-494e-9afb-1f89adb7406c\")) {                    Plotly.newPlot(                        \"83386f22-8ba9-494e-9afb-1f89adb7406c\",                        [{\"hovertemplate\":\"conversation_id=1523386087359787008<br>replies_count=%{x}<br>likes_count=%{y}<br>retweets_count=%{z}<extra></extra>\",\"legendgroup\":\"1523386087359787008\",\"marker\":{\"color\":\"#636efa\",\"symbol\":\"circle\"},\"mode\":\"markers\",\"name\":\"1523386087359787008\",\"scene\":\"scene\",\"showlegend\":true,\"x\":[0,1,0,1,0,0,1,0,0,0,4,0,0,0,3,1,2,1,0,0,5,0,0,1,1,2,0,0,0,1,2,0,1,1,3,50],\"y\":[0,0,0,5,10,1,0,1,0,2,20,10,0,0,14,21,2,0,0,4,1,1,1,24,2,3,0,6,4,11,9,3,471,603,564,2073],\"z\":[0,0,0,0,2,0,0,0,0,0,3,0,0,0,1,4,0,0,0,1,0,0,0,1,0,0,0,0,0,0,1,0,30,62,39,736],\"type\":\"scatter3d\"},{\"hovertemplate\":\"conversation_id=1523162675571662848<br>replies_count=%{x}<br>likes_count=%{y}<br>retweets_count=%{z}<extra></extra>\",\"legendgroup\":\"1523162675571662848\",\"marker\":{\"color\":\"#EF553B\",\"symbol\":\"circle\"},\"mode\":\"markers\",\"name\":\"1523162675571662848\",\"scene\":\"scene\",\"showlegend\":true,\"x\":[0,0,1,1,0,0,0,0,0,0,0,2,0,1,2,0,0,2,0,0,1,0,2,0,0,0,0,0,1,240],\"y\":[0,0,0,7,0,0,1,0,0,0,0,0,0,0,0,17,0,0,6,0,5,6,1,1,0,2,0,0,35,96],\"z\":[0,0,0,8,0,0,0,0,0,0,0,0,0,0,0,0,0,0,6,0,0,0,0,0,0,0,0,0,2,66],\"type\":\"scatter3d\"},{\"hovertemplate\":\"conversation_id=1522635878056796162<br>replies_count=%{x}<br>likes_count=%{y}<br>retweets_count=%{z}<extra></extra>\",\"legendgroup\":\"1522635878056796162\",\"marker\":{\"color\":\"#00cc96\",\"symbol\":\"circle\"},\"mode\":\"markers\",\"name\":\"1522635878056796162\",\"scene\":\"scene\",\"showlegend\":true,\"x\":[0,0,1,1,4,0,0,1,0,0,0,1,0,0,28,1,0,0,0,0,1,1,1,1,1,1,0,1,1,0,1,1,2,0,1,2,1,0,1,1,1,2,0,0,0,17,1,17,0,0,2,18,1,0,10,4,3,7,8,130],\"y\":[0,0,0,0,2,4,0,0,0,1,0,1,11,6,376,0,0,1,9,0,0,0,1,0,8,1,0,0,0,0,2,2,0,0,0,1,0,1,11,1,1,1,1,2,4,339,16,390,6,0,5,181,34,1,319,188,219,264,240,2029],\"z\":[0,0,0,0,0,0,0,0,0,0,0,0,0,0,72,0,0,0,0,1,0,0,0,0,3,0,0,0,0,0,0,0,0,0,0,0,0,0,0,0,0,0,0,1,0,102,1,157,1,0,0,21,3,0,73,42,51,71,40,911],\"type\":\"scatter3d\"},{\"hovertemplate\":\"conversation_id=1523050102298152960<br>replies_count=%{x}<br>likes_count=%{y}<br>retweets_count=%{z}<extra></extra>\",\"legendgroup\":\"1523050102298152960\",\"marker\":{\"color\":\"#ab63fa\",\"symbol\":\"circle\"},\"mode\":\"markers\",\"name\":\"1523050102298152960\",\"scene\":\"scene\",\"showlegend\":true,\"x\":[1,1,0,0,0,0,0,0,1,1,0,1,0,0,0,0,0,1,1,0,0,0,0,0,0,0,0,1,0,0,0,1,4,0,0,4,0,0,0,0,0,0,3,0,1,0,0,1,0,1,2,2,4,0,1,1,1,2,0,3,3,1,0,3,3,1,0,1,1,1,0,2,1,2,0,1,0,0,0,4,2,0,3,0,10,6,1,7,1,3,3,1,10,3,32],\"y\":[1,0,0,0,1,0,0,0,3,0,0,1,1,1,1,0,1,0,0,0,0,1,0,0,1,1,0,2,0,0,0,4,0,0,1,7,1,0,0,0,0,1,4,0,1,0,0,0,0,2,7,0,85,4,3,0,0,1,0,1,3,0,0,2,5,1,0,0,0,1,0,0,0,1,0,0,0,3,1,1,0,0,38,5,15,84,0,19,2,1,2,9,111,3,76],\"z\":[0,0,0,0,0,0,0,0,0,0,0,2,0,0,0,0,0,0,0,0,0,0,0,0,0,0,0,0,0,0,0,0,0,0,0,0,0,0,0,0,0,0,0,0,0,0,0,0,0,0,2,0,2,0,0,0,0,0,0,0,0,0,0,0,0,0,0,0,0,0,0,0,0,0,0,0,0,0,0,0,0,0,1,1,0,6,0,1,0,0,0,1,31,0,3],\"type\":\"scatter3d\"},{\"hovertemplate\":\"conversation_id=1522766337273171968<br>replies_count=%{x}<br>likes_count=%{y}<br>retweets_count=%{z}<extra></extra>\",\"legendgroup\":\"1522766337273171968\",\"marker\":{\"color\":\"#FFA15A\",\"symbol\":\"circle\"},\"mode\":\"markers\",\"name\":\"1522766337273171968\",\"scene\":\"scene\",\"showlegend\":true,\"x\":[1,0,1,1,0,1,0,3,1,1,1,1,0,0,1,0,0,0,1,0,2,2,0,1,0,1,0,0,0,127],\"y\":[1,0,2,0,2,1,0,2,0,11,2,1,0,3,0,6,12,0,0,6,33,2,1,1,2,18,0,9,11,5438],\"z\":[0,0,0,0,0,0,0,0,0,0,0,0,0,0,0,2,0,0,0,1,6,0,0,2,0,1,0,0,0,973],\"type\":\"scatter3d\"},{\"hovertemplate\":\"conversation_id=1522986274365259780<br>replies_count=%{x}<br>likes_count=%{y}<br>retweets_count=%{z}<extra></extra>\",\"legendgroup\":\"1522986274365259780\",\"marker\":{\"color\":\"#19d3f3\",\"symbol\":\"circle\"},\"mode\":\"markers\",\"name\":\"1522986274365259780\",\"scene\":\"scene\",\"showlegend\":true,\"x\":[0,0,0,0,0,0,1,0,0,2,0,0,1,0,0,0,0,0,1,7,2,1,5,3,0,1,0,3,0,3,1,2,10,6,2,1,2],\"y\":[0,0,0,0,0,1,3,0,0,103,0,4,1,0,2,4,2,2,3,92,9,0,16,69,0,12,1,0,0,40,0,7,241,499,66,14,11],\"z\":[0,0,0,0,0,0,0,0,0,13,0,0,1,0,0,0,0,0,0,12,2,0,1,7,0,2,0,0,0,0,0,0,22,40,6,1,0],\"type\":\"scatter3d\"},{\"hovertemplate\":\"conversation_id=1522960077023457280<br>replies_count=%{x}<br>likes_count=%{y}<br>retweets_count=%{z}<extra></extra>\",\"legendgroup\":\"1522960077023457280\",\"marker\":{\"color\":\"#FF6692\",\"symbol\":\"circle\"},\"mode\":\"markers\",\"name\":\"1522960077023457280\",\"scene\":\"scene\",\"showlegend\":true,\"x\":[0,0,0,0,0,0,0,1,4,1,0,0,0,1,1,0,4,1,0,0,4,0,0,1,0,0,1,1,0,2,0,0,1,1,0,2,2,2,2,20],\"y\":[0,0,0,0,0,0,0,5,51,0,0,2,0,0,0,0,8,2,0,0,0,0,0,0,0,0,0,2,1,425,3,2,0,0,0,10,4,48,1,1782],\"z\":[0,0,0,0,0,0,0,1,20,0,0,0,0,0,0,1,0,0,0,0,1,0,0,0,0,0,1,0,1,58,3,0,0,0,0,1,3,17,1,160],\"type\":\"scatter3d\"},{\"hovertemplate\":\"conversation_id=1522735443636363264<br>replies_count=%{x}<br>likes_count=%{y}<br>retweets_count=%{z}<extra></extra>\",\"legendgroup\":\"1522735443636363264\",\"marker\":{\"color\":\"#B6E880\",\"symbol\":\"circle\"},\"mode\":\"markers\",\"name\":\"1522735443636363264\",\"scene\":\"scene\",\"showlegend\":true,\"x\":[1,0,0,0,1,1,0,0,0,0,2,0,1,0,2,0,0,0,8,0,0,1,1,1,1,3,3,0,0,2,14,0,1,1,4,1,0,2,1,105,0,4,39,1,1,1,14,55,551],\"y\":[1,0,0,0,1,0,1,0,0,0,0,0,0,1,0,0,4,0,9,0,1,3,16,5,5,1,19,0,49,5,15,4,0,1,23,2,11,0,1,53,4,5,36,172,2,1,8,69,24499],\"z\":[0,0,0,0,0,0,0,0,0,0,0,0,0,0,0,0,0,0,4,0,0,0,0,0,0,0,0,0,1,0,2,0,0,0,1,0,0,0,0,6,1,1,0,13,0,0,0,1,6829],\"type\":\"scatter3d\"},{\"hovertemplate\":\"conversation_id=1522769843149287427<br>replies_count=%{x}<br>likes_count=%{y}<br>retweets_count=%{z}<extra></extra>\",\"legendgroup\":\"1522769843149287427\",\"marker\":{\"color\":\"#FF97FF\",\"symbol\":\"circle\"},\"mode\":\"markers\",\"name\":\"1522769843149287427\",\"scene\":\"scene\",\"showlegend\":true,\"x\":[0,0,0,0,0,2,1,0,1,0,0,0,0,0,0,1,0,0,5,4,313],\"y\":[0,0,0,3,0,51,3,2,2,1,17,11,0,4,1,25,65,15,327,147,839],\"z\":[0,0,0,0,0,2,0,0,0,0,1,2,0,0,0,2,0,0,29,7,83],\"type\":\"scatter3d\"},{\"hovertemplate\":\"conversation_id=1522505145392799744<br>replies_count=%{x}<br>likes_count=%{y}<br>retweets_count=%{z}<extra></extra>\",\"legendgroup\":\"1522505145392799744\",\"marker\":{\"color\":\"#FECB52\",\"symbol\":\"circle\"},\"mode\":\"markers\",\"name\":\"1522505145392799744\",\"scene\":\"scene\",\"showlegend\":true,\"x\":[1,1,0,0,2,2,1,4,2,1,0,1,2,2,0,0,1,0,3,0,2,1,2,6,3,5,74],\"y\":[0,0,0,0,1,0,3,0,0,0,0,3,0,1,1,4,0,0,9,0,21,2,9,149,40,79,1924],\"z\":[0,0,0,0,0,0,1,0,0,0,0,0,0,0,0,1,0,0,0,0,1,0,0,16,2,3,814],\"type\":\"scatter3d\"}],                        {\"template\":{\"data\":{\"histogram2dcontour\":[{\"type\":\"histogram2dcontour\",\"colorbar\":{\"outlinewidth\":0,\"ticks\":\"\"},\"colorscale\":[[0.0,\"#0d0887\"],[0.1111111111111111,\"#46039f\"],[0.2222222222222222,\"#7201a8\"],[0.3333333333333333,\"#9c179e\"],[0.4444444444444444,\"#bd3786\"],[0.5555555555555556,\"#d8576b\"],[0.6666666666666666,\"#ed7953\"],[0.7777777777777778,\"#fb9f3a\"],[0.8888888888888888,\"#fdca26\"],[1.0,\"#f0f921\"]]}],\"choropleth\":[{\"type\":\"choropleth\",\"colorbar\":{\"outlinewidth\":0,\"ticks\":\"\"}}],\"histogram2d\":[{\"type\":\"histogram2d\",\"colorbar\":{\"outlinewidth\":0,\"ticks\":\"\"},\"colorscale\":[[0.0,\"#0d0887\"],[0.1111111111111111,\"#46039f\"],[0.2222222222222222,\"#7201a8\"],[0.3333333333333333,\"#9c179e\"],[0.4444444444444444,\"#bd3786\"],[0.5555555555555556,\"#d8576b\"],[0.6666666666666666,\"#ed7953\"],[0.7777777777777778,\"#fb9f3a\"],[0.8888888888888888,\"#fdca26\"],[1.0,\"#f0f921\"]]}],\"heatmap\":[{\"type\":\"heatmap\",\"colorbar\":{\"outlinewidth\":0,\"ticks\":\"\"},\"colorscale\":[[0.0,\"#0d0887\"],[0.1111111111111111,\"#46039f\"],[0.2222222222222222,\"#7201a8\"],[0.3333333333333333,\"#9c179e\"],[0.4444444444444444,\"#bd3786\"],[0.5555555555555556,\"#d8576b\"],[0.6666666666666666,\"#ed7953\"],[0.7777777777777778,\"#fb9f3a\"],[0.8888888888888888,\"#fdca26\"],[1.0,\"#f0f921\"]]}],\"heatmapgl\":[{\"type\":\"heatmapgl\",\"colorbar\":{\"outlinewidth\":0,\"ticks\":\"\"},\"colorscale\":[[0.0,\"#0d0887\"],[0.1111111111111111,\"#46039f\"],[0.2222222222222222,\"#7201a8\"],[0.3333333333333333,\"#9c179e\"],[0.4444444444444444,\"#bd3786\"],[0.5555555555555556,\"#d8576b\"],[0.6666666666666666,\"#ed7953\"],[0.7777777777777778,\"#fb9f3a\"],[0.8888888888888888,\"#fdca26\"],[1.0,\"#f0f921\"]]}],\"contourcarpet\":[{\"type\":\"contourcarpet\",\"colorbar\":{\"outlinewidth\":0,\"ticks\":\"\"}}],\"contour\":[{\"type\":\"contour\",\"colorbar\":{\"outlinewidth\":0,\"ticks\":\"\"},\"colorscale\":[[0.0,\"#0d0887\"],[0.1111111111111111,\"#46039f\"],[0.2222222222222222,\"#7201a8\"],[0.3333333333333333,\"#9c179e\"],[0.4444444444444444,\"#bd3786\"],[0.5555555555555556,\"#d8576b\"],[0.6666666666666666,\"#ed7953\"],[0.7777777777777778,\"#fb9f3a\"],[0.8888888888888888,\"#fdca26\"],[1.0,\"#f0f921\"]]}],\"surface\":[{\"type\":\"surface\",\"colorbar\":{\"outlinewidth\":0,\"ticks\":\"\"},\"colorscale\":[[0.0,\"#0d0887\"],[0.1111111111111111,\"#46039f\"],[0.2222222222222222,\"#7201a8\"],[0.3333333333333333,\"#9c179e\"],[0.4444444444444444,\"#bd3786\"],[0.5555555555555556,\"#d8576b\"],[0.6666666666666666,\"#ed7953\"],[0.7777777777777778,\"#fb9f3a\"],[0.8888888888888888,\"#fdca26\"],[1.0,\"#f0f921\"]]}],\"mesh3d\":[{\"type\":\"mesh3d\",\"colorbar\":{\"outlinewidth\":0,\"ticks\":\"\"}}],\"scatter\":[{\"fillpattern\":{\"fillmode\":\"overlay\",\"size\":10,\"solidity\":0.2},\"type\":\"scatter\"}],\"parcoords\":[{\"type\":\"parcoords\",\"line\":{\"colorbar\":{\"outlinewidth\":0,\"ticks\":\"\"}}}],\"scatterpolargl\":[{\"type\":\"scatterpolargl\",\"marker\":{\"colorbar\":{\"outlinewidth\":0,\"ticks\":\"\"}}}],\"bar\":[{\"error_x\":{\"color\":\"#2a3f5f\"},\"error_y\":{\"color\":\"#2a3f5f\"},\"marker\":{\"line\":{\"color\":\"#E5ECF6\",\"width\":0.5},\"pattern\":{\"fillmode\":\"overlay\",\"size\":10,\"solidity\":0.2}},\"type\":\"bar\"}],\"scattergeo\":[{\"type\":\"scattergeo\",\"marker\":{\"colorbar\":{\"outlinewidth\":0,\"ticks\":\"\"}}}],\"scatterpolar\":[{\"type\":\"scatterpolar\",\"marker\":{\"colorbar\":{\"outlinewidth\":0,\"ticks\":\"\"}}}],\"histogram\":[{\"marker\":{\"pattern\":{\"fillmode\":\"overlay\",\"size\":10,\"solidity\":0.2}},\"type\":\"histogram\"}],\"scattergl\":[{\"type\":\"scattergl\",\"marker\":{\"colorbar\":{\"outlinewidth\":0,\"ticks\":\"\"}}}],\"scatter3d\":[{\"type\":\"scatter3d\",\"line\":{\"colorbar\":{\"outlinewidth\":0,\"ticks\":\"\"}},\"marker\":{\"colorbar\":{\"outlinewidth\":0,\"ticks\":\"\"}}}],\"scattermapbox\":[{\"type\":\"scattermapbox\",\"marker\":{\"colorbar\":{\"outlinewidth\":0,\"ticks\":\"\"}}}],\"scatterternary\":[{\"type\":\"scatterternary\",\"marker\":{\"colorbar\":{\"outlinewidth\":0,\"ticks\":\"\"}}}],\"scattercarpet\":[{\"type\":\"scattercarpet\",\"marker\":{\"colorbar\":{\"outlinewidth\":0,\"ticks\":\"\"}}}],\"carpet\":[{\"aaxis\":{\"endlinecolor\":\"#2a3f5f\",\"gridcolor\":\"white\",\"linecolor\":\"white\",\"minorgridcolor\":\"white\",\"startlinecolor\":\"#2a3f5f\"},\"baxis\":{\"endlinecolor\":\"#2a3f5f\",\"gridcolor\":\"white\",\"linecolor\":\"white\",\"minorgridcolor\":\"white\",\"startlinecolor\":\"#2a3f5f\"},\"type\":\"carpet\"}],\"table\":[{\"cells\":{\"fill\":{\"color\":\"#EBF0F8\"},\"line\":{\"color\":\"white\"}},\"header\":{\"fill\":{\"color\":\"#C8D4E3\"},\"line\":{\"color\":\"white\"}},\"type\":\"table\"}],\"barpolar\":[{\"marker\":{\"line\":{\"color\":\"#E5ECF6\",\"width\":0.5},\"pattern\":{\"fillmode\":\"overlay\",\"size\":10,\"solidity\":0.2}},\"type\":\"barpolar\"}],\"pie\":[{\"automargin\":true,\"type\":\"pie\"}]},\"layout\":{\"autotypenumbers\":\"strict\",\"colorway\":[\"#636efa\",\"#EF553B\",\"#00cc96\",\"#ab63fa\",\"#FFA15A\",\"#19d3f3\",\"#FF6692\",\"#B6E880\",\"#FF97FF\",\"#FECB52\"],\"font\":{\"color\":\"#2a3f5f\"},\"hovermode\":\"closest\",\"hoverlabel\":{\"align\":\"left\"},\"paper_bgcolor\":\"white\",\"plot_bgcolor\":\"#E5ECF6\",\"polar\":{\"bgcolor\":\"#E5ECF6\",\"angularaxis\":{\"gridcolor\":\"white\",\"linecolor\":\"white\",\"ticks\":\"\"},\"radialaxis\":{\"gridcolor\":\"white\",\"linecolor\":\"white\",\"ticks\":\"\"}},\"ternary\":{\"bgcolor\":\"#E5ECF6\",\"aaxis\":{\"gridcolor\":\"white\",\"linecolor\":\"white\",\"ticks\":\"\"},\"baxis\":{\"gridcolor\":\"white\",\"linecolor\":\"white\",\"ticks\":\"\"},\"caxis\":{\"gridcolor\":\"white\",\"linecolor\":\"white\",\"ticks\":\"\"}},\"coloraxis\":{\"colorbar\":{\"outlinewidth\":0,\"ticks\":\"\"}},\"colorscale\":{\"sequential\":[[0.0,\"#0d0887\"],[0.1111111111111111,\"#46039f\"],[0.2222222222222222,\"#7201a8\"],[0.3333333333333333,\"#9c179e\"],[0.4444444444444444,\"#bd3786\"],[0.5555555555555556,\"#d8576b\"],[0.6666666666666666,\"#ed7953\"],[0.7777777777777778,\"#fb9f3a\"],[0.8888888888888888,\"#fdca26\"],[1.0,\"#f0f921\"]],\"sequentialminus\":[[0.0,\"#0d0887\"],[0.1111111111111111,\"#46039f\"],[0.2222222222222222,\"#7201a8\"],[0.3333333333333333,\"#9c179e\"],[0.4444444444444444,\"#bd3786\"],[0.5555555555555556,\"#d8576b\"],[0.6666666666666666,\"#ed7953\"],[0.7777777777777778,\"#fb9f3a\"],[0.8888888888888888,\"#fdca26\"],[1.0,\"#f0f921\"]],\"diverging\":[[0,\"#8e0152\"],[0.1,\"#c51b7d\"],[0.2,\"#de77ae\"],[0.3,\"#f1b6da\"],[0.4,\"#fde0ef\"],[0.5,\"#f7f7f7\"],[0.6,\"#e6f5d0\"],[0.7,\"#b8e186\"],[0.8,\"#7fbc41\"],[0.9,\"#4d9221\"],[1,\"#276419\"]]},\"xaxis\":{\"gridcolor\":\"white\",\"linecolor\":\"white\",\"ticks\":\"\",\"title\":{\"standoff\":15},\"zerolinecolor\":\"white\",\"automargin\":true,\"zerolinewidth\":2},\"yaxis\":{\"gridcolor\":\"white\",\"linecolor\":\"white\",\"ticks\":\"\",\"title\":{\"standoff\":15},\"zerolinecolor\":\"white\",\"automargin\":true,\"zerolinewidth\":2},\"scene\":{\"xaxis\":{\"backgroundcolor\":\"#E5ECF6\",\"gridcolor\":\"white\",\"linecolor\":\"white\",\"showbackground\":true,\"ticks\":\"\",\"zerolinecolor\":\"white\",\"gridwidth\":2},\"yaxis\":{\"backgroundcolor\":\"#E5ECF6\",\"gridcolor\":\"white\",\"linecolor\":\"white\",\"showbackground\":true,\"ticks\":\"\",\"zerolinecolor\":\"white\",\"gridwidth\":2},\"zaxis\":{\"backgroundcolor\":\"#E5ECF6\",\"gridcolor\":\"white\",\"linecolor\":\"white\",\"showbackground\":true,\"ticks\":\"\",\"zerolinecolor\":\"white\",\"gridwidth\":2}},\"shapedefaults\":{\"line\":{\"color\":\"#2a3f5f\"}},\"annotationdefaults\":{\"arrowcolor\":\"#2a3f5f\",\"arrowhead\":0,\"arrowwidth\":1},\"geo\":{\"bgcolor\":\"white\",\"landcolor\":\"#E5ECF6\",\"subunitcolor\":\"white\",\"showland\":true,\"showlakes\":true,\"lakecolor\":\"white\"},\"title\":{\"x\":0.05},\"mapbox\":{\"style\":\"light\"}}},\"scene\":{\"domain\":{\"x\":[0.0,1.0],\"y\":[0.0,1.0]},\"xaxis\":{\"title\":{\"text\":\"replies_count\"},\"type\":\"log\"},\"yaxis\":{\"title\":{\"text\":\"likes_count\"},\"type\":\"log\"},\"zaxis\":{\"title\":{\"text\":\"retweets_count\"},\"type\":\"log\"}},\"legend\":{\"title\":{\"text\":\"conversation_id\"},\"tracegroupgap\":0},\"margin\":{\"t\":60}},                        {\"responsive\": true}                    ).then(function(){\n                            \nvar gd = document.getElementById('83386f22-8ba9-494e-9afb-1f89adb7406c');\nvar x = new MutationObserver(function (mutations, observer) {{\n        var display = window.getComputedStyle(gd).display;\n        if (!display || display === 'none') {{\n            console.log([gd, 'removed!']);\n            Plotly.purge(gd);\n            observer.disconnect();\n        }}\n}});\n\n// Listen for the removal of the full notebook cells\nvar notebookContainer = gd.closest('#notebook-container');\nif (notebookContainer) {{\n    x.observe(notebookContainer, {childList: true});\n}}\n\n// Listen for the clearing of the current output cell\nvar outputEl = gd.closest('.output');\nif (outputEl) {{\n    x.observe(outputEl, {childList: true});\n}}\n\n                        })                };                            </script>        </div>\n</body>\n</html>"
     },
     "metadata": {},
     "output_type": "display_data"
    }
   ]
  },
  {
   "cell_type": "markdown",
   "source": "<a style='text-decoration:none;line-height:16px;display:flex;color:#5B5B62;padding:10px;justify-content:end;' href='https://deepnote.com?utm_source=created-in-deepnote-cell&projectId=1678f438-dd57-41c5-b88b-bfcde7b7ccb5' target=\"_blank\">\n<img alt='Created in deepnote.com' style='display:inline;max-height:16px;margin:0px;margin-right:7.5px;' src='data:image/svg+xml;base64,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' > </img>\nCreated in <span style='font-weight:600;margin-left:4px;'>Deepnote</span></a>",
   "metadata": {
    "tags": [],
    "created_in_deepnote_cell": true,
    "deepnote_cell_type": "markdown"
   }
  }
 ],
 "nbformat": 4,
 "nbformat_minor": 4,
 "metadata": {
  "colab": {
   "collapsed_sections": [],
   "name": "Análisis multivariado + Lopez, Gomez, Nesci, Robert.ipynb",
   "provenance": []
  },
  "kernelspec": {
   "display_name": "Python 3 (ipykernel)",
   "language": "python",
   "name": "python3"
  },
  "language_info": {
   "codemirror_mode": {
    "name": "ipython",
    "version": 3
   },
   "file_extension": ".py",
   "mimetype": "text/x-python",
   "name": "python",
   "nbconvert_exporter": "python",
   "pygments_lexer": "ipython3",
   "version": "3.9.13"
  },
  "deepnote_notebook_id": "db6d8c74-515e-422a-924e-ece8afd0bcdc",
  "deepnote": {},
  "deepnote_execution_queue": []
 }
}