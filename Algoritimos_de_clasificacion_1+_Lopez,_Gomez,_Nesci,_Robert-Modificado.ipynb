{
 "cells": [
  {
   "cell_type": "markdown",
   "source": "# **Algoritmos de clasificación**\n# ![](https://i.gifer.com/7ARb.gif)\nIntegrantes:\n\n\n*   Esteban Nesci\n*   Analía López\n*   Alejandro Gómez Fernández\n*   Rodrigo Robert\n\n\nConsigna: Sobre el dataset llamado titanic.csv, vamos a realizar la creación e implementación de un Árbol de Decisión de Clasificación.\n\nDesarrollar un Árbol de Decisión de Clasificación con el dataset propuesto llamado titanic.csv\n\nRecomendaciones:\n* Basarse en los entregables anteriores para la resolución de la presente actividad.\n* Utilizar los ejemplos vistos y abordados en la sesión, identificando claramente la variable target “y”.\n* Investigar a fondo sobre la librería Scikit-Learn y sus aplicaciones.",
   "metadata": {
    "cell_id": "58b9e6ebf8a545b3922b6d26a4462a7f",
    "tags": [],
    "owner_user_id": "f44ae237-a60f-490b-b7e7-4bd6dd520baf",
    "deepnote_cell_type": "markdown",
    "deepnote_cell_height": 943.2999877929688
   }
  },
  {
   "cell_type": "code",
   "metadata": {
    "deepnote_to_be_reexecuted": false,
    "executionInfo": {
     "elapsed": 870,
     "status": "ok",
     "timestamp": 1657946211762,
     "user": {
      "displayName": "William Wallace",
      "userId": "02462327362597608294"
     },
     "user_tz": 180
    },
    "execution_millis": 1767,
    "execution_start": 1658361905907,
    "id": "5SrCsbmng--X",
    "source_hash": "c66734f6",
    "cell_id": "00002-fb5baba8-edc0-401d-a23a-a0c85ccdd979",
    "deepnote_cell_type": "code",
    "deepnote_cell_height": 225
   },
   "source": "#Importamos las librerias y el dataset\nimport pandas as pd\nimport numpy as np\nimport seaborn as sns\n\n# Configuración warnings\nimport warnings\nwarnings.filterwarnings('ignore')\n",
   "outputs": [],
   "execution_count": null
  },
  {
   "cell_type": "code",
   "metadata": {
    "deepnote_to_be_reexecuted": false,
    "executionInfo": {
     "elapsed": 503,
     "status": "ok",
     "timestamp": 1657946212263,
     "user": {
      "displayName": "William Wallace",
      "userId": "02462327362597608294"
     },
     "user_tz": 180
    },
    "execution_millis": 20,
    "execution_start": 1658361907679,
    "id": "kZb1PLw13ZIe",
    "source_hash": "718ba8f0",
    "cell_id": "00003-92a20750-7d81-42e6-bbc3-2d08a59ae315",
    "deepnote_cell_type": "code",
    "deepnote_cell_height": 99
   },
   "source": "#accedo a los datos\ndf = pd.read_csv(\"Titanic.csv\", lineterminator='\\n')",
   "outputs": [],
   "execution_count": null
  },
  {
   "cell_type": "code",
   "metadata": {
    "colab": {
     "base_uri": "https://localhost:8080/"
    },
    "deepnote_to_be_reexecuted": false,
    "executionInfo": {
     "elapsed": 16,
     "status": "ok",
     "timestamp": 1657946212263,
     "user": {
      "displayName": "William Wallace",
      "userId": "02462327362597608294"
     },
     "user_tz": 180
    },
    "execution_millis": 4,
    "execution_start": 1658361907709,
    "id": "qhxfXueKEPEC",
    "outputId": "34db449b-41b6-46c9-906a-f96d08f9d7e5",
    "source_hash": "d2ef76ad",
    "cell_id": "00004-e1d0a40b-1235-420d-bf55-cb6c8fd2708f",
    "deepnote_cell_type": "code",
    "deepnote_cell_height": 200.1999969482422,
    "deepnote_output_heights": [
     null,
     21
    ]
   },
   "source": "# df.shape() retorna un Tuple asi: (filas, col)\nprint('Este dataset tiene ' + str(df.shape[0]) + ' filas, y ' + str(df.shape[1]) + ' columnas.')\ndf.shape",
   "outputs": [
    {
     "name": "stdout",
     "text": "Este dataset tiene 714 filas, y 6 columnas.\n",
     "output_type": "stream"
    },
    {
     "output_type": "execute_result",
     "execution_count": 3,
     "data": {
      "text/plain": "(714, 6)"
     },
     "metadata": {}
    }
   ],
   "execution_count": null
  },
  {
   "cell_type": "code",
   "metadata": {
    "colab": {
     "base_uri": "https://localhost:8080/"
    },
    "deepnote_to_be_reexecuted": false,
    "executionInfo": {
     "elapsed": 14,
     "status": "ok",
     "timestamp": 1657946212264,
     "user": {
      "displayName": "William Wallace",
      "userId": "02462327362597608294"
     },
     "user_tz": 180
    },
    "execution_millis": 3,
    "execution_start": 1658361907720,
    "id": "H7oL9G3K4LGj",
    "outputId": "4d07a48a-6a99-47ca-a910-6f9238b8760b",
    "source_hash": "1e414db7",
    "cell_id": "00005-ed0f1d71-c058-4a6f-bb66-a748d120192b",
    "deepnote_cell_type": "code",
    "deepnote_cell_height": 153,
    "deepnote_output_heights": [
     38
    ]
   },
   "source": "# devuelve las etiquetas de las columnas del marco de datos dado\ndf.columns",
   "outputs": [
    {
     "output_type": "execute_result",
     "execution_count": 4,
     "data": {
      "text/plain": "Index(['Survived', 'Pclass', 'Sex', 'Age', 'SibSp', 'Parch'], dtype='object')"
     },
     "metadata": {}
    }
   ],
   "execution_count": null
  },
  {
   "cell_type": "code",
   "metadata": {
    "deepnote_to_be_reexecuted": false,
    "executionInfo": {
     "elapsed": 40,
     "status": "ok",
     "timestamp": 1657946212713,
     "user": {
      "displayName": "William Wallace",
      "userId": "02462327362597608294"
     },
     "user_tz": 180
    },
    "execution_millis": 0,
    "execution_start": 1658361907755,
    "id": "0rJK7VF64HoW",
    "source_hash": "be3453a4",
    "cell_id": "00007-c98a0a3c-20dc-40a7-b18a-9182eab9693c",
    "deepnote_cell_type": "code",
    "deepnote_cell_height": 99
   },
   "source": "df2 = pd.DataFrame()\ndf2 = df",
   "outputs": [],
   "execution_count": null
  },
  {
   "cell_type": "code",
   "metadata": {
    "colab": {
     "base_uri": "https://localhost:8080/"
    },
    "deepnote_to_be_reexecuted": false,
    "executionInfo": {
     "elapsed": 38,
     "status": "ok",
     "timestamp": 1657946212714,
     "user": {
      "displayName": "William Wallace",
      "userId": "02462327362597608294"
     },
     "user_tz": 180
    },
    "execution_millis": 0,
    "execution_start": 1658361907756,
    "id": "GmFrvoxEJQcG",
    "outputId": "0b3caf54-c305-4d9d-8b21-aebf8761e658",
    "source_hash": "c8cb2846",
    "cell_id": "00008-cf6b93dd-2b0c-4d57-8495-5414c59b29d1",
    "deepnote_cell_type": "code",
    "deepnote_cell_height": 200.1999969482422,
    "deepnote_output_heights": [
     null,
     21
    ]
   },
   "source": "# df2.shape() retorna un Tuple asi: (filas, col)\nprint('Este dataset tiene ' + str(df2.shape[0]) + ' filas, y ' + str(df2.shape[1]) + ' columnas.')\ndf2.shape",
   "outputs": [
    {
     "name": "stdout",
     "text": "Este dataset tiene 714 filas, y 6 columnas.\n",
     "output_type": "stream"
    },
    {
     "output_type": "execute_result",
     "execution_count": 6,
     "data": {
      "text/plain": "(714, 6)"
     },
     "metadata": {}
    }
   ],
   "execution_count": null
  },
  {
   "cell_type": "code",
   "metadata": {
    "colab": {
     "base_uri": "https://localhost:8080/"
    },
    "deepnote_to_be_reexecuted": false,
    "executionInfo": {
     "elapsed": 32,
     "status": "ok",
     "timestamp": 1657946212715,
     "user": {
      "displayName": "William Wallace",
      "userId": "02462327362597608294"
     },
     "user_tz": 180
    },
    "execution_millis": 4,
    "execution_start": 1658361907756,
    "id": "3b7N5ug9BeqD",
    "outputId": "068b4faf-a4b0-4aea-c683-c37638d3e382",
    "source_hash": "e7acf07c",
    "cell_id": "00009-ab3b8f6a-4d2d-4fa1-865c-cd04ba369f10",
    "deepnote_cell_type": "code",
    "deepnote_cell_height": 354.6000061035156
   },
   "source": "df2.info()",
   "outputs": [
    {
     "name": "stdout",
     "text": "<class 'pandas.core.frame.DataFrame'>\nRangeIndex: 714 entries, 0 to 713\nData columns (total 6 columns):\n #   Column    Non-Null Count  Dtype  \n---  ------    --------------  -----  \n 0   Survived  714 non-null    int64  \n 1   Pclass    714 non-null    int64  \n 2   Sex       714 non-null    int64  \n 3   Age       714 non-null    float64\n 4   SibSp     714 non-null    int64  \n 5   Parch     714 non-null    int64  \ndtypes: float64(1), int64(5)\nmemory usage: 33.6 KB\n",
     "output_type": "stream"
    }
   ],
   "execution_count": null
  },
  {
   "cell_type": "code",
   "metadata": {
    "colab": {
     "base_uri": "https://localhost:8080/",
     "height": 676
    },
    "deepnote_to_be_reexecuted": false,
    "executionInfo": {
     "elapsed": 21,
     "status": "ok",
     "timestamp": 1657946212717,
     "user": {
      "displayName": "William Wallace",
      "userId": "02462327362597608294"
     },
     "user_tz": 180
    },
    "execution_millis": 18,
    "execution_start": 1658361907779,
    "id": "w0jOZzfYPXAu",
    "outputId": "b92bf37b-5857-4b2a-f5f5-557e71a7e07f",
    "source_hash": "99c74f24",
    "cell_id": "00010-bf19ba29-51fa-44be-a18f-a589e76631cc",
    "deepnote_cell_type": "code",
    "deepnote_cell_height": 617
   },
   "source": "df2.head(20)",
   "outputs": [
    {
     "output_type": "execute_result",
     "execution_count": 8,
     "data": {
      "application/vnd.deepnote.dataframe.v3+json": {
       "column_count": 6,
       "row_count": 20,
       "columns": [
        {
         "name": "Survived",
         "dtype": "int64",
         "stats": {
          "unique_count": 2,
          "nan_count": 0,
          "min": "0",
          "max": "1",
          "histogram": [
           {
            "bin_start": 0,
            "bin_end": 0.1,
            "count": 10
           },
           {
            "bin_start": 0.1,
            "bin_end": 0.2,
            "count": 0
           },
           {
            "bin_start": 0.2,
            "bin_end": 0.30000000000000004,
            "count": 0
           },
           {
            "bin_start": 0.30000000000000004,
            "bin_end": 0.4,
            "count": 0
           },
           {
            "bin_start": 0.4,
            "bin_end": 0.5,
            "count": 0
           },
           {
            "bin_start": 0.5,
            "bin_end": 0.6000000000000001,
            "count": 0
           },
           {
            "bin_start": 0.6000000000000001,
            "bin_end": 0.7000000000000001,
            "count": 0
           },
           {
            "bin_start": 0.7000000000000001,
            "bin_end": 0.8,
            "count": 0
           },
           {
            "bin_start": 0.8,
            "bin_end": 0.9,
            "count": 0
           },
           {
            "bin_start": 0.9,
            "bin_end": 1,
            "count": 10
           }
          ]
         }
        },
        {
         "name": "Pclass",
         "dtype": "int64",
         "stats": {
          "unique_count": 3,
          "nan_count": 0,
          "min": "1",
          "max": "3",
          "histogram": [
           {
            "bin_start": 1,
            "bin_end": 1.2,
            "count": 4
           },
           {
            "bin_start": 1.2,
            "bin_end": 1.4,
            "count": 0
           },
           {
            "bin_start": 1.4,
            "bin_end": 1.6,
            "count": 0
           },
           {
            "bin_start": 1.6,
            "bin_end": 1.8,
            "count": 0
           },
           {
            "bin_start": 1.8,
            "bin_end": 2,
            "count": 0
           },
           {
            "bin_start": 2,
            "bin_end": 2.2,
            "count": 4
           },
           {
            "bin_start": 2.2,
            "bin_end": 2.4000000000000004,
            "count": 0
           },
           {
            "bin_start": 2.4000000000000004,
            "bin_end": 2.6,
            "count": 0
           },
           {
            "bin_start": 2.6,
            "bin_end": 2.8,
            "count": 0
           },
           {
            "bin_start": 2.8,
            "bin_end": 3,
            "count": 12
           }
          ]
         }
        },
        {
         "name": "Sex",
         "dtype": "int64",
         "stats": {
          "unique_count": 2,
          "nan_count": 0,
          "min": "0",
          "max": "1",
          "histogram": [
           {
            "bin_start": 0,
            "bin_end": 0.1,
            "count": 9
           },
           {
            "bin_start": 0.1,
            "bin_end": 0.2,
            "count": 0
           },
           {
            "bin_start": 0.2,
            "bin_end": 0.30000000000000004,
            "count": 0
           },
           {
            "bin_start": 0.30000000000000004,
            "bin_end": 0.4,
            "count": 0
           },
           {
            "bin_start": 0.4,
            "bin_end": 0.5,
            "count": 0
           },
           {
            "bin_start": 0.5,
            "bin_end": 0.6000000000000001,
            "count": 0
           },
           {
            "bin_start": 0.6000000000000001,
            "bin_end": 0.7000000000000001,
            "count": 0
           },
           {
            "bin_start": 0.7000000000000001,
            "bin_end": 0.8,
            "count": 0
           },
           {
            "bin_start": 0.8,
            "bin_end": 0.9,
            "count": 0
           },
           {
            "bin_start": 0.9,
            "bin_end": 1,
            "count": 11
           }
          ]
         }
        },
        {
         "name": "Age",
         "dtype": "float64",
         "stats": {
          "unique_count": 16,
          "nan_count": 0,
          "min": "2.0",
          "max": "58.0",
          "histogram": [
           {
            "bin_start": 2,
            "bin_end": 7.6,
            "count": 3
           },
           {
            "bin_start": 7.6,
            "bin_end": 13.2,
            "count": 0
           },
           {
            "bin_start": 13.2,
            "bin_end": 18.799999999999997,
            "count": 3
           },
           {
            "bin_start": 18.799999999999997,
            "bin_end": 24.4,
            "count": 2
           },
           {
            "bin_start": 24.4,
            "bin_end": 30,
            "count": 2
           },
           {
            "bin_start": 30,
            "bin_end": 35.599999999999994,
            "count": 5
           },
           {
            "bin_start": 35.599999999999994,
            "bin_end": 41.199999999999996,
            "count": 2
           },
           {
            "bin_start": 41.199999999999996,
            "bin_end": 46.8,
            "count": 0
           },
           {
            "bin_start": 46.8,
            "bin_end": 52.4,
            "count": 0
           },
           {
            "bin_start": 52.4,
            "bin_end": 58,
            "count": 3
           }
          ]
         }
        },
        {
         "name": "SibSp",
         "dtype": "int64",
         "stats": {
          "unique_count": 4,
          "nan_count": 0,
          "min": "0",
          "max": "4",
          "histogram": [
           {
            "bin_start": 0,
            "bin_end": 0.4,
            "count": 11
           },
           {
            "bin_start": 0.4,
            "bin_end": 0.8,
            "count": 0
           },
           {
            "bin_start": 0.8,
            "bin_end": 1.2000000000000002,
            "count": 7
           },
           {
            "bin_start": 1.2000000000000002,
            "bin_end": 1.6,
            "count": 0
           },
           {
            "bin_start": 1.6,
            "bin_end": 2,
            "count": 0
           },
           {
            "bin_start": 2,
            "bin_end": 2.4000000000000004,
            "count": 0
           },
           {
            "bin_start": 2.4000000000000004,
            "bin_end": 2.8000000000000003,
            "count": 0
           },
           {
            "bin_start": 2.8000000000000003,
            "bin_end": 3.2,
            "count": 1
           },
           {
            "bin_start": 3.2,
            "bin_end": 3.6,
            "count": 0
           },
           {
            "bin_start": 3.6,
            "bin_end": 4,
            "count": 1
           }
          ]
         }
        },
        {
         "name": "Parch",
         "dtype": "int64",
         "stats": {
          "unique_count": 4,
          "nan_count": 0,
          "min": "0",
          "max": "5",
          "histogram": [
           {
            "bin_start": 0,
            "bin_end": 0.5,
            "count": 15
           },
           {
            "bin_start": 0.5,
            "bin_end": 1,
            "count": 0
           },
           {
            "bin_start": 1,
            "bin_end": 1.5,
            "count": 3
           },
           {
            "bin_start": 1.5,
            "bin_end": 2,
            "count": 0
           },
           {
            "bin_start": 2,
            "bin_end": 2.5,
            "count": 1
           },
           {
            "bin_start": 2.5,
            "bin_end": 3,
            "count": 0
           },
           {
            "bin_start": 3,
            "bin_end": 3.5,
            "count": 0
           },
           {
            "bin_start": 3.5,
            "bin_end": 4,
            "count": 0
           },
           {
            "bin_start": 4,
            "bin_end": 4.5,
            "count": 0
           },
           {
            "bin_start": 4.5,
            "bin_end": 5,
            "count": 1
           }
          ]
         }
        },
        {
         "name": "_deepnote_index_column",
         "dtype": "int64"
        }
       ],
       "rows": [
        {
         "Survived": 0,
         "Pclass": 3,
         "Sex": 0,
         "Age": 22,
         "SibSp": 1,
         "Parch": 0,
         "_deepnote_index_column": 0
        },
        {
         "Survived": 1,
         "Pclass": 1,
         "Sex": 1,
         "Age": 38,
         "SibSp": 1,
         "Parch": 0,
         "_deepnote_index_column": 1
        },
        {
         "Survived": 1,
         "Pclass": 3,
         "Sex": 1,
         "Age": 26,
         "SibSp": 0,
         "Parch": 0,
         "_deepnote_index_column": 2
        },
        {
         "Survived": 1,
         "Pclass": 1,
         "Sex": 1,
         "Age": 35,
         "SibSp": 1,
         "Parch": 0,
         "_deepnote_index_column": 3
        },
        {
         "Survived": 0,
         "Pclass": 3,
         "Sex": 0,
         "Age": 35,
         "SibSp": 0,
         "Parch": 0,
         "_deepnote_index_column": 4
        },
        {
         "Survived": 0,
         "Pclass": 1,
         "Sex": 0,
         "Age": 54,
         "SibSp": 0,
         "Parch": 0,
         "_deepnote_index_column": 5
        },
        {
         "Survived": 0,
         "Pclass": 3,
         "Sex": 0,
         "Age": 2,
         "SibSp": 3,
         "Parch": 1,
         "_deepnote_index_column": 6
        },
        {
         "Survived": 1,
         "Pclass": 3,
         "Sex": 1,
         "Age": 27,
         "SibSp": 0,
         "Parch": 2,
         "_deepnote_index_column": 7
        },
        {
         "Survived": 1,
         "Pclass": 2,
         "Sex": 1,
         "Age": 14,
         "SibSp": 1,
         "Parch": 0,
         "_deepnote_index_column": 8
        },
        {
         "Survived": 1,
         "Pclass": 3,
         "Sex": 1,
         "Age": 4,
         "SibSp": 1,
         "Parch": 1,
         "_deepnote_index_column": 9
        }
       ]
      },
      "text/plain": "    Survived  Pclass  Sex   Age  SibSp  Parch\n0          0       3    0  22.0      1      0\n1          1       1    1  38.0      1      0\n2          1       3    1  26.0      0      0\n3          1       1    1  35.0      1      0\n4          0       3    0  35.0      0      0\n5          0       1    0  54.0      0      0\n6          0       3    0   2.0      3      1\n7          1       3    1  27.0      0      2\n8          1       2    1  14.0      1      0\n9          1       3    1   4.0      1      1\n10         1       1    1  58.0      0      0\n11         0       3    0  20.0      0      0\n12         0       3    0  39.0      1      5\n13         0       3    1  14.0      0      0\n14         1       2    1  55.0      0      0\n15         0       3    0   2.0      4      1\n16         0       3    1  31.0      1      0\n17         0       2    0  35.0      0      0\n18         1       2    0  34.0      0      0\n19         1       3    1  15.0      0      0",
      "text/html": "<div>\n<style scoped>\n    .dataframe tbody tr th:only-of-type {\n        vertical-align: middle;\n    }\n\n    .dataframe tbody tr th {\n        vertical-align: top;\n    }\n\n    .dataframe thead th {\n        text-align: right;\n    }\n</style>\n<table border=\"1\" class=\"dataframe\">\n  <thead>\n    <tr style=\"text-align: right;\">\n      <th></th>\n      <th>Survived</th>\n      <th>Pclass</th>\n      <th>Sex</th>\n      <th>Age</th>\n      <th>SibSp</th>\n      <th>Parch</th>\n    </tr>\n  </thead>\n  <tbody>\n    <tr>\n      <th>0</th>\n      <td>0</td>\n      <td>3</td>\n      <td>0</td>\n      <td>22.0</td>\n      <td>1</td>\n      <td>0</td>\n    </tr>\n    <tr>\n      <th>1</th>\n      <td>1</td>\n      <td>1</td>\n      <td>1</td>\n      <td>38.0</td>\n      <td>1</td>\n      <td>0</td>\n    </tr>\n    <tr>\n      <th>2</th>\n      <td>1</td>\n      <td>3</td>\n      <td>1</td>\n      <td>26.0</td>\n      <td>0</td>\n      <td>0</td>\n    </tr>\n    <tr>\n      <th>3</th>\n      <td>1</td>\n      <td>1</td>\n      <td>1</td>\n      <td>35.0</td>\n      <td>1</td>\n      <td>0</td>\n    </tr>\n    <tr>\n      <th>4</th>\n      <td>0</td>\n      <td>3</td>\n      <td>0</td>\n      <td>35.0</td>\n      <td>0</td>\n      <td>0</td>\n    </tr>\n    <tr>\n      <th>5</th>\n      <td>0</td>\n      <td>1</td>\n      <td>0</td>\n      <td>54.0</td>\n      <td>0</td>\n      <td>0</td>\n    </tr>\n    <tr>\n      <th>6</th>\n      <td>0</td>\n      <td>3</td>\n      <td>0</td>\n      <td>2.0</td>\n      <td>3</td>\n      <td>1</td>\n    </tr>\n    <tr>\n      <th>7</th>\n      <td>1</td>\n      <td>3</td>\n      <td>1</td>\n      <td>27.0</td>\n      <td>0</td>\n      <td>2</td>\n    </tr>\n    <tr>\n      <th>8</th>\n      <td>1</td>\n      <td>2</td>\n      <td>1</td>\n      <td>14.0</td>\n      <td>1</td>\n      <td>0</td>\n    </tr>\n    <tr>\n      <th>9</th>\n      <td>1</td>\n      <td>3</td>\n      <td>1</td>\n      <td>4.0</td>\n      <td>1</td>\n      <td>1</td>\n    </tr>\n    <tr>\n      <th>10</th>\n      <td>1</td>\n      <td>1</td>\n      <td>1</td>\n      <td>58.0</td>\n      <td>0</td>\n      <td>0</td>\n    </tr>\n    <tr>\n      <th>11</th>\n      <td>0</td>\n      <td>3</td>\n      <td>0</td>\n      <td>20.0</td>\n      <td>0</td>\n      <td>0</td>\n    </tr>\n    <tr>\n      <th>12</th>\n      <td>0</td>\n      <td>3</td>\n      <td>0</td>\n      <td>39.0</td>\n      <td>1</td>\n      <td>5</td>\n    </tr>\n    <tr>\n      <th>13</th>\n      <td>0</td>\n      <td>3</td>\n      <td>1</td>\n      <td>14.0</td>\n      <td>0</td>\n      <td>0</td>\n    </tr>\n    <tr>\n      <th>14</th>\n      <td>1</td>\n      <td>2</td>\n      <td>1</td>\n      <td>55.0</td>\n      <td>0</td>\n      <td>0</td>\n    </tr>\n    <tr>\n      <th>15</th>\n      <td>0</td>\n      <td>3</td>\n      <td>0</td>\n      <td>2.0</td>\n      <td>4</td>\n      <td>1</td>\n    </tr>\n    <tr>\n      <th>16</th>\n      <td>0</td>\n      <td>3</td>\n      <td>1</td>\n      <td>31.0</td>\n      <td>1</td>\n      <td>0</td>\n    </tr>\n    <tr>\n      <th>17</th>\n      <td>0</td>\n      <td>2</td>\n      <td>0</td>\n      <td>35.0</td>\n      <td>0</td>\n      <td>0</td>\n    </tr>\n    <tr>\n      <th>18</th>\n      <td>1</td>\n      <td>2</td>\n      <td>0</td>\n      <td>34.0</td>\n      <td>0</td>\n      <td>0</td>\n    </tr>\n    <tr>\n      <th>19</th>\n      <td>1</td>\n      <td>3</td>\n      <td>1</td>\n      <td>15.0</td>\n      <td>0</td>\n      <td>0</td>\n    </tr>\n  </tbody>\n</table>\n</div>"
     },
     "metadata": {}
    }
   ],
   "execution_count": null
  },
  {
   "cell_type": "code",
   "metadata": {
    "colab": {
     "base_uri": "https://localhost:8080/",
     "height": 427
    },
    "deepnote_to_be_reexecuted": false,
    "executionInfo": {
     "elapsed": 432,
     "status": "ok",
     "timestamp": 1657946213130,
     "user": {
      "displayName": "William Wallace",
      "userId": "02462327362597608294"
     },
     "user_tz": 180
    },
    "execution_millis": 447,
    "execution_start": 1658361907796,
    "id": "1nZZuCYRGLCI",
    "outputId": "d4d4ca03-73de-4e73-dc87-59152f60693c",
    "source_hash": "dc76258d",
    "cell_id": "00011-ac188b1c-4a97-4af1-ba55-8b3069ba4221",
    "deepnote_cell_type": "code",
    "deepnote_cell_height": 589.4000244140625,
    "deepnote_output_heights": [
     null,
     254
    ]
   },
   "source": "print(df2.corr())\n  \n# plotting correlation heatmap\ndataplot = sns.heatmap(df2.corr(), cmap=\"YlGnBu\", annot=True)",
   "outputs": [
    {
     "name": "stdout",
     "text": "          Survived    Pclass       Sex       Age     SibSp     Parch\nSurvived  1.000000 -0.359653  0.538826 -0.077221 -0.017358  0.093317\nPclass   -0.359653  1.000000 -0.155460 -0.369226  0.067247  0.025683\nSex       0.538826 -0.155460  1.000000 -0.093254  0.103950  0.246972\nAge      -0.077221 -0.369226 -0.093254  1.000000 -0.308247 -0.189119\nSibSp    -0.017358  0.067247  0.103950 -0.308247  1.000000  0.383820\nParch     0.093317  0.025683  0.246972 -0.189119  0.383820  1.000000\n",
     "output_type": "stream"
    },
    {
     "data": {
      "text/plain": "<Figure size 432x288 with 2 Axes>",
      "image/png": "[encoded data removed]"
     },
     "metadata": {
      "needs_background": "light",
      "image/png": {
       "width": 391,
       "height": 252
      }
     },
     "output_type": "display_data"
    }
   ],
   "execution_count": null
  },
  {
   "cell_type": "code",
   "metadata": {
    "deepnote_to_be_reexecuted": false,
    "executionInfo": {
     "elapsed": 32,
     "status": "ok",
     "timestamp": 1657946213131,
     "user": {
      "displayName": "William Wallace",
      "userId": "02462327362597608294"
     },
     "user_tz": 180
    },
    "execution_millis": 5,
    "execution_start": 1658361908249,
    "id": "BHQs_xav4_u2",
    "source_hash": "fc537514",
    "cell_id": "00012-5406e210-9fa5-4992-b0c2-8570b5432fba",
    "deepnote_cell_type": "code",
    "deepnote_cell_height": 99
   },
   "source": "X = df2.drop(\"Survived\", axis=1) #Elimino de mi dataset la variable a predecir\ny = df2.Survived #Defino el Target",
   "outputs": [],
   "execution_count": null
  },
  {
   "cell_type": "code",
   "metadata": {
    "colab": {
     "base_uri": "https://localhost:8080/",
     "height": 423
    },
    "deepnote_to_be_reexecuted": false,
    "executionInfo": {
     "elapsed": 32,
     "status": "ok",
     "timestamp": 1657946213132,
     "user": {
      "displayName": "William Wallace",
      "userId": "02462327362597608294"
     },
     "user_tz": 180
    },
    "execution_millis": 22,
    "execution_start": 1658361908265,
    "id": "vy3UhBmb_DzS",
    "outputId": "a043b8a9-0479-48b3-8a2b-8f6d95b5f3e1",
    "source_hash": "b2696ff6",
    "cell_id": "00013-0a9739e6-2721-435d-ac06-0fd0faf5a103",
    "deepnote_cell_type": "code",
    "deepnote_cell_height": 617
   },
   "source": "X",
   "outputs": [
    {
     "output_type": "execute_result",
     "execution_count": 11,
     "data": {
      "application/vnd.deepnote.dataframe.v3+json": {
       "column_count": 5,
       "row_count": 714,
       "columns": [
        {
         "name": "Pclass",
         "dtype": "int64",
         "stats": {
          "unique_count": 3,
          "nan_count": 0,
          "min": "1",
          "max": "3",
          "histogram": [
           {
            "bin_start": 1,
            "bin_end": 1.2,
            "count": 186
           },
           {
            "bin_start": 1.2,
            "bin_end": 1.4,
            "count": 0
           },
           {
            "bin_start": 1.4,
            "bin_end": 1.6,
            "count": 0
           },
           {
            "bin_start": 1.6,
            "bin_end": 1.8,
            "count": 0
           },
           {
            "bin_start": 1.8,
            "bin_end": 2,
            "count": 0
           },
           {
            "bin_start": 2,
            "bin_end": 2.2,
            "count": 173
           },
           {
            "bin_start": 2.2,
            "bin_end": 2.4000000000000004,
            "count": 0
           },
           {
            "bin_start": 2.4000000000000004,
            "bin_end": 2.6,
            "count": 0
           },
           {
            "bin_start": 2.6,
            "bin_end": 2.8,
            "count": 0
           },
           {
            "bin_start": 2.8,
            "bin_end": 3,
            "count": 355
           }
          ]
         }
        },
        {
         "name": "Sex",
         "dtype": "int64",
         "stats": {
          "unique_count": 2,
          "nan_count": 0,
          "min": "0",
          "max": "1",
          "histogram": [
           {
            "bin_start": 0,
            "bin_end": 0.1,
            "count": 453
           },
           {
            "bin_start": 0.1,
            "bin_end": 0.2,
            "count": 0
           },
           {
            "bin_start": 0.2,
            "bin_end": 0.30000000000000004,
            "count": 0
           },
           {
            "bin_start": 0.30000000000000004,
            "bin_end": 0.4,
            "count": 0
           },
           {
            "bin_start": 0.4,
            "bin_end": 0.5,
            "count": 0
           },
           {
            "bin_start": 0.5,
            "bin_end": 0.6000000000000001,
            "count": 0
           },
           {
            "bin_start": 0.6000000000000001,
            "bin_end": 0.7000000000000001,
            "count": 0
           },
           {
            "bin_start": 0.7000000000000001,
            "bin_end": 0.8,
            "count": 0
           },
           {
            "bin_start": 0.8,
            "bin_end": 0.9,
            "count": 0
           },
           {
            "bin_start": 0.9,
            "bin_end": 1,
            "count": 261
           }
          ]
         }
        },
        {
         "name": "Age",
         "dtype": "float64",
         "stats": {
          "unique_count": 88,
          "nan_count": 0,
          "min": "0.42",
          "max": "80.0",
          "histogram": [
           {
            "bin_start": 0.42,
            "bin_end": 8.378,
            "count": 54
           },
           {
            "bin_start": 8.378,
            "bin_end": 16.336000000000002,
            "count": 46
           },
           {
            "bin_start": 16.336000000000002,
            "bin_end": 24.294000000000004,
            "count": 177
           },
           {
            "bin_start": 24.294000000000004,
            "bin_end": 32.252,
            "count": 169
           },
           {
            "bin_start": 32.252,
            "bin_end": 40.21,
            "count": 118
           },
           {
            "bin_start": 40.21,
            "bin_end": 48.168000000000006,
            "count": 70
           },
           {
            "bin_start": 48.168000000000006,
            "bin_end": 56.126000000000005,
            "count": 45
           },
           {
            "bin_start": 56.126000000000005,
            "bin_end": 64.084,
            "count": 24
           },
           {
            "bin_start": 64.084,
            "bin_end": 72.042,
            "count": 9
           },
           {
            "bin_start": 72.042,
            "bin_end": 80,
            "count": 2
           }
          ]
         }
        },
        {
         "name": "SibSp",
         "dtype": "int64",
         "stats": {
          "unique_count": 6,
          "nan_count": 0,
          "min": "0",
          "max": "5",
          "histogram": [
           {
            "bin_start": 0,
            "bin_end": 0.5,
            "count": 471
           },
           {
            "bin_start": 0.5,
            "bin_end": 1,
            "count": 0
           },
           {
            "bin_start": 1,
            "bin_end": 1.5,
            "count": 183
           },
           {
            "bin_start": 1.5,
            "bin_end": 2,
            "count": 0
           },
           {
            "bin_start": 2,
            "bin_end": 2.5,
            "count": 25
           },
           {
            "bin_start": 2.5,
            "bin_end": 3,
            "count": 0
           },
           {
            "bin_start": 3,
            "bin_end": 3.5,
            "count": 12
           },
           {
            "bin_start": 3.5,
            "bin_end": 4,
            "count": 0
           },
           {
            "bin_start": 4,
            "bin_end": 4.5,
            "count": 18
           },
           {
            "bin_start": 4.5,
            "bin_end": 5,
            "count": 5
           }
          ]
         }
        },
        {
         "name": "Parch",
         "dtype": "int64",
         "stats": {
          "unique_count": 7,
          "nan_count": 0,
          "min": "0",
          "max": "6",
          "histogram": [
           {
            "bin_start": 0,
            "bin_end": 0.6,
            "count": 521
           },
           {
            "bin_start": 0.6,
            "bin_end": 1.2,
            "count": 110
           },
           {
            "bin_start": 1.2,
            "bin_end": 1.7999999999999998,
            "count": 0
           },
           {
            "bin_start": 1.7999999999999998,
            "bin_end": 2.4,
            "count": 68
           },
           {
            "bin_start": 2.4,
            "bin_end": 3,
            "count": 0
           },
           {
            "bin_start": 3,
            "bin_end": 3.5999999999999996,
            "count": 5
           },
           {
            "bin_start": 3.5999999999999996,
            "bin_end": 4.2,
            "count": 4
           },
           {
            "bin_start": 4.2,
            "bin_end": 4.8,
            "count": 0
           },
           {
            "bin_start": 4.8,
            "bin_end": 5.3999999999999995,
            "count": 5
           },
           {
            "bin_start": 5.3999999999999995,
            "bin_end": 6,
            "count": 1
           }
          ]
         }
        },
        {
         "name": "_deepnote_index_column",
         "dtype": "int64"
        }
       ],
       "rows": [
        {
         "Pclass": 3,
         "Sex": 0,
         "Age": 22,
         "SibSp": 1,
         "Parch": 0,
         "_deepnote_index_column": 0
        },
        {
         "Pclass": 1,
         "Sex": 1,
         "Age": 38,
         "SibSp": 1,
         "Parch": 0,
         "_deepnote_index_column": 1
        },
        {
         "Pclass": 3,
         "Sex": 1,
         "Age": 26,
         "SibSp": 0,
         "Parch": 0,
         "_deepnote_index_column": 2
        },
        {
         "Pclass": 1,
         "Sex": 1,
         "Age": 35,
         "SibSp": 1,
         "Parch": 0,
         "_deepnote_index_column": 3
        },
        {
         "Pclass": 3,
         "Sex": 0,
         "Age": 35,
         "SibSp": 0,
         "Parch": 0,
         "_deepnote_index_column": 4
        },
        {
         "Pclass": 1,
         "Sex": 0,
         "Age": 54,
         "SibSp": 0,
         "Parch": 0,
         "_deepnote_index_column": 5
        },
        {
         "Pclass": 3,
         "Sex": 0,
         "Age": 2,
         "SibSp": 3,
         "Parch": 1,
         "_deepnote_index_column": 6
        },
        {
         "Pclass": 3,
         "Sex": 1,
         "Age": 27,
         "SibSp": 0,
         "Parch": 2,
         "_deepnote_index_column": 7
        },
        {
         "Pclass": 2,
         "Sex": 1,
         "Age": 14,
         "SibSp": 1,
         "Parch": 0,
         "_deepnote_index_column": 8
        },
        {
         "Pclass": 3,
         "Sex": 1,
         "Age": 4,
         "SibSp": 1,
         "Parch": 1,
         "_deepnote_index_column": 9
        }
       ]
      },
      "text/plain": "     Pclass  Sex   Age  SibSp  Parch\n0         3    0  22.0      1      0\n1         1    1  38.0      1      0\n2         3    1  26.0      0      0\n3         1    1  35.0      1      0\n4         3    0  35.0      0      0\n..      ...  ...   ...    ...    ...\n709       3    1  39.0      0      5\n710       2    0  27.0      0      0\n711       1    1  19.0      0      0\n712       1    0  26.0      0      0\n713       3    0  32.0      0      0\n\n[714 rows x 5 columns]",
      "text/html": "<div>\n<style scoped>\n    .dataframe tbody tr th:only-of-type {\n        vertical-align: middle;\n    }\n\n    .dataframe tbody tr th {\n        vertical-align: top;\n    }\n\n    .dataframe thead th {\n        text-align: right;\n    }\n</style>\n<table border=\"1\" class=\"dataframe\">\n  <thead>\n    <tr style=\"text-align: right;\">\n      <th></th>\n      <th>Pclass</th>\n      <th>Sex</th>\n      <th>Age</th>\n      <th>SibSp</th>\n      <th>Parch</th>\n    </tr>\n  </thead>\n  <tbody>\n    <tr>\n      <th>0</th>\n      <td>3</td>\n      <td>0</td>\n      <td>22.0</td>\n      <td>1</td>\n      <td>0</td>\n    </tr>\n    <tr>\n      <th>1</th>\n      <td>1</td>\n      <td>1</td>\n      <td>38.0</td>\n      <td>1</td>\n      <td>0</td>\n    </tr>\n    <tr>\n      <th>2</th>\n      <td>3</td>\n      <td>1</td>\n      <td>26.0</td>\n      <td>0</td>\n      <td>0</td>\n    </tr>\n    <tr>\n      <th>3</th>\n      <td>1</td>\n      <td>1</td>\n      <td>35.0</td>\n      <td>1</td>\n      <td>0</td>\n    </tr>\n    <tr>\n      <th>4</th>\n      <td>3</td>\n      <td>0</td>\n      <td>35.0</td>\n      <td>0</td>\n      <td>0</td>\n    </tr>\n    <tr>\n      <th>...</th>\n      <td>...</td>\n      <td>...</td>\n      <td>...</td>\n      <td>...</td>\n      <td>...</td>\n    </tr>\n    <tr>\n      <th>709</th>\n      <td>3</td>\n      <td>1</td>\n      <td>39.0</td>\n      <td>0</td>\n      <td>5</td>\n    </tr>\n    <tr>\n      <th>710</th>\n      <td>2</td>\n      <td>0</td>\n      <td>27.0</td>\n      <td>0</td>\n      <td>0</td>\n    </tr>\n    <tr>\n      <th>711</th>\n      <td>1</td>\n      <td>1</td>\n      <td>19.0</td>\n      <td>0</td>\n      <td>0</td>\n    </tr>\n    <tr>\n      <th>712</th>\n      <td>1</td>\n      <td>0</td>\n      <td>26.0</td>\n      <td>0</td>\n      <td>0</td>\n    </tr>\n    <tr>\n      <th>713</th>\n      <td>3</td>\n      <td>0</td>\n      <td>32.0</td>\n      <td>0</td>\n      <td>0</td>\n    </tr>\n  </tbody>\n</table>\n<p>714 rows × 5 columns</p>\n</div>"
     },
     "metadata": {}
    }
   ],
   "execution_count": null
  },
  {
   "cell_type": "code",
   "metadata": {
    "deepnote_to_be_reexecuted": false,
    "executionInfo": {
     "elapsed": 32,
     "status": "ok",
     "timestamp": 1657946213134,
     "user": {
      "displayName": "William Wallace",
      "userId": "02462327362597608294"
     },
     "user_tz": 180
    },
    "execution_millis": 59,
    "execution_start": 1658361908330,
    "id": "IhHpGhE1IMJg",
    "source_hash": "866b8212",
    "cell_id": "00014-67debcce-1708-4168-9736-d49fdce1d165",
    "deepnote_cell_type": "code",
    "deepnote_cell_height": 81
   },
   "source": "from sklearn.preprocessing import StandardScaler",
   "outputs": [],
   "execution_count": null
  },
  {
   "cell_type": "code",
   "metadata": {
    "colab": {
     "base_uri": "https://localhost:8080/"
    },
    "deepnote_to_be_reexecuted": false,
    "executionInfo": {
     "elapsed": 33,
     "status": "ok",
     "timestamp": 1657946213135,
     "user": {
      "displayName": "William Wallace",
      "userId": "02462327362597608294"
     },
     "user_tz": 180
    },
    "execution_millis": 3,
    "execution_start": 1658361908432,
    "id": "Aq-QQISsHfOQ",
    "outputId": "f6ea5747-c933-4693-b1e1-b378e9ba16e4",
    "source_hash": "4c71d1fb",
    "cell_id": "00015-eda97f4c-bfd3-4bf2-895c-5c7fb1c6de7b",
    "deepnote_cell_type": "code",
    "deepnote_cell_height": 304,
    "deepnote_output_heights": [
     153
    ]
   },
   "source": "ss = StandardScaler()\n# (with_mean=False, with_std=False)\nX = ss.fit_transform(X)\nX",
   "outputs": [
    {
     "output_type": "execute_result",
     "execution_count": 13,
     "data": {
      "text/plain": "array([[ 0.91123237, -0.75905134, -0.53037664,  0.52457013, -0.50589515],\n       [-1.47636364,  1.31743394,  0.57183099,  0.52457013, -0.50589515],\n       [ 0.91123237,  1.31743394, -0.25482473, -0.55170307, -0.50589515],\n       ...,\n       [-1.47636364,  1.31743394, -0.73704057, -0.55170307, -0.50589515],\n       [-1.47636364, -0.75905134, -0.25482473, -0.55170307, -0.50589515],\n       [ 0.91123237, -0.75905134,  0.15850313, -0.55170307, -0.50589515]])"
     },
     "metadata": {}
    }
   ],
   "execution_count": null
  },
  {
   "cell_type": "markdown",
   "source": "### División&nbsp;de&nbsp;datos&nbsp;en&nbsp;conjuntos&nbsp;de&nbsp;entrenamiento&nbsp;y&nbsp;prueba",
   "metadata": {
    "formattedRanges": [],
    "cell_id": "46f1272ed53c4deabe18208546258f4c",
    "tags": [],
    "is_collapsed": false,
    "deepnote_cell_type": "text-cell-h3"
   }
  },
  {
   "cell_type": "markdown",
   "source": "\nEl siguiente codigo coloca el 70% de los datos en un conjunto de entrenamiento y el 30% de los datos en un conjunto de pruebas.",
   "metadata": {
    "cell_id": "2248d7acec4c4cd7a1626726449b3e5e",
    "tags": [],
    "deepnote_cell_type": "markdown",
    "deepnote_cell_height": 74.80000305175781
   }
  },
  {
   "cell_type": "code",
   "metadata": {
    "deepnote_to_be_reexecuted": false,
    "executionInfo": {
     "elapsed": 32,
     "status": "ok",
     "timestamp": 1657946213136,
     "user": {
      "displayName": "William Wallace",
      "userId": "02462327362597608294"
     },
     "user_tz": 180
    },
    "execution_millis": 58,
    "execution_start": 1658361908433,
    "id": "xJ_lJGr56VIV",
    "source_hash": "ef639279",
    "cell_id": "00016-e8083ca3-148a-4040-a0f2-b3fae0d2dea7",
    "deepnote_cell_type": "code",
    "deepnote_cell_height": 153
   },
   "source": "#Importamos la libreria para separar en train y test\nfrom sklearn.model_selection import train_test_split \n\n#Me quedo con 30% para test y 70% para train\nX_train, X_test, y_train, y_test = train_test_split(X, y, test_size=0.30, random_state=42) ",
   "outputs": [],
   "execution_count": null
  },
  {
   "cell_type": "markdown",
   "source": "## ARBOL DE DECISIÓN ",
   "metadata": {
    "id": "4Vq1cbPpK3X7",
    "cell_id": "00017-9e16eebf-68dc-47c7-91bb-1e8d8640d7da",
    "deepnote_cell_type": "markdown",
    "deepnote_cell_height": 70
   }
  },
  {
   "cell_type": "code",
   "metadata": {
    "deepnote_to_be_reexecuted": false,
    "executionInfo": {
     "elapsed": 33,
     "status": "ok",
     "timestamp": 1657946213138,
     "user": {
      "displayName": "William Wallace",
      "userId": "02462327362597608294"
     },
     "user_tz": 180
    },
    "execution_millis": 283,
    "execution_start": 1658361908495,
    "id": "ZzaZIpAn6ZOj",
    "source_hash": "63f7d5ab",
    "cell_id": "00018-e6d54fa1-c9bc-4d09-b6f1-78287bb84e34",
    "deepnote_cell_type": "code",
    "deepnote_cell_height": 153
   },
   "source": " #Importamos el modelo a usar\nfrom sklearn.tree import DecisionTreeClassifier\n#Creamos una instancia del modelo\n\ntree = DecisionTreeClassifier(max_depth=3, random_state = 14) ",
   "outputs": [],
   "execution_count": null
  },
  {
   "cell_type": "code",
   "metadata": {
    "colab": {
     "base_uri": "https://localhost:8080/"
    },
    "deepnote_to_be_reexecuted": false,
    "executionInfo": {
     "elapsed": 35,
     "status": "ok",
     "timestamp": 1657946213140,
     "user": {
      "displayName": "William Wallace",
      "userId": "02462327362597608294"
     },
     "user_tz": 180
    },
    "execution_millis": 504,
    "execution_start": 1658361908786,
    "id": "U3-IQ-2I6bkC",
    "outputId": "45caeff6-12fc-4848-91c0-311d7b4a4780",
    "source_hash": "9c8c04b5",
    "cell_id": "00019-a736dc08-a933-4c98-ad5c-91c7b46c095c",
    "owner_user_id": "6f2b7ad9-6002-4f3d-af75-a640c6e4a028",
    "deepnote_cell_type": "code",
    "deepnote_cell_height": 175,
    "deepnote_output_heights": [
     60
    ]
   },
   "source": "#Entrenamos el modelo\ntree.fit(X_train,y_train)",
   "outputs": [
    {
     "output_type": "execute_result",
     "execution_count": 16,
     "data": {
      "text/plain": "DecisionTreeClassifier(max_depth=3, random_state=14)",
      "text/html": "<style>#sk-container-id-1 {color: black;background-color: white;}#sk-container-id-1 pre{padding: 0;}#sk-container-id-1 div.sk-toggleable {background-color: white;}#sk-container-id-1 label.sk-toggleable__label {cursor: pointer;display: block;width: 100%;margin-bottom: 0;padding: 0.3em;box-sizing: border-box;text-align: center;}#sk-container-id-1 label.sk-toggleable__label-arrow:before {content: \"▸\";float: left;margin-right: 0.25em;color: #696969;}#sk-container-id-1 label.sk-toggleable__label-arrow:hover:before {color: black;}#sk-container-id-1 div.sk-estimator:hover label.sk-toggleable__label-arrow:before {color: black;}#sk-container-id-1 div.sk-toggleable__content {max-height: 0;max-width: 0;overflow: hidden;text-align: left;background-color: #f0f8ff;}#sk-container-id-1 div.sk-toggleable__content pre {margin: 0.2em;color: black;border-radius: 0.25em;background-color: #f0f8ff;}#sk-container-id-1 input.sk-toggleable__control:checked~div.sk-toggleable__content {max-height: 200px;max-width: 100%;overflow: auto;}#sk-container-id-1 input.sk-toggleable__control:checked~label.sk-toggleable__label-arrow:before {content: \"▾\";}#sk-container-id-1 div.sk-estimator input.sk-toggleable__control:checked~label.sk-toggleable__label {background-color: #d4ebff;}#sk-container-id-1 div.sk-label input.sk-toggleable__control:checked~label.sk-toggleable__label {background-color: #d4ebff;}#sk-container-id-1 input.sk-hidden--visually {border: 0;clip: rect(1px 1px 1px 1px);clip: rect(1px, 1px, 1px, 1px);height: 1px;margin: -1px;overflow: hidden;padding: 0;position: absolute;width: 1px;}#sk-container-id-1 div.sk-estimator {font-family: monospace;background-color: #f0f8ff;border: 1px dotted black;border-radius: 0.25em;box-sizing: border-box;margin-bottom: 0.5em;}#sk-container-id-1 div.sk-estimator:hover {background-color: #d4ebff;}#sk-container-id-1 div.sk-parallel-item::after {content: \"\";width: 100%;border-bottom: 1px solid gray;flex-grow: 1;}#sk-container-id-1 div.sk-label:hover label.sk-toggleable__label {background-color: #d4ebff;}#sk-container-id-1 div.sk-serial::before {content: \"\";position: absolute;border-left: 1px solid gray;box-sizing: border-box;top: 0;bottom: 0;left: 50%;z-index: 0;}#sk-container-id-1 div.sk-serial {display: flex;flex-direction: column;align-items: center;background-color: white;padding-right: 0.2em;padding-left: 0.2em;position: relative;}#sk-container-id-1 div.sk-item {position: relative;z-index: 1;}#sk-container-id-1 div.sk-parallel {display: flex;align-items: stretch;justify-content: center;background-color: white;position: relative;}#sk-container-id-1 div.sk-item::before, #sk-container-id-1 div.sk-parallel-item::before {content: \"\";position: absolute;border-left: 1px solid gray;box-sizing: border-box;top: 0;bottom: 0;left: 50%;z-index: -1;}#sk-container-id-1 div.sk-parallel-item {display: flex;flex-direction: column;z-index: 1;position: relative;background-color: white;}#sk-container-id-1 div.sk-parallel-item:first-child::after {align-self: flex-end;width: 50%;}#sk-container-id-1 div.sk-parallel-item:last-child::after {align-self: flex-start;width: 50%;}#sk-container-id-1 div.sk-parallel-item:only-child::after {width: 0;}#sk-container-id-1 div.sk-dashed-wrapped {border: 1px dashed gray;margin: 0 0.4em 0.5em 0.4em;box-sizing: border-box;padding-bottom: 0.4em;background-color: white;}#sk-container-id-1 div.sk-label label {font-family: monospace;font-weight: bold;display: inline-block;line-height: 1.2em;}#sk-container-id-1 div.sk-label-container {text-align: center;}#sk-container-id-1 div.sk-container {/* jupyter's `normalize.less` sets `[hidden] { display: none; }` but bootstrap.min.css set `[hidden] { display: none !important; }` so we also need the `!important` here to be able to override the default hidden behavior on the sphinx rendered scikit-learn.org. See: https://github.com/scikit-learn/scikit-learn/issues/21755 */display: inline-block !important;position: relative;}#sk-container-id-1 div.sk-text-repr-fallback {display: none;}</style><div id=\"sk-container-id-1\" class=\"sk-top-container\"><div class=\"sk-text-repr-fallback\"><pre>DecisionTreeClassifier(max_depth=3, random_state=14)</pre><b>In a Jupyter environment, please rerun this cell to show the HTML representation or trust the notebook. <br />On GitHub, the HTML representation is unable to render, please try loading this page with nbviewer.org.</b></div><div class=\"sk-container\" hidden><div class=\"sk-item\"><div class=\"sk-estimator sk-toggleable\"><input class=\"sk-toggleable__control sk-hidden--visually\" id=\"sk-estimator-id-1\" type=\"checkbox\" checked><label for=\"sk-estimator-id-1\" class=\"sk-toggleable__label sk-toggleable__label-arrow\">DecisionTreeClassifier</label><div class=\"sk-toggleable__content\"><pre>DecisionTreeClassifier(max_depth=3, random_state=14)</pre></div></div></div></div></div>"
     },
     "metadata": {}
    }
   ],
   "execution_count": null
  },
  {
   "cell_type": "code",
   "metadata": {
    "deepnote_to_be_reexecuted": false,
    "executionInfo": {
     "elapsed": 34,
     "status": "ok",
     "timestamp": 1657946213142,
     "user": {
      "displayName": "William Wallace",
      "userId": "02462327362597608294"
     },
     "user_tz": 180
    },
    "execution_millis": 3,
    "execution_start": 1658361908799,
    "id": "gtXB0ga26d5o",
    "source_hash": "62e9014f",
    "cell_id": "00020-9c2c5b55-5eca-4faf-881a-9e4b921dca27",
    "deepnote_cell_type": "code",
    "deepnote_cell_height": 99
   },
   "source": "y_train_pred = tree.predict(X_train) #Prediccion en Train\ny_test_pred = tree.predict(X_test) #Prediccion en Test",
   "outputs": [],
   "execution_count": null
  },
  {
   "cell_type": "code",
   "metadata": {
    "colab": {
     "base_uri": "https://localhost:8080/"
    },
    "deepnote_to_be_reexecuted": false,
    "executionInfo": {
     "elapsed": 38,
     "status": "ok",
     "timestamp": 1657946213146,
     "user": {
      "displayName": "William Wallace",
      "userId": "02462327362597608294"
     },
     "user_tz": 180
    },
    "execution_millis": 493,
    "execution_start": 1658361908808,
    "id": "gmzvT5beJoYA",
    "outputId": "f24c3fc2-20a9-4603-9570-2522e6b20476",
    "source_hash": "c7c6dbc6",
    "cell_id": "00021-7cc8f20e-ba2e-4bea-9acf-8629f93aa62c",
    "deepnote_cell_type": "code",
    "deepnote_cell_height": 294.3999938964844
   },
   "source": "from sklearn.metrics import accuracy_score\n\n#Calculo el accuracy en Train\ntrain_accuracy = accuracy_score(y_train, y_train_pred)\n\n#Calculo el accuracy en Test\ntest_accuracy = accuracy_score(y_test, y_test_pred)\n\nprint(f'% de aciertos sobre el set de entrenamiento: {train_accuracy:2.2%}')\nprint(f'% de aciertos sobre el set de evaluación: {test_accuracy:2.2%}')",
   "outputs": [
    {
     "name": "stdout",
     "text": "% de aciertos sobre el set de entrenamiento: 83.57%\n% de aciertos sobre el set de evaluación: 76.74%\n",
     "output_type": "stream"
    }
   ],
   "execution_count": null
  },
  {
   "cell_type": "markdown",
   "source": "Existe una alta porcentaje de aciertos en el set de entrenamiento y menor porcentaje de aciertos en el set de evaluación. Existe la posibildad de que nos estemos sobreajustando un poco.",
   "metadata": {
    "cell_id": "98005019e0db41299adb353be1bf0340",
    "tags": [],
    "deepnote_cell_type": "markdown",
    "deepnote_cell_height": 97.19999694824219
   }
  },
  {
   "cell_type": "code",
   "metadata": {
    "deepnote_to_be_reexecuted": false,
    "executionInfo": {
     "elapsed": 37,
     "status": "ok",
     "timestamp": 1657946213149,
     "user": {
      "displayName": "William Wallace",
      "userId": "02462327362597608294"
     },
     "user_tz": 180
    },
    "execution_millis": 3,
    "execution_start": 1658361908819,
    "id": "gF97T39UN2ym",
    "source_hash": "f2eb15d7",
    "cell_id": "00022-f5e57d3a-718e-456a-94ac-2f2ec2358559",
    "deepnote_cell_type": "code",
    "deepnote_cell_height": 81
   },
   "source": "from sklearn.metrics import classification_report, confusion_matrix, accuracy_score",
   "outputs": [],
   "execution_count": null
  },
  {
   "cell_type": "code",
   "metadata": {
    "colab": {
     "base_uri": "https://localhost:8080/"
    },
    "deepnote_to_be_reexecuted": false,
    "executionInfo": {
     "elapsed": 37,
     "status": "ok",
     "timestamp": 1657946213150,
     "user": {
      "displayName": "William Wallace",
      "userId": "02462327362597608294"
     },
     "user_tz": 180
    },
    "execution_millis": 498,
    "execution_start": 1658361908825,
    "id": "410JVzAMNkp-",
    "outputId": "944d4eb6-7342-4869-ca46-313ae14dfa2d",
    "source_hash": "8141e5d3",
    "cell_id": "00023-02034a37-7601-4d85-a23f-b63cf42116b7",
    "deepnote_cell_type": "code",
    "deepnote_cell_height": 273.79998779296875
   },
   "source": "print(classification_report(y_true=y_test,y_pred=tree.predict(X_test)))",
   "outputs": [
    {
     "name": "stdout",
     "text": "              precision    recall  f1-score   support\n\n           0       0.77      0.87      0.81       126\n           1       0.77      0.63      0.69        89\n\n    accuracy                           0.77       215\n   macro avg       0.77      0.75      0.75       215\nweighted avg       0.77      0.77      0.76       215\n\n",
     "output_type": "stream"
    }
   ],
   "execution_count": null
  },
  {
   "cell_type": "code",
   "metadata": {
    "deepnote_to_be_reexecuted": false,
    "executionInfo": {
     "elapsed": 34,
     "status": "ok",
     "timestamp": 1657946213152,
     "user": {
      "displayName": "William Wallace",
      "userId": "02462327362597608294"
     },
     "user_tz": 180
    },
    "execution_millis": 4,
    "execution_start": 1658361908837,
    "id": "1rtiw13OJqmS",
    "source_hash": "b1165e73",
    "cell_id": "00024-9651a49b-d51c-4bc3-af8c-6cb1d8c2a81a",
    "deepnote_cell_type": "code",
    "deepnote_cell_height": 153
   },
   "source": "#Importancia de las variables\n\nimport matplotlib.pyplot as plt\nimport seaborn as sns\n",
   "outputs": [],
   "execution_count": null
  },
  {
   "cell_type": "code",
   "metadata": {
    "deepnote_to_be_reexecuted": false,
    "executionInfo": {
     "elapsed": 461,
     "status": "ok",
     "timestamp": 1657946213580,
     "user": {
      "displayName": "William Wallace",
      "userId": "02462327362597608294"
     },
     "user_tz": 180
    },
    "execution_millis": 36,
    "execution_start": 1658361908848,
    "id": "vF-8vdvwOmYW",
    "source_hash": "9a760f49",
    "cell_id": "00025-18dd6251-a189-4ce9-8be0-5e05a5960900",
    "deepnote_cell_type": "code",
    "deepnote_cell_height": 279
   },
   "source": "profundidad = list(range(1,15))\nresultados_train = []\nresultados_test  = []\n\nfor depth in profundidad:\n    # instanciamos el modelo uniforme\n    arbol = DecisionTreeClassifier(criterion='gini', max_depth=depth, min_samples_leaf=1, min_samples_split=2, ccp_alpha=0, class_weight=\"balanced\")\n    arbol.fit(X_train, y_train)\n    y_train_pred = arbol.predict(X_train)\n    y_pred = arbol.predict(X_test)\n    resultados_train.append(accuracy_score(y_train, y_train_pred))\n    resultados_test.append(accuracy_score(y_test, y_pred))",
   "outputs": [],
   "execution_count": null
  },
  {
   "cell_type": "code",
   "metadata": {
    "colab": {
     "base_uri": "https://localhost:8080/",
     "height": 337
    },
    "deepnote_to_be_reexecuted": false,
    "executionInfo": {
     "elapsed": 599,
     "status": "ok",
     "timestamp": 1657946214176,
     "user": {
      "displayName": "William Wallace",
      "userId": "02462327362597608294"
     },
     "user_tz": 180
    },
    "execution_millis": 454,
    "execution_start": 1658361908888,
    "id": "ArxKoQSeOqkv",
    "outputId": "5220ac16-9b04-4478-b70c-b577b51b6893",
    "source_hash": "1fa9177a",
    "cell_id": "00026-533b971c-a526-4af0-9b17-a950e27a2207",
    "deepnote_cell_type": "code"
   },
   "source": "# veamos que paso en cada caso\nf, ax = plt.subplots(1,1,figsize=(14,5),sharey=True)\nax.plot(profundidad, resultados_train, profundidad, resultados_test);\nplt.grid()\nax.legend(['accuracy train', 'accuracy test']);\nax.set(xlabel='profundidad',ylabel='accuracy');",
   "outputs": [
    {
     "data": {
      "text/plain": "<Figure size 1008x360 with 1 Axes>",
      "image/png": "[encoded data removed]"
     },
     "metadata": {
      "needs_background": "light",
      "image/png": {
       "width": 845,
       "height": 317
      }
     },
     "output_type": "display_data"
    }
   ],
   "execution_count": null
  },
  {
   "cell_type": "code",
   "metadata": {
    "colab": {
     "base_uri": "https://localhost:8080/"
    },
    "deepnote_to_be_reexecuted": false,
    "executionInfo": {
     "elapsed": 15,
     "status": "ok",
     "timestamp": 1657946214178,
     "user": {
      "displayName": "William Wallace",
      "userId": "02462327362597608294"
     },
     "user_tz": 180
    },
    "execution_millis": 196,
    "execution_start": 1658361909151,
    "id": "g06OsHqTO24K",
    "outputId": "273cad8c-09f5-465d-f0e7-394a4362d3d7",
    "source_hash": "cb462e5a",
    "cell_id": "00027-0bd0afbd-3f01-43aa-8126-9e1e5411d392",
    "deepnote_cell_type": "code"
   },
   "source": "# veamos que pasa con un árbol sin corte de profundidad\nnp.random.seed(1912)\narbol = DecisionTreeClassifier(criterion='gini', ccp_alpha=0)\narbol.fit(X_train, y_train)\n#print(classification_report(y_true=y_test,y_pred=arbol.predict(X_test)))\nprint('Exactitud en entrenamiento: %.3f' % accuracy_score(y_train,arbol.predict(X_train)))\nprint('Exactitud en test: %.3f' % accuracy_score(y_test,arbol.predict(X_test)))",
   "outputs": [
    {
     "name": "stdout",
     "text": "Exactitud en entrenamiento: 0.950\nExactitud en test: 0.763\n",
     "output_type": "stream"
    }
   ],
   "execution_count": null
  },
  {
   "cell_type": "markdown",
   "source": "Existe una alta exactitud de entrenamiento y menor exactitud de prueba. Existe la posibildad de que nos estemos sobreajustando un poco.",
   "metadata": {
    "cell_id": "581055b0346f4e1ea0580d47c34e7832",
    "tags": [],
    "deepnote_cell_type": "markdown"
   }
  },
  {
   "cell_type": "markdown",
   "source": "### KNN",
   "metadata": {
    "id": "GFAKAh59K9EL",
    "cell_id": "00028-e406b97c-7287-43bd-9dce-0f4e3ecc6c65",
    "deepnote_cell_type": "markdown"
   }
  },
  {
   "cell_type": "code",
   "metadata": {
    "deepnote_to_be_reexecuted": false,
    "executionInfo": {
     "elapsed": 13,
     "status": "ok",
     "timestamp": 1657946214180,
     "user": {
      "displayName": "William Wallace",
      "userId": "02462327362597608294"
     },
     "user_tz": 180
    },
    "execution_millis": 0,
    "execution_start": 1658361909152,
    "id": "bkFVkHruKinJ",
    "source_hash": "356bd9d4",
    "cell_id": "00029-17522b4b-e196-4696-b956-81ee58722e0f",
    "deepnote_cell_type": "code"
   },
   "source": "import matplotlib.pyplot as plt\nimport pandas as pd\nimport seaborn as sns\nfrom sklearn.neighbors import KNeighborsClassifier",
   "outputs": [],
   "execution_count": null
  },
  {
   "cell_type": "code",
   "metadata": {
    "colab": {
     "base_uri": "https://localhost:8080/"
    },
    "deepnote_to_be_reexecuted": false,
    "executionInfo": {
     "elapsed": 14,
     "status": "ok",
     "timestamp": 1657946214181,
     "user": {
      "displayName": "William Wallace",
      "userId": "02462327362597608294"
     },
     "user_tz": 180
    },
    "execution_millis": 194,
    "execution_start": 1658361909153,
    "id": "s_J7kMZWLGS0",
    "outputId": "ad65f9e3-0ee2-4202-8e45-b44563007f93",
    "source_hash": "b42a1f87",
    "cell_id": "00030-6bff392d-8dcb-40a7-94cd-56043983baa3",
    "deepnote_cell_type": "code"
   },
   "source": "from sklearn.neighbors import KNeighborsClassifier\n\nknn = KNeighborsClassifier(n_neighbors=150, weights='distance')\n\nknn.fit(X, y)",
   "outputs": [
    {
     "output_type": "execute_result",
     "execution_count": 26,
     "data": {
      "text/plain": "KNeighborsClassifier(n_neighbors=150, weights='distance')",
      "text/html": "<style>#sk-container-id-2 {color: black;background-color: white;}#sk-container-id-2 pre{padding: 0;}#sk-container-id-2 div.sk-toggleable {background-color: white;}#sk-container-id-2 label.sk-toggleable__label {cursor: pointer;display: block;width: 100%;margin-bottom: 0;padding: 0.3em;box-sizing: border-box;text-align: center;}#sk-container-id-2 label.sk-toggleable__label-arrow:before {content: \"▸\";float: left;margin-right: 0.25em;color: #696969;}#sk-container-id-2 label.sk-toggleable__label-arrow:hover:before {color: black;}#sk-container-id-2 div.sk-estimator:hover label.sk-toggleable__label-arrow:before {color: black;}#sk-container-id-2 div.sk-toggleable__content {max-height: 0;max-width: 0;overflow: hidden;text-align: left;background-color: #f0f8ff;}#sk-container-id-2 div.sk-toggleable__content pre {margin: 0.2em;color: black;border-radius: 0.25em;background-color: #f0f8ff;}#sk-container-id-2 input.sk-toggleable__control:checked~div.sk-toggleable__content {max-height: 200px;max-width: 100%;overflow: auto;}#sk-container-id-2 input.sk-toggleable__control:checked~label.sk-toggleable__label-arrow:before {content: \"▾\";}#sk-container-id-2 div.sk-estimator input.sk-toggleable__control:checked~label.sk-toggleable__label {background-color: #d4ebff;}#sk-container-id-2 div.sk-label input.sk-toggleable__control:checked~label.sk-toggleable__label {background-color: #d4ebff;}#sk-container-id-2 input.sk-hidden--visually {border: 0;clip: rect(1px 1px 1px 1px);clip: rect(1px, 1px, 1px, 1px);height: 1px;margin: -1px;overflow: hidden;padding: 0;position: absolute;width: 1px;}#sk-container-id-2 div.sk-estimator {font-family: monospace;background-color: #f0f8ff;border: 1px dotted black;border-radius: 0.25em;box-sizing: border-box;margin-bottom: 0.5em;}#sk-container-id-2 div.sk-estimator:hover {background-color: #d4ebff;}#sk-container-id-2 div.sk-parallel-item::after {content: \"\";width: 100%;border-bottom: 1px solid gray;flex-grow: 1;}#sk-container-id-2 div.sk-label:hover label.sk-toggleable__label {background-color: #d4ebff;}#sk-container-id-2 div.sk-serial::before {content: \"\";position: absolute;border-left: 1px solid gray;box-sizing: border-box;top: 0;bottom: 0;left: 50%;z-index: 0;}#sk-container-id-2 div.sk-serial {display: flex;flex-direction: column;align-items: center;background-color: white;padding-right: 0.2em;padding-left: 0.2em;position: relative;}#sk-container-id-2 div.sk-item {position: relative;z-index: 1;}#sk-container-id-2 div.sk-parallel {display: flex;align-items: stretch;justify-content: center;background-color: white;position: relative;}#sk-container-id-2 div.sk-item::before, #sk-container-id-2 div.sk-parallel-item::before {content: \"\";position: absolute;border-left: 1px solid gray;box-sizing: border-box;top: 0;bottom: 0;left: 50%;z-index: -1;}#sk-container-id-2 div.sk-parallel-item {display: flex;flex-direction: column;z-index: 1;position: relative;background-color: white;}#sk-container-id-2 div.sk-parallel-item:first-child::after {align-self: flex-end;width: 50%;}#sk-container-id-2 div.sk-parallel-item:last-child::after {align-self: flex-start;width: 50%;}#sk-container-id-2 div.sk-parallel-item:only-child::after {width: 0;}#sk-container-id-2 div.sk-dashed-wrapped {border: 1px dashed gray;margin: 0 0.4em 0.5em 0.4em;box-sizing: border-box;padding-bottom: 0.4em;background-color: white;}#sk-container-id-2 div.sk-label label {font-family: monospace;font-weight: bold;display: inline-block;line-height: 1.2em;}#sk-container-id-2 div.sk-label-container {text-align: center;}#sk-container-id-2 div.sk-container {/* jupyter's `normalize.less` sets `[hidden] { display: none; }` but bootstrap.min.css set `[hidden] { display: none !important; }` so we also need the `!important` here to be able to override the default hidden behavior on the sphinx rendered scikit-learn.org. See: https://github.com/scikit-learn/scikit-learn/issues/21755 */display: inline-block !important;position: relative;}#sk-container-id-2 div.sk-text-repr-fallback {display: none;}</style><div id=\"sk-container-id-2\" class=\"sk-top-container\"><div class=\"sk-text-repr-fallback\"><pre>KNeighborsClassifier(n_neighbors=150, weights=&#x27;distance&#x27;)</pre><b>In a Jupyter environment, please rerun this cell to show the HTML representation or trust the notebook. <br />On GitHub, the HTML representation is unable to render, please try loading this page with nbviewer.org.</b></div><div class=\"sk-container\" hidden><div class=\"sk-item\"><div class=\"sk-estimator sk-toggleable\"><input class=\"sk-toggleable__control sk-hidden--visually\" id=\"sk-estimator-id-2\" type=\"checkbox\" checked><label for=\"sk-estimator-id-2\" class=\"sk-toggleable__label sk-toggleable__label-arrow\">KNeighborsClassifier</label><div class=\"sk-toggleable__content\"><pre>KNeighborsClassifier(n_neighbors=150, weights=&#x27;distance&#x27;)</pre></div></div></div></div></div>"
     },
     "metadata": {}
    }
   ],
   "execution_count": null
  },
  {
   "cell_type": "code",
   "metadata": {
    "deepnote_to_be_reexecuted": false,
    "executionInfo": {
     "elapsed": 42553,
     "status": "ok",
     "timestamp": 1657946256723,
     "user": {
      "displayName": "William Wallace",
      "userId": "02462327362597608294"
     },
     "user_tz": 180
    },
    "execution_millis": 32,
    "execution_start": 1658361909156,
    "id": "bURN0J-sL69a",
    "source_hash": "b8ece810",
    "cell_id": "00031-d6e82cd5-995f-47ed-9401-2778c710e352",
    "deepnote_cell_type": "code"
   },
   "source": "y_train_pred = knn.predict(X_train) #Prediccion en Train\ny_test_pred = knn.predict(X_test) #Prediccion en Test",
   "outputs": [],
   "execution_count": null
  },
  {
   "cell_type": "code",
   "metadata": {
    "colab": {
     "base_uri": "https://localhost:8080/"
    },
    "deepnote_to_be_reexecuted": false,
    "executionInfo": {
     "elapsed": 30,
     "status": "ok",
     "timestamp": 1657946256725,
     "user": {
      "displayName": "William Wallace",
      "userId": "02462327362597608294"
     },
     "user_tz": 180
    },
    "execution_millis": 153,
    "execution_start": 1658361909195,
    "id": "NYDmcce8MA_q",
    "outputId": "40d4371f-e2ec-43da-db72-50c5a6a27aaf",
    "source_hash": "c7c6dbc6",
    "cell_id": "00032-b2500593-59dc-489b-a84b-a6c91de63433",
    "deepnote_cell_type": "code"
   },
   "source": "from sklearn.metrics import accuracy_score\n\n#Calculo el accuracy en Train\ntrain_accuracy = accuracy_score(y_train, y_train_pred)\n\n#Calculo el accuracy en Test\ntest_accuracy = accuracy_score(y_test, y_test_pred)\n\nprint(f'% de aciertos sobre el set de entrenamiento: {train_accuracy:2.2%}')\nprint(f'% de aciertos sobre el set de evaluación: {test_accuracy:2.2%}')",
   "outputs": [
    {
     "name": "stdout",
     "text": "% de aciertos sobre el set de entrenamiento: 93.79%\n% de aciertos sobre el set de evaluación: 92.09%\n",
     "output_type": "stream"
    }
   ],
   "execution_count": null
  },
  {
   "cell_type": "markdown",
   "source": "Existe una alto porcentaje de aciertos sobre el set de entrenamiento y menor porcentaje de aciertos sobre el set de pruebas. Existe la posibildad de que nos estemos sobreajustando un poco.",
   "metadata": {
    "cell_id": "ef92961bd56d4d478fb1cc1942f2fc05",
    "tags": [],
    "deepnote_cell_type": "markdown"
   }
  },
  {
   "cell_type": "code",
   "metadata": {
    "deepnote_to_be_reexecuted": false,
    "executionInfo": {
     "elapsed": 112851,
     "status": "ok",
     "timestamp": 1657946369554,
     "user": {
      "displayName": "William Wallace",
      "userId": "02462327362597608294"
     },
     "user_tz": 180
    },
    "execution_millis": 472,
    "execution_start": 1658361909208,
    "id": "JdAcmDHbJBaY",
    "source_hash": "36687132",
    "cell_id": "00033-fffa46f1-62e1-4284-ad32-8575a70cbb12",
    "deepnote_cell_type": "code"
   },
   "source": "# veamos como le va a nuestro modelo variando la cantidad de vecinos y el tipo de peso\nvalores_k = list(range(1,50,4))\nresultados_train_u = []\nresultados_test_u  = []\nresultados_train_w = []\nresultados_test_w  = []\n\nfor k in valores_k:\n    # instanciamos el modelo uniforme\n    clf_u = KNeighborsClassifier(n_neighbors=k, weights='uniform')\n    clf_u.fit(X_train, y_train)\n    y_train_pred = clf_u.predict(X_train)\n    y_pred = clf_u.predict(X_test)\n    resultados_train_u.append(accuracy_score(y_train, y_train_pred))\n    resultados_test_u.append(accuracy_score(y_test, y_pred))\n\n    clf_w = KNeighborsClassifier(n_neighbors=k, weights='distance')\n    clf_w.fit(X_train, y_train)\n    y_train_pred = clf_w.predict(X_train)\n    y_pred = clf_w.predict(X_test)\n    resultados_train_w.append(accuracy_score(y_train, y_train_pred))\n    resultados_test_w.append(accuracy_score(y_test, y_pred))",
   "outputs": [],
   "execution_count": null
  },
  {
   "cell_type": "code",
   "metadata": {
    "colab": {
     "base_uri": "https://localhost:8080/",
     "height": 334
    },
    "deepnote_to_be_reexecuted": false,
    "executionInfo": {
     "elapsed": 29,
     "status": "ok",
     "timestamp": 1657946369557,
     "user": {
      "displayName": "William Wallace",
      "userId": "02462327362597608294"
     },
     "user_tz": 180
    },
    "id": "-Qrn8eYEJF8G",
    "outputId": "cb91bb9c-542d-41b6-93f0-234c09d91817",
    "source_hash": "4abe785a",
    "cell_id": "00034-28a66af1-ed34-4bdf-a6f7-99fb10f0edf2",
    "execution_start": 1658361909731,
    "execution_millis": 310,
    "deepnote_cell_type": "code"
   },
   "source": "# veamos que paso en cada caso\nf, ax = plt.subplots(1,2,figsize=(14,5),sharey=True)\nax[0].plot(valores_k, resultados_train_u, valores_k, resultados_test_u);\nax[0].legend(['pesos uniformes - train', 'pesos uniformes - test']);\nax[0].set(xlabel='k',ylabel='accuracy');\n\nax[1].plot(valores_k, resultados_train_w, valores_k, resultados_test_w);\nax[1].legend(['pesos distancia - train', 'pesos distancia - test']);\nax[1].set(xlabel='k');",
   "outputs": [
    {
     "data": {
      "text/plain": "<Figure size 1008x360 with 2 Axes>",
      "image/png": "[encoded data removed]"
     },
     "metadata": {
      "needs_background": "light",
      "image/png": {
       "width": 838,
       "height": 317
      }
     },
     "output_type": "display_data"
    }
   ],
   "execution_count": null
  },
  {
   "cell_type": "code",
   "metadata": {
    "deepnote_to_be_reexecuted": false,
    "executionInfo": {
     "elapsed": 24,
     "status": "ok",
     "timestamp": 1657946369558,
     "user": {
      "displayName": "William Wallace",
      "userId": "02462327362597608294"
     },
     "user_tz": 180
    },
    "id": "avVFVuvuJ5Of",
    "source_hash": "9f684f31",
    "cell_id": "00035-9de2dfce-69b0-4ad4-8159-a7397e6eb301",
    "execution_start": 1658361910045,
    "execution_millis": 0,
    "deepnote_cell_type": "code"
   },
   "source": "from sklearn.model_selection import train_test_split, GridSearchCV, cross_val_score, KFold",
   "outputs": [],
   "execution_count": null
  },
  {
   "cell_type": "code",
   "metadata": {
    "colab": {
     "base_uri": "https://localhost:8080/",
     "height": 382
    },
    "deepnote_to_be_reexecuted": false,
    "executionInfo": {
     "elapsed": 173150,
     "status": "ok",
     "timestamp": 1657946542685,
     "user": {
      "displayName": "William Wallace",
      "userId": "02462327362597608294"
     },
     "user_tz": 180
    },
    "id": "NKbX6lJLJVRO",
    "outputId": "ebc0af89-d696-4eb0-a33f-5c2ed951acbe",
    "source_hash": "b78411be",
    "cell_id": "00036-8def4b4c-3f7d-4cc3-981c-c99ca4726f20",
    "execution_start": 1658361910047,
    "execution_millis": 1167,
    "deepnote_cell_type": "code"
   },
   "source": "# ahora busquemos nuestro mejor modelo usando validacion cruzada y gridsearchcv pero incluyamos otra distancia!\nmodel = KNeighborsClassifier()\nn_neighbors = np.array([1,2,3,5,8,13,21,34,55,89])\nparam_grid = {'n_neighbors': n_neighbors, \n              'weights':['uniform', 'distance'], \n              'metric':['euclidean', 'chebyshev', 'manhattan']}              \ngrid = GridSearchCV(estimator=model, param_grid=param_grid)\ngrid.fit(X_train, y_train)\nprint(grid.best_params_)\npd.DataFrame(grid.cv_results_).sample(3)",
   "outputs": [
    {
     "name": "stdout",
     "text": "{'metric': 'euclidean', 'n_neighbors': 34, 'weights': 'distance'}\n",
     "output_type": "stream"
    },
    {
     "output_type": "execute_result",
     "execution_count": 32,
     "data": {
      "application/vnd.deepnote.dataframe.v3+json": {
       "column_count": 16,
       "row_count": 3,
       "columns": [
        {
         "name": "mean_fit_time",
         "dtype": "float64",
         "stats": {
          "unique_count": 3,
          "nan_count": 0,
          "min": "0.0007009029388427735",
          "max": "0.0007999897003173828",
          "histogram": [
           {
            "bin_start": 0.0007009029388427735,
            "bin_end": 0.0007108116149902344,
            "count": 2
           },
           {
            "bin_start": 0.0007108116149902344,
            "bin_end": 0.0007207202911376953,
            "count": 0
           },
           {
            "bin_start": 0.0007207202911376953,
            "bin_end": 0.0007306289672851563,
            "count": 0
           },
           {
            "bin_start": 0.0007306289672851563,
            "bin_end": 0.0007405376434326172,
            "count": 0
           },
           {
            "bin_start": 0.0007405376434326172,
            "bin_end": 0.0007504463195800782,
            "count": 0
           },
           {
            "bin_start": 0.0007504463195800782,
            "bin_end": 0.0007603549957275391,
            "count": 0
           },
           {
            "bin_start": 0.0007603549957275391,
            "bin_end": 0.0007702636718750001,
            "count": 0
           },
           {
            "bin_start": 0.0007702636718750001,
            "bin_end": 0.000780172348022461,
            "count": 0
           },
           {
            "bin_start": 0.000780172348022461,
            "bin_end": 0.0007900810241699219,
            "count": 0
           },
           {
            "bin_start": 0.0007900810241699219,
            "bin_end": 0.0007999897003173828,
            "count": 1
           }
          ]
         }
        },
        {
         "name": "std_fit_time",
         "dtype": "float64",
         "stats": {
          "unique_count": 3,
          "nan_count": 0,
          "min": "1.7621955722899766e-05",
          "max": "6.617386584154041e-05",
          "histogram": [
           {
            "bin_start": 0.000017621955722899766,
            "bin_end": 0.00002247714673476383,
            "count": 1
           },
           {
            "bin_start": 0.00002247714673476383,
            "bin_end": 0.000027332337746627895,
            "count": 1
           },
           {
            "bin_start": 0.000027332337746627895,
            "bin_end": 0.000032187528758491956,
            "count": 0
           },
           {
            "bin_start": 0.000032187528758491956,
            "bin_end": 0.000037042719770356024,
            "count": 0
           },
           {
            "bin_start": 0.000037042719770356024,
            "bin_end": 0.00004189791078222009,
            "count": 0
           },
           {
            "bin_start": 0.00004189791078222009,
            "bin_end": 0.00004675310179408415,
            "count": 0
           },
           {
            "bin_start": 0.00004675310179408415,
            "bin_end": 0.00005160829280594822,
            "count": 0
           },
           {
            "bin_start": 0.00005160829280594822,
            "bin_end": 0.00005646348381781228,
            "count": 0
           },
           {
            "bin_start": 0.00005646348381781228,
            "bin_end": 0.00006131867482967634,
            "count": 0
           },
           {
            "bin_start": 0.00006131867482967634,
            "bin_end": 0.00006617386584154041,
            "count": 1
           }
          ]
         }
        },
        {
         "name": "mean_score_time",
         "dtype": "float64",
         "stats": {
          "unique_count": 3,
          "nan_count": 0,
          "min": "0.0015420913696289062",
          "max": "0.003169536590576172",
          "histogram": [
           {
            "bin_start": 0.0015420913696289062,
            "bin_end": 0.001704835891723633,
            "count": 1
           },
           {
            "bin_start": 0.001704835891723633,
            "bin_end": 0.0018675804138183593,
            "count": 0
           },
           {
            "bin_start": 0.0018675804138183593,
            "bin_end": 0.0020303249359130858,
            "count": 0
           },
           {
            "bin_start": 0.0020303249359130858,
            "bin_end": 0.0021930694580078124,
            "count": 0
           },
           {
            "bin_start": 0.0021930694580078124,
            "bin_end": 0.002355813980102539,
            "count": 0
           },
           {
            "bin_start": 0.002355813980102539,
            "bin_end": 0.0025185585021972657,
            "count": 0
           },
           {
            "bin_start": 0.0025185585021972657,
            "bin_end": 0.0026813030242919924,
            "count": 0
           },
           {
            "bin_start": 0.0026813030242919924,
            "bin_end": 0.0028440475463867186,
            "count": 0
           },
           {
            "bin_start": 0.0028440475463867186,
            "bin_end": 0.0030067920684814457,
            "count": 0
           },
           {
            "bin_start": 0.0030067920684814457,
            "bin_end": 0.003169536590576172,
            "count": 2
           }
          ]
         }
        },
        {
         "name": "std_score_time",
         "dtype": "float64",
         "stats": {
          "unique_count": 3,
          "nan_count": 0,
          "min": "1.6997756598613683e-05",
          "max": "6.444898290852992e-05",
          "histogram": [
           {
            "bin_start": 0.000016997756598613683,
            "bin_end": 0.000021742879229605306,
            "count": 1
           },
           {
            "bin_start": 0.000021742879229605306,
            "bin_end": 0.00002648800186059693,
            "count": 1
           },
           {
            "bin_start": 0.00002648800186059693,
            "bin_end": 0.00003123312449158855,
            "count": 0
           },
           {
            "bin_start": 0.00003123312449158855,
            "bin_end": 0.00003597824712258018,
            "count": 0
           },
           {
            "bin_start": 0.00003597824712258018,
            "bin_end": 0.000040723369753571805,
            "count": 0
           },
           {
            "bin_start": 0.000040723369753571805,
            "bin_end": 0.000045468492384563426,
            "count": 0
           },
           {
            "bin_start": 0.000045468492384563426,
            "bin_end": 0.00005021361501555505,
            "count": 0
           },
           {
            "bin_start": 0.00005021361501555505,
            "bin_end": 0.00005495873764654667,
            "count": 0
           },
           {
            "bin_start": 0.00005495873764654667,
            "bin_end": 0.000059703860277538294,
            "count": 0
           },
           {
            "bin_start": 0.000059703860277538294,
            "bin_end": 0.00006444898290852992,
            "count": 1
           }
          ]
         }
        },
        {
         "name": "param_metric",
         "dtype": "object",
         "stats": {
          "unique_count": 3,
          "nan_count": 0,
          "categories": [
           {
            "name": "chebyshev",
            "count": 1
           },
           {
            "name": "euclidean",
            "count": 1
           },
           {
            "name": "manhattan",
            "count": 1
           }
          ]
         }
        },
        {
         "name": "param_n_neighbors",
         "dtype": "object",
         "stats": {
          "unique_count": 3,
          "nan_count": 0,
          "categories": [
           {
            "name": "21",
            "count": 1
           },
           {
            "name": "1",
            "count": 1
           },
           {
            "name": "5",
            "count": 1
           }
          ]
         }
        },
        {
         "name": "param_weights",
         "dtype": "object",
         "stats": {
          "unique_count": 2,
          "nan_count": 0,
          "categories": [
           {
            "name": "uniform",
            "count": 2
           },
           {
            "name": "distance",
            "count": 1
           }
          ]
         }
        },
        {
         "name": "params",
         "dtype": "object",
         "stats": {
          "unique_count": 3,
          "nan_count": 0,
          "categories": [
           {
            "name": "{'metric': 'chebyshev', 'n_neighbors': 21, 'weights': 'distance'}",
            "count": 1
           },
           {
            "name": "{'metric': 'euclidean', 'n_neighbors': 1, 'weights': 'uniform'}",
            "count": 1
           },
           {
            "name": "{'metric': 'manhattan', 'n_neighbors': 5, 'weights': 'uniform'}",
            "count": 1
           }
          ]
         }
        },
        {
         "name": "split0_test_score",
         "dtype": "float64",
         "stats": {
          "unique_count": 2,
          "nan_count": 0,
          "min": "0.74",
          "max": "0.77",
          "histogram": [
           {
            "bin_start": 0.74,
            "bin_end": 0.743,
            "count": 2
           },
           {
            "bin_start": 0.743,
            "bin_end": 0.746,
            "count": 0
           },
           {
            "bin_start": 0.746,
            "bin_end": 0.749,
            "count": 0
           },
           {
            "bin_start": 0.749,
            "bin_end": 0.752,
            "count": 0
           },
           {
            "bin_start": 0.752,
            "bin_end": 0.755,
            "count": 0
           },
           {
            "bin_start": 0.755,
            "bin_end": 0.758,
            "count": 0
           },
           {
            "bin_start": 0.758,
            "bin_end": 0.761,
            "count": 0
           },
           {
            "bin_start": 0.761,
            "bin_end": 0.764,
            "count": 0
           },
           {
            "bin_start": 0.764,
            "bin_end": 0.767,
            "count": 0
           },
           {
            "bin_start": 0.767,
            "bin_end": 0.77,
            "count": 1
           }
          ]
         }
        },
        {
         "name": "split1_test_score",
         "dtype": "float64",
         "stats": {
          "unique_count": 2,
          "nan_count": 0,
          "min": "0.79",
          "max": "0.81",
          "histogram": [
           {
            "bin_start": 0.79,
            "bin_end": 0.792,
            "count": 1
           },
           {
            "bin_start": 0.792,
            "bin_end": 0.794,
            "count": 0
           },
           {
            "bin_start": 0.794,
            "bin_end": 0.796,
            "count": 0
           },
           {
            "bin_start": 0.796,
            "bin_end": 0.798,
            "count": 0
           },
           {
            "bin_start": 0.798,
            "bin_end": 0.8,
            "count": 0
           },
           {
            "bin_start": 0.8,
            "bin_end": 0.802,
            "count": 0
           },
           {
            "bin_start": 0.802,
            "bin_end": 0.804,
            "count": 0
           },
           {
            "bin_start": 0.804,
            "bin_end": 0.806,
            "count": 0
           },
           {
            "bin_start": 0.806,
            "bin_end": 0.808,
            "count": 0
           },
           {
            "bin_start": 0.808,
            "bin_end": 0.81,
            "count": 2
           }
          ]
         }
        },
        {
         "name": "split2_test_score",
         "dtype": "float64",
         "stats": {
          "unique_count": 2,
          "nan_count": 0,
          "min": "0.82",
          "max": "0.86",
          "histogram": [
           {
            "bin_start": 0.82,
            "bin_end": 0.824,
            "count": 1
           },
           {
            "bin_start": 0.824,
            "bin_end": 0.828,
            "count": 0
           },
           {
            "bin_start": 0.828,
            "bin_end": 0.832,
            "count": 0
           },
           {
            "bin_start": 0.832,
            "bin_end": 0.836,
            "count": 0
           },
           {
            "bin_start": 0.836,
            "bin_end": 0.84,
            "count": 0
           },
           {
            "bin_start": 0.84,
            "bin_end": 0.844,
            "count": 0
           },
           {
            "bin_start": 0.844,
            "bin_end": 0.848,
            "count": 0
           },
           {
            "bin_start": 0.848,
            "bin_end": 0.852,
            "count": 0
           },
           {
            "bin_start": 0.852,
            "bin_end": 0.856,
            "count": 0
           },
           {
            "bin_start": 0.856,
            "bin_end": 0.86,
            "count": 2
           }
          ]
         }
        },
        {
         "name": "split3_test_score",
         "dtype": "float64",
         "stats": {
          "unique_count": 3,
          "nan_count": 0,
          "min": "0.76",
          "max": "0.85",
          "histogram": [
           {
            "bin_start": 0.76,
            "bin_end": 0.769,
            "count": 1
           },
           {
            "bin_start": 0.769,
            "bin_end": 0.778,
            "count": 0
           },
           {
            "bin_start": 0.778,
            "bin_end": 0.787,
            "count": 0
           },
           {
            "bin_start": 0.787,
            "bin_end": 0.796,
            "count": 0
           },
           {
            "bin_start": 0.796,
            "bin_end": 0.8049999999999999,
            "count": 0
           },
           {
            "bin_start": 0.8049999999999999,
            "bin_end": 0.814,
            "count": 1
           },
           {
            "bin_start": 0.814,
            "bin_end": 0.823,
            "count": 0
           },
           {
            "bin_start": 0.823,
            "bin_end": 0.832,
            "count": 0
           },
           {
            "bin_start": 0.832,
            "bin_end": 0.841,
            "count": 0
           },
           {
            "bin_start": 0.841,
            "bin_end": 0.85,
            "count": 1
           }
          ]
         }
        },
        {
         "name": "split4_test_score",
         "dtype": "float64",
         "stats": {
          "unique_count": 3,
          "nan_count": 0,
          "min": "0.7878787878787878",
          "max": "0.8282828282828283",
          "histogram": [
           {
            "bin_start": 0.7878787878787878,
            "bin_end": 0.7919191919191919,
            "count": 1
           },
           {
            "bin_start": 0.7919191919191919,
            "bin_end": 0.795959595959596,
            "count": 0
           },
           {
            "bin_start": 0.795959595959596,
            "bin_end": 0.7999999999999999,
            "count": 1
           },
           {
            "bin_start": 0.7999999999999999,
            "bin_end": 0.804040404040404,
            "count": 0
           },
           {
            "bin_start": 0.804040404040404,
            "bin_end": 0.8080808080808081,
            "count": 0
           },
           {
            "bin_start": 0.8080808080808081,
            "bin_end": 0.8121212121212121,
            "count": 0
           },
           {
            "bin_start": 0.8121212121212121,
            "bin_end": 0.8161616161616162,
            "count": 0
           },
           {
            "bin_start": 0.8161616161616162,
            "bin_end": 0.8202020202020202,
            "count": 0
           },
           {
            "bin_start": 0.8202020202020202,
            "bin_end": 0.8242424242424242,
            "count": 0
           },
           {
            "bin_start": 0.8242424242424242,
            "bin_end": 0.8282828282828283,
            "count": 1
           }
          ]
         }
        },
        {
         "name": "mean_test_score",
         "dtype": "float64",
         "stats": {
          "unique_count": 3,
          "nan_count": 0,
          "min": "0.7835757575757576",
          "max": "0.8136565656565657",
          "histogram": [
           {
            "bin_start": 0.7835757575757576,
            "bin_end": 0.7865838383838384,
            "count": 1
           },
           {
            "bin_start": 0.7865838383838384,
            "bin_end": 0.7895919191919192,
            "count": 0
           },
           {
            "bin_start": 0.7895919191919192,
            "bin_end": 0.7926000000000001,
            "count": 0
           },
           {
            "bin_start": 0.7926000000000001,
            "bin_end": 0.7956080808080809,
            "count": 0
           },
           {
            "bin_start": 0.7956080808080809,
            "bin_end": 0.7986161616161617,
            "count": 0
           },
           {
            "bin_start": 0.7986161616161617,
            "bin_end": 0.8016242424242425,
            "count": 0
           },
           {
            "bin_start": 0.8016242424242425,
            "bin_end": 0.8046323232323233,
            "count": 0
           },
           {
            "bin_start": 0.8046323232323233,
            "bin_end": 0.8076404040404042,
            "count": 0
           },
           {
            "bin_start": 0.8076404040404042,
            "bin_end": 0.810648484848485,
            "count": 1
           },
           {
            "bin_start": 0.810648484848485,
            "bin_end": 0.8136565656565657,
            "count": 1
           }
          ]
         }
        },
        {
         "name": "std_test_score",
         "dtype": "float64",
         "stats": {
          "unique_count": 3,
          "nan_count": 0,
          "min": "0.02913303627624824",
          "max": "0.043971375798388446",
          "histogram": [
           {
            "bin_start": 0.02913303627624824,
            "bin_end": 0.03061687022846226,
            "count": 2
           },
           {
            "bin_start": 0.03061687022846226,
            "bin_end": 0.03210070418067628,
            "count": 0
           },
           {
            "bin_start": 0.03210070418067628,
            "bin_end": 0.0335845381328903,
            "count": 0
           },
           {
            "bin_start": 0.0335845381328903,
            "bin_end": 0.03506837208510432,
            "count": 0
           },
           {
            "bin_start": 0.03506837208510432,
            "bin_end": 0.03655220603731835,
            "count": 0
           },
           {
            "bin_start": 0.03655220603731835,
            "bin_end": 0.038036039989532366,
            "count": 0
           },
           {
            "bin_start": 0.038036039989532366,
            "bin_end": 0.039519873941746386,
            "count": 0
           },
           {
            "bin_start": 0.039519873941746386,
            "bin_end": 0.041003707893960406,
            "count": 0
           },
           {
            "bin_start": 0.041003707893960406,
            "bin_end": 0.042487541846174426,
            "count": 0
           },
           {
            "bin_start": 0.042487541846174426,
            "bin_end": 0.043971375798388446,
            "count": 1
           }
          ]
         }
        },
        {
         "name": "rank_test_score",
         "dtype": "int32",
         "stats": {
          "unique_count": 3,
          "nan_count": 0,
          "min": "28",
          "max": "54",
          "histogram": [
           {
            "bin_start": 28,
            "bin_end": 30.6,
            "count": 1
           },
           {
            "bin_start": 30.6,
            "bin_end": 33.2,
            "count": 0
           },
           {
            "bin_start": 33.2,
            "bin_end": 35.8,
            "count": 1
           },
           {
            "bin_start": 35.8,
            "bin_end": 38.4,
            "count": 0
           },
           {
            "bin_start": 38.4,
            "bin_end": 41,
            "count": 0
           },
           {
            "bin_start": 41,
            "bin_end": 43.6,
            "count": 0
           },
           {
            "bin_start": 43.6,
            "bin_end": 46.2,
            "count": 0
           },
           {
            "bin_start": 46.2,
            "bin_end": 48.8,
            "count": 0
           },
           {
            "bin_start": 48.8,
            "bin_end": 51.400000000000006,
            "count": 0
           },
           {
            "bin_start": 51.400000000000006,
            "bin_end": 54,
            "count": 1
           }
          ]
         }
        },
        {
         "name": "_deepnote_index_column",
         "dtype": "int64"
        }
       ],
       "rows": [
        {
         "mean_fit_time": 0.0007071018218994141,
         "std_fit_time": 0.000023263301138691695,
         "mean_score_time": 0.0015420913696289062,
         "std_score_time": 0.000016997756598613683,
         "param_metric": "chebyshev",
         "param_n_neighbors": "21",
         "param_weights": "distance",
         "params": "{'metric': 'chebyshev', 'n_neighbors': 21, 'weights': 'distance'}",
         "split0_test_score": 0.74,
         "split1_test_score": 0.79,
         "split2_test_score": 0.86,
         "split3_test_score": 0.85,
         "split4_test_score": 0.8282828282828283,
         "mean_test_score": 0.8136565656565657,
         "std_test_score": 0.043971375798388446,
         "rank_test_score": 28,
         "_deepnote_index_column": 33
        },
        {
         "mean_fit_time": 0.0007999897003173828,
         "std_fit_time": 0.00006617386584154041,
         "mean_score_time": 0.0030173778533935545,
         "std_score_time": 0.00006444898290852992,
         "param_metric": "euclidean",
         "param_n_neighbors": "1",
         "param_weights": "uniform",
         "params": "{'metric': 'euclidean', 'n_neighbors': 1, 'weights': 'uniform'}",
         "split0_test_score": 0.74,
         "split1_test_score": 0.81,
         "split2_test_score": 0.82,
         "split3_test_score": 0.76,
         "split4_test_score": 0.7878787878787878,
         "mean_test_score": 0.7835757575757576,
         "std_test_score": 0.029993816320155044,
         "rank_test_score": 54,
         "_deepnote_index_column": 0
        },
        {
         "mean_fit_time": 0.0007009029388427735,
         "std_fit_time": 0.000017621955722899766,
         "mean_score_time": 0.003169536590576172,
         "std_score_time": 0.000025916000846808196,
         "param_metric": "manhattan",
         "param_n_neighbors": "5",
         "param_weights": "uniform",
         "params": "{'metric': 'manhattan', 'n_neighbors': 5, 'weights': 'uniform'}",
         "split0_test_score": 0.77,
         "split1_test_score": 0.81,
         "split2_test_score": 0.86,
         "split3_test_score": 0.81,
         "split4_test_score": 0.797979797979798,
         "mean_test_score": 0.8095959595959595,
         "std_test_score": 0.02913303627624824,
         "rank_test_score": 35,
         "_deepnote_index_column": 46
        }
       ]
      },
      "text/plain": "    mean_fit_time  std_fit_time  mean_score_time  std_score_time param_metric  \\\n33       0.000707      0.000023         0.001542        0.000017    chebyshev   \n0        0.000800      0.000066         0.003017        0.000064    euclidean   \n46       0.000701      0.000018         0.003170        0.000026    manhattan   \n\n   param_n_neighbors param_weights  \\\n33                21      distance   \n0                  1       uniform   \n46                 5       uniform   \n\n                                               params  split0_test_score  \\\n33  {'metric': 'chebyshev', 'n_neighbors': 21, 'we...               0.74   \n0   {'metric': 'euclidean', 'n_neighbors': 1, 'wei...               0.74   \n46  {'metric': 'manhattan', 'n_neighbors': 5, 'wei...               0.77   \n\n    split1_test_score  split2_test_score  split3_test_score  \\\n33               0.79               0.86               0.85   \n0                0.81               0.82               0.76   \n46               0.81               0.86               0.81   \n\n    split4_test_score  mean_test_score  std_test_score  rank_test_score  \n33           0.828283         0.813657        0.043971               28  \n0            0.787879         0.783576        0.029994               54  \n46           0.797980         0.809596        0.029133               35  ",
      "text/html": "<div>\n<style scoped>\n    .dataframe tbody tr th:only-of-type {\n        vertical-align: middle;\n    }\n\n    .dataframe tbody tr th {\n        vertical-align: top;\n    }\n\n    .dataframe thead th {\n        text-align: right;\n    }\n</style>\n<table border=\"1\" class=\"dataframe\">\n  <thead>\n    <tr style=\"text-align: right;\">\n      <th></th>\n      <th>mean_fit_time</th>\n      <th>std_fit_time</th>\n      <th>mean_score_time</th>\n      <th>std_score_time</th>\n      <th>param_metric</th>\n      <th>param_n_neighbors</th>\n      <th>param_weights</th>\n      <th>params</th>\n      <th>split0_test_score</th>\n      <th>split1_test_score</th>\n      <th>split2_test_score</th>\n      <th>split3_test_score</th>\n      <th>split4_test_score</th>\n      <th>mean_test_score</th>\n      <th>std_test_score</th>\n      <th>rank_test_score</th>\n    </tr>\n  </thead>\n  <tbody>\n    <tr>\n      <th>33</th>\n      <td>0.000707</td>\n      <td>0.000023</td>\n      <td>0.001542</td>\n      <td>0.000017</td>\n      <td>chebyshev</td>\n      <td>21</td>\n      <td>distance</td>\n      <td>{'metric': 'chebyshev', 'n_neighbors': 21, 'we...</td>\n      <td>0.74</td>\n      <td>0.79</td>\n      <td>0.86</td>\n      <td>0.85</td>\n      <td>0.828283</td>\n      <td>0.813657</td>\n      <td>0.043971</td>\n      <td>28</td>\n    </tr>\n    <tr>\n      <th>0</th>\n      <td>0.000800</td>\n      <td>0.000066</td>\n      <td>0.003017</td>\n      <td>0.000064</td>\n      <td>euclidean</td>\n      <td>1</td>\n      <td>uniform</td>\n      <td>{'metric': 'euclidean', 'n_neighbors': 1, 'wei...</td>\n      <td>0.74</td>\n      <td>0.81</td>\n      <td>0.82</td>\n      <td>0.76</td>\n      <td>0.787879</td>\n      <td>0.783576</td>\n      <td>0.029994</td>\n      <td>54</td>\n    </tr>\n    <tr>\n      <th>46</th>\n      <td>0.000701</td>\n      <td>0.000018</td>\n      <td>0.003170</td>\n      <td>0.000026</td>\n      <td>manhattan</td>\n      <td>5</td>\n      <td>uniform</td>\n      <td>{'metric': 'manhattan', 'n_neighbors': 5, 'wei...</td>\n      <td>0.77</td>\n      <td>0.81</td>\n      <td>0.86</td>\n      <td>0.81</td>\n      <td>0.797980</td>\n      <td>0.809596</td>\n      <td>0.029133</td>\n      <td>35</td>\n    </tr>\n  </tbody>\n</table>\n</div>"
     },
     "metadata": {}
    }
   ],
   "execution_count": null
  },
  {
   "cell_type": "markdown",
   "source": "### RANDOM FOREST",
   "metadata": {
    "id": "pmeTbcZ4LZJs",
    "cell_id": "00037-4b1ea6b9-f340-42ec-9f77-dda3227b8513",
    "deepnote_cell_type": "markdown"
   }
  },
  {
   "cell_type": "code",
   "metadata": {
    "deepnote_to_be_reexecuted": false,
    "executionInfo": {
     "elapsed": 30,
     "status": "ok",
     "timestamp": 1657946542689,
     "user": {
      "displayName": "William Wallace",
      "userId": "02462327362597608294"
     },
     "user_tz": 180
    },
    "id": "An-Yld_aLNcK",
    "source_hash": "9f37708d",
    "cell_id": "00038-145efe77-e5c1-4a6d-b010-877f84b104b6",
    "execution_start": 1658361911259,
    "execution_millis": 59,
    "deepnote_cell_type": "code"
   },
   "source": "#Carga de las librerías\nimport urllib.request\nimport pandas as pd\nfrom sklearn.model_selection import train_test_split\nfrom sklearn.ensemble import RandomForestClassifier\nfrom sklearn.tree import DecisionTreeClassifier",
   "outputs": [],
   "execution_count": null
  },
  {
   "cell_type": "code",
   "metadata": {
    "colab": {
     "base_uri": "https://localhost:8080/"
    },
    "deepnote_to_be_reexecuted": false,
    "executionInfo": {
     "elapsed": 2839,
     "status": "ok",
     "timestamp": 1657946545501,
     "user": {
      "displayName": "William Wallace",
      "userId": "02462327362597608294"
     },
     "user_tz": 180
    },
    "id": "yeuncTMKLhPN",
    "outputId": "68c8ebbb-7ad5-48d0-e084-3ee3bd452a6e",
    "source_hash": "c5570a8a",
    "cell_id": "00039-150ed58e-be9c-4134-b866-6b3360b812cc",
    "execution_start": 1658361911366,
    "execution_millis": 794,
    "deepnote_cell_type": "code"
   },
   "source": "#Creamos un random forest!\nmodel = RandomForestClassifier(random_state=14, n_estimators=150,\n                               class_weight=\"balanced\", max_features=\"log2\")\nmodel.fit(X_train, y_train)",
   "outputs": [
    {
     "output_type": "execute_result",
     "execution_count": 34,
     "data": {
      "text/plain": "RandomForestClassifier(class_weight='balanced', max_features='log2',\n                       n_estimators=150, random_state=14)",
      "text/html": "<style>#sk-container-id-3 {color: black;background-color: white;}#sk-container-id-3 pre{padding: 0;}#sk-container-id-3 div.sk-toggleable {background-color: white;}#sk-container-id-3 label.sk-toggleable__label {cursor: pointer;display: block;width: 100%;margin-bottom: 0;padding: 0.3em;box-sizing: border-box;text-align: center;}#sk-container-id-3 label.sk-toggleable__label-arrow:before {content: \"▸\";float: left;margin-right: 0.25em;color: #696969;}#sk-container-id-3 label.sk-toggleable__label-arrow:hover:before {color: black;}#sk-container-id-3 div.sk-estimator:hover label.sk-toggleable__label-arrow:before {color: black;}#sk-container-id-3 div.sk-toggleable__content {max-height: 0;max-width: 0;overflow: hidden;text-align: left;background-color: #f0f8ff;}#sk-container-id-3 div.sk-toggleable__content pre {margin: 0.2em;color: black;border-radius: 0.25em;background-color: #f0f8ff;}#sk-container-id-3 input.sk-toggleable__control:checked~div.sk-toggleable__content {max-height: 200px;max-width: 100%;overflow: auto;}#sk-container-id-3 input.sk-toggleable__control:checked~label.sk-toggleable__label-arrow:before {content: \"▾\";}#sk-container-id-3 div.sk-estimator input.sk-toggleable__control:checked~label.sk-toggleable__label {background-color: #d4ebff;}#sk-container-id-3 div.sk-label input.sk-toggleable__control:checked~label.sk-toggleable__label {background-color: #d4ebff;}#sk-container-id-3 input.sk-hidden--visually {border: 0;clip: rect(1px 1px 1px 1px);clip: rect(1px, 1px, 1px, 1px);height: 1px;margin: -1px;overflow: hidden;padding: 0;position: absolute;width: 1px;}#sk-container-id-3 div.sk-estimator {font-family: monospace;background-color: #f0f8ff;border: 1px dotted black;border-radius: 0.25em;box-sizing: border-box;margin-bottom: 0.5em;}#sk-container-id-3 div.sk-estimator:hover {background-color: #d4ebff;}#sk-container-id-3 div.sk-parallel-item::after {content: \"\";width: 100%;border-bottom: 1px solid gray;flex-grow: 1;}#sk-container-id-3 div.sk-label:hover label.sk-toggleable__label {background-color: #d4ebff;}#sk-container-id-3 div.sk-serial::before {content: \"\";position: absolute;border-left: 1px solid gray;box-sizing: border-box;top: 0;bottom: 0;left: 50%;z-index: 0;}#sk-container-id-3 div.sk-serial {display: flex;flex-direction: column;align-items: center;background-color: white;padding-right: 0.2em;padding-left: 0.2em;position: relative;}#sk-container-id-3 div.sk-item {position: relative;z-index: 1;}#sk-container-id-3 div.sk-parallel {display: flex;align-items: stretch;justify-content: center;background-color: white;position: relative;}#sk-container-id-3 div.sk-item::before, #sk-container-id-3 div.sk-parallel-item::before {content: \"\";position: absolute;border-left: 1px solid gray;box-sizing: border-box;top: 0;bottom: 0;left: 50%;z-index: -1;}#sk-container-id-3 div.sk-parallel-item {display: flex;flex-direction: column;z-index: 1;position: relative;background-color: white;}#sk-container-id-3 div.sk-parallel-item:first-child::after {align-self: flex-end;width: 50%;}#sk-container-id-3 div.sk-parallel-item:last-child::after {align-self: flex-start;width: 50%;}#sk-container-id-3 div.sk-parallel-item:only-child::after {width: 0;}#sk-container-id-3 div.sk-dashed-wrapped {border: 1px dashed gray;margin: 0 0.4em 0.5em 0.4em;box-sizing: border-box;padding-bottom: 0.4em;background-color: white;}#sk-container-id-3 div.sk-label label {font-family: monospace;font-weight: bold;display: inline-block;line-height: 1.2em;}#sk-container-id-3 div.sk-label-container {text-align: center;}#sk-container-id-3 div.sk-container {/* jupyter's `normalize.less` sets `[hidden] { display: none; }` but bootstrap.min.css set `[hidden] { display: none !important; }` so we also need the `!important` here to be able to override the default hidden behavior on the sphinx rendered scikit-learn.org. See: https://github.com/scikit-learn/scikit-learn/issues/21755 */display: inline-block !important;position: relative;}#sk-container-id-3 div.sk-text-repr-fallback {display: none;}</style><div id=\"sk-container-id-3\" class=\"sk-top-container\"><div class=\"sk-text-repr-fallback\"><pre>RandomForestClassifier(class_weight=&#x27;balanced&#x27;, max_features=&#x27;log2&#x27;,\n                       n_estimators=150, random_state=14)</pre><b>In a Jupyter environment, please rerun this cell to show the HTML representation or trust the notebook. <br />On GitHub, the HTML representation is unable to render, please try loading this page with nbviewer.org.</b></div><div class=\"sk-container\" hidden><div class=\"sk-item\"><div class=\"sk-estimator sk-toggleable\"><input class=\"sk-toggleable__control sk-hidden--visually\" id=\"sk-estimator-id-3\" type=\"checkbox\" checked><label for=\"sk-estimator-id-3\" class=\"sk-toggleable__label sk-toggleable__label-arrow\">RandomForestClassifier</label><div class=\"sk-toggleable__content\"><pre>RandomForestClassifier(class_weight=&#x27;balanced&#x27;, max_features=&#x27;log2&#x27;,\n                       n_estimators=150, random_state=14)</pre></div></div></div></div></div>"
     },
     "metadata": {}
    }
   ],
   "execution_count": null
  },
  {
   "cell_type": "code",
   "metadata": {
    "deepnote_to_be_reexecuted": false,
    "executionInfo": {
     "elapsed": 2317,
     "status": "ok",
     "timestamp": 1657946547805,
     "user": {
      "displayName": "William Wallace",
      "userId": "02462327362597608294"
     },
     "user_tz": 180
    },
    "id": "4ld97UaeLtYM",
    "source_hash": "43cafc5a",
    "cell_id": "00040-c86475fb-8747-4fc3-947f-c48229d44619",
    "execution_start": 1658361911583,
    "execution_millis": 12,
    "deepnote_cell_type": "code"
   },
   "source": "y_train_pred = model.predict(X_train) #Prediccion en Train\ny_test_pred = model.predict(X_test) #Prediccion en Test",
   "outputs": [],
   "execution_count": null
  },
  {
   "cell_type": "code",
   "metadata": {
    "colab": {
     "base_uri": "https://localhost:8080/"
    },
    "deepnote_to_be_reexecuted": false,
    "executionInfo": {
     "elapsed": 9,
     "status": "ok",
     "timestamp": 1657946547806,
     "user": {
      "displayName": "William Wallace",
      "userId": "02462327362597608294"
     },
     "user_tz": 180
    },
    "id": "Qxh7ZFSCLw_t",
    "outputId": "650f4a44-5abc-4416-f20f-18a105408a17",
    "source_hash": "c7c6dbc6",
    "cell_id": "00041-d1f18bc4-c46b-49b3-97e4-9f35d043695e",
    "execution_start": 1658361911617,
    "execution_millis": 544,
    "deepnote_cell_type": "code"
   },
   "source": "from sklearn.metrics import accuracy_score\n\n#Calculo el accuracy en Train\ntrain_accuracy = accuracy_score(y_train, y_train_pred)\n\n#Calculo el accuracy en Test\ntest_accuracy = accuracy_score(y_test, y_test_pred)\n\nprint(f'% de aciertos sobre el set de entrenamiento: {train_accuracy:2.2%}')\nprint(f'% de aciertos sobre el set de evaluación: {test_accuracy:2.2%}')",
   "outputs": [
    {
     "name": "stdout",
     "text": "% de aciertos sobre el set de entrenamiento: 94.99%\n% de aciertos sobre el set de evaluación: 78.60%\n",
     "output_type": "stream"
    }
   ],
   "execution_count": null
  },
  {
   "cell_type": "markdown",
   "source": "Existe una alto porcentaje de aciertos sobre el set de entrenamiento y menor porcentaje de aciertos sobre el set de evaluación. Existe la posibildad de que nos estemos sobreajustando un poco.",
   "metadata": {
    "cell_id": "40b7ff5b25174da4b0c6e717a396358d",
    "tags": [],
    "deepnote_cell_type": "markdown"
   }
  },
  {
   "cell_type": "markdown",
   "source": "## REGRESION LOGISTICA",
   "metadata": {
    "id": "LUtWFhSBHTIK",
    "cell_id": "00042-86586069-da0b-4178-842f-4cf90148e914",
    "deepnote_cell_type": "markdown"
   }
  },
  {
   "cell_type": "code",
   "metadata": {
    "colab": {
     "base_uri": "https://localhost:8080/"
    },
    "deepnote_to_be_reexecuted": false,
    "executionInfo": {
     "elapsed": 1928,
     "status": "ok",
     "timestamp": 1657946549727,
     "user": {
      "displayName": "William Wallace",
      "userId": "02462327362597608294"
     },
     "user_tz": 180
    },
    "id": "KSRxR-NoLy4H",
    "outputId": "f712d0e1-fde3-402b-cb71-8b2eb038f46a",
    "source_hash": "928a8e6b",
    "cell_id": "00043-9b0c831b-8fc4-411b-954b-81fad6e120d5",
    "execution_start": 1658361911618,
    "execution_millis": 543,
    "owner_user_id": "a261ed40-9b78-4d48-b5f3-0e32f4b7129d",
    "deepnote_cell_type": "code"
   },
   "source": "#Entrenamos un modelo de regresión logística\n\n# Paso 3: importamos la clase LogisticRegresion de scikit-learn\nfrom sklearn.linear_model import LogisticRegression\n\n# Paso 4: Creamos una instancia de la Regresión Logística\nregresion_logistica = LogisticRegression()\n\n# Paso 5: Entrenamos la regresión logística con los datos de entrenamiento\nregresion_logistica.fit(X,y)",
   "outputs": [
    {
     "output_type": "execute_result",
     "execution_count": 37,
     "data": {
      "text/plain": "LogisticRegression()",
      "text/html": "<style>#sk-container-id-4 {color: black;background-color: white;}#sk-container-id-4 pre{padding: 0;}#sk-container-id-4 div.sk-toggleable {background-color: white;}#sk-container-id-4 label.sk-toggleable__label {cursor: pointer;display: block;width: 100%;margin-bottom: 0;padding: 0.3em;box-sizing: border-box;text-align: center;}#sk-container-id-4 label.sk-toggleable__label-arrow:before {content: \"▸\";float: left;margin-right: 0.25em;color: #696969;}#sk-container-id-4 label.sk-toggleable__label-arrow:hover:before {color: black;}#sk-container-id-4 div.sk-estimator:hover label.sk-toggleable__label-arrow:before {color: black;}#sk-container-id-4 div.sk-toggleable__content {max-height: 0;max-width: 0;overflow: hidden;text-align: left;background-color: #f0f8ff;}#sk-container-id-4 div.sk-toggleable__content pre {margin: 0.2em;color: black;border-radius: 0.25em;background-color: #f0f8ff;}#sk-container-id-4 input.sk-toggleable__control:checked~div.sk-toggleable__content {max-height: 200px;max-width: 100%;overflow: auto;}#sk-container-id-4 input.sk-toggleable__control:checked~label.sk-toggleable__label-arrow:before {content: \"▾\";}#sk-container-id-4 div.sk-estimator input.sk-toggleable__control:checked~label.sk-toggleable__label {background-color: #d4ebff;}#sk-container-id-4 div.sk-label input.sk-toggleable__control:checked~label.sk-toggleable__label {background-color: #d4ebff;}#sk-container-id-4 input.sk-hidden--visually {border: 0;clip: rect(1px 1px 1px 1px);clip: rect(1px, 1px, 1px, 1px);height: 1px;margin: -1px;overflow: hidden;padding: 0;position: absolute;width: 1px;}#sk-container-id-4 div.sk-estimator {font-family: monospace;background-color: #f0f8ff;border: 1px dotted black;border-radius: 0.25em;box-sizing: border-box;margin-bottom: 0.5em;}#sk-container-id-4 div.sk-estimator:hover {background-color: #d4ebff;}#sk-container-id-4 div.sk-parallel-item::after {content: \"\";width: 100%;border-bottom: 1px solid gray;flex-grow: 1;}#sk-container-id-4 div.sk-label:hover label.sk-toggleable__label {background-color: #d4ebff;}#sk-container-id-4 div.sk-serial::before {content: \"\";position: absolute;border-left: 1px solid gray;box-sizing: border-box;top: 0;bottom: 0;left: 50%;z-index: 0;}#sk-container-id-4 div.sk-serial {display: flex;flex-direction: column;align-items: center;background-color: white;padding-right: 0.2em;padding-left: 0.2em;position: relative;}#sk-container-id-4 div.sk-item {position: relative;z-index: 1;}#sk-container-id-4 div.sk-parallel {display: flex;align-items: stretch;justify-content: center;background-color: white;position: relative;}#sk-container-id-4 div.sk-item::before, #sk-container-id-4 div.sk-parallel-item::before {content: \"\";position: absolute;border-left: 1px solid gray;box-sizing: border-box;top: 0;bottom: 0;left: 50%;z-index: -1;}#sk-container-id-4 div.sk-parallel-item {display: flex;flex-direction: column;z-index: 1;position: relative;background-color: white;}#sk-container-id-4 div.sk-parallel-item:first-child::after {align-self: flex-end;width: 50%;}#sk-container-id-4 div.sk-parallel-item:last-child::after {align-self: flex-start;width: 50%;}#sk-container-id-4 div.sk-parallel-item:only-child::after {width: 0;}#sk-container-id-4 div.sk-dashed-wrapped {border: 1px dashed gray;margin: 0 0.4em 0.5em 0.4em;box-sizing: border-box;padding-bottom: 0.4em;background-color: white;}#sk-container-id-4 div.sk-label label {font-family: monospace;font-weight: bold;display: inline-block;line-height: 1.2em;}#sk-container-id-4 div.sk-label-container {text-align: center;}#sk-container-id-4 div.sk-container {/* jupyter's `normalize.less` sets `[hidden] { display: none; }` but bootstrap.min.css set `[hidden] { display: none !important; }` so we also need the `!important` here to be able to override the default hidden behavior on the sphinx rendered scikit-learn.org. See: https://github.com/scikit-learn/scikit-learn/issues/21755 */display: inline-block !important;position: relative;}#sk-container-id-4 div.sk-text-repr-fallback {display: none;}</style><div id=\"sk-container-id-4\" class=\"sk-top-container\"><div class=\"sk-text-repr-fallback\"><pre>LogisticRegression()</pre><b>In a Jupyter environment, please rerun this cell to show the HTML representation or trust the notebook. <br />On GitHub, the HTML representation is unable to render, please try loading this page with nbviewer.org.</b></div><div class=\"sk-container\" hidden><div class=\"sk-item\"><div class=\"sk-estimator sk-toggleable\"><input class=\"sk-toggleable__control sk-hidden--visually\" id=\"sk-estimator-id-4\" type=\"checkbox\" checked><label for=\"sk-estimator-id-4\" class=\"sk-toggleable__label sk-toggleable__label-arrow\">LogisticRegression</label><div class=\"sk-toggleable__content\"><pre>LogisticRegression()</pre></div></div></div></div></div>"
     },
     "metadata": {}
    }
   ],
   "execution_count": null
  },
  {
   "cell_type": "code",
   "metadata": {
    "deepnote_to_be_reexecuted": false,
    "executionInfo": {
     "elapsed": 21,
     "status": "ok",
     "timestamp": 1657946549728,
     "user": {
      "displayName": "William Wallace",
      "userId": "02462327362597608294"
     },
     "user_tz": 180
    },
    "id": "1i-h0wQlHYAW",
    "source_hash": "c77276ae",
    "cell_id": "00044-9ec83b27-4318-4047-b8e2-ded604507784",
    "execution_start": 1658361911623,
    "execution_millis": 3,
    "deepnote_cell_type": "code"
   },
   "source": "y_train_pred = regresion_logistica.predict(X_train) #Prediccion en Train\ny_test_pred = regresion_logistica.predict(X_test) #Prediccion en Test",
   "outputs": [],
   "execution_count": null
  },
  {
   "cell_type": "code",
   "metadata": {
    "colab": {
     "base_uri": "https://localhost:8080/"
    },
    "deepnote_to_be_reexecuted": false,
    "executionInfo": {
     "elapsed": 20,
     "status": "ok",
     "timestamp": 1657946549729,
     "user": {
      "displayName": "William Wallace",
      "userId": "02462327362597608294"
     },
     "user_tz": 180
    },
    "id": "LPIHworpHkeH",
    "outputId": "858e6c16-f78e-4065-a6bc-1b79e82ce3bf",
    "source_hash": "c7c6dbc6",
    "cell_id": "00045-d9a911fd-8a7e-466e-b019-6aae1f93f27c",
    "execution_start": 1658361911631,
    "execution_millis": 531,
    "deepnote_cell_type": "code"
   },
   "source": "from sklearn.metrics import accuracy_score\n\n#Calculo el accuracy en Train\ntrain_accuracy = accuracy_score(y_train, y_train_pred)\n\n#Calculo el accuracy en Test\ntest_accuracy = accuracy_score(y_test, y_test_pred)\n\nprint(f'% de aciertos sobre el set de entrenamiento: {train_accuracy:2.2%}')\nprint(f'% de aciertos sobre el set de evaluación: {test_accuracy:2.2%}')",
   "outputs": [
    {
     "name": "stdout",
     "text": "% de aciertos sobre el set de entrenamiento: 81.96%\n% de aciertos sobre el set de evaluación: 78.60%\n",
     "output_type": "stream"
    }
   ],
   "execution_count": null
  },
  {
   "cell_type": "markdown",
   "source": "Existe una alto porcentaje de aciertos en el set de entrenamiento y menor porcentaje de aciertos en el set de evaluación. Existe la posibildad de que nos estemos sobreajustando un poco.",
   "metadata": {
    "cell_id": "b3a2734d067949a7bdbdfb0df6887986",
    "tags": [],
    "deepnote_cell_type": "markdown"
   }
  },
  {
   "cell_type": "markdown",
   "source": "<a style='text-decoration:none;line-height:16px;display:flex;color:#5B5B62;padding:10px;justify-content:end;' href='https://deepnote.com?utm_source=created-in-deepnote-cell&projectId=1678f438-dd57-41c5-b88b-bfcde7b7ccb5' target=\"_blank\">\n<img alt='Created in deepnote.com' style='display:inline;max-height:16px;margin:0px;margin-right:7.5px;' src='data:image/svg+xml;base64,PD94bWwgdmVyc2lvbj0iMS4wIiBlbmNvZGluZz0iVVRGLTgiPz4KPHN2ZyB3aWR0aD0iODBweCIgaGVpZ2h0PSI4MHB4IiB2aWV3Qm94PSIwIDAgODAgODAiIHZlcnNpb249IjEuMSIgeG1sbnM9Imh0dHA6Ly93d3cudzMub3JnLzIwMDAvc3ZnIiB4bWxuczp4bGluaz0iaHR0cDovL3d3dy53My5vcmcvMTk5OS94bGluayI+CiAgICA8IS0tIEdlbmVyYXRvcjogU2tldGNoIDU0LjEgKDc2NDkwKSAtIGh0dHBzOi8vc2tldGNoYXBwLmNvbSAtLT4KICAgIDx0aXRsZT5Hcm91cCAzPC90aXRsZT4KICAgIDxkZXNjPkNyZWF0ZWQgd2l0aCBTa2V0Y2guPC9kZXNjPgogICAgPGcgaWQ9IkxhbmRpbmciIHN0cm9rZT0ibm9uZSIgc3Ryb2tlLXdpZHRoPSIxIiBmaWxsPSJub25lIiBmaWxsLXJ1bGU9ImV2ZW5vZGQiPgogICAgICAgIDxnIGlkPSJBcnRib2FyZCIgdHJhbnNmb3JtPSJ0cmFuc2xhdGUoLTEyMzUuMDAwMDAwLCAtNzkuMDAwMDAwKSI+CiAgICAgICAgICAgIDxnIGlkPSJHcm91cC0zIiB0cmFuc2Zvcm09InRyYW5zbGF0ZSgxMjM1LjAwMDAwMCwgNzkuMDAwMDAwKSI+CiAgICAgICAgICAgICAgICA8cG9seWdvbiBpZD0iUGF0aC0yMCIgZmlsbD0iIzAyNjVCNCIgcG9pbnRzPSIyLjM3NjIzNzYyIDgwIDM4LjA0NzY2NjcgODAgNTcuODIxNzgyMiA3My44MDU3NTkyIDU3LjgyMTc4MjIgMzIuNzU5MjczOSAzOS4xNDAyMjc4IDMxLjY4MzE2ODMiPjwvcG9seWdvbj4KICAgICAgICAgICAgICAgIDxwYXRoIGQ9Ik0zNS4wMDc3MTgsODAgQzQyLjkwNjIwMDcsNzYuNDU0OTM1OCA0Ny41NjQ5MTY3LDcxLjU0MjI2NzEgNDguOTgzODY2LDY1LjI2MTk5MzkgQzUxLjExMjI4OTksNTUuODQxNTg0MiA0MS42NzcxNzk1LDQ5LjIxMjIyODQgMjUuNjIzOTg0Niw0OS4yMTIyMjg0IEMyNS40ODQ5Mjg5LDQ5LjEyNjg0NDggMjkuODI2MTI5Niw0My4yODM4MjQ4IDM4LjY0NzU4NjksMzEuNjgzMTY4MyBMNzIuODcxMjg3MSwzMi41NTQ0MjUgTDY1LjI4MDk3Myw2Ny42NzYzNDIxIEw1MS4xMTIyODk5LDc3LjM3NjE0NCBMMzUuMDA3NzE4LDgwIFoiIGlkPSJQYXRoLTIyIiBmaWxsPSIjMDAyODY4Ij48L3BhdGg+CiAgICAgICAgICAgICAgICA8cGF0aCBkPSJNMCwzNy43MzA0NDA1IEwyNy4xMTQ1MzcsMC4yNTcxMTE0MzYgQzYyLjM3MTUxMjMsLTEuOTkwNzE3MDEgODAsMTAuNTAwMzkyNyA4MCwzNy43MzA0NDA1IEM4MCw2NC45NjA0ODgyIDY0Ljc3NjUwMzgsNzkuMDUwMzQxNCAzNC4zMjk1MTEzLDgwIEM0Ny4wNTUzNDg5LDc3LjU2NzA4MDggNTMuNDE4MjY3Nyw3MC4zMTM2MTAzIDUzLjQxODI2NzcsNTguMjM5NTg4NSBDNTMuNDE4MjY3Nyw0MC4xMjg1NTU3IDM2LjMwMzk1NDQsMzcuNzMwNDQwNSAyNS4yMjc0MTcsMzcuNzMwNDQwNSBDMTcuODQzMDU4NiwzNy43MzA0NDA1IDkuNDMzOTE5NjYsMzcuNzMwNDQwNSAwLDM3LjczMDQ0MDUgWiIgaWQ9IlBhdGgtMTkiIGZpbGw9IiMzNzkzRUYiPjwvcGF0aD4KICAgICAgICAgICAgPC9nPgogICAgICAgIDwvZz4KICAgIDwvZz4KPC9zdmc+' > </img>\nCreated in <span style='font-weight:600;margin-left:4px;'>Deepnote</span></a>",
   "metadata": {
    "tags": [],
    "created_in_deepnote_cell": true,
    "deepnote_cell_type": "markdown"
   }
  }
 ],
 "nbformat": 4,
 "nbformat_minor": 0,
 "metadata": {
  "colab": {
   "authorship_tag": "ABX9TyPhzMI+G1fy53ZCtQbGnErI",
   "collapsed_sections": [],
   "mount_file_id": "1MAEWkIefJoTNJEsrTiVgKYJBtrnQcbuL",
   "name": "Algoritimos_de_clasificacion_+_Lopez,_Gomez,_Nesci,_Robert.ipynb",
   "provenance": []
  },
  "deepnote": {},
  "deepnote_execution_queue": [],
  "deepnote_notebook_id": "2deccce0-aa4f-4158-840e-c20e06bff434",
  "kernelspec": {
   "display_name": "Python 3.9.12 ('base')",
   "language": "python",
   "name": "python3"
  },
  "language_info": {
   "codemirror_mode": {
    "name": "ipython",
    "version": 3
   },
   "file_extension": ".py",
   "mimetype": "text/x-python",
   "name": "python",
   "nbconvert_exporter": "python",
   "pygments_lexer": "ipython3",
   "version": "3.9.12"
  },
  "vscode": {
   "interpreter": {
    "hash": "a9cd1d71797413345ff3ab51f09be97816387dc46e0492ee3a0a9c479c23a409"
   }
  }
 }
}