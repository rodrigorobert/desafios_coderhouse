{
 "cells": [
  {
   "cell_type": "markdown",
   "source": "# **Proyecto Final (Análisis bivariado)**\n# ![](https://i.gifer.com/7ARb.gif)\nAlumnos: Analía López, Alejando Gonzáles, Estéban Nesci, Rodrigo Robert\n\nCurso: Data Science\n\nComisión: 29720",
   "metadata": {
    "id": "BwQ3MBZQZjN8",
    "cell_id": "8a8d8f3c-5dd8-4b8b-a088-1783e28d190f",
    "deepnote_cell_type": "markdown",
    "deepnote_cell_height": 503.171875
   }
  },
  {
   "cell_type": "code",
   "metadata": {
    "colab": {
     "base_uri": "https://localhost:8080/"
    },
    "id": "dJlmjTA-j_3Q",
    "executionInfo": {
     "status": "ok",
     "timestamp": 1657158212223,
     "user_tz": 180,
     "elapsed": 26572,
     "user": {
      "displayName": "William Wallace",
      "userId": "02462327362597608294"
     }
    },
    "outputId": "fce892c3-825a-49c6-f78a-4ac8f877515a",
    "cell_id": "00001-add4fc92-437c-4b1d-bb4f-7c0cd2a5016d",
    "deepnote_to_be_reexecuted": false,
    "source_hash": "5163cc15",
    "execution_start": 1657490850614,
    "execution_millis": 67028,
    "owner_user_id": "f44ae237-a60f-490b-b7e7-4bd6dd520baf",
    "deepnote_cell_type": "code",
    "deepnote_cell_height": 171
   },
   "source": "# Paquete de instalación para librerías que son una alternativa a pandas profiling\n\n#!pip3 install -U scikit-learn --upgrade # necesitamos sklearn >= 0.24\n#!pip install sweetviz\n#!pip install ipywidgets # puede ser necesario si lo corren local\n#!pip install scikit-optimize",
   "execution_count": null,
   "outputs": []
  },
  {
   "cell_type": "code",
   "metadata": {
    "executionInfo": {
     "elapsed": 680,
     "status": "ok",
     "timestamp": 1657158239270,
     "user": {
      "displayName": "William Wallace",
      "userId": "02462327362597608294"
     },
     "user_tz": 180
    },
    "id": "O4wvOjCKZSZM",
    "cell_id": "00002-881a1fe7-96f6-4264-9b75-70982e32cb52",
    "deepnote_to_be_reexecuted": false,
    "source_hash": "bbb3ed75",
    "execution_start": 1657490850615,
    "execution_millis": 1172,
    "deepnote_cell_type": "code",
    "deepnote_cell_height": 171
   },
   "source": "# Importamos librerias y dependencias\n\nimport pandas as pd\nimport numpy as np\nfrom matplotlib import pyplot as plt\nimport seaborn as sns  ",
   "execution_count": null,
   "outputs": []
  },
  {
   "cell_type": "code",
   "metadata": {
    "colab": {
     "base_uri": "https://localhost:8080/"
    },
    "executionInfo": {
     "elapsed": 994,
     "status": "ok",
     "timestamp": 1657158262770,
     "user": {
      "displayName": "William Wallace",
      "userId": "02462327362597608294"
     },
     "user_tz": 180
    },
    "id": "OhqhRz6uZ1an",
    "outputId": "0129fee5-973b-40f5-8630-eb0b05a44a91",
    "cell_id": "00004-3a6348c6-c608-4e8c-a7d0-78acaeae6ce0",
    "deepnote_to_be_reexecuted": false,
    "source_hash": "22668eed",
    "execution_start": 1657490851794,
    "execution_millis": 574,
    "deepnote_cell_type": "code",
    "deepnote_cell_height": 117
   },
   "source": "# Creamos el dataframe\n\ndf = pd.read_csv('/work/20220508_hepatitis.csv', low_memory=False)",
   "execution_count": null,
   "outputs": []
  },
  {
   "cell_type": "markdown",
   "source": "**Visualización de las caracateristicas principales del df**",
   "metadata": {
    "id": "fZhO43ZxfvFb",
    "cell_id": "00005-0b630e04-3536-401d-bbe6-0aabedd0c930",
    "deepnote_cell_type": "markdown",
    "deepnote_cell_height": 52.390625
   }
  },
  {
   "cell_type": "code",
   "metadata": {
    "colab": {
     "base_uri": "https://localhost:8080/"
    },
    "executionInfo": {
     "elapsed": 693,
     "status": "ok",
     "timestamp": 1657158271893,
     "user": {
      "displayName": "William Wallace",
      "userId": "02462327362597608294"
     },
     "user_tz": 180
    },
    "id": "ylmri3aHgHx5",
    "outputId": "3c983252-bca8-41d4-95fe-cabf6c14ebaf",
    "cell_id": "00006-2e0979f9-e394-495d-b5b0-411dbc099ee4",
    "deepnote_to_be_reexecuted": false,
    "source_hash": "836d46cc",
    "execution_start": 1657490852371,
    "execution_millis": 7,
    "deepnote_cell_type": "code",
    "deepnote_cell_height": 184.1875
   },
   "source": "#Vizualizamos filas y columnas de df\n\ndf.shape\n\nprint('Este dataset tiene ' + str(df.shape[0]) + ' filas, y ' + str(df.shape[1]) + ' columnas.')",
   "execution_count": null,
   "outputs": [
    {
     "name": "stdout",
     "text": "Este dataset tiene 50002 filas, y 36 columnas.\n",
     "output_type": "stream"
    }
   ]
  },
  {
   "cell_type": "code",
   "metadata": {
    "colab": {
     "base_uri": "https://localhost:8080/"
    },
    "executionInfo": {
     "elapsed": 525,
     "status": "ok",
     "timestamp": 1657158308231,
     "user": {
      "displayName": "William Wallace",
      "userId": "02462327362597608294"
     },
     "user_tz": 180
    },
    "id": "BoP1txN0bK-2",
    "outputId": "6861cb0c-6698-4f50-aa08-2a402c01f8b7",
    "cell_id": "00007-8cd6f692-a2c1-443f-8f83-f83dcba6ce89",
    "deepnote_to_be_reexecuted": false,
    "source_hash": "79c13da9",
    "execution_start": 1657490852380,
    "execution_millis": 54,
    "deepnote_cell_type": "code",
    "deepnote_cell_height": 737
   },
   "source": "# Visualizamos info (columnas, tipos de datos, filas y nulls)\n\ndf.info()",
   "execution_count": null,
   "outputs": [
    {
     "name": "stdout",
     "text": "<class 'pandas.core.frame.DataFrame'>\nRangeIndex: 50002 entries, 0 to 50001\nData columns (total 36 columns):\n #   Column           Non-Null Count  Dtype  \n---  ------           --------------  -----  \n 0   id               50002 non-null  int64  \n 1   conversation_id  50002 non-null  int64  \n 2   created_at       50002 non-null  object \n 3   date             50002 non-null  object \n 4   time             50002 non-null  object \n 5   timezone         50002 non-null  int64  \n 6   user_id          50002 non-null  int64  \n 7   username         50002 non-null  object \n 8   name             50001 non-null  object \n 9   place            34 non-null     object \n 10  tweet            50002 non-null  object \n 11  language         50002 non-null  object \n 12  mentions         50002 non-null  object \n 13  urls             50002 non-null  object \n 14  photos           50002 non-null  object \n 15  replies_count    50002 non-null  int64  \n 16  retweets_count   50002 non-null  int64  \n 17  likes_count      50002 non-null  int64  \n 18  hashtags         50002 non-null  object \n 19  cashtags         50002 non-null  object \n 20  link             50002 non-null  object \n 21  retweet          50002 non-null  bool   \n 22  quote_url        3615 non-null   object \n 23  video            50002 non-null  int64  \n 24  thumbnail        7502 non-null   object \n 25  near             0 non-null      float64\n 26  geo              0 non-null      float64\n 27  source           0 non-null      float64\n 28  user_rt_id       0 non-null      float64\n 29  user_rt          0 non-null      float64\n 30  retweet_id       0 non-null      float64\n 31  reply_to         50002 non-null  object \n 32  retweet_date     0 non-null      float64\n 33  translate        0 non-null      float64\n 34  trans_src        0 non-null      float64\n 35  trans_dest       0 non-null      float64\ndtypes: bool(1), float64(10), int64(8), object(17)\nmemory usage: 13.4+ MB\n",
     "output_type": "stream"
    }
   ]
  },
  {
   "cell_type": "code",
   "metadata": {
    "colab": {
     "base_uri": "https://localhost:8080/",
     "height": 341
    },
    "executionInfo": {
     "elapsed": 698,
     "status": "ok",
     "timestamp": 1657158458951,
     "user": {
      "displayName": "William Wallace",
      "userId": "02462327362597608294"
     },
     "user_tz": 180
    },
    "id": "1XNuR1s6hA5J",
    "outputId": "ea0f26be-3075-4c20-c460-d3b1474c26f5",
    "cell_id": "00008-1b8e81ec-ba99-4a38-b252-06adf8b4e576",
    "deepnote_to_be_reexecuted": false,
    "source_hash": "a284a1c6",
    "execution_start": 1657490852487,
    "execution_millis": 26,
    "deepnote_cell_type": "code",
    "deepnote_cell_height": 364
   },
   "source": "#Vemos una muestra de df\n\ndf.head(3)",
   "execution_count": null,
   "outputs": [
    {
     "output_type": "execute_result",
     "execution_count": 6,
     "data": {
      "application/vnd.deepnote.dataframe.v3+json": {
       "column_count": 36,
       "row_count": 3,
       "columns": [
        {
         "name": "id",
         "dtype": "int64",
         "stats": {
          "unique_count": 3,
          "nan_count": 0,
          "min": "1523478947115139072",
          "max": "1523479063272525824",
          "histogram": [
           {
            "bin_start": 1523478947115139000,
            "bin_end": 1523478958730877700,
            "count": 1
           },
           {
            "bin_start": 1523478958730877700,
            "bin_end": 1523478970346616300,
            "count": 0
           },
           {
            "bin_start": 1523478970346616300,
            "bin_end": 1523478981962355200,
            "count": 0
           },
           {
            "bin_start": 1523478981962355200,
            "bin_end": 1523478993578093800,
            "count": 0
           },
           {
            "bin_start": 1523478993578093800,
            "bin_end": 1523479005193832400,
            "count": 0
           },
           {
            "bin_start": 1523479005193832400,
            "bin_end": 1523479016809571000,
            "count": 1
           },
           {
            "bin_start": 1523479016809571000,
            "bin_end": 1523479028425309700,
            "count": 0
           },
           {
            "bin_start": 1523479028425309700,
            "bin_end": 1523479040041048600,
            "count": 0
           },
           {
            "bin_start": 1523479040041048600,
            "bin_end": 1523479051656787200,
            "count": 0
           },
           {
            "bin_start": 1523479051656787200,
            "bin_end": 1523479063272525800,
            "count": 1
           }
          ]
         }
        },
        {
         "name": "conversation_id",
         "dtype": "int64",
         "stats": {
          "unique_count": 3,
          "nan_count": 0,
          "min": "1523418175878037504",
          "max": "1523479063272525824",
          "histogram": [
           {
            "bin_start": 1523418175878037500,
            "bin_end": 1523424264617486300,
            "count": 1
           },
           {
            "bin_start": 1523424264617486300,
            "bin_end": 1523430353356935200,
            "count": 0
           },
           {
            "bin_start": 1523430353356935200,
            "bin_end": 1523436442096384000,
            "count": 0
           },
           {
            "bin_start": 1523436442096384000,
            "bin_end": 1523442530835832800,
            "count": 0
           },
           {
            "bin_start": 1523442530835832800,
            "bin_end": 1523448619575281700,
            "count": 0
           },
           {
            "bin_start": 1523448619575281700,
            "bin_end": 1523454708314730500,
            "count": 0
           },
           {
            "bin_start": 1523454708314730500,
            "bin_end": 1523460797054179300,
            "count": 0
           },
           {
            "bin_start": 1523460797054179300,
            "bin_end": 1523466885793628200,
            "count": 0
           },
           {
            "bin_start": 1523466885793628200,
            "bin_end": 1523472974533077000,
            "count": 0
           },
           {
            "bin_start": 1523472974533077000,
            "bin_end": 1523479063272525800,
            "count": 2
           }
          ]
         }
        },
        {
         "name": "created_at",
         "dtype": "object",
         "stats": {
          "unique_count": 3,
          "nan_count": 0,
          "categories": [
           {
            "name": "2022-05-08 22:44:48 -03",
            "count": 1
           },
           {
            "name": "2022-05-08 22:44:35 -03",
            "count": 1
           },
           {
            "name": "2022-05-08 22:44:20 -03",
            "count": 1
           }
          ]
         }
        },
        {
         "name": "date",
         "dtype": "object",
         "stats": {
          "unique_count": 1,
          "nan_count": 0,
          "categories": [
           {
            "name": "2022-05-08",
            "count": 3
           }
          ]
         }
        },
        {
         "name": "time",
         "dtype": "object",
         "stats": {
          "unique_count": 3,
          "nan_count": 0,
          "categories": [
           {
            "name": "22:44:48",
            "count": 1
           },
           {
            "name": "22:44:35",
            "count": 1
           },
           {
            "name": "22:44:20",
            "count": 1
           }
          ]
         }
        },
        {
         "name": "timezone",
         "dtype": "int64",
         "stats": {
          "unique_count": 1,
          "nan_count": 0,
          "min": "-300",
          "max": "-300",
          "histogram": [
           {
            "bin_start": -300.5,
            "bin_end": -300.4,
            "count": 0
           },
           {
            "bin_start": -300.4,
            "bin_end": -300.3,
            "count": 0
           },
           {
            "bin_start": -300.3,
            "bin_end": -300.2,
            "count": 0
           },
           {
            "bin_start": -300.2,
            "bin_end": -300.1,
            "count": 0
           },
           {
            "bin_start": -300.1,
            "bin_end": -300,
            "count": 0
           },
           {
            "bin_start": -300,
            "bin_end": -299.9,
            "count": 3
           },
           {
            "bin_start": -299.9,
            "bin_end": -299.8,
            "count": 0
           },
           {
            "bin_start": -299.8,
            "bin_end": -299.7,
            "count": 0
           },
           {
            "bin_start": -299.7,
            "bin_end": -299.6,
            "count": 0
           },
           {
            "bin_start": -299.6,
            "bin_end": -299.5,
            "count": 0
           }
          ]
         }
        },
        {
         "name": "user_id",
         "dtype": "int64",
         "stats": {
          "unique_count": 3,
          "nan_count": 0,
          "min": "49024508",
          "max": "1452730505787551750",
          "histogram": [
           {
            "bin_start": 49024508,
            "bin_end": 145273050622877250,
            "count": 2
           },
           {
            "bin_start": 145273050622877250,
            "bin_end": 290546101196730000,
            "count": 0
           },
           {
            "bin_start": 290546101196730000,
            "bin_end": 435819151770582700,
            "count": 0
           },
           {
            "bin_start": 435819151770582700,
            "bin_end": 581092202344435500,
            "count": 0
           },
           {
            "bin_start": 581092202344435500,
            "bin_end": 726365252918288100,
            "count": 0
           },
           {
            "bin_start": 726365252918288100,
            "bin_end": 871638303492140900,
            "count": 0
           },
           {
            "bin_start": 871638303492140900,
            "bin_end": 1016911354065993700,
            "count": 0
           },
           {
            "bin_start": 1016911354065993700,
            "bin_end": 1162184404639846400,
            "count": 0
           },
           {
            "bin_start": 1162184404639846400,
            "bin_end": 1307457455213699000,
            "count": 0
           },
           {
            "bin_start": 1307457455213699000,
            "bin_end": 1452730505787551700,
            "count": 1
           }
          ]
         }
        },
        {
         "name": "username",
         "dtype": "object",
         "stats": {
          "unique_count": 3,
          "nan_count": 0,
          "categories": [
           {
            "name": "onionweigher",
            "count": 1
           },
           {
            "name": "griffinjones25",
            "count": 1
           },
           {
            "name": "ideallyanews",
            "count": 1
           }
          ]
         }
        },
        {
         "name": "name",
         "dtype": "object",
         "stats": {
          "unique_count": 3,
          "nan_count": 0,
          "categories": [
           {
            "name": "Onion Weigher 🧅⚖️",
            "count": 1
           },
           {
            "name": "GJ",
            "count": 1
           },
           {
            "name": "IdeallyaNews",
            "count": 1
           }
          ]
         }
        },
        {
         "name": "place",
         "dtype": "object",
         "stats": {
          "unique_count": 0,
          "nan_count": 3,
          "categories": [
           {
            "name": "Missing",
            "count": 3
           }
          ]
         }
        },
        {
         "name": "tweet",
         "dtype": "object",
         "stats": {
          "unique_count": 3,
          "nan_count": 0,
          "categories": [
           {
            "name": "Tried to take my children to Chi-Chi's but it was a wasteland. No sneeze guard at the salad bar, the employees had cell phones, two vast and trunkless legs of stone stood desolately next to the restrooms. Grew up with salsafication and hepatitis A outbreaks. It's all gone now.",
            "count": 1
           },
           {
            "name": "@stargazeruk7 Hep A like you mention is an entirely different disease than autoimmune hepatitis.",
            "count": 1
           },
           {
            "name": "UK Health Safety Authority: No evidence linking childhood hepatitis of unknown etiology to COVID-19 vaccine - #childhood #health #safety #uk  https://t.co/tgVOtRdnGE",
            "count": 1
           }
          ]
         }
        },
        {
         "name": "language",
         "dtype": "object",
         "stats": {
          "unique_count": 1,
          "nan_count": 0,
          "categories": [
           {
            "name": "en",
            "count": 3
           }
          ]
         }
        },
        {
         "name": "mentions",
         "dtype": "object",
         "stats": {
          "unique_count": 1,
          "nan_count": 0,
          "categories": [
           {
            "name": "[]",
            "count": 3
           }
          ]
         }
        },
        {
         "name": "urls",
         "dtype": "object",
         "stats": {
          "unique_count": 2,
          "nan_count": 0,
          "categories": [
           {
            "name": "[]",
            "count": 2
           },
           {
            "name": "['https://ideallya.github.io/news/MT/Q5MDMyMjUxODg1OTAwMjI5NjA3NjE3NDU2Njg5ODc2MzY1NzE1.html']",
            "count": 1
           }
          ]
         }
        },
        {
         "name": "photos",
         "dtype": "object",
         "stats": {
          "unique_count": 1,
          "nan_count": 0,
          "categories": [
           {
            "name": "[]",
            "count": 3
           }
          ]
         }
        },
        {
         "name": "replies_count",
         "dtype": "int64",
         "stats": {
          "unique_count": 1,
          "nan_count": 0,
          "min": "0",
          "max": "0",
          "histogram": [
           {
            "bin_start": -0.5,
            "bin_end": -0.4,
            "count": 0
           },
           {
            "bin_start": -0.4,
            "bin_end": -0.3,
            "count": 0
           },
           {
            "bin_start": -0.3,
            "bin_end": -0.19999999999999996,
            "count": 0
           },
           {
            "bin_start": -0.19999999999999996,
            "bin_end": -0.09999999999999998,
            "count": 0
           },
           {
            "bin_start": -0.09999999999999998,
            "bin_end": 0,
            "count": 0
           },
           {
            "bin_start": 0,
            "bin_end": 0.10000000000000009,
            "count": 3
           },
           {
            "bin_start": 0.10000000000000009,
            "bin_end": 0.20000000000000007,
            "count": 0
           },
           {
            "bin_start": 0.20000000000000007,
            "bin_end": 0.30000000000000004,
            "count": 0
           },
           {
            "bin_start": 0.30000000000000004,
            "bin_end": 0.4,
            "count": 0
           },
           {
            "bin_start": 0.4,
            "bin_end": 0.5,
            "count": 0
           }
          ]
         }
        },
        {
         "name": "retweets_count",
         "dtype": "int64",
         "stats": {
          "unique_count": 1,
          "nan_count": 0,
          "min": "0",
          "max": "0",
          "histogram": [
           {
            "bin_start": -0.5,
            "bin_end": -0.4,
            "count": 0
           },
           {
            "bin_start": -0.4,
            "bin_end": -0.3,
            "count": 0
           },
           {
            "bin_start": -0.3,
            "bin_end": -0.19999999999999996,
            "count": 0
           },
           {
            "bin_start": -0.19999999999999996,
            "bin_end": -0.09999999999999998,
            "count": 0
           },
           {
            "bin_start": -0.09999999999999998,
            "bin_end": 0,
            "count": 0
           },
           {
            "bin_start": 0,
            "bin_end": 0.10000000000000009,
            "count": 3
           },
           {
            "bin_start": 0.10000000000000009,
            "bin_end": 0.20000000000000007,
            "count": 0
           },
           {
            "bin_start": 0.20000000000000007,
            "bin_end": 0.30000000000000004,
            "count": 0
           },
           {
            "bin_start": 0.30000000000000004,
            "bin_end": 0.4,
            "count": 0
           },
           {
            "bin_start": 0.4,
            "bin_end": 0.5,
            "count": 0
           }
          ]
         }
        },
        {
         "name": "likes_count",
         "dtype": "int64",
         "stats": {
          "unique_count": 1,
          "nan_count": 0,
          "min": "0",
          "max": "0",
          "histogram": [
           {
            "bin_start": -0.5,
            "bin_end": -0.4,
            "count": 0
           },
           {
            "bin_start": -0.4,
            "bin_end": -0.3,
            "count": 0
           },
           {
            "bin_start": -0.3,
            "bin_end": -0.19999999999999996,
            "count": 0
           },
           {
            "bin_start": -0.19999999999999996,
            "bin_end": -0.09999999999999998,
            "count": 0
           },
           {
            "bin_start": -0.09999999999999998,
            "bin_end": 0,
            "count": 0
           },
           {
            "bin_start": 0,
            "bin_end": 0.10000000000000009,
            "count": 3
           },
           {
            "bin_start": 0.10000000000000009,
            "bin_end": 0.20000000000000007,
            "count": 0
           },
           {
            "bin_start": 0.20000000000000007,
            "bin_end": 0.30000000000000004,
            "count": 0
           },
           {
            "bin_start": 0.30000000000000004,
            "bin_end": 0.4,
            "count": 0
           },
           {
            "bin_start": 0.4,
            "bin_end": 0.5,
            "count": 0
           }
          ]
         }
        },
        {
         "name": "hashtags",
         "dtype": "object",
         "stats": {
          "unique_count": 2,
          "nan_count": 0,
          "categories": [
           {
            "name": "[]",
            "count": 2
           },
           {
            "name": "['childhood', 'health', 'safety', 'uk']",
            "count": 1
           }
          ]
         }
        },
        {
         "name": "cashtags",
         "dtype": "object",
         "stats": {
          "unique_count": 1,
          "nan_count": 0,
          "categories": [
           {
            "name": "[]",
            "count": 3
           }
          ]
         }
        },
        {
         "name": "link",
         "dtype": "object",
         "stats": {
          "unique_count": 3,
          "nan_count": 0,
          "categories": [
           {
            "name": "https://twitter.com/onionweigher/status/1523479063272525824",
            "count": 1
           },
           {
            "name": "https://twitter.com/griffinjones25/status/1523479009694158848",
            "count": 1
           },
           {
            "name": "https://twitter.com/IdeallyaNews/status/1523478947115139072",
            "count": 1
           }
          ]
         }
        },
        {
         "name": "retweet",
         "dtype": "bool",
         "stats": {
          "unique_count": 1,
          "nan_count": 0,
          "categories": [
           {
            "name": "False",
            "count": 3
           }
          ]
         }
        },
        {
         "name": "quote_url",
         "dtype": "object",
         "stats": {
          "unique_count": 0,
          "nan_count": 3,
          "categories": [
           {
            "name": "Missing",
            "count": 3
           }
          ]
         }
        },
        {
         "name": "video",
         "dtype": "int64",
         "stats": {
          "unique_count": 1,
          "nan_count": 0,
          "min": "0",
          "max": "0",
          "histogram": [
           {
            "bin_start": -0.5,
            "bin_end": -0.4,
            "count": 0
           },
           {
            "bin_start": -0.4,
            "bin_end": -0.3,
            "count": 0
           },
           {
            "bin_start": -0.3,
            "bin_end": -0.19999999999999996,
            "count": 0
           },
           {
            "bin_start": -0.19999999999999996,
            "bin_end": -0.09999999999999998,
            "count": 0
           },
           {
            "bin_start": -0.09999999999999998,
            "bin_end": 0,
            "count": 0
           },
           {
            "bin_start": 0,
            "bin_end": 0.10000000000000009,
            "count": 3
           },
           {
            "bin_start": 0.10000000000000009,
            "bin_end": 0.20000000000000007,
            "count": 0
           },
           {
            "bin_start": 0.20000000000000007,
            "bin_end": 0.30000000000000004,
            "count": 0
           },
           {
            "bin_start": 0.30000000000000004,
            "bin_end": 0.4,
            "count": 0
           },
           {
            "bin_start": 0.4,
            "bin_end": 0.5,
            "count": 0
           }
          ]
         }
        },
        {
         "name": "thumbnail",
         "dtype": "object",
         "stats": {
          "unique_count": 0,
          "nan_count": 3,
          "categories": [
           {
            "name": "Missing",
            "count": 3
           }
          ]
         }
        },
        {
         "name": "near",
         "dtype": "float64",
         "stats": {
          "unique_count": 0,
          "nan_count": 3,
          "min": null,
          "max": null,
          "histogram": [
           {
            "bin_start": 0,
            "bin_end": 0.1,
            "count": 0
           },
           {
            "bin_start": 0.1,
            "bin_end": 0.2,
            "count": 0
           },
           {
            "bin_start": 0.2,
            "bin_end": 0.30000000000000004,
            "count": 0
           },
           {
            "bin_start": 0.30000000000000004,
            "bin_end": 0.4,
            "count": 0
           },
           {
            "bin_start": 0.4,
            "bin_end": 0.5,
            "count": 0
           },
           {
            "bin_start": 0.5,
            "bin_end": 0.6000000000000001,
            "count": 0
           },
           {
            "bin_start": 0.6000000000000001,
            "bin_end": 0.7000000000000001,
            "count": 0
           },
           {
            "bin_start": 0.7000000000000001,
            "bin_end": 0.8,
            "count": 0
           },
           {
            "bin_start": 0.8,
            "bin_end": 0.9,
            "count": 0
           },
           {
            "bin_start": 0.9,
            "bin_end": 1,
            "count": 0
           }
          ]
         }
        },
        {
         "name": "geo",
         "dtype": "float64",
         "stats": {
          "unique_count": 0,
          "nan_count": 3,
          "min": null,
          "max": null,
          "histogram": [
           {
            "bin_start": 0,
            "bin_end": 0.1,
            "count": 0
           },
           {
            "bin_start": 0.1,
            "bin_end": 0.2,
            "count": 0
           },
           {
            "bin_start": 0.2,
            "bin_end": 0.30000000000000004,
            "count": 0
           },
           {
            "bin_start": 0.30000000000000004,
            "bin_end": 0.4,
            "count": 0
           },
           {
            "bin_start": 0.4,
            "bin_end": 0.5,
            "count": 0
           },
           {
            "bin_start": 0.5,
            "bin_end": 0.6000000000000001,
            "count": 0
           },
           {
            "bin_start": 0.6000000000000001,
            "bin_end": 0.7000000000000001,
            "count": 0
           },
           {
            "bin_start": 0.7000000000000001,
            "bin_end": 0.8,
            "count": 0
           },
           {
            "bin_start": 0.8,
            "bin_end": 0.9,
            "count": 0
           },
           {
            "bin_start": 0.9,
            "bin_end": 1,
            "count": 0
           }
          ]
         }
        },
        {
         "name": "source",
         "dtype": "float64",
         "stats": {
          "unique_count": 0,
          "nan_count": 3,
          "min": null,
          "max": null,
          "histogram": [
           {
            "bin_start": 0,
            "bin_end": 0.1,
            "count": 0
           },
           {
            "bin_start": 0.1,
            "bin_end": 0.2,
            "count": 0
           },
           {
            "bin_start": 0.2,
            "bin_end": 0.30000000000000004,
            "count": 0
           },
           {
            "bin_start": 0.30000000000000004,
            "bin_end": 0.4,
            "count": 0
           },
           {
            "bin_start": 0.4,
            "bin_end": 0.5,
            "count": 0
           },
           {
            "bin_start": 0.5,
            "bin_end": 0.6000000000000001,
            "count": 0
           },
           {
            "bin_start": 0.6000000000000001,
            "bin_end": 0.7000000000000001,
            "count": 0
           },
           {
            "bin_start": 0.7000000000000001,
            "bin_end": 0.8,
            "count": 0
           },
           {
            "bin_start": 0.8,
            "bin_end": 0.9,
            "count": 0
           },
           {
            "bin_start": 0.9,
            "bin_end": 1,
            "count": 0
           }
          ]
         }
        },
        {
         "name": "user_rt_id",
         "dtype": "float64",
         "stats": {
          "unique_count": 0,
          "nan_count": 3,
          "min": null,
          "max": null,
          "histogram": [
           {
            "bin_start": 0,
            "bin_end": 0.1,
            "count": 0
           },
           {
            "bin_start": 0.1,
            "bin_end": 0.2,
            "count": 0
           },
           {
            "bin_start": 0.2,
            "bin_end": 0.30000000000000004,
            "count": 0
           },
           {
            "bin_start": 0.30000000000000004,
            "bin_end": 0.4,
            "count": 0
           },
           {
            "bin_start": 0.4,
            "bin_end": 0.5,
            "count": 0
           },
           {
            "bin_start": 0.5,
            "bin_end": 0.6000000000000001,
            "count": 0
           },
           {
            "bin_start": 0.6000000000000001,
            "bin_end": 0.7000000000000001,
            "count": 0
           },
           {
            "bin_start": 0.7000000000000001,
            "bin_end": 0.8,
            "count": 0
           },
           {
            "bin_start": 0.8,
            "bin_end": 0.9,
            "count": 0
           },
           {
            "bin_start": 0.9,
            "bin_end": 1,
            "count": 0
           }
          ]
         }
        },
        {
         "name": "user_rt",
         "dtype": "float64",
         "stats": {
          "unique_count": 0,
          "nan_count": 3,
          "min": null,
          "max": null,
          "histogram": [
           {
            "bin_start": 0,
            "bin_end": 0.1,
            "count": 0
           },
           {
            "bin_start": 0.1,
            "bin_end": 0.2,
            "count": 0
           },
           {
            "bin_start": 0.2,
            "bin_end": 0.30000000000000004,
            "count": 0
           },
           {
            "bin_start": 0.30000000000000004,
            "bin_end": 0.4,
            "count": 0
           },
           {
            "bin_start": 0.4,
            "bin_end": 0.5,
            "count": 0
           },
           {
            "bin_start": 0.5,
            "bin_end": 0.6000000000000001,
            "count": 0
           },
           {
            "bin_start": 0.6000000000000001,
            "bin_end": 0.7000000000000001,
            "count": 0
           },
           {
            "bin_start": 0.7000000000000001,
            "bin_end": 0.8,
            "count": 0
           },
           {
            "bin_start": 0.8,
            "bin_end": 0.9,
            "count": 0
           },
           {
            "bin_start": 0.9,
            "bin_end": 1,
            "count": 0
           }
          ]
         }
        },
        {
         "name": "retweet_id",
         "dtype": "float64",
         "stats": {
          "unique_count": 0,
          "nan_count": 3,
          "min": null,
          "max": null,
          "histogram": [
           {
            "bin_start": 0,
            "bin_end": 0.1,
            "count": 0
           },
           {
            "bin_start": 0.1,
            "bin_end": 0.2,
            "count": 0
           },
           {
            "bin_start": 0.2,
            "bin_end": 0.30000000000000004,
            "count": 0
           },
           {
            "bin_start": 0.30000000000000004,
            "bin_end": 0.4,
            "count": 0
           },
           {
            "bin_start": 0.4,
            "bin_end": 0.5,
            "count": 0
           },
           {
            "bin_start": 0.5,
            "bin_end": 0.6000000000000001,
            "count": 0
           },
           {
            "bin_start": 0.6000000000000001,
            "bin_end": 0.7000000000000001,
            "count": 0
           },
           {
            "bin_start": 0.7000000000000001,
            "bin_end": 0.8,
            "count": 0
           },
           {
            "bin_start": 0.8,
            "bin_end": 0.9,
            "count": 0
           },
           {
            "bin_start": 0.9,
            "bin_end": 1,
            "count": 0
           }
          ]
         }
        },
        {
         "name": "reply_to",
         "dtype": "object",
         "stats": {
          "unique_count": 2,
          "nan_count": 0,
          "categories": [
           {
            "name": "[]",
            "count": 2
           },
           {
            "name": "[{'screen_name': 'stargazeruk7', 'name': 'Natalie.k7', 'id': '1516860721862254592'}]",
            "count": 1
           }
          ]
         }
        },
        {
         "name": "retweet_date",
         "dtype": "float64",
         "stats": {
          "unique_count": 0,
          "nan_count": 3,
          "min": null,
          "max": null,
          "histogram": [
           {
            "bin_start": 0,
            "bin_end": 0.1,
            "count": 0
           },
           {
            "bin_start": 0.1,
            "bin_end": 0.2,
            "count": 0
           },
           {
            "bin_start": 0.2,
            "bin_end": 0.30000000000000004,
            "count": 0
           },
           {
            "bin_start": 0.30000000000000004,
            "bin_end": 0.4,
            "count": 0
           },
           {
            "bin_start": 0.4,
            "bin_end": 0.5,
            "count": 0
           },
           {
            "bin_start": 0.5,
            "bin_end": 0.6000000000000001,
            "count": 0
           },
           {
            "bin_start": 0.6000000000000001,
            "bin_end": 0.7000000000000001,
            "count": 0
           },
           {
            "bin_start": 0.7000000000000001,
            "bin_end": 0.8,
            "count": 0
           },
           {
            "bin_start": 0.8,
            "bin_end": 0.9,
            "count": 0
           },
           {
            "bin_start": 0.9,
            "bin_end": 1,
            "count": 0
           }
          ]
         }
        },
        {
         "name": "translate",
         "dtype": "float64",
         "stats": {
          "unique_count": 0,
          "nan_count": 3,
          "min": null,
          "max": null,
          "histogram": [
           {
            "bin_start": 0,
            "bin_end": 0.1,
            "count": 0
           },
           {
            "bin_start": 0.1,
            "bin_end": 0.2,
            "count": 0
           },
           {
            "bin_start": 0.2,
            "bin_end": 0.30000000000000004,
            "count": 0
           },
           {
            "bin_start": 0.30000000000000004,
            "bin_end": 0.4,
            "count": 0
           },
           {
            "bin_start": 0.4,
            "bin_end": 0.5,
            "count": 0
           },
           {
            "bin_start": 0.5,
            "bin_end": 0.6000000000000001,
            "count": 0
           },
           {
            "bin_start": 0.6000000000000001,
            "bin_end": 0.7000000000000001,
            "count": 0
           },
           {
            "bin_start": 0.7000000000000001,
            "bin_end": 0.8,
            "count": 0
           },
           {
            "bin_start": 0.8,
            "bin_end": 0.9,
            "count": 0
           },
           {
            "bin_start": 0.9,
            "bin_end": 1,
            "count": 0
           }
          ]
         }
        },
        {
         "name": "trans_src",
         "dtype": "float64",
         "stats": {
          "unique_count": 0,
          "nan_count": 3,
          "min": null,
          "max": null,
          "histogram": [
           {
            "bin_start": 0,
            "bin_end": 0.1,
            "count": 0
           },
           {
            "bin_start": 0.1,
            "bin_end": 0.2,
            "count": 0
           },
           {
            "bin_start": 0.2,
            "bin_end": 0.30000000000000004,
            "count": 0
           },
           {
            "bin_start": 0.30000000000000004,
            "bin_end": 0.4,
            "count": 0
           },
           {
            "bin_start": 0.4,
            "bin_end": 0.5,
            "count": 0
           },
           {
            "bin_start": 0.5,
            "bin_end": 0.6000000000000001,
            "count": 0
           },
           {
            "bin_start": 0.6000000000000001,
            "bin_end": 0.7000000000000001,
            "count": 0
           },
           {
            "bin_start": 0.7000000000000001,
            "bin_end": 0.8,
            "count": 0
           },
           {
            "bin_start": 0.8,
            "bin_end": 0.9,
            "count": 0
           },
           {
            "bin_start": 0.9,
            "bin_end": 1,
            "count": 0
           }
          ]
         }
        },
        {
         "name": "trans_dest",
         "dtype": "float64",
         "stats": {
          "unique_count": 0,
          "nan_count": 3,
          "min": null,
          "max": null,
          "histogram": [
           {
            "bin_start": 0,
            "bin_end": 0.1,
            "count": 0
           },
           {
            "bin_start": 0.1,
            "bin_end": 0.2,
            "count": 0
           },
           {
            "bin_start": 0.2,
            "bin_end": 0.30000000000000004,
            "count": 0
           },
           {
            "bin_start": 0.30000000000000004,
            "bin_end": 0.4,
            "count": 0
           },
           {
            "bin_start": 0.4,
            "bin_end": 0.5,
            "count": 0
           },
           {
            "bin_start": 0.5,
            "bin_end": 0.6000000000000001,
            "count": 0
           },
           {
            "bin_start": 0.6000000000000001,
            "bin_end": 0.7000000000000001,
            "count": 0
           },
           {
            "bin_start": 0.7000000000000001,
            "bin_end": 0.8,
            "count": 0
           },
           {
            "bin_start": 0.8,
            "bin_end": 0.9,
            "count": 0
           },
           {
            "bin_start": 0.9,
            "bin_end": 1,
            "count": 0
           }
          ]
         }
        },
        {
         "name": "_deepnote_index_column",
         "dtype": "int64"
        }
       ],
       "rows": [
        {
         "id": 1523479063272525800,
         "conversation_id": 1523479063272525800,
         "created_at": "2022-05-08 22:44:48 -03",
         "date": "2022-05-08",
         "time": "22:44:48",
         "timezone": -300,
         "user_id": 49024508,
         "username": "onionweigher",
         "name": "Onion Weigher 🧅⚖️",
         "place": "nan",
         "tweet": "Tried to take my children to Chi-Chi's but it was a wasteland. No sneeze guard at the salad bar, the employees had cell phones, two vast and trunkless legs of stone stood desolately next to the restrooms. Grew up with salsafication and hepatitis A outbreaks. It's all gone now.",
         "language": "en",
         "mentions": "[]",
         "urls": "[]",
         "photos": "[]",
         "replies_count": 0,
         "retweets_count": 0,
         "likes_count": 0,
         "hashtags": "[]",
         "cashtags": "[]",
         "link": "https://twitter.com/onionweigher/status/1523479063272525824",
         "retweet": false,
         "quote_url": "nan",
         "video": 0,
         "thumbnail": "nan",
         "near": "nan",
         "geo": "nan",
         "source": "nan",
         "user_rt_id": "nan",
         "user_rt": "nan",
         "retweet_id": "nan",
         "reply_to": "[]",
         "retweet_date": "nan",
         "translate": "nan",
         "trans_src": "nan",
         "trans_dest": "nan",
         "_deepnote_index_column": 0
        },
        {
         "id": 1523479009694158800,
         "conversation_id": 1523418175878037500,
         "created_at": "2022-05-08 22:44:35 -03",
         "date": "2022-05-08",
         "time": "22:44:35",
         "timezone": -300,
         "user_id": 2726837169,
         "username": "griffinjones25",
         "name": "GJ",
         "place": "nan",
         "tweet": "@stargazeruk7 Hep A like you mention is an entirely different disease than autoimmune hepatitis.",
         "language": "en",
         "mentions": "[]",
         "urls": "[]",
         "photos": "[]",
         "replies_count": 0,
         "retweets_count": 0,
         "likes_count": 0,
         "hashtags": "[]",
         "cashtags": "[]",
         "link": "https://twitter.com/griffinjones25/status/1523479009694158848",
         "retweet": false,
         "quote_url": "nan",
         "video": 0,
         "thumbnail": "nan",
         "near": "nan",
         "geo": "nan",
         "source": "nan",
         "user_rt_id": "nan",
         "user_rt": "nan",
         "retweet_id": "nan",
         "reply_to": "[{'screen_name': 'stargazeruk7', 'name': 'Natalie.k7', 'id': '1516860721862254592'}]",
         "retweet_date": "nan",
         "translate": "nan",
         "trans_src": "nan",
         "trans_dest": "nan",
         "_deepnote_index_column": 1
        },
        {
         "id": 1523478947115139000,
         "conversation_id": 1523478947115139000,
         "created_at": "2022-05-08 22:44:20 -03",
         "date": "2022-05-08",
         "time": "22:44:20",
         "timezone": -300,
         "user_id": 1452730505787551700,
         "username": "ideallyanews",
         "name": "IdeallyaNews",
         "place": "nan",
         "tweet": "UK Health Safety Authority: No evidence linking childhood hepatitis of unknown etiology to COVID-19 vaccine - #childhood #health #safety #uk  https://t.co/tgVOtRdnGE",
         "language": "en",
         "mentions": "[]",
         "urls": "['https://ideallya.github.io/news/MT/Q5MDMyMjUxODg1OTAwMjI5NjA3NjE3NDU2Njg5ODc2MzY1NzE1.html']",
         "photos": "[]",
         "replies_count": 0,
         "retweets_count": 0,
         "likes_count": 0,
         "hashtags": "['childhood', 'health', 'safety', 'uk']",
         "cashtags": "[]",
         "link": "https://twitter.com/IdeallyaNews/status/1523478947115139072",
         "retweet": false,
         "quote_url": "nan",
         "video": 0,
         "thumbnail": "nan",
         "near": "nan",
         "geo": "nan",
         "source": "nan",
         "user_rt_id": "nan",
         "user_rt": "nan",
         "retweet_id": "nan",
         "reply_to": "[]",
         "retweet_date": "nan",
         "translate": "nan",
         "trans_src": "nan",
         "trans_dest": "nan",
         "_deepnote_index_column": 2
        }
       ]
      },
      "text/plain": "                    id      conversation_id               created_at  \\\n0  1523479063272525824  1523479063272525824  2022-05-08 22:44:48 -03   \n1  1523479009694158848  1523418175878037504  2022-05-08 22:44:35 -03   \n2  1523478947115139072  1523478947115139072  2022-05-08 22:44:20 -03   \n\n         date      time  timezone              user_id        username  \\\n0  2022-05-08  22:44:48      -300             49024508    onionweigher   \n1  2022-05-08  22:44:35      -300           2726837169  griffinjones25   \n2  2022-05-08  22:44:20      -300  1452730505787551750    ideallyanews   \n\n                name place  ... geo source user_rt_id user_rt retweet_id  \\\n0  Onion Weigher 🧅⚖️   NaN  ... NaN    NaN        NaN     NaN        NaN   \n1                 GJ   NaN  ... NaN    NaN        NaN     NaN        NaN   \n2       IdeallyaNews   NaN  ... NaN    NaN        NaN     NaN        NaN   \n\n                                            reply_to  retweet_date  translate  \\\n0                                                 []           NaN        NaN   \n1  [{'screen_name': 'stargazeruk7', 'name': 'Nata...           NaN        NaN   \n2                                                 []           NaN        NaN   \n\n  trans_src trans_dest  \n0       NaN        NaN  \n1       NaN        NaN  \n2       NaN        NaN  \n\n[3 rows x 36 columns]",
      "text/html": "<div>\n<style scoped>\n    .dataframe tbody tr th:only-of-type {\n        vertical-align: middle;\n    }\n\n    .dataframe tbody tr th {\n        vertical-align: top;\n    }\n\n    .dataframe thead th {\n        text-align: right;\n    }\n</style>\n<table border=\"1\" class=\"dataframe\">\n  <thead>\n    <tr style=\"text-align: right;\">\n      <th></th>\n      <th>id</th>\n      <th>conversation_id</th>\n      <th>created_at</th>\n      <th>date</th>\n      <th>time</th>\n      <th>timezone</th>\n      <th>user_id</th>\n      <th>username</th>\n      <th>name</th>\n      <th>place</th>\n      <th>...</th>\n      <th>geo</th>\n      <th>source</th>\n      <th>user_rt_id</th>\n      <th>user_rt</th>\n      <th>retweet_id</th>\n      <th>reply_to</th>\n      <th>retweet_date</th>\n      <th>translate</th>\n      <th>trans_src</th>\n      <th>trans_dest</th>\n    </tr>\n  </thead>\n  <tbody>\n    <tr>\n      <th>0</th>\n      <td>1523479063272525824</td>\n      <td>1523479063272525824</td>\n      <td>2022-05-08 22:44:48 -03</td>\n      <td>2022-05-08</td>\n      <td>22:44:48</td>\n      <td>-300</td>\n      <td>49024508</td>\n      <td>onionweigher</td>\n      <td>Onion Weigher 🧅⚖️</td>\n      <td>NaN</td>\n      <td>...</td>\n      <td>NaN</td>\n      <td>NaN</td>\n      <td>NaN</td>\n      <td>NaN</td>\n      <td>NaN</td>\n      <td>[]</td>\n      <td>NaN</td>\n      <td>NaN</td>\n      <td>NaN</td>\n      <td>NaN</td>\n    </tr>\n    <tr>\n      <th>1</th>\n      <td>1523479009694158848</td>\n      <td>1523418175878037504</td>\n      <td>2022-05-08 22:44:35 -03</td>\n      <td>2022-05-08</td>\n      <td>22:44:35</td>\n      <td>-300</td>\n      <td>2726837169</td>\n      <td>griffinjones25</td>\n      <td>GJ</td>\n      <td>NaN</td>\n      <td>...</td>\n      <td>NaN</td>\n      <td>NaN</td>\n      <td>NaN</td>\n      <td>NaN</td>\n      <td>NaN</td>\n      <td>[{'screen_name': 'stargazeruk7', 'name': 'Nata...</td>\n      <td>NaN</td>\n      <td>NaN</td>\n      <td>NaN</td>\n      <td>NaN</td>\n    </tr>\n    <tr>\n      <th>2</th>\n      <td>1523478947115139072</td>\n      <td>1523478947115139072</td>\n      <td>2022-05-08 22:44:20 -03</td>\n      <td>2022-05-08</td>\n      <td>22:44:20</td>\n      <td>-300</td>\n      <td>1452730505787551750</td>\n      <td>ideallyanews</td>\n      <td>IdeallyaNews</td>\n      <td>NaN</td>\n      <td>...</td>\n      <td>NaN</td>\n      <td>NaN</td>\n      <td>NaN</td>\n      <td>NaN</td>\n      <td>NaN</td>\n      <td>[]</td>\n      <td>NaN</td>\n      <td>NaN</td>\n      <td>NaN</td>\n      <td>NaN</td>\n    </tr>\n  </tbody>\n</table>\n<p>3 rows × 36 columns</p>\n</div>"
     },
     "metadata": {}
    }
   ]
  },
  {
   "cell_type": "code",
   "source": "",
   "metadata": {
    "cell_id": "59fce869e40a41588eab342d7fdad109",
    "deepnote_cell_type": "visualization"
   },
   "execution_count": null,
   "outputs": []
  },
  {
   "cell_type": "code",
   "source": "",
   "metadata": {
    "cell_id": "fe048afe818d4f32a5922ff21e9ee6bd",
    "deepnote_cell_type": "visualization"
   },
   "execution_count": null,
   "outputs": []
  },
  {
   "cell_type": "code",
   "metadata": {
    "executionInfo": {
     "elapsed": 528,
     "status": "ok",
     "timestamp": 1657158608228,
     "user": {
      "displayName": "William Wallace",
      "userId": "02462327362597608294"
     },
     "user_tz": 180
    },
    "id": "3ASIkNHCgpIJ",
    "cell_id": "00009-71400bb8-e405-4964-9326-381e79282bcc",
    "deepnote_to_be_reexecuted": false,
    "source_hash": "50c6b1e6",
    "execution_start": 1657490852515,
    "execution_millis": 48,
    "deepnote_cell_type": "code",
    "deepnote_cell_height": 117
   },
   "source": "# A los fines exclusivos de este trabajo eliminamos columnas con datos nulos\n\ndf.dropna(axis = 1, inplace=True)",
   "execution_count": null,
   "outputs": []
  },
  {
   "cell_type": "code",
   "metadata": {
    "colab": {
     "base_uri": "https://localhost:8080/"
    },
    "executionInfo": {
     "elapsed": 12,
     "status": "ok",
     "timestamp": 1657158610782,
     "user": {
      "displayName": "William Wallace",
      "userId": "02462327362597608294"
     },
     "user_tz": 180
    },
    "id": "IjedSpLLhl-i",
    "outputId": "d5e769ee-0b46-4b11-d081-34c8f47732d7",
    "cell_id": "00010-efdefd14-3a15-4ac7-a28e-8a6e53a75709",
    "deepnote_to_be_reexecuted": false,
    "source_hash": "8ec8c9d6",
    "execution_start": 1657490852566,
    "execution_millis": 40,
    "deepnote_cell_type": "code",
    "deepnote_cell_height": 713.4375
   },
   "source": "# Comprobación del cleaning\n\ndf.info()",
   "execution_count": null,
   "outputs": [
    {
     "name": "stdout",
     "text": "<class 'pandas.core.frame.DataFrame'>\nRangeIndex: 50002 entries, 0 to 50001\nData columns (total 22 columns):\n #   Column           Non-Null Count  Dtype \n---  ------           --------------  ----- \n 0   id               50002 non-null  int64 \n 1   conversation_id  50002 non-null  int64 \n 2   created_at       50002 non-null  object\n 3   date             50002 non-null  object\n 4   time             50002 non-null  object\n 5   timezone         50002 non-null  int64 \n 6   user_id          50002 non-null  int64 \n 7   username         50002 non-null  object\n 8   tweet            50002 non-null  object\n 9   language         50002 non-null  object\n 10  mentions         50002 non-null  object\n 11  urls             50002 non-null  object\n 12  photos           50002 non-null  object\n 13  replies_count    50002 non-null  int64 \n 14  retweets_count   50002 non-null  int64 \n 15  likes_count      50002 non-null  int64 \n 16  hashtags         50002 non-null  object\n 17  cashtags         50002 non-null  object\n 18  link             50002 non-null  object\n 19  retweet          50002 non-null  bool  \n 20  video            50002 non-null  int64 \n 21  reply_to         50002 non-null  object\ndtypes: bool(1), int64(8), object(13)\nmemory usage: 8.1+ MB\n",
     "output_type": "stream"
    }
   ]
  },
  {
   "cell_type": "code",
   "metadata": {
    "colab": {
     "base_uri": "https://localhost:8080/",
     "height": 344
    },
    "executionInfo": {
     "elapsed": 23,
     "status": "ok",
     "timestamp": 1657158660339,
     "user": {
      "displayName": "William Wallace",
      "userId": "02462327362597608294"
     },
     "user_tz": 180
    },
    "id": "57AUJV6zf7kE",
    "outputId": "7215f7e0-2b27-427f-bba8-c64d3cba476f",
    "cell_id": "00011-d3ec0fa1-b8de-4a42-9dda-580880813a96",
    "deepnote_to_be_reexecuted": false,
    "source_hash": "ed6e0078",
    "execution_start": 1657490852613,
    "execution_millis": 56,
    "deepnote_cell_type": "code",
    "deepnote_cell_height": 569
   },
   "source": "#Visualizamos datos estadisiticos de las variables numéricas\n\ndf.describe().T",
   "execution_count": null,
   "outputs": [
    {
     "output_type": "execute_result",
     "execution_count": 9,
     "data": {
      "application/vnd.deepnote.dataframe.v3+json": {
       "column_count": 8,
       "row_count": 8,
       "columns": [
        {
         "name": "count",
         "dtype": "float64",
         "stats": {
          "unique_count": 1,
          "nan_count": 0,
          "min": "50002.0",
          "max": "50002.0",
          "histogram": [
           {
            "bin_start": 50001.5,
            "bin_end": 50001.6,
            "count": 0
           },
           {
            "bin_start": 50001.6,
            "bin_end": 50001.7,
            "count": 0
           },
           {
            "bin_start": 50001.7,
            "bin_end": 50001.8,
            "count": 0
           },
           {
            "bin_start": 50001.8,
            "bin_end": 50001.9,
            "count": 0
           },
           {
            "bin_start": 50001.9,
            "bin_end": 50002,
            "count": 0
           },
           {
            "bin_start": 50002,
            "bin_end": 50002.1,
            "count": 8
           },
           {
            "bin_start": 50002.1,
            "bin_end": 50002.2,
            "count": 0
           },
           {
            "bin_start": 50002.2,
            "bin_end": 50002.3,
            "count": 0
           },
           {
            "bin_start": 50002.3,
            "bin_end": 50002.4,
            "count": 0
           },
           {
            "bin_start": 50002.4,
            "bin_end": 50002.5,
            "count": 0
           }
          ]
         }
        },
        {
         "name": "mean",
         "dtype": "float64",
         "stats": {
          "unique_count": 8,
          "nan_count": 0,
          "min": "-300.0",
          "max": "1.5220544572237747e+18",
          "histogram": [
           {
            "bin_start": -300,
            "bin_end": 152205445722377200,
            "count": 5
           },
           {
            "bin_start": 152205445722377200,
            "bin_end": 304410891444754700,
            "count": 0
           },
           {
            "bin_start": 304410891444754700,
            "bin_end": 456616337167132200,
            "count": 0
           },
           {
            "bin_start": 456616337167132200,
            "bin_end": 608821782889509800,
            "count": 1
           },
           {
            "bin_start": 608821782889509800,
            "bin_end": 761027228611887200,
            "count": 0
           },
           {
            "bin_start": 761027228611887200,
            "bin_end": 913232674334264800,
            "count": 0
           },
           {
            "bin_start": 913232674334264800,
            "bin_end": 1065438120056642300,
            "count": 0
           },
           {
            "bin_start": 1065438120056642300,
            "bin_end": 1217643565779019800,
            "count": 0
           },
           {
            "bin_start": 1217643565779019800,
            "bin_end": 1369849011501397200,
            "count": 0
           },
           {
            "bin_start": 1369849011501397200,
            "bin_end": 1522054457223774700,
            "count": 2
           }
          ]
         }
        },
        {
         "name": "std",
         "dtype": "float64",
         "stats": {
          "unique_count": 8,
          "nan_count": 0,
          "min": "0.0",
          "max": "6.42099655553467e+17",
          "histogram": [
           {
            "bin_start": 0,
            "bin_end": 64209965555346700,
            "count": 7
           },
           {
            "bin_start": 64209965555346700,
            "bin_end": 128419931110693400,
            "count": 0
           },
           {
            "bin_start": 128419931110693400,
            "bin_end": 192629896666040130,
            "count": 0
           },
           {
            "bin_start": 192629896666040130,
            "bin_end": 256839862221386800,
            "count": 0
           },
           {
            "bin_start": 256839862221386800,
            "bin_end": 321049827776733500,
            "count": 0
           },
           {
            "bin_start": 321049827776733500,
            "bin_end": 385259793332080260,
            "count": 0
           },
           {
            "bin_start": 385259793332080260,
            "bin_end": 449469758887426940,
            "count": 0
           },
           {
            "bin_start": 449469758887426940,
            "bin_end": 513679724442773600,
            "count": 0
           },
           {
            "bin_start": 513679724442773600,
            "bin_end": 577889689998120300,
            "count": 0
           },
           {
            "bin_start": 577889689998120300,
            "bin_end": 642099655553467000,
            "count": 1
           }
          ]
         }
        },
        {
         "name": "min",
         "dtype": "float64",
         "stats": {
          "unique_count": 5,
          "nan_count": 0,
          "min": "-300.0",
          "max": "1.520368347950588e+18",
          "histogram": [
           {
            "bin_start": -300,
            "bin_end": 152036834795058530,
            "count": 6
           },
           {
            "bin_start": 152036834795058530,
            "bin_end": 304073669590117300,
            "count": 1
           },
           {
            "bin_start": 304073669590117300,
            "bin_end": 456110504385176100,
            "count": 0
           },
           {
            "bin_start": 456110504385176100,
            "bin_end": 608147339180235000,
            "count": 0
           },
           {
            "bin_start": 608147339180235000,
            "bin_end": 760184173975293800,
            "count": 0
           },
           {
            "bin_start": 760184173975293800,
            "bin_end": 912221008770352600,
            "count": 0
           },
           {
            "bin_start": 912221008770352600,
            "bin_end": 1064257843565411500,
            "count": 0
           },
           {
            "bin_start": 1064257843565411500,
            "bin_end": 1216294678360470300,
            "count": 0
           },
           {
            "bin_start": 1216294678360470300,
            "bin_end": 1368331513155529000,
            "count": 0
           },
           {
            "bin_start": 1368331513155529000,
            "bin_end": 1520368347950588000,
            "count": 1
           }
          ]
         }
        },
        {
         "name": "25%",
         "dtype": "float64",
         "stats": {
          "unique_count": 5,
          "nan_count": 0,
          "min": "-300.0",
          "max": "1.5214401601537505e+18",
          "histogram": [
           {
            "bin_start": -300,
            "bin_end": 152144016015374800,
            "count": 6
           },
           {
            "bin_start": 152144016015374800,
            "bin_end": 304288032030749800,
            "count": 0
           },
           {
            "bin_start": 304288032030749800,
            "bin_end": 456432048046124860,
            "count": 0
           },
           {
            "bin_start": 456432048046124860,
            "bin_end": 608576064061500000,
            "count": 0
           },
           {
            "bin_start": 608576064061500000,
            "bin_end": 760720080076875100,
            "count": 0
           },
           {
            "bin_start": 760720080076875100,
            "bin_end": 912864096092250100,
            "count": 0
           },
           {
            "bin_start": 912864096092250100,
            "bin_end": 1065008112107625200,
            "count": 0
           },
           {
            "bin_start": 1065008112107625200,
            "bin_end": 1217152128123000300,
            "count": 0
           },
           {
            "bin_start": 1217152128123000300,
            "bin_end": 1369296144138375400,
            "count": 0
           },
           {
            "bin_start": 1369296144138375400,
            "bin_end": 1521440160153750500,
            "count": 2
           }
          ]
         }
        },
        {
         "name": "50%",
         "dtype": "float64",
         "stats": {
          "unique_count": 5,
          "nan_count": 0,
          "min": "-300.0",
          "max": "1.522193293160876e+18",
          "histogram": [
           {
            "bin_start": -300,
            "bin_end": 152219329316087330,
            "count": 6
           },
           {
            "bin_start": 152219329316087330,
            "bin_end": 304438658632174900,
            "count": 0
           },
           {
            "bin_start": 304438658632174900,
            "bin_end": 456657987948262500,
            "count": 0
           },
           {
            "bin_start": 456657987948262500,
            "bin_end": 608877317264350200,
            "count": 0
           },
           {
            "bin_start": 608877317264350200,
            "bin_end": 761096646580437800,
            "count": 0
           },
           {
            "bin_start": 761096646580437800,
            "bin_end": 913315975896525400,
            "count": 0
           },
           {
            "bin_start": 913315975896525400,
            "bin_end": 1065535305212613100,
            "count": 0
           },
           {
            "bin_start": 1065535305212613100,
            "bin_end": 1217754634528700700,
            "count": 0
           },
           {
            "bin_start": 1217754634528700700,
            "bin_end": 1369973963844788200,
            "count": 0
           },
           {
            "bin_start": 1369973963844788200,
            "bin_end": 1522193293160876000,
            "count": 2
           }
          ]
         }
        },
        {
         "name": "75%",
         "dtype": "float64",
         "stats": {
          "unique_count": 7,
          "nan_count": 0,
          "min": "-300.0",
          "max": "1.5226879051158446e+18",
          "histogram": [
           {
            "bin_start": -300,
            "bin_end": 152268790511584200,
            "count": 5
           },
           {
            "bin_start": 152268790511584200,
            "bin_end": 304537581023168640,
            "count": 0
           },
           {
            "bin_start": 304537581023168640,
            "bin_end": 456806371534753100,
            "count": 0
           },
           {
            "bin_start": 456806371534753100,
            "bin_end": 609075162046337700,
            "count": 0
           },
           {
            "bin_start": 609075162046337700,
            "bin_end": 761343952557922200,
            "count": 0
           },
           {
            "bin_start": 761343952557922200,
            "bin_end": 913612743069506600,
            "count": 0
           },
           {
            "bin_start": 913612743069506600,
            "bin_end": 1065881533581091100,
            "count": 0
           },
           {
            "bin_start": 1065881533581091100,
            "bin_end": 1218150324092675600,
            "count": 0
           },
           {
            "bin_start": 1218150324092675600,
            "bin_end": 1370419114604260000,
            "count": 1
           },
           {
            "bin_start": 1370419114604260000,
            "bin_end": 1522687905115844600,
            "count": 2
           }
          ]
         }
        },
        {
         "name": "max",
         "dtype": "float64",
         "stats": {
          "unique_count": 7,
          "nan_count": 0,
          "min": "-300.0",
          "max": "1.5234790632725258e+18",
          "histogram": [
           {
            "bin_start": -300,
            "bin_end": 152347906327252320,
            "count": 5
           },
           {
            "bin_start": 152347906327252320,
            "bin_end": 304695812654504900,
            "count": 0
           },
           {
            "bin_start": 304695812654504900,
            "bin_end": 457043718981757500,
            "count": 0
           },
           {
            "bin_start": 457043718981757500,
            "bin_end": 609391625309010200,
            "count": 0
           },
           {
            "bin_start": 609391625309010200,
            "bin_end": 761739531636262800,
            "count": 0
           },
           {
            "bin_start": 761739531636262800,
            "bin_end": 914087437963515400,
            "count": 0
           },
           {
            "bin_start": 914087437963515400,
            "bin_end": 1066435344290768000,
            "count": 0
           },
           {
            "bin_start": 1066435344290768000,
            "bin_end": 1218783250618020600,
            "count": 0
           },
           {
            "bin_start": 1218783250618020600,
            "bin_end": 1371131156945273000,
            "count": 0
           },
           {
            "bin_start": 1371131156945273000,
            "bin_end": 1523479063272525800,
            "count": 3
           }
          ]
         }
        },
        {
         "name": "_deepnote_index_column",
         "dtype": "object"
        }
       ],
       "rows": [
        {
         "count": 50002,
         "mean": 1522054457223774700,
         "std": 803458782700555.2,
         "min": 1520368347950588000,
         "25%": 1521440160153750500,
         "50%": 1522193293160876000,
         "75%": 1522687905115844600,
         "max": 1523479063272525800,
         "_deepnote_index_column": "id"
        },
        {
         "count": 50002,
         "mean": 1521546678172662500,
         "std": 12567033300276296,
         "min": 286220930827563000,
         "25%": 1521365889871049700,
         "50%": 1522162372017875000,
         "75%": 1522656446152998000,
         "max": 1523479063272525800,
         "_deepnote_index_column": "conversation_id"
        },
        {
         "count": 50002,
         "mean": -300,
         "std": 0,
         "min": -300,
         "25%": -300,
         "50%": -300,
         "75%": -300,
         "max": -300,
         "_deepnote_index_column": "timezone"
        },
        {
         "count": 50002,
         "mean": 599926563919342500,
         "std": 642099655553467000,
         "min": 3832,
         "25%": 236770150,
         "50%": 3350943234,
         "75%": 1290403310419222500,
         "max": 1523235262490361900,
         "_deepnote_index_column": "user_id"
        },
        {
         "count": 50002,
         "mean": 0.9941802327906883,
         "std": 11.215326587217408,
         "min": 0,
         "25%": 0,
         "50%": 0,
         "75%": 1,
         "max": 1318,
         "_deepnote_index_column": "replies_count"
        },
        {
         "count": 50002,
         "mean": 6.148414063437462,
         "std": 206.5349900097868,
         "min": 0,
         "25%": 0,
         "50%": 0,
         "75%": 1,
         "max": 28310,
         "_deepnote_index_column": "retweets_count"
        },
        {
         "count": 50002,
         "mean": 19.478360865565378,
         "std": 599.2171380377556,
         "min": 0,
         "25%": 0,
         "50%": 0,
         "75%": 2,
         "max": 78354,
         "_deepnote_index_column": "likes_count"
        },
        {
         "count": 50002,
         "mean": 0.1500339986400544,
         "std": 0.3571083145448729,
         "min": 0,
         "25%": 0,
         "50%": 0,
         "75%": 0,
         "max": 1,
         "_deepnote_index_column": "video"
        }
       ]
      },
      "text/plain": "                   count          mean           std           min  \\\nid               50002.0  1.522054e+18  8.034588e+14  1.520368e+18   \nconversation_id  50002.0  1.521547e+18  1.256703e+16  2.862209e+17   \ntimezone         50002.0 -3.000000e+02  0.000000e+00 -3.000000e+02   \nuser_id          50002.0  5.999266e+17  6.420997e+17  3.832000e+03   \nreplies_count    50002.0  9.941802e-01  1.121533e+01  0.000000e+00   \nretweets_count   50002.0  6.148414e+00  2.065350e+02  0.000000e+00   \nlikes_count      50002.0  1.947836e+01  5.992171e+02  0.000000e+00   \nvideo            50002.0  1.500340e-01  3.571083e-01  0.000000e+00   \n\n                          25%           50%           75%           max  \nid               1.521440e+18  1.522193e+18  1.522688e+18  1.523479e+18  \nconversation_id  1.521366e+18  1.522162e+18  1.522656e+18  1.523479e+18  \ntimezone        -3.000000e+02 -3.000000e+02 -3.000000e+02 -3.000000e+02  \nuser_id          2.367702e+08  3.350943e+09  1.290403e+18  1.523235e+18  \nreplies_count    0.000000e+00  0.000000e+00  1.000000e+00  1.318000e+03  \nretweets_count   0.000000e+00  0.000000e+00  1.000000e+00  2.831000e+04  \nlikes_count      0.000000e+00  0.000000e+00  2.000000e+00  7.835400e+04  \nvideo            0.000000e+00  0.000000e+00  0.000000e+00  1.000000e+00  ",
      "text/html": "<div>\n<style scoped>\n    .dataframe tbody tr th:only-of-type {\n        vertical-align: middle;\n    }\n\n    .dataframe tbody tr th {\n        vertical-align: top;\n    }\n\n    .dataframe thead th {\n        text-align: right;\n    }\n</style>\n<table border=\"1\" class=\"dataframe\">\n  <thead>\n    <tr style=\"text-align: right;\">\n      <th></th>\n      <th>count</th>\n      <th>mean</th>\n      <th>std</th>\n      <th>min</th>\n      <th>25%</th>\n      <th>50%</th>\n      <th>75%</th>\n      <th>max</th>\n    </tr>\n  </thead>\n  <tbody>\n    <tr>\n      <th>id</th>\n      <td>50002.0</td>\n      <td>1.522054e+18</td>\n      <td>8.034588e+14</td>\n      <td>1.520368e+18</td>\n      <td>1.521440e+18</td>\n      <td>1.522193e+18</td>\n      <td>1.522688e+18</td>\n      <td>1.523479e+18</td>\n    </tr>\n    <tr>\n      <th>conversation_id</th>\n      <td>50002.0</td>\n      <td>1.521547e+18</td>\n      <td>1.256703e+16</td>\n      <td>2.862209e+17</td>\n      <td>1.521366e+18</td>\n      <td>1.522162e+18</td>\n      <td>1.522656e+18</td>\n      <td>1.523479e+18</td>\n    </tr>\n    <tr>\n      <th>timezone</th>\n      <td>50002.0</td>\n      <td>-3.000000e+02</td>\n      <td>0.000000e+00</td>\n      <td>-3.000000e+02</td>\n      <td>-3.000000e+02</td>\n      <td>-3.000000e+02</td>\n      <td>-3.000000e+02</td>\n      <td>-3.000000e+02</td>\n    </tr>\n    <tr>\n      <th>user_id</th>\n      <td>50002.0</td>\n      <td>5.999266e+17</td>\n      <td>6.420997e+17</td>\n      <td>3.832000e+03</td>\n      <td>2.367702e+08</td>\n      <td>3.350943e+09</td>\n      <td>1.290403e+18</td>\n      <td>1.523235e+18</td>\n    </tr>\n    <tr>\n      <th>replies_count</th>\n      <td>50002.0</td>\n      <td>9.941802e-01</td>\n      <td>1.121533e+01</td>\n      <td>0.000000e+00</td>\n      <td>0.000000e+00</td>\n      <td>0.000000e+00</td>\n      <td>1.000000e+00</td>\n      <td>1.318000e+03</td>\n    </tr>\n    <tr>\n      <th>retweets_count</th>\n      <td>50002.0</td>\n      <td>6.148414e+00</td>\n      <td>2.065350e+02</td>\n      <td>0.000000e+00</td>\n      <td>0.000000e+00</td>\n      <td>0.000000e+00</td>\n      <td>1.000000e+00</td>\n      <td>2.831000e+04</td>\n    </tr>\n    <tr>\n      <th>likes_count</th>\n      <td>50002.0</td>\n      <td>1.947836e+01</td>\n      <td>5.992171e+02</td>\n      <td>0.000000e+00</td>\n      <td>0.000000e+00</td>\n      <td>0.000000e+00</td>\n      <td>2.000000e+00</td>\n      <td>7.835400e+04</td>\n    </tr>\n    <tr>\n      <th>video</th>\n      <td>50002.0</td>\n      <td>1.500340e-01</td>\n      <td>3.571083e-01</td>\n      <td>0.000000e+00</td>\n      <td>0.000000e+00</td>\n      <td>0.000000e+00</td>\n      <td>0.000000e+00</td>\n      <td>1.000000e+00</td>\n    </tr>\n  </tbody>\n</table>\n</div>"
     },
     "metadata": {}
    }
   ]
  },
  {
   "cell_type": "code",
   "metadata": {
    "colab": {
     "base_uri": "https://localhost:8080/",
     "height": 49,
     "referenced_widgets": [
      "116aafc0485b4678a2b62ca272f5a51b",
      "2e18ce614d2c4f52a3032232771badb0",
      "bad795f5828e4e63b4638b7f27030ed2",
      "e9bb6a91e6ee422caa36762c25389e4a",
      "5f8fb265cd634d07bd8f97b4299ee641",
      "14c32c0465ae4f5db10c5c8b37f6dccf",
      "b9cb6743e5344366a192f9e40dd4ba7e",
      "33662001569f4f258c951fdad342b635",
      "1dbffe7e329344ea8e60e0512dfcef1e",
      "7cbe6e20bebe4bbb849e9aa3a5f5c0a3",
      "95828d889d534733a272a5f49ad9f39e"
     ]
    },
    "id": "dHlrghZGj-Xo",
    "executionInfo": {
     "status": "ok",
     "timestamp": 1657158716971,
     "user_tz": 180,
     "elapsed": 12936,
     "user": {
      "displayName": "William Wallace",
      "userId": "02462327362597608294"
     }
    },
    "outputId": "464690b8-87a6-45eb-f0fa-37b6b0d22886",
    "cell_id": "00012-222d2e89-fe2a-4e82-8947-887e30908f4e",
    "deepnote_to_be_reexecuted": false,
    "source_hash": "967fec24",
    "execution_start": 1657490852671,
    "execution_millis": 11182,
    "deepnote_cell_type": "code",
    "deepnote_cell_height": 159.796875
   },
   "source": "# sweetviz es un paquete de análisis exploratorio automático, una alternativa a pandas-profiling\nimport sweetviz as sv\n\n#analyzaremos el dataset\nadvert_report = sv.analyze(df)",
   "execution_count": null,
   "outputs": [
    {
     "data": {
      "text/plain": "                                             |          | [  0%]   00:00 -> (? left)",
      "application/vnd.jupyter.widget-view+json": {
       "version_major": 2,
       "version_minor": 0,
       "model_id": "44a09cbed5d244919f2562ec6f6dae79"
      }
     },
     "metadata": {},
     "output_type": "display_data"
    }
   ]
  },
  {
   "cell_type": "code",
   "metadata": {
    "colab": {
     "base_uri": "https://localhost:8080/"
    },
    "id": "CwAR_GpOkpGw",
    "executionInfo": {
     "status": "ok",
     "timestamp": 1657158721394,
     "user_tz": 180,
     "elapsed": 979,
     "user": {
      "displayName": "William Wallace",
      "userId": "02462327362597608294"
     }
    },
    "outputId": "944dc701-9b6d-4e9b-e554-4596f1ed0d41",
    "cell_id": "00013-5bfe37c6-6f7a-474a-85bf-0502b307e8bf",
    "deepnote_to_be_reexecuted": false,
    "source_hash": "3cc2d10e",
    "execution_start": 1657490863899,
    "execution_millis": 180,
    "deepnote_cell_type": "code",
    "deepnote_cell_height": 224.1875
   },
   "source": "# El siguiente comando escribe un html con una serie de gráficos.\n# Además, intenta abrir una pestaña nueva.\n# Si ésto no sucede entonces deberán ejecutar manualmente el archivo.\n# Para eso, si están en Google Colab deberán descargar el archivo\n# y luego darle doble clic al archivo en su computadora.\n\nadvert_report.show_html('df.html')",
   "execution_count": null,
   "outputs": [
    {
     "name": "stdout",
     "text": "Report df.html was generated! NOTEBOOK/COLAB USERS: the web browser MAY not pop up, regardless, the report IS saved in your notebook/colab files.\n",
     "output_type": "stream"
    }
   ]
  },
  {
   "cell_type": "code",
   "metadata": {
    "colab": {
     "base_uri": "https://localhost:8080/",
     "height": 827
    },
    "executionInfo": {
     "elapsed": 2111,
     "status": "ok",
     "timestamp": 1657158879025,
     "user": {
      "displayName": "William Wallace",
      "userId": "02462327362597608294"
     },
     "user_tz": 180
    },
    "id": "_4wE8z1OgXwk",
    "outputId": "050f6f88-6128-4762-d737-934ac93ea1eb",
    "cell_id": "00014-78c47611-efc2-444b-957c-3cfc6929523b",
    "deepnote_to_be_reexecuted": false,
    "source_hash": "d11a46a2",
    "execution_start": 1657490864082,
    "execution_millis": 807,
    "deepnote_cell_type": "code",
    "deepnote_cell_height": 816,
    "deepnote_output_heights": [
     611
    ]
   },
   "source": "#Hagamos un HeatMap del df para visualizar correlaciones\n\nplt.rcParams['figure.figsize'] = (20, 15)\n\nsns.heatmap(df.corr(), annot = True, cmap = 'Wistia')\nplt.title('Heatmap for the Dataset', fontsize = 20)\nplt.show()",
   "execution_count": null,
   "outputs": [
    {
     "data": {
      "text/plain": "<Figure size 2000x1500 with 2 Axes>",
      "image/png": "[encoded data removed]"
     },
     "metadata": {
      "image/png": {
       "width": 1439,
       "height": 1201
      }
     },
     "output_type": "display_data"
    }
   ]
  },
  {
   "cell_type": "code",
   "metadata": {
    "colab": {
     "base_uri": "https://localhost:8080/",
     "height": 534
    },
    "executionInfo": {
     "elapsed": 633,
     "status": "ok",
     "timestamp": 1657147405067,
     "user": {
      "displayName": "William Wallace",
      "userId": "02462327362597608294"
     },
     "user_tz": 180
    },
    "id": "2kTdDuV83fWl",
    "outputId": "cd6a6c65-084a-4b2f-ceb4-08fae1abf46b",
    "cell_id": "00015-604ca420-448f-4f10-8f09-184ec4c20b0f",
    "deepnote_to_be_reexecuted": false,
    "source_hash": "db9623d4",
    "execution_start": 1657490864590,
    "execution_millis": 343,
    "deepnote_cell_type": "code",
    "deepnote_cell_height": 760,
    "deepnote_output_heights": [
     519
    ]
   },
   "source": "#Correlaciones según la matriz con mascara\n\nplt.figure(dpi = 120,figsize= (5,4))\nmask = np.triu(np.ones_like(df.corr(),dtype = bool))\nsns.heatmap(df.corr(),mask = mask, fmt = \".2f\",annot=True,lw=1,cmap = 'plasma')\nplt.yticks(rotation = 0)\nplt.xticks(rotation = 90)\nplt.title('Correlation Heatmap')\nplt.show()",
   "execution_count": null,
   "outputs": [
    {
     "data": {
      "text/plain": "<Figure size 600x480 with 2 Axes>",
      "image/png": "[encoded data removed]"
     },
     "metadata": {
      "image/png": {
       "width": 574,
       "height": 517
      }
     },
     "output_type": "display_data"
    }
   ]
  },
  {
   "cell_type": "code",
   "metadata": {
    "colab": {
     "base_uri": "https://localhost:8080/"
    },
    "executionInfo": {
     "elapsed": 452,
     "status": "ok",
     "timestamp": 1657158932979,
     "user": {
      "displayName": "William Wallace",
      "userId": "02462327362597608294"
     },
     "user_tz": 180
    },
    "id": "dSWntKzlj5pa",
    "outputId": "21ef7f6f-b1bd-469f-93be-11f5b0f726df",
    "cell_id": "00016-a7aeb2ce-ae6f-450b-8466-fd763b2d35e1",
    "deepnote_to_be_reexecuted": false,
    "source_hash": "2c1e7dfd",
    "execution_start": 1657490864905,
    "execution_millis": 29,
    "deepnote_cell_type": "code",
    "deepnote_cell_height": 231
   },
   "source": "# Visualizamos columnas para trabajar con ellas\n\ndf.columns",
   "execution_count": null,
   "outputs": [
    {
     "output_type": "execute_result",
     "execution_count": 14,
     "data": {
      "text/plain": "Index(['id', 'conversation_id', 'created_at', 'date', 'time', 'timezone',\n       'user_id', 'username', 'tweet', 'language', 'mentions', 'urls',\n       'photos', 'replies_count', 'retweets_count', 'likes_count', 'hashtags',\n       'cashtags', 'link', 'retweet', 'video', 'reply_to'],\n      dtype='object')"
     },
     "metadata": {}
    }
   ]
  },
  {
   "cell_type": "code",
   "metadata": {
    "executionInfo": {
     "elapsed": 445,
     "status": "ok",
     "timestamp": 1657158947629,
     "user": {
      "displayName": "William Wallace",
      "userId": "02462327362597608294"
     },
     "user_tz": 180
    },
    "id": "hNbGPSl9ycA_",
    "cell_id": "00017-b9154364-599e-4a22-8928-2f2cc8d731ac",
    "deepnote_to_be_reexecuted": false,
    "source_hash": "1936122b",
    "execution_start": 1657490864911,
    "execution_millis": 3,
    "deepnote_cell_type": "code",
    "deepnote_cell_height": 153
   },
   "source": "#Visualizaremos un scaterplot con la variables más correlacionadas\n#Por cuestiones de memoria vamos a trabajar con las 3 columnas más correlacionadas\n#y, además con un sample del 5%\n\ncorr = df[['replies_count', 'retweets_count', 'likes_count']]",
   "execution_count": null,
   "outputs": []
  },
  {
   "cell_type": "code",
   "metadata": {
    "id": "swPFdUcAstGR",
    "executionInfo": {
     "status": "ok",
     "timestamp": 1657158969726,
     "user_tz": 180,
     "elapsed": 454,
     "user": {
      "displayName": "William Wallace",
      "userId": "02462327362597608294"
     }
    },
    "cell_id": "00018-b31fff2f-24d3-43d8-8a0c-d98d2dd223f4",
    "deepnote_to_be_reexecuted": false,
    "source_hash": "e36d4541",
    "execution_start": 1657490864917,
    "execution_millis": 4,
    "deepnote_cell_type": "code",
    "deepnote_cell_height": 117
   },
   "source": "# Sampleamos el 5% aleatorio\n\ncorr = corr.sample(frac=0.05)",
   "execution_count": null,
   "outputs": []
  },
  {
   "cell_type": "code",
   "metadata": {
    "colab": {
     "base_uri": "https://localhost:8080/"
    },
    "id": "L6gtOd6AtXUR",
    "executionInfo": {
     "status": "ok",
     "timestamp": 1657158971564,
     "user_tz": 180,
     "elapsed": 476,
     "user": {
      "displayName": "William Wallace",
      "userId": "02462327362597608294"
     }
    },
    "outputId": "effdb8e6-d6aa-4468-b78b-330efd8606b2",
    "cell_id": "00019-ad0a7d83-bc71-4e6f-b622-785150f8ba1b",
    "deepnote_to_be_reexecuted": false,
    "source_hash": "36f819af",
    "execution_start": 1657490864926,
    "execution_millis": 12,
    "deepnote_cell_type": "code",
    "deepnote_cell_height": 184.1875
   },
   "source": "# verificamos el sample\n\ncorr.shape\n\nprint('Este dataset tiene ' + str(corr.shape[0]) + ' filas, y ' + str(corr.shape[1]) + ' columnas.')",
   "execution_count": null,
   "outputs": [
    {
     "name": "stdout",
     "text": "Este dataset tiene 2500 filas, y 3 columnas.\n",
     "output_type": "stream"
    }
   ]
  },
  {
   "cell_type": "code",
   "metadata": {
    "colab": {
     "base_uri": "https://localhost:8080/",
     "height": 550
    },
    "id": "3HsNtInktDHr",
    "executionInfo": {
     "status": "ok",
     "timestamp": 1657148384279,
     "user_tz": 180,
     "elapsed": 315066,
     "user": {
      "displayName": "William Wallace",
      "userId": "02462327362597608294"
     }
    },
    "outputId": "b6e66d4d-a222-460d-ff05-1612c8febdc4",
    "cell_id": "00020-32c6b66a-9919-4657-bb12-926f8d62dd49",
    "deepnote_to_be_reexecuted": false,
    "source_hash": "a837f351",
    "execution_start": 1657490864941,
    "execution_millis": 43783,
    "deepnote_cell_type": "code",
    "deepnote_cell_height": 780,
    "deepnote_output_heights": [
     611
    ]
   },
   "source": "# Graficamos\n\nsns.pairplot(corr) \nplt.show() \n#sns.pairplot(df , size = 3 , palette = 'Set2')",
   "execution_count": null,
   "outputs": [
    {
     "data": {
      "text/plain": "<Figure size 750x750 with 12 Axes>",
      "image/png": "[encoded data removed]"
     },
     "metadata": {
      "image/png": {
       "width": 741,
       "height": 741
      }
     },
     "output_type": "display_data"
    }
   ]
  },
  {
   "cell_type": "markdown",
   "source": "Graficamos algunos pares de variables para visualizar mejor:",
   "metadata": {
    "id": "msz4tPwTwQfr",
    "cell_id": "00021-e232af03-da3e-471a-bf08-44b2fb9c67db",
    "deepnote_cell_type": "markdown",
    "deepnote_cell_height": 52.390625
   }
  },
  {
   "cell_type": "code",
   "metadata": {
    "colab": {
     "base_uri": "https://localhost:8080/",
     "height": 761
    },
    "executionInfo": {
     "elapsed": 1315,
     "status": "ok",
     "timestamp": 1657159011283,
     "user": {
      "displayName": "William Wallace",
      "userId": "02462327362597608294"
     },
     "user_tz": 180
    },
    "id": "HNHflhW7igag",
    "outputId": "0d6c5ca4-5e61-4ae9-e709-b4bf34366ed1",
    "cell_id": "00022-ab4b6f75-e4b7-46ab-917d-a91c678f416f",
    "deepnote_to_be_reexecuted": false,
    "source_hash": "5c49e4bd",
    "execution_start": 1657490908723,
    "execution_millis": 299,
    "deepnote_cell_type": "code",
    "deepnote_cell_height": 814,
    "deepnote_output_heights": [
     null,
     611
    ]
   },
   "source": "#Las variables a utilizar son: likes vs retweet\n\nsns.scatterplot(x='likes_count', y='retweets_count', data=df)\nplt.title('Relacion entre Likes y Retweets', fontsize = 20, fontweight = 30)",
   "execution_count": null,
   "outputs": [
    {
     "output_type": "execute_result",
     "execution_count": 19,
     "data": {
      "text/plain": "Text(0.5, 1.0, 'Relacion entre Likes y Retweets')"
     },
     "metadata": {}
    },
    {
     "data": {
      "text/plain": "<Figure size 2000x1500 with 1 Axes>",
      "image/png": "[encoded data removed]"
     },
     "metadata": {
      "image/png": {
       "width": 1631,
       "height": 1221
      }
     },
     "output_type": "display_data"
    }
   ]
  },
  {
   "cell_type": "code",
   "metadata": {
    "colab": {
     "base_uri": "https://localhost:8080/",
     "height": 764
    },
    "id": "tZJobnpLwsTc",
    "executionInfo": {
     "status": "ok",
     "timestamp": 1657159027753,
     "user_tz": 180,
     "elapsed": 1502,
     "user": {
      "displayName": "William Wallace",
      "userId": "02462327362597608294"
     }
    },
    "outputId": "67cabca7-b8d9-4d7c-b240-e7dac4a1a7a3",
    "cell_id": "00023-0d6a9b98-0fb7-4376-a5b4-3e8a0ec8c9fa",
    "deepnote_to_be_reexecuted": false,
    "source_hash": "591f665c",
    "execution_start": 1657490909032,
    "execution_millis": 817,
    "deepnote_cell_type": "code",
    "deepnote_cell_height": 814,
    "deepnote_output_heights": [
     null,
     611
    ]
   },
   "source": "#Las variables a utilizar son:  'likes_count' y 'replies_count'\n\nsns.scatterplot(x='likes_count', y='replies_count', data=df)\nplt.title('Relacion entre Likes y Respuestas', fontsize = 20, fontweight = 30)",
   "execution_count": null,
   "outputs": [
    {
     "output_type": "execute_result",
     "execution_count": 20,
     "data": {
      "text/plain": "Text(0.5, 1.0, 'Relacion entre Likes y Respuestas')"
     },
     "metadata": {}
    },
    {
     "data": {
      "text/plain": "<Figure size 2000x1500 with 1 Axes>",
      "image/png": "[encoded data removed]"
     },
     "metadata": {
      "image/png": {
       "width": 1624,
       "height": 1221
      }
     },
     "output_type": "display_data"
    }
   ]
  },
  {
   "cell_type": "markdown",
   "source": "Se puede ver en estos dos gráficos una concentración de usuarios que no llegan a número altos de likes y retweets, sin embargo hay pocos usuarios que sí alcanzan número altos: presuponemos que son \"influencers\" o \"bots\".",
   "metadata": {
    "id": "8xGaABtIYLs7",
    "cell_id": "00024-e57a2ad8-9dc2-4aab-9c67-0a44226ff159",
    "deepnote_cell_type": "markdown",
    "deepnote_cell_height": 74.78125
   }
  },
  {
   "cell_type": "markdown",
   "source": "## Top 10 de likes por idioma",
   "metadata": {
    "id": "ZREDZq7Oa8LG",
    "cell_id": "00025-6ddfc272-a8d8-4a49-bfd6-3f685d5f20e4",
    "deepnote_cell_type": "markdown",
    "deepnote_cell_height": 70
   }
  },
  {
   "cell_type": "code",
   "metadata": {
    "id": "FyBu4bAylwEl",
    "colab": {
     "base_uri": "https://localhost:8080/",
     "height": 738
    },
    "executionInfo": {
     "status": "ok",
     "timestamp": 1657159746398,
     "user_tz": 180,
     "elapsed": 1116,
     "user": {
      "displayName": "William Wallace",
      "userId": "02462327362597608294"
     }
    },
    "outputId": "8c338a1f-c912-4b35-e1e7-d7b1db3d66bf",
    "cell_id": "00026-214dabc4-635e-4aa1-8cd3-5d00a835c9d4",
    "deepnote_to_be_reexecuted": false,
    "source_hash": "ce2a60d9",
    "execution_start": 1657490909355,
    "execution_millis": 502,
    "deepnote_cell_type": "code",
    "deepnote_cell_height": 780,
    "deepnote_output_heights": [
     611
    ]
   },
   "source": "# Visualizamos los idiomas con más likes\n\nbar = df.groupby('language')['likes_count'].sum().sort_values(ascending=False)\nbar = bar[:10]\nax = bar.plot.bar(x='Likes', y='Idioma', rot=90)",
   "execution_count": null,
   "outputs": [
    {
     "data": {
      "text/plain": "<Figure size 2000x1500 with 1 Axes>",
      "image/png": "[encoded data removed]"
     },
     "metadata": {
      "image/png": {
       "width": 1617,
       "height": 1200
      }
     },
     "output_type": "display_data"
    }
   ]
  },
  {
   "cell_type": "markdown",
   "source": "En este cuadro podemos ver que aunque en cantidad de tweets el ranking de plublicaciones es: inglés, español e indi (se puede ver en el html que se generó más arriba). Pero en recuento de 'likes' la primera posición es para 'indi', en segundo lugar 'inglés' y en tercer lugar 'español'.",
   "metadata": {
    "id": "l17m5J1pZRf7",
    "cell_id": "00027-c220ce0c-5091-444a-8e06-c8015ef1b612",
    "deepnote_cell_type": "markdown",
    "deepnote_cell_height": 97.171875
   }
  },
  {
   "cell_type": "markdown",
   "source": "**Análisis de usuarios:**\nIntentaremos ver si hay coincidencias entre los usuarios con más likes y los usuarios que son más retweteados",
   "metadata": {
    "id": "BdJ77VWuyDs-",
    "cell_id": "00028-51a31fc5-8aae-4961-b706-4cc0a373bda2",
    "deepnote_cell_type": "markdown",
    "deepnote_cell_height": 74.78125
   }
  },
  {
   "cell_type": "markdown",
   "source": "# Top 10 de usuarios por likes",
   "metadata": {
    "id": "JUlS87SMbFgf",
    "cell_id": "00029-fa7c2ded-da91-4252-9394-ec0ba6f72f16",
    "deepnote_cell_type": "markdown",
    "deepnote_cell_height": 82
   }
  },
  {
   "cell_type": "code",
   "metadata": {
    "id": "z421Mdk9op5B",
    "executionInfo": {
     "status": "ok",
     "timestamp": 1657159661098,
     "user_tz": 180,
     "elapsed": 439,
     "user": {
      "displayName": "William Wallace",
      "userId": "02462327362597608294"
     }
    },
    "cell_id": "00030-81b50708-7367-4ce8-a746-0488d678f1bd",
    "deepnote_to_be_reexecuted": false,
    "source_hash": "70185c79",
    "execution_start": 1657490909612,
    "execution_millis": 37,
    "deepnote_cell_type": "code",
    "deepnote_cell_height": 81
   },
   "source": "bar3 = df.groupby('username')['likes_count'].sum().sort_values(ascending=False)",
   "execution_count": null,
   "outputs": []
  },
  {
   "cell_type": "code",
   "metadata": {
    "colab": {
     "base_uri": "https://localhost:8080/"
    },
    "executionInfo": {
     "elapsed": 555,
     "status": "ok",
     "timestamp": 1657159669034,
     "user": {
      "displayName": "William Wallace",
      "userId": "02462327362597608294"
     },
     "user_tz": 180
    },
    "id": "3vbqd47HrIh7",
    "outputId": "66c5b859-cbc9-4cda-deff-25f557f1398a",
    "cell_id": "00031-bd247351-b66e-4483-a1b0-6b1a3fcb8150",
    "deepnote_to_be_reexecuted": false,
    "source_hash": "147f953d",
    "execution_start": 1657490909652,
    "execution_millis": 207,
    "deepnote_cell_type": "code",
    "deepnote_cell_height": 352.25
   },
   "source": "# Para ver los más likeados\nprint(bar3[:10])",
   "execution_count": null,
   "outputs": [
    {
     "name": "stdout",
     "text": "username\nprofesorzubairi    139112\nndrewstjan          96063\ndrjamesolsson       84695\nkemenkesri          52746\nafrkml              32156\nhallidii            30616\nlisa_iannattone     11801\ntryangregory        11508\ngab_h_r             10770\n1celiagreen          9805\nName: likes_count, dtype: int64\n",
     "output_type": "stream"
    }
   ]
  },
  {
   "cell_type": "markdown",
   "source": "# Top 10 de usuarios por retweets",
   "metadata": {
    "id": "fq0Zt3IDbQcT",
    "cell_id": "00032-3dc54851-321c-415c-a24f-04e2adc24d29",
    "deepnote_cell_type": "markdown",
    "deepnote_cell_height": 82
   }
  },
  {
   "cell_type": "code",
   "metadata": {
    "id": "r8hjmVSBqse4",
    "executionInfo": {
     "status": "ok",
     "timestamp": 1657159874771,
     "user_tz": 180,
     "elapsed": 588,
     "user": {
      "displayName": "William Wallace",
      "userId": "02462327362597608294"
     }
    },
    "cell_id": "00033-c49e8bd2-9b11-4953-9a99-f825b0fcf2c1",
    "deepnote_to_be_reexecuted": false,
    "source_hash": "e378bb88",
    "execution_start": 1657490909702,
    "execution_millis": 113,
    "deepnote_cell_type": "code",
    "deepnote_cell_height": 81
   },
   "source": "bar4 = df.groupby('username')['retweets_count'].sum().sort_values(ascending=False)",
   "execution_count": null,
   "outputs": []
  },
  {
   "cell_type": "code",
   "metadata": {
    "colab": {
     "base_uri": "https://localhost:8080/"
    },
    "executionInfo": {
     "elapsed": 611,
     "status": "ok",
     "timestamp": 1657160052250,
     "user": {
      "displayName": "William Wallace",
      "userId": "02462327362597608294"
     },
     "user_tz": 180
    },
    "id": "VHftiuOdsdBL",
    "outputId": "9d5272ad-3c24-4077-b50d-2d78d9adc6a2",
    "cell_id": "00034-e570859c-1cbe-438f-b879-45691ca25cf0",
    "deepnote_to_be_reexecuted": false,
    "source_hash": "c98afe6",
    "execution_start": 1657490909858,
    "execution_millis": 49,
    "deepnote_cell_type": "code",
    "deepnote_cell_height": 334.25
   },
   "source": "print(bar4[:10])",
   "execution_count": null,
   "outputs": [
    {
     "name": "stdout",
     "text": "username\nprofesorzubairi    43773\nndrewstjan         31984\nkemenkesri         26366\ndrjamesolsson      21897\nafrkml              7459\nhallidii            6708\nidai_tweets         5825\nsdenta              3626\neditor_76           3382\ngab_h_r             3208\nName: retweets_count, dtype: int64\n",
     "output_type": "stream"
    }
   ]
  },
  {
   "cell_type": "markdown",
   "source": "Podemos ver que los primeros 4 usuarios coinciden en las dos categorias, después de ellos hay cambios en el ranking.",
   "metadata": {
    "id": "8gHRgMWWbXu0",
    "cell_id": "00035-19a2cdd7-c654-4d18-82bc-983beaccffcf",
    "deepnote_cell_type": "markdown",
    "deepnote_cell_height": 52.390625
   }
  },
  {
   "cell_type": "markdown",
   "source": "# Vizualizamos cantidad de tweets por día",
   "metadata": {
    "id": "qCsjxZS6dtGS",
    "cell_id": "00036-307804bb-ccf4-4b5b-8414-fafcdcdb1f29",
    "deepnote_cell_type": "markdown",
    "deepnote_cell_height": 82
   }
  },
  {
   "cell_type": "code",
   "metadata": {
    "id": "oHugp_4U5SMX",
    "executionInfo": {
     "status": "ok",
     "timestamp": 1657160220590,
     "user_tz": 180,
     "elapsed": 524,
     "user": {
      "displayName": "William Wallace",
      "userId": "02462327362597608294"
     }
    },
    "cell_id": "00037-3aa11a78-7875-4dd9-bc88-023f9c9cd912",
    "deepnote_to_be_reexecuted": false,
    "source_hash": "11c907aa",
    "execution_start": 1657490909905,
    "execution_millis": 26,
    "deepnote_cell_type": "code",
    "deepnote_cell_height": 81
   },
   "source": "df['date'] = pd.to_datetime(df['date'])",
   "execution_count": null,
   "outputs": []
  },
  {
   "cell_type": "code",
   "metadata": {
    "id": "xGmz84jf1Gpu",
    "executionInfo": {
     "status": "ok",
     "timestamp": 1657160222319,
     "user_tz": 180,
     "elapsed": 5,
     "user": {
      "displayName": "William Wallace",
      "userId": "02462327362597608294"
     }
    },
    "cell_id": "00038-e973841f-b94a-4bd6-8442-154631cc4445",
    "deepnote_to_be_reexecuted": false,
    "source_hash": "ffc6d2e6",
    "execution_start": 1657490909935,
    "execution_millis": 42,
    "deepnote_cell_type": "code",
    "deepnote_cell_height": 81
   },
   "source": "date = df['date'].value_counts()",
   "execution_count": null,
   "outputs": []
  },
  {
   "cell_type": "code",
   "metadata": {
    "id": "hp_ql_2ycx_c",
    "executionInfo": {
     "status": "ok",
     "timestamp": 1657160501181,
     "user_tz": 180,
     "elapsed": 419,
     "user": {
      "displayName": "William Wallace",
      "userId": "02462327362597608294"
     }
    },
    "cell_id": "00039-7a0761a6-69a9-4102-a574-d44be50a4829",
    "deepnote_to_be_reexecuted": false,
    "source_hash": "a3fc1126",
    "execution_start": 1657490909979,
    "execution_millis": 81,
    "deepnote_cell_type": "code",
    "deepnote_cell_height": 81
   },
   "source": "date.sort_index(ascending=True, inplace=True)",
   "execution_count": null,
   "outputs": []
  },
  {
   "cell_type": "code",
   "metadata": {
    "colab": {
     "base_uri": "https://localhost:8080/",
     "height": 784
    },
    "id": "GfXtLBAu1TVf",
    "executionInfo": {
     "status": "ok",
     "timestamp": 1657160503689,
     "user_tz": 180,
     "elapsed": 1229,
     "user": {
      "displayName": "William Wallace",
      "userId": "02462327362597608294"
     }
    },
    "outputId": "560d6813-7362-4f3b-820a-440a5c458a34",
    "cell_id": "00040-b2cd8139-f1f4-4d97-becd-9dbda90c0f04",
    "deepnote_to_be_reexecuted": false,
    "source_hash": "58c730e4",
    "execution_start": 1657490910063,
    "execution_millis": 307,
    "deepnote_cell_type": "code",
    "deepnote_cell_height": 708,
    "deepnote_output_heights": [
     611
    ]
   },
   "source": "ax = date.plot.bar(x='date', y='tweets', rot=90)",
   "execution_count": null,
   "outputs": [
    {
     "data": {
      "text/plain": "<Figure size 2000x1500 with 1 Axes>",
      "image/png": "[encoded data removed]"
     },
     "metadata": {
      "image/png": {
       "width": 1605,
       "height": 1267
      }
     },
     "output_type": "display_data"
    }
   ]
  },
  {
   "cell_type": "markdown",
   "source": "<a style='text-decoration:none;line-height:16px;display:flex;color:#5B5B62;padding:10px;justify-content:end;' href='https://deepnote.com?utm_source=created-in-deepnote-cell&projectId=1678f438-dd57-41c5-b88b-bfcde7b7ccb5' target=\"_blank\">\n<img alt='Created in deepnote.com' style='display:inline;max-height:16px;margin:0px;margin-right:7.5px;' src='data:image/svg+xml;base64,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' > </img>\nCreated in <span style='font-weight:600;margin-left:4px;'>Deepnote</span></a>",
   "metadata": {
    "tags": [],
    "created_in_deepnote_cell": true,
    "deepnote_cell_type": "markdown"
   }
  }
 ],
 "nbformat": 4,
 "nbformat_minor": 0,
 "metadata": {
  "colab": {
   "collapsed_sections": [],
   "name": "Analisis bivariado + Lopez, Gomez, Nesci, Robert.ipynb",
   "provenance": []
  },
  "kernelspec": {
   "display_name": "Python 3",
   "name": "python3"
  },
  "language_info": {
   "name": "python"
  },
  "widgets": {
   "application/vnd.jupyter.widget-state+json": {
    "116aafc0485b4678a2b62ca272f5a51b": {
     "model_module": "@jupyter-widgets/controls",
     "model_name": "HBoxModel",
     "model_module_version": "1.5.0",
     "state": {
      "_dom_classes": [],
      "_model_module": "@jupyter-widgets/controls",
      "_model_module_version": "1.5.0",
      "_model_name": "HBoxModel",
      "_view_count": null,
      "_view_module": "@jupyter-widgets/controls",
      "_view_module_version": "1.5.0",
      "_view_name": "HBoxView",
      "box_style": "",
      "children": [
       "IPY_MODEL_2e18ce614d2c4f52a3032232771badb0",
       "IPY_MODEL_bad795f5828e4e63b4638b7f27030ed2",
       "IPY_MODEL_e9bb6a91e6ee422caa36762c25389e4a"
      ],
      "layout": "IPY_MODEL_5f8fb265cd634d07bd8f97b4299ee641"
     }
    },
    "2e18ce614d2c4f52a3032232771badb0": {
     "model_module": "@jupyter-widgets/controls",
     "model_name": "HTMLModel",
     "model_module_version": "1.5.0",
     "state": {
      "_dom_classes": [],
      "_model_module": "@jupyter-widgets/controls",
      "_model_module_version": "1.5.0",
      "_model_name": "HTMLModel",
      "_view_count": null,
      "_view_module": "@jupyter-widgets/controls",
      "_view_module_version": "1.5.0",
      "_view_name": "HTMLView",
      "description": "",
      "description_tooltip": null,
      "layout": "IPY_MODEL_14c32c0465ae4f5db10c5c8b37f6dccf",
      "placeholder": "​",
      "style": "IPY_MODEL_b9cb6743e5344366a192f9e40dd4ba7e",
      "value": "Done! Use &#x27;show&#x27; commands to display/save.   "
     }
    },
    "bad795f5828e4e63b4638b7f27030ed2": {
     "model_module": "@jupyter-widgets/controls",
     "model_name": "FloatProgressModel",
     "model_module_version": "1.5.0",
     "state": {
      "_dom_classes": [],
      "_model_module": "@jupyter-widgets/controls",
      "_model_module_version": "1.5.0",
      "_model_name": "FloatProgressModel",
      "_view_count": null,
      "_view_module": "@jupyter-widgets/controls",
      "_view_module_version": "1.5.0",
      "_view_name": "ProgressView",
      "bar_style": "success",
      "description": "",
      "description_tooltip": null,
      "layout": "IPY_MODEL_33662001569f4f258c951fdad342b635",
      "max": 1,
      "min": 0,
      "orientation": "horizontal",
      "style": "IPY_MODEL_1dbffe7e329344ea8e60e0512dfcef1e",
      "value": 1
     }
    },
    "e9bb6a91e6ee422caa36762c25389e4a": {
     "model_module": "@jupyter-widgets/controls",
     "model_name": "HTMLModel",
     "model_module_version": "1.5.0",
     "state": {
      "_dom_classes": [],
      "_model_module": "@jupyter-widgets/controls",
      "_model_module_version": "1.5.0",
      "_model_name": "HTMLModel",
      "_view_count": null,
      "_view_module": "@jupyter-widgets/controls",
      "_view_module_version": "1.5.0",
      "_view_name": "HTMLView",
      "description": "",
      "description_tooltip": null,
      "layout": "IPY_MODEL_7cbe6e20bebe4bbb849e9aa3a5f5c0a3",
      "placeholder": "​",
      "style": "IPY_MODEL_95828d889d534733a272a5f49ad9f39e",
      "value": " [100%]   00:00 -&gt; (00:00 left)"
     }
    },
    "5f8fb265cd634d07bd8f97b4299ee641": {
     "model_module": "@jupyter-widgets/base",
     "model_name": "LayoutModel",
     "model_module_version": "1.2.0",
     "state": {
      "_model_module": "@jupyter-widgets/base",
      "_model_module_version": "1.2.0",
      "_model_name": "LayoutModel",
      "_view_count": null,
      "_view_module": "@jupyter-widgets/base",
      "_view_module_version": "1.2.0",
      "_view_name": "LayoutView",
      "align_content": null,
      "align_items": null,
      "align_self": null,
      "border": null,
      "bottom": null,
      "display": "inline-flex",
      "flex": null,
      "flex_flow": "row wrap",
      "grid_area": null,
      "grid_auto_columns": null,
      "grid_auto_flow": null,
      "grid_auto_rows": null,
      "grid_column": null,
      "grid_gap": null,
      "grid_row": null,
      "grid_template_areas": null,
      "grid_template_columns": null,
      "grid_template_rows": null,
      "height": null,
      "justify_content": null,
      "justify_items": null,
      "left": null,
      "margin": null,
      "max_height": null,
      "max_width": null,
      "min_height": null,
      "min_width": null,
      "object_fit": null,
      "object_position": null,
      "order": null,
      "overflow": null,
      "overflow_x": null,
      "overflow_y": null,
      "padding": null,
      "right": null,
      "top": null,
      "visibility": null,
      "width": "100%"
     }
    },
    "14c32c0465ae4f5db10c5c8b37f6dccf": {
     "model_module": "@jupyter-widgets/base",
     "model_name": "LayoutModel",
     "model_module_version": "1.2.0",
     "state": {
      "_model_module": "@jupyter-widgets/base",
      "_model_module_version": "1.2.0",
      "_model_name": "LayoutModel",
      "_view_count": null,
      "_view_module": "@jupyter-widgets/base",
      "_view_module_version": "1.2.0",
      "_view_name": "LayoutView",
      "align_content": null,
      "align_items": null,
      "align_self": null,
      "border": null,
      "bottom": null,
      "display": null,
      "flex": null,
      "flex_flow": null,
      "grid_area": null,
      "grid_auto_columns": null,
      "grid_auto_flow": null,
      "grid_auto_rows": null,
      "grid_column": null,
      "grid_gap": null,
      "grid_row": null,
      "grid_template_areas": null,
      "grid_template_columns": null,
      "grid_template_rows": null,
      "height": null,
      "justify_content": null,
      "justify_items": null,
      "left": null,
      "margin": null,
      "max_height": null,
      "max_width": null,
      "min_height": null,
      "min_width": null,
      "object_fit": null,
      "object_position": null,
      "order": null,
      "overflow": null,
      "overflow_x": null,
      "overflow_y": null,
      "padding": null,
      "right": null,
      "top": null,
      "visibility": null,
      "width": null
     }
    },
    "b9cb6743e5344366a192f9e40dd4ba7e": {
     "model_module": "@jupyter-widgets/controls",
     "model_name": "DescriptionStyleModel",
     "model_module_version": "1.5.0",
     "state": {
      "_model_module": "@jupyter-widgets/controls",
      "_model_module_version": "1.5.0",
      "_model_name": "DescriptionStyleModel",
      "_view_count": null,
      "_view_module": "@jupyter-widgets/base",
      "_view_module_version": "1.2.0",
      "_view_name": "StyleView",
      "description_width": ""
     }
    },
    "33662001569f4f258c951fdad342b635": {
     "model_module": "@jupyter-widgets/base",
     "model_name": "LayoutModel",
     "model_module_version": "1.2.0",
     "state": {
      "_model_module": "@jupyter-widgets/base",
      "_model_module_version": "1.2.0",
      "_model_name": "LayoutModel",
      "_view_count": null,
      "_view_module": "@jupyter-widgets/base",
      "_view_module_version": "1.2.0",
      "_view_name": "LayoutView",
      "align_content": null,
      "align_items": null,
      "align_self": null,
      "border": null,
      "bottom": null,
      "display": null,
      "flex": "2",
      "flex_flow": null,
      "grid_area": null,
      "grid_auto_columns": null,
      "grid_auto_flow": null,
      "grid_auto_rows": null,
      "grid_column": null,
      "grid_gap": null,
      "grid_row": null,
      "grid_template_areas": null,
      "grid_template_columns": null,
      "grid_template_rows": null,
      "height": null,
      "justify_content": null,
      "justify_items": null,
      "left": null,
      "margin": null,
      "max_height": null,
      "max_width": null,
      "min_height": null,
      "min_width": null,
      "object_fit": null,
      "object_position": null,
      "order": null,
      "overflow": null,
      "overflow_x": null,
      "overflow_y": null,
      "padding": null,
      "right": null,
      "top": null,
      "visibility": null,
      "width": null
     }
    },
    "1dbffe7e329344ea8e60e0512dfcef1e": {
     "model_module": "@jupyter-widgets/controls",
     "model_name": "ProgressStyleModel",
     "model_module_version": "1.5.0",
     "state": {
      "_model_module": "@jupyter-widgets/controls",
      "_model_module_version": "1.5.0",
      "_model_name": "ProgressStyleModel",
      "_view_count": null,
      "_view_module": "@jupyter-widgets/base",
      "_view_module_version": "1.2.0",
      "_view_name": "StyleView",
      "bar_color": null,
      "description_width": ""
     }
    },
    "7cbe6e20bebe4bbb849e9aa3a5f5c0a3": {
     "model_module": "@jupyter-widgets/base",
     "model_name": "LayoutModel",
     "model_module_version": "1.2.0",
     "state": {
      "_model_module": "@jupyter-widgets/base",
      "_model_module_version": "1.2.0",
      "_model_name": "LayoutModel",
      "_view_count": null,
      "_view_module": "@jupyter-widgets/base",
      "_view_module_version": "1.2.0",
      "_view_name": "LayoutView",
      "align_content": null,
      "align_items": null,
      "align_self": null,
      "border": null,
      "bottom": null,
      "display": null,
      "flex": null,
      "flex_flow": null,
      "grid_area": null,
      "grid_auto_columns": null,
      "grid_auto_flow": null,
      "grid_auto_rows": null,
      "grid_column": null,
      "grid_gap": null,
      "grid_row": null,
      "grid_template_areas": null,
      "grid_template_columns": null,
      "grid_template_rows": null,
      "height": null,
      "justify_content": null,
      "justify_items": null,
      "left": null,
      "margin": null,
      "max_height": null,
      "max_width": null,
      "min_height": null,
      "min_width": null,
      "object_fit": null,
      "object_position": null,
      "order": null,
      "overflow": null,
      "overflow_x": null,
      "overflow_y": null,
      "padding": null,
      "right": null,
      "top": null,
      "visibility": null,
      "width": null
     }
    },
    "95828d889d534733a272a5f49ad9f39e": {
     "model_module": "@jupyter-widgets/controls",
     "model_name": "DescriptionStyleModel",
     "model_module_version": "1.5.0",
     "state": {
      "_model_module": "@jupyter-widgets/controls",
      "_model_module_version": "1.5.0",
      "_model_name": "DescriptionStyleModel",
      "_view_count": null,
      "_view_module": "@jupyter-widgets/base",
      "_view_module_version": "1.2.0",
      "_view_name": "StyleView",
      "description_width": ""
     }
    }
   }
  },
  "deepnote_notebook_id": "667da887-b0fd-477a-a3ce-0e70af388214",
  "deepnote": {},
  "deepnote_execution_queue": []
 }
}