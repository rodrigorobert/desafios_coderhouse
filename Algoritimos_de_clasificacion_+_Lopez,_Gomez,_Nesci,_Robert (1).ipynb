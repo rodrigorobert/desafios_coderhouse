{
 "cells": [
  {
   "cell_type": "code",
   "metadata": {
    "id": "5SrCsbmng--X",
    "executionInfo": {
     "status": "ok",
     "timestamp": 1657946211762,
     "user_tz": 180,
     "elapsed": 870,
     "user": {
      "displayName": "William Wallace",
      "userId": "02462327362597608294"
     }
    },
    "cell_id": "bb35ba81-51c1-4ba3-8c4b-25a6a3149e5a",
    "deepnote_to_be_reexecuted": false,
    "source_hash": "76dc65fe",
    "execution_start": 1658106292322,
    "execution_millis": 1594,
    "deepnote_cell_type": "code",
    "deepnote_cell_height": 135
   },
   "source": "#Importamos las librerias y el dataset\nimport pandas as pd\nimport numpy as np\nimport seaborn as sns",
   "execution_count": null,
   "outputs": []
  },
  {
   "cell_type": "code",
   "metadata": {
    "id": "kZb1PLw13ZIe",
    "executionInfo": {
     "status": "ok",
     "timestamp": 1657946212263,
     "user_tz": 180,
     "elapsed": 503,
     "user": {
      "displayName": "William Wallace",
      "userId": "02462327362597608294"
     }
    },
    "cell_id": "00001-e8dd2800-4229-4c4f-8963-f228f0b3cddd",
    "deepnote_to_be_reexecuted": false,
    "source_hash": "57652779",
    "execution_start": 1658106293925,
    "execution_millis": 1808,
    "deepnote_cell_type": "code",
    "deepnote_cell_height": 154.375
   },
   "source": "#accedo a los datos\ndf = pd.read_csv(\"hepatitis_tag.csv\", lineterminator='\\n')",
   "execution_count": null,
   "outputs": [
    {
     "name": "stderr",
     "text": "/shared-libs/python3.9/py-core/lib/python3.9/site-packages/IPython/core/interactiveshell.py:3257: DtypeWarning: Columns (10) have mixed types.Specify dtype option on import or set low_memory=False.\n  has_raised = await self.run_ast_nodes(code_ast.body, cell_name,\n",
     "output_type": "stream"
    }
   ]
  },
  {
   "cell_type": "code",
   "metadata": {
    "colab": {
     "base_uri": "https://localhost:8080/"
    },
    "id": "qhxfXueKEPEC",
    "executionInfo": {
     "status": "ok",
     "timestamp": 1657946212263,
     "user_tz": 180,
     "elapsed": 16,
     "user": {
      "displayName": "William Wallace",
      "userId": "02462327362597608294"
     }
    },
    "outputId": "34db449b-41b6-46c9-906a-f96d08f9d7e5",
    "cell_id": "00002-707a2a6b-9818-45a1-abe3-b2445ce02497",
    "deepnote_to_be_reexecuted": false,
    "source_hash": "d2ef76ad",
    "execution_start": 1658106337026,
    "execution_millis": 3,
    "deepnote_cell_type": "code",
    "deepnote_cell_height": 200.375,
    "deepnote_output_heights": [
     null,
     21.1875
    ]
   },
   "source": "# df.shape() retorna un Tuple asi: (filas, col)\nprint('Este dataset tiene ' + str(df.shape[0]) + ' filas, y ' + str(df.shape[1]) + ' columnas.')\ndf.shape",
   "execution_count": null,
   "outputs": [
    {
     "name": "stdout",
     "text": "Este dataset tiene 50002 filas, y 40 columnas.\n",
     "output_type": "stream"
    },
    {
     "output_type": "execute_result",
     "execution_count": 4,
     "data": {
      "text/plain": "(50002, 40)"
     },
     "metadata": {}
    }
   ]
  },
  {
   "cell_type": "code",
   "metadata": {
    "colab": {
     "base_uri": "https://localhost:8080/"
    },
    "id": "H7oL9G3K4LGj",
    "executionInfo": {
     "status": "ok",
     "timestamp": 1657946212264,
     "user_tz": 180,
     "elapsed": 14,
     "user": {
      "displayName": "William Wallace",
      "userId": "02462327362597608294"
     }
    },
    "outputId": "4d07a48a-6a99-47ca-a910-6f9238b8760b",
    "cell_id": "00003-be3d1e0e-0dd7-47ad-8c8f-7c1afbd4ace4",
    "deepnote_to_be_reexecuted": false,
    "source_hash": "25d43fa0",
    "execution_start": 1658106349975,
    "execution_millis": 5,
    "deepnote_cell_type": "code",
    "deepnote_cell_height": 252.5,
    "deepnote_output_heights": [
     155.5
    ]
   },
   "source": "df.columns",
   "execution_count": null,
   "outputs": [
    {
     "output_type": "execute_result",
     "execution_count": 5,
     "data": {
      "text/plain": "Index(['Unnamed: 0', 'id', 'conversation_id', 'created_at', 'date', 'time',\n       'timezone', 'user_id', 'username', 'name', 'place', 'tweet', 'language',\n       'mentions', 'urls', 'photos', 'replies_count', 'retweets_count',\n       'likes_count', 'hashtags', 'cashtags', 'link', 'retweet', 'quote_url',\n       'video', 'thumbnail', 'near', 'geo', 'source', 'user_rt_id', 'user_rt',\n       'retweet_id', 'reply_to', 'retweet_date', 'translate', 'trans_src',\n       'trans_dest\\r', 'Unnamed: 0.1', 'tweet.1', 'sentiment'],\n      dtype='object')"
     },
     "metadata": {}
    }
   ]
  },
  {
   "cell_type": "code",
   "metadata": {
    "id": "7npRbzwX4Shj",
    "executionInfo": {
     "status": "ok",
     "timestamp": 1657946212265,
     "user_tz": 180,
     "elapsed": 11,
     "user": {
      "displayName": "William Wallace",
      "userId": "02462327362597608294"
     }
    },
    "cell_id": "00004-652ea93e-4d4b-4617-ab63-b34774b2b5f6",
    "deepnote_to_be_reexecuted": false,
    "source_hash": "751f999e",
    "execution_start": 1658106374138,
    "execution_millis": 1,
    "deepnote_cell_type": "code",
    "deepnote_cell_height": 81
   },
   "source": "#df.drop(['Unnamed: 0','tweet.1'], axis=1, inplace=True)",
   "execution_count": null,
   "outputs": []
  },
  {
   "cell_type": "code",
   "metadata": {
    "id": "cOBFjOm64cez",
    "executionInfo": {
     "status": "ok",
     "timestamp": 1657946212265,
     "user_tz": 180,
     "elapsed": 10,
     "user": {
      "displayName": "William Wallace",
      "userId": "02462327362597608294"
     }
    },
    "cell_id": "00005-5f11ea90-e3f1-43aa-ac2a-2250595d7c74",
    "deepnote_to_be_reexecuted": false,
    "source_hash": "82f691a",
    "execution_start": 1658106376705,
    "execution_millis": 1,
    "deepnote_cell_type": "code",
    "deepnote_cell_height": 81
   },
   "source": "#df.columns",
   "execution_count": null,
   "outputs": []
  },
  {
   "cell_type": "code",
   "metadata": {
    "colab": {
     "base_uri": "https://localhost:8080/"
    },
    "id": "RR3FEr__EKgr",
    "executionInfo": {
     "status": "ok",
     "timestamp": 1657946212711,
     "user_tz": 180,
     "elapsed": 456,
     "user": {
      "displayName": "William Wallace",
      "userId": "02462327362597608294"
     }
    },
    "outputId": "60cf983a-0ed3-40fc-c3ca-75a86c2f51b6",
    "cell_id": "00006-86f1091a-9068-4b11-a5bf-d6039cccdab1",
    "deepnote_to_be_reexecuted": false,
    "source_hash": "14f60b8f",
    "execution_start": 1658106378973,
    "execution_millis": 6,
    "deepnote_cell_type": "code",
    "deepnote_cell_height": 118.1875,
    "deepnote_output_heights": [
     21.1875
    ]
   },
   "source": "df.shape",
   "execution_count": null,
   "outputs": [
    {
     "output_type": "execute_result",
     "execution_count": 8,
     "data": {
      "text/plain": "(50002, 40)"
     },
     "metadata": {}
    }
   ]
  },
  {
   "cell_type": "code",
   "metadata": {
    "id": "0rJK7VF64HoW",
    "executionInfo": {
     "status": "ok",
     "timestamp": 1657946212713,
     "user_tz": 180,
     "elapsed": 40,
     "user": {
      "displayName": "William Wallace",
      "userId": "02462327362597608294"
     }
    },
    "cell_id": "00007-e2e0e71e-d095-4ff5-ac17-50b2518aef8b",
    "deepnote_to_be_reexecuted": false,
    "source_hash": "92c01127",
    "execution_start": 1658106383680,
    "execution_millis": 0,
    "deepnote_cell_type": "code",
    "deepnote_cell_height": 99
   },
   "source": "df2 = pd.DataFrame()\ndf2 = df[['sentiment','replies_count','retweets_count', 'likes_count']]",
   "execution_count": null,
   "outputs": []
  },
  {
   "cell_type": "code",
   "metadata": {
    "colab": {
     "base_uri": "https://localhost:8080/"
    },
    "id": "GmFrvoxEJQcG",
    "executionInfo": {
     "status": "ok",
     "timestamp": 1657946212714,
     "user_tz": 180,
     "elapsed": 38,
     "user": {
      "displayName": "William Wallace",
      "userId": "02462327362597608294"
     }
    },
    "outputId": "0b3caf54-c305-4d9d-8b21-aebf8761e658",
    "cell_id": "00008-c3d44bcf-2f52-4101-a106-91923c0d8bc6",
    "deepnote_to_be_reexecuted": false,
    "source_hash": "48de49ab",
    "execution_start": 1658106392929,
    "execution_millis": 7,
    "deepnote_cell_type": "code",
    "deepnote_cell_height": 118.1875,
    "deepnote_output_heights": [
     21.1875
    ]
   },
   "source": "df2.shape",
   "execution_count": null,
   "outputs": [
    {
     "output_type": "execute_result",
     "execution_count": 10,
     "data": {
      "text/plain": "(50002, 4)"
     },
     "metadata": {}
    }
   ]
  },
  {
   "cell_type": "code",
   "metadata": {
    "colab": {
     "base_uri": "https://localhost:8080/"
    },
    "id": "3b7N5ug9BeqD",
    "executionInfo": {
     "status": "ok",
     "timestamp": 1657946212715,
     "user_tz": 180,
     "elapsed": 32,
     "user": {
      "displayName": "William Wallace",
      "userId": "02462327362597608294"
     }
    },
    "outputId": "068b4faf-a4b0-4aea-c683-c37638d3e382",
    "cell_id": "00009-f967071d-70e0-414e-b1e4-dfd8dd93ff4d",
    "deepnote_to_be_reexecuted": false,
    "source_hash": "e7acf07c",
    "execution_start": 1658106397930,
    "execution_millis": 11,
    "deepnote_cell_type": "code",
    "deepnote_cell_height": 314.0625
   },
   "source": "df2.info()",
   "execution_count": null,
   "outputs": [
    {
     "name": "stdout",
     "text": "<class 'pandas.core.frame.DataFrame'>\nRangeIndex: 50002 entries, 0 to 50001\nData columns (total 4 columns):\n #   Column          Non-Null Count  Dtype  \n---  ------          --------------  -----  \n 0   sentiment       50002 non-null  float64\n 1   replies_count   50002 non-null  int64  \n 2   retweets_count  50002 non-null  int64  \n 3   likes_count     50002 non-null  int64  \ndtypes: float64(1), int64(3)\nmemory usage: 1.5 MB\n",
     "output_type": "stream"
    }
   ]
  },
  {
   "cell_type": "code",
   "metadata": {
    "colab": {
     "base_uri": "https://localhost:8080/"
    },
    "id": "yYhBlk4VCIhz",
    "executionInfo": {
     "status": "ok",
     "timestamp": 1657946212716,
     "user_tz": 180,
     "elapsed": 24,
     "user": {
      "displayName": "William Wallace",
      "userId": "02462327362597608294"
     }
    },
    "outputId": "de2dd6b0-47e6-431d-b581-dcd5bb124c9c",
    "cell_id": "00010-e9b846f2-0589-4964-8420-c8388f040f5c",
    "deepnote_to_be_reexecuted": false,
    "source_hash": "e7acf07c",
    "execution_start": 1658106416765,
    "execution_millis": 25,
    "deepnote_cell_type": "code",
    "deepnote_cell_height": 314.0625
   },
   "source": "df2.info()",
   "execution_count": null,
   "outputs": [
    {
     "name": "stdout",
     "text": "<class 'pandas.core.frame.DataFrame'>\nRangeIndex: 50002 entries, 0 to 50001\nData columns (total 4 columns):\n #   Column          Non-Null Count  Dtype  \n---  ------          --------------  -----  \n 0   sentiment       50002 non-null  float64\n 1   replies_count   50002 non-null  int64  \n 2   retweets_count  50002 non-null  int64  \n 3   likes_count     50002 non-null  int64  \ndtypes: float64(1), int64(3)\nmemory usage: 1.5 MB\n",
     "output_type": "stream"
    }
   ]
  },
  {
   "cell_type": "code",
   "metadata": {
    "colab": {
     "base_uri": "https://localhost:8080/",
     "height": 676
    },
    "id": "w0jOZzfYPXAu",
    "executionInfo": {
     "status": "ok",
     "timestamp": 1657946212717,
     "user_tz": 180,
     "elapsed": 21,
     "user": {
      "displayName": "William Wallace",
      "userId": "02462327362597608294"
     }
    },
    "outputId": "b92bf37b-5857-4b2a-f5f5-557e71a7e07f",
    "cell_id": "00011-bbbfa4f0-470b-4ea4-8268-e26b08b16bf4",
    "deepnote_to_be_reexecuted": false,
    "source_hash": "99c74f24",
    "execution_start": 1658106420254,
    "execution_millis": 35,
    "deepnote_cell_type": "code",
    "deepnote_cell_height": 600
   },
   "source": "df2.head(20)",
   "execution_count": null,
   "outputs": [
    {
     "output_type": "execute_result",
     "execution_count": 14,
     "data": {
      "application/vnd.deepnote.dataframe.v3+json": {
       "column_count": 4,
       "row_count": 20,
       "columns": [
        {
         "name": "sentiment",
         "dtype": "float64",
         "stats": {
          "unique_count": 3,
          "nan_count": 0,
          "min": "0.0",
          "max": "2.0",
          "histogram": [
           {
            "bin_start": 0,
            "bin_end": 0.2,
            "count": 16
           },
           {
            "bin_start": 0.2,
            "bin_end": 0.4,
            "count": 0
           },
           {
            "bin_start": 0.4,
            "bin_end": 0.6000000000000001,
            "count": 0
           },
           {
            "bin_start": 0.6000000000000001,
            "bin_end": 0.8,
            "count": 0
           },
           {
            "bin_start": 0.8,
            "bin_end": 1,
            "count": 0
           },
           {
            "bin_start": 1,
            "bin_end": 1.2000000000000002,
            "count": 1
           },
           {
            "bin_start": 1.2000000000000002,
            "bin_end": 1.4000000000000001,
            "count": 0
           },
           {
            "bin_start": 1.4000000000000001,
            "bin_end": 1.6,
            "count": 0
           },
           {
            "bin_start": 1.6,
            "bin_end": 1.8,
            "count": 0
           },
           {
            "bin_start": 1.8,
            "bin_end": 2,
            "count": 3
           }
          ]
         }
        },
        {
         "name": "replies_count",
         "dtype": "int64",
         "stats": {
          "unique_count": 3,
          "nan_count": 0,
          "min": "0",
          "max": "2",
          "histogram": [
           {
            "bin_start": 0,
            "bin_end": 0.2,
            "count": 15
           },
           {
            "bin_start": 0.2,
            "bin_end": 0.4,
            "count": 0
           },
           {
            "bin_start": 0.4,
            "bin_end": 0.6000000000000001,
            "count": 0
           },
           {
            "bin_start": 0.6000000000000001,
            "bin_end": 0.8,
            "count": 0
           },
           {
            "bin_start": 0.8,
            "bin_end": 1,
            "count": 0
           },
           {
            "bin_start": 1,
            "bin_end": 1.2000000000000002,
            "count": 4
           },
           {
            "bin_start": 1.2000000000000002,
            "bin_end": 1.4000000000000001,
            "count": 0
           },
           {
            "bin_start": 1.4000000000000001,
            "bin_end": 1.6,
            "count": 0
           },
           {
            "bin_start": 1.6,
            "bin_end": 1.8,
            "count": 0
           },
           {
            "bin_start": 1.8,
            "bin_end": 2,
            "count": 1
           }
          ]
         }
        },
        {
         "name": "retweets_count",
         "dtype": "int64",
         "stats": {
          "unique_count": 2,
          "nan_count": 0,
          "min": "0",
          "max": "1",
          "histogram": [
           {
            "bin_start": 0,
            "bin_end": 0.1,
            "count": 18
           },
           {
            "bin_start": 0.1,
            "bin_end": 0.2,
            "count": 0
           },
           {
            "bin_start": 0.2,
            "bin_end": 0.30000000000000004,
            "count": 0
           },
           {
            "bin_start": 0.30000000000000004,
            "bin_end": 0.4,
            "count": 0
           },
           {
            "bin_start": 0.4,
            "bin_end": 0.5,
            "count": 0
           },
           {
            "bin_start": 0.5,
            "bin_end": 0.6000000000000001,
            "count": 0
           },
           {
            "bin_start": 0.6000000000000001,
            "bin_end": 0.7000000000000001,
            "count": 0
           },
           {
            "bin_start": 0.7000000000000001,
            "bin_end": 0.8,
            "count": 0
           },
           {
            "bin_start": 0.8,
            "bin_end": 0.9,
            "count": 0
           },
           {
            "bin_start": 0.9,
            "bin_end": 1,
            "count": 2
           }
          ]
         }
        },
        {
         "name": "likes_count",
         "dtype": "int64",
         "stats": {
          "unique_count": 2,
          "nan_count": 0,
          "min": "0",
          "max": "1",
          "histogram": [
           {
            "bin_start": 0,
            "bin_end": 0.1,
            "count": 17
           },
           {
            "bin_start": 0.1,
            "bin_end": 0.2,
            "count": 0
           },
           {
            "bin_start": 0.2,
            "bin_end": 0.30000000000000004,
            "count": 0
           },
           {
            "bin_start": 0.30000000000000004,
            "bin_end": 0.4,
            "count": 0
           },
           {
            "bin_start": 0.4,
            "bin_end": 0.5,
            "count": 0
           },
           {
            "bin_start": 0.5,
            "bin_end": 0.6000000000000001,
            "count": 0
           },
           {
            "bin_start": 0.6000000000000001,
            "bin_end": 0.7000000000000001,
            "count": 0
           },
           {
            "bin_start": 0.7000000000000001,
            "bin_end": 0.8,
            "count": 0
           },
           {
            "bin_start": 0.8,
            "bin_end": 0.9,
            "count": 0
           },
           {
            "bin_start": 0.9,
            "bin_end": 1,
            "count": 3
           }
          ]
         }
        },
        {
         "name": "_deepnote_index_column",
         "dtype": "int64"
        }
       ],
       "rows": [
        {
         "sentiment": 0,
         "replies_count": 0,
         "retweets_count": 0,
         "likes_count": 0,
         "_deepnote_index_column": 0
        },
        {
         "sentiment": 0,
         "replies_count": 0,
         "retweets_count": 0,
         "likes_count": 0,
         "_deepnote_index_column": 1
        },
        {
         "sentiment": 2,
         "replies_count": 0,
         "retweets_count": 0,
         "likes_count": 0,
         "_deepnote_index_column": 2
        },
        {
         "sentiment": 0,
         "replies_count": 0,
         "retweets_count": 0,
         "likes_count": 0,
         "_deepnote_index_column": 3
        },
        {
         "sentiment": 0,
         "replies_count": 0,
         "retweets_count": 0,
         "likes_count": 0,
         "_deepnote_index_column": 4
        },
        {
         "sentiment": 0,
         "replies_count": 0,
         "retweets_count": 0,
         "likes_count": 0,
         "_deepnote_index_column": 5
        },
        {
         "sentiment": 0,
         "replies_count": 1,
         "retweets_count": 0,
         "likes_count": 0,
         "_deepnote_index_column": 6
        },
        {
         "sentiment": 0,
         "replies_count": 1,
         "retweets_count": 0,
         "likes_count": 0,
         "_deepnote_index_column": 7
        },
        {
         "sentiment": 0,
         "replies_count": 0,
         "retweets_count": 0,
         "likes_count": 0,
         "_deepnote_index_column": 8
        },
        {
         "sentiment": 2,
         "replies_count": 0,
         "retweets_count": 1,
         "likes_count": 1,
         "_deepnote_index_column": 9
        }
       ]
      },
      "text/plain": "    sentiment  replies_count  retweets_count  likes_count\n0         0.0              0               0            0\n1         0.0              0               0            0\n2         2.0              0               0            0\n3         0.0              0               0            0\n4         0.0              0               0            0\n5         0.0              0               0            0\n6         0.0              1               0            0\n7         0.0              1               0            0\n8         0.0              0               0            0\n9         2.0              0               1            1\n10        0.0              0               0            0\n11        2.0              2               0            1\n12        0.0              0               0            0\n13        0.0              0               0            0\n14        1.0              0               0            0\n15        0.0              0               0            0\n16        0.0              0               1            1\n17        0.0              0               0            0\n18        0.0              1               0            0\n19        0.0              1               0            0",
      "text/html": "<div>\n<style scoped>\n    .dataframe tbody tr th:only-of-type {\n        vertical-align: middle;\n    }\n\n    .dataframe tbody tr th {\n        vertical-align: top;\n    }\n\n    .dataframe thead th {\n        text-align: right;\n    }\n</style>\n<table border=\"1\" class=\"dataframe\">\n  <thead>\n    <tr style=\"text-align: right;\">\n      <th></th>\n      <th>sentiment</th>\n      <th>replies_count</th>\n      <th>retweets_count</th>\n      <th>likes_count</th>\n    </tr>\n  </thead>\n  <tbody>\n    <tr>\n      <th>0</th>\n      <td>0.0</td>\n      <td>0</td>\n      <td>0</td>\n      <td>0</td>\n    </tr>\n    <tr>\n      <th>1</th>\n      <td>0.0</td>\n      <td>0</td>\n      <td>0</td>\n      <td>0</td>\n    </tr>\n    <tr>\n      <th>2</th>\n      <td>2.0</td>\n      <td>0</td>\n      <td>0</td>\n      <td>0</td>\n    </tr>\n    <tr>\n      <th>3</th>\n      <td>0.0</td>\n      <td>0</td>\n      <td>0</td>\n      <td>0</td>\n    </tr>\n    <tr>\n      <th>4</th>\n      <td>0.0</td>\n      <td>0</td>\n      <td>0</td>\n      <td>0</td>\n    </tr>\n    <tr>\n      <th>5</th>\n      <td>0.0</td>\n      <td>0</td>\n      <td>0</td>\n      <td>0</td>\n    </tr>\n    <tr>\n      <th>6</th>\n      <td>0.0</td>\n      <td>1</td>\n      <td>0</td>\n      <td>0</td>\n    </tr>\n    <tr>\n      <th>7</th>\n      <td>0.0</td>\n      <td>1</td>\n      <td>0</td>\n      <td>0</td>\n    </tr>\n    <tr>\n      <th>8</th>\n      <td>0.0</td>\n      <td>0</td>\n      <td>0</td>\n      <td>0</td>\n    </tr>\n    <tr>\n      <th>9</th>\n      <td>2.0</td>\n      <td>0</td>\n      <td>1</td>\n      <td>1</td>\n    </tr>\n    <tr>\n      <th>10</th>\n      <td>0.0</td>\n      <td>0</td>\n      <td>0</td>\n      <td>0</td>\n    </tr>\n    <tr>\n      <th>11</th>\n      <td>2.0</td>\n      <td>2</td>\n      <td>0</td>\n      <td>1</td>\n    </tr>\n    <tr>\n      <th>12</th>\n      <td>0.0</td>\n      <td>0</td>\n      <td>0</td>\n      <td>0</td>\n    </tr>\n    <tr>\n      <th>13</th>\n      <td>0.0</td>\n      <td>0</td>\n      <td>0</td>\n      <td>0</td>\n    </tr>\n    <tr>\n      <th>14</th>\n      <td>1.0</td>\n      <td>0</td>\n      <td>0</td>\n      <td>0</td>\n    </tr>\n    <tr>\n      <th>15</th>\n      <td>0.0</td>\n      <td>0</td>\n      <td>0</td>\n      <td>0</td>\n    </tr>\n    <tr>\n      <th>16</th>\n      <td>0.0</td>\n      <td>0</td>\n      <td>1</td>\n      <td>1</td>\n    </tr>\n    <tr>\n      <th>17</th>\n      <td>0.0</td>\n      <td>0</td>\n      <td>0</td>\n      <td>0</td>\n    </tr>\n    <tr>\n      <th>18</th>\n      <td>0.0</td>\n      <td>1</td>\n      <td>0</td>\n      <td>0</td>\n    </tr>\n    <tr>\n      <th>19</th>\n      <td>0.0</td>\n      <td>1</td>\n      <td>0</td>\n      <td>0</td>\n    </tr>\n  </tbody>\n</table>\n</div>"
     },
     "metadata": {}
    }
   ]
  },
  {
   "cell_type": "code",
   "metadata": {
    "colab": {
     "base_uri": "https://localhost:8080/",
     "height": 427
    },
    "id": "1nZZuCYRGLCI",
    "executionInfo": {
     "status": "ok",
     "timestamp": 1657946213130,
     "user_tz": 180,
     "elapsed": 432,
     "user": {
      "displayName": "William Wallace",
      "userId": "02462327362597608294"
     }
    },
    "outputId": "d4d4ca03-73de-4e73-dc87-59152f60693c",
    "cell_id": "00012-f370fa41-b387-4069-b76d-5328c43c2d88",
    "deepnote_to_be_reexecuted": false,
    "source_hash": "dc76258d",
    "execution_start": 1658106427243,
    "execution_millis": 380,
    "deepnote_cell_type": "code",
    "deepnote_cell_height": 598.9375,
    "deepnote_output_heights": [
     null,
     321
    ]
   },
   "source": "print(df2.corr())\n  \n# plotting correlation heatmap\ndataplot = sns.heatmap(df2.corr(), cmap=\"YlGnBu\", annot=True)",
   "execution_count": null,
   "outputs": [
    {
     "name": "stdout",
     "text": "                sentiment  replies_count  retweets_count  likes_count\nsentiment        1.000000       0.027949        0.001232     0.005944\nreplies_count    0.027949       1.000000        0.588400     0.613709\nretweets_count   0.001232       0.588400        1.000000     0.970830\nlikes_count      0.005944       0.613709        0.970830     1.000000\n",
     "output_type": "stream"
    },
    {
     "data": {
      "text/plain": "<Figure size 432x288 with 2 Axes>",
      "image/png": "[encoded data removed]"
     },
     "metadata": {
      "needs_background": "light",
      "image/png": {
       "width": 416,
       "height": 319
      }
     },
     "output_type": "display_data"
    }
   ]
  },
  {
   "cell_type": "code",
   "metadata": {
    "id": "BHQs_xav4_u2",
    "executionInfo": {
     "status": "ok",
     "timestamp": 1657946213131,
     "user_tz": 180,
     "elapsed": 32,
     "user": {
      "displayName": "William Wallace",
      "userId": "02462327362597608294"
     }
    },
    "cell_id": "00013-2e39e1aa-2599-4f99-841e-80b148b66d26",
    "deepnote_to_be_reexecuted": false,
    "source_hash": "1dbd5f50",
    "execution_start": 1658106450574,
    "execution_millis": 1,
    "deepnote_cell_type": "code",
    "deepnote_cell_height": 99
   },
   "source": "X = df2.drop(\"sentiment\", axis=1) #Elimino de mi dataset la variable a predecir\ny = df2.sentiment #Defino el Target",
   "execution_count": null,
   "outputs": []
  },
  {
   "cell_type": "code",
   "metadata": {
    "colab": {
     "base_uri": "https://localhost:8080/",
     "height": 423
    },
    "id": "vy3UhBmb_DzS",
    "executionInfo": {
     "status": "ok",
     "timestamp": 1657946213132,
     "user_tz": 180,
     "elapsed": 32,
     "user": {
      "displayName": "William Wallace",
      "userId": "02462327362597608294"
     }
    },
    "outputId": "a043b8a9-0479-48b3-8a2b-8f6d95b5f3e1",
    "cell_id": "00014-11adc121-68b1-4c1d-8d79-826a7ba5da48",
    "deepnote_to_be_reexecuted": false,
    "source_hash": "b2696ff6",
    "execution_start": 1658106454446,
    "execution_millis": 55,
    "deepnote_cell_type": "code",
    "deepnote_cell_height": 600
   },
   "source": "X",
   "execution_count": null,
   "outputs": [
    {
     "output_type": "execute_result",
     "execution_count": 17,
     "data": {
      "application/vnd.deepnote.dataframe.v3+json": {
       "column_count": 3,
       "row_count": 50002,
       "columns": [
        {
         "name": "replies_count",
         "dtype": "int64",
         "stats": {
          "unique_count": 135,
          "nan_count": 0,
          "min": "0",
          "max": "1318",
          "histogram": [
           {
            "bin_start": 0,
            "bin_end": 131.8,
            "count": 49964
           },
           {
            "bin_start": 131.8,
            "bin_end": 263.6,
            "count": 25
           },
           {
            "bin_start": 263.6,
            "bin_end": 395.40000000000003,
            "count": 6
           },
           {
            "bin_start": 395.40000000000003,
            "bin_end": 527.2,
            "count": 3
           },
           {
            "bin_start": 527.2,
            "bin_end": 659,
            "count": 2
           },
           {
            "bin_start": 659,
            "bin_end": 790.8000000000001,
            "count": 0
           },
           {
            "bin_start": 790.8000000000001,
            "bin_end": 922.6000000000001,
            "count": 0
           },
           {
            "bin_start": 922.6000000000001,
            "bin_end": 1054.4,
            "count": 1
           },
           {
            "bin_start": 1054.4,
            "bin_end": 1186.2,
            "count": 0
           },
           {
            "bin_start": 1186.2,
            "bin_end": 1318,
            "count": 1
           }
          ]
         }
        },
        {
         "name": "retweets_count",
         "dtype": "int64"
        },
        {
         "name": "likes_count",
         "dtype": "int64"
        },
        {
         "name": "_deepnote_index_column",
         "dtype": "int64"
        }
       ],
       "rows": [
        {
         "replies_count": 0,
         "retweets_count": 0,
         "likes_count": 0,
         "_deepnote_index_column": 0
        },
        {
         "replies_count": 0,
         "retweets_count": 0,
         "likes_count": 0,
         "_deepnote_index_column": 1
        },
        {
         "replies_count": 0,
         "retweets_count": 0,
         "likes_count": 0,
         "_deepnote_index_column": 2
        },
        {
         "replies_count": 0,
         "retweets_count": 0,
         "likes_count": 0,
         "_deepnote_index_column": 3
        },
        {
         "replies_count": 0,
         "retweets_count": 0,
         "likes_count": 0,
         "_deepnote_index_column": 4
        },
        {
         "replies_count": 0,
         "retweets_count": 0,
         "likes_count": 0,
         "_deepnote_index_column": 5
        },
        {
         "replies_count": 1,
         "retweets_count": 0,
         "likes_count": 0,
         "_deepnote_index_column": 6
        },
        {
         "replies_count": 1,
         "retweets_count": 0,
         "likes_count": 0,
         "_deepnote_index_column": 7
        },
        {
         "replies_count": 0,
         "retweets_count": 0,
         "likes_count": 0,
         "_deepnote_index_column": 8
        },
        {
         "replies_count": 0,
         "retweets_count": 1,
         "likes_count": 1,
         "_deepnote_index_column": 9
        }
       ]
      },
      "text/plain": "       replies_count  retweets_count  likes_count\n0                  0               0            0\n1                  0               0            0\n2                  0               0            0\n3                  0               0            0\n4                  0               0            0\n...              ...             ...          ...\n49997              0               2            5\n49998              0               0            0\n49999              1               0            1\n50000              0               0            0\n50001              0               0            2\n\n[50002 rows x 3 columns]",
      "text/html": "<div>\n<style scoped>\n    .dataframe tbody tr th:only-of-type {\n        vertical-align: middle;\n    }\n\n    .dataframe tbody tr th {\n        vertical-align: top;\n    }\n\n    .dataframe thead th {\n        text-align: right;\n    }\n</style>\n<table border=\"1\" class=\"dataframe\">\n  <thead>\n    <tr style=\"text-align: right;\">\n      <th></th>\n      <th>replies_count</th>\n      <th>retweets_count</th>\n      <th>likes_count</th>\n    </tr>\n  </thead>\n  <tbody>\n    <tr>\n      <th>0</th>\n      <td>0</td>\n      <td>0</td>\n      <td>0</td>\n    </tr>\n    <tr>\n      <th>1</th>\n      <td>0</td>\n      <td>0</td>\n      <td>0</td>\n    </tr>\n    <tr>\n      <th>2</th>\n      <td>0</td>\n      <td>0</td>\n      <td>0</td>\n    </tr>\n    <tr>\n      <th>3</th>\n      <td>0</td>\n      <td>0</td>\n      <td>0</td>\n    </tr>\n    <tr>\n      <th>4</th>\n      <td>0</td>\n      <td>0</td>\n      <td>0</td>\n    </tr>\n    <tr>\n      <th>...</th>\n      <td>...</td>\n      <td>...</td>\n      <td>...</td>\n    </tr>\n    <tr>\n      <th>49997</th>\n      <td>0</td>\n      <td>2</td>\n      <td>5</td>\n    </tr>\n    <tr>\n      <th>49998</th>\n      <td>0</td>\n      <td>0</td>\n      <td>0</td>\n    </tr>\n    <tr>\n      <th>49999</th>\n      <td>1</td>\n      <td>0</td>\n      <td>1</td>\n    </tr>\n    <tr>\n      <th>50000</th>\n      <td>0</td>\n      <td>0</td>\n      <td>0</td>\n    </tr>\n    <tr>\n      <th>50001</th>\n      <td>0</td>\n      <td>0</td>\n      <td>2</td>\n    </tr>\n  </tbody>\n</table>\n<p>50002 rows × 3 columns</p>\n</div>"
     },
     "metadata": {}
    }
   ]
  },
  {
   "cell_type": "code",
   "metadata": {
    "id": "IhHpGhE1IMJg",
    "executionInfo": {
     "status": "ok",
     "timestamp": 1657946213134,
     "user_tz": 180,
     "elapsed": 32,
     "user": {
      "displayName": "William Wallace",
      "userId": "02462327362597608294"
     }
    },
    "cell_id": "00015-161129ad-83d1-4e6a-a434-14104f805c21",
    "deepnote_to_be_reexecuted": false,
    "source_hash": "866b8212",
    "execution_start": 1658106477734,
    "execution_millis": 229,
    "deepnote_cell_type": "code",
    "deepnote_cell_height": 81
   },
   "source": "from sklearn.preprocessing import StandardScaler",
   "execution_count": null,
   "outputs": []
  },
  {
   "cell_type": "code",
   "metadata": {
    "colab": {
     "base_uri": "https://localhost:8080/"
    },
    "id": "Aq-QQISsHfOQ",
    "executionInfo": {
     "status": "ok",
     "timestamp": 1657946213135,
     "user_tz": 180,
     "elapsed": 33,
     "user": {
      "displayName": "William Wallace",
      "userId": "02462327362597608294"
     }
    },
    "outputId": "f6ea5747-c933-4693-b1e1-b378e9ba16e4",
    "cell_id": "00016-4239e0b4-3845-4368-8d12-e99ec756ab32",
    "deepnote_to_be_reexecuted": false,
    "source_hash": "4c71d1fb",
    "execution_start": 1658106528214,
    "execution_millis": 16,
    "deepnote_cell_type": "code",
    "deepnote_cell_height": 287.3125,
    "deepnote_output_heights": [
     136.3125
    ]
   },
   "source": "ss = StandardScaler()\n# (with_mean=False, with_std=False)\nX = ss.fit_transform(X)\nX",
   "execution_count": null,
   "outputs": [
    {
     "output_type": "execute_result",
     "execution_count": 19,
     "data": {
      "text/plain": "array([[-0.08864567, -0.02976966, -0.03250667],\n       [-0.08864567, -0.02976966, -0.03250667],\n       [-0.08864567, -0.02976966, -0.03250667],\n       ...,\n       [ 0.00051892, -0.02976966, -0.03083781],\n       [-0.08864567, -0.02976966, -0.03250667],\n       [-0.08864567, -0.02976966, -0.02916895]])"
     },
     "metadata": {}
    }
   ]
  },
  {
   "cell_type": "code",
   "metadata": {
    "id": "xJ_lJGr56VIV",
    "executionInfo": {
     "status": "ok",
     "timestamp": 1657946213136,
     "user_tz": 180,
     "elapsed": 32,
     "user": {
      "displayName": "William Wallace",
      "userId": "02462327362597608294"
     }
    },
    "cell_id": "00017-5e35074c-7f03-4c34-b62e-637843936749",
    "deepnote_to_be_reexecuted": false,
    "source_hash": "ef639279",
    "execution_start": 1658106582878,
    "execution_millis": 61,
    "deepnote_cell_type": "code",
    "deepnote_cell_height": 153
   },
   "source": "#Importamos la libreria para separar en train y test\nfrom sklearn.model_selection import train_test_split \n\n#Me quedo con 30% para test y 70% para train\nX_train, X_test, y_train, y_test = train_test_split(X, y, test_size=0.30, random_state=42) ",
   "execution_count": null,
   "outputs": []
  },
  {
   "cell_type": "markdown",
   "source": "## ARBOL DE DECISIÓN ",
   "metadata": {
    "id": "4Vq1cbPpK3X7",
    "cell_id": "00018-e2a37318-9e58-47b3-ad0e-2e239c3db123",
    "deepnote_cell_type": "markdown",
    "deepnote_cell_height": 70
   }
  },
  {
   "cell_type": "code",
   "metadata": {
    "id": "ZzaZIpAn6ZOj",
    "executionInfo": {
     "status": "ok",
     "timestamp": 1657946213138,
     "user_tz": 180,
     "elapsed": 33,
     "user": {
      "displayName": "William Wallace",
      "userId": "02462327362597608294"
     }
    },
    "cell_id": "00019-629e9d89-bac8-4db3-a1e7-f2c4df5dcbb2",
    "deepnote_to_be_reexecuted": false,
    "source_hash": "54ca8f",
    "execution_start": 1658106598411,
    "execution_millis": 106,
    "deepnote_cell_type": "code",
    "deepnote_cell_height": 99
   },
   "source": "from sklearn.tree import DecisionTreeClassifier #Importamos el modelo\ntree = DecisionTreeClassifier(max_depth=3, random_state = 42) #Creamos el modelo",
   "execution_count": null,
   "outputs": []
  },
  {
   "cell_type": "code",
   "metadata": {
    "colab": {
     "base_uri": "https://localhost:8080/"
    },
    "id": "U3-IQ-2I6bkC",
    "executionInfo": {
     "status": "ok",
     "timestamp": 1657946213140,
     "user_tz": 180,
     "elapsed": 35,
     "user": {
      "displayName": "William Wallace",
      "userId": "02462327362597608294"
     }
    },
    "outputId": "45caeff6-12fc-4848-91c0-311d7b4a4780",
    "cell_id": "00020-9e6a62f8-a8f3-4801-a854-93ad7739f2de",
    "deepnote_to_be_reexecuted": false,
    "source_hash": "9c8c04b5",
    "execution_start": 1658106598553,
    "execution_millis": 2,
    "deepnote_cell_type": "code",
    "deepnote_cell_height": 175.34375,
    "deepnote_output_heights": [
     60.34375
    ]
   },
   "source": "#Entrenamos el modelo\ntree.fit(X_train,y_train)",
   "execution_count": null,
   "outputs": [
    {
     "output_type": "execute_result",
     "execution_count": 22,
     "data": {
      "text/plain": "DecisionTreeClassifier(max_depth=3, random_state=42)",
      "text/html": "<style>#sk-container-id-1 {color: black;background-color: white;}#sk-container-id-1 pre{padding: 0;}#sk-container-id-1 div.sk-toggleable {background-color: white;}#sk-container-id-1 label.sk-toggleable__label {cursor: pointer;display: block;width: 100%;margin-bottom: 0;padding: 0.3em;box-sizing: border-box;text-align: center;}#sk-container-id-1 label.sk-toggleable__label-arrow:before {content: \"▸\";float: left;margin-right: 0.25em;color: #696969;}#sk-container-id-1 label.sk-toggleable__label-arrow:hover:before {color: black;}#sk-container-id-1 div.sk-estimator:hover label.sk-toggleable__label-arrow:before {color: black;}#sk-container-id-1 div.sk-toggleable__content {max-height: 0;max-width: 0;overflow: hidden;text-align: left;background-color: #f0f8ff;}#sk-container-id-1 div.sk-toggleable__content pre {margin: 0.2em;color: black;border-radius: 0.25em;background-color: #f0f8ff;}#sk-container-id-1 input.sk-toggleable__control:checked~div.sk-toggleable__content {max-height: 200px;max-width: 100%;overflow: auto;}#sk-container-id-1 input.sk-toggleable__control:checked~label.sk-toggleable__label-arrow:before {content: \"▾\";}#sk-container-id-1 div.sk-estimator input.sk-toggleable__control:checked~label.sk-toggleable__label {background-color: #d4ebff;}#sk-container-id-1 div.sk-label input.sk-toggleable__control:checked~label.sk-toggleable__label {background-color: #d4ebff;}#sk-container-id-1 input.sk-hidden--visually {border: 0;clip: rect(1px 1px 1px 1px);clip: rect(1px, 1px, 1px, 1px);height: 1px;margin: -1px;overflow: hidden;padding: 0;position: absolute;width: 1px;}#sk-container-id-1 div.sk-estimator {font-family: monospace;background-color: #f0f8ff;border: 1px dotted black;border-radius: 0.25em;box-sizing: border-box;margin-bottom: 0.5em;}#sk-container-id-1 div.sk-estimator:hover {background-color: #d4ebff;}#sk-container-id-1 div.sk-parallel-item::after {content: \"\";width: 100%;border-bottom: 1px solid gray;flex-grow: 1;}#sk-container-id-1 div.sk-label:hover label.sk-toggleable__label {background-color: #d4ebff;}#sk-container-id-1 div.sk-serial::before {content: \"\";position: absolute;border-left: 1px solid gray;box-sizing: border-box;top: 0;bottom: 0;left: 50%;z-index: 0;}#sk-container-id-1 div.sk-serial {display: flex;flex-direction: column;align-items: center;background-color: white;padding-right: 0.2em;padding-left: 0.2em;position: relative;}#sk-container-id-1 div.sk-item {position: relative;z-index: 1;}#sk-container-id-1 div.sk-parallel {display: flex;align-items: stretch;justify-content: center;background-color: white;position: relative;}#sk-container-id-1 div.sk-item::before, #sk-container-id-1 div.sk-parallel-item::before {content: \"\";position: absolute;border-left: 1px solid gray;box-sizing: border-box;top: 0;bottom: 0;left: 50%;z-index: -1;}#sk-container-id-1 div.sk-parallel-item {display: flex;flex-direction: column;z-index: 1;position: relative;background-color: white;}#sk-container-id-1 div.sk-parallel-item:first-child::after {align-self: flex-end;width: 50%;}#sk-container-id-1 div.sk-parallel-item:last-child::after {align-self: flex-start;width: 50%;}#sk-container-id-1 div.sk-parallel-item:only-child::after {width: 0;}#sk-container-id-1 div.sk-dashed-wrapped {border: 1px dashed gray;margin: 0 0.4em 0.5em 0.4em;box-sizing: border-box;padding-bottom: 0.4em;background-color: white;}#sk-container-id-1 div.sk-label label {font-family: monospace;font-weight: bold;display: inline-block;line-height: 1.2em;}#sk-container-id-1 div.sk-label-container {text-align: center;}#sk-container-id-1 div.sk-container {/* jupyter's `normalize.less` sets `[hidden] { display: none; }` but bootstrap.min.css set `[hidden] { display: none !important; }` so we also need the `!important` here to be able to override the default hidden behavior on the sphinx rendered scikit-learn.org. See: https://github.com/scikit-learn/scikit-learn/issues/21755 */display: inline-block !important;position: relative;}#sk-container-id-1 div.sk-text-repr-fallback {display: none;}</style><div id=\"sk-container-id-1\" class=\"sk-top-container\"><div class=\"sk-text-repr-fallback\"><pre>DecisionTreeClassifier(max_depth=3, random_state=42)</pre><b>In a Jupyter environment, please rerun this cell to show the HTML representation or trust the notebook. <br />On GitHub, the HTML representation is unable to render, please try loading this page with nbviewer.org.</b></div><div class=\"sk-container\" hidden><div class=\"sk-item\"><div class=\"sk-estimator sk-toggleable\"><input class=\"sk-toggleable__control sk-hidden--visually\" id=\"sk-estimator-id-1\" type=\"checkbox\" checked><label for=\"sk-estimator-id-1\" class=\"sk-toggleable__label sk-toggleable__label-arrow\">DecisionTreeClassifier</label><div class=\"sk-toggleable__content\"><pre>DecisionTreeClassifier(max_depth=3, random_state=42)</pre></div></div></div></div></div>"
     },
     "metadata": {}
    }
   ]
  },
  {
   "cell_type": "code",
   "metadata": {
    "id": "gtXB0ga26d5o",
    "executionInfo": {
     "status": "ok",
     "timestamp": 1657946213142,
     "user_tz": 180,
     "elapsed": 34,
     "user": {
      "displayName": "William Wallace",
      "userId": "02462327362597608294"
     }
    },
    "cell_id": "00021-8531a135-4252-45b9-a8a1-b956d988bb43",
    "deepnote_to_be_reexecuted": false,
    "source_hash": "62e9014f",
    "execution_start": 1658106598555,
    "execution_millis": 9,
    "deepnote_cell_type": "code",
    "deepnote_cell_height": 99
   },
   "source": "y_train_pred = tree.predict(X_train) #Prediccion en Train\ny_test_pred = tree.predict(X_test) #Prediccion en Test",
   "execution_count": null,
   "outputs": []
  },
  {
   "cell_type": "code",
   "metadata": {
    "colab": {
     "base_uri": "https://localhost:8080/"
    },
    "id": "gmzvT5beJoYA",
    "executionInfo": {
     "status": "ok",
     "timestamp": 1657946213146,
     "user_tz": 180,
     "elapsed": 38,
     "user": {
      "displayName": "William Wallace",
      "userId": "02462327362597608294"
     }
    },
    "outputId": "f24c3fc2-20a9-4603-9570-2522e6b20476",
    "cell_id": "00022-83a4ded0-eec3-44a1-a3d8-e93cb4332bad",
    "deepnote_to_be_reexecuted": false,
    "source_hash": "c7c6dbc6",
    "execution_start": 1658107096165,
    "execution_millis": 11,
    "owner_user_id": "f44ae237-a60f-490b-b7e7-4bd6dd520baf",
    "deepnote_cell_type": "code",
    "deepnote_cell_height": 294.375
   },
   "source": "from sklearn.metrics import accuracy_score\n\n#Calculo el accuracy en Train\ntrain_accuracy = accuracy_score(y_train, y_train_pred)\n\n#Calculo el accuracy en Test\ntest_accuracy = accuracy_score(y_test, y_test_pred)\n\nprint(f'% de aciertos sobre el set de entrenamiento: {train_accuracy:2.2%}')\nprint(f'% de aciertos sobre el set de evaluación: {test_accuracy:2.2%}')",
   "execution_count": null,
   "outputs": [
    {
     "name": "stdout",
     "text": "% de aciertos sobre el set de entrenamiento: 73.63%\n% de aciertos sobre el set de evaluación: 72.24%\n",
     "output_type": "stream"
    }
   ]
  },
  {
   "cell_type": "code",
   "metadata": {
    "id": "gF97T39UN2ym",
    "executionInfo": {
     "status": "ok",
     "timestamp": 1657946213149,
     "user_tz": 180,
     "elapsed": 37,
     "user": {
      "displayName": "William Wallace",
      "userId": "02462327362597608294"
     }
    },
    "cell_id": "00023-e0786856-5392-425a-b3be-e096987b89a2",
    "deepnote_to_be_reexecuted": false,
    "source_hash": "f2eb15d7",
    "execution_start": 1658106598630,
    "execution_millis": 1,
    "deepnote_cell_type": "code",
    "deepnote_cell_height": 81
   },
   "source": "from sklearn.metrics import classification_report, confusion_matrix, accuracy_score",
   "execution_count": null,
   "outputs": []
  },
  {
   "cell_type": "code",
   "metadata": {
    "colab": {
     "base_uri": "https://localhost:8080/"
    },
    "id": "410JVzAMNkp-",
    "executionInfo": {
     "status": "ok",
     "timestamp": 1657946213150,
     "user_tz": 180,
     "elapsed": 37,
     "user": {
      "displayName": "William Wallace",
      "userId": "02462327362597608294"
     }
    },
    "outputId": "944d4eb6-7342-4869-ca46-313ae14dfa2d",
    "cell_id": "00024-1d1f2d80-d411-423e-a4d8-3ebdb6fbf926",
    "deepnote_to_be_reexecuted": false,
    "source_hash": "8141e5d3",
    "execution_start": 1658106598631,
    "execution_millis": 46,
    "deepnote_cell_type": "code",
    "deepnote_cell_height": 419
   },
   "source": "print(classification_report(y_true=y_test,y_pred=tree.predict(X_test)))",
   "execution_count": null,
   "outputs": [
    {
     "name": "stdout",
     "text": "              precision    recall  f1-score   support\n\n         0.0       0.70      1.00      0.82     10471\n         1.0       0.00      0.00      0.00      3155\n         2.0       0.00      0.00      0.00      1375\n\n    accuracy                           0.70     15001\n   macro avg       0.23      0.33      0.27     15001\nweighted avg       0.49      0.70      0.57     15001\n\n/shared-libs/python3.9/py/lib/python3.9/site-packages/sklearn/metrics/_classification.py:1327: UndefinedMetricWarning: Precision and F-score are ill-defined and being set to 0.0 in labels with no predicted samples. Use `zero_division` parameter to control this behavior.\n  _warn_prf(average, modifier, msg_start, len(result))\n/shared-libs/python3.9/py/lib/python3.9/site-packages/sklearn/metrics/_classification.py:1327: UndefinedMetricWarning: Precision and F-score are ill-defined and being set to 0.0 in labels with no predicted samples. Use `zero_division` parameter to control this behavior.\n  _warn_prf(average, modifier, msg_start, len(result))\n/shared-libs/python3.9/py/lib/python3.9/site-packages/sklearn/metrics/_classification.py:1327: UndefinedMetricWarning: Precision and F-score are ill-defined and being set to 0.0 in labels with no predicted samples. Use `zero_division` parameter to control this behavior.\n  _warn_prf(average, modifier, msg_start, len(result))\n",
     "output_type": "stream"
    }
   ]
  },
  {
   "cell_type": "code",
   "metadata": {
    "id": "1rtiw13OJqmS",
    "executionInfo": {
     "status": "ok",
     "timestamp": 1657946213152,
     "user_tz": 180,
     "elapsed": 34,
     "user": {
      "displayName": "William Wallace",
      "userId": "02462327362597608294"
     }
    },
    "cell_id": "00025-acb85738-9371-4104-bf45-dc9e6e2ca215",
    "deepnote_to_be_reexecuted": false,
    "source_hash": "905b74a8",
    "execution_start": 1658106598675,
    "deepnote_cell_type": "code",
    "deepnote_cell_height": 261
   },
   "source": "#Importancia de las variables\n\nimport matplotlib.pyplot as plt\nimport seaborn as sns\n\n# plt.figure(figsize=(15,15))\n# importances = tree.feature_importances_\n# columns = X.columns\n# sns.barplot(columns, importances)\n# plt.title('Importancia de cada Feature')\n# plt.show()",
   "execution_count": null,
   "outputs": []
  },
  {
   "cell_type": "code",
   "metadata": {
    "id": "vF-8vdvwOmYW",
    "executionInfo": {
     "status": "ok",
     "timestamp": 1657946213580,
     "user_tz": 180,
     "elapsed": 461,
     "user": {
      "displayName": "William Wallace",
      "userId": "02462327362597608294"
     }
    },
    "cell_id": "00026-3f489a15-9eac-4d17-9653-3fde73c219f2",
    "deepnote_to_be_reexecuted": false,
    "source_hash": "53f85183",
    "execution_start": 1658106598676,
    "execution_millis": 574,
    "deepnote_cell_type": "code",
    "deepnote_cell_height": 279
   },
   "source": "profundidad = list(range(1,20))\nresultados_train = []\nresultados_test  = []\n\nfor depth in profundidad:\n    # instanciamos el modelo uniforme\n    arbol = DecisionTreeClassifier(criterion='gini', max_depth=depth, min_samples_leaf=1, min_samples_split=2, ccp_alpha=0, class_weight=\"balanced\")\n    arbol.fit(X_train, y_train)\n    y_train_pred = arbol.predict(X_train)\n    y_pred = arbol.predict(X_test)\n    resultados_train.append(accuracy_score(y_train, y_train_pred))\n    resultados_test.append(accuracy_score(y_test, y_pred))",
   "execution_count": null,
   "outputs": []
  },
  {
   "cell_type": "code",
   "metadata": {
    "colab": {
     "base_uri": "https://localhost:8080/",
     "height": 337
    },
    "id": "ArxKoQSeOqkv",
    "executionInfo": {
     "status": "ok",
     "timestamp": 1657946214176,
     "user_tz": 180,
     "elapsed": 599,
     "user": {
      "displayName": "William Wallace",
      "userId": "02462327362597608294"
     }
    },
    "outputId": "5220ac16-9b04-4478-b70c-b577b51b6893",
    "cell_id": "00027-9339579e-b6c1-4484-82b2-7c9223710633",
    "deepnote_to_be_reexecuted": false,
    "source_hash": "d06e9b58",
    "execution_start": 1658106599260,
    "execution_millis": 916,
    "deepnote_cell_type": "code",
    "deepnote_cell_height": 410,
    "deepnote_output_heights": [
     241
    ]
   },
   "source": "# veamos que paso en cada caso\nf, ax = plt.subplots(1,1,figsize=(14,5),sharey=True)\nax.plot(profundidad, resultados_train, profundidad, resultados_test);\nax.legend(['accuracy train', 'accuracy test']);\nax.set(xlabel='profundidad',ylabel='accuracy');",
   "execution_count": null,
   "outputs": [
    {
     "data": {
      "text/plain": "<Figure size 1008x360 with 1 Axes>",
      "image/png": "[encoded data removed]"
     },
     "metadata": {
      "needs_background": "light",
      "image/png": {
       "width": 838,
       "height": 320
      }
     },
     "output_type": "display_data"
    }
   ]
  },
  {
   "cell_type": "code",
   "metadata": {
    "colab": {
     "base_uri": "https://localhost:8080/"
    },
    "id": "g06OsHqTO24K",
    "executionInfo": {
     "status": "ok",
     "timestamp": 1657946214178,
     "user_tz": 180,
     "elapsed": 15,
     "user": {
      "displayName": "William Wallace",
      "userId": "02462327362597608294"
     }
    },
    "outputId": "273cad8c-09f5-465d-f0e7-394a4362d3d7",
    "cell_id": "00028-51bdd23d-aa09-4e37-b87b-6fca36217ed1",
    "deepnote_to_be_reexecuted": false,
    "source_hash": "d6fe448d",
    "execution_start": 1658106599517,
    "execution_millis": 660,
    "deepnote_cell_type": "code",
    "deepnote_cell_height": 240.375
   },
   "source": "# veamos que pasa con un árbol sin corte de profundidad\nnp.random.seed(2021)\narbol = DecisionTreeClassifier(criterion='gini', ccp_alpha=0)\narbol.fit(X_train, y_train)\n#print(classification_report(y_true=y_test,y_pred=arbol.predict(X_test)))\nprint('Accuracy en entrenamiento: %f' % accuracy_score(y_train,arbol.predict(X_train)))\nprint('Accuracy en test: %f' % accuracy_score(y_test,arbol.predict(X_test)))",
   "execution_count": null,
   "outputs": [
    {
     "name": "stdout",
     "text": "Accuracy en entrenamiento: 0.739407\nAccuracy en test: 0.683954\n",
     "output_type": "stream"
    }
   ]
  },
  {
   "cell_type": "markdown",
   "source": "### KNN",
   "metadata": {
    "id": "GFAKAh59K9EL",
    "cell_id": "00029-b737c116-aae1-44cb-b4bb-70d906d002cf",
    "deepnote_cell_type": "markdown",
    "deepnote_cell_height": 62
   }
  },
  {
   "cell_type": "code",
   "metadata": {
    "id": "bkFVkHruKinJ",
    "executionInfo": {
     "status": "ok",
     "timestamp": 1657946214180,
     "user_tz": 180,
     "elapsed": 13,
     "user": {
      "displayName": "William Wallace",
      "userId": "02462327362597608294"
     }
    },
    "cell_id": "00030-0c492476-27fe-451c-a422-a84dc5998ac5",
    "deepnote_to_be_reexecuted": false,
    "source_hash": "356bd9d4",
    "execution_start": 1658106599555,
    "execution_millis": 2,
    "deepnote_cell_type": "code",
    "deepnote_cell_height": 135
   },
   "source": "import matplotlib.pyplot as plt\nimport pandas as pd\nimport seaborn as sns\nfrom sklearn.neighbors import KNeighborsClassifier",
   "execution_count": null,
   "outputs": []
  },
  {
   "cell_type": "code",
   "metadata": {
    "colab": {
     "base_uri": "https://localhost:8080/"
    },
    "id": "s_J7kMZWLGS0",
    "executionInfo": {
     "status": "ok",
     "timestamp": 1657946214181,
     "user_tz": 180,
     "elapsed": 14,
     "user": {
      "displayName": "William Wallace",
      "userId": "02462327362597608294"
     }
    },
    "outputId": "ad65f9e3-0ee2-4202-8e45-b44563007f93",
    "cell_id": "00031-aaf27d9e-bf83-4481-9a2f-1d27c98fa545",
    "deepnote_to_be_reexecuted": false,
    "source_hash": "7ab2dfd",
    "execution_start": 1658106599606,
    "execution_millis": 573,
    "deepnote_cell_type": "code",
    "deepnote_cell_height": 229
   },
   "source": "from sklearn.neighbors import KNeighborsClassifier\n\nknn = KNeighborsClassifier(n_neighbors=1000, weights='distance')\n\nknn.fit(X, y)",
   "execution_count": null,
   "outputs": [
    {
     "output_type": "execute_result",
     "execution_count": 32,
     "data": {
      "text/plain": "KNeighborsClassifier(n_neighbors=1000, weights='distance')",
      "text/html": "<style>#sk-container-id-2 {color: black;background-color: white;}#sk-container-id-2 pre{padding: 0;}#sk-container-id-2 div.sk-toggleable {background-color: white;}#sk-container-id-2 label.sk-toggleable__label {cursor: pointer;display: block;width: 100%;margin-bottom: 0;padding: 0.3em;box-sizing: border-box;text-align: center;}#sk-container-id-2 label.sk-toggleable__label-arrow:before {content: \"▸\";float: left;margin-right: 0.25em;color: #696969;}#sk-container-id-2 label.sk-toggleable__label-arrow:hover:before {color: black;}#sk-container-id-2 div.sk-estimator:hover label.sk-toggleable__label-arrow:before {color: black;}#sk-container-id-2 div.sk-toggleable__content {max-height: 0;max-width: 0;overflow: hidden;text-align: left;background-color: #f0f8ff;}#sk-container-id-2 div.sk-toggleable__content pre {margin: 0.2em;color: black;border-radius: 0.25em;background-color: #f0f8ff;}#sk-container-id-2 input.sk-toggleable__control:checked~div.sk-toggleable__content {max-height: 200px;max-width: 100%;overflow: auto;}#sk-container-id-2 input.sk-toggleable__control:checked~label.sk-toggleable__label-arrow:before {content: \"▾\";}#sk-container-id-2 div.sk-estimator input.sk-toggleable__control:checked~label.sk-toggleable__label {background-color: #d4ebff;}#sk-container-id-2 div.sk-label input.sk-toggleable__control:checked~label.sk-toggleable__label {background-color: #d4ebff;}#sk-container-id-2 input.sk-hidden--visually {border: 0;clip: rect(1px 1px 1px 1px);clip: rect(1px, 1px, 1px, 1px);height: 1px;margin: -1px;overflow: hidden;padding: 0;position: absolute;width: 1px;}#sk-container-id-2 div.sk-estimator {font-family: monospace;background-color: #f0f8ff;border: 1px dotted black;border-radius: 0.25em;box-sizing: border-box;margin-bottom: 0.5em;}#sk-container-id-2 div.sk-estimator:hover {background-color: #d4ebff;}#sk-container-id-2 div.sk-parallel-item::after {content: \"\";width: 100%;border-bottom: 1px solid gray;flex-grow: 1;}#sk-container-id-2 div.sk-label:hover label.sk-toggleable__label {background-color: #d4ebff;}#sk-container-id-2 div.sk-serial::before {content: \"\";position: absolute;border-left: 1px solid gray;box-sizing: border-box;top: 0;bottom: 0;left: 50%;z-index: 0;}#sk-container-id-2 div.sk-serial {display: flex;flex-direction: column;align-items: center;background-color: white;padding-right: 0.2em;padding-left: 0.2em;position: relative;}#sk-container-id-2 div.sk-item {position: relative;z-index: 1;}#sk-container-id-2 div.sk-parallel {display: flex;align-items: stretch;justify-content: center;background-color: white;position: relative;}#sk-container-id-2 div.sk-item::before, #sk-container-id-2 div.sk-parallel-item::before {content: \"\";position: absolute;border-left: 1px solid gray;box-sizing: border-box;top: 0;bottom: 0;left: 50%;z-index: -1;}#sk-container-id-2 div.sk-parallel-item {display: flex;flex-direction: column;z-index: 1;position: relative;background-color: white;}#sk-container-id-2 div.sk-parallel-item:first-child::after {align-self: flex-end;width: 50%;}#sk-container-id-2 div.sk-parallel-item:last-child::after {align-self: flex-start;width: 50%;}#sk-container-id-2 div.sk-parallel-item:only-child::after {width: 0;}#sk-container-id-2 div.sk-dashed-wrapped {border: 1px dashed gray;margin: 0 0.4em 0.5em 0.4em;box-sizing: border-box;padding-bottom: 0.4em;background-color: white;}#sk-container-id-2 div.sk-label label {font-family: monospace;font-weight: bold;display: inline-block;line-height: 1.2em;}#sk-container-id-2 div.sk-label-container {text-align: center;}#sk-container-id-2 div.sk-container {/* jupyter's `normalize.less` sets `[hidden] { display: none; }` but bootstrap.min.css set `[hidden] { display: none !important; }` so we also need the `!important` here to be able to override the default hidden behavior on the sphinx rendered scikit-learn.org. See: https://github.com/scikit-learn/scikit-learn/issues/21755 */display: inline-block !important;position: relative;}#sk-container-id-2 div.sk-text-repr-fallback {display: none;}</style><div id=\"sk-container-id-2\" class=\"sk-top-container\"><div class=\"sk-text-repr-fallback\"><pre>KNeighborsClassifier(n_neighbors=1000, weights=&#x27;distance&#x27;)</pre><b>In a Jupyter environment, please rerun this cell to show the HTML representation or trust the notebook. <br />On GitHub, the HTML representation is unable to render, please try loading this page with nbviewer.org.</b></div><div class=\"sk-container\" hidden><div class=\"sk-item\"><div class=\"sk-estimator sk-toggleable\"><input class=\"sk-toggleable__control sk-hidden--visually\" id=\"sk-estimator-id-2\" type=\"checkbox\" checked><label for=\"sk-estimator-id-2\" class=\"sk-toggleable__label sk-toggleable__label-arrow\">KNeighborsClassifier</label><div class=\"sk-toggleable__content\"><pre>KNeighborsClassifier(n_neighbors=1000, weights=&#x27;distance&#x27;)</pre></div></div></div></div></div>"
     },
     "metadata": {}
    }
   ]
  },
  {
   "cell_type": "code",
   "metadata": {
    "id": "bURN0J-sL69a",
    "executionInfo": {
     "status": "ok",
     "timestamp": 1657946256723,
     "user_tz": 180,
     "elapsed": 42553,
     "user": {
      "displayName": "William Wallace",
      "userId": "02462327362597608294"
     }
    },
    "cell_id": "00032-3ab595fb-f8f6-4f88-9d09-74285a96d9af",
    "deepnote_to_be_reexecuted": false,
    "source_hash": "b8ece810",
    "execution_start": 1658106599651,
    "execution_millis": 51804,
    "deepnote_cell_type": "code",
    "deepnote_cell_height": 99
   },
   "source": "y_train_pred = knn.predict(X_train) #Prediccion en Train\ny_test_pred = knn.predict(X_test) #Prediccion en Test",
   "execution_count": null,
   "outputs": []
  },
  {
   "cell_type": "code",
   "metadata": {
    "colab": {
     "base_uri": "https://localhost:8080/"
    },
    "id": "NYDmcce8MA_q",
    "executionInfo": {
     "status": "ok",
     "timestamp": 1657946256725,
     "user_tz": 180,
     "elapsed": 30,
     "user": {
      "displayName": "William Wallace",
      "userId": "02462327362597608294"
     }
    },
    "outputId": "40d4371f-e2ec-43da-db72-50c5a6a27aaf",
    "cell_id": "00033-9e25c77f-52f7-4fd9-b2fa-b696b36592b3",
    "deepnote_to_be_reexecuted": false,
    "source_hash": "e5fe2dbd",
    "execution_start": 1658106651455,
    "execution_millis": 2,
    "owner_user_id": "a261ed40-9b78-4d48-b5f3-0e32f4b7129d",
    "deepnote_cell_type": "code",
    "deepnote_cell_height": 294.375
   },
   "source": "from sklearn.metrics import accuracy_score\n\n#Calculo el accuracy en Train\ntrain_accuracy = accuracy_score(y_train, y_train_pred)\n\n#Calculo el accuracy en Test\ntest_accuracy = accuracy_score(y_test, y_test_pred)\n\nprint('% de aciertos sobre el set de entrenamiento:', train_accuracy)\nprint('% de aciertos sobre el set de evaluación:',test_accuracy)",
   "execution_count": null,
   "outputs": [
    {
     "name": "stdout",
     "text": "% de aciertos sobre el set de entrenamiento: 0.7371789377446358\n% de aciertos sobre el set de evaluación: 0.7224185054329711\n",
     "output_type": "stream"
    }
   ]
  },
  {
   "cell_type": "code",
   "metadata": {
    "id": "JdAcmDHbJBaY",
    "executionInfo": {
     "status": "ok",
     "timestamp": 1657946369554,
     "user_tz": 180,
     "elapsed": 112851,
     "user": {
      "displayName": "William Wallace",
      "userId": "02462327362597608294"
     }
    },
    "cell_id": "00034-40af98ba-5015-46f4-a481-c13c64704692",
    "deepnote_to_be_reexecuted": false,
    "source_hash": "36687132",
    "execution_start": 1658106651568,
    "execution_millis": 78463,
    "deepnote_cell_type": "code",
    "deepnote_cell_height": 522.1875
   },
   "source": "# veamos como le va a nuestro modelo variando la cantidad de vecinos y el tipo de peso\nvalores_k = list(range(1,50,4))\nresultados_train_u = []\nresultados_test_u  = []\nresultados_train_w = []\nresultados_test_w  = []\n\nfor k in valores_k:\n    # instanciamos el modelo uniforme\n    clf_u = KNeighborsClassifier(n_neighbors=k, weights='uniform')\n    clf_u.fit(X_train, y_train)\n    y_train_pred = clf_u.predict(X_train)\n    y_pred = clf_u.predict(X_test)\n    resultados_train_u.append(accuracy_score(y_train, y_train_pred))\n    resultados_test_u.append(accuracy_score(y_test, y_pred))\n\n    clf_w = KNeighborsClassifier(n_neighbors=k, weights='distance')\n    clf_w.fit(X_train, y_train)\n    y_train_pred = clf_w.predict(X_train)\n    y_pred = clf_w.predict(X_test)\n    resultados_train_w.append(accuracy_score(y_train, y_train_pred))\n    resultados_test_w.append(accuracy_score(y_test, y_pred))",
   "execution_count": null,
   "outputs": [
    {
     "output_type": "error",
     "ename": "KeyboardInterrupt",
     "evalue": "",
     "traceback": [
      "\u001b[0;31m---------------------------------------------------------------------------\u001b[0m",
      "\u001b[0;31mKeyboardInterrupt\u001b[0m                         Traceback (most recent call last)",
      "\u001b[0;32m<ipython-input-35-17f640f709f1>\u001b[0m in \u001b[0;36m<cell line: 8>\u001b[0;34m()\u001b[0m\n\u001b[1;32m     10\u001b[0m     \u001b[0mclf_u\u001b[0m \u001b[0;34m=\u001b[0m \u001b[0mKNeighborsClassifier\u001b[0m\u001b[0;34m(\u001b[0m\u001b[0mn_neighbors\u001b[0m\u001b[0;34m=\u001b[0m\u001b[0mk\u001b[0m\u001b[0;34m,\u001b[0m \u001b[0mweights\u001b[0m\u001b[0;34m=\u001b[0m\u001b[0;34m'uniform'\u001b[0m\u001b[0;34m)\u001b[0m\u001b[0;34m\u001b[0m\u001b[0;34m\u001b[0m\u001b[0m\n\u001b[1;32m     11\u001b[0m     \u001b[0mclf_u\u001b[0m\u001b[0;34m.\u001b[0m\u001b[0mfit\u001b[0m\u001b[0;34m(\u001b[0m\u001b[0mX_train\u001b[0m\u001b[0;34m,\u001b[0m \u001b[0my_train\u001b[0m\u001b[0;34m)\u001b[0m\u001b[0;34m\u001b[0m\u001b[0;34m\u001b[0m\u001b[0m\n\u001b[0;32m---> 12\u001b[0;31m     \u001b[0my_train_pred\u001b[0m \u001b[0;34m=\u001b[0m \u001b[0mclf_u\u001b[0m\u001b[0;34m.\u001b[0m\u001b[0mpredict\u001b[0m\u001b[0;34m(\u001b[0m\u001b[0mX_train\u001b[0m\u001b[0;34m)\u001b[0m\u001b[0;34m\u001b[0m\u001b[0;34m\u001b[0m\u001b[0m\n\u001b[0m\u001b[1;32m     13\u001b[0m     \u001b[0my_pred\u001b[0m \u001b[0;34m=\u001b[0m \u001b[0mclf_u\u001b[0m\u001b[0;34m.\u001b[0m\u001b[0mpredict\u001b[0m\u001b[0;34m(\u001b[0m\u001b[0mX_test\u001b[0m\u001b[0;34m)\u001b[0m\u001b[0;34m\u001b[0m\u001b[0;34m\u001b[0m\u001b[0m\n\u001b[1;32m     14\u001b[0m     \u001b[0mresultados_train_u\u001b[0m\u001b[0;34m.\u001b[0m\u001b[0mappend\u001b[0m\u001b[0;34m(\u001b[0m\u001b[0maccuracy_score\u001b[0m\u001b[0;34m(\u001b[0m\u001b[0my_train\u001b[0m\u001b[0;34m,\u001b[0m \u001b[0my_train_pred\u001b[0m\u001b[0;34m)\u001b[0m\u001b[0;34m)\u001b[0m\u001b[0;34m\u001b[0m\u001b[0;34m\u001b[0m\u001b[0m\n",
      "\u001b[0;32m/shared-libs/python3.9/py/lib/python3.9/site-packages/sklearn/neighbors/_classification.py\u001b[0m in \u001b[0;36mpredict\u001b[0;34m(self, X)\u001b[0m\n\u001b[1;32m    217\u001b[0m             \u001b[0;31m# In that case, we do not need the distances to perform\u001b[0m\u001b[0;34m\u001b[0m\u001b[0;34m\u001b[0m\u001b[0m\n\u001b[1;32m    218\u001b[0m             \u001b[0;31m# the weighting so we do not compute them.\u001b[0m\u001b[0;34m\u001b[0m\u001b[0;34m\u001b[0m\u001b[0m\n\u001b[0;32m--> 219\u001b[0;31m             \u001b[0mneigh_ind\u001b[0m \u001b[0;34m=\u001b[0m \u001b[0mself\u001b[0m\u001b[0;34m.\u001b[0m\u001b[0mkneighbors\u001b[0m\u001b[0;34m(\u001b[0m\u001b[0mX\u001b[0m\u001b[0;34m,\u001b[0m \u001b[0mreturn_distance\u001b[0m\u001b[0;34m=\u001b[0m\u001b[0;32mFalse\u001b[0m\u001b[0;34m)\u001b[0m\u001b[0;34m\u001b[0m\u001b[0;34m\u001b[0m\u001b[0m\n\u001b[0m\u001b[1;32m    220\u001b[0m             \u001b[0mneigh_dist\u001b[0m \u001b[0;34m=\u001b[0m \u001b[0;32mNone\u001b[0m\u001b[0;34m\u001b[0m\u001b[0;34m\u001b[0m\u001b[0m\n\u001b[1;32m    221\u001b[0m         \u001b[0;32melse\u001b[0m\u001b[0;34m:\u001b[0m\u001b[0;34m\u001b[0m\u001b[0;34m\u001b[0m\u001b[0m\n",
      "\u001b[0;32m/shared-libs/python3.9/py/lib/python3.9/site-packages/sklearn/neighbors/_base.py\u001b[0m in \u001b[0;36mkneighbors\u001b[0;34m(self, X, n_neighbors, return_distance)\u001b[0m\n\u001b[1;32m    812\u001b[0m                     \u001b[0;34m%\u001b[0m \u001b[0mself\u001b[0m\u001b[0;34m.\u001b[0m\u001b[0m_fit_method\u001b[0m\u001b[0;34m\u001b[0m\u001b[0;34m\u001b[0m\u001b[0m\n\u001b[1;32m    813\u001b[0m                 )\n\u001b[0;32m--> 814\u001b[0;31m             chunked_results = Parallel(n_jobs, prefer=\"threads\")(\n\u001b[0m\u001b[1;32m    815\u001b[0m                 delayed(_tree_query_parallel_helper)(\n\u001b[1;32m    816\u001b[0m                     \u001b[0mself\u001b[0m\u001b[0;34m.\u001b[0m\u001b[0m_tree\u001b[0m\u001b[0;34m,\u001b[0m \u001b[0mX\u001b[0m\u001b[0;34m[\u001b[0m\u001b[0ms\u001b[0m\u001b[0;34m]\u001b[0m\u001b[0;34m,\u001b[0m \u001b[0mn_neighbors\u001b[0m\u001b[0;34m,\u001b[0m \u001b[0mreturn_distance\u001b[0m\u001b[0;34m\u001b[0m\u001b[0;34m\u001b[0m\u001b[0m\n",
      "\u001b[0;32m/shared-libs/python3.9/py/lib/python3.9/site-packages/joblib/parallel.py\u001b[0m in \u001b[0;36m__call__\u001b[0;34m(self, iterable)\u001b[0m\n\u001b[1;32m   1041\u001b[0m             \u001b[0;31m# remaining jobs.\u001b[0m\u001b[0;34m\u001b[0m\u001b[0;34m\u001b[0m\u001b[0m\n\u001b[1;32m   1042\u001b[0m             \u001b[0mself\u001b[0m\u001b[0;34m.\u001b[0m\u001b[0m_iterating\u001b[0m \u001b[0;34m=\u001b[0m \u001b[0;32mFalse\u001b[0m\u001b[0;34m\u001b[0m\u001b[0;34m\u001b[0m\u001b[0m\n\u001b[0;32m-> 1043\u001b[0;31m             \u001b[0;32mif\u001b[0m \u001b[0mself\u001b[0m\u001b[0;34m.\u001b[0m\u001b[0mdispatch_one_batch\u001b[0m\u001b[0;34m(\u001b[0m\u001b[0miterator\u001b[0m\u001b[0;34m)\u001b[0m\u001b[0;34m:\u001b[0m\u001b[0;34m\u001b[0m\u001b[0;34m\u001b[0m\u001b[0m\n\u001b[0m\u001b[1;32m   1044\u001b[0m                 \u001b[0mself\u001b[0m\u001b[0;34m.\u001b[0m\u001b[0m_iterating\u001b[0m \u001b[0;34m=\u001b[0m \u001b[0mself\u001b[0m\u001b[0;34m.\u001b[0m\u001b[0m_original_iterator\u001b[0m \u001b[0;32mis\u001b[0m \u001b[0;32mnot\u001b[0m \u001b[0;32mNone\u001b[0m\u001b[0;34m\u001b[0m\u001b[0;34m\u001b[0m\u001b[0m\n\u001b[1;32m   1045\u001b[0m \u001b[0;34m\u001b[0m\u001b[0m\n",
      "\u001b[0;32m/shared-libs/python3.9/py/lib/python3.9/site-packages/joblib/parallel.py\u001b[0m in \u001b[0;36mdispatch_one_batch\u001b[0;34m(self, iterator)\u001b[0m\n\u001b[1;32m    859\u001b[0m                 \u001b[0;32mreturn\u001b[0m \u001b[0;32mFalse\u001b[0m\u001b[0;34m\u001b[0m\u001b[0;34m\u001b[0m\u001b[0m\n\u001b[1;32m    860\u001b[0m             \u001b[0;32melse\u001b[0m\u001b[0;34m:\u001b[0m\u001b[0;34m\u001b[0m\u001b[0;34m\u001b[0m\u001b[0m\n\u001b[0;32m--> 861\u001b[0;31m                 \u001b[0mself\u001b[0m\u001b[0;34m.\u001b[0m\u001b[0m_dispatch\u001b[0m\u001b[0;34m(\u001b[0m\u001b[0mtasks\u001b[0m\u001b[0;34m)\u001b[0m\u001b[0;34m\u001b[0m\u001b[0;34m\u001b[0m\u001b[0m\n\u001b[0m\u001b[1;32m    862\u001b[0m                 \u001b[0;32mreturn\u001b[0m \u001b[0;32mTrue\u001b[0m\u001b[0;34m\u001b[0m\u001b[0;34m\u001b[0m\u001b[0m\n\u001b[1;32m    863\u001b[0m \u001b[0;34m\u001b[0m\u001b[0m\n",
      "\u001b[0;32m/shared-libs/python3.9/py/lib/python3.9/site-packages/joblib/parallel.py\u001b[0m in \u001b[0;36m_dispatch\u001b[0;34m(self, batch)\u001b[0m\n\u001b[1;32m    777\u001b[0m         \u001b[0;32mwith\u001b[0m \u001b[0mself\u001b[0m\u001b[0;34m.\u001b[0m\u001b[0m_lock\u001b[0m\u001b[0;34m:\u001b[0m\u001b[0;34m\u001b[0m\u001b[0;34m\u001b[0m\u001b[0m\n\u001b[1;32m    778\u001b[0m             \u001b[0mjob_idx\u001b[0m \u001b[0;34m=\u001b[0m \u001b[0mlen\u001b[0m\u001b[0;34m(\u001b[0m\u001b[0mself\u001b[0m\u001b[0;34m.\u001b[0m\u001b[0m_jobs\u001b[0m\u001b[0;34m)\u001b[0m\u001b[0;34m\u001b[0m\u001b[0;34m\u001b[0m\u001b[0m\n\u001b[0;32m--> 779\u001b[0;31m             \u001b[0mjob\u001b[0m \u001b[0;34m=\u001b[0m \u001b[0mself\u001b[0m\u001b[0;34m.\u001b[0m\u001b[0m_backend\u001b[0m\u001b[0;34m.\u001b[0m\u001b[0mapply_async\u001b[0m\u001b[0;34m(\u001b[0m\u001b[0mbatch\u001b[0m\u001b[0;34m,\u001b[0m \u001b[0mcallback\u001b[0m\u001b[0;34m=\u001b[0m\u001b[0mcb\u001b[0m\u001b[0;34m)\u001b[0m\u001b[0;34m\u001b[0m\u001b[0;34m\u001b[0m\u001b[0m\n\u001b[0m\u001b[1;32m    780\u001b[0m             \u001b[0;31m# A job can complete so quickly than its callback is\u001b[0m\u001b[0;34m\u001b[0m\u001b[0;34m\u001b[0m\u001b[0m\n\u001b[1;32m    781\u001b[0m             \u001b[0;31m# called before we get here, causing self._jobs to\u001b[0m\u001b[0;34m\u001b[0m\u001b[0;34m\u001b[0m\u001b[0m\n",
      "\u001b[0;32m/shared-libs/python3.9/py/lib/python3.9/site-packages/joblib/_parallel_backends.py\u001b[0m in \u001b[0;36mapply_async\u001b[0;34m(self, func, callback)\u001b[0m\n\u001b[1;32m    206\u001b[0m     \u001b[0;32mdef\u001b[0m \u001b[0mapply_async\u001b[0m\u001b[0;34m(\u001b[0m\u001b[0mself\u001b[0m\u001b[0;34m,\u001b[0m \u001b[0mfunc\u001b[0m\u001b[0;34m,\u001b[0m \u001b[0mcallback\u001b[0m\u001b[0;34m=\u001b[0m\u001b[0;32mNone\u001b[0m\u001b[0;34m)\u001b[0m\u001b[0;34m:\u001b[0m\u001b[0;34m\u001b[0m\u001b[0;34m\u001b[0m\u001b[0m\n\u001b[1;32m    207\u001b[0m         \u001b[0;34m\"\"\"Schedule a func to be run\"\"\"\u001b[0m\u001b[0;34m\u001b[0m\u001b[0;34m\u001b[0m\u001b[0m\n\u001b[0;32m--> 208\u001b[0;31m         \u001b[0mresult\u001b[0m \u001b[0;34m=\u001b[0m \u001b[0mImmediateResult\u001b[0m\u001b[0;34m(\u001b[0m\u001b[0mfunc\u001b[0m\u001b[0;34m)\u001b[0m\u001b[0;34m\u001b[0m\u001b[0;34m\u001b[0m\u001b[0m\n\u001b[0m\u001b[1;32m    209\u001b[0m         \u001b[0;32mif\u001b[0m \u001b[0mcallback\u001b[0m\u001b[0;34m:\u001b[0m\u001b[0;34m\u001b[0m\u001b[0;34m\u001b[0m\u001b[0m\n\u001b[1;32m    210\u001b[0m             \u001b[0mcallback\u001b[0m\u001b[0;34m(\u001b[0m\u001b[0mresult\u001b[0m\u001b[0;34m)\u001b[0m\u001b[0;34m\u001b[0m\u001b[0;34m\u001b[0m\u001b[0m\n",
      "\u001b[0;32m/shared-libs/python3.9/py/lib/python3.9/site-packages/joblib/_parallel_backends.py\u001b[0m in \u001b[0;36m__init__\u001b[0;34m(self, batch)\u001b[0m\n\u001b[1;32m    570\u001b[0m         \u001b[0;31m# Don't delay the application, to avoid keeping the input\u001b[0m\u001b[0;34m\u001b[0m\u001b[0;34m\u001b[0m\u001b[0m\n\u001b[1;32m    571\u001b[0m         \u001b[0;31m# arguments in memory\u001b[0m\u001b[0;34m\u001b[0m\u001b[0;34m\u001b[0m\u001b[0m\n\u001b[0;32m--> 572\u001b[0;31m         \u001b[0mself\u001b[0m\u001b[0;34m.\u001b[0m\u001b[0mresults\u001b[0m \u001b[0;34m=\u001b[0m \u001b[0mbatch\u001b[0m\u001b[0;34m(\u001b[0m\u001b[0;34m)\u001b[0m\u001b[0;34m\u001b[0m\u001b[0;34m\u001b[0m\u001b[0m\n\u001b[0m\u001b[1;32m    573\u001b[0m \u001b[0;34m\u001b[0m\u001b[0m\n\u001b[1;32m    574\u001b[0m     \u001b[0;32mdef\u001b[0m \u001b[0mget\u001b[0m\u001b[0;34m(\u001b[0m\u001b[0mself\u001b[0m\u001b[0;34m)\u001b[0m\u001b[0;34m:\u001b[0m\u001b[0;34m\u001b[0m\u001b[0;34m\u001b[0m\u001b[0m\n",
      "\u001b[0;32m/shared-libs/python3.9/py/lib/python3.9/site-packages/joblib/parallel.py\u001b[0m in \u001b[0;36m__call__\u001b[0;34m(self)\u001b[0m\n\u001b[1;32m    260\u001b[0m         \u001b[0;31m# change the default number of processes to -1\u001b[0m\u001b[0;34m\u001b[0m\u001b[0;34m\u001b[0m\u001b[0m\n\u001b[1;32m    261\u001b[0m         \u001b[0;32mwith\u001b[0m \u001b[0mparallel_backend\u001b[0m\u001b[0;34m(\u001b[0m\u001b[0mself\u001b[0m\u001b[0;34m.\u001b[0m\u001b[0m_backend\u001b[0m\u001b[0;34m,\u001b[0m \u001b[0mn_jobs\u001b[0m\u001b[0;34m=\u001b[0m\u001b[0mself\u001b[0m\u001b[0;34m.\u001b[0m\u001b[0m_n_jobs\u001b[0m\u001b[0;34m)\u001b[0m\u001b[0;34m:\u001b[0m\u001b[0;34m\u001b[0m\u001b[0;34m\u001b[0m\u001b[0m\n\u001b[0;32m--> 262\u001b[0;31m             return [func(*args, **kwargs)\n\u001b[0m\u001b[1;32m    263\u001b[0m                     for func, args, kwargs in self.items]\n\u001b[1;32m    264\u001b[0m \u001b[0;34m\u001b[0m\u001b[0m\n",
      "\u001b[0;32m/shared-libs/python3.9/py/lib/python3.9/site-packages/joblib/parallel.py\u001b[0m in \u001b[0;36m<listcomp>\u001b[0;34m(.0)\u001b[0m\n\u001b[1;32m    260\u001b[0m         \u001b[0;31m# change the default number of processes to -1\u001b[0m\u001b[0;34m\u001b[0m\u001b[0;34m\u001b[0m\u001b[0m\n\u001b[1;32m    261\u001b[0m         \u001b[0;32mwith\u001b[0m \u001b[0mparallel_backend\u001b[0m\u001b[0;34m(\u001b[0m\u001b[0mself\u001b[0m\u001b[0;34m.\u001b[0m\u001b[0m_backend\u001b[0m\u001b[0;34m,\u001b[0m \u001b[0mn_jobs\u001b[0m\u001b[0;34m=\u001b[0m\u001b[0mself\u001b[0m\u001b[0;34m.\u001b[0m\u001b[0m_n_jobs\u001b[0m\u001b[0;34m)\u001b[0m\u001b[0;34m:\u001b[0m\u001b[0;34m\u001b[0m\u001b[0;34m\u001b[0m\u001b[0m\n\u001b[0;32m--> 262\u001b[0;31m             return [func(*args, **kwargs)\n\u001b[0m\u001b[1;32m    263\u001b[0m                     for func, args, kwargs in self.items]\n\u001b[1;32m    264\u001b[0m \u001b[0;34m\u001b[0m\u001b[0m\n",
      "\u001b[0;32m/shared-libs/python3.9/py/lib/python3.9/site-packages/sklearn/utils/fixes.py\u001b[0m in \u001b[0;36m__call__\u001b[0;34m(self, *args, **kwargs)\u001b[0m\n\u001b[1;32m    115\u001b[0m     \u001b[0;32mdef\u001b[0m \u001b[0m__call__\u001b[0m\u001b[0;34m(\u001b[0m\u001b[0mself\u001b[0m\u001b[0;34m,\u001b[0m \u001b[0;34m*\u001b[0m\u001b[0margs\u001b[0m\u001b[0;34m,\u001b[0m \u001b[0;34m**\u001b[0m\u001b[0mkwargs\u001b[0m\u001b[0;34m)\u001b[0m\u001b[0;34m:\u001b[0m\u001b[0;34m\u001b[0m\u001b[0;34m\u001b[0m\u001b[0m\n\u001b[1;32m    116\u001b[0m         \u001b[0;32mwith\u001b[0m \u001b[0mconfig_context\u001b[0m\u001b[0;34m(\u001b[0m\u001b[0;34m**\u001b[0m\u001b[0mself\u001b[0m\u001b[0;34m.\u001b[0m\u001b[0mconfig\u001b[0m\u001b[0;34m)\u001b[0m\u001b[0;34m:\u001b[0m\u001b[0;34m\u001b[0m\u001b[0;34m\u001b[0m\u001b[0m\n\u001b[0;32m--> 117\u001b[0;31m             \u001b[0;32mreturn\u001b[0m \u001b[0mself\u001b[0m\u001b[0;34m.\u001b[0m\u001b[0mfunction\u001b[0m\u001b[0;34m(\u001b[0m\u001b[0;34m*\u001b[0m\u001b[0margs\u001b[0m\u001b[0;34m,\u001b[0m \u001b[0;34m**\u001b[0m\u001b[0mkwargs\u001b[0m\u001b[0;34m)\u001b[0m\u001b[0;34m\u001b[0m\u001b[0;34m\u001b[0m\u001b[0m\n\u001b[0m\u001b[1;32m    118\u001b[0m \u001b[0;34m\u001b[0m\u001b[0m\n\u001b[1;32m    119\u001b[0m \u001b[0;34m\u001b[0m\u001b[0m\n",
      "\u001b[0;32m/shared-libs/python3.9/py/lib/python3.9/site-packages/sklearn/neighbors/_base.py\u001b[0m in \u001b[0;36m_tree_query_parallel_helper\u001b[0;34m(tree, *args, **kwargs)\u001b[0m\n\u001b[1;32m    621\u001b[0m     \u001b[0munder\u001b[0m \u001b[0mPyPy\u001b[0m\u001b[0;34m.\u001b[0m\u001b[0;34m\u001b[0m\u001b[0;34m\u001b[0m\u001b[0m\n\u001b[1;32m    622\u001b[0m     \"\"\"\n\u001b[0;32m--> 623\u001b[0;31m     \u001b[0;32mreturn\u001b[0m \u001b[0mtree\u001b[0m\u001b[0;34m.\u001b[0m\u001b[0mquery\u001b[0m\u001b[0;34m(\u001b[0m\u001b[0;34m*\u001b[0m\u001b[0margs\u001b[0m\u001b[0;34m,\u001b[0m \u001b[0;34m**\u001b[0m\u001b[0mkwargs\u001b[0m\u001b[0;34m)\u001b[0m\u001b[0;34m\u001b[0m\u001b[0;34m\u001b[0m\u001b[0m\n\u001b[0m\u001b[1;32m    624\u001b[0m \u001b[0;34m\u001b[0m\u001b[0m\n\u001b[1;32m    625\u001b[0m \u001b[0;34m\u001b[0m\u001b[0m\n",
      "\u001b[0;31mKeyboardInterrupt\u001b[0m: "
     ]
    }
   ]
  },
  {
   "cell_type": "code",
   "metadata": {
    "colab": {
     "base_uri": "https://localhost:8080/",
     "height": 334
    },
    "id": "-Qrn8eYEJF8G",
    "executionInfo": {
     "status": "ok",
     "timestamp": 1657946369557,
     "user_tz": 180,
     "elapsed": 29,
     "user": {
      "displayName": "William Wallace",
      "userId": "02462327362597608294"
     }
    },
    "outputId": "cb91bb9c-542d-41b6-93f0-234c09d91817",
    "cell_id": "00035-1a9ab9c2-3cd6-4ffd-b682-08d82fbc4489",
    "deepnote_to_be_reexecuted": true,
    "source_hash": "4abe785a",
    "deepnote_cell_type": "code",
    "deepnote_cell_height": 486.234375,
    "deepnote_output_heights": [
     245.234375
    ]
   },
   "source": "# veamos que paso en cada caso\nf, ax = plt.subplots(1,2,figsize=(14,5),sharey=True)\nax[0].plot(valores_k, resultados_train_u, valores_k, resultados_test_u);\nax[0].legend(['pesos uniformes - train', 'pesos uniformes - test']);\nax[0].set(xlabel='k',ylabel='accuracy');\n\nax[1].plot(valores_k, resultados_train_w, valores_k, resultados_test_w);\nax[1].legend(['pesos distancia - train', 'pesos distancia - test']);\nax[1].set(xlabel='k');",
   "execution_count": null,
   "outputs": [
    {
     "output_type": "display_data",
     "data": {
      "text/plain": "<Figure size 1008x360 with 2 Axes>",
      "image/png": "[encoded data removed]"
     },
     "metadata": {
      "needs_background": "light",
      "image/png": {
       "width": 838,
       "height": 317
      }
     }
    }
   ]
  },
  {
   "cell_type": "code",
   "metadata": {
    "id": "avVFVuvuJ5Of",
    "executionInfo": {
     "status": "ok",
     "timestamp": 1657946369558,
     "user_tz": 180,
     "elapsed": 24,
     "user": {
      "displayName": "William Wallace",
      "userId": "02462327362597608294"
     }
    },
    "cell_id": "00036-4f906950-7284-4854-8276-944fc9b7f3d2",
    "deepnote_to_be_reexecuted": true,
    "source_hash": "9f684f31",
    "deepnote_cell_type": "code",
    "deepnote_cell_height": 81
   },
   "source": "from sklearn.model_selection import train_test_split, GridSearchCV, cross_val_score, KFold",
   "execution_count": null,
   "outputs": []
  },
  {
   "cell_type": "code",
   "metadata": {
    "colab": {
     "base_uri": "https://localhost:8080/",
     "height": 382
    },
    "id": "NKbX6lJLJVRO",
    "executionInfo": {
     "status": "ok",
     "timestamp": 1657946542685,
     "user_tz": 180,
     "elapsed": 173150,
     "user": {
      "displayName": "William Wallace",
      "userId": "02462327362597608294"
     }
    },
    "outputId": "ebc0af89-d696-4eb0-a33f-5c2ed951acbe",
    "cell_id": "00037-dc172dd7-f0a9-4aec-9271-368db6de4401",
    "deepnote_to_be_reexecuted": true,
    "source_hash": "887467f7",
    "deepnote_cell_type": "code",
    "deepnote_cell_height": 424.1875
   },
   "source": "# ahora busquemos nuestro mejor modelo usando validacion cruzada y gridsearchcv pero incluyamos otra distancia!\nmodel = KNeighborsClassifier()\nn_neighbors = np.array([1,2,3,5,8,10,15,20,30,50])\nparam_grid = {'n_neighbors': n_neighbors, \n              'weights':['uniform', 'distance'], \n              'metric':['euclidean', 'chebyshev', 'manhattan']}\ngrid = GridSearchCV(estimator=model, param_grid=param_grid)\ngrid.fit(X_train, y_train)\nprint(grid.best_params_)\npd.DataFrame(grid.cv_results_).sample(3)",
   "execution_count": null,
   "outputs": [
    {
     "output_type": "stream",
     "name": "stdout",
     "text": "{'metric': 'manhattan', 'n_neighbors': 50, 'weights': 'uniform'}\n"
    },
    {
     "output_type": "execute_result",
     "data": {
      "text/plain": "    mean_fit_time  std_fit_time  mean_score_time  std_score_time param_metric  \\\n25       0.015808      0.000224         0.490445        0.007705    chebyshev   \n52       0.015598      0.000267         0.687061        0.005655    manhattan   \n58       0.015429      0.000157         0.719325        0.005182    manhattan   \n\n   param_n_neighbors param_weights  \\\n25                 3      distance   \n52                15       uniform   \n58                50       uniform   \n\n                                               params  split0_test_score  \\\n25  {'metric': 'chebyshev', 'n_neighbors': 3, 'wei...           0.631767   \n52  {'metric': 'manhattan', 'n_neighbors': 15, 'we...           0.703899   \n58  {'metric': 'manhattan', 'n_neighbors': 50, 'we...           0.710327   \n\n    split1_test_score  split2_test_score  split3_test_score  \\\n25           0.645429           0.664000           0.693857   \n52           0.709429           0.702143           0.706000   \n58           0.710714           0.710857           0.710714   \n\n    split4_test_score  mean_test_score  std_test_score  rank_test_score  \n25           0.659286         0.658868        0.020813               52  \n52           0.708714         0.706037        0.002771               10  \n58           0.710571         0.710637        0.000179                1  ",
      "text/html": "\n  <div id=\"df-f95bdff6-6601-4db7-94fc-120f443f0663\">\n    <div class=\"colab-df-container\">\n      <div>\n<style scoped>\n    .dataframe tbody tr th:only-of-type {\n        vertical-align: middle;\n    }\n\n    .dataframe tbody tr th {\n        vertical-align: top;\n    }\n\n    .dataframe thead th {\n        text-align: right;\n    }\n</style>\n<table border=\"1\" class=\"dataframe\">\n  <thead>\n    <tr style=\"text-align: right;\">\n      <th></th>\n      <th>mean_fit_time</th>\n      <th>std_fit_time</th>\n      <th>mean_score_time</th>\n      <th>std_score_time</th>\n      <th>param_metric</th>\n      <th>param_n_neighbors</th>\n      <th>param_weights</th>\n      <th>params</th>\n      <th>split0_test_score</th>\n      <th>split1_test_score</th>\n      <th>split2_test_score</th>\n      <th>split3_test_score</th>\n      <th>split4_test_score</th>\n      <th>mean_test_score</th>\n      <th>std_test_score</th>\n      <th>rank_test_score</th>\n    </tr>\n  </thead>\n  <tbody>\n    <tr>\n      <th>25</th>\n      <td>0.015808</td>\n      <td>0.000224</td>\n      <td>0.490445</td>\n      <td>0.007705</td>\n      <td>chebyshev</td>\n      <td>3</td>\n      <td>distance</td>\n      <td>{'metric': 'chebyshev', 'n_neighbors': 3, 'wei...</td>\n      <td>0.631767</td>\n      <td>0.645429</td>\n      <td>0.664000</td>\n      <td>0.693857</td>\n      <td>0.659286</td>\n      <td>0.658868</td>\n      <td>0.020813</td>\n      <td>52</td>\n    </tr>\n    <tr>\n      <th>52</th>\n      <td>0.015598</td>\n      <td>0.000267</td>\n      <td>0.687061</td>\n      <td>0.005655</td>\n      <td>manhattan</td>\n      <td>15</td>\n      <td>uniform</td>\n      <td>{'metric': 'manhattan', 'n_neighbors': 15, 'we...</td>\n      <td>0.703899</td>\n      <td>0.709429</td>\n      <td>0.702143</td>\n      <td>0.706000</td>\n      <td>0.708714</td>\n      <td>0.706037</td>\n      <td>0.002771</td>\n      <td>10</td>\n    </tr>\n    <tr>\n      <th>58</th>\n      <td>0.015429</td>\n      <td>0.000157</td>\n      <td>0.719325</td>\n      <td>0.005182</td>\n      <td>manhattan</td>\n      <td>50</td>\n      <td>uniform</td>\n      <td>{'metric': 'manhattan', 'n_neighbors': 50, 'we...</td>\n      <td>0.710327</td>\n      <td>0.710714</td>\n      <td>0.710857</td>\n      <td>0.710714</td>\n      <td>0.710571</td>\n      <td>0.710637</td>\n      <td>0.000179</td>\n      <td>1</td>\n    </tr>\n  </tbody>\n</table>\n</div>\n      <button class=\"colab-df-convert\" onclick=\"convertToInteractive('df-f95bdff6-6601-4db7-94fc-120f443f0663')\"\n              title=\"Convert this dataframe to an interactive table.\"\n              style=\"display:none;\">\n        \n  <svg xmlns=\"http://www.w3.org/2000/svg\" height=\"24px\"viewBox=\"0 0 24 24\"\n       width=\"24px\">\n    <path d=\"M0 0h24v24H0V0z\" fill=\"none\"/>\n    <path d=\"M18.56 5.44l.94 2.06.94-2.06 2.06-.94-2.06-.94-.94-2.06-.94 2.06-2.06.94zm-11 1L8.5 8.5l.94-2.06 2.06-.94-2.06-.94L8.5 2.5l-.94 2.06-2.06.94zm10 10l.94 2.06.94-2.06 2.06-.94-2.06-.94-.94-2.06-.94 2.06-2.06.94z\"/><path d=\"M17.41 7.96l-1.37-1.37c-.4-.4-.92-.59-1.43-.59-.52 0-1.04.2-1.43.59L10.3 9.45l-7.72 7.72c-.78.78-.78 2.05 0 2.83L4 21.41c.39.39.9.59 1.41.59.51 0 1.02-.2 1.41-.59l7.78-7.78 2.81-2.81c.8-.78.8-2.07 0-2.86zM5.41 20L4 18.59l7.72-7.72 1.47 1.35L5.41 20z\"/>\n  </svg>\n      </button>\n      \n  <style>\n    .colab-df-container {\n      display:flex;\n      flex-wrap:wrap;\n      gap: 12px;\n    }\n\n    .colab-df-convert {\n      background-color: #E8F0FE;\n      border: none;\n      border-radius: 50%;\n      cursor: pointer;\n      display: none;\n      fill: #1967D2;\n      height: 32px;\n      padding: 0 0 0 0;\n      width: 32px;\n    }\n\n    .colab-df-convert:hover {\n      background-color: #E2EBFA;\n      box-shadow: 0px 1px 2px rgba(60, 64, 67, 0.3), 0px 1px 3px 1px rgba(60, 64, 67, 0.15);\n      fill: #174EA6;\n    }\n\n    [theme=dark] .colab-df-convert {\n      background-color: #3B4455;\n      fill: #D2E3FC;\n    }\n\n    [theme=dark] .colab-df-convert:hover {\n      background-color: #434B5C;\n      box-shadow: 0px 1px 3px 1px rgba(0, 0, 0, 0.15);\n      filter: drop-shadow(0px 1px 2px rgba(0, 0, 0, 0.3));\n      fill: #FFFFFF;\n    }\n  </style>\n\n      <script>\n        const buttonEl =\n          document.querySelector('#df-f95bdff6-6601-4db7-94fc-120f443f0663 button.colab-df-convert');\n        buttonEl.style.display =\n          google.colab.kernel.accessAllowed ? 'block' : 'none';\n\n        async function convertToInteractive(key) {\n          const element = document.querySelector('#df-f95bdff6-6601-4db7-94fc-120f443f0663');\n          const dataTable =\n            await google.colab.kernel.invokeFunction('convertToInteractive',\n                                                     [key], {});\n          if (!dataTable) return;\n\n          const docLinkHtml = 'Like what you see? Visit the ' +\n            '<a target=\"_blank\" href=https://colab.research.google.com/notebooks/data_table.ipynb>data table notebook</a>'\n            + ' to learn more about interactive tables.';\n          element.innerHTML = '';\n          dataTable['output_type'] = 'display_data';\n          await google.colab.output.renderOutput(dataTable, element);\n          const docLink = document.createElement('div');\n          docLink.innerHTML = docLinkHtml;\n          element.appendChild(docLink);\n        }\n      </script>\n    </div>\n  </div>\n  "
     },
     "metadata": {},
     "execution_count": 36
    }
   ]
  },
  {
   "cell_type": "markdown",
   "source": "### RANDOM FOREST",
   "metadata": {
    "id": "pmeTbcZ4LZJs",
    "cell_id": "00038-1b3b1402-7002-40b8-982b-3494d56ffe85",
    "deepnote_cell_type": "markdown",
    "deepnote_cell_height": 62
   }
  },
  {
   "cell_type": "code",
   "metadata": {
    "id": "An-Yld_aLNcK",
    "executionInfo": {
     "status": "ok",
     "timestamp": 1657946542689,
     "user_tz": 180,
     "elapsed": 30,
     "user": {
      "displayName": "William Wallace",
      "userId": "02462327362597608294"
     }
    },
    "cell_id": "00039-1a54412d-3265-4fe3-b65c-d86341780057",
    "deepnote_to_be_reexecuted": true,
    "source_hash": "9f37708d",
    "deepnote_cell_type": "code",
    "deepnote_cell_height": 171
   },
   "source": "#Carga de las librerías\nimport urllib.request\nimport pandas as pd\nfrom sklearn.model_selection import train_test_split\nfrom sklearn.ensemble import RandomForestClassifier\nfrom sklearn.tree import DecisionTreeClassifier",
   "execution_count": null,
   "outputs": []
  },
  {
   "cell_type": "code",
   "metadata": {
    "colab": {
     "base_uri": "https://localhost:8080/"
    },
    "id": "yeuncTMKLhPN",
    "executionInfo": {
     "status": "ok",
     "timestamp": 1657946545501,
     "user_tz": 180,
     "elapsed": 2839,
     "user": {
      "displayName": "William Wallace",
      "userId": "02462327362597608294"
     }
    },
    "outputId": "68c8ebbb-7ad5-48d0-e084-3ee3bd452a6e",
    "cell_id": "00040-c71a5d21-862a-4b66-926a-d8b2c10fd1ae",
    "deepnote_to_be_reexecuted": true,
    "source_hash": "5ed64aeb",
    "deepnote_cell_type": "code",
    "deepnote_cell_height": 191
   },
   "source": "#Creamos un random forest!\nmodel = RandomForestClassifier(random_state=11, n_estimators=200,\n                               class_weight=\"balanced\", max_features=\"log2\")\nmodel.fit(X_train, y_train)",
   "execution_count": null,
   "outputs": [
    {
     "output_type": "execute_result",
     "data": {
      "text/plain": "RandomForestClassifier(class_weight='balanced', max_features='log2',\n                       n_estimators=200, random_state=11)"
     },
     "metadata": {},
     "execution_count": 38
    }
   ]
  },
  {
   "cell_type": "code",
   "metadata": {
    "id": "4ld97UaeLtYM",
    "executionInfo": {
     "status": "ok",
     "timestamp": 1657946547805,
     "user_tz": 180,
     "elapsed": 2317,
     "user": {
      "displayName": "William Wallace",
      "userId": "02462327362597608294"
     }
    },
    "cell_id": "00041-c59e5200-e199-4c39-b76f-968539202249",
    "deepnote_to_be_reexecuted": true,
    "source_hash": "43cafc5a",
    "deepnote_cell_type": "code",
    "deepnote_cell_height": 99
   },
   "source": "y_train_pred = model.predict(X_train) #Prediccion en Train\ny_test_pred = model.predict(X_test) #Prediccion en Test",
   "execution_count": null,
   "outputs": []
  },
  {
   "cell_type": "code",
   "metadata": {
    "colab": {
     "base_uri": "https://localhost:8080/"
    },
    "id": "Qxh7ZFSCLw_t",
    "executionInfo": {
     "status": "ok",
     "timestamp": 1657946547806,
     "user_tz": 180,
     "elapsed": 9,
     "user": {
      "displayName": "William Wallace",
      "userId": "02462327362597608294"
     }
    },
    "outputId": "650f4a44-5abc-4416-f20f-18a105408a17",
    "cell_id": "00042-3b830bb4-04b3-4369-8233-1a75f2c46693",
    "deepnote_to_be_reexecuted": true,
    "source_hash": "e5fe2dbd",
    "deepnote_cell_type": "code",
    "deepnote_cell_height": 294.375
   },
   "source": "from sklearn.metrics import accuracy_score\n\n#Calculo el accuracy en Train\ntrain_accuracy = accuracy_score(y_train, y_train_pred)\n\n#Calculo el accuracy en Test\ntest_accuracy = accuracy_score(y_test, y_test_pred)\n\nprint('% de aciertos sobre el set de entrenamiento:', train_accuracy)\nprint('% de aciertos sobre el set de evaluación:',test_accuracy)",
   "execution_count": null,
   "outputs": [
    {
     "output_type": "stream",
     "name": "stdout",
     "text": "% de aciertos sobre el set de entrenamiento: 0.5650981400531413\n% de aciertos sobre el set de evaluación: 0.5075661622558496\n"
    }
   ]
  },
  {
   "cell_type": "markdown",
   "source": "## REGRESION LOGISTICA",
   "metadata": {
    "id": "LUtWFhSBHTIK",
    "cell_id": "00043-daf52761-2537-427b-8e6d-924ba350daf1",
    "deepnote_cell_type": "markdown",
    "deepnote_cell_height": 70
   }
  },
  {
   "cell_type": "code",
   "metadata": {
    "colab": {
     "base_uri": "https://localhost:8080/"
    },
    "id": "KSRxR-NoLy4H",
    "executionInfo": {
     "status": "ok",
     "timestamp": 1657946549727,
     "user_tz": 180,
     "elapsed": 1928,
     "user": {
      "displayName": "William Wallace",
      "userId": "02462327362597608294"
     }
    },
    "outputId": "f712d0e1-fde3-402b-cb71-8b2eb038f46a",
    "cell_id": "00044-8170807d-6ec7-4eb7-a002-388cbe22b94d",
    "deepnote_to_be_reexecuted": true,
    "source_hash": "928a8e6b",
    "deepnote_cell_type": "code",
    "deepnote_cell_height": 280
   },
   "source": "#Entrenamos un modelo de regresión logística\n\n# Paso 3: importamos la clase LogisticRegresion de scikit-learn\nfrom sklearn.linear_model import LogisticRegression\n\n# Paso 4: Creamos una instancia de la Regresión Logística\nregresion_logistica = LogisticRegression()\n\n# Paso 5: Entrenamos la regresión logística con los datos de entrenamiento\nregresion_logistica.fit(X,y)",
   "execution_count": null,
   "outputs": [
    {
     "output_type": "execute_result",
     "data": {
      "text/plain": "LogisticRegression()"
     },
     "metadata": {},
     "execution_count": 41
    }
   ]
  },
  {
   "cell_type": "code",
   "metadata": {
    "id": "1i-h0wQlHYAW",
    "executionInfo": {
     "status": "ok",
     "timestamp": 1657946549728,
     "user_tz": 180,
     "elapsed": 21,
     "user": {
      "displayName": "William Wallace",
      "userId": "02462327362597608294"
     }
    },
    "cell_id": "00045-956c7916-d35f-460e-b503-9acca7cbe318",
    "deepnote_to_be_reexecuted": true,
    "source_hash": "c77276ae",
    "deepnote_cell_type": "code",
    "deepnote_cell_height": 99
   },
   "source": "y_train_pred = regresion_logistica.predict(X_train) #Prediccion en Train\ny_test_pred = regresion_logistica.predict(X_test) #Prediccion en Test",
   "execution_count": null,
   "outputs": []
  },
  {
   "cell_type": "code",
   "metadata": {
    "colab": {
     "base_uri": "https://localhost:8080/"
    },
    "id": "LPIHworpHkeH",
    "executionInfo": {
     "status": "ok",
     "timestamp": 1657946549729,
     "user_tz": 180,
     "elapsed": 20,
     "user": {
      "displayName": "William Wallace",
      "userId": "02462327362597608294"
     }
    },
    "outputId": "858e6c16-f78e-4065-a6bc-1b79e82ce3bf",
    "cell_id": "00046-3b9629d3-d568-40ab-8076-67ea4237ff86",
    "deepnote_to_be_reexecuted": true,
    "source_hash": "e5fe2dbd",
    "deepnote_cell_type": "code",
    "deepnote_cell_height": 294.375
   },
   "source": "from sklearn.metrics import accuracy_score\n\n#Calculo el accuracy en Train\ntrain_accuracy = accuracy_score(y_train, y_train_pred)\n\n#Calculo el accuracy en Test\ntest_accuracy = accuracy_score(y_test, y_test_pred)\n\nprint('% de aciertos sobre el set de entrenamiento:', train_accuracy)\nprint('% de aciertos sobre el set de evaluación:',test_accuracy)",
   "execution_count": null,
   "outputs": [
    {
     "output_type": "stream",
     "name": "stdout",
     "text": "% de aciertos sobre el set de entrenamiento: 0.7108939744578726\n% de aciertos sobre el set de evaluación: 0.6978201453236451\n"
    }
   ]
  },
  {
   "cell_type": "code",
   "metadata": {
    "id": "eC4907uHH7Ag",
    "executionInfo": {
     "status": "ok",
     "timestamp": 1657946549730,
     "user_tz": 180,
     "elapsed": 17,
     "user": {
      "displayName": "William Wallace",
      "userId": "02462327362597608294"
     }
    },
    "cell_id": "00047-6a311176-d4d5-41c2-a392-c32c31dce971",
    "deepnote_to_be_reexecuted": true,
    "source_hash": "b623e53d",
    "deepnote_cell_type": "code",
    "deepnote_cell_height": 81
   },
   "source": "",
   "execution_count": null,
   "outputs": []
  },
  {
   "cell_type": "markdown",
   "source": "<a style='text-decoration:none;line-height:16px;display:flex;color:#5B5B62;padding:10px;justify-content:end;' href='https://deepnote.com?utm_source=created-in-deepnote-cell&projectId=1678f438-dd57-41c5-b88b-bfcde7b7ccb5' target=\"_blank\">\n<img alt='Created in deepnote.com' style='display:inline;max-height:16px;margin:0px;margin-right:7.5px;' src='data:image/svg+xml;base64,PD94bWwgdmVyc2lvbj0iMS4wIiBlbmNvZGluZz0iVVRGLTgiPz4KPHN2ZyB3aWR0aD0iODBweCIgaGVpZ2h0PSI4MHB4IiB2aWV3Qm94PSIwIDAgODAgODAiIHZlcnNpb249IjEuMSIgeG1sbnM9Imh0dHA6Ly93d3cudzMub3JnLzIwMDAvc3ZnIiB4bWxuczp4bGluaz0iaHR0cDovL3d3dy53My5vcmcvMTk5OS94bGluayI+CiAgICA8IS0tIEdlbmVyYXRvcjogU2tldGNoIDU0LjEgKDc2NDkwKSAtIGh0dHBzOi8vc2tldGNoYXBwLmNvbSAtLT4KICAgIDx0aXRsZT5Hcm91cCAzPC90aXRsZT4KICAgIDxkZXNjPkNyZWF0ZWQgd2l0aCBTa2V0Y2guPC9kZXNjPgogICAgPGcgaWQ9IkxhbmRpbmciIHN0cm9rZT0ibm9uZSIgc3Ryb2tlLXdpZHRoPSIxIiBmaWxsPSJub25lIiBmaWxsLXJ1bGU9ImV2ZW5vZGQiPgogICAgICAgIDxnIGlkPSJBcnRib2FyZCIgdHJhbnNmb3JtPSJ0cmFuc2xhdGUoLTEyMzUuMDAwMDAwLCAtNzkuMDAwMDAwKSI+CiAgICAgICAgICAgIDxnIGlkPSJHcm91cC0zIiB0cmFuc2Zvcm09InRyYW5zbGF0ZSgxMjM1LjAwMDAwMCwgNzkuMDAwMDAwKSI+CiAgICAgICAgICAgICAgICA8cG9seWdvbiBpZD0iUGF0aC0yMCIgZmlsbD0iIzAyNjVCNCIgcG9pbnRzPSIyLjM3NjIzNzYyIDgwIDM4LjA0NzY2NjcgODAgNTcuODIxNzgyMiA3My44MDU3NTkyIDU3LjgyMTc4MjIgMzIuNzU5MjczOSAzOS4xNDAyMjc4IDMxLjY4MzE2ODMiPjwvcG9seWdvbj4KICAgICAgICAgICAgICAgIDxwYXRoIGQ9Ik0zNS4wMDc3MTgsODAgQzQyLjkwNjIwMDcsNzYuNDU0OTM1OCA0Ny41NjQ5MTY3LDcxLjU0MjI2NzEgNDguOTgzODY2LDY1LjI2MTk5MzkgQzUxLjExMjI4OTksNTUuODQxNTg0MiA0MS42NzcxNzk1LDQ5LjIxMjIyODQgMjUuNjIzOTg0Niw0OS4yMTIyMjg0IEMyNS40ODQ5Mjg5LDQ5LjEyNjg0NDggMjkuODI2MTI5Niw0My4yODM4MjQ4IDM4LjY0NzU4NjksMzEuNjgzMTY4MyBMNzIuODcxMjg3MSwzMi41NTQ0MjUgTDY1LjI4MDk3Myw2Ny42NzYzNDIxIEw1MS4xMTIyODk5LDc3LjM3NjE0NCBMMzUuMDA3NzE4LDgwIFoiIGlkPSJQYXRoLTIyIiBmaWxsPSIjMDAyODY4Ij48L3BhdGg+CiAgICAgICAgICAgICAgICA8cGF0aCBkPSJNMCwzNy43MzA0NDA1IEwyNy4xMTQ1MzcsMC4yNTcxMTE0MzYgQzYyLjM3MTUxMjMsLTEuOTkwNzE3MDEgODAsMTAuNTAwMzkyNyA4MCwzNy43MzA0NDA1IEM4MCw2NC45NjA0ODgyIDY0Ljc3NjUwMzgsNzkuMDUwMzQxNCAzNC4zMjk1MTEzLDgwIEM0Ny4wNTUzNDg5LDc3LjU2NzA4MDggNTMuNDE4MjY3Nyw3MC4zMTM2MTAzIDUzLjQxODI2NzcsNTguMjM5NTg4NSBDNTMuNDE4MjY3Nyw0MC4xMjg1NTU3IDM2LjMwMzk1NDQsMzcuNzMwNDQwNSAyNS4yMjc0MTcsMzcuNzMwNDQwNSBDMTcuODQzMDU4NiwzNy43MzA0NDA1IDkuNDMzOTE5NjYsMzcuNzMwNDQwNSAwLDM3LjczMDQ0MDUgWiIgaWQ9IlBhdGgtMTkiIGZpbGw9IiMzNzkzRUYiPjwvcGF0aD4KICAgICAgICAgICAgPC9nPgogICAgICAgIDwvZz4KICAgIDwvZz4KPC9zdmc+' > </img>\nCreated in <span style='font-weight:600;margin-left:4px;'>Deepnote</span></a>",
   "metadata": {
    "tags": [],
    "created_in_deepnote_cell": true,
    "deepnote_cell_type": "markdown"
   }
  }
 ],
 "nbformat": 4,
 "nbformat_minor": 0,
 "metadata": {
  "colab": {
   "name": "Algoritimos_de_clasificacion_+_Lopez,_Gomez,_Nesci,_Robert.ipynb",
   "provenance": [],
   "collapsed_sections": [],
   "mount_file_id": "1MAEWkIefJoTNJEsrTiVgKYJBtrnQcbuL",
   "authorship_tag": "ABX9TyPhzMI+G1fy53ZCtQbGnErI"
  },
  "kernelspec": {
   "name": "python3",
   "display_name": "Python 3"
  },
  "language_info": {
   "name": "python"
  },
  "deepnote_notebook_id": "ffa37b3b-e21d-438d-b47a-d560cd648d3c",
  "deepnote": {},
  "deepnote_execution_queue": []
 }
}